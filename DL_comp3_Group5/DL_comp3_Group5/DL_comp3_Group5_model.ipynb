{
 "cells": [
  {
   "cell_type": "code",
   "execution_count": 1,
   "id": "a3af4b26",
   "metadata": {},
   "outputs": [
    {
     "name": "stderr",
     "output_type": "stream",
     "text": [
      "2022-01-01 17:42:44.178302: I tensorflow/stream_executor/platform/default/dso_loader.cc:54] Successfully opened dynamic library libcudart.so.11.0\n"
     ]
    }
   ],
   "source": [
    "from __future__ import absolute_import, division, print_function, unicode_literals\n",
    "import tensorflow as tf\n",
    "from tensorflow.keras import layers\n",
    "import os\n",
    "os.environ['TF_CPP_MIN_LOG_LEVEL'] = '3' # disable warnings, info and errors \n",
    "import string\n",
    "import matplotlib.pyplot as plt\n",
    "import numpy as np\n",
    "import pandas as pd\n",
    "import PIL\n",
    "import random\n",
    "import time\n",
    "from pathlib import Path\n",
    "\n",
    "import re\n",
    "from IPython import display\n",
    "import tqdm"
   ]
  },
  {
   "cell_type": "code",
   "execution_count": 2,
   "id": "4c5d1e2a",
   "metadata": {},
   "outputs": [
    {
     "name": "stdout",
     "output_type": "stream",
     "text": [
      "/work/michael1017/data/comp3\n"
     ]
    }
   ],
   "source": [
    "cd /home/michael1017/work/data/comp3"
   ]
  },
  {
   "cell_type": "code",
   "execution_count": 3,
   "id": "903de043",
   "metadata": {},
   "outputs": [
    {
     "name": "stdout",
     "output_type": "stream",
     "text": [
      "1 Physical GPUs, 1 Logical GPUs\n"
     ]
    },
    {
     "name": "stderr",
     "output_type": "stream",
     "text": [
      "2022-01-01 17:42:45.550664: I tensorflow/stream_executor/platform/default/dso_loader.cc:54] Successfully opened dynamic library libcuda.so.1\n",
      "2022-01-01 17:42:45.630519: I tensorflow/core/common_runtime/gpu/gpu_device.cc:1734] Found device 0 with properties: \n",
      "pciBusID: 0000:3d:00.0 name: Tesla V100-SXM2-32GB computeCapability: 7.0\n",
      "coreClock: 1.53GHz coreCount: 80 deviceMemorySize: 31.75GiB deviceMemoryBandwidth: 836.37GiB/s\n",
      "2022-01-01 17:42:45.630557: I tensorflow/stream_executor/platform/default/dso_loader.cc:54] Successfully opened dynamic library libcudart.so.11.0\n",
      "2022-01-01 17:42:45.637197: I tensorflow/stream_executor/platform/default/dso_loader.cc:54] Successfully opened dynamic library libcublas.so.11\n",
      "2022-01-01 17:42:45.637252: I tensorflow/stream_executor/platform/default/dso_loader.cc:54] Successfully opened dynamic library libcublasLt.so.11\n",
      "2022-01-01 17:42:45.639705: I tensorflow/stream_executor/platform/default/dso_loader.cc:54] Successfully opened dynamic library libcufft.so.10\n",
      "2022-01-01 17:42:45.640009: I tensorflow/stream_executor/platform/default/dso_loader.cc:54] Successfully opened dynamic library libcurand.so.10\n",
      "2022-01-01 17:42:45.640859: I tensorflow/stream_executor/platform/default/dso_loader.cc:54] Successfully opened dynamic library libcutensor.so.1\n",
      "2022-01-01 17:42:45.641451: I tensorflow/stream_executor/platform/default/dso_loader.cc:54] Successfully opened dynamic library libcusolver.so.11\n",
      "2022-01-01 17:42:45.642459: I tensorflow/stream_executor/platform/default/dso_loader.cc:54] Successfully opened dynamic library libcusparse.so.11\n",
      "2022-01-01 17:42:45.642618: I tensorflow/stream_executor/platform/default/dso_loader.cc:54] Successfully opened dynamic library libcudnn.so.8\n",
      "2022-01-01 17:42:45.645584: I tensorflow/core/common_runtime/gpu/gpu_device.cc:1872] Adding visible gpu devices: 0\n",
      "2022-01-01 17:42:45.654912: I tensorflow/core/common_runtime/gpu/gpu_device.cc:1734] Found device 0 with properties: \n",
      "pciBusID: 0000:3d:00.0 name: Tesla V100-SXM2-32GB computeCapability: 7.0\n",
      "coreClock: 1.53GHz coreCount: 80 deviceMemorySize: 31.75GiB deviceMemoryBandwidth: 836.37GiB/s\n",
      "2022-01-01 17:42:45.659237: I tensorflow/core/common_runtime/gpu/gpu_device.cc:1872] Adding visible gpu devices: 0\n",
      "2022-01-01 17:42:45.659268: I tensorflow/stream_executor/platform/default/dso_loader.cc:54] Successfully opened dynamic library libcudart.so.11.0\n",
      "2022-01-01 17:42:46.206915: I tensorflow/core/common_runtime/gpu/gpu_device.cc:1258] Device interconnect StreamExecutor with strength 1 edge matrix:\n",
      "2022-01-01 17:42:46.206945: I tensorflow/core/common_runtime/gpu/gpu_device.cc:1264]      0 \n",
      "2022-01-01 17:42:46.206954: I tensorflow/core/common_runtime/gpu/gpu_device.cc:1277] 0:   N \n",
      "2022-01-01 17:42:46.211413: I tensorflow/core/common_runtime/gpu/gpu_device.cc:1418] Created TensorFlow device (/job:localhost/replica:0/task:0/device:GPU:0 with 31001 MB memory) -> physical GPU (device: 0, name: Tesla V100-SXM2-32GB, pci bus id: 0000:3d:00.0, compute capability: 7.0)\n",
      "2022-01-01 17:42:46.211692: I tensorflow/core/common_runtime/process_util.cc:146] Creating new thread pool with default inter op setting: 4. Tune using inter_op_parallelism_threads for best performance.\n"
     ]
    }
   ],
   "source": [
    "gpus = tf.config.experimental.list_physical_devices('GPU')\n",
    "if gpus:\n",
    "    try:\n",
    "        # Restrict TensorFlow to only use the first GPU\n",
    "        tf.config.experimental.set_visible_devices(gpus[0], 'GPU')\n",
    "\n",
    "        # Currently, memory growth needs to be the same across GPUs\n",
    "        for gpu in gpus:\n",
    "            tf.config.experimental.set_memory_growth(gpu, True)\n",
    "        logical_gpus = tf.config.experimental.list_logical_devices('GPU')\n",
    "        print(len(gpus), \"Physical GPUs,\", len(logical_gpus), \"Logical GPUs\")\n",
    "    except RuntimeError as e:\n",
    "        # Memory growth must be set before GPUs have been initialized\n",
    "        print(e)"
   ]
  },
  {
   "cell_type": "code",
   "execution_count": 4,
   "id": "c615e8f4",
   "metadata": {},
   "outputs": [
    {
     "name": "stdout",
     "output_type": "stream",
     "text": [
      "there are 5427 vocabularies in total\n",
      "Word to id mapping, for example: flower -> 1\n",
      "Id to word mapping, for example: 1 -> flower\n",
      "Tokens: <PAD>: 5427; <RARE>: 5428\n"
     ]
    }
   ],
   "source": [
    "dictionary_path = './dictionary'\n",
    "vocab = np.load(dictionary_path + '/vocab.npy')\n",
    "print('there are {} vocabularies in total'.format(len(vocab)))\n",
    "\n",
    "word2Id_dict = dict(np.load(dictionary_path + '/word2Id.npy'))\n",
    "id2word_dict = dict(np.load(dictionary_path + '/id2Word.npy'))\n",
    "print('Word to id mapping, for example: %s -> %s' % ('flower', word2Id_dict['flower']))\n",
    "print('Id to word mapping, for example: %s -> %s' % ('1', id2word_dict['1']))\n",
    "print('Tokens: <PAD>: %s; <RARE>: %s' % (word2Id_dict['<PAD>'], word2Id_dict['<RARE>']))"
   ]
  },
  {
   "cell_type": "code",
   "execution_count": 5,
   "id": "e2bbd1e1",
   "metadata": {},
   "outputs": [
    {
     "name": "stdout",
     "output_type": "stream",
     "text": [
      "the flower shown has yellow anther red pistil and bright red petals.\n",
      "['9', '1', '82', '5', '11', '70', '20', '31', '3', '29', '20', '2', '5427', '5427', '5427', '5427', '5427', '5427', '5427', '5427']\n"
     ]
    }
   ],
   "source": [
    "def sent2IdList(line, MAX_SEQ_LENGTH=20):\n",
    "    MAX_SEQ_LIMIT = MAX_SEQ_LENGTH\n",
    "    padding = 0\n",
    "    \n",
    "    # data preprocessing, remove all puntuation in the texts\n",
    "    prep_line = re.sub('[%s]' % re.escape(string.punctuation), ' ', line.rstrip())\n",
    "    prep_line = prep_line.replace('-', ' ')\n",
    "    prep_line = prep_line.replace('-', ' ')\n",
    "    prep_line = prep_line.replace('  ', ' ')\n",
    "    prep_line = prep_line.replace('.', '')\n",
    "    tokens = prep_line.split(' ')\n",
    "    tokens = [\n",
    "        tokens[i] for i in range(len(tokens))\n",
    "        if tokens[i] != ' ' and tokens[i] != ''\n",
    "    ]\n",
    "    l = len(tokens)\n",
    "    padding = MAX_SEQ_LIMIT - l\n",
    "    \n",
    "    # make sure length of each text is equal to MAX_SEQ_LENGTH, and replace the less common word with <RARE> token\n",
    "    for i in range(padding):\n",
    "        tokens.append('<PAD>')\n",
    "    line = [\n",
    "        word2Id_dict[tokens[k]]\n",
    "        if tokens[k] in word2Id_dict else word2Id_dict['<RARE>']\n",
    "        for k in range(len(tokens))\n",
    "    ]\n",
    "\n",
    "    return line\n",
    "\n",
    "text = \"the flower shown has yellow anther red pistil and bright red petals.\"\n",
    "print(text)\n",
    "print(sent2IdList(text))"
   ]
  },
  {
   "cell_type": "code",
   "execution_count": 6,
   "id": "b9c915bc",
   "metadata": {},
   "outputs": [
    {
     "name": "stdout",
     "output_type": "stream",
     "text": [
      "There are 70504 image in training data\n"
     ]
    }
   ],
   "source": [
    "data_path = './dataset'\n",
    "df = pd.read_pickle(data_path + '/text2ImgData_3.pkl')\n",
    "num_training_sample = len(df)\n",
    "n_images_train = num_training_sample\n",
    "print('There are %d image in training data' % (n_images_train))"
   ]
  },
  {
   "cell_type": "code",
   "execution_count": 7,
   "id": "246cc812",
   "metadata": {
    "scrolled": false
   },
   "outputs": [
    {
     "data": {
      "text/html": [
       "<div>\n",
       "<style scoped>\n",
       "    .dataframe tbody tr th:only-of-type {\n",
       "        vertical-align: middle;\n",
       "    }\n",
       "\n",
       "    .dataframe tbody tr th {\n",
       "        vertical-align: top;\n",
       "    }\n",
       "\n",
       "    .dataframe thead th {\n",
       "        text-align: right;\n",
       "    }\n",
       "</style>\n",
       "<table border=\"1\" class=\"dataframe\">\n",
       "  <thead>\n",
       "    <tr style=\"text-align: right;\">\n",
       "      <th></th>\n",
       "      <th>CaptionsPath</th>\n",
       "      <th>ImagePath</th>\n",
       "    </tr>\n",
       "  </thead>\n",
       "  <tbody>\n",
       "    <tr>\n",
       "      <th>0</th>\n",
       "      <td>/home/michael1017/work/data/comp3/elmo_feature...</td>\n",
       "      <td>./102flowers/image_06734.jpg</td>\n",
       "    </tr>\n",
       "    <tr>\n",
       "      <th>1</th>\n",
       "      <td>/home/michael1017/work/data/comp3/elmo_feature...</td>\n",
       "      <td>./102flowers/image_06734.jpg</td>\n",
       "    </tr>\n",
       "    <tr>\n",
       "      <th>2</th>\n",
       "      <td>/home/michael1017/work/data/comp3/elmo_feature...</td>\n",
       "      <td>./102flowers/image_06734.jpg</td>\n",
       "    </tr>\n",
       "    <tr>\n",
       "      <th>3</th>\n",
       "      <td>/home/michael1017/work/data/comp3/elmo_feature...</td>\n",
       "      <td>./102flowers/image_06734.jpg</td>\n",
       "    </tr>\n",
       "    <tr>\n",
       "      <th>4</th>\n",
       "      <td>/home/michael1017/work/data/comp3/elmo_feature...</td>\n",
       "      <td>./102flowers/image_06734.jpg</td>\n",
       "    </tr>\n",
       "  </tbody>\n",
       "</table>\n",
       "</div>"
      ],
      "text/plain": [
       "                                        CaptionsPath  \\\n",
       "0  /home/michael1017/work/data/comp3/elmo_feature...   \n",
       "1  /home/michael1017/work/data/comp3/elmo_feature...   \n",
       "2  /home/michael1017/work/data/comp3/elmo_feature...   \n",
       "3  /home/michael1017/work/data/comp3/elmo_feature...   \n",
       "4  /home/michael1017/work/data/comp3/elmo_feature...   \n",
       "\n",
       "                      ImagePath  \n",
       "0  ./102flowers/image_06734.jpg  \n",
       "1  ./102flowers/image_06734.jpg  \n",
       "2  ./102flowers/image_06734.jpg  \n",
       "3  ./102flowers/image_06734.jpg  \n",
       "4  ./102flowers/image_06734.jpg  "
      ]
     },
     "execution_count": 7,
     "metadata": {},
     "output_type": "execute_result"
    }
   ],
   "source": [
    "df.head(5)"
   ]
  },
  {
   "cell_type": "code",
   "execution_count": 8,
   "id": "636fd372",
   "metadata": {},
   "outputs": [
    {
     "name": "stdout",
     "output_type": "stream",
     "text": [
      "1056\n",
      "tf.Tensor([0.04699763 0.04215593 0.26952243 ... 0.01114284 0.22000797 0.46820766], shape=(1024,), dtype=float32)\n"
     ]
    },
    {
     "data": {
      "text/plain": [
       "array([0.04699763, 0.04215593, 0.26952243, ..., 0.01114284, 0.22000797,\n",
       "       0.46820766], dtype=float32)"
      ]
     },
     "execution_count": 8,
     "metadata": {},
     "output_type": "execute_result"
    }
   ],
   "source": [
    "a = tf.io.read_file(\"/home/michael1017/work/data/comp3\" + \"/elmo_features_3/\" + \"image_04150.jpg_2.npy\")\n",
    "a = tf.io.decode_raw(a, tf.float32)\n",
    "npshape =1024\n",
    "tensorshape = a.shape[0]\n",
    "print(tensorshape)\n",
    "tensorshape - npshape\n",
    "a = a[tensorshape - npshape:] # npy value\n",
    "# a = tf.reshape(\n",
    "#     a, [20,1024], name=None\n",
    "# )\n",
    "print(a)\n",
    "np.load(\"/home/michael1017/work/data/comp3\" + \"/elmo_features_3/\" + \"image_04150.jpg_2.npy\")\n",
    "#initialize the variable"
   ]
  },
  {
   "cell_type": "code",
   "execution_count": 9,
   "id": "7c858435",
   "metadata": {},
   "outputs": [],
   "source": [
    "# in this competition, you have to generate image in size 64x64x3\n",
    "IMG_H = 64\n",
    "IMG_W = 64\n",
    "IMAGE_CHANNEL = 3\n",
    "\n",
    "# Load the numpy files\n",
    "def map_func(img, cap):\n",
    "    text_tensor = np.load(cap)\n",
    "    return img, text_tensor\n",
    "\n",
    "\n",
    "\n",
    "def training_data_generator(caption, image_path, wrong_img_path):\n",
    "    # load in the image according to image path\n",
    "    img = tf.io.read_file(image_path)\n",
    "    img = tf.image.decode_jpeg(img, channels=3)\n",
    "    short_side = tf.minimum(tf.shape(img)[0], tf.shape(img)[1])\n",
    "    img = tf.image.resize_with_crop_or_pad(img, short_side, short_side)\n",
    "    img = tf.image.random_flip_left_right(img)\n",
    "    img = tf.image.resize(img, [IMG_H, IMG_W])\n",
    "    img = tf.cast(img, tf.float32)\n",
    "    img = tf.clip_by_value(img, 0, 255)\n",
    "    img = img/127.5 - 1.0\n",
    "    \n",
    "    wrong_img = tf.io.read_file(wrong_img_path)\n",
    "    wrong_img = tf.image.decode_jpeg(wrong_img, channels=3)\n",
    "    short_side = tf.minimum(tf.shape(wrong_img)[0], tf.shape(wrong_img)[1])\n",
    "    wrong_img = tf.image.resize_with_crop_or_pad(wrong_img, short_side, short_side)\n",
    "    wrong_img = tf.image.random_flip_left_right(wrong_img)\n",
    "    wrong_img = tf.image.resize(wrong_img, [IMG_H, IMG_W])\n",
    "    wrong_img = tf.cast(wrong_img, tf.float32)\n",
    "    wrong_img = tf.clip_by_value(wrong_img, 0, 255)\n",
    "    wrong_img = wrong_img/127.5 - 1.0\n",
    "    \n",
    "    a = tf.io.read_file(caption)\n",
    "    a = tf.io.decode_raw(a, tf.float32)\n",
    "    npshape = 1024\n",
    "    tensorshape = 1056\n",
    "    a = a[tensorshape - npshape:]\n",
    "#     a = tf.reshape(\n",
    "#         a, [20,1024], name=None\n",
    "#     )\n",
    "    \n",
    "    return img, wrong_img, a\n",
    "\n",
    "def dataset_generator(df, batch_size, data_generator):\n",
    "    # load the training data into two NumPy arrays\n",
    "    caption = df['CaptionsPath'].values\n",
    "    image_path = df['ImagePath'].values\n",
    "    wrong_image_path = tf.random.shuffle(image_path)\n",
    "    \n",
    "    # assume that each row of `features` corresponds to the same row as `labels`.\n",
    "    assert caption.shape[0] == image_path.shape[0]\n",
    "    \n",
    "    dataset = tf.data.Dataset.from_tensor_slices((caption, image_path, wrong_image_path))\n",
    "    dataset = dataset.map(data_generator, num_parallel_calls=tf.data.experimental.AUTOTUNE)\n",
    "    dataset = dataset.shuffle(len(caption)).batch(batch_size, drop_remainder=True)\n",
    "    dataset = dataset.prefetch(buffer_size=tf.data.experimental.AUTOTUNE)\n",
    "\n",
    "    return dataset\n",
    "\n",
    "\n"
   ]
  },
  {
   "cell_type": "code",
   "execution_count": 10,
   "id": "a5741188",
   "metadata": {
    "scrolled": true
   },
   "outputs": [],
   "source": [
    "BATCH_SIZE = 64\n",
    "dataset = dataset_generator(df, BATCH_SIZE, training_data_generator)"
   ]
  },
  {
   "cell_type": "code",
   "execution_count": 11,
   "id": "b6780699",
   "metadata": {
    "scrolled": true
   },
   "outputs": [
    {
     "name": "stdout",
     "output_type": "stream",
     "text": [
      "<PrefetchDataset shapes: ((64, 64, 64, 3), (64, 64, 64, 3), (64, None)), types: (tf.float32, tf.float32, tf.float32)>\n"
     ]
    }
   ],
   "source": [
    "print(dataset)"
   ]
  },
  {
   "cell_type": "code",
   "execution_count": 12,
   "id": "51c425fb",
   "metadata": {},
   "outputs": [],
   "source": [
    "from tensorflow import keras\n",
    "class Generator(tf.keras.Model):\n",
    "    \"\"\"\n",
    "    Generate fake image based on given text(hidden representation) and noise z\n",
    "    input: text and noise\n",
    "    output: fake image with size 64*64*3\n",
    "    \"\"\"\n",
    "    def __init__(self, hparas):\n",
    "        super(Generator, self).__init__()\n",
    "        self.hparas = hparas\n",
    "        xh, xw, xc = self.hparas['IMAGE_SIZE']\n",
    "        self.zh = xh // 4\n",
    "        self.zw = xw // 4\n",
    "        self.flt_1 = keras.layers.Flatten()\n",
    "        self.d1 = tf.keras.layers.Dense(128)\n",
    "#         self.d2 = tf.keras.layers.Dense(512)\n",
    "#         self.d3 = tf.keras.layers.Dense(256)\n",
    "#         self.d4 = tf.keras.layers.Dense(128)\n",
    "        \n",
    "        self.convT_1 = tf.keras.layers.Conv2DTranspose(filters = 512, kernel_size = 4, strides = 1, padding = \"VALID\",\n",
    "                                                      kernel_initializer=tf.keras.initializers.RandomNormal(stddev=0.02))\n",
    "        self.norm_2 = tf.keras.layers.BatchNormalization(gamma_initializer=tf.keras.initializers.RandomNormal(stddev=0.02), epsilon=1e-5)\n",
    "        self.relu_3 = tf.keras.layers.LeakyReLU()\n",
    "        # ------------ 8, 8, 256\n",
    "        self.convT_4 = tf.keras.layers.Conv2DTranspose(filters = 256, kernel_size = 4, strides = 2, padding = \"SAME\",\n",
    "                                                      kernel_initializer=tf.keras.initializers.RandomNormal(stddev=0.02))\n",
    "        self.norm_5 = tf.keras.layers.BatchNormalization(gamma_initializer=tf.keras.initializers.RandomNormal(stddev=0.02), epsilon=1e-5)\n",
    "        self.relu_6 = tf.keras.layers.LeakyReLU()\n",
    "        # ------------ 16, 16, 128\n",
    "        self.convT_7 = tf.keras.layers.Conv2DTranspose(filters = 128, kernel_size = 4, strides = 2, padding = \"SAME\",\n",
    "                                                      kernel_initializer=tf.keras.initializers.RandomNormal(stddev=0.02))\n",
    "        self.norm_8 = tf.keras.layers.BatchNormalization(gamma_initializer=tf.keras.initializers.RandomNormal(stddev=0.02), epsilon=1e-5)\n",
    "        self.relu_9 = tf.keras.layers.LeakyReLU()\n",
    "        # ------------ 32, 32, 64\n",
    "        self.convT_10 = tf.keras.layers.Conv2DTranspose(filters = 64, kernel_size = 4, strides = 2, padding = \"SAME\",\n",
    "                                                       kernel_initializer=tf.keras.initializers.RandomNormal(stddev=0.02))\n",
    "        self.norm_11 = tf.keras.layers.BatchNormalization(gamma_initializer=tf.keras.initializers.RandomNormal(stddev=0.02), epsilon=1e-5)\n",
    "        self.relu_12 = tf.keras.layers.LeakyReLU()\n",
    "        # ------------ 64, 64, 3\n",
    "        self.convT_13 = tf.keras.layers.Conv2DTranspose(filters = 3, kernel_size = 4, strides = 2, padding = \"SAME\",\n",
    "                                     activation = tf.keras.activations.tanh, kernel_initializer=tf.keras.initializers.RandomNormal(stddev=0.02))\n",
    "        \n",
    "        \n",
    "    def call(self, text, noise_z):\n",
    "        text = self.flt_1(text)\n",
    "        text = self.d1(text)\n",
    "        text = tf.nn.leaky_relu(text)\n",
    "#         text = self.d2(text)\n",
    "#         text = tf.nn.leaky_relu(text)\n",
    "#         text = self.d3(text)\n",
    "#         text = tf.nn.leaky_relu(text)\n",
    "#         text = self.d4(text)\n",
    "#         text = tf.nn.leaky_relu(text)\n",
    "        text = tf.expand_dims(text, axis=1)\n",
    "        text = tf.expand_dims(text, axis=1)\n",
    "        \n",
    "        # concatenate input text and random noise\n",
    "        text_concat = tf.concat([noise_z, text], axis=3)\n",
    "    \n",
    "        fake_image = self.convT_1(text_concat)\n",
    "        fake_image = self.norm_2(fake_image)\n",
    "        fake_image = self.relu_3(fake_image)\n",
    "        fake_image = self.convT_4(fake_image)\n",
    "        fake_image = self.norm_5(fake_image)\n",
    "        fake_image = self.relu_6(fake_image)\n",
    "        fake_image = self.convT_7(fake_image)\n",
    "        fake_image = self.norm_8(fake_image)\n",
    "        fake_image = self.relu_9(fake_image)\n",
    "        fake_image = self.convT_10(fake_image)\n",
    "        fake_image = self.norm_11(fake_image)\n",
    "        fake_image = self.relu_12(fake_image)\n",
    "        fake_image = self.convT_13(fake_image)\n",
    "        \n",
    "#         logits = tf.keras.layers.reshape(text_concat, [-1, 64, 64, 3])\n",
    "#         output = tf.nn.tanh(logits)\n",
    "        \n",
    "        return fake_image"
   ]
  },
  {
   "cell_type": "code",
   "execution_count": 13,
   "id": "1b005593",
   "metadata": {},
   "outputs": [],
   "source": [
    "class Discriminator(tf.keras.Model):\n",
    "    \"\"\"\n",
    "    Differentiate the real and fake image\n",
    "    input: image and corresponding text\n",
    "    output: labels, the real image should be 1, while the fake should be 0\n",
    "    \"\"\"\n",
    "    def __init__(self, hparas):\n",
    "        super(Discriminator, self).__init__()\n",
    "        self.hparas = hparas\n",
    "        self.flt_1 = keras.layers.Flatten()\n",
    "        self.d1 = tf.keras.layers.Dense(128)\n",
    "#         self.d2 = tf.keras.layers.Dense(512)\n",
    "#         self.d3 = tf.keras.layers.Dense(256)\n",
    "#         self.d4 = tf.keras.layers.Dense(128)\n",
    "        self.d = tf.keras.layers.Dense(1)\n",
    "        \n",
    "        # ------ 32, 32, 64\n",
    "        # ------ 32, 32, 64\n",
    "        self.conv_1 = tf.keras.layers.Conv2D(filters = 64, kernel_size = 4, strides = 2, padding = \"SAME\", input_shape = self.hparas['IMAGE_SIZE'],\n",
    "                                            kernel_initializer=tf.keras.initializers.RandomNormal(stddev=0.02))\n",
    "        self.lrelu_2 = tf.keras.layers.LeakyReLU()\n",
    "        # ------ 16, 16, 128\n",
    "        self.conv_3 = tf.keras.layers.Conv2D(filters = 128, kernel_size = 4, strides = 2, padding = \"SAME\",\n",
    "                                            kernel_initializer=tf.keras.initializers.RandomNormal(stddev=0.02))\n",
    "        self.norm_4 = tf.keras.layers.BatchNormalization(gamma_initializer=tf.keras.initializers.RandomNormal(stddev=0.02), epsilon=1e-5)\n",
    "        self.lrelu_5 = tf.keras.layers.LeakyReLU()\n",
    "        # ------ 8, 8, 256\n",
    "        self.conv_6 = tf.keras.layers.Conv2D(filters = 256, kernel_size = 4, strides = 2, padding = \"SAME\",\n",
    "                                            kernel_initializer=tf.keras.initializers.RandomNormal(stddev=0.02))\n",
    "        self.norm_7 = tf.keras.layers.BatchNormalization(gamma_initializer=tf.keras.initializers.RandomNormal(stddev=0.02), epsilon=1e-5)\n",
    "        self.lrelu_8 = tf.keras.layers.LeakyReLU()\n",
    "        # ------ 4, 4, 512\n",
    "        self.conv_9 = tf.keras.layers.Conv2D(filters = 512, kernel_size = 4, strides = 2, padding = \"SAME\",\n",
    "                                            kernel_initializer=tf.keras.initializers.RandomNormal(stddev=0.02))\n",
    "        \n",
    "        self.norm_10 = tf.keras.layers.BatchNormalization(gamma_initializer=tf.keras.initializers.RandomNormal(stddev=0.02), epsilon=1e-5)\n",
    "        self.lrelu_11 = tf.keras.layers.LeakyReLU()\n",
    "    \n",
    "        \n",
    "        # ------ 4, 4, 512\n",
    "        self.conv_12 = tf.keras.layers.Conv2D(filters = 512, kernel_size = 1, strides = 1, padding = \"SAME\",\n",
    "                                             kernel_initializer=tf.keras.initializers.RandomNormal(stddev=0.02))\n",
    "        self.norm_13 = tf.keras.layers.BatchNormalization(gamma_initializer=tf.keras.initializers.RandomNormal(stddev=0.02), epsilon=1e-5)\n",
    "        self.lrelu_14 = tf.keras.layers.LeakyReLU()\n",
    "        \n",
    "        self.conv_15 = tf.keras.layers.Conv2D(filters = 1, kernel_size = 4, strides = 4, padding = \"SAME\")\n",
    "        \n",
    "        \n",
    "    \n",
    "    def call(self, img, text):\n",
    "        text = self.flt_1(text)\n",
    "        text = self.d1(text)\n",
    "        text = tf.nn.leaky_relu(text)\n",
    "#         text = self.d2(text)\n",
    "#         text = tf.nn.leaky_relu(text)\n",
    "#         text = self.d3(text)\n",
    "#         text = tf.nn.leaky_relu(text)\n",
    "#         text = self.d4(text)\n",
    "#         text = tf.nn.leaky_relu(text)\n",
    "        text_reduce = tf.expand_dims(text, axis=1)\n",
    "        text_reduce = tf.expand_dims(text_reduce, axis=1)\n",
    "        text_reduce = tf.tile(text_reduce, [1, 4, 4, 1])\n",
    "        \n",
    "        \n",
    "#         img = self.flatten(img)\n",
    "#         img = self.d_img(img)\n",
    "#         img = tf.nn.leaky_relu(img)\n",
    "        output = self.conv_1(img)\n",
    "        output = self.lrelu_2(output)\n",
    "        output = self.conv_3(output)\n",
    "        output = self.norm_4(output)\n",
    "        output = self.lrelu_5(output)\n",
    "        output = self.conv_6(output)\n",
    "        output = self.norm_7(output)\n",
    "        output = self.lrelu_8(output)\n",
    "        output = self.conv_9(output)\n",
    "        output = self.norm_10(output)\n",
    "        output = self.lrelu_11(output)\n",
    "        \n",
    "        \n",
    "        text_concat = tf.concat([output, text_reduce], axis = 3)\n",
    "        output = self.conv_12(text_concat)\n",
    "        output = self.norm_13(output)\n",
    "        output = self.lrelu_14(output)\n",
    "        \n",
    "        output = self.conv_15(output)\n",
    "        \n",
    "        \n",
    "        logits = self.d(output)\n",
    "#         output = tf.nn.sigmoid(logits)\n",
    "        \n",
    "        return logits"
   ]
  },
  {
   "cell_type": "code",
   "execution_count": 14,
   "id": "6295871f",
   "metadata": {},
   "outputs": [],
   "source": [
    "hparas = {\n",
    "    'MAX_SEQ_LENGTH': 20,                     # maximum sequence length\n",
    "    'EMBED_DIM': 256,                         # word embedding dimension\n",
    "    'VOCAB_SIZE': len(word2Id_dict),          # size of dictionary of captions\n",
    "    'RNN_HIDDEN_SIZE': 128,                   # number of RNN neurons\n",
    "    'Z_DIM': 512,                             # random noise z dimension\n",
    "    'DENSE_DIM': 1024,                         # number of neurons in dense layer\n",
    "    'IMAGE_SIZE': [64, 64, 3],                # render image size\n",
    "    'BATCH_SIZE': 64,\n",
    "    'LR': 1e-4,\n",
    "    'LR_DECAY': 0.5,\n",
    "    'BETA_1': 0.5,\n",
    "    'N_EPOCH': 1000,\n",
    "    'N_SAMPLE': num_training_sample,          # size of training data\n",
    "    'CHECKPOINTS_DIR': './checkpoints/demo',  # checkpoint path\n",
    "    'PRINT_FREQ': 1                           # printing frequency of loss\n",
    "}"
   ]
  },
  {
   "cell_type": "code",
   "execution_count": 15,
   "id": "b2495a95",
   "metadata": {},
   "outputs": [],
   "source": [
    "# text_encoder = TextEncoder(hparas)\n",
    "WG = Generator(hparas)\n",
    "WD = Discriminator(hparas)"
   ]
  },
  {
   "cell_type": "code",
   "execution_count": 52,
   "id": "77e22143",
   "metadata": {},
   "outputs": [],
   "source": [
    "DC_LR = 1.0e-05\n",
    "W_LR = 1.0e-05"
   ]
  },
  {
   "cell_type": "code",
   "execution_count": 53,
   "id": "75f8e3ca",
   "metadata": {},
   "outputs": [],
   "source": [
    "optimizer_g = keras.optimizers.Adam(learning_rate=W_LR, beta_1=0.0, beta_2=0.9) # opt change to Adam \n",
    "optimizer_d = keras.optimizers.Adam(learning_rate=DC_LR, beta_1=0.0, beta_2=0.9)\n",
    "\n",
    "\n",
    "@tf.function\n",
    "def WGTrain(c1, text, fake_img, noise):\n",
    "    epsilon = tf.random.normal([BATCH_SIZE, 1, 1, 1])\n",
    "    beta = tf.random.normal([BATCH_SIZE, 1, 1, 1])\n",
    "\n",
    "    with tf.GradientTape() as tpg:\n",
    "        x0 = WG(text, noise, training = True)\n",
    "        x1 = epsilon * c1 + (1 - epsilon) * beta * x0 +  (1 - epsilon) * (1 - beta) * x0\n",
    "        \n",
    "        dx0 = WD(x0, text, training = True)\n",
    "        dc1 = WD(c1, text, training = True)\n",
    "        \n",
    "        with tf.GradientTape() as tape:  \n",
    "            tape.watch(x1)\n",
    "            dx1 = WD(x1, text, training = True) # gradient x1 on D(x1), so D(x1) should write in tape\n",
    "            \n",
    "        gra_dx1 = tape.gradient(dx1, x1)\n",
    "        gra_norm =  tf.sqrt(tf.reduce_sum(tf.square(gra_dx1), axis = [1, 2, 3]))\n",
    "        \n",
    "        q = tf.reduce_mean(tf.square(gra_norm - 1.0)) * 10\n",
    "        DX0 = tf.reduce_mean(dx0)\n",
    "        DC1 = tf.reduce_mean(dc1)\n",
    "        Lg = - DX0\n",
    "        Ld = DX0 - DC1 + q\n",
    "        \n",
    "    gradient_g = tpg.gradient(Lg, WG.trainable_variables)\n",
    "    optimizer_g.apply_gradients(zip(gradient_g, WG.trainable_variables))\n",
    "\n",
    "    return Lg, Ld   \n",
    "\n",
    "\n",
    "\n",
    "@tf.function\n",
    "def WDTrain(c1, text, fake_img, noise):\n",
    "    epsilon = tf.random.normal([BATCH_SIZE, 1, 1, 1])\n",
    "#     beta = tf.random.normal([BATCH_SIZE, 1, 1, 1])\n",
    "\n",
    "    with tf.GradientTape() as tpd:\n",
    "        x0 = WG(text, noise, training = True)\n",
    "        x1 = epsilon * c1 + (1 - epsilon)* x0 \n",
    "        \n",
    "        dx0 = WD(x0, text, training = True)\n",
    "        dc1 = WD(c1, text, training = True)\n",
    "        \n",
    "        with tf.GradientTape() as tape:  \n",
    "            tape.watch(x1)\n",
    "            dx1 = WD(x1, text, training = True) # gradient x1 on D(x1), so D(x1) should write in tape\n",
    "            \n",
    "        gra_dx1 = tape.gradient(dx1, x1)\n",
    "        gra_norm =  tf.sqrt(tf.reduce_sum(tf.square(gra_dx1), axis = [1, 2, 3]))\n",
    "        \n",
    "        q = tf.reduce_mean(tf.square(gra_norm - 1.0)) * 10\n",
    "        DX0 = tf.reduce_mean(dx0)\n",
    "        DC1 = tf.reduce_mean(dc1)\n",
    "        Lg = - DX0\n",
    "        Ld = DX0 - DC1 + q\n",
    "        \n",
    "    gradient_d = tpd.gradient(Ld, WD.trainable_variables)\n",
    "    optimizer_d.apply_gradients(zip(gradient_d, WD.trainable_variables))\n",
    "\n",
    "    return Lg, Ld   "
   ]
  },
  {
   "cell_type": "code",
   "execution_count": 54,
   "id": "08cdac6e",
   "metadata": {},
   "outputs": [],
   "source": [
    "WTrain = (\n",
    "    WDTrain,\n",
    "#     WDTrain,\n",
    "    WGTrain\n",
    ")\n",
    "\n",
    "WCritic = len(WTrain)"
   ]
  },
  {
   "cell_type": "code",
   "execution_count": 55,
   "id": "bd3f693f",
   "metadata": {},
   "outputs": [],
   "source": [
    "@tf.function\n",
    "def train_step(real_image, caption, fake_img, ctr):\n",
    "    # random noise for generator\n",
    "    noise = tf.random.normal(shape=[hparas['BATCH_SIZE'], 1, 1,hparas['Z_DIM']], mean=0.0, stddev=1.0)\n",
    "#     text_embed, hidden = text_encoder(caption, hidden)\n",
    "    lg, ld = WTrain[ctr](real_image, caption, fake_img, noise)\n",
    "    return lg, ld"
   ]
  },
  {
   "cell_type": "code",
   "execution_count": 56,
   "id": "170c77cd",
   "metadata": {},
   "outputs": [],
   "source": [
    "# one benefit of tf.train.Checkpoint() API is we can save everything seperately\n",
    "checkpoint_dir = hparas['CHECKPOINTS_DIR']\n",
    "checkpoint_prefix = os.path.join(checkpoint_dir, \"ckpt\")\n",
    "checkpoint = tf.train.Checkpoint(generator_optimizer=optimizer_g,\n",
    "                                 discriminator_optimizer=optimizer_d,\n",
    "                                 generator=WG,\n",
    "                                 discriminator=WD)"
   ]
  },
  {
   "cell_type": "code",
   "execution_count": 58,
   "id": "d797ba27",
   "metadata": {},
   "outputs": [],
   "source": [
    "@tf.function\n",
    "def test_step(caption, noise):\n",
    "    text_embed = caption\n",
    "    fake_image = WG(text_embed, noise)\n",
    "    return fake_image"
   ]
  },
  {
   "cell_type": "code",
   "execution_count": 59,
   "id": "38f1416c",
   "metadata": {},
   "outputs": [],
   "source": [
    "def merge(images, size):\n",
    "    h, w = images.shape[1], images.shape[2]\n",
    "    img = np.zeros((h * size[0], w * size[1], 3))\n",
    "    for idx, image in enumerate(images):\n",
    "        i = idx % size[1]\n",
    "        j = idx // size[1]\n",
    "        img[j*h:j*h+h, i*w:i*w+w, :] = image\n",
    "    return img\n",
    "\n",
    "def imsave(images, size, path):\n",
    "    # getting the pixel values between [0, 1] to save it\n",
    "    return plt.imsave(path, merge(images, size)*0.5*0.99 + 0.5)\n",
    "\n",
    "def save_images(images, size, image_path):\n",
    "    return imsave(images, size, image_path)"
   ]
  },
  {
   "cell_type": "code",
   "execution_count": 46,
   "id": "e98b9632",
   "metadata": {},
   "outputs": [
    {
     "name": "stderr",
     "output_type": "stream",
     "text": [
      "2022-01-02 05:29:44.912710: W tensorflow/core/grappler/optimizers/meta_optimizer.cc:153] TF_ENABLE_AUTO_MIXED_PRECISION has no effect.\n",
      "2022-01-02 05:29:44.912743: W tensorflow/core/grappler/optimizers/meta_optimizer.cc:153] TF_ENABLE_AUTO_MIXED_PRECISION has no effect.\n",
      "2022-01-02 05:29:44.912757: W tensorflow/core/grappler/optimizers/meta_optimizer.cc:153] TF_ENABLE_AUTO_MIXED_PRECISION has no effect.\n",
      "2022-01-02 05:29:44.912763: W tensorflow/core/grappler/optimizers/meta_optimizer.cc:153] TF_ENABLE_AUTO_MIXED_PRECISION has no effect.\n",
      "2022-01-02 05:29:45.152581: W tensorflow/core/grappler/optimizers/meta_optimizer.cc:153] TF_ENABLE_AUTO_MIXED_PRECISION has no effect.\n",
      "2022-01-02 05:29:45.152622: W tensorflow/core/grappler/optimizers/meta_optimizer.cc:153] TF_ENABLE_AUTO_MIXED_PRECISION has no effect.\n",
      "2022-01-02 05:29:45.152640: W tensorflow/core/grappler/optimizers/meta_optimizer.cc:153] TF_ENABLE_AUTO_MIXED_PRECISION has no effect.\n",
      "2022-01-02 05:29:45.152647: W tensorflow/core/grappler/optimizers/meta_optimizer.cc:153] TF_ENABLE_AUTO_MIXED_PRECISION has no effect.\n",
      "2022-01-02 05:29:45.188889: W tensorflow/core/grappler/optimizers/meta_optimizer.cc:153] TF_ENABLE_AUTO_MIXED_PRECISION has no effect.\n",
      "2022-01-02 05:29:45.188932: W tensorflow/core/grappler/optimizers/meta_optimizer.cc:153] TF_ENABLE_AUTO_MIXED_PRECISION has no effect.\n",
      "2022-01-02 05:29:45.188946: W tensorflow/core/grappler/optimizers/meta_optimizer.cc:153] TF_ENABLE_AUTO_MIXED_PRECISION has no effect.\n",
      "2022-01-02 05:29:45.188952: W tensorflow/core/grappler/optimizers/meta_optimizer.cc:153] TF_ENABLE_AUTO_MIXED_PRECISION has no effect.\n"
     ]
    }
   ],
   "source": [
    "import tensorflow_hub as hub\n",
    "elmo = hub.load(\"https://tfhub.dev/google/elmo/2\").signatures[\"tokens\"]"
   ]
  },
  {
   "cell_type": "code",
   "execution_count": 47,
   "id": "020e1eec",
   "metadata": {},
   "outputs": [],
   "source": [
    "def iDList2Sent(L):\n",
    "    s_lst = []\n",
    "    l_lst = []\n",
    "    for sent in L:\n",
    "        temp = []\n",
    "        l = 0\n",
    "        for i in sent:\n",
    "            w = id2word_dict[i]\n",
    "            if(w != \"<PAD>\"):\n",
    "                temp.append(w)\n",
    "                l += 1\n",
    "            else:\n",
    "                temp.append(\"\")\n",
    "        s_lst.append(temp)\n",
    "        l_lst.append(l)\n",
    "    return s_lst, l_lst"
   ]
  },
  {
   "cell_type": "code",
   "execution_count": 48,
   "id": "225db8f7",
   "metadata": {},
   "outputs": [],
   "source": [
    "def sample_generator(caption, batch_size):\n",
    "    s_lst, l_lst = iDList2Sent(caption)\n",
    "    embedding = elmo(sequence_len = tf.constant(l_lst),\n",
    "                     tokens = tf.constant(s_lst))[\"elmo\"]\n",
    "    embedding = tf.reduce_mean(embedding, 1)\n",
    "    print(embedding)\n",
    "    dataset = tf.data.Dataset.from_tensor_slices(embedding)\n",
    "    dataset = dataset.batch(batch_size)\n",
    "    return dataset"
   ]
  },
  {
   "cell_type": "code",
   "execution_count": 26,
   "id": "2fa446d0",
   "metadata": {
    "scrolled": true
   },
   "outputs": [
    {
     "name": "stderr",
     "output_type": "stream",
     "text": [
      "2022-01-01 17:42:48.680506: W tensorflow/core/grappler/optimizers/meta_optimizer.cc:153] TF_ENABLE_AUTO_MIXED_PRECISION has no effect.\n",
      "2022-01-01 17:42:48.680538: W tensorflow/core/grappler/optimizers/meta_optimizer.cc:153] TF_ENABLE_AUTO_MIXED_PRECISION has no effect.\n",
      "2022-01-01 17:42:48.680552: W tensorflow/core/grappler/optimizers/meta_optimizer.cc:153] TF_ENABLE_AUTO_MIXED_PRECISION has no effect.\n",
      "2022-01-01 17:42:48.680557: W tensorflow/core/grappler/optimizers/meta_optimizer.cc:153] TF_ENABLE_AUTO_MIXED_PRECISION has no effect.\n",
      "2022-01-01 17:42:48.841523: W tensorflow/compiler/jit/mark_for_compilation_pass.cc:1851] (One-time warning): Not using XLA:CPU for cluster because envvar TF_XLA_FLAGS=--tf_xla_cpu_global_jit was not set.  If you want XLA:CPU, either set that envvar, or use experimental_jit_scope to enable XLA:CPU.  To confirm that XLA is active, pass --vmodule=xla_compilation_cache=1 (as a proper command-line flag, not via TF_XLA_FLAGS) or set the envvar XLA_FLAGS=--xla_hlo_profile.\n",
      "2022-01-01 17:42:48.982905: W tensorflow/core/grappler/optimizers/meta_optimizer.cc:153] TF_ENABLE_AUTO_MIXED_PRECISION has no effect.\n",
      "2022-01-01 17:42:48.982943: W tensorflow/core/grappler/optimizers/meta_optimizer.cc:153] TF_ENABLE_AUTO_MIXED_PRECISION has no effect.\n",
      "2022-01-01 17:42:48.982956: W tensorflow/core/grappler/optimizers/meta_optimizer.cc:153] TF_ENABLE_AUTO_MIXED_PRECISION has no effect.\n",
      "2022-01-01 17:42:48.982962: W tensorflow/core/grappler/optimizers/meta_optimizer.cc:153] TF_ENABLE_AUTO_MIXED_PRECISION has no effect.\n",
      "2022-01-01 17:42:49.063483: I tensorflow/stream_executor/platform/default/dso_loader.cc:54] Successfully opened dynamic library libcudnn.so.8\n",
      "2022-01-01 17:42:49.564001: I tensorflow/stream_executor/cuda/cuda_dnn.cc:380] Loaded cuDNN version 8202\n",
      "2022-01-01 17:42:50.111785: I tensorflow/stream_executor/platform/default/dso_loader.cc:54] Successfully opened dynamic library libcublas.so.11\n",
      "2022-01-01 17:42:50.558046: I tensorflow/stream_executor/platform/default/dso_loader.cc:54] Successfully opened dynamic library libcublasLt.so.11\n",
      "2022-01-01 17:42:50.635471: W tensorflow/core/grappler/optimizers/meta_optimizer.cc:153] TF_ENABLE_AUTO_MIXED_PRECISION has no effect.\n",
      "2022-01-01 17:42:50.635814: W tensorflow/core/grappler/optimizers/meta_optimizer.cc:153] TF_ENABLE_AUTO_MIXED_PRECISION has no effect.\n",
      "2022-01-01 17:42:50.635844: W tensorflow/core/grappler/optimizers/meta_optimizer.cc:153] TF_ENABLE_AUTO_MIXED_PRECISION has no effect.\n",
      "2022-01-01 17:42:50.635861: W tensorflow/core/grappler/optimizers/meta_optimizer.cc:153] TF_ENABLE_AUTO_MIXED_PRECISION has no effect.\n",
      "2022-01-01 17:42:50.635867: W tensorflow/core/grappler/optimizers/meta_optimizer.cc:153] TF_ENABLE_AUTO_MIXED_PRECISION has no effect.\n",
      "2022-01-01 17:42:50.636114: W tensorflow/core/grappler/optimizers/meta_optimizer.cc:153] TF_ENABLE_AUTO_MIXED_PRECISION has no effect.\n",
      "2022-01-01 17:42:50.636143: W tensorflow/core/grappler/optimizers/meta_optimizer.cc:153] TF_ENABLE_AUTO_MIXED_PRECISION has no effect.\n",
      "2022-01-01 17:42:50.636150: W tensorflow/core/grappler/optimizers/meta_optimizer.cc:153] TF_ENABLE_AUTO_MIXED_PRECISION has no effect.\n"
     ]
    },
    {
     "name": "stdout",
     "output_type": "stream",
     "text": [
      "tf.Tensor(\n",
      "[[ 0.06454559  0.12683736 -0.00523152 ... -0.00103128  0.03403852\n",
      "   0.34140027]\n",
      " [ 0.06454559  0.12683736 -0.00523152 ... -0.00103128  0.03403852\n",
      "   0.34140027]\n",
      " [ 0.06454559  0.12683736 -0.00523152 ... -0.00103128  0.03403852\n",
      "   0.34140027]\n",
      " ...\n",
      " [ 0.10956667  0.3269495   0.29930332 ... -0.09462995  0.23867035\n",
      "   0.40066648]\n",
      " [ 0.10956667  0.3269495   0.29930332 ... -0.09462995  0.23867035\n",
      "   0.40066648]\n",
      " [ 0.10956667  0.3269495   0.29930332 ... -0.09462995  0.23867035\n",
      "   0.40066648]], shape=(64, 1024), dtype=float32)\n"
     ]
    },
    {
     "name": "stderr",
     "output_type": "stream",
     "text": [
      "2022-01-01 17:42:50.959341: I tensorflow/compiler/jit/xla_compilation_cache.cc:342] Compiled cluster using XLA!  This line is logged at most once for the lifetime of the process.\n",
      "2022-01-01 17:42:50.974130: W tensorflow/core/grappler/optimizers/meta_optimizer.cc:153] TF_ENABLE_AUTO_MIXED_PRECISION has no effect.\n",
      "2022-01-01 17:42:50.974150: W tensorflow/core/grappler/optimizers/meta_optimizer.cc:153] TF_ENABLE_AUTO_MIXED_PRECISION has no effect.\n",
      "2022-01-01 17:42:50.974164: W tensorflow/core/grappler/optimizers/meta_optimizer.cc:153] TF_ENABLE_AUTO_MIXED_PRECISION has no effect.\n",
      "2022-01-01 17:42:50.974169: W tensorflow/core/grappler/optimizers/meta_optimizer.cc:153] TF_ENABLE_AUTO_MIXED_PRECISION has no effect.\n",
      "2022-01-01 17:42:50.975075: W tensorflow/core/grappler/optimizers/meta_optimizer.cc:153] TF_ENABLE_AUTO_MIXED_PRECISION has no effect.\n",
      "2022-01-01 17:42:50.975093: W tensorflow/core/grappler/optimizers/meta_optimizer.cc:153] TF_ENABLE_AUTO_MIXED_PRECISION has no effect.\n",
      "2022-01-01 17:42:50.975106: W tensorflow/core/grappler/optimizers/meta_optimizer.cc:153] TF_ENABLE_AUTO_MIXED_PRECISION has no effect.\n",
      "2022-01-01 17:42:50.975111: W tensorflow/core/grappler/optimizers/meta_optimizer.cc:153] TF_ENABLE_AUTO_MIXED_PRECISION has no effect.\n",
      "2022-01-01 17:42:50.979147: W tensorflow/core/grappler/optimizers/meta_optimizer.cc:153] TF_ENABLE_AUTO_MIXED_PRECISION has no effect.\n",
      "2022-01-01 17:42:50.979355: W tensorflow/core/grappler/optimizers/meta_optimizer.cc:153] TF_ENABLE_AUTO_MIXED_PRECISION has no effect.\n",
      "2022-01-01 17:42:50.979513: W tensorflow/core/grappler/optimizers/meta_optimizer.cc:153] TF_ENABLE_AUTO_MIXED_PRECISION has no effect.\n",
      "2022-01-01 17:42:50.979656: W tensorflow/core/grappler/optimizers/meta_optimizer.cc:153] TF_ENABLE_AUTO_MIXED_PRECISION has no effect.\n",
      "2022-01-01 17:42:50.981683: W tensorflow/core/grappler/optimizers/meta_optimizer.cc:153] TF_ENABLE_AUTO_MIXED_PRECISION has no effect.\n",
      "2022-01-01 17:42:50.981701: W tensorflow/core/grappler/optimizers/meta_optimizer.cc:153] TF_ENABLE_AUTO_MIXED_PRECISION has no effect.\n",
      "2022-01-01 17:42:50.981712: W tensorflow/core/grappler/optimizers/meta_optimizer.cc:153] TF_ENABLE_AUTO_MIXED_PRECISION has no effect.\n",
      "2022-01-01 17:42:50.981718: W tensorflow/core/grappler/optimizers/meta_optimizer.cc:153] TF_ENABLE_AUTO_MIXED_PRECISION has no effect.\n",
      "2022-01-01 17:42:51.126797: W tensorflow/core/grappler/optimizers/meta_optimizer.cc:153] TF_ENABLE_AUTO_MIXED_PRECISION has no effect.\n",
      "2022-01-01 17:42:51.126826: W tensorflow/core/grappler/optimizers/meta_optimizer.cc:153] TF_ENABLE_AUTO_MIXED_PRECISION has no effect.\n",
      "2022-01-01 17:42:51.126840: W tensorflow/core/grappler/optimizers/meta_optimizer.cc:153] TF_ENABLE_AUTO_MIXED_PRECISION has no effect.\n",
      "2022-01-01 17:42:51.126845: W tensorflow/core/grappler/optimizers/meta_optimizer.cc:153] TF_ENABLE_AUTO_MIXED_PRECISION has no effect.\n"
     ]
    }
   ],
   "source": [
    "ni = int(np.ceil(np.sqrt(hparas['BATCH_SIZE'])))\n",
    "sample_size = hparas['BATCH_SIZE']\n",
    "sample_seed = np.random.normal(loc=0.0, scale=1.0, size=(sample_size, 1,1,hparas['Z_DIM'])).astype(np.float32)\n",
    "sample_sentence = [\"the flower shown has yellow anther red pistil and bright red petals.\"] * int(sample_size/ni) + \\\n",
    "                  [\"this flower has petals that are yellow, white and purple and has dark lines\"] * int(sample_size/ni) + \\\n",
    "                  [\"the petals on this flower are white with a yellow center\"] * int(sample_size/ni) + \\\n",
    "                  [\"this flower has a lot of small round pink petals.\"] * int(sample_size/ni) + \\\n",
    "                  [\"this flower is orange in color, and has petals that are ruffled and rounded.\"] * int(sample_size/ni) + \\\n",
    "                  [\"the flower has yellow petals and the center of it is brown.\"] * int(sample_size/ni) + \\\n",
    "                  [\"this flower has petals that are blue and white.\"] * int(sample_size/ni) +\\\n",
    "                  [\"these white flowers have petals that start off white in color and end in a white towards the tips.\"] * int(sample_size/ni)\n",
    "\n",
    "for i, sent in enumerate(sample_sentence):\n",
    "    sample_sentence[i] = sent2IdList(sent)\n",
    "#     print(i)\n",
    "#     print(sent)\n",
    "\n",
    "# sample_sentence = [sentense * 64]\n",
    "\n",
    "# print(sample_sentence)\n",
    "sample_sentence = sample_generator(sample_sentence, hparas['BATCH_SIZE'])"
   ]
  },
  {
   "cell_type": "code",
   "execution_count": null,
   "id": "83c84625",
   "metadata": {},
   "outputs": [],
   "source": []
  },
  {
   "cell_type": "code",
   "execution_count": 27,
   "id": "0d69a257",
   "metadata": {},
   "outputs": [],
   "source": [
    "if not os.path.exists('samples/demo'):\n",
    "    os.makedirs('samples/demo')"
   ]
  },
  {
   "cell_type": "code",
   "execution_count": 60,
   "id": "e72a818a",
   "metadata": {},
   "outputs": [],
   "source": [
    "def train(dataset, epochs):\n",
    "    # hidden state of RNN\n",
    "    steps_per_epoch = int(hparas['N_SAMPLE']/hparas['BATCH_SIZE'])\n",
    "    ctr = 0\n",
    "    for epoch in range(hparas['N_EPOCH']):\n",
    "        g_total_loss = 0\n",
    "        d_total_loss = 0\n",
    "        start = time.time()\n",
    "        \n",
    "        for image, fake_img, caption in dataset:\n",
    "            g_loss, d_loss = train_step(image, caption, fake_img, ctr)\n",
    "            ctr += 1\n",
    "            g_total_loss += g_loss\n",
    "            d_total_loss += d_loss\n",
    "            if ctr == WCritic : ctr = 0\n",
    "            \n",
    "            \n",
    "        time_tuple = time.localtime()\n",
    "        time_string = time.strftime(\"%m/%d/%Y, %H:%M:%S\", time_tuple)\n",
    "            \n",
    "        print(\"Epoch {}, gen_loss: {:.4f}, disc_loss: {:.4f}\".format(epoch+1,\n",
    "                                                                     g_total_loss/steps_per_epoch,\n",
    "                                                                     d_total_loss/steps_per_epoch))\n",
    "        print('Time for epoch {} is {:.4f} sec'.format(epoch+1, time.time()-start))\n",
    "        \n",
    "        # save the model\n",
    "        if (epoch + 1) % 50 == 0:\n",
    "            checkpoint.save(file_prefix = checkpoint_prefix)\n",
    "        \n",
    "        # visualization\n",
    "        if (epoch + 1) % hparas['PRINT_FREQ'] == 0:\n",
    "            for caption in sample_sentence:\n",
    "                fake_image = test_step(caption, sample_seed)\n",
    "            try:\n",
    "                save_images(fake_image, [ni, ni], 'samples/demo/train_{:02d}.jpg'.format(epoch))\n",
    "            except:\n",
    "                print(\"save failed\")"
   ]
  },
  {
   "cell_type": "code",
   "execution_count": 61,
   "id": "120e56f6",
   "metadata": {
    "scrolled": true
   },
   "outputs": [
    {
     "name": "stderr",
     "output_type": "stream",
     "text": [
      "2022-01-02 05:36:48.016185: W tensorflow/core/grappler/optimizers/meta_optimizer.cc:153] TF_ENABLE_AUTO_MIXED_PRECISION has no effect.\n",
      "2022-01-02 05:36:48.016226: W tensorflow/core/grappler/optimizers/meta_optimizer.cc:153] TF_ENABLE_AUTO_MIXED_PRECISION has no effect.\n",
      "2022-01-02 05:36:48.016240: W tensorflow/core/grappler/optimizers/meta_optimizer.cc:153] TF_ENABLE_AUTO_MIXED_PRECISION has no effect.\n",
      "2022-01-02 05:36:48.016245: W tensorflow/core/grappler/optimizers/meta_optimizer.cc:153] TF_ENABLE_AUTO_MIXED_PRECISION has no effect.\n",
      "2022-01-02 05:36:58.004399: I tensorflow/core/kernels/data/shuffle_dataset_op.cc:177] Filling up shuffle buffer (this may take a while): 10768 of 70504\n",
      "2022-01-02 05:37:08.005257: I tensorflow/core/kernels/data/shuffle_dataset_op.cc:177] Filling up shuffle buffer (this may take a while): 21702 of 70504\n",
      "2022-01-02 05:37:18.004628: I tensorflow/core/kernels/data/shuffle_dataset_op.cc:177] Filling up shuffle buffer (this may take a while): 32476 of 70504\n",
      "2022-01-02 05:37:28.005524: I tensorflow/core/kernels/data/shuffle_dataset_op.cc:177] Filling up shuffle buffer (this may take a while): 43383 of 70504\n",
      "2022-01-02 05:37:38.004070: I tensorflow/core/kernels/data/shuffle_dataset_op.cc:177] Filling up shuffle buffer (this may take a while): 54293 of 70504\n",
      "2022-01-02 05:37:48.004679: I tensorflow/core/kernels/data/shuffle_dataset_op.cc:177] Filling up shuffle buffer (this may take a while): 65205 of 70504\n",
      "2022-01-02 05:37:52.800118: I tensorflow/core/kernels/data/shuffle_dataset_op.cc:230] Shuffle buffer filled.\n",
      "2022-01-02 05:37:54.176598: W tensorflow/core/grappler/optimizers/meta_optimizer.cc:153] TF_ENABLE_AUTO_MIXED_PRECISION has no effect.\n",
      "2022-01-02 05:37:54.176636: W tensorflow/core/grappler/optimizers/meta_optimizer.cc:153] TF_ENABLE_AUTO_MIXED_PRECISION has no effect.\n",
      "2022-01-02 05:37:54.176777: W tensorflow/core/grappler/optimizers/meta_optimizer.cc:153] TF_ENABLE_AUTO_MIXED_PRECISION has no effect.\n",
      "2022-01-02 05:37:54.176788: W tensorflow/core/grappler/optimizers/meta_optimizer.cc:153] TF_ENABLE_AUTO_MIXED_PRECISION has no effect.\n",
      "2022-01-02 05:37:54.634861: W tensorflow/core/grappler/optimizers/meta_optimizer.cc:153] TF_ENABLE_AUTO_MIXED_PRECISION has no effect.\n",
      "2022-01-02 05:37:54.634896: W tensorflow/core/grappler/optimizers/meta_optimizer.cc:153] TF_ENABLE_AUTO_MIXED_PRECISION has no effect.\n",
      "2022-01-02 05:37:54.634911: W tensorflow/core/grappler/optimizers/meta_optimizer.cc:153] TF_ENABLE_AUTO_MIXED_PRECISION has no effect.\n",
      "2022-01-02 05:37:54.634917: W tensorflow/core/grappler/optimizers/meta_optimizer.cc:153] TF_ENABLE_AUTO_MIXED_PRECISION has no effect.\n",
      "2022-01-02 05:37:54.682312: W tensorflow/core/grappler/optimizers/meta_optimizer.cc:153] TF_ENABLE_AUTO_MIXED_PRECISION has no effect.\n",
      "2022-01-02 05:37:54.682369: W tensorflow/core/grappler/optimizers/meta_optimizer.cc:153] TF_ENABLE_AUTO_MIXED_PRECISION has no effect.\n",
      "2022-01-02 05:37:54.682405: W tensorflow/core/grappler/optimizers/meta_optimizer.cc:153] TF_ENABLE_AUTO_MIXED_PRECISION has no effect.\n",
      "2022-01-02 05:37:54.682421: W tensorflow/core/grappler/optimizers/meta_optimizer.cc:153] TF_ENABLE_AUTO_MIXED_PRECISION has no effect.\n",
      "2022-01-02 05:37:54.729372: W tensorflow/core/grappler/optimizers/meta_optimizer.cc:153] TF_ENABLE_AUTO_MIXED_PRECISION has no effect.\n",
      "2022-01-02 05:37:54.729408: W tensorflow/core/grappler/optimizers/meta_optimizer.cc:153] TF_ENABLE_AUTO_MIXED_PRECISION has no effect.\n",
      "2022-01-02 05:37:54.729422: W tensorflow/core/grappler/optimizers/meta_optimizer.cc:153] TF_ENABLE_AUTO_MIXED_PRECISION has no effect.\n",
      "2022-01-02 05:37:54.729428: W tensorflow/core/grappler/optimizers/meta_optimizer.cc:153] TF_ENABLE_AUTO_MIXED_PRECISION has no effect.\n",
      "2022-01-02 05:37:54.991160: W tensorflow/core/grappler/optimizers/meta_optimizer.cc:153] TF_ENABLE_AUTO_MIXED_PRECISION has no effect.\n",
      "2022-01-02 05:37:54.991218: W tensorflow/core/grappler/optimizers/meta_optimizer.cc:153] TF_ENABLE_AUTO_MIXED_PRECISION has no effect.\n",
      "2022-01-02 05:37:54.991251: W tensorflow/core/grappler/optimizers/meta_optimizer.cc:153] TF_ENABLE_AUTO_MIXED_PRECISION has no effect.\n",
      "2022-01-02 05:37:54.991266: W tensorflow/core/grappler/optimizers/meta_optimizer.cc:153] TF_ENABLE_AUTO_MIXED_PRECISION has no effect.\n",
      "2022-01-02 05:37:55.806199: W tensorflow/core/grappler/optimizers/meta_optimizer.cc:153] TF_ENABLE_AUTO_MIXED_PRECISION has no effect.\n",
      "2022-01-02 05:37:55.806236: W tensorflow/core/grappler/optimizers/meta_optimizer.cc:153] TF_ENABLE_AUTO_MIXED_PRECISION has no effect.\n",
      "2022-01-02 05:37:55.806319: W tensorflow/core/grappler/optimizers/meta_optimizer.cc:153] TF_ENABLE_AUTO_MIXED_PRECISION has no effect.\n",
      "2022-01-02 05:37:55.806326: W tensorflow/core/grappler/optimizers/meta_optimizer.cc:153] TF_ENABLE_AUTO_MIXED_PRECISION has no effect.\n",
      "2022-01-02 05:37:55.992008: W tensorflow/core/grappler/optimizers/meta_optimizer.cc:153] TF_ENABLE_AUTO_MIXED_PRECISION has no effect.\n",
      "2022-01-02 05:37:55.992055: W tensorflow/core/grappler/optimizers/meta_optimizer.cc:153] TF_ENABLE_AUTO_MIXED_PRECISION has no effect.\n",
      "2022-01-02 05:37:55.992074: W tensorflow/core/grappler/optimizers/meta_optimizer.cc:153] TF_ENABLE_AUTO_MIXED_PRECISION has no effect.\n",
      "2022-01-02 05:37:55.992082: W tensorflow/core/grappler/optimizers/meta_optimizer.cc:153] TF_ENABLE_AUTO_MIXED_PRECISION has no effect.\n",
      "2022-01-02 05:37:56.064889: W tensorflow/core/grappler/optimizers/meta_optimizer.cc:153] TF_ENABLE_AUTO_MIXED_PRECISION has no effect.\n",
      "2022-01-02 05:37:56.064926: W tensorflow/core/grappler/optimizers/meta_optimizer.cc:153] TF_ENABLE_AUTO_MIXED_PRECISION has no effect.\n",
      "2022-01-02 05:37:56.064940: W tensorflow/core/grappler/optimizers/meta_optimizer.cc:153] TF_ENABLE_AUTO_MIXED_PRECISION has no effect.\n",
      "2022-01-02 05:37:56.064946: W tensorflow/core/grappler/optimizers/meta_optimizer.cc:153] TF_ENABLE_AUTO_MIXED_PRECISION has no effect.\n",
      "2022-01-02 05:37:56.089063: W tensorflow/core/grappler/optimizers/meta_optimizer.cc:153] TF_ENABLE_AUTO_MIXED_PRECISION has no effect.\n",
      "2022-01-02 05:37:56.089100: W tensorflow/core/grappler/optimizers/meta_optimizer.cc:153] TF_ENABLE_AUTO_MIXED_PRECISION has no effect.\n",
      "2022-01-02 05:37:56.089120: W tensorflow/core/grappler/optimizers/meta_optimizer.cc:153] TF_ENABLE_AUTO_MIXED_PRECISION has no effect.\n",
      "2022-01-02 05:37:56.089128: W tensorflow/core/grappler/optimizers/meta_optimizer.cc:153] TF_ENABLE_AUTO_MIXED_PRECISION has no effect.\n"
     ]
    },
    {
     "name": "stdout",
     "output_type": "stream",
     "text": [
      "Epoch 1, gen_loss: -1331392.1250, disc_loss: -10.0740\n",
      "Time for epoch 1 is 110.6955 sec\n"
     ]
    },
    {
     "name": "stderr",
     "output_type": "stream",
     "text": [
      "2022-01-02 05:38:38.712655: W tensorflow/core/grappler/optimizers/meta_optimizer.cc:153] TF_ENABLE_AUTO_MIXED_PRECISION has no effect.\n",
      "2022-01-02 05:38:38.712686: W tensorflow/core/grappler/optimizers/meta_optimizer.cc:153] TF_ENABLE_AUTO_MIXED_PRECISION has no effect.\n",
      "2022-01-02 05:38:38.712700: W tensorflow/core/grappler/optimizers/meta_optimizer.cc:153] TF_ENABLE_AUTO_MIXED_PRECISION has no effect.\n",
      "2022-01-02 05:38:38.712705: W tensorflow/core/grappler/optimizers/meta_optimizer.cc:153] TF_ENABLE_AUTO_MIXED_PRECISION has no effect.\n",
      "2022-01-02 05:38:38.748238: W tensorflow/core/grappler/optimizers/meta_optimizer.cc:153] TF_ENABLE_AUTO_MIXED_PRECISION has no effect.\n",
      "2022-01-02 05:38:38.748270: W tensorflow/core/grappler/optimizers/meta_optimizer.cc:153] TF_ENABLE_AUTO_MIXED_PRECISION has no effect.\n",
      "2022-01-02 05:38:38.748286: W tensorflow/core/grappler/optimizers/meta_optimizer.cc:153] TF_ENABLE_AUTO_MIXED_PRECISION has no effect.\n",
      "2022-01-02 05:38:38.748292: W tensorflow/core/grappler/optimizers/meta_optimizer.cc:153] TF_ENABLE_AUTO_MIXED_PRECISION has no effect.\n",
      "2022-01-02 05:38:38.866962: W tensorflow/core/grappler/optimizers/meta_optimizer.cc:153] TF_ENABLE_AUTO_MIXED_PRECISION has no effect.\n",
      "2022-01-02 05:38:38.867009: W tensorflow/core/grappler/optimizers/meta_optimizer.cc:153] TF_ENABLE_AUTO_MIXED_PRECISION has no effect.\n",
      "2022-01-02 05:38:38.867030: W tensorflow/core/grappler/optimizers/meta_optimizer.cc:153] TF_ENABLE_AUTO_MIXED_PRECISION has no effect.\n",
      "2022-01-02 05:38:38.867035: W tensorflow/core/grappler/optimizers/meta_optimizer.cc:153] TF_ENABLE_AUTO_MIXED_PRECISION has no effect.\n",
      "2022-01-02 05:38:48.853634: I tensorflow/core/kernels/data/shuffle_dataset_op.cc:177] Filling up shuffle buffer (this may take a while): 10602 of 70504\n",
      "2022-01-02 05:38:58.853788: I tensorflow/core/kernels/data/shuffle_dataset_op.cc:177] Filling up shuffle buffer (this may take a while): 21287 of 70504\n",
      "2022-01-02 05:39:08.854362: I tensorflow/core/kernels/data/shuffle_dataset_op.cc:177] Filling up shuffle buffer (this may take a while): 32014 of 70504\n",
      "2022-01-02 05:39:18.854736: I tensorflow/core/kernels/data/shuffle_dataset_op.cc:177] Filling up shuffle buffer (this may take a while): 42753 of 70504\n",
      "2022-01-02 05:39:28.856464: I tensorflow/core/kernels/data/shuffle_dataset_op.cc:177] Filling up shuffle buffer (this may take a while): 53359 of 70504\n",
      "2022-01-02 05:39:38.853401: I tensorflow/core/kernels/data/shuffle_dataset_op.cc:177] Filling up shuffle buffer (this may take a while): 64119 of 70504\n",
      "2022-01-02 05:39:44.754878: I tensorflow/core/kernels/data/shuffle_dataset_op.cc:230] Shuffle buffer filled.\n"
     ]
    },
    {
     "name": "stdout",
     "output_type": "stream",
     "text": [
      "Epoch 2, gen_loss: -1303858.2500, disc_loss: -4.2351\n",
      "Time for epoch 2 is 100.9348 sec\n"
     ]
    },
    {
     "name": "stderr",
     "output_type": "stream",
     "text": [
      "2022-01-02 05:40:19.845303: W tensorflow/core/grappler/optimizers/meta_optimizer.cc:153] TF_ENABLE_AUTO_MIXED_PRECISION has no effect.\n",
      "2022-01-02 05:40:19.845361: W tensorflow/core/grappler/optimizers/meta_optimizer.cc:153] TF_ENABLE_AUTO_MIXED_PRECISION has no effect.\n",
      "2022-01-02 05:40:19.845374: W tensorflow/core/grappler/optimizers/meta_optimizer.cc:153] TF_ENABLE_AUTO_MIXED_PRECISION has no effect.\n",
      "2022-01-02 05:40:19.845380: W tensorflow/core/grappler/optimizers/meta_optimizer.cc:153] TF_ENABLE_AUTO_MIXED_PRECISION has no effect.\n",
      "2022-01-02 05:40:29.827618: I tensorflow/core/kernels/data/shuffle_dataset_op.cc:177] Filling up shuffle buffer (this may take a while): 10588 of 70504\n",
      "2022-01-02 05:40:39.827653: I tensorflow/core/kernels/data/shuffle_dataset_op.cc:177] Filling up shuffle buffer (this may take a while): 21257 of 70504\n",
      "2022-01-02 05:40:49.827836: I tensorflow/core/kernels/data/shuffle_dataset_op.cc:177] Filling up shuffle buffer (this may take a while): 31984 of 70504\n",
      "2022-01-02 05:40:59.829990: I tensorflow/core/kernels/data/shuffle_dataset_op.cc:177] Filling up shuffle buffer (this may take a while): 42691 of 70504\n",
      "2022-01-02 05:41:09.828698: I tensorflow/core/kernels/data/shuffle_dataset_op.cc:177] Filling up shuffle buffer (this may take a while): 53403 of 70504\n",
      "2022-01-02 05:41:19.829441: I tensorflow/core/kernels/data/shuffle_dataset_op.cc:177] Filling up shuffle buffer (this may take a while): 64205 of 70504\n",
      "2022-01-02 05:41:25.646922: I tensorflow/core/kernels/data/shuffle_dataset_op.cc:230] Shuffle buffer filled.\n"
     ]
    },
    {
     "name": "stdout",
     "output_type": "stream",
     "text": [
      "Epoch 3, gen_loss: -1265500.8750, disc_loss: -1.7237\n",
      "Time for epoch 3 is 100.9053 sec\n"
     ]
    },
    {
     "name": "stderr",
     "output_type": "stream",
     "text": [
      "2022-01-02 05:42:00.919915: W tensorflow/core/grappler/optimizers/meta_optimizer.cc:153] TF_ENABLE_AUTO_MIXED_PRECISION has no effect.\n",
      "2022-01-02 05:42:00.919969: W tensorflow/core/grappler/optimizers/meta_optimizer.cc:153] TF_ENABLE_AUTO_MIXED_PRECISION has no effect.\n",
      "2022-01-02 05:42:00.919983: W tensorflow/core/grappler/optimizers/meta_optimizer.cc:153] TF_ENABLE_AUTO_MIXED_PRECISION has no effect.\n",
      "2022-01-02 05:42:00.919988: W tensorflow/core/grappler/optimizers/meta_optimizer.cc:153] TF_ENABLE_AUTO_MIXED_PRECISION has no effect.\n",
      "2022-01-02 05:42:10.902758: I tensorflow/core/kernels/data/shuffle_dataset_op.cc:177] Filling up shuffle buffer (this may take a while): 10868 of 70504\n",
      "2022-01-02 05:42:20.902326: I tensorflow/core/kernels/data/shuffle_dataset_op.cc:177] Filling up shuffle buffer (this may take a while): 21839 of 70504\n",
      "2022-01-02 05:42:30.902301: I tensorflow/core/kernels/data/shuffle_dataset_op.cc:177] Filling up shuffle buffer (this may take a while): 32740 of 70504\n",
      "2022-01-02 05:42:40.902255: I tensorflow/core/kernels/data/shuffle_dataset_op.cc:177] Filling up shuffle buffer (this may take a while): 43715 of 70504\n",
      "2022-01-02 05:42:50.903212: I tensorflow/core/kernels/data/shuffle_dataset_op.cc:177] Filling up shuffle buffer (this may take a while): 54678 of 70504\n",
      "2022-01-02 05:43:00.902651: I tensorflow/core/kernels/data/shuffle_dataset_op.cc:177] Filling up shuffle buffer (this may take a while): 65723 of 70504\n",
      "2022-01-02 05:43:05.231902: I tensorflow/core/kernels/data/shuffle_dataset_op.cc:230] Shuffle buffer filled.\n"
     ]
    },
    {
     "name": "stdout",
     "output_type": "stream",
     "text": [
      "Epoch 4, gen_loss: -1240849.5000, disc_loss: -0.8469\n",
      "Time for epoch 4 is 99.3934 sec\n"
     ]
    },
    {
     "name": "stderr",
     "output_type": "stream",
     "text": [
      "2022-01-02 05:43:40.363958: W tensorflow/core/grappler/optimizers/meta_optimizer.cc:153] TF_ENABLE_AUTO_MIXED_PRECISION has no effect.\n",
      "2022-01-02 05:43:40.364010: W tensorflow/core/grappler/optimizers/meta_optimizer.cc:153] TF_ENABLE_AUTO_MIXED_PRECISION has no effect.\n",
      "2022-01-02 05:43:40.364029: W tensorflow/core/grappler/optimizers/meta_optimizer.cc:153] TF_ENABLE_AUTO_MIXED_PRECISION has no effect.\n",
      "2022-01-02 05:43:40.364035: W tensorflow/core/grappler/optimizers/meta_optimizer.cc:153] TF_ENABLE_AUTO_MIXED_PRECISION has no effect.\n",
      "2022-01-02 05:43:50.353974: I tensorflow/core/kernels/data/shuffle_dataset_op.cc:177] Filling up shuffle buffer (this may take a while): 10872 of 70504\n",
      "2022-01-02 05:44:00.354211: I tensorflow/core/kernels/data/shuffle_dataset_op.cc:177] Filling up shuffle buffer (this may take a while): 21866 of 70504\n",
      "2022-01-02 05:44:10.354045: I tensorflow/core/kernels/data/shuffle_dataset_op.cc:177] Filling up shuffle buffer (this may take a while): 32811 of 70504\n",
      "2022-01-02 05:44:20.353492: I tensorflow/core/kernels/data/shuffle_dataset_op.cc:177] Filling up shuffle buffer (this may take a while): 43817 of 70504\n",
      "2022-01-02 05:44:30.354101: I tensorflow/core/kernels/data/shuffle_dataset_op.cc:177] Filling up shuffle buffer (this may take a while): 54803 of 70504\n",
      "2022-01-02 05:44:40.355528: I tensorflow/core/kernels/data/shuffle_dataset_op.cc:177] Filling up shuffle buffer (this may take a while): 65877 of 70504\n",
      "2022-01-02 05:44:44.530720: I tensorflow/core/kernels/data/shuffle_dataset_op.cc:230] Shuffle buffer filled.\n"
     ]
    },
    {
     "name": "stdout",
     "output_type": "stream",
     "text": [
      "Epoch 5, gen_loss: -1210154.3750, disc_loss: -1.1066\n",
      "Time for epoch 5 is 99.2357 sec\n"
     ]
    },
    {
     "name": "stderr",
     "output_type": "stream",
     "text": [
      "2022-01-02 05:45:19.626206: W tensorflow/core/grappler/optimizers/meta_optimizer.cc:153] TF_ENABLE_AUTO_MIXED_PRECISION has no effect.\n",
      "2022-01-02 05:45:19.626256: W tensorflow/core/grappler/optimizers/meta_optimizer.cc:153] TF_ENABLE_AUTO_MIXED_PRECISION has no effect.\n",
      "2022-01-02 05:45:19.626270: W tensorflow/core/grappler/optimizers/meta_optimizer.cc:153] TF_ENABLE_AUTO_MIXED_PRECISION has no effect.\n",
      "2022-01-02 05:45:19.626275: W tensorflow/core/grappler/optimizers/meta_optimizer.cc:153] TF_ENABLE_AUTO_MIXED_PRECISION has no effect.\n",
      "2022-01-02 05:45:29.614629: I tensorflow/core/kernels/data/shuffle_dataset_op.cc:177] Filling up shuffle buffer (this may take a while): 10846 of 70504\n",
      "2022-01-02 05:45:39.614607: I tensorflow/core/kernels/data/shuffle_dataset_op.cc:177] Filling up shuffle buffer (this may take a while): 21819 of 70504\n",
      "2022-01-02 05:45:49.614932: I tensorflow/core/kernels/data/shuffle_dataset_op.cc:177] Filling up shuffle buffer (this may take a while): 32760 of 70504\n",
      "2022-01-02 05:45:59.615293: I tensorflow/core/kernels/data/shuffle_dataset_op.cc:177] Filling up shuffle buffer (this may take a while): 43743 of 70504\n",
      "2022-01-02 05:46:09.615408: I tensorflow/core/kernels/data/shuffle_dataset_op.cc:177] Filling up shuffle buffer (this may take a while): 54680 of 70504\n",
      "2022-01-02 05:46:19.615602: I tensorflow/core/kernels/data/shuffle_dataset_op.cc:177] Filling up shuffle buffer (this may take a while): 65671 of 70504\n",
      "2022-01-02 05:46:23.981727: I tensorflow/core/kernels/data/shuffle_dataset_op.cc:230] Shuffle buffer filled.\n"
     ]
    },
    {
     "name": "stdout",
     "output_type": "stream",
     "text": [
      "Epoch 6, gen_loss: -1176942.8750, disc_loss: -0.7587\n",
      "Time for epoch 6 is 99.4364 sec\n"
     ]
    },
    {
     "name": "stderr",
     "output_type": "stream",
     "text": [
      "2022-01-02 05:46:59.108170: W tensorflow/core/grappler/optimizers/meta_optimizer.cc:153] TF_ENABLE_AUTO_MIXED_PRECISION has no effect.\n",
      "2022-01-02 05:46:59.108220: W tensorflow/core/grappler/optimizers/meta_optimizer.cc:153] TF_ENABLE_AUTO_MIXED_PRECISION has no effect.\n",
      "2022-01-02 05:46:59.108234: W tensorflow/core/grappler/optimizers/meta_optimizer.cc:153] TF_ENABLE_AUTO_MIXED_PRECISION has no effect.\n",
      "2022-01-02 05:46:59.108240: W tensorflow/core/grappler/optimizers/meta_optimizer.cc:153] TF_ENABLE_AUTO_MIXED_PRECISION has no effect.\n",
      "2022-01-02 05:47:09.092965: I tensorflow/core/kernels/data/shuffle_dataset_op.cc:177] Filling up shuffle buffer (this may take a while): 10607 of 70504\n",
      "2022-01-02 05:47:19.093015: I tensorflow/core/kernels/data/shuffle_dataset_op.cc:177] Filling up shuffle buffer (this may take a while): 21345 of 70504\n",
      "2022-01-02 05:47:29.093930: I tensorflow/core/kernels/data/shuffle_dataset_op.cc:177] Filling up shuffle buffer (this may take a while): 32055 of 70504\n",
      "2022-01-02 05:47:39.093186: I tensorflow/core/kernels/data/shuffle_dataset_op.cc:177] Filling up shuffle buffer (this may take a while): 42815 of 70504\n",
      "2022-01-02 05:47:49.093009: I tensorflow/core/kernels/data/shuffle_dataset_op.cc:177] Filling up shuffle buffer (this may take a while): 53535 of 70504\n",
      "2022-01-02 05:47:59.093032: I tensorflow/core/kernels/data/shuffle_dataset_op.cc:177] Filling up shuffle buffer (this may take a while): 64359 of 70504\n",
      "2022-01-02 05:48:04.785077: I tensorflow/core/kernels/data/shuffle_dataset_op.cc:230] Shuffle buffer filled.\n"
     ]
    },
    {
     "name": "stdout",
     "output_type": "stream",
     "text": [
      "Epoch 7, gen_loss: -1188297.5000, disc_loss: -0.1988\n",
      "Time for epoch 7 is 100.7744 sec\n"
     ]
    },
    {
     "name": "stderr",
     "output_type": "stream",
     "text": [
      "2022-01-02 05:48:39.924255: W tensorflow/core/grappler/optimizers/meta_optimizer.cc:153] TF_ENABLE_AUTO_MIXED_PRECISION has no effect.\n",
      "2022-01-02 05:48:39.924309: W tensorflow/core/grappler/optimizers/meta_optimizer.cc:153] TF_ENABLE_AUTO_MIXED_PRECISION has no effect.\n",
      "2022-01-02 05:48:39.924323: W tensorflow/core/grappler/optimizers/meta_optimizer.cc:153] TF_ENABLE_AUTO_MIXED_PRECISION has no effect.\n",
      "2022-01-02 05:48:39.924329: W tensorflow/core/grappler/optimizers/meta_optimizer.cc:153] TF_ENABLE_AUTO_MIXED_PRECISION has no effect.\n",
      "2022-01-02 05:48:49.910697: I tensorflow/core/kernels/data/shuffle_dataset_op.cc:177] Filling up shuffle buffer (this may take a while): 10595 of 70504\n",
      "2022-01-02 05:48:59.909598: I tensorflow/core/kernels/data/shuffle_dataset_op.cc:177] Filling up shuffle buffer (this may take a while): 21311 of 70504\n",
      "2022-01-02 05:49:09.909459: I tensorflow/core/kernels/data/shuffle_dataset_op.cc:177] Filling up shuffle buffer (this may take a while): 32045 of 70504\n",
      "2022-01-02 05:49:19.909392: I tensorflow/core/kernels/data/shuffle_dataset_op.cc:177] Filling up shuffle buffer (this may take a while): 42810 of 70504\n",
      "2022-01-02 05:49:29.909760: I tensorflow/core/kernels/data/shuffle_dataset_op.cc:177] Filling up shuffle buffer (this may take a while): 53537 of 70504\n",
      "2022-01-02 05:49:39.909561: I tensorflow/core/kernels/data/shuffle_dataset_op.cc:177] Filling up shuffle buffer (this may take a while): 64416 of 70504\n",
      "2022-01-02 05:49:45.550404: I tensorflow/core/kernels/data/shuffle_dataset_op.cc:230] Shuffle buffer filled.\n"
     ]
    },
    {
     "name": "stdout",
     "output_type": "stream",
     "text": [
      "Epoch 8, gen_loss: -1191266.8750, disc_loss: -0.0851\n",
      "Time for epoch 8 is 100.6832 sec\n"
     ]
    },
    {
     "name": "stderr",
     "output_type": "stream",
     "text": [
      "2022-01-02 05:50:20.667758: W tensorflow/core/grappler/optimizers/meta_optimizer.cc:153] TF_ENABLE_AUTO_MIXED_PRECISION has no effect.\n",
      "2022-01-02 05:50:20.667811: W tensorflow/core/grappler/optimizers/meta_optimizer.cc:153] TF_ENABLE_AUTO_MIXED_PRECISION has no effect.\n",
      "2022-01-02 05:50:20.667825: W tensorflow/core/grappler/optimizers/meta_optimizer.cc:153] TF_ENABLE_AUTO_MIXED_PRECISION has no effect.\n",
      "2022-01-02 05:50:20.667830: W tensorflow/core/grappler/optimizers/meta_optimizer.cc:153] TF_ENABLE_AUTO_MIXED_PRECISION has no effect.\n",
      "2022-01-02 05:50:30.658209: I tensorflow/core/kernels/data/shuffle_dataset_op.cc:177] Filling up shuffle buffer (this may take a while): 10860 of 70504\n",
      "2022-01-02 05:50:40.658948: I tensorflow/core/kernels/data/shuffle_dataset_op.cc:177] Filling up shuffle buffer (this may take a while): 21800 of 70504\n",
      "2022-01-02 05:50:50.657993: I tensorflow/core/kernels/data/shuffle_dataset_op.cc:177] Filling up shuffle buffer (this may take a while): 32719 of 70504\n",
      "2022-01-02 05:51:00.657969: I tensorflow/core/kernels/data/shuffle_dataset_op.cc:177] Filling up shuffle buffer (this may take a while): 43689 of 70504\n",
      "2022-01-02 05:51:10.657258: I tensorflow/core/kernels/data/shuffle_dataset_op.cc:177] Filling up shuffle buffer (this may take a while): 54647 of 70504\n",
      "2022-01-02 05:51:20.657339: I tensorflow/core/kernels/data/shuffle_dataset_op.cc:177] Filling up shuffle buffer (this may take a while): 65698 of 70504\n",
      "2022-01-02 05:51:25.021007: I tensorflow/core/kernels/data/shuffle_dataset_op.cc:230] Shuffle buffer filled.\n"
     ]
    },
    {
     "name": "stdout",
     "output_type": "stream",
     "text": [
      "Epoch 9, gen_loss: -1186367.1250, disc_loss: -0.0529\n",
      "Time for epoch 9 is 99.3851 sec\n"
     ]
    },
    {
     "name": "stderr",
     "output_type": "stream",
     "text": [
      "2022-01-02 05:52:00.078604: W tensorflow/core/grappler/optimizers/meta_optimizer.cc:153] TF_ENABLE_AUTO_MIXED_PRECISION has no effect.\n",
      "2022-01-02 05:52:00.078657: W tensorflow/core/grappler/optimizers/meta_optimizer.cc:153] TF_ENABLE_AUTO_MIXED_PRECISION has no effect.\n",
      "2022-01-02 05:52:00.078671: W tensorflow/core/grappler/optimizers/meta_optimizer.cc:153] TF_ENABLE_AUTO_MIXED_PRECISION has no effect.\n",
      "2022-01-02 05:52:00.078678: W tensorflow/core/grappler/optimizers/meta_optimizer.cc:153] TF_ENABLE_AUTO_MIXED_PRECISION has no effect.\n",
      "2022-01-02 05:52:10.061284: I tensorflow/core/kernels/data/shuffle_dataset_op.cc:177] Filling up shuffle buffer (this may take a while): 10645 of 70504\n",
      "2022-01-02 05:52:20.061183: I tensorflow/core/kernels/data/shuffle_dataset_op.cc:177] Filling up shuffle buffer (this may take a while): 21405 of 70504\n",
      "2022-01-02 05:52:30.061853: I tensorflow/core/kernels/data/shuffle_dataset_op.cc:177] Filling up shuffle buffer (this may take a while): 32132 of 70504\n",
      "2022-01-02 05:52:40.062314: I tensorflow/core/kernels/data/shuffle_dataset_op.cc:177] Filling up shuffle buffer (this may take a while): 42933 of 70504\n",
      "2022-01-02 05:52:50.061186: I tensorflow/core/kernels/data/shuffle_dataset_op.cc:177] Filling up shuffle buffer (this may take a while): 53707 of 70504\n",
      "2022-01-02 05:53:00.062272: I tensorflow/core/kernels/data/shuffle_dataset_op.cc:177] Filling up shuffle buffer (this may take a while): 64576 of 70504\n",
      "2022-01-02 05:53:05.505787: I tensorflow/core/kernels/data/shuffle_dataset_op.cc:230] Shuffle buffer filled.\n"
     ]
    },
    {
     "name": "stdout",
     "output_type": "stream",
     "text": [
      "Epoch 10, gen_loss: -1168990.6250, disc_loss: 0.0114\n",
      "Time for epoch 10 is 100.4470 sec\n"
     ]
    },
    {
     "name": "stderr",
     "output_type": "stream",
     "text": [
      "2022-01-02 05:53:40.565219: W tensorflow/core/grappler/optimizers/meta_optimizer.cc:153] TF_ENABLE_AUTO_MIXED_PRECISION has no effect.\n",
      "2022-01-02 05:53:40.565270: W tensorflow/core/grappler/optimizers/meta_optimizer.cc:153] TF_ENABLE_AUTO_MIXED_PRECISION has no effect.\n",
      "2022-01-02 05:53:40.565285: W tensorflow/core/grappler/optimizers/meta_optimizer.cc:153] TF_ENABLE_AUTO_MIXED_PRECISION has no effect.\n",
      "2022-01-02 05:53:40.565291: W tensorflow/core/grappler/optimizers/meta_optimizer.cc:153] TF_ENABLE_AUTO_MIXED_PRECISION has no effect.\n",
      "2022-01-02 05:53:50.552657: I tensorflow/core/kernels/data/shuffle_dataset_op.cc:177] Filling up shuffle buffer (this may take a while): 10566 of 70504\n",
      "2022-01-02 05:54:00.553805: I tensorflow/core/kernels/data/shuffle_dataset_op.cc:177] Filling up shuffle buffer (this may take a while): 21324 of 70504\n",
      "2022-01-02 05:54:10.552943: I tensorflow/core/kernels/data/shuffle_dataset_op.cc:177] Filling up shuffle buffer (this may take a while): 32077 of 70504\n",
      "2022-01-02 05:54:20.553927: I tensorflow/core/kernels/data/shuffle_dataset_op.cc:177] Filling up shuffle buffer (this may take a while): 42861 of 70504\n",
      "2022-01-02 05:54:30.552535: I tensorflow/core/kernels/data/shuffle_dataset_op.cc:177] Filling up shuffle buffer (this may take a while): 53599 of 70504\n",
      "2022-01-02 05:54:40.554706: I tensorflow/core/kernels/data/shuffle_dataset_op.cc:177] Filling up shuffle buffer (this may take a while): 64424 of 70504\n",
      "2022-01-02 05:54:46.163988: I tensorflow/core/kernels/data/shuffle_dataset_op.cc:230] Shuffle buffer filled.\n"
     ]
    },
    {
     "name": "stdout",
     "output_type": "stream",
     "text": [
      "Epoch 11, gen_loss: -1158250.3750, disc_loss: -0.2820\n",
      "Time for epoch 11 is 100.7026 sec\n"
     ]
    },
    {
     "name": "stderr",
     "output_type": "stream",
     "text": [
      "2022-01-02 05:55:21.313933: W tensorflow/core/grappler/optimizers/meta_optimizer.cc:153] TF_ENABLE_AUTO_MIXED_PRECISION has no effect.\n",
      "2022-01-02 05:55:21.313986: W tensorflow/core/grappler/optimizers/meta_optimizer.cc:153] TF_ENABLE_AUTO_MIXED_PRECISION has no effect.\n",
      "2022-01-02 05:55:21.314000: W tensorflow/core/grappler/optimizers/meta_optimizer.cc:153] TF_ENABLE_AUTO_MIXED_PRECISION has no effect.\n",
      "2022-01-02 05:55:21.314006: W tensorflow/core/grappler/optimizers/meta_optimizer.cc:153] TF_ENABLE_AUTO_MIXED_PRECISION has no effect.\n",
      "2022-01-02 05:55:31.298407: I tensorflow/core/kernels/data/shuffle_dataset_op.cc:177] Filling up shuffle buffer (this may take a while): 10816 of 70504\n",
      "2022-01-02 05:55:41.298722: I tensorflow/core/kernels/data/shuffle_dataset_op.cc:177] Filling up shuffle buffer (this may take a while): 21757 of 70504\n",
      "2022-01-02 05:55:51.299491: I tensorflow/core/kernels/data/shuffle_dataset_op.cc:177] Filling up shuffle buffer (this may take a while): 32661 of 70504\n",
      "2022-01-02 05:56:01.299054: I tensorflow/core/kernels/data/shuffle_dataset_op.cc:177] Filling up shuffle buffer (this may take a while): 43615 of 70504\n",
      "2022-01-02 05:56:11.299104: I tensorflow/core/kernels/data/shuffle_dataset_op.cc:177] Filling up shuffle buffer (this may take a while): 54555 of 70504\n",
      "2022-01-02 05:56:21.298354: I tensorflow/core/kernels/data/shuffle_dataset_op.cc:177] Filling up shuffle buffer (this may take a while): 65556 of 70504\n",
      "2022-01-02 05:56:25.774342: I tensorflow/core/kernels/data/shuffle_dataset_op.cc:230] Shuffle buffer filled.\n"
     ]
    },
    {
     "name": "stdout",
     "output_type": "stream",
     "text": [
      "Epoch 12, gen_loss: -1150236.5000, disc_loss: -0.6705\n",
      "Time for epoch 12 is 99.4717 sec\n"
     ]
    },
    {
     "name": "stderr",
     "output_type": "stream",
     "text": [
      "2022-01-02 05:57:00.826723: W tensorflow/core/grappler/optimizers/meta_optimizer.cc:153] TF_ENABLE_AUTO_MIXED_PRECISION has no effect.\n",
      "2022-01-02 05:57:00.826775: W tensorflow/core/grappler/optimizers/meta_optimizer.cc:153] TF_ENABLE_AUTO_MIXED_PRECISION has no effect.\n",
      "2022-01-02 05:57:00.826789: W tensorflow/core/grappler/optimizers/meta_optimizer.cc:153] TF_ENABLE_AUTO_MIXED_PRECISION has no effect.\n",
      "2022-01-02 05:57:00.826794: W tensorflow/core/grappler/optimizers/meta_optimizer.cc:153] TF_ENABLE_AUTO_MIXED_PRECISION has no effect.\n",
      "2022-01-02 05:57:10.812214: I tensorflow/core/kernels/data/shuffle_dataset_op.cc:177] Filling up shuffle buffer (this may take a while): 10812 of 70504\n",
      "2022-01-02 05:57:20.811738: I tensorflow/core/kernels/data/shuffle_dataset_op.cc:177] Filling up shuffle buffer (this may take a while): 21766 of 70504\n",
      "2022-01-02 05:57:30.812407: I tensorflow/core/kernels/data/shuffle_dataset_op.cc:177] Filling up shuffle buffer (this may take a while): 32688 of 70504\n",
      "2022-01-02 05:57:40.813001: I tensorflow/core/kernels/data/shuffle_dataset_op.cc:177] Filling up shuffle buffer (this may take a while): 43676 of 70504\n",
      "2022-01-02 05:57:50.811944: I tensorflow/core/kernels/data/shuffle_dataset_op.cc:177] Filling up shuffle buffer (this may take a while): 54647 of 70504\n",
      "2022-01-02 05:58:00.812054: I tensorflow/core/kernels/data/shuffle_dataset_op.cc:177] Filling up shuffle buffer (this may take a while): 65534 of 70504\n",
      "2022-01-02 05:58:05.336100: I tensorflow/core/kernels/data/shuffle_dataset_op.cc:230] Shuffle buffer filled.\n"
     ]
    },
    {
     "name": "stdout",
     "output_type": "stream",
     "text": [
      "Epoch 13, gen_loss: -1130271.2500, disc_loss: -0.5866\n",
      "Time for epoch 13 is 99.5721 sec\n"
     ]
    },
    {
     "name": "stderr",
     "output_type": "stream",
     "text": [
      "2022-01-02 05:58:40.442028: W tensorflow/core/grappler/optimizers/meta_optimizer.cc:153] TF_ENABLE_AUTO_MIXED_PRECISION has no effect.\n",
      "2022-01-02 05:58:40.442078: W tensorflow/core/grappler/optimizers/meta_optimizer.cc:153] TF_ENABLE_AUTO_MIXED_PRECISION has no effect.\n",
      "2022-01-02 05:58:40.442092: W tensorflow/core/grappler/optimizers/meta_optimizer.cc:153] TF_ENABLE_AUTO_MIXED_PRECISION has no effect.\n",
      "2022-01-02 05:58:40.442097: W tensorflow/core/grappler/optimizers/meta_optimizer.cc:153] TF_ENABLE_AUTO_MIXED_PRECISION has no effect.\n",
      "2022-01-02 05:58:50.427849: I tensorflow/core/kernels/data/shuffle_dataset_op.cc:177] Filling up shuffle buffer (this may take a while): 10577 of 70504\n",
      "2022-01-02 05:59:00.427356: I tensorflow/core/kernels/data/shuffle_dataset_op.cc:177] Filling up shuffle buffer (this may take a while): 21265 of 70504\n",
      "2022-01-02 05:59:10.428544: I tensorflow/core/kernels/data/shuffle_dataset_op.cc:177] Filling up shuffle buffer (this may take a while): 32024 of 70504\n",
      "2022-01-02 05:59:20.427221: I tensorflow/core/kernels/data/shuffle_dataset_op.cc:177] Filling up shuffle buffer (this may take a while): 42782 of 70504\n",
      "2022-01-02 05:59:30.428584: I tensorflow/core/kernels/data/shuffle_dataset_op.cc:177] Filling up shuffle buffer (this may take a while): 53488 of 70504\n",
      "2022-01-02 05:59:40.427982: I tensorflow/core/kernels/data/shuffle_dataset_op.cc:177] Filling up shuffle buffer (this may take a while): 64267 of 70504\n",
      "2022-01-02 05:59:46.195720: I tensorflow/core/kernels/data/shuffle_dataset_op.cc:230] Shuffle buffer filled.\n"
     ]
    },
    {
     "name": "stdout",
     "output_type": "stream",
     "text": [
      "Epoch 14, gen_loss: -1106987.8750, disc_loss: -0.7697\n",
      "Time for epoch 14 is 100.8224 sec\n"
     ]
    },
    {
     "name": "stderr",
     "output_type": "stream",
     "text": [
      "2022-01-02 06:00:21.305363: W tensorflow/core/grappler/optimizers/meta_optimizer.cc:153] TF_ENABLE_AUTO_MIXED_PRECISION has no effect.\n",
      "2022-01-02 06:00:21.305412: W tensorflow/core/grappler/optimizers/meta_optimizer.cc:153] TF_ENABLE_AUTO_MIXED_PRECISION has no effect.\n",
      "2022-01-02 06:00:21.305426: W tensorflow/core/grappler/optimizers/meta_optimizer.cc:153] TF_ENABLE_AUTO_MIXED_PRECISION has no effect.\n",
      "2022-01-02 06:00:21.305432: W tensorflow/core/grappler/optimizers/meta_optimizer.cc:153] TF_ENABLE_AUTO_MIXED_PRECISION has no effect.\n",
      "2022-01-02 06:00:31.293460: I tensorflow/core/kernels/data/shuffle_dataset_op.cc:177] Filling up shuffle buffer (this may take a while): 10582 of 70504\n",
      "2022-01-02 06:00:41.293853: I tensorflow/core/kernels/data/shuffle_dataset_op.cc:177] Filling up shuffle buffer (this may take a while): 21275 of 70504\n",
      "2022-01-02 06:00:51.294714: I tensorflow/core/kernels/data/shuffle_dataset_op.cc:177] Filling up shuffle buffer (this may take a while): 31999 of 70504\n",
      "2022-01-02 06:01:01.293286: I tensorflow/core/kernels/data/shuffle_dataset_op.cc:177] Filling up shuffle buffer (this may take a while): 42701 of 70504\n",
      "2022-01-02 06:01:11.293127: I tensorflow/core/kernels/data/shuffle_dataset_op.cc:177] Filling up shuffle buffer (this may take a while): 53412 of 70504\n",
      "2022-01-02 06:01:21.294595: I tensorflow/core/kernels/data/shuffle_dataset_op.cc:177] Filling up shuffle buffer (this may take a while): 64233 of 70504\n",
      "2022-01-02 06:01:27.078128: I tensorflow/core/kernels/data/shuffle_dataset_op.cc:230] Shuffle buffer filled.\n"
     ]
    },
    {
     "name": "stdout",
     "output_type": "stream",
     "text": [
      "Epoch 15, gen_loss: -1096494.7500, disc_loss: -0.8423\n",
      "Time for epoch 15 is 100.8243 sec\n"
     ]
    },
    {
     "name": "stderr",
     "output_type": "stream",
     "text": [
      "2022-01-02 06:02:02.175553: W tensorflow/core/grappler/optimizers/meta_optimizer.cc:153] TF_ENABLE_AUTO_MIXED_PRECISION has no effect.\n",
      "2022-01-02 06:02:02.175605: W tensorflow/core/grappler/optimizers/meta_optimizer.cc:153] TF_ENABLE_AUTO_MIXED_PRECISION has no effect.\n",
      "2022-01-02 06:02:02.175619: W tensorflow/core/grappler/optimizers/meta_optimizer.cc:153] TF_ENABLE_AUTO_MIXED_PRECISION has no effect.\n",
      "2022-01-02 06:02:02.175625: W tensorflow/core/grappler/optimizers/meta_optimizer.cc:153] TF_ENABLE_AUTO_MIXED_PRECISION has no effect.\n",
      "2022-01-02 06:02:12.161639: I tensorflow/core/kernels/data/shuffle_dataset_op.cc:177] Filling up shuffle buffer (this may take a while): 10811 of 70504\n",
      "2022-01-02 06:02:22.161567: I tensorflow/core/kernels/data/shuffle_dataset_op.cc:177] Filling up shuffle buffer (this may take a while): 21762 of 70504\n",
      "2022-01-02 06:02:32.161704: I tensorflow/core/kernels/data/shuffle_dataset_op.cc:177] Filling up shuffle buffer (this may take a while): 32709 of 70504\n",
      "2022-01-02 06:02:42.162429: I tensorflow/core/kernels/data/shuffle_dataset_op.cc:177] Filling up shuffle buffer (this may take a while): 43669 of 70504\n",
      "2022-01-02 06:02:52.162936: I tensorflow/core/kernels/data/shuffle_dataset_op.cc:177] Filling up shuffle buffer (this may take a while): 54614 of 70504\n",
      "2022-01-02 06:03:02.162090: I tensorflow/core/kernels/data/shuffle_dataset_op.cc:177] Filling up shuffle buffer (this may take a while): 65666 of 70504\n",
      "2022-01-02 06:03:06.512196: I tensorflow/core/kernels/data/shuffle_dataset_op.cc:230] Shuffle buffer filled.\n"
     ]
    },
    {
     "name": "stdout",
     "output_type": "stream",
     "text": [
      "Epoch 16, gen_loss: -1081348.8750, disc_loss: -0.8446\n",
      "Time for epoch 16 is 99.4306 sec\n"
     ]
    },
    {
     "name": "stderr",
     "output_type": "stream",
     "text": [
      "2022-01-02 06:03:41.652286: W tensorflow/core/grappler/optimizers/meta_optimizer.cc:153] TF_ENABLE_AUTO_MIXED_PRECISION has no effect.\n",
      "2022-01-02 06:03:41.652338: W tensorflow/core/grappler/optimizers/meta_optimizer.cc:153] TF_ENABLE_AUTO_MIXED_PRECISION has no effect.\n",
      "2022-01-02 06:03:41.652352: W tensorflow/core/grappler/optimizers/meta_optimizer.cc:153] TF_ENABLE_AUTO_MIXED_PRECISION has no effect.\n",
      "2022-01-02 06:03:41.652357: W tensorflow/core/grappler/optimizers/meta_optimizer.cc:153] TF_ENABLE_AUTO_MIXED_PRECISION has no effect.\n",
      "2022-01-02 06:03:51.635660: I tensorflow/core/kernels/data/shuffle_dataset_op.cc:177] Filling up shuffle buffer (this may take a while): 10834 of 70504\n",
      "2022-01-02 06:04:01.635553: I tensorflow/core/kernels/data/shuffle_dataset_op.cc:177] Filling up shuffle buffer (this may take a while): 21835 of 70504\n",
      "2022-01-02 06:04:11.634902: I tensorflow/core/kernels/data/shuffle_dataset_op.cc:177] Filling up shuffle buffer (this may take a while): 32839 of 70504\n",
      "2022-01-02 06:04:21.635749: I tensorflow/core/kernels/data/shuffle_dataset_op.cc:177] Filling up shuffle buffer (this may take a while): 43871 of 70504\n",
      "2022-01-02 06:04:31.634886: I tensorflow/core/kernels/data/shuffle_dataset_op.cc:177] Filling up shuffle buffer (this may take a while): 54869 of 70504\n",
      "2022-01-02 06:04:41.635371: I tensorflow/core/kernels/data/shuffle_dataset_op.cc:177] Filling up shuffle buffer (this may take a while): 65960 of 70504\n",
      "2022-01-02 06:04:45.717684: I tensorflow/core/kernels/data/shuffle_dataset_op.cc:230] Shuffle buffer filled.\n"
     ]
    },
    {
     "name": "stdout",
     "output_type": "stream",
     "text": [
      "Epoch 17, gen_loss: -1085845.2500, disc_loss: -1.2945\n",
      "Time for epoch 17 is 99.0716 sec\n"
     ]
    },
    {
     "name": "stderr",
     "output_type": "stream",
     "text": [
      "2022-01-02 06:05:20.757650: W tensorflow/core/grappler/optimizers/meta_optimizer.cc:153] TF_ENABLE_AUTO_MIXED_PRECISION has no effect.\n",
      "2022-01-02 06:05:20.757701: W tensorflow/core/grappler/optimizers/meta_optimizer.cc:153] TF_ENABLE_AUTO_MIXED_PRECISION has no effect.\n",
      "2022-01-02 06:05:20.757715: W tensorflow/core/grappler/optimizers/meta_optimizer.cc:153] TF_ENABLE_AUTO_MIXED_PRECISION has no effect.\n",
      "2022-01-02 06:05:20.757720: W tensorflow/core/grappler/optimizers/meta_optimizer.cc:153] TF_ENABLE_AUTO_MIXED_PRECISION has no effect.\n",
      "2022-01-02 06:05:30.744355: I tensorflow/core/kernels/data/shuffle_dataset_op.cc:177] Filling up shuffle buffer (this may take a while): 10621 of 70504\n",
      "2022-01-02 06:05:40.744234: I tensorflow/core/kernels/data/shuffle_dataset_op.cc:177] Filling up shuffle buffer (this may take a while): 21355 of 70504\n",
      "2022-01-02 06:05:50.744638: I tensorflow/core/kernels/data/shuffle_dataset_op.cc:177] Filling up shuffle buffer (this may take a while): 32115 of 70504\n",
      "2022-01-02 06:06:00.745799: I tensorflow/core/kernels/data/shuffle_dataset_op.cc:177] Filling up shuffle buffer (this may take a while): 42821 of 70504\n",
      "2022-01-02 06:06:10.744237: I tensorflow/core/kernels/data/shuffle_dataset_op.cc:177] Filling up shuffle buffer (this may take a while): 53535 of 70504\n",
      "2022-01-02 06:06:20.746721: I tensorflow/core/kernels/data/shuffle_dataset_op.cc:177] Filling up shuffle buffer (this may take a while): 64357 of 70504\n",
      "2022-01-02 06:06:26.413554: I tensorflow/core/kernels/data/shuffle_dataset_op.cc:230] Shuffle buffer filled.\n"
     ]
    },
    {
     "name": "stdout",
     "output_type": "stream",
     "text": [
      "Epoch 18, gen_loss: -1070322.2500, disc_loss: -1.7488\n",
      "Time for epoch 18 is 100.6911 sec\n"
     ]
    },
    {
     "name": "stderr",
     "output_type": "stream",
     "text": [
      "2022-01-02 06:07:01.490352: W tensorflow/core/grappler/optimizers/meta_optimizer.cc:153] TF_ENABLE_AUTO_MIXED_PRECISION has no effect.\n",
      "2022-01-02 06:07:01.490407: W tensorflow/core/grappler/optimizers/meta_optimizer.cc:153] TF_ENABLE_AUTO_MIXED_PRECISION has no effect.\n",
      "2022-01-02 06:07:01.490421: W tensorflow/core/grappler/optimizers/meta_optimizer.cc:153] TF_ENABLE_AUTO_MIXED_PRECISION has no effect.\n",
      "2022-01-02 06:07:01.490426: W tensorflow/core/grappler/optimizers/meta_optimizer.cc:153] TF_ENABLE_AUTO_MIXED_PRECISION has no effect.\n",
      "2022-01-02 06:07:11.477483: I tensorflow/core/kernels/data/shuffle_dataset_op.cc:177] Filling up shuffle buffer (this may take a while): 10634 of 70504\n",
      "2022-01-02 06:07:21.477896: I tensorflow/core/kernels/data/shuffle_dataset_op.cc:177] Filling up shuffle buffer (this may take a while): 21276 of 70504\n",
      "2022-01-02 06:07:31.476524: I tensorflow/core/kernels/data/shuffle_dataset_op.cc:177] Filling up shuffle buffer (this may take a while): 32060 of 70504\n",
      "2022-01-02 06:07:41.478364: I tensorflow/core/kernels/data/shuffle_dataset_op.cc:177] Filling up shuffle buffer (this may take a while): 42849 of 70504\n",
      "2022-01-02 06:07:51.477606: I tensorflow/core/kernels/data/shuffle_dataset_op.cc:177] Filling up shuffle buffer (this may take a while): 53615 of 70504\n",
      "2022-01-02 06:08:01.476942: I tensorflow/core/kernels/data/shuffle_dataset_op.cc:177] Filling up shuffle buffer (this may take a while): 64479 of 70504\n",
      "2022-01-02 06:08:06.997110: I tensorflow/core/kernels/data/shuffle_dataset_op.cc:230] Shuffle buffer filled.\n"
     ]
    },
    {
     "name": "stdout",
     "output_type": "stream",
     "text": [
      "Epoch 19, gen_loss: -1038676.1875, disc_loss: -1.9992\n",
      "Time for epoch 19 is 100.5226 sec\n"
     ]
    },
    {
     "name": "stderr",
     "output_type": "stream",
     "text": [
      "2022-01-02 06:08:42.056146: W tensorflow/core/grappler/optimizers/meta_optimizer.cc:153] TF_ENABLE_AUTO_MIXED_PRECISION has no effect.\n",
      "2022-01-02 06:08:42.056190: W tensorflow/core/grappler/optimizers/meta_optimizer.cc:153] TF_ENABLE_AUTO_MIXED_PRECISION has no effect.\n",
      "2022-01-02 06:08:42.056204: W tensorflow/core/grappler/optimizers/meta_optimizer.cc:153] TF_ENABLE_AUTO_MIXED_PRECISION has no effect.\n",
      "2022-01-02 06:08:42.056209: W tensorflow/core/grappler/optimizers/meta_optimizer.cc:153] TF_ENABLE_AUTO_MIXED_PRECISION has no effect.\n",
      "2022-01-02 06:08:52.045716: I tensorflow/core/kernels/data/shuffle_dataset_op.cc:177] Filling up shuffle buffer (this may take a while): 10861 of 70504\n",
      "2022-01-02 06:09:02.044228: I tensorflow/core/kernels/data/shuffle_dataset_op.cc:177] Filling up shuffle buffer (this may take a while): 21826 of 70504\n",
      "2022-01-02 06:09:12.043901: I tensorflow/core/kernels/data/shuffle_dataset_op.cc:177] Filling up shuffle buffer (this may take a while): 32748 of 70504\n",
      "2022-01-02 06:09:22.044500: I tensorflow/core/kernels/data/shuffle_dataset_op.cc:177] Filling up shuffle buffer (this may take a while): 43644 of 70504\n",
      "2022-01-02 06:09:32.044146: I tensorflow/core/kernels/data/shuffle_dataset_op.cc:177] Filling up shuffle buffer (this may take a while): 54607 of 70504\n",
      "2022-01-02 06:09:42.043533: I tensorflow/core/kernels/data/shuffle_dataset_op.cc:177] Filling up shuffle buffer (this may take a while): 65587 of 70504\n",
      "2022-01-02 06:09:46.468958: I tensorflow/core/kernels/data/shuffle_dataset_op.cc:230] Shuffle buffer filled.\n"
     ]
    },
    {
     "name": "stdout",
     "output_type": "stream",
     "text": [
      "Epoch 20, gen_loss: -1032962.1875, disc_loss: -2.1236\n",
      "Time for epoch 20 is 99.5035 sec\n"
     ]
    },
    {
     "name": "stderr",
     "output_type": "stream",
     "text": [
      "2022-01-02 06:10:21.635841: W tensorflow/core/grappler/optimizers/meta_optimizer.cc:153] TF_ENABLE_AUTO_MIXED_PRECISION has no effect.\n",
      "2022-01-02 06:10:21.635894: W tensorflow/core/grappler/optimizers/meta_optimizer.cc:153] TF_ENABLE_AUTO_MIXED_PRECISION has no effect.\n",
      "2022-01-02 06:10:21.635908: W tensorflow/core/grappler/optimizers/meta_optimizer.cc:153] TF_ENABLE_AUTO_MIXED_PRECISION has no effect.\n",
      "2022-01-02 06:10:21.635914: W tensorflow/core/grappler/optimizers/meta_optimizer.cc:153] TF_ENABLE_AUTO_MIXED_PRECISION has no effect.\n",
      "2022-01-02 06:10:31.619269: I tensorflow/core/kernels/data/shuffle_dataset_op.cc:177] Filling up shuffle buffer (this may take a while): 10846 of 70504\n",
      "2022-01-02 06:10:41.618956: I tensorflow/core/kernels/data/shuffle_dataset_op.cc:177] Filling up shuffle buffer (this may take a while): 21806 of 70504\n",
      "2022-01-02 06:10:51.618957: I tensorflow/core/kernels/data/shuffle_dataset_op.cc:177] Filling up shuffle buffer (this may take a while): 32723 of 70504\n",
      "2022-01-02 06:11:01.619934: I tensorflow/core/kernels/data/shuffle_dataset_op.cc:177] Filling up shuffle buffer (this may take a while): 43669 of 70504\n",
      "2022-01-02 06:11:11.618960: I tensorflow/core/kernels/data/shuffle_dataset_op.cc:177] Filling up shuffle buffer (this may take a while): 54665 of 70504\n",
      "2022-01-02 06:11:21.618844: I tensorflow/core/kernels/data/shuffle_dataset_op.cc:177] Filling up shuffle buffer (this may take a while): 65720 of 70504\n",
      "2022-01-02 06:11:25.956444: I tensorflow/core/kernels/data/shuffle_dataset_op.cc:230] Shuffle buffer filled.\n"
     ]
    },
    {
     "name": "stdout",
     "output_type": "stream",
     "text": [
      "Epoch 21, gen_loss: -1052935.5000, disc_loss: -2.2105\n",
      "Time for epoch 21 is 99.4311 sec\n"
     ]
    },
    {
     "name": "stderr",
     "output_type": "stream",
     "text": [
      "2022-01-02 06:12:01.082016: W tensorflow/core/grappler/optimizers/meta_optimizer.cc:153] TF_ENABLE_AUTO_MIXED_PRECISION has no effect.\n",
      "2022-01-02 06:12:01.082072: W tensorflow/core/grappler/optimizers/meta_optimizer.cc:153] TF_ENABLE_AUTO_MIXED_PRECISION has no effect.\n",
      "2022-01-02 06:12:01.082086: W tensorflow/core/grappler/optimizers/meta_optimizer.cc:153] TF_ENABLE_AUTO_MIXED_PRECISION has no effect.\n",
      "2022-01-02 06:12:01.082092: W tensorflow/core/grappler/optimizers/meta_optimizer.cc:153] TF_ENABLE_AUTO_MIXED_PRECISION has no effect.\n",
      "2022-01-02 06:12:11.064972: I tensorflow/core/kernels/data/shuffle_dataset_op.cc:177] Filling up shuffle buffer (this may take a while): 10549 of 70504\n",
      "2022-01-02 06:12:21.065506: I tensorflow/core/kernels/data/shuffle_dataset_op.cc:177] Filling up shuffle buffer (this may take a while): 21272 of 70504\n",
      "2022-01-02 06:12:31.066485: I tensorflow/core/kernels/data/shuffle_dataset_op.cc:177] Filling up shuffle buffer (this may take a while): 31992 of 70504\n",
      "2022-01-02 06:12:41.066403: I tensorflow/core/kernels/data/shuffle_dataset_op.cc:177] Filling up shuffle buffer (this may take a while): 42733 of 70504\n",
      "2022-01-02 06:12:51.065675: I tensorflow/core/kernels/data/shuffle_dataset_op.cc:177] Filling up shuffle buffer (this may take a while): 53452 of 70504\n",
      "2022-01-02 06:13:01.065672: I tensorflow/core/kernels/data/shuffle_dataset_op.cc:177] Filling up shuffle buffer (this may take a while): 64240 of 70504\n",
      "2022-01-02 06:13:06.844175: I tensorflow/core/kernels/data/shuffle_dataset_op.cc:230] Shuffle buffer filled.\n"
     ]
    },
    {
     "name": "stdout",
     "output_type": "stream",
     "text": [
      "Epoch 22, gen_loss: -1064696.0000, disc_loss: -2.3311\n",
      "Time for epoch 22 is 100.8351 sec\n"
     ]
    },
    {
     "name": "stderr",
     "output_type": "stream",
     "text": [
      "2022-01-02 06:13:41.959846: W tensorflow/core/grappler/optimizers/meta_optimizer.cc:153] TF_ENABLE_AUTO_MIXED_PRECISION has no effect.\n",
      "2022-01-02 06:13:41.959900: W tensorflow/core/grappler/optimizers/meta_optimizer.cc:153] TF_ENABLE_AUTO_MIXED_PRECISION has no effect.\n",
      "2022-01-02 06:13:41.959915: W tensorflow/core/grappler/optimizers/meta_optimizer.cc:153] TF_ENABLE_AUTO_MIXED_PRECISION has no effect.\n",
      "2022-01-02 06:13:41.959920: W tensorflow/core/grappler/optimizers/meta_optimizer.cc:153] TF_ENABLE_AUTO_MIXED_PRECISION has no effect.\n",
      "2022-01-02 06:13:51.942149: I tensorflow/core/kernels/data/shuffle_dataset_op.cc:177] Filling up shuffle buffer (this may take a while): 10778 of 70504\n",
      "2022-01-02 06:14:01.942165: I tensorflow/core/kernels/data/shuffle_dataset_op.cc:177] Filling up shuffle buffer (this may take a while): 21733 of 70504\n",
      "2022-01-02 06:14:11.942650: I tensorflow/core/kernels/data/shuffle_dataset_op.cc:177] Filling up shuffle buffer (this may take a while): 32684 of 70504\n",
      "2022-01-02 06:14:21.942217: I tensorflow/core/kernels/data/shuffle_dataset_op.cc:177] Filling up shuffle buffer (this may take a while): 43687 of 70504\n",
      "2022-01-02 06:14:31.942331: I tensorflow/core/kernels/data/shuffle_dataset_op.cc:177] Filling up shuffle buffer (this may take a while): 54643 of 70504\n",
      "2022-01-02 06:14:41.942553: I tensorflow/core/kernels/data/shuffle_dataset_op.cc:177] Filling up shuffle buffer (this may take a while): 65684 of 70504\n",
      "2022-01-02 06:14:46.283196: I tensorflow/core/kernels/data/shuffle_dataset_op.cc:230] Shuffle buffer filled.\n"
     ]
    },
    {
     "name": "stdout",
     "output_type": "stream",
     "text": [
      "Epoch 23, gen_loss: -1052570.2500, disc_loss: -2.4848\n",
      "Time for epoch 23 is 99.4301 sec\n"
     ]
    },
    {
     "name": "stderr",
     "output_type": "stream",
     "text": [
      "2022-01-02 06:15:21.431161: W tensorflow/core/grappler/optimizers/meta_optimizer.cc:153] TF_ENABLE_AUTO_MIXED_PRECISION has no effect.\n",
      "2022-01-02 06:15:21.431210: W tensorflow/core/grappler/optimizers/meta_optimizer.cc:153] TF_ENABLE_AUTO_MIXED_PRECISION has no effect.\n",
      "2022-01-02 06:15:21.431224: W tensorflow/core/grappler/optimizers/meta_optimizer.cc:153] TF_ENABLE_AUTO_MIXED_PRECISION has no effect.\n",
      "2022-01-02 06:15:21.431229: W tensorflow/core/grappler/optimizers/meta_optimizer.cc:153] TF_ENABLE_AUTO_MIXED_PRECISION has no effect.\n",
      "2022-01-02 06:15:31.416491: I tensorflow/core/kernels/data/shuffle_dataset_op.cc:177] Filling up shuffle buffer (this may take a while): 10775 of 70504\n",
      "2022-01-02 06:15:41.415838: I tensorflow/core/kernels/data/shuffle_dataset_op.cc:177] Filling up shuffle buffer (this may take a while): 21726 of 70504\n",
      "2022-01-02 06:15:51.415487: I tensorflow/core/kernels/data/shuffle_dataset_op.cc:177] Filling up shuffle buffer (this may take a while): 32606 of 70504\n",
      "2022-01-02 06:16:01.416959: I tensorflow/core/kernels/data/shuffle_dataset_op.cc:177] Filling up shuffle buffer (this may take a while): 43501 of 70504\n",
      "2022-01-02 06:16:11.415255: I tensorflow/core/kernels/data/shuffle_dataset_op.cc:177] Filling up shuffle buffer (this may take a while): 54450 of 70504\n",
      "2022-01-02 06:16:21.416729: I tensorflow/core/kernels/data/shuffle_dataset_op.cc:177] Filling up shuffle buffer (this may take a while): 65493 of 70504\n",
      "2022-01-02 06:16:25.966433: I tensorflow/core/kernels/data/shuffle_dataset_op.cc:230] Shuffle buffer filled.\n"
     ]
    },
    {
     "name": "stdout",
     "output_type": "stream",
     "text": [
      "Epoch 24, gen_loss: -1044548.6875, disc_loss: -2.9178\n",
      "Time for epoch 24 is 99.5652 sec\n"
     ]
    },
    {
     "name": "stderr",
     "output_type": "stream",
     "text": [
      "2022-01-02 06:17:01.037665: W tensorflow/core/grappler/optimizers/meta_optimizer.cc:153] TF_ENABLE_AUTO_MIXED_PRECISION has no effect.\n",
      "2022-01-02 06:17:01.037717: W tensorflow/core/grappler/optimizers/meta_optimizer.cc:153] TF_ENABLE_AUTO_MIXED_PRECISION has no effect.\n",
      "2022-01-02 06:17:01.037731: W tensorflow/core/grappler/optimizers/meta_optimizer.cc:153] TF_ENABLE_AUTO_MIXED_PRECISION has no effect.\n",
      "2022-01-02 06:17:01.037736: W tensorflow/core/grappler/optimizers/meta_optimizer.cc:153] TF_ENABLE_AUTO_MIXED_PRECISION has no effect.\n",
      "2022-01-02 06:17:11.021506: I tensorflow/core/kernels/data/shuffle_dataset_op.cc:177] Filling up shuffle buffer (this may take a while): 10594 of 70504\n",
      "2022-01-02 06:17:21.021955: I tensorflow/core/kernels/data/shuffle_dataset_op.cc:177] Filling up shuffle buffer (this may take a while): 21327 of 70504\n",
      "2022-01-02 06:17:31.021703: I tensorflow/core/kernels/data/shuffle_dataset_op.cc:177] Filling up shuffle buffer (this may take a while): 32089 of 70504\n",
      "2022-01-02 06:17:41.022340: I tensorflow/core/kernels/data/shuffle_dataset_op.cc:177] Filling up shuffle buffer (this may take a while): 42827 of 70504\n",
      "2022-01-02 06:17:51.021781: I tensorflow/core/kernels/data/shuffle_dataset_op.cc:177] Filling up shuffle buffer (this may take a while): 53502 of 70504\n",
      "2022-01-02 06:18:01.021836: I tensorflow/core/kernels/data/shuffle_dataset_op.cc:177] Filling up shuffle buffer (this may take a while): 64334 of 70504\n",
      "2022-01-02 06:18:06.673379: I tensorflow/core/kernels/data/shuffle_dataset_op.cc:230] Shuffle buffer filled.\n"
     ]
    },
    {
     "name": "stdout",
     "output_type": "stream",
     "text": [
      "Epoch 25, gen_loss: -1036011.8750, disc_loss: -3.2046\n",
      "Time for epoch 25 is 100.7126 sec\n"
     ]
    },
    {
     "name": "stderr",
     "output_type": "stream",
     "text": [
      "2022-01-02 06:18:41.792869: W tensorflow/core/grappler/optimizers/meta_optimizer.cc:153] TF_ENABLE_AUTO_MIXED_PRECISION has no effect.\n",
      "2022-01-02 06:18:41.792923: W tensorflow/core/grappler/optimizers/meta_optimizer.cc:153] TF_ENABLE_AUTO_MIXED_PRECISION has no effect.\n",
      "2022-01-02 06:18:41.792937: W tensorflow/core/grappler/optimizers/meta_optimizer.cc:153] TF_ENABLE_AUTO_MIXED_PRECISION has no effect.\n",
      "2022-01-02 06:18:41.792943: W tensorflow/core/grappler/optimizers/meta_optimizer.cc:153] TF_ENABLE_AUTO_MIXED_PRECISION has no effect.\n",
      "2022-01-02 06:18:51.775805: I tensorflow/core/kernels/data/shuffle_dataset_op.cc:177] Filling up shuffle buffer (this may take a while): 10796 of 70504\n",
      "2022-01-02 06:19:01.776399: I tensorflow/core/kernels/data/shuffle_dataset_op.cc:177] Filling up shuffle buffer (this may take a while): 21694 of 70504\n",
      "2022-01-02 06:19:11.775805: I tensorflow/core/kernels/data/shuffle_dataset_op.cc:177] Filling up shuffle buffer (this may take a while): 32618 of 70504\n",
      "2022-01-02 06:19:21.778011: I tensorflow/core/kernels/data/shuffle_dataset_op.cc:177] Filling up shuffle buffer (this may take a while): 43591 of 70504\n",
      "2022-01-02 06:19:31.776360: I tensorflow/core/kernels/data/shuffle_dataset_op.cc:177] Filling up shuffle buffer (this may take a while): 54534 of 70504\n",
      "2022-01-02 06:19:41.775963: I tensorflow/core/kernels/data/shuffle_dataset_op.cc:177] Filling up shuffle buffer (this may take a while): 65583 of 70504\n",
      "2022-01-02 06:19:46.207327: I tensorflow/core/kernels/data/shuffle_dataset_op.cc:230] Shuffle buffer filled.\n"
     ]
    },
    {
     "name": "stdout",
     "output_type": "stream",
     "text": [
      "Epoch 26, gen_loss: -1027700.2500, disc_loss: -3.4192\n",
      "Time for epoch 26 is 99.4247 sec\n"
     ]
    },
    {
     "name": "stderr",
     "output_type": "stream",
     "text": [
      "2022-01-02 06:20:21.255875: W tensorflow/core/grappler/optimizers/meta_optimizer.cc:153] TF_ENABLE_AUTO_MIXED_PRECISION has no effect.\n",
      "2022-01-02 06:20:21.255927: W tensorflow/core/grappler/optimizers/meta_optimizer.cc:153] TF_ENABLE_AUTO_MIXED_PRECISION has no effect.\n",
      "2022-01-02 06:20:21.255940: W tensorflow/core/grappler/optimizers/meta_optimizer.cc:153] TF_ENABLE_AUTO_MIXED_PRECISION has no effect.\n",
      "2022-01-02 06:20:21.255946: W tensorflow/core/grappler/optimizers/meta_optimizer.cc:153] TF_ENABLE_AUTO_MIXED_PRECISION has no effect.\n",
      "2022-01-02 06:20:31.241010: I tensorflow/core/kernels/data/shuffle_dataset_op.cc:177] Filling up shuffle buffer (this may take a while): 10829 of 70504\n",
      "2022-01-02 06:20:41.240421: I tensorflow/core/kernels/data/shuffle_dataset_op.cc:177] Filling up shuffle buffer (this may take a while): 21683 of 70504\n",
      "2022-01-02 06:20:51.241611: I tensorflow/core/kernels/data/shuffle_dataset_op.cc:177] Filling up shuffle buffer (this may take a while): 32586 of 70504\n",
      "2022-01-02 06:21:01.240933: I tensorflow/core/kernels/data/shuffle_dataset_op.cc:177] Filling up shuffle buffer (this may take a while): 43523 of 70504\n",
      "2022-01-02 06:21:11.240162: I tensorflow/core/kernels/data/shuffle_dataset_op.cc:177] Filling up shuffle buffer (this may take a while): 54538 of 70504\n",
      "2022-01-02 06:21:21.239962: I tensorflow/core/kernels/data/shuffle_dataset_op.cc:177] Filling up shuffle buffer (this may take a while): 65512 of 70504\n",
      "2022-01-02 06:21:25.751835: I tensorflow/core/kernels/data/shuffle_dataset_op.cc:230] Shuffle buffer filled.\n"
     ]
    },
    {
     "name": "stdout",
     "output_type": "stream",
     "text": [
      "Epoch 27, gen_loss: -1016223.2500, disc_loss: -3.6241\n",
      "Time for epoch 27 is 99.5540 sec\n"
     ]
    },
    {
     "name": "stderr",
     "output_type": "stream",
     "text": [
      "2022-01-02 06:22:00.846825: W tensorflow/core/grappler/optimizers/meta_optimizer.cc:153] TF_ENABLE_AUTO_MIXED_PRECISION has no effect.\n",
      "2022-01-02 06:22:00.846875: W tensorflow/core/grappler/optimizers/meta_optimizer.cc:153] TF_ENABLE_AUTO_MIXED_PRECISION has no effect.\n",
      "2022-01-02 06:22:00.846889: W tensorflow/core/grappler/optimizers/meta_optimizer.cc:153] TF_ENABLE_AUTO_MIXED_PRECISION has no effect.\n",
      "2022-01-02 06:22:00.846894: W tensorflow/core/grappler/optimizers/meta_optimizer.cc:153] TF_ENABLE_AUTO_MIXED_PRECISION has no effect.\n",
      "2022-01-02 06:22:10.834808: I tensorflow/core/kernels/data/shuffle_dataset_op.cc:177] Filling up shuffle buffer (this may take a while): 10791 of 70504\n",
      "2022-01-02 06:22:20.834606: I tensorflow/core/kernels/data/shuffle_dataset_op.cc:177] Filling up shuffle buffer (this may take a while): 21746 of 70504\n",
      "2022-01-02 06:22:30.834921: I tensorflow/core/kernels/data/shuffle_dataset_op.cc:177] Filling up shuffle buffer (this may take a while): 32644 of 70504\n",
      "2022-01-02 06:22:40.835481: I tensorflow/core/kernels/data/shuffle_dataset_op.cc:177] Filling up shuffle buffer (this may take a while): 43616 of 70504\n",
      "2022-01-02 06:22:50.834492: I tensorflow/core/kernels/data/shuffle_dataset_op.cc:177] Filling up shuffle buffer (this may take a while): 54582 of 70504\n",
      "2022-01-02 06:23:00.834317: I tensorflow/core/kernels/data/shuffle_dataset_op.cc:177] Filling up shuffle buffer (this may take a while): 65615 of 70504\n",
      "2022-01-02 06:23:05.234627: I tensorflow/core/kernels/data/shuffle_dataset_op.cc:230] Shuffle buffer filled.\n"
     ]
    },
    {
     "name": "stdout",
     "output_type": "stream",
     "text": [
      "Epoch 28, gen_loss: -1009140.6250, disc_loss: -3.6546\n",
      "Time for epoch 28 is 99.4396 sec\n"
     ]
    },
    {
     "name": "stderr",
     "output_type": "stream",
     "text": [
      "2022-01-02 06:23:40.327234: W tensorflow/core/grappler/optimizers/meta_optimizer.cc:153] TF_ENABLE_AUTO_MIXED_PRECISION has no effect.\n",
      "2022-01-02 06:23:40.327277: W tensorflow/core/grappler/optimizers/meta_optimizer.cc:153] TF_ENABLE_AUTO_MIXED_PRECISION has no effect.\n",
      "2022-01-02 06:23:40.327291: W tensorflow/core/grappler/optimizers/meta_optimizer.cc:153] TF_ENABLE_AUTO_MIXED_PRECISION has no effect.\n",
      "2022-01-02 06:23:40.327297: W tensorflow/core/grappler/optimizers/meta_optimizer.cc:153] TF_ENABLE_AUTO_MIXED_PRECISION has no effect.\n",
      "2022-01-02 06:23:50.317861: I tensorflow/core/kernels/data/shuffle_dataset_op.cc:177] Filling up shuffle buffer (this may take a while): 10619 of 70504\n",
      "2022-01-02 06:24:00.316321: I tensorflow/core/kernels/data/shuffle_dataset_op.cc:177] Filling up shuffle buffer (this may take a while): 21315 of 70504\n",
      "2022-01-02 06:24:10.316724: I tensorflow/core/kernels/data/shuffle_dataset_op.cc:177] Filling up shuffle buffer (this may take a while): 32024 of 70504\n",
      "2022-01-02 06:24:20.316648: I tensorflow/core/kernels/data/shuffle_dataset_op.cc:177] Filling up shuffle buffer (this may take a while): 42790 of 70504\n",
      "2022-01-02 06:24:30.316501: I tensorflow/core/kernels/data/shuffle_dataset_op.cc:177] Filling up shuffle buffer (this may take a while): 53477 of 70504\n",
      "2022-01-02 06:24:40.316303: I tensorflow/core/kernels/data/shuffle_dataset_op.cc:177] Filling up shuffle buffer (this may take a while): 64291 of 70504\n",
      "2022-01-02 06:24:46.063690: I tensorflow/core/kernels/data/shuffle_dataset_op.cc:230] Shuffle buffer filled.\n"
     ]
    },
    {
     "name": "stdout",
     "output_type": "stream",
     "text": [
      "Epoch 29, gen_loss: -996335.2500, disc_loss: -3.8588\n",
      "Time for epoch 29 is 100.8332 sec\n"
     ]
    },
    {
     "name": "stderr",
     "output_type": "stream",
     "text": [
      "2022-01-02 06:25:21.204782: W tensorflow/core/grappler/optimizers/meta_optimizer.cc:153] TF_ENABLE_AUTO_MIXED_PRECISION has no effect.\n",
      "2022-01-02 06:25:21.204830: W tensorflow/core/grappler/optimizers/meta_optimizer.cc:153] TF_ENABLE_AUTO_MIXED_PRECISION has no effect.\n",
      "2022-01-02 06:25:21.204845: W tensorflow/core/grappler/optimizers/meta_optimizer.cc:153] TF_ENABLE_AUTO_MIXED_PRECISION has no effect.\n",
      "2022-01-02 06:25:21.204850: W tensorflow/core/grappler/optimizers/meta_optimizer.cc:153] TF_ENABLE_AUTO_MIXED_PRECISION has no effect.\n",
      "2022-01-02 06:25:31.191430: I tensorflow/core/kernels/data/shuffle_dataset_op.cc:177] Filling up shuffle buffer (this may take a while): 10587 of 70504\n",
      "2022-01-02 06:25:41.191036: I tensorflow/core/kernels/data/shuffle_dataset_op.cc:177] Filling up shuffle buffer (this may take a while): 21341 of 70504\n",
      "2022-01-02 06:25:51.192408: I tensorflow/core/kernels/data/shuffle_dataset_op.cc:177] Filling up shuffle buffer (this may take a while): 32093 of 70504\n",
      "2022-01-02 06:26:01.192061: I tensorflow/core/kernels/data/shuffle_dataset_op.cc:177] Filling up shuffle buffer (this may take a while): 42844 of 70504\n",
      "2022-01-02 06:26:11.191387: I tensorflow/core/kernels/data/shuffle_dataset_op.cc:177] Filling up shuffle buffer (this may take a while): 53584 of 70504\n",
      "2022-01-02 06:26:21.192088: I tensorflow/core/kernels/data/shuffle_dataset_op.cc:177] Filling up shuffle buffer (this may take a while): 64365 of 70504\n",
      "2022-01-02 06:26:26.850928: I tensorflow/core/kernels/data/shuffle_dataset_op.cc:230] Shuffle buffer filled.\n"
     ]
    },
    {
     "name": "stdout",
     "output_type": "stream",
     "text": [
      "Epoch 30, gen_loss: -983696.6250, disc_loss: -3.8922\n",
      "Time for epoch 30 is 100.6942 sec\n"
     ]
    },
    {
     "name": "stderr",
     "output_type": "stream",
     "text": [
      "2022-01-02 06:27:01.938412: W tensorflow/core/grappler/optimizers/meta_optimizer.cc:153] TF_ENABLE_AUTO_MIXED_PRECISION has no effect.\n",
      "2022-01-02 06:27:01.938463: W tensorflow/core/grappler/optimizers/meta_optimizer.cc:153] TF_ENABLE_AUTO_MIXED_PRECISION has no effect.\n",
      "2022-01-02 06:27:01.938477: W tensorflow/core/grappler/optimizers/meta_optimizer.cc:153] TF_ENABLE_AUTO_MIXED_PRECISION has no effect.\n",
      "2022-01-02 06:27:01.938482: W tensorflow/core/grappler/optimizers/meta_optimizer.cc:153] TF_ENABLE_AUTO_MIXED_PRECISION has no effect.\n",
      "2022-01-02 06:27:11.926483: I tensorflow/core/kernels/data/shuffle_dataset_op.cc:177] Filling up shuffle buffer (this may take a while): 10605 of 70504\n",
      "2022-01-02 06:27:21.926641: I tensorflow/core/kernels/data/shuffle_dataset_op.cc:177] Filling up shuffle buffer (this may take a while): 21353 of 70504\n",
      "2022-01-02 06:27:31.926468: I tensorflow/core/kernels/data/shuffle_dataset_op.cc:177] Filling up shuffle buffer (this may take a while): 32033 of 70504\n",
      "2022-01-02 06:27:41.926844: I tensorflow/core/kernels/data/shuffle_dataset_op.cc:177] Filling up shuffle buffer (this may take a while): 42846 of 70504\n",
      "2022-01-02 06:27:51.926945: I tensorflow/core/kernels/data/shuffle_dataset_op.cc:177] Filling up shuffle buffer (this may take a while): 53598 of 70504\n",
      "2022-01-02 06:28:01.926588: I tensorflow/core/kernels/data/shuffle_dataset_op.cc:177] Filling up shuffle buffer (this may take a while): 64409 of 70504\n",
      "2022-01-02 06:28:07.553656: I tensorflow/core/kernels/data/shuffle_dataset_op.cc:230] Shuffle buffer filled.\n"
     ]
    },
    {
     "name": "stdout",
     "output_type": "stream",
     "text": [
      "Epoch 31, gen_loss: -977140.3750, disc_loss: -4.0974\n",
      "Time for epoch 31 is 100.7113 sec\n"
     ]
    },
    {
     "name": "stderr",
     "output_type": "stream",
     "text": [
      "2022-01-02 06:28:42.691335: W tensorflow/core/grappler/optimizers/meta_optimizer.cc:153] TF_ENABLE_AUTO_MIXED_PRECISION has no effect.\n",
      "2022-01-02 06:28:42.691388: W tensorflow/core/grappler/optimizers/meta_optimizer.cc:153] TF_ENABLE_AUTO_MIXED_PRECISION has no effect.\n",
      "2022-01-02 06:28:42.691401: W tensorflow/core/grappler/optimizers/meta_optimizer.cc:153] TF_ENABLE_AUTO_MIXED_PRECISION has no effect.\n",
      "2022-01-02 06:28:42.691407: W tensorflow/core/grappler/optimizers/meta_optimizer.cc:153] TF_ENABLE_AUTO_MIXED_PRECISION has no effect.\n",
      "2022-01-02 06:28:52.679450: I tensorflow/core/kernels/data/shuffle_dataset_op.cc:177] Filling up shuffle buffer (this may take a while): 10847 of 70504\n",
      "2022-01-02 06:29:02.678639: I tensorflow/core/kernels/data/shuffle_dataset_op.cc:177] Filling up shuffle buffer (this may take a while): 21834 of 70504\n",
      "2022-01-02 06:29:12.679141: I tensorflow/core/kernels/data/shuffle_dataset_op.cc:177] Filling up shuffle buffer (this may take a while): 32804 of 70504\n",
      "2022-01-02 06:29:22.678516: I tensorflow/core/kernels/data/shuffle_dataset_op.cc:177] Filling up shuffle buffer (this may take a while): 43807 of 70504\n",
      "2022-01-02 06:29:32.678297: I tensorflow/core/kernels/data/shuffle_dataset_op.cc:177] Filling up shuffle buffer (this may take a while): 54788 of 70504\n",
      "2022-01-02 06:29:42.678319: I tensorflow/core/kernels/data/shuffle_dataset_op.cc:177] Filling up shuffle buffer (this may take a while): 65867 of 70504\n",
      "2022-01-02 06:29:46.864565: I tensorflow/core/kernels/data/shuffle_dataset_op.cc:230] Shuffle buffer filled.\n"
     ]
    },
    {
     "name": "stdout",
     "output_type": "stream",
     "text": [
      "Epoch 32, gen_loss: -973140.7500, disc_loss: -4.4731\n",
      "Time for epoch 32 is 99.2339 sec\n"
     ]
    },
    {
     "name": "stderr",
     "output_type": "stream",
     "text": [
      "2022-01-02 06:30:21.971041: W tensorflow/core/grappler/optimizers/meta_optimizer.cc:153] TF_ENABLE_AUTO_MIXED_PRECISION has no effect.\n",
      "2022-01-02 06:30:21.971094: W tensorflow/core/grappler/optimizers/meta_optimizer.cc:153] TF_ENABLE_AUTO_MIXED_PRECISION has no effect.\n",
      "2022-01-02 06:30:21.971107: W tensorflow/core/grappler/optimizers/meta_optimizer.cc:153] TF_ENABLE_AUTO_MIXED_PRECISION has no effect.\n",
      "2022-01-02 06:30:21.971113: W tensorflow/core/grappler/optimizers/meta_optimizer.cc:153] TF_ENABLE_AUTO_MIXED_PRECISION has no effect.\n",
      "2022-01-02 06:30:31.956652: I tensorflow/core/kernels/data/shuffle_dataset_op.cc:177] Filling up shuffle buffer (this may take a while): 10806 of 70504\n",
      "2022-01-02 06:30:41.957528: I tensorflow/core/kernels/data/shuffle_dataset_op.cc:177] Filling up shuffle buffer (this may take a while): 21761 of 70504\n",
      "2022-01-02 06:30:51.956382: I tensorflow/core/kernels/data/shuffle_dataset_op.cc:177] Filling up shuffle buffer (this may take a while): 32697 of 70504\n",
      "2022-01-02 06:31:01.956354: I tensorflow/core/kernels/data/shuffle_dataset_op.cc:177] Filling up shuffle buffer (this may take a while): 43686 of 70504\n",
      "2022-01-02 06:31:11.956467: I tensorflow/core/kernels/data/shuffle_dataset_op.cc:177] Filling up shuffle buffer (this may take a while): 54685 of 70504\n",
      "2022-01-02 06:31:21.956357: I tensorflow/core/kernels/data/shuffle_dataset_op.cc:177] Filling up shuffle buffer (this may take a while): 65737 of 70504\n",
      "2022-01-02 06:31:26.263768: I tensorflow/core/kernels/data/shuffle_dataset_op.cc:230] Shuffle buffer filled.\n"
     ]
    },
    {
     "name": "stdout",
     "output_type": "stream",
     "text": [
      "Epoch 33, gen_loss: -961328.0625, disc_loss: -4.8617\n",
      "Time for epoch 33 is 99.3823 sec\n"
     ]
    },
    {
     "name": "stderr",
     "output_type": "stream",
     "text": [
      "2022-01-02 06:32:01.394298: W tensorflow/core/grappler/optimizers/meta_optimizer.cc:153] TF_ENABLE_AUTO_MIXED_PRECISION has no effect.\n",
      "2022-01-02 06:32:01.394347: W tensorflow/core/grappler/optimizers/meta_optimizer.cc:153] TF_ENABLE_AUTO_MIXED_PRECISION has no effect.\n",
      "2022-01-02 06:32:01.394361: W tensorflow/core/grappler/optimizers/meta_optimizer.cc:153] TF_ENABLE_AUTO_MIXED_PRECISION has no effect.\n",
      "2022-01-02 06:32:01.394367: W tensorflow/core/grappler/optimizers/meta_optimizer.cc:153] TF_ENABLE_AUTO_MIXED_PRECISION has no effect.\n",
      "2022-01-02 06:32:11.380801: I tensorflow/core/kernels/data/shuffle_dataset_op.cc:177] Filling up shuffle buffer (this may take a while): 10815 of 70504\n",
      "2022-01-02 06:32:21.382281: I tensorflow/core/kernels/data/shuffle_dataset_op.cc:177] Filling up shuffle buffer (this may take a while): 21723 of 70504\n",
      "2022-01-02 06:32:31.380990: I tensorflow/core/kernels/data/shuffle_dataset_op.cc:177] Filling up shuffle buffer (this may take a while): 32681 of 70504\n",
      "2022-01-02 06:32:41.381609: I tensorflow/core/kernels/data/shuffle_dataset_op.cc:177] Filling up shuffle buffer (this may take a while): 43677 of 70504\n",
      "2022-01-02 06:32:51.381195: I tensorflow/core/kernels/data/shuffle_dataset_op.cc:177] Filling up shuffle buffer (this may take a while): 54634 of 70504\n",
      "2022-01-02 06:33:01.381106: I tensorflow/core/kernels/data/shuffle_dataset_op.cc:177] Filling up shuffle buffer (this may take a while): 65689 of 70504\n",
      "2022-01-02 06:33:05.738437: I tensorflow/core/kernels/data/shuffle_dataset_op.cc:230] Shuffle buffer filled.\n"
     ]
    },
    {
     "name": "stdout",
     "output_type": "stream",
     "text": [
      "Epoch 34, gen_loss: -951715.3750, disc_loss: -5.3890\n",
      "Time for epoch 34 is 99.3813 sec\n"
     ]
    },
    {
     "name": "stderr",
     "output_type": "stream",
     "text": [
      "2022-01-02 06:33:40.820102: W tensorflow/core/grappler/optimizers/meta_optimizer.cc:153] TF_ENABLE_AUTO_MIXED_PRECISION has no effect.\n",
      "2022-01-02 06:33:40.820153: W tensorflow/core/grappler/optimizers/meta_optimizer.cc:153] TF_ENABLE_AUTO_MIXED_PRECISION has no effect.\n",
      "2022-01-02 06:33:40.820167: W tensorflow/core/grappler/optimizers/meta_optimizer.cc:153] TF_ENABLE_AUTO_MIXED_PRECISION has no effect.\n",
      "2022-01-02 06:33:40.820173: W tensorflow/core/grappler/optimizers/meta_optimizer.cc:153] TF_ENABLE_AUTO_MIXED_PRECISION has no effect.\n",
      "2022-01-02 06:33:50.806074: I tensorflow/core/kernels/data/shuffle_dataset_op.cc:177] Filling up shuffle buffer (this may take a while): 10774 of 70504\n",
      "2022-01-02 06:34:00.805823: I tensorflow/core/kernels/data/shuffle_dataset_op.cc:177] Filling up shuffle buffer (this may take a while): 21698 of 70504\n",
      "2022-01-02 06:34:10.805561: I tensorflow/core/kernels/data/shuffle_dataset_op.cc:177] Filling up shuffle buffer (this may take a while): 32606 of 70504\n",
      "2022-01-02 06:34:20.805306: I tensorflow/core/kernels/data/shuffle_dataset_op.cc:177] Filling up shuffle buffer (this may take a while): 43579 of 70504\n",
      "2022-01-02 06:34:30.806073: I tensorflow/core/kernels/data/shuffle_dataset_op.cc:177] Filling up shuffle buffer (this may take a while): 54532 of 70504\n",
      "2022-01-02 06:34:40.805821: I tensorflow/core/kernels/data/shuffle_dataset_op.cc:177] Filling up shuffle buffer (this may take a while): 65569 of 70504\n",
      "2022-01-02 06:34:45.269040: I tensorflow/core/kernels/data/shuffle_dataset_op.cc:230] Shuffle buffer filled.\n"
     ]
    },
    {
     "name": "stdout",
     "output_type": "stream",
     "text": [
      "Epoch 35, gen_loss: -940369.9375, disc_loss: -6.0892\n",
      "Time for epoch 35 is 99.5527 sec\n"
     ]
    },
    {
     "name": "stderr",
     "output_type": "stream",
     "text": [
      "2022-01-02 06:35:20.417547: W tensorflow/core/grappler/optimizers/meta_optimizer.cc:153] TF_ENABLE_AUTO_MIXED_PRECISION has no effect.\n",
      "2022-01-02 06:35:20.417605: W tensorflow/core/grappler/optimizers/meta_optimizer.cc:153] TF_ENABLE_AUTO_MIXED_PRECISION has no effect.\n",
      "2022-01-02 06:35:20.417620: W tensorflow/core/grappler/optimizers/meta_optimizer.cc:153] TF_ENABLE_AUTO_MIXED_PRECISION has no effect.\n",
      "2022-01-02 06:35:20.417625: W tensorflow/core/grappler/optimizers/meta_optimizer.cc:153] TF_ENABLE_AUTO_MIXED_PRECISION has no effect.\n",
      "2022-01-02 06:35:30.401305: I tensorflow/core/kernels/data/shuffle_dataset_op.cc:177] Filling up shuffle buffer (this may take a while): 10608 of 70504\n",
      "2022-01-02 06:35:40.401102: I tensorflow/core/kernels/data/shuffle_dataset_op.cc:177] Filling up shuffle buffer (this may take a while): 21369 of 70504\n",
      "2022-01-02 06:35:50.400453: I tensorflow/core/kernels/data/shuffle_dataset_op.cc:177] Filling up shuffle buffer (this may take a while): 32164 of 70504\n",
      "2022-01-02 06:36:00.400885: I tensorflow/core/kernels/data/shuffle_dataset_op.cc:177] Filling up shuffle buffer (this may take a while): 42976 of 70504\n",
      "2022-01-02 06:36:10.400442: I tensorflow/core/kernels/data/shuffle_dataset_op.cc:177] Filling up shuffle buffer (this may take a while): 53746 of 70504\n",
      "2022-01-02 06:36:20.401013: I tensorflow/core/kernels/data/shuffle_dataset_op.cc:177] Filling up shuffle buffer (this may take a while): 64616 of 70504\n",
      "2022-01-02 06:36:25.789596: I tensorflow/core/kernels/data/shuffle_dataset_op.cc:230] Shuffle buffer filled.\n"
     ]
    },
    {
     "name": "stdout",
     "output_type": "stream",
     "text": [
      "Epoch 36, gen_loss: -935088.5000, disc_loss: -6.7760\n",
      "Time for epoch 36 is 100.4359 sec\n"
     ]
    },
    {
     "name": "stderr",
     "output_type": "stream",
     "text": [
      "2022-01-02 06:37:00.927270: W tensorflow/core/grappler/optimizers/meta_optimizer.cc:153] TF_ENABLE_AUTO_MIXED_PRECISION has no effect.\n",
      "2022-01-02 06:37:00.927320: W tensorflow/core/grappler/optimizers/meta_optimizer.cc:153] TF_ENABLE_AUTO_MIXED_PRECISION has no effect.\n",
      "2022-01-02 06:37:00.927334: W tensorflow/core/grappler/optimizers/meta_optimizer.cc:153] TF_ENABLE_AUTO_MIXED_PRECISION has no effect.\n",
      "2022-01-02 06:37:00.927340: W tensorflow/core/grappler/optimizers/meta_optimizer.cc:153] TF_ENABLE_AUTO_MIXED_PRECISION has no effect.\n",
      "2022-01-02 06:37:10.905570: I tensorflow/core/kernels/data/shuffle_dataset_op.cc:177] Filling up shuffle buffer (this may take a while): 10830 of 70504\n",
      "2022-01-02 06:37:20.906635: I tensorflow/core/kernels/data/shuffle_dataset_op.cc:177] Filling up shuffle buffer (this may take a while): 21789 of 70504\n",
      "2022-01-02 06:37:30.907184: I tensorflow/core/kernels/data/shuffle_dataset_op.cc:177] Filling up shuffle buffer (this may take a while): 32643 of 70504\n",
      "2022-01-02 06:37:40.905719: I tensorflow/core/kernels/data/shuffle_dataset_op.cc:177] Filling up shuffle buffer (this may take a while): 43659 of 70504\n",
      "2022-01-02 06:37:50.905506: I tensorflow/core/kernels/data/shuffle_dataset_op.cc:177] Filling up shuffle buffer (this may take a while): 54657 of 70504\n",
      "2022-01-02 06:38:00.906713: I tensorflow/core/kernels/data/shuffle_dataset_op.cc:177] Filling up shuffle buffer (this may take a while): 65700 of 70504\n",
      "2022-01-02 06:38:05.242579: I tensorflow/core/kernels/data/shuffle_dataset_op.cc:230] Shuffle buffer filled.\n"
     ]
    },
    {
     "name": "stdout",
     "output_type": "stream",
     "text": [
      "Epoch 37, gen_loss: -932929.8750, disc_loss: -7.7406\n",
      "Time for epoch 37 is 99.4143 sec\n"
     ]
    },
    {
     "name": "stderr",
     "output_type": "stream",
     "text": [
      "2022-01-02 06:38:40.372504: W tensorflow/core/grappler/optimizers/meta_optimizer.cc:153] TF_ENABLE_AUTO_MIXED_PRECISION has no effect.\n",
      "2022-01-02 06:38:40.372557: W tensorflow/core/grappler/optimizers/meta_optimizer.cc:153] TF_ENABLE_AUTO_MIXED_PRECISION has no effect.\n",
      "2022-01-02 06:38:40.372571: W tensorflow/core/grappler/optimizers/meta_optimizer.cc:153] TF_ENABLE_AUTO_MIXED_PRECISION has no effect.\n",
      "2022-01-02 06:38:40.372577: W tensorflow/core/grappler/optimizers/meta_optimizer.cc:153] TF_ENABLE_AUTO_MIXED_PRECISION has no effect.\n",
      "2022-01-02 06:38:50.362835: I tensorflow/core/kernels/data/shuffle_dataset_op.cc:177] Filling up shuffle buffer (this may take a while): 10835 of 70504\n",
      "2022-01-02 06:39:00.361556: I tensorflow/core/kernels/data/shuffle_dataset_op.cc:177] Filling up shuffle buffer (this may take a while): 21766 of 70504\n",
      "2022-01-02 06:39:10.361430: I tensorflow/core/kernels/data/shuffle_dataset_op.cc:177] Filling up shuffle buffer (this may take a while): 32678 of 70504\n",
      "2022-01-02 06:39:20.362058: I tensorflow/core/kernels/data/shuffle_dataset_op.cc:177] Filling up shuffle buffer (this may take a while): 43655 of 70504\n",
      "2022-01-02 06:39:30.361699: I tensorflow/core/kernels/data/shuffle_dataset_op.cc:177] Filling up shuffle buffer (this may take a while): 54627 of 70504\n",
      "2022-01-02 06:39:40.361852: I tensorflow/core/kernels/data/shuffle_dataset_op.cc:177] Filling up shuffle buffer (this may take a while): 65652 of 70504\n",
      "2022-01-02 06:39:44.773768: I tensorflow/core/kernels/data/shuffle_dataset_op.cc:230] Shuffle buffer filled.\n"
     ]
    },
    {
     "name": "stdout",
     "output_type": "stream",
     "text": [
      "Epoch 38, gen_loss: -926324.6250, disc_loss: -8.4076\n",
      "Time for epoch 38 is 99.4327 sec\n"
     ]
    },
    {
     "name": "stderr",
     "output_type": "stream",
     "text": [
      "2022-01-02 06:40:19.844778: W tensorflow/core/grappler/optimizers/meta_optimizer.cc:153] TF_ENABLE_AUTO_MIXED_PRECISION has no effect.\n",
      "2022-01-02 06:40:19.844829: W tensorflow/core/grappler/optimizers/meta_optimizer.cc:153] TF_ENABLE_AUTO_MIXED_PRECISION has no effect.\n",
      "2022-01-02 06:40:19.844843: W tensorflow/core/grappler/optimizers/meta_optimizer.cc:153] TF_ENABLE_AUTO_MIXED_PRECISION has no effect.\n",
      "2022-01-02 06:40:19.844848: W tensorflow/core/grappler/optimizers/meta_optimizer.cc:153] TF_ENABLE_AUTO_MIXED_PRECISION has no effect.\n",
      "2022-01-02 06:40:29.835765: I tensorflow/core/kernels/data/shuffle_dataset_op.cc:177] Filling up shuffle buffer (this may take a while): 10841 of 70504\n",
      "2022-01-02 06:40:39.834096: I tensorflow/core/kernels/data/shuffle_dataset_op.cc:177] Filling up shuffle buffer (this may take a while): 21769 of 70504\n",
      "2022-01-02 06:40:49.834841: I tensorflow/core/kernels/data/shuffle_dataset_op.cc:177] Filling up shuffle buffer (this may take a while): 32700 of 70504\n",
      "2022-01-02 06:40:59.834882: I tensorflow/core/kernels/data/shuffle_dataset_op.cc:177] Filling up shuffle buffer (this may take a while): 43677 of 70504\n",
      "2022-01-02 06:41:09.834264: I tensorflow/core/kernels/data/shuffle_dataset_op.cc:177] Filling up shuffle buffer (this may take a while): 54664 of 70504\n",
      "2022-01-02 06:41:19.835039: I tensorflow/core/kernels/data/shuffle_dataset_op.cc:177] Filling up shuffle buffer (this may take a while): 65638 of 70504\n",
      "2022-01-02 06:41:24.272130: I tensorflow/core/kernels/data/shuffle_dataset_op.cc:230] Shuffle buffer filled.\n"
     ]
    },
    {
     "name": "stdout",
     "output_type": "stream",
     "text": [
      "Epoch 39, gen_loss: -895483.5000, disc_loss: -10.1791\n",
      "Time for epoch 39 is 99.5065 sec\n"
     ]
    },
    {
     "name": "stderr",
     "output_type": "stream",
     "text": [
      "2022-01-02 06:41:59.401384: W tensorflow/core/grappler/optimizers/meta_optimizer.cc:153] TF_ENABLE_AUTO_MIXED_PRECISION has no effect.\n",
      "2022-01-02 06:41:59.401438: W tensorflow/core/grappler/optimizers/meta_optimizer.cc:153] TF_ENABLE_AUTO_MIXED_PRECISION has no effect.\n",
      "2022-01-02 06:41:59.401452: W tensorflow/core/grappler/optimizers/meta_optimizer.cc:153] TF_ENABLE_AUTO_MIXED_PRECISION has no effect.\n",
      "2022-01-02 06:41:59.401458: W tensorflow/core/grappler/optimizers/meta_optimizer.cc:153] TF_ENABLE_AUTO_MIXED_PRECISION has no effect.\n",
      "2022-01-02 06:42:09.381880: I tensorflow/core/kernels/data/shuffle_dataset_op.cc:177] Filling up shuffle buffer (this may take a while): 10625 of 70504\n",
      "2022-01-02 06:42:19.382375: I tensorflow/core/kernels/data/shuffle_dataset_op.cc:177] Filling up shuffle buffer (this may take a while): 21329 of 70504\n",
      "2022-01-02 06:42:29.382405: I tensorflow/core/kernels/data/shuffle_dataset_op.cc:177] Filling up shuffle buffer (this may take a while): 32043 of 70504\n",
      "2022-01-02 06:42:39.382466: I tensorflow/core/kernels/data/shuffle_dataset_op.cc:177] Filling up shuffle buffer (this may take a while): 42805 of 70504\n",
      "2022-01-02 06:42:49.381418: I tensorflow/core/kernels/data/shuffle_dataset_op.cc:177] Filling up shuffle buffer (this may take a while): 53473 of 70504\n",
      "2022-01-02 06:42:59.381766: I tensorflow/core/kernels/data/shuffle_dataset_op.cc:177] Filling up shuffle buffer (this may take a while): 64250 of 70504\n",
      "2022-01-02 06:43:05.190997: I tensorflow/core/kernels/data/shuffle_dataset_op.cc:230] Shuffle buffer filled.\n"
     ]
    },
    {
     "name": "stdout",
     "output_type": "stream",
     "text": [
      "Epoch 40, gen_loss: -886133.6250, disc_loss: -14.5582\n",
      "Time for epoch 40 is 100.8891 sec\n"
     ]
    },
    {
     "name": "stderr",
     "output_type": "stream",
     "text": [
      "2022-01-02 06:43:40.329730: W tensorflow/core/grappler/optimizers/meta_optimizer.cc:153] TF_ENABLE_AUTO_MIXED_PRECISION has no effect.\n",
      "2022-01-02 06:43:40.329777: W tensorflow/core/grappler/optimizers/meta_optimizer.cc:153] TF_ENABLE_AUTO_MIXED_PRECISION has no effect.\n",
      "2022-01-02 06:43:40.329791: W tensorflow/core/grappler/optimizers/meta_optimizer.cc:153] TF_ENABLE_AUTO_MIXED_PRECISION has no effect.\n",
      "2022-01-02 06:43:40.329797: W tensorflow/core/grappler/optimizers/meta_optimizer.cc:153] TF_ENABLE_AUTO_MIXED_PRECISION has no effect.\n",
      "2022-01-02 06:43:50.315124: I tensorflow/core/kernels/data/shuffle_dataset_op.cc:177] Filling up shuffle buffer (this may take a while): 10791 of 70504\n",
      "2022-01-02 06:44:00.315974: I tensorflow/core/kernels/data/shuffle_dataset_op.cc:177] Filling up shuffle buffer (this may take a while): 21756 of 70504\n",
      "2022-01-02 06:44:10.315075: I tensorflow/core/kernels/data/shuffle_dataset_op.cc:177] Filling up shuffle buffer (this may take a while): 32719 of 70504\n",
      "2022-01-02 06:44:20.315307: I tensorflow/core/kernels/data/shuffle_dataset_op.cc:177] Filling up shuffle buffer (this may take a while): 43717 of 70504\n",
      "2022-01-02 06:44:30.316571: I tensorflow/core/kernels/data/shuffle_dataset_op.cc:177] Filling up shuffle buffer (this may take a while): 54690 of 70504\n",
      "2022-01-02 06:44:40.316010: I tensorflow/core/kernels/data/shuffle_dataset_op.cc:177] Filling up shuffle buffer (this may take a while): 65751 of 70504\n",
      "2022-01-02 06:44:44.607095: I tensorflow/core/kernels/data/shuffle_dataset_op.cc:230] Shuffle buffer filled.\n"
     ]
    },
    {
     "name": "stdout",
     "output_type": "stream",
     "text": [
      "Epoch 41, gen_loss: -869863.6875, disc_loss: -24.3131\n",
      "Time for epoch 41 is 99.3679 sec\n"
     ]
    },
    {
     "name": "stderr",
     "output_type": "stream",
     "text": [
      "2022-01-02 06:45:19.740189: W tensorflow/core/grappler/optimizers/meta_optimizer.cc:153] TF_ENABLE_AUTO_MIXED_PRECISION has no effect.\n",
      "2022-01-02 06:45:19.740248: W tensorflow/core/grappler/optimizers/meta_optimizer.cc:153] TF_ENABLE_AUTO_MIXED_PRECISION has no effect.\n",
      "2022-01-02 06:45:19.740262: W tensorflow/core/grappler/optimizers/meta_optimizer.cc:153] TF_ENABLE_AUTO_MIXED_PRECISION has no effect.\n",
      "2022-01-02 06:45:19.740267: W tensorflow/core/grappler/optimizers/meta_optimizer.cc:153] TF_ENABLE_AUTO_MIXED_PRECISION has no effect.\n",
      "2022-01-02 06:45:29.724127: I tensorflow/core/kernels/data/shuffle_dataset_op.cc:177] Filling up shuffle buffer (this may take a while): 10548 of 70504\n",
      "2022-01-02 06:45:39.724084: I tensorflow/core/kernels/data/shuffle_dataset_op.cc:177] Filling up shuffle buffer (this may take a while): 21266 of 70504\n",
      "2022-01-02 06:45:49.723899: I tensorflow/core/kernels/data/shuffle_dataset_op.cc:177] Filling up shuffle buffer (this may take a while): 32022 of 70504\n",
      "2022-01-02 06:45:59.723041: I tensorflow/core/kernels/data/shuffle_dataset_op.cc:177] Filling up shuffle buffer (this may take a while): 42754 of 70504\n",
      "2022-01-02 06:46:09.723057: I tensorflow/core/kernels/data/shuffle_dataset_op.cc:177] Filling up shuffle buffer (this may take a while): 53455 of 70504\n",
      "2022-01-02 06:46:19.723771: I tensorflow/core/kernels/data/shuffle_dataset_op.cc:177] Filling up shuffle buffer (this may take a while): 64200 of 70504\n",
      "2022-01-02 06:46:25.548764: I tensorflow/core/kernels/data/shuffle_dataset_op.cc:230] Shuffle buffer filled.\n"
     ]
    },
    {
     "name": "stdout",
     "output_type": "stream",
     "text": [
      "Epoch 42, gen_loss: -852020.6250, disc_loss: -49.8184\n",
      "Time for epoch 42 is 100.8996 sec\n"
     ]
    },
    {
     "name": "stderr",
     "output_type": "stream",
     "text": [
      "2022-01-02 06:47:00.681498: W tensorflow/core/grappler/optimizers/meta_optimizer.cc:153] TF_ENABLE_AUTO_MIXED_PRECISION has no effect.\n",
      "2022-01-02 06:47:00.681548: W tensorflow/core/grappler/optimizers/meta_optimizer.cc:153] TF_ENABLE_AUTO_MIXED_PRECISION has no effect.\n",
      "2022-01-02 06:47:00.681562: W tensorflow/core/grappler/optimizers/meta_optimizer.cc:153] TF_ENABLE_AUTO_MIXED_PRECISION has no effect.\n",
      "2022-01-02 06:47:00.681568: W tensorflow/core/grappler/optimizers/meta_optimizer.cc:153] TF_ENABLE_AUTO_MIXED_PRECISION has no effect.\n",
      "2022-01-02 06:47:10.665977: I tensorflow/core/kernels/data/shuffle_dataset_op.cc:177] Filling up shuffle buffer (this may take a while): 10790 of 70504\n",
      "2022-01-02 06:47:20.666451: I tensorflow/core/kernels/data/shuffle_dataset_op.cc:177] Filling up shuffle buffer (this may take a while): 21760 of 70504\n",
      "2022-01-02 06:47:30.666911: I tensorflow/core/kernels/data/shuffle_dataset_op.cc:177] Filling up shuffle buffer (this may take a while): 32753 of 70504\n",
      "2022-01-02 06:47:40.665949: I tensorflow/core/kernels/data/shuffle_dataset_op.cc:177] Filling up shuffle buffer (this may take a while): 43747 of 70504\n",
      "2022-01-02 06:47:50.666185: I tensorflow/core/kernels/data/shuffle_dataset_op.cc:177] Filling up shuffle buffer (this may take a while): 54708 of 70504\n",
      "2022-01-02 06:48:00.665798: I tensorflow/core/kernels/data/shuffle_dataset_op.cc:177] Filling up shuffle buffer (this may take a while): 65754 of 70504\n",
      "2022-01-02 06:48:04.959174: I tensorflow/core/kernels/data/shuffle_dataset_op.cc:230] Shuffle buffer filled.\n"
     ]
    },
    {
     "name": "stdout",
     "output_type": "stream",
     "text": [
      "Epoch 43, gen_loss: -834104.7500, disc_loss: -92.6129\n",
      "Time for epoch 43 is 99.3723 sec\n"
     ]
    },
    {
     "name": "stderr",
     "output_type": "stream",
     "text": [
      "2022-01-02 06:48:40.092869: W tensorflow/core/grappler/optimizers/meta_optimizer.cc:153] TF_ENABLE_AUTO_MIXED_PRECISION has no effect.\n",
      "2022-01-02 06:48:40.092920: W tensorflow/core/grappler/optimizers/meta_optimizer.cc:153] TF_ENABLE_AUTO_MIXED_PRECISION has no effect.\n",
      "2022-01-02 06:48:40.092934: W tensorflow/core/grappler/optimizers/meta_optimizer.cc:153] TF_ENABLE_AUTO_MIXED_PRECISION has no effect.\n",
      "2022-01-02 06:48:40.092940: W tensorflow/core/grappler/optimizers/meta_optimizer.cc:153] TF_ENABLE_AUTO_MIXED_PRECISION has no effect.\n",
      "2022-01-02 06:48:50.081105: I tensorflow/core/kernels/data/shuffle_dataset_op.cc:177] Filling up shuffle buffer (this may take a while): 10485 of 70504\n",
      "2022-01-02 06:49:00.080236: I tensorflow/core/kernels/data/shuffle_dataset_op.cc:177] Filling up shuffle buffer (this may take a while): 21225 of 70504\n",
      "2022-01-02 06:49:10.080093: I tensorflow/core/kernels/data/shuffle_dataset_op.cc:177] Filling up shuffle buffer (this may take a while): 31929 of 70504\n",
      "2022-01-02 06:49:20.081121: I tensorflow/core/kernels/data/shuffle_dataset_op.cc:177] Filling up shuffle buffer (this may take a while): 42697 of 70504\n",
      "2022-01-02 06:49:30.080918: I tensorflow/core/kernels/data/shuffle_dataset_op.cc:177] Filling up shuffle buffer (this may take a while): 53372 of 70504\n",
      "2022-01-02 06:49:40.081157: I tensorflow/core/kernels/data/shuffle_dataset_op.cc:177] Filling up shuffle buffer (this may take a while): 64159 of 70504\n",
      "2022-01-02 06:49:45.967529: I tensorflow/core/kernels/data/shuffle_dataset_op.cc:230] Shuffle buffer filled.\n"
     ]
    },
    {
     "name": "stdout",
     "output_type": "stream",
     "text": [
      "Epoch 44, gen_loss: -836319.6875, disc_loss: -155.3455\n",
      "Time for epoch 44 is 100.9241 sec\n"
     ]
    },
    {
     "name": "stderr",
     "output_type": "stream",
     "text": [
      "2022-01-02 06:50:21.059348: W tensorflow/core/grappler/optimizers/meta_optimizer.cc:153] TF_ENABLE_AUTO_MIXED_PRECISION has no effect.\n",
      "2022-01-02 06:50:21.059399: W tensorflow/core/grappler/optimizers/meta_optimizer.cc:153] TF_ENABLE_AUTO_MIXED_PRECISION has no effect.\n",
      "2022-01-02 06:50:21.059413: W tensorflow/core/grappler/optimizers/meta_optimizer.cc:153] TF_ENABLE_AUTO_MIXED_PRECISION has no effect.\n",
      "2022-01-02 06:50:21.059418: W tensorflow/core/grappler/optimizers/meta_optimizer.cc:153] TF_ENABLE_AUTO_MIXED_PRECISION has no effect.\n",
      "2022-01-02 06:50:31.046937: I tensorflow/core/kernels/data/shuffle_dataset_op.cc:177] Filling up shuffle buffer (this may take a while): 10567 of 70504\n",
      "2022-01-02 06:50:41.048248: I tensorflow/core/kernels/data/shuffle_dataset_op.cc:177] Filling up shuffle buffer (this may take a while): 21297 of 70504\n",
      "2022-01-02 06:50:51.046872: I tensorflow/core/kernels/data/shuffle_dataset_op.cc:177] Filling up shuffle buffer (this may take a while): 32035 of 70504\n",
      "2022-01-02 06:51:01.047693: I tensorflow/core/kernels/data/shuffle_dataset_op.cc:177] Filling up shuffle buffer (this may take a while): 42817 of 70504\n",
      "2022-01-02 06:51:11.046761: I tensorflow/core/kernels/data/shuffle_dataset_op.cc:177] Filling up shuffle buffer (this may take a while): 53515 of 70504\n",
      "2022-01-02 06:51:21.047345: I tensorflow/core/kernels/data/shuffle_dataset_op.cc:177] Filling up shuffle buffer (this may take a while): 64286 of 70504\n",
      "2022-01-02 06:51:26.808321: I tensorflow/core/kernels/data/shuffle_dataset_op.cc:230] Shuffle buffer filled.\n"
     ]
    },
    {
     "name": "stdout",
     "output_type": "stream",
     "text": [
      "Epoch 45, gen_loss: -828102.9375, disc_loss: -196.1941\n",
      "Time for epoch 45 is 100.7589 sec\n"
     ]
    },
    {
     "name": "stderr",
     "output_type": "stream",
     "text": [
      "2022-01-02 06:52:01.856222: W tensorflow/core/grappler/optimizers/meta_optimizer.cc:153] TF_ENABLE_AUTO_MIXED_PRECISION has no effect.\n",
      "2022-01-02 06:52:01.856269: W tensorflow/core/grappler/optimizers/meta_optimizer.cc:153] TF_ENABLE_AUTO_MIXED_PRECISION has no effect.\n",
      "2022-01-02 06:52:01.856283: W tensorflow/core/grappler/optimizers/meta_optimizer.cc:153] TF_ENABLE_AUTO_MIXED_PRECISION has no effect.\n",
      "2022-01-02 06:52:01.856288: W tensorflow/core/grappler/optimizers/meta_optimizer.cc:153] TF_ENABLE_AUTO_MIXED_PRECISION has no effect.\n",
      "2022-01-02 06:52:11.845502: I tensorflow/core/kernels/data/shuffle_dataset_op.cc:177] Filling up shuffle buffer (this may take a while): 10602 of 70504\n",
      "2022-01-02 06:52:21.845978: I tensorflow/core/kernels/data/shuffle_dataset_op.cc:177] Filling up shuffle buffer (this may take a while): 21366 of 70504\n",
      "2022-01-02 06:52:31.846679: I tensorflow/core/kernels/data/shuffle_dataset_op.cc:177] Filling up shuffle buffer (this may take a while): 32146 of 70504\n",
      "2022-01-02 06:52:41.846773: I tensorflow/core/kernels/data/shuffle_dataset_op.cc:177] Filling up shuffle buffer (this may take a while): 42940 of 70504\n",
      "2022-01-02 06:52:51.845991: I tensorflow/core/kernels/data/shuffle_dataset_op.cc:177] Filling up shuffle buffer (this may take a while): 53645 of 70504\n",
      "2022-01-02 06:53:01.845173: I tensorflow/core/kernels/data/shuffle_dataset_op.cc:177] Filling up shuffle buffer (this may take a while): 64523 of 70504\n",
      "2022-01-02 06:53:07.359106: I tensorflow/core/kernels/data/shuffle_dataset_op.cc:230] Shuffle buffer filled.\n"
     ]
    },
    {
     "name": "stdout",
     "output_type": "stream",
     "text": [
      "Epoch 46, gen_loss: -808103.9375, disc_loss: -272.4838\n",
      "Time for epoch 46 is 100.5342 sec\n"
     ]
    },
    {
     "name": "stderr",
     "output_type": "stream",
     "text": [
      "2022-01-02 06:53:42.431629: W tensorflow/core/grappler/optimizers/meta_optimizer.cc:153] TF_ENABLE_AUTO_MIXED_PRECISION has no effect.\n",
      "2022-01-02 06:53:42.431677: W tensorflow/core/grappler/optimizers/meta_optimizer.cc:153] TF_ENABLE_AUTO_MIXED_PRECISION has no effect.\n",
      "2022-01-02 06:53:42.431691: W tensorflow/core/grappler/optimizers/meta_optimizer.cc:153] TF_ENABLE_AUTO_MIXED_PRECISION has no effect.\n",
      "2022-01-02 06:53:42.431697: W tensorflow/core/grappler/optimizers/meta_optimizer.cc:153] TF_ENABLE_AUTO_MIXED_PRECISION has no effect.\n",
      "2022-01-02 06:53:52.421196: I tensorflow/core/kernels/data/shuffle_dataset_op.cc:177] Filling up shuffle buffer (this may take a while): 10862 of 70504\n",
      "2022-01-02 06:54:02.421954: I tensorflow/core/kernels/data/shuffle_dataset_op.cc:177] Filling up shuffle buffer (this may take a while): 21846 of 70504\n",
      "2022-01-02 06:54:12.421464: I tensorflow/core/kernels/data/shuffle_dataset_op.cc:177] Filling up shuffle buffer (this may take a while): 32826 of 70504\n",
      "2022-01-02 06:54:22.422083: I tensorflow/core/kernels/data/shuffle_dataset_op.cc:177] Filling up shuffle buffer (this may take a while): 43853 of 70504\n",
      "2022-01-02 06:54:32.420890: I tensorflow/core/kernels/data/shuffle_dataset_op.cc:177] Filling up shuffle buffer (this may take a while): 54746 of 70504\n",
      "2022-01-02 06:54:42.420748: I tensorflow/core/kernels/data/shuffle_dataset_op.cc:177] Filling up shuffle buffer (this may take a while): 65789 of 70504\n",
      "2022-01-02 06:54:46.689111: I tensorflow/core/kernels/data/shuffle_dataset_op.cc:230] Shuffle buffer filled.\n"
     ]
    },
    {
     "name": "stdout",
     "output_type": "stream",
     "text": [
      "Epoch 47, gen_loss: -798607.8125, disc_loss: -354.8962\n",
      "Time for epoch 47 is 99.3270 sec\n"
     ]
    },
    {
     "name": "stderr",
     "output_type": "stream",
     "text": [
      "2022-01-02 06:55:21.805900: W tensorflow/core/grappler/optimizers/meta_optimizer.cc:153] TF_ENABLE_AUTO_MIXED_PRECISION has no effect.\n",
      "2022-01-02 06:55:21.805955: W tensorflow/core/grappler/optimizers/meta_optimizer.cc:153] TF_ENABLE_AUTO_MIXED_PRECISION has no effect.\n",
      "2022-01-02 06:55:21.805968: W tensorflow/core/grappler/optimizers/meta_optimizer.cc:153] TF_ENABLE_AUTO_MIXED_PRECISION has no effect.\n",
      "2022-01-02 06:55:21.805974: W tensorflow/core/grappler/optimizers/meta_optimizer.cc:153] TF_ENABLE_AUTO_MIXED_PRECISION has no effect.\n",
      "2022-01-02 06:55:31.790050: I tensorflow/core/kernels/data/shuffle_dataset_op.cc:177] Filling up shuffle buffer (this may take a while): 10801 of 70504\n",
      "2022-01-02 06:55:41.790574: I tensorflow/core/kernels/data/shuffle_dataset_op.cc:177] Filling up shuffle buffer (this may take a while): 21772 of 70504\n",
      "2022-01-02 06:55:51.791423: I tensorflow/core/kernels/data/shuffle_dataset_op.cc:177] Filling up shuffle buffer (this may take a while): 32728 of 70504\n",
      "2022-01-02 06:56:01.791009: I tensorflow/core/kernels/data/shuffle_dataset_op.cc:177] Filling up shuffle buffer (this may take a while): 43661 of 70504\n",
      "2022-01-02 06:56:11.790184: I tensorflow/core/kernels/data/shuffle_dataset_op.cc:177] Filling up shuffle buffer (this may take a while): 54623 of 70504\n",
      "2022-01-02 06:56:21.790059: I tensorflow/core/kernels/data/shuffle_dataset_op.cc:177] Filling up shuffle buffer (this may take a while): 65639 of 70504\n",
      "2022-01-02 06:56:26.189549: I tensorflow/core/kernels/data/shuffle_dataset_op.cc:230] Shuffle buffer filled.\n"
     ]
    },
    {
     "name": "stdout",
     "output_type": "stream",
     "text": [
      "Epoch 48, gen_loss: -785127.3750, disc_loss: -485.4289\n",
      "Time for epoch 48 is 99.4102 sec\n"
     ]
    },
    {
     "name": "stderr",
     "output_type": "stream",
     "text": [
      "2022-01-02 06:57:01.254270: W tensorflow/core/grappler/optimizers/meta_optimizer.cc:153] TF_ENABLE_AUTO_MIXED_PRECISION has no effect.\n",
      "2022-01-02 06:57:01.254320: W tensorflow/core/grappler/optimizers/meta_optimizer.cc:153] TF_ENABLE_AUTO_MIXED_PRECISION has no effect.\n",
      "2022-01-02 06:57:01.254333: W tensorflow/core/grappler/optimizers/meta_optimizer.cc:153] TF_ENABLE_AUTO_MIXED_PRECISION has no effect.\n",
      "2022-01-02 06:57:01.254338: W tensorflow/core/grappler/optimizers/meta_optimizer.cc:153] TF_ENABLE_AUTO_MIXED_PRECISION has no effect.\n",
      "2022-01-02 06:57:11.240092: I tensorflow/core/kernels/data/shuffle_dataset_op.cc:177] Filling up shuffle buffer (this may take a while): 10585 of 70504\n",
      "2022-01-02 06:57:21.239687: I tensorflow/core/kernels/data/shuffle_dataset_op.cc:177] Filling up shuffle buffer (this may take a while): 21322 of 70504\n",
      "2022-01-02 06:57:31.240504: I tensorflow/core/kernels/data/shuffle_dataset_op.cc:177] Filling up shuffle buffer (this may take a while): 32056 of 70504\n",
      "2022-01-02 06:57:41.240082: I tensorflow/core/kernels/data/shuffle_dataset_op.cc:177] Filling up shuffle buffer (this may take a while): 42730 of 70504\n",
      "2022-01-02 06:57:51.240519: I tensorflow/core/kernels/data/shuffle_dataset_op.cc:177] Filling up shuffle buffer (this may take a while): 53439 of 70504\n",
      "2022-01-02 06:58:01.240012: I tensorflow/core/kernels/data/shuffle_dataset_op.cc:177] Filling up shuffle buffer (this may take a while): 64209 of 70504\n",
      "2022-01-02 06:58:07.080121: I tensorflow/core/kernels/data/shuffle_dataset_op.cc:230] Shuffle buffer filled.\n"
     ]
    },
    {
     "name": "stdout",
     "output_type": "stream",
     "text": [
      "Epoch 49, gen_loss: -788675.2500, disc_loss: -509.4481\n",
      "Time for epoch 49 is 100.8949 sec\n"
     ]
    },
    {
     "name": "stderr",
     "output_type": "stream",
     "text": [
      "2022-01-02 06:58:42.194617: W tensorflow/core/grappler/optimizers/meta_optimizer.cc:153] TF_ENABLE_AUTO_MIXED_PRECISION has no effect.\n",
      "2022-01-02 06:58:42.194669: W tensorflow/core/grappler/optimizers/meta_optimizer.cc:153] TF_ENABLE_AUTO_MIXED_PRECISION has no effect.\n",
      "2022-01-02 06:58:42.194682: W tensorflow/core/grappler/optimizers/meta_optimizer.cc:153] TF_ENABLE_AUTO_MIXED_PRECISION has no effect.\n",
      "2022-01-02 06:58:42.194688: W tensorflow/core/grappler/optimizers/meta_optimizer.cc:153] TF_ENABLE_AUTO_MIXED_PRECISION has no effect.\n",
      "2022-01-02 06:58:52.179857: I tensorflow/core/kernels/data/shuffle_dataset_op.cc:177] Filling up shuffle buffer (this may take a while): 10817 of 70504\n",
      "2022-01-02 06:59:02.180563: I tensorflow/core/kernels/data/shuffle_dataset_op.cc:177] Filling up shuffle buffer (this may take a while): 21778 of 70504\n",
      "2022-01-02 06:59:12.179957: I tensorflow/core/kernels/data/shuffle_dataset_op.cc:177] Filling up shuffle buffer (this may take a while): 32690 of 70504\n",
      "2022-01-02 06:59:22.179744: I tensorflow/core/kernels/data/shuffle_dataset_op.cc:177] Filling up shuffle buffer (this may take a while): 43707 of 70504\n",
      "2022-01-02 06:59:32.179838: I tensorflow/core/kernels/data/shuffle_dataset_op.cc:177] Filling up shuffle buffer (this may take a while): 54702 of 70504\n",
      "2022-01-02 06:59:42.180575: I tensorflow/core/kernels/data/shuffle_dataset_op.cc:177] Filling up shuffle buffer (this may take a while): 65811 of 70504\n",
      "2022-01-02 06:59:46.444415: I tensorflow/core/kernels/data/shuffle_dataset_op.cc:230] Shuffle buffer filled.\n"
     ]
    },
    {
     "name": "stdout",
     "output_type": "stream",
     "text": [
      "Epoch 50, gen_loss: -784198.1250, disc_loss: -697.7471\n",
      "Time for epoch 50 is 99.3062 sec\n"
     ]
    },
    {
     "name": "stderr",
     "output_type": "stream",
     "text": [
      "2022-01-02 07:00:21.702797: W tensorflow/core/grappler/optimizers/meta_optimizer.cc:153] TF_ENABLE_AUTO_MIXED_PRECISION has no effect.\n",
      "2022-01-02 07:00:21.702849: W tensorflow/core/grappler/optimizers/meta_optimizer.cc:153] TF_ENABLE_AUTO_MIXED_PRECISION has no effect.\n",
      "2022-01-02 07:00:21.702862: W tensorflow/core/grappler/optimizers/meta_optimizer.cc:153] TF_ENABLE_AUTO_MIXED_PRECISION has no effect.\n",
      "2022-01-02 07:00:21.702868: W tensorflow/core/grappler/optimizers/meta_optimizer.cc:153] TF_ENABLE_AUTO_MIXED_PRECISION has no effect.\n",
      "2022-01-02 07:00:31.688595: I tensorflow/core/kernels/data/shuffle_dataset_op.cc:177] Filling up shuffle buffer (this may take a while): 10802 of 70504\n",
      "2022-01-02 07:00:41.688427: I tensorflow/core/kernels/data/shuffle_dataset_op.cc:177] Filling up shuffle buffer (this may take a while): 21733 of 70504\n",
      "2022-01-02 07:00:51.688727: I tensorflow/core/kernels/data/shuffle_dataset_op.cc:177] Filling up shuffle buffer (this may take a while): 32665 of 70504\n",
      "2022-01-02 07:01:01.688999: I tensorflow/core/kernels/data/shuffle_dataset_op.cc:177] Filling up shuffle buffer (this may take a while): 43655 of 70504\n",
      "2022-01-02 07:01:11.689111: I tensorflow/core/kernels/data/shuffle_dataset_op.cc:177] Filling up shuffle buffer (this may take a while): 54655 of 70504\n",
      "2022-01-02 07:01:21.688385: I tensorflow/core/kernels/data/shuffle_dataset_op.cc:177] Filling up shuffle buffer (this may take a while): 65714 of 70504\n",
      "2022-01-02 07:01:26.049297: I tensorflow/core/kernels/data/shuffle_dataset_op.cc:230] Shuffle buffer filled.\n"
     ]
    },
    {
     "name": "stdout",
     "output_type": "stream",
     "text": [
      "Epoch 51, gen_loss: -787004.4375, disc_loss: -742.1920\n",
      "Time for epoch 51 is 99.4327 sec\n"
     ]
    },
    {
     "name": "stderr",
     "output_type": "stream",
     "text": [
      "2022-01-02 07:02:01.178887: W tensorflow/core/grappler/optimizers/meta_optimizer.cc:153] TF_ENABLE_AUTO_MIXED_PRECISION has no effect.\n",
      "2022-01-02 07:02:01.178942: W tensorflow/core/grappler/optimizers/meta_optimizer.cc:153] TF_ENABLE_AUTO_MIXED_PRECISION has no effect.\n",
      "2022-01-02 07:02:01.178956: W tensorflow/core/grappler/optimizers/meta_optimizer.cc:153] TF_ENABLE_AUTO_MIXED_PRECISION has no effect.\n",
      "2022-01-02 07:02:01.178962: W tensorflow/core/grappler/optimizers/meta_optimizer.cc:153] TF_ENABLE_AUTO_MIXED_PRECISION has no effect.\n",
      "2022-01-02 07:02:11.164887: I tensorflow/core/kernels/data/shuffle_dataset_op.cc:177] Filling up shuffle buffer (this may take a while): 10580 of 70504\n",
      "2022-01-02 07:02:21.165122: I tensorflow/core/kernels/data/shuffle_dataset_op.cc:177] Filling up shuffle buffer (this may take a while): 21250 of 70504\n",
      "2022-01-02 07:02:31.164382: I tensorflow/core/kernels/data/shuffle_dataset_op.cc:177] Filling up shuffle buffer (this may take a while): 31954 of 70504\n",
      "2022-01-02 07:02:41.163862: I tensorflow/core/kernels/data/shuffle_dataset_op.cc:177] Filling up shuffle buffer (this may take a while): 42758 of 70504\n",
      "2022-01-02 07:02:51.165936: I tensorflow/core/kernels/data/shuffle_dataset_op.cc:177] Filling up shuffle buffer (this may take a while): 53472 of 70504\n",
      "2022-01-02 07:03:01.164133: I tensorflow/core/kernels/data/shuffle_dataset_op.cc:177] Filling up shuffle buffer (this may take a while): 64258 of 70504\n",
      "2022-01-02 07:03:06.925100: I tensorflow/core/kernels/data/shuffle_dataset_op.cc:230] Shuffle buffer filled.\n"
     ]
    },
    {
     "name": "stdout",
     "output_type": "stream",
     "text": [
      "Epoch 52, gen_loss: -782333.0625, disc_loss: -986.4749\n",
      "Time for epoch 52 is 100.8125 sec\n"
     ]
    },
    {
     "name": "stderr",
     "output_type": "stream",
     "text": [
      "2022-01-02 07:03:42.034607: W tensorflow/core/grappler/optimizers/meta_optimizer.cc:153] TF_ENABLE_AUTO_MIXED_PRECISION has no effect.\n",
      "2022-01-02 07:03:42.034659: W tensorflow/core/grappler/optimizers/meta_optimizer.cc:153] TF_ENABLE_AUTO_MIXED_PRECISION has no effect.\n",
      "2022-01-02 07:03:42.034673: W tensorflow/core/grappler/optimizers/meta_optimizer.cc:153] TF_ENABLE_AUTO_MIXED_PRECISION has no effect.\n",
      "2022-01-02 07:03:42.034679: W tensorflow/core/grappler/optimizers/meta_optimizer.cc:153] TF_ENABLE_AUTO_MIXED_PRECISION has no effect.\n",
      "2022-01-02 07:03:52.024555: I tensorflow/core/kernels/data/shuffle_dataset_op.cc:177] Filling up shuffle buffer (this may take a while): 10612 of 70504\n",
      "2022-01-02 07:04:02.023976: I tensorflow/core/kernels/data/shuffle_dataset_op.cc:177] Filling up shuffle buffer (this may take a while): 21349 of 70504\n",
      "2022-01-02 07:04:12.026126: I tensorflow/core/kernels/data/shuffle_dataset_op.cc:177] Filling up shuffle buffer (this may take a while): 32098 of 70504\n",
      "2022-01-02 07:04:22.024221: I tensorflow/core/kernels/data/shuffle_dataset_op.cc:177] Filling up shuffle buffer (this may take a while): 42874 of 70504\n",
      "2022-01-02 07:04:32.024582: I tensorflow/core/kernels/data/shuffle_dataset_op.cc:177] Filling up shuffle buffer (this may take a while): 53602 of 70504\n",
      "2022-01-02 07:04:42.025006: I tensorflow/core/kernels/data/shuffle_dataset_op.cc:177] Filling up shuffle buffer (this may take a while): 64432 of 70504\n",
      "2022-01-02 07:04:47.646987: I tensorflow/core/kernels/data/shuffle_dataset_op.cc:230] Shuffle buffer filled.\n"
     ]
    },
    {
     "name": "stdout",
     "output_type": "stream",
     "text": [
      "Epoch 53, gen_loss: -780126.1250, disc_loss: -1183.2957\n",
      "Time for epoch 53 is 100.6462 sec\n"
     ]
    },
    {
     "name": "stderr",
     "output_type": "stream",
     "text": [
      "2022-01-02 07:05:22.724459: W tensorflow/core/grappler/optimizers/meta_optimizer.cc:153] TF_ENABLE_AUTO_MIXED_PRECISION has no effect.\n",
      "2022-01-02 07:05:22.724511: W tensorflow/core/grappler/optimizers/meta_optimizer.cc:153] TF_ENABLE_AUTO_MIXED_PRECISION has no effect.\n",
      "2022-01-02 07:05:22.724525: W tensorflow/core/grappler/optimizers/meta_optimizer.cc:153] TF_ENABLE_AUTO_MIXED_PRECISION has no effect.\n",
      "2022-01-02 07:05:22.724531: W tensorflow/core/grappler/optimizers/meta_optimizer.cc:153] TF_ENABLE_AUTO_MIXED_PRECISION has no effect.\n",
      "2022-01-02 07:05:32.715237: I tensorflow/core/kernels/data/shuffle_dataset_op.cc:177] Filling up shuffle buffer (this may take a while): 10557 of 70504\n",
      "2022-01-02 07:05:42.714673: I tensorflow/core/kernels/data/shuffle_dataset_op.cc:177] Filling up shuffle buffer (this may take a while): 21194 of 70504\n",
      "2022-01-02 07:05:52.714172: I tensorflow/core/kernels/data/shuffle_dataset_op.cc:177] Filling up shuffle buffer (this may take a while): 31899 of 70504\n",
      "2022-01-02 07:06:02.714340: I tensorflow/core/kernels/data/shuffle_dataset_op.cc:177] Filling up shuffle buffer (this may take a while): 42660 of 70504\n",
      "2022-01-02 07:06:12.713648: I tensorflow/core/kernels/data/shuffle_dataset_op.cc:177] Filling up shuffle buffer (this may take a while): 53359 of 70504\n",
      "2022-01-02 07:06:22.714679: I tensorflow/core/kernels/data/shuffle_dataset_op.cc:177] Filling up shuffle buffer (this may take a while): 64196 of 70504\n",
      "2022-01-02 07:06:28.528439: I tensorflow/core/kernels/data/shuffle_dataset_op.cc:230] Shuffle buffer filled.\n"
     ]
    },
    {
     "name": "stdout",
     "output_type": "stream",
     "text": [
      "Epoch 54, gen_loss: -776616.5625, disc_loss: -1324.3600\n",
      "Time for epoch 54 is 100.8847 sec\n"
     ]
    },
    {
     "name": "stderr",
     "output_type": "stream",
     "text": [
      "2022-01-02 07:07:03.653227: W tensorflow/core/grappler/optimizers/meta_optimizer.cc:153] TF_ENABLE_AUTO_MIXED_PRECISION has no effect.\n",
      "2022-01-02 07:07:03.653273: W tensorflow/core/grappler/optimizers/meta_optimizer.cc:153] TF_ENABLE_AUTO_MIXED_PRECISION has no effect.\n",
      "2022-01-02 07:07:03.653286: W tensorflow/core/grappler/optimizers/meta_optimizer.cc:153] TF_ENABLE_AUTO_MIXED_PRECISION has no effect.\n",
      "2022-01-02 07:07:03.653292: W tensorflow/core/grappler/optimizers/meta_optimizer.cc:153] TF_ENABLE_AUTO_MIXED_PRECISION has no effect.\n",
      "2022-01-02 07:07:13.640519: I tensorflow/core/kernels/data/shuffle_dataset_op.cc:177] Filling up shuffle buffer (this may take a while): 10831 of 70504\n",
      "2022-01-02 07:07:23.639123: I tensorflow/core/kernels/data/shuffle_dataset_op.cc:177] Filling up shuffle buffer (this may take a while): 21795 of 70504\n",
      "2022-01-02 07:07:33.639664: I tensorflow/core/kernels/data/shuffle_dataset_op.cc:177] Filling up shuffle buffer (this may take a while): 32758 of 70504\n",
      "2022-01-02 07:07:43.638622: I tensorflow/core/kernels/data/shuffle_dataset_op.cc:177] Filling up shuffle buffer (this may take a while): 43758 of 70504\n",
      "2022-01-02 07:07:53.638970: I tensorflow/core/kernels/data/shuffle_dataset_op.cc:177] Filling up shuffle buffer (this may take a while): 54760 of 70504\n",
      "2022-01-02 07:08:03.639284: I tensorflow/core/kernels/data/shuffle_dataset_op.cc:177] Filling up shuffle buffer (this may take a while): 65834 of 70504\n",
      "2022-01-02 07:08:07.858645: I tensorflow/core/kernels/data/shuffle_dataset_op.cc:230] Shuffle buffer filled.\n"
     ]
    },
    {
     "name": "stdout",
     "output_type": "stream",
     "text": [
      "Epoch 55, gen_loss: -767314.2500, disc_loss: -1815.5576\n",
      "Time for epoch 55 is 99.2924 sec\n"
     ]
    },
    {
     "name": "stderr",
     "output_type": "stream",
     "text": [
      "2022-01-02 07:08:42.984670: W tensorflow/core/grappler/optimizers/meta_optimizer.cc:153] TF_ENABLE_AUTO_MIXED_PRECISION has no effect.\n",
      "2022-01-02 07:08:42.984721: W tensorflow/core/grappler/optimizers/meta_optimizer.cc:153] TF_ENABLE_AUTO_MIXED_PRECISION has no effect.\n",
      "2022-01-02 07:08:42.984734: W tensorflow/core/grappler/optimizers/meta_optimizer.cc:153] TF_ENABLE_AUTO_MIXED_PRECISION has no effect.\n",
      "2022-01-02 07:08:42.984740: W tensorflow/core/grappler/optimizers/meta_optimizer.cc:153] TF_ENABLE_AUTO_MIXED_PRECISION has no effect.\n",
      "2022-01-02 07:08:53.000172: I tensorflow/core/kernels/data/shuffle_dataset_op.cc:177] Filling up shuffle buffer (this may take a while): 10839 of 70504\n",
      "2022-01-02 07:09:02.972155: I tensorflow/core/kernels/data/shuffle_dataset_op.cc:177] Filling up shuffle buffer (this may take a while): 21769 of 70504\n",
      "2022-01-02 07:09:12.972046: I tensorflow/core/kernels/data/shuffle_dataset_op.cc:177] Filling up shuffle buffer (this may take a while): 32677 of 70504\n",
      "2022-01-02 07:09:22.971090: I tensorflow/core/kernels/data/shuffle_dataset_op.cc:177] Filling up shuffle buffer (this may take a while): 43677 of 70504\n",
      "2022-01-02 07:09:32.972048: I tensorflow/core/kernels/data/shuffle_dataset_op.cc:177] Filling up shuffle buffer (this may take a while): 54659 of 70504\n",
      "2022-01-02 07:09:42.971632: I tensorflow/core/kernels/data/shuffle_dataset_op.cc:177] Filling up shuffle buffer (this may take a while): 65732 of 70504\n",
      "2022-01-02 07:09:47.304479: I tensorflow/core/kernels/data/shuffle_dataset_op.cc:230] Shuffle buffer filled.\n"
     ]
    },
    {
     "name": "stdout",
     "output_type": "stream",
     "text": [
      "Epoch 56, gen_loss: -734425.7500, disc_loss: -3899.0950\n",
      "Time for epoch 56 is 99.3791 sec\n"
     ]
    },
    {
     "name": "stderr",
     "output_type": "stream",
     "text": [
      "2022-01-02 07:10:22.438609: W tensorflow/core/grappler/optimizers/meta_optimizer.cc:153] TF_ENABLE_AUTO_MIXED_PRECISION has no effect.\n",
      "2022-01-02 07:10:22.438660: W tensorflow/core/grappler/optimizers/meta_optimizer.cc:153] TF_ENABLE_AUTO_MIXED_PRECISION has no effect.\n",
      "2022-01-02 07:10:22.438674: W tensorflow/core/grappler/optimizers/meta_optimizer.cc:153] TF_ENABLE_AUTO_MIXED_PRECISION has no effect.\n",
      "2022-01-02 07:10:22.438679: W tensorflow/core/grappler/optimizers/meta_optimizer.cc:153] TF_ENABLE_AUTO_MIXED_PRECISION has no effect.\n",
      "2022-01-02 07:10:32.424858: I tensorflow/core/kernels/data/shuffle_dataset_op.cc:177] Filling up shuffle buffer (this may take a while): 10862 of 70504\n",
      "2022-01-02 07:10:42.424629: I tensorflow/core/kernels/data/shuffle_dataset_op.cc:177] Filling up shuffle buffer (this may take a while): 21834 of 70504\n",
      "2022-01-02 07:10:52.423637: I tensorflow/core/kernels/data/shuffle_dataset_op.cc:177] Filling up shuffle buffer (this may take a while): 32807 of 70504\n",
      "2022-01-02 07:11:02.424365: I tensorflow/core/kernels/data/shuffle_dataset_op.cc:177] Filling up shuffle buffer (this may take a while): 43808 of 70504\n",
      "2022-01-02 07:11:12.424204: I tensorflow/core/kernels/data/shuffle_dataset_op.cc:177] Filling up shuffle buffer (this may take a while): 54803 of 70504\n",
      "2022-01-02 07:11:22.423704: I tensorflow/core/kernels/data/shuffle_dataset_op.cc:177] Filling up shuffle buffer (this may take a while): 65773 of 70504\n",
      "2022-01-02 07:11:26.692261: I tensorflow/core/kernels/data/shuffle_dataset_op.cc:230] Shuffle buffer filled.\n"
     ]
    },
    {
     "name": "stdout",
     "output_type": "stream",
     "text": [
      "Epoch 57, gen_loss: -704799.3125, disc_loss: -5002.8149\n",
      "Time for epoch 57 is 99.3682 sec\n"
     ]
    },
    {
     "name": "stderr",
     "output_type": "stream",
     "text": [
      "2022-01-02 07:12:01.827210: W tensorflow/core/grappler/optimizers/meta_optimizer.cc:153] TF_ENABLE_AUTO_MIXED_PRECISION has no effect.\n",
      "2022-01-02 07:12:01.827262: W tensorflow/core/grappler/optimizers/meta_optimizer.cc:153] TF_ENABLE_AUTO_MIXED_PRECISION has no effect.\n",
      "2022-01-02 07:12:01.827276: W tensorflow/core/grappler/optimizers/meta_optimizer.cc:153] TF_ENABLE_AUTO_MIXED_PRECISION has no effect.\n",
      "2022-01-02 07:12:01.827281: W tensorflow/core/grappler/optimizers/meta_optimizer.cc:153] TF_ENABLE_AUTO_MIXED_PRECISION has no effect.\n",
      "2022-01-02 07:12:11.806448: I tensorflow/core/kernels/data/shuffle_dataset_op.cc:177] Filling up shuffle buffer (this may take a while): 10841 of 70504\n",
      "2022-01-02 07:12:21.807769: I tensorflow/core/kernels/data/shuffle_dataset_op.cc:177] Filling up shuffle buffer (this may take a while): 21806 of 70504\n",
      "2022-01-02 07:12:31.806537: I tensorflow/core/kernels/data/shuffle_dataset_op.cc:177] Filling up shuffle buffer (this may take a while): 32762 of 70504\n",
      "2022-01-02 07:12:41.806445: I tensorflow/core/kernels/data/shuffle_dataset_op.cc:177] Filling up shuffle buffer (this may take a while): 43750 of 70504\n",
      "2022-01-02 07:12:51.806392: I tensorflow/core/kernels/data/shuffle_dataset_op.cc:177] Filling up shuffle buffer (this may take a while): 54712 of 70504\n",
      "2022-01-02 07:13:01.807218: I tensorflow/core/kernels/data/shuffle_dataset_op.cc:177] Filling up shuffle buffer (this may take a while): 65770 of 70504\n",
      "2022-01-02 07:13:06.098625: I tensorflow/core/kernels/data/shuffle_dataset_op.cc:230] Shuffle buffer filled.\n"
     ]
    },
    {
     "name": "stdout",
     "output_type": "stream",
     "text": [
      "Epoch 58, gen_loss: -645265.6250, disc_loss: -12560.6182\n",
      "Time for epoch 58 is 99.3682 sec\n"
     ]
    },
    {
     "name": "stderr",
     "output_type": "stream",
     "text": [
      "2022-01-02 07:13:41.231746: W tensorflow/core/grappler/optimizers/meta_optimizer.cc:153] TF_ENABLE_AUTO_MIXED_PRECISION has no effect.\n",
      "2022-01-02 07:13:41.231797: W tensorflow/core/grappler/optimizers/meta_optimizer.cc:153] TF_ENABLE_AUTO_MIXED_PRECISION has no effect.\n",
      "2022-01-02 07:13:41.231810: W tensorflow/core/grappler/optimizers/meta_optimizer.cc:153] TF_ENABLE_AUTO_MIXED_PRECISION has no effect.\n",
      "2022-01-02 07:13:41.231816: W tensorflow/core/grappler/optimizers/meta_optimizer.cc:153] TF_ENABLE_AUTO_MIXED_PRECISION has no effect.\n",
      "2022-01-02 07:13:51.216975: I tensorflow/core/kernels/data/shuffle_dataset_op.cc:177] Filling up shuffle buffer (this may take a while): 10600 of 70504\n",
      "2022-01-02 07:14:01.216677: I tensorflow/core/kernels/data/shuffle_dataset_op.cc:177] Filling up shuffle buffer (this may take a while): 21302 of 70504\n",
      "2022-01-02 07:14:11.216833: I tensorflow/core/kernels/data/shuffle_dataset_op.cc:177] Filling up shuffle buffer (this may take a while): 32062 of 70504\n",
      "2022-01-02 07:14:21.217287: I tensorflow/core/kernels/data/shuffle_dataset_op.cc:177] Filling up shuffle buffer (this may take a while): 42861 of 70504\n",
      "2022-01-02 07:14:31.218133: I tensorflow/core/kernels/data/shuffle_dataset_op.cc:177] Filling up shuffle buffer (this may take a while): 53579 of 70504\n",
      "2022-01-02 07:14:41.217301: I tensorflow/core/kernels/data/shuffle_dataset_op.cc:177] Filling up shuffle buffer (this may take a while): 64359 of 70504\n",
      "2022-01-02 07:14:46.918370: I tensorflow/core/kernels/data/shuffle_dataset_op.cc:230] Shuffle buffer filled.\n"
     ]
    },
    {
     "name": "stdout",
     "output_type": "stream",
     "text": [
      "Epoch 59, gen_loss: -562298.9375, disc_loss: -60776.1797\n",
      "Time for epoch 59 is 100.7754 sec\n"
     ]
    },
    {
     "name": "stderr",
     "output_type": "stream",
     "text": [
      "2022-01-02 07:15:22.049399: W tensorflow/core/grappler/optimizers/meta_optimizer.cc:153] TF_ENABLE_AUTO_MIXED_PRECISION has no effect.\n",
      "2022-01-02 07:15:22.049449: W tensorflow/core/grappler/optimizers/meta_optimizer.cc:153] TF_ENABLE_AUTO_MIXED_PRECISION has no effect.\n",
      "2022-01-02 07:15:22.049463: W tensorflow/core/grappler/optimizers/meta_optimizer.cc:153] TF_ENABLE_AUTO_MIXED_PRECISION has no effect.\n",
      "2022-01-02 07:15:22.049469: W tensorflow/core/grappler/optimizers/meta_optimizer.cc:153] TF_ENABLE_AUTO_MIXED_PRECISION has no effect.\n",
      "2022-01-02 07:15:32.031961: I tensorflow/core/kernels/data/shuffle_dataset_op.cc:177] Filling up shuffle buffer (this may take a while): 10574 of 70504\n",
      "2022-01-02 07:15:42.033294: I tensorflow/core/kernels/data/shuffle_dataset_op.cc:177] Filling up shuffle buffer (this may take a while): 21307 of 70504\n",
      "2022-01-02 07:15:52.031747: I tensorflow/core/kernels/data/shuffle_dataset_op.cc:177] Filling up shuffle buffer (this may take a while): 32026 of 70504\n",
      "2022-01-02 07:16:02.031581: I tensorflow/core/kernels/data/shuffle_dataset_op.cc:177] Filling up shuffle buffer (this may take a while): 42767 of 70504\n",
      "2022-01-02 07:16:12.032167: I tensorflow/core/kernels/data/shuffle_dataset_op.cc:177] Filling up shuffle buffer (this may take a while): 53509 of 70504\n",
      "2022-01-02 07:16:22.031617: I tensorflow/core/kernels/data/shuffle_dataset_op.cc:177] Filling up shuffle buffer (this may take a while): 64333 of 70504\n",
      "2022-01-02 07:16:27.757177: I tensorflow/core/kernels/data/shuffle_dataset_op.cc:230] Shuffle buffer filled.\n"
     ]
    },
    {
     "name": "stdout",
     "output_type": "stream",
     "text": [
      "Epoch 60, gen_loss: -329578.6250, disc_loss: -145144.1250\n",
      "Time for epoch 60 is 100.7759 sec\n"
     ]
    },
    {
     "name": "stderr",
     "output_type": "stream",
     "text": [
      "2022-01-02 07:17:02.862934: W tensorflow/core/grappler/optimizers/meta_optimizer.cc:153] TF_ENABLE_AUTO_MIXED_PRECISION has no effect.\n",
      "2022-01-02 07:17:02.862984: W tensorflow/core/grappler/optimizers/meta_optimizer.cc:153] TF_ENABLE_AUTO_MIXED_PRECISION has no effect.\n",
      "2022-01-02 07:17:02.862996: W tensorflow/core/grappler/optimizers/meta_optimizer.cc:153] TF_ENABLE_AUTO_MIXED_PRECISION has no effect.\n",
      "2022-01-02 07:17:02.863002: W tensorflow/core/grappler/optimizers/meta_optimizer.cc:153] TF_ENABLE_AUTO_MIXED_PRECISION has no effect.\n",
      "2022-01-02 07:17:12.848342: I tensorflow/core/kernels/data/shuffle_dataset_op.cc:177] Filling up shuffle buffer (this may take a while): 10613 of 70504\n",
      "2022-01-02 07:17:22.848008: I tensorflow/core/kernels/data/shuffle_dataset_op.cc:177] Filling up shuffle buffer (this may take a while): 21358 of 70504\n",
      "2022-01-02 07:17:32.849615: I tensorflow/core/kernels/data/shuffle_dataset_op.cc:177] Filling up shuffle buffer (this may take a while): 32121 of 70504\n",
      "2022-01-02 07:17:42.848955: I tensorflow/core/kernels/data/shuffle_dataset_op.cc:177] Filling up shuffle buffer (this may take a while): 42896 of 70504\n",
      "2022-01-02 07:17:52.848740: I tensorflow/core/kernels/data/shuffle_dataset_op.cc:177] Filling up shuffle buffer (this may take a while): 53641 of 70504\n",
      "2022-01-02 07:18:02.849056: I tensorflow/core/kernels/data/shuffle_dataset_op.cc:177] Filling up shuffle buffer (this may take a while): 64462 of 70504\n",
      "2022-01-02 07:18:08.464058: I tensorflow/core/kernels/data/shuffle_dataset_op.cc:230] Shuffle buffer filled.\n"
     ]
    },
    {
     "name": "stdout",
     "output_type": "stream",
     "text": [
      "Epoch 61, gen_loss: -264944.3125, disc_loss: -179184.8281\n",
      "Time for epoch 61 is 100.6978 sec\n"
     ]
    },
    {
     "name": "stderr",
     "output_type": "stream",
     "text": [
      "2022-01-02 07:18:43.600583: W tensorflow/core/grappler/optimizers/meta_optimizer.cc:153] TF_ENABLE_AUTO_MIXED_PRECISION has no effect.\n",
      "2022-01-02 07:18:43.600638: W tensorflow/core/grappler/optimizers/meta_optimizer.cc:153] TF_ENABLE_AUTO_MIXED_PRECISION has no effect.\n",
      "2022-01-02 07:18:43.600652: W tensorflow/core/grappler/optimizers/meta_optimizer.cc:153] TF_ENABLE_AUTO_MIXED_PRECISION has no effect.\n",
      "2022-01-02 07:18:43.600657: W tensorflow/core/grappler/optimizers/meta_optimizer.cc:153] TF_ENABLE_AUTO_MIXED_PRECISION has no effect.\n",
      "2022-01-02 07:18:53.587955: I tensorflow/core/kernels/data/shuffle_dataset_op.cc:177] Filling up shuffle buffer (this may take a while): 10599 of 70504\n",
      "2022-01-02 07:19:03.588333: I tensorflow/core/kernels/data/shuffle_dataset_op.cc:177] Filling up shuffle buffer (this may take a while): 21308 of 70504\n",
      "2022-01-02 07:19:13.588223: I tensorflow/core/kernels/data/shuffle_dataset_op.cc:177] Filling up shuffle buffer (this may take a while): 32078 of 70504\n",
      "2022-01-02 07:19:23.589260: I tensorflow/core/kernels/data/shuffle_dataset_op.cc:177] Filling up shuffle buffer (this may take a while): 42873 of 70504\n",
      "2022-01-02 07:19:33.589112: I tensorflow/core/kernels/data/shuffle_dataset_op.cc:177] Filling up shuffle buffer (this may take a while): 53565 of 70504\n",
      "2022-01-02 07:19:43.588392: I tensorflow/core/kernels/data/shuffle_dataset_op.cc:177] Filling up shuffle buffer (this may take a while): 64372 of 70504\n",
      "2022-01-02 07:19:49.236138: I tensorflow/core/kernels/data/shuffle_dataset_op.cc:230] Shuffle buffer filled.\n"
     ]
    },
    {
     "name": "stdout",
     "output_type": "stream",
     "text": [
      "Epoch 62, gen_loss: -95151.9609, disc_loss: -259446.0938\n",
      "Time for epoch 62 is 100.6422 sec\n"
     ]
    },
    {
     "name": "stderr",
     "output_type": "stream",
     "text": [
      "2022-01-02 07:20:24.282521: W tensorflow/core/grappler/optimizers/meta_optimizer.cc:153] TF_ENABLE_AUTO_MIXED_PRECISION has no effect.\n",
      "2022-01-02 07:20:24.282565: W tensorflow/core/grappler/optimizers/meta_optimizer.cc:153] TF_ENABLE_AUTO_MIXED_PRECISION has no effect.\n",
      "2022-01-02 07:20:24.282578: W tensorflow/core/grappler/optimizers/meta_optimizer.cc:153] TF_ENABLE_AUTO_MIXED_PRECISION has no effect.\n",
      "2022-01-02 07:20:24.282584: W tensorflow/core/grappler/optimizers/meta_optimizer.cc:153] TF_ENABLE_AUTO_MIXED_PRECISION has no effect.\n",
      "2022-01-02 07:20:34.271629: I tensorflow/core/kernels/data/shuffle_dataset_op.cc:177] Filling up shuffle buffer (this may take a while): 10838 of 70504\n",
      "2022-01-02 07:20:44.272494: I tensorflow/core/kernels/data/shuffle_dataset_op.cc:177] Filling up shuffle buffer (this may take a while): 21837 of 70504\n",
      "2022-01-02 07:20:54.271773: I tensorflow/core/kernels/data/shuffle_dataset_op.cc:177] Filling up shuffle buffer (this may take a while): 32830 of 70504\n",
      "2022-01-02 07:21:04.272053: I tensorflow/core/kernels/data/shuffle_dataset_op.cc:177] Filling up shuffle buffer (this may take a while): 43847 of 70504\n",
      "2022-01-02 07:21:14.272070: I tensorflow/core/kernels/data/shuffle_dataset_op.cc:177] Filling up shuffle buffer (this may take a while): 54865 of 70504\n",
      "2022-01-02 07:21:24.272056: I tensorflow/core/kernels/data/shuffle_dataset_op.cc:177] Filling up shuffle buffer (this may take a while): 65911 of 70504\n",
      "2022-01-02 07:21:28.424789: I tensorflow/core/kernels/data/shuffle_dataset_op.cc:230] Shuffle buffer filled.\n"
     ]
    },
    {
     "name": "stdout",
     "output_type": "stream",
     "text": [
      "Epoch 63, gen_loss: -184666.1406, disc_loss: -291604.7812\n",
      "Time for epoch 63 is 99.2406 sec\n"
     ]
    },
    {
     "name": "stderr",
     "output_type": "stream",
     "text": [
      "2022-01-02 07:22:03.568638: W tensorflow/core/grappler/optimizers/meta_optimizer.cc:153] TF_ENABLE_AUTO_MIXED_PRECISION has no effect.\n",
      "2022-01-02 07:22:03.568689: W tensorflow/core/grappler/optimizers/meta_optimizer.cc:153] TF_ENABLE_AUTO_MIXED_PRECISION has no effect.\n",
      "2022-01-02 07:22:03.568703: W tensorflow/core/grappler/optimizers/meta_optimizer.cc:153] TF_ENABLE_AUTO_MIXED_PRECISION has no effect.\n",
      "2022-01-02 07:22:03.568709: W tensorflow/core/grappler/optimizers/meta_optimizer.cc:153] TF_ENABLE_AUTO_MIXED_PRECISION has no effect.\n",
      "2022-01-02 07:22:13.552259: I tensorflow/core/kernels/data/shuffle_dataset_op.cc:177] Filling up shuffle buffer (this may take a while): 10596 of 70504\n",
      "2022-01-02 07:22:23.551884: I tensorflow/core/kernels/data/shuffle_dataset_op.cc:177] Filling up shuffle buffer (this may take a while): 21348 of 70504\n",
      "2022-01-02 07:22:33.552233: I tensorflow/core/kernels/data/shuffle_dataset_op.cc:177] Filling up shuffle buffer (this may take a while): 32087 of 70504\n",
      "2022-01-02 07:22:43.552850: I tensorflow/core/kernels/data/shuffle_dataset_op.cc:177] Filling up shuffle buffer (this may take a while): 42804 of 70504\n",
      "2022-01-02 07:22:53.552608: I tensorflow/core/kernels/data/shuffle_dataset_op.cc:177] Filling up shuffle buffer (this may take a while): 53537 of 70504\n",
      "2022-01-02 07:23:03.553258: I tensorflow/core/kernels/data/shuffle_dataset_op.cc:177] Filling up shuffle buffer (this may take a while): 64328 of 70504\n",
      "2022-01-02 07:23:09.274700: I tensorflow/core/kernels/data/shuffle_dataset_op.cc:230] Shuffle buffer filled.\n"
     ]
    },
    {
     "name": "stdout",
     "output_type": "stream",
     "text": [
      "Epoch 64, gen_loss: -78091.9766, disc_loss: -344296.9688\n",
      "Time for epoch 64 is 100.7464 sec\n"
     ]
    },
    {
     "name": "stderr",
     "output_type": "stream",
     "text": [
      "2022-01-02 07:23:44.363069: W tensorflow/core/grappler/optimizers/meta_optimizer.cc:153] TF_ENABLE_AUTO_MIXED_PRECISION has no effect.\n",
      "2022-01-02 07:23:44.363119: W tensorflow/core/grappler/optimizers/meta_optimizer.cc:153] TF_ENABLE_AUTO_MIXED_PRECISION has no effect.\n",
      "2022-01-02 07:23:44.363134: W tensorflow/core/grappler/optimizers/meta_optimizer.cc:153] TF_ENABLE_AUTO_MIXED_PRECISION has no effect.\n",
      "2022-01-02 07:23:44.363139: W tensorflow/core/grappler/optimizers/meta_optimizer.cc:153] TF_ENABLE_AUTO_MIXED_PRECISION has no effect.\n",
      "2022-01-02 07:23:54.347002: I tensorflow/core/kernels/data/shuffle_dataset_op.cc:177] Filling up shuffle buffer (this may take a while): 10604 of 70504\n",
      "2022-01-02 07:24:04.347513: I tensorflow/core/kernels/data/shuffle_dataset_op.cc:177] Filling up shuffle buffer (this may take a while): 21343 of 70504\n",
      "2022-01-02 07:24:14.346086: I tensorflow/core/kernels/data/shuffle_dataset_op.cc:177] Filling up shuffle buffer (this may take a while): 32094 of 70504\n",
      "2022-01-02 07:24:24.345813: I tensorflow/core/kernels/data/shuffle_dataset_op.cc:177] Filling up shuffle buffer (this may take a while): 42891 of 70504\n",
      "2022-01-02 07:24:34.347170: I tensorflow/core/kernels/data/shuffle_dataset_op.cc:177] Filling up shuffle buffer (this may take a while): 53594 of 70504\n",
      "2022-01-02 07:24:44.346146: I tensorflow/core/kernels/data/shuffle_dataset_op.cc:177] Filling up shuffle buffer (this may take a while): 64383 of 70504\n",
      "2022-01-02 07:24:49.975800: I tensorflow/core/kernels/data/shuffle_dataset_op.cc:230] Shuffle buffer filled.\n"
     ]
    },
    {
     "name": "stdout",
     "output_type": "stream",
     "text": [
      "Epoch 65, gen_loss: -92596.2109, disc_loss: -388616.7188\n",
      "Time for epoch 65 is 100.6602 sec\n"
     ]
    },
    {
     "name": "stderr",
     "output_type": "stream",
     "text": [
      "2022-01-02 07:25:25.067977: W tensorflow/core/grappler/optimizers/meta_optimizer.cc:153] TF_ENABLE_AUTO_MIXED_PRECISION has no effect.\n",
      "2022-01-02 07:25:25.068039: W tensorflow/core/grappler/optimizers/meta_optimizer.cc:153] TF_ENABLE_AUTO_MIXED_PRECISION has no effect.\n",
      "2022-01-02 07:25:25.068053: W tensorflow/core/grappler/optimizers/meta_optimizer.cc:153] TF_ENABLE_AUTO_MIXED_PRECISION has no effect.\n",
      "2022-01-02 07:25:25.068059: W tensorflow/core/grappler/optimizers/meta_optimizer.cc:153] TF_ENABLE_AUTO_MIXED_PRECISION has no effect.\n",
      "2022-01-02 07:25:35.049996: I tensorflow/core/kernels/data/shuffle_dataset_op.cc:177] Filling up shuffle buffer (this may take a while): 10559 of 70504\n",
      "2022-01-02 07:25:45.051197: I tensorflow/core/kernels/data/shuffle_dataset_op.cc:177] Filling up shuffle buffer (this may take a while): 21278 of 70504\n",
      "2022-01-02 07:25:55.049426: I tensorflow/core/kernels/data/shuffle_dataset_op.cc:177] Filling up shuffle buffer (this may take a while): 32090 of 70504\n",
      "2022-01-02 07:26:05.050562: I tensorflow/core/kernels/data/shuffle_dataset_op.cc:177] Filling up shuffle buffer (this may take a while): 42870 of 70504\n",
      "2022-01-02 07:26:15.049398: I tensorflow/core/kernels/data/shuffle_dataset_op.cc:177] Filling up shuffle buffer (this may take a while): 53601 of 70504\n",
      "2022-01-02 07:26:25.049513: I tensorflow/core/kernels/data/shuffle_dataset_op.cc:177] Filling up shuffle buffer (this may take a while): 64392 of 70504\n",
      "2022-01-02 07:26:30.719845: I tensorflow/core/kernels/data/shuffle_dataset_op.cc:230] Shuffle buffer filled.\n"
     ]
    },
    {
     "name": "stdout",
     "output_type": "stream",
     "text": [
      "Epoch 66, gen_loss: -298319.3438, disc_loss: -417027.2188\n",
      "Time for epoch 66 is 100.6823 sec\n"
     ]
    },
    {
     "name": "stderr",
     "output_type": "stream",
     "text": [
      "2022-01-02 07:27:05.788795: W tensorflow/core/grappler/optimizers/meta_optimizer.cc:153] TF_ENABLE_AUTO_MIXED_PRECISION has no effect.\n",
      "2022-01-02 07:27:05.788846: W tensorflow/core/grappler/optimizers/meta_optimizer.cc:153] TF_ENABLE_AUTO_MIXED_PRECISION has no effect.\n",
      "2022-01-02 07:27:05.788860: W tensorflow/core/grappler/optimizers/meta_optimizer.cc:153] TF_ENABLE_AUTO_MIXED_PRECISION has no effect.\n",
      "2022-01-02 07:27:05.788866: W tensorflow/core/grappler/optimizers/meta_optimizer.cc:153] TF_ENABLE_AUTO_MIXED_PRECISION has no effect.\n",
      "2022-01-02 07:27:15.772050: I tensorflow/core/kernels/data/shuffle_dataset_op.cc:177] Filling up shuffle buffer (this may take a while): 10568 of 70504\n",
      "2022-01-02 07:27:25.772585: I tensorflow/core/kernels/data/shuffle_dataset_op.cc:177] Filling up shuffle buffer (this may take a while): 21327 of 70504\n",
      "2022-01-02 07:27:35.771801: I tensorflow/core/kernels/data/shuffle_dataset_op.cc:177] Filling up shuffle buffer (this may take a while): 32096 of 70504\n",
      "2022-01-02 07:27:45.772052: I tensorflow/core/kernels/data/shuffle_dataset_op.cc:177] Filling up shuffle buffer (this may take a while): 42868 of 70504\n",
      "2022-01-02 07:27:55.771280: I tensorflow/core/kernels/data/shuffle_dataset_op.cc:177] Filling up shuffle buffer (this may take a while): 53554 of 70504\n",
      "2022-01-02 07:28:05.772148: I tensorflow/core/kernels/data/shuffle_dataset_op.cc:177] Filling up shuffle buffer (this may take a while): 64347 of 70504\n",
      "2022-01-02 07:28:11.471019: I tensorflow/core/kernels/data/shuffle_dataset_op.cc:230] Shuffle buffer filled.\n"
     ]
    },
    {
     "name": "stdout",
     "output_type": "stream",
     "text": [
      "Epoch 67, gen_loss: -87708.6328, disc_loss: -492181.4375\n",
      "Time for epoch 67 is 100.7716 sec\n"
     ]
    },
    {
     "name": "stderr",
     "output_type": "stream",
     "text": [
      "2022-01-02 07:28:46.600660: W tensorflow/core/grappler/optimizers/meta_optimizer.cc:153] TF_ENABLE_AUTO_MIXED_PRECISION has no effect.\n",
      "2022-01-02 07:28:46.600714: W tensorflow/core/grappler/optimizers/meta_optimizer.cc:153] TF_ENABLE_AUTO_MIXED_PRECISION has no effect.\n",
      "2022-01-02 07:28:46.600728: W tensorflow/core/grappler/optimizers/meta_optimizer.cc:153] TF_ENABLE_AUTO_MIXED_PRECISION has no effect.\n",
      "2022-01-02 07:28:46.600733: W tensorflow/core/grappler/optimizers/meta_optimizer.cc:153] TF_ENABLE_AUTO_MIXED_PRECISION has no effect.\n",
      "2022-01-02 07:28:56.586771: I tensorflow/core/kernels/data/shuffle_dataset_op.cc:177] Filling up shuffle buffer (this may take a while): 10584 of 70504\n",
      "2022-01-02 07:29:06.587710: I tensorflow/core/kernels/data/shuffle_dataset_op.cc:177] Filling up shuffle buffer (this may take a while): 21315 of 70504\n",
      "2022-01-02 07:29:16.586395: I tensorflow/core/kernels/data/shuffle_dataset_op.cc:177] Filling up shuffle buffer (this may take a while): 32095 of 70504\n",
      "2022-01-02 07:29:26.587849: I tensorflow/core/kernels/data/shuffle_dataset_op.cc:177] Filling up shuffle buffer (this may take a while): 42886 of 70504\n",
      "2022-01-02 07:29:36.608744: I tensorflow/core/kernels/data/shuffle_dataset_op.cc:177] Filling up shuffle buffer (this may take a while): 53615 of 70504\n",
      "2022-01-02 07:29:46.587995: I tensorflow/core/kernels/data/shuffle_dataset_op.cc:177] Filling up shuffle buffer (this may take a while): 64427 of 70504\n",
      "2022-01-02 07:29:52.213306: I tensorflow/core/kernels/data/shuffle_dataset_op.cc:230] Shuffle buffer filled.\n"
     ]
    },
    {
     "name": "stdout",
     "output_type": "stream",
     "text": [
      "Epoch 68, gen_loss: -36324.2266, disc_loss: -528754.8125\n",
      "Time for epoch 68 is 100.6368 sec\n"
     ]
    },
    {
     "name": "stderr",
     "output_type": "stream",
     "text": [
      "2022-01-02 07:30:27.277200: W tensorflow/core/grappler/optimizers/meta_optimizer.cc:153] TF_ENABLE_AUTO_MIXED_PRECISION has no effect.\n",
      "2022-01-02 07:30:27.277253: W tensorflow/core/grappler/optimizers/meta_optimizer.cc:153] TF_ENABLE_AUTO_MIXED_PRECISION has no effect.\n",
      "2022-01-02 07:30:27.277267: W tensorflow/core/grappler/optimizers/meta_optimizer.cc:153] TF_ENABLE_AUTO_MIXED_PRECISION has no effect.\n",
      "2022-01-02 07:30:27.277273: W tensorflow/core/grappler/optimizers/meta_optimizer.cc:153] TF_ENABLE_AUTO_MIXED_PRECISION has no effect.\n",
      "2022-01-02 07:30:37.263798: I tensorflow/core/kernels/data/shuffle_dataset_op.cc:177] Filling up shuffle buffer (this may take a while): 10595 of 70504\n",
      "2022-01-02 07:30:47.263885: I tensorflow/core/kernels/data/shuffle_dataset_op.cc:177] Filling up shuffle buffer (this may take a while): 21347 of 70504\n",
      "2022-01-02 07:30:57.264431: I tensorflow/core/kernels/data/shuffle_dataset_op.cc:177] Filling up shuffle buffer (this may take a while): 32124 of 70504\n",
      "2022-01-02 07:31:07.263543: I tensorflow/core/kernels/data/shuffle_dataset_op.cc:177] Filling up shuffle buffer (this may take a while): 42898 of 70504\n",
      "2022-01-02 07:31:17.263916: I tensorflow/core/kernels/data/shuffle_dataset_op.cc:177] Filling up shuffle buffer (this may take a while): 53609 of 70504\n",
      "2022-01-02 07:31:27.264631: I tensorflow/core/kernels/data/shuffle_dataset_op.cc:177] Filling up shuffle buffer (this may take a while): 64421 of 70504\n",
      "2022-01-02 07:31:32.888680: I tensorflow/core/kernels/data/shuffle_dataset_op.cc:230] Shuffle buffer filled.\n"
     ]
    },
    {
     "name": "stdout",
     "output_type": "stream",
     "text": [
      "Epoch 69, gen_loss: -1673.3756, disc_loss: -578296.8750\n",
      "Time for epoch 69 is 100.6347 sec\n"
     ]
    },
    {
     "name": "stderr",
     "output_type": "stream",
     "text": [
      "2022-01-02 07:32:07.956308: W tensorflow/core/grappler/optimizers/meta_optimizer.cc:153] TF_ENABLE_AUTO_MIXED_PRECISION has no effect.\n",
      "2022-01-02 07:32:07.956361: W tensorflow/core/grappler/optimizers/meta_optimizer.cc:153] TF_ENABLE_AUTO_MIXED_PRECISION has no effect.\n",
      "2022-01-02 07:32:07.956375: W tensorflow/core/grappler/optimizers/meta_optimizer.cc:153] TF_ENABLE_AUTO_MIXED_PRECISION has no effect.\n",
      "2022-01-02 07:32:07.956380: W tensorflow/core/grappler/optimizers/meta_optimizer.cc:153] TF_ENABLE_AUTO_MIXED_PRECISION has no effect.\n",
      "2022-01-02 07:32:17.943577: I tensorflow/core/kernels/data/shuffle_dataset_op.cc:177] Filling up shuffle buffer (this may take a while): 10599 of 70504\n",
      "2022-01-02 07:32:27.943709: I tensorflow/core/kernels/data/shuffle_dataset_op.cc:177] Filling up shuffle buffer (this may take a while): 21332 of 70504\n",
      "2022-01-02 07:32:37.942800: I tensorflow/core/kernels/data/shuffle_dataset_op.cc:177] Filling up shuffle buffer (this may take a while): 32094 of 70504\n",
      "2022-01-02 07:32:47.942434: I tensorflow/core/kernels/data/shuffle_dataset_op.cc:177] Filling up shuffle buffer (this may take a while): 42846 of 70504\n",
      "2022-01-02 07:32:57.943919: I tensorflow/core/kernels/data/shuffle_dataset_op.cc:177] Filling up shuffle buffer (this may take a while): 53551 of 70504\n",
      "2022-01-02 07:33:07.943216: I tensorflow/core/kernels/data/shuffle_dataset_op.cc:177] Filling up shuffle buffer (this may take a while): 64365 of 70504\n",
      "2022-01-02 07:33:13.603388: I tensorflow/core/kernels/data/shuffle_dataset_op.cc:230] Shuffle buffer filled.\n"
     ]
    },
    {
     "name": "stdout",
     "output_type": "stream",
     "text": [
      "Epoch 70, gen_loss: -125695.3750, disc_loss: -662565.4375\n",
      "Time for epoch 70 is 100.6236 sec\n"
     ]
    },
    {
     "name": "stderr",
     "output_type": "stream",
     "text": [
      "2022-01-02 07:33:48.623986: W tensorflow/core/grappler/optimizers/meta_optimizer.cc:153] TF_ENABLE_AUTO_MIXED_PRECISION has no effect.\n",
      "2022-01-02 07:33:48.624044: W tensorflow/core/grappler/optimizers/meta_optimizer.cc:153] TF_ENABLE_AUTO_MIXED_PRECISION has no effect.\n",
      "2022-01-02 07:33:48.624057: W tensorflow/core/grappler/optimizers/meta_optimizer.cc:153] TF_ENABLE_AUTO_MIXED_PRECISION has no effect.\n",
      "2022-01-02 07:33:48.624063: W tensorflow/core/grappler/optimizers/meta_optimizer.cc:153] TF_ENABLE_AUTO_MIXED_PRECISION has no effect.\n",
      "2022-01-02 07:33:58.608909: I tensorflow/core/kernels/data/shuffle_dataset_op.cc:177] Filling up shuffle buffer (this may take a while): 10772 of 70504\n",
      "2022-01-02 07:34:08.609618: I tensorflow/core/kernels/data/shuffle_dataset_op.cc:177] Filling up shuffle buffer (this may take a while): 21785 of 70504\n",
      "2022-01-02 07:34:18.608292: I tensorflow/core/kernels/data/shuffle_dataset_op.cc:177] Filling up shuffle buffer (this may take a while): 32747 of 70504\n",
      "2022-01-02 07:34:28.609420: I tensorflow/core/kernels/data/shuffle_dataset_op.cc:177] Filling up shuffle buffer (this may take a while): 43724 of 70504\n",
      "2022-01-02 07:34:38.608723: I tensorflow/core/kernels/data/shuffle_dataset_op.cc:177] Filling up shuffle buffer (this may take a while): 54662 of 70504\n",
      "2022-01-02 07:34:48.608519: I tensorflow/core/kernels/data/shuffle_dataset_op.cc:177] Filling up shuffle buffer (this may take a while): 65713 of 70504\n",
      "2022-01-02 07:34:52.937073: I tensorflow/core/kernels/data/shuffle_dataset_op.cc:230] Shuffle buffer filled.\n"
     ]
    },
    {
     "name": "stdout",
     "output_type": "stream",
     "text": [
      "Epoch 71, gen_loss: 13047.4512, disc_loss: -731029.0625\n",
      "Time for epoch 71 is 99.3625 sec\n"
     ]
    },
    {
     "name": "stderr",
     "output_type": "stream",
     "text": [
      "2022-01-02 07:35:28.034323: W tensorflow/core/grappler/optimizers/meta_optimizer.cc:153] TF_ENABLE_AUTO_MIXED_PRECISION has no effect.\n",
      "2022-01-02 07:35:28.034380: W tensorflow/core/grappler/optimizers/meta_optimizer.cc:153] TF_ENABLE_AUTO_MIXED_PRECISION has no effect.\n",
      "2022-01-02 07:35:28.034395: W tensorflow/core/grappler/optimizers/meta_optimizer.cc:153] TF_ENABLE_AUTO_MIXED_PRECISION has no effect.\n",
      "2022-01-02 07:35:28.034400: W tensorflow/core/grappler/optimizers/meta_optimizer.cc:153] TF_ENABLE_AUTO_MIXED_PRECISION has no effect.\n",
      "2022-01-02 07:35:38.016899: I tensorflow/core/kernels/data/shuffle_dataset_op.cc:177] Filling up shuffle buffer (this may take a while): 10556 of 70504\n",
      "2022-01-02 07:35:48.017140: I tensorflow/core/kernels/data/shuffle_dataset_op.cc:177] Filling up shuffle buffer (this may take a while): 21315 of 70504\n",
      "2022-01-02 07:35:58.017339: I tensorflow/core/kernels/data/shuffle_dataset_op.cc:177] Filling up shuffle buffer (this may take a while): 32062 of 70504\n",
      "2022-01-02 07:36:08.018479: I tensorflow/core/kernels/data/shuffle_dataset_op.cc:177] Filling up shuffle buffer (this may take a while): 42818 of 70504\n",
      "2022-01-02 07:36:18.017315: I tensorflow/core/kernels/data/shuffle_dataset_op.cc:177] Filling up shuffle buffer (this may take a while): 53525 of 70504\n",
      "2022-01-02 07:36:28.017795: I tensorflow/core/kernels/data/shuffle_dataset_op.cc:177] Filling up shuffle buffer (this may take a while): 64336 of 70504\n",
      "2022-01-02 07:36:33.729337: I tensorflow/core/kernels/data/shuffle_dataset_op.cc:230] Shuffle buffer filled.\n"
     ]
    },
    {
     "name": "stdout",
     "output_type": "stream",
     "text": [
      "Epoch 72, gen_loss: 17000.5605, disc_loss: -802555.9375\n",
      "Time for epoch 72 is 100.7196 sec\n"
     ]
    },
    {
     "name": "stderr",
     "output_type": "stream",
     "text": [
      "2022-01-02 07:37:08.793388: W tensorflow/core/grappler/optimizers/meta_optimizer.cc:153] TF_ENABLE_AUTO_MIXED_PRECISION has no effect.\n",
      "2022-01-02 07:37:08.793437: W tensorflow/core/grappler/optimizers/meta_optimizer.cc:153] TF_ENABLE_AUTO_MIXED_PRECISION has no effect.\n",
      "2022-01-02 07:37:08.793451: W tensorflow/core/grappler/optimizers/meta_optimizer.cc:153] TF_ENABLE_AUTO_MIXED_PRECISION has no effect.\n",
      "2022-01-02 07:37:08.793457: W tensorflow/core/grappler/optimizers/meta_optimizer.cc:153] TF_ENABLE_AUTO_MIXED_PRECISION has no effect.\n",
      "2022-01-02 07:37:18.780299: I tensorflow/core/kernels/data/shuffle_dataset_op.cc:177] Filling up shuffle buffer (this may take a while): 10822 of 70504\n",
      "2022-01-02 07:37:28.779795: I tensorflow/core/kernels/data/shuffle_dataset_op.cc:177] Filling up shuffle buffer (this may take a while): 21802 of 70504\n",
      "2022-01-02 07:37:38.779451: I tensorflow/core/kernels/data/shuffle_dataset_op.cc:177] Filling up shuffle buffer (this may take a while): 32755 of 70504\n",
      "2022-01-02 07:37:48.780137: I tensorflow/core/kernels/data/shuffle_dataset_op.cc:177] Filling up shuffle buffer (this may take a while): 43764 of 70504\n",
      "2022-01-02 07:37:58.780290: I tensorflow/core/kernels/data/shuffle_dataset_op.cc:177] Filling up shuffle buffer (this may take a while): 54761 of 70504\n",
      "2022-01-02 07:38:08.779013: I tensorflow/core/kernels/data/shuffle_dataset_op.cc:177] Filling up shuffle buffer (this may take a while): 65810 of 70504\n",
      "2022-01-02 07:38:13.017633: I tensorflow/core/kernels/data/shuffle_dataset_op.cc:230] Shuffle buffer filled.\n"
     ]
    },
    {
     "name": "stdout",
     "output_type": "stream",
     "text": [
      "Epoch 73, gen_loss: 132481.9688, disc_loss: -896331.1875\n",
      "Time for epoch 73 is 99.3109 sec\n"
     ]
    },
    {
     "name": "stderr",
     "output_type": "stream",
     "text": [
      "2022-01-02 07:38:48.148638: W tensorflow/core/grappler/optimizers/meta_optimizer.cc:153] TF_ENABLE_AUTO_MIXED_PRECISION has no effect.\n",
      "2022-01-02 07:38:48.148687: W tensorflow/core/grappler/optimizers/meta_optimizer.cc:153] TF_ENABLE_AUTO_MIXED_PRECISION has no effect.\n",
      "2022-01-02 07:38:48.148702: W tensorflow/core/grappler/optimizers/meta_optimizer.cc:153] TF_ENABLE_AUTO_MIXED_PRECISION has no effect.\n",
      "2022-01-02 07:38:48.148707: W tensorflow/core/grappler/optimizers/meta_optimizer.cc:153] TF_ENABLE_AUTO_MIXED_PRECISION has no effect.\n",
      "2022-01-02 07:38:58.131639: I tensorflow/core/kernels/data/shuffle_dataset_op.cc:177] Filling up shuffle buffer (this may take a while): 10834 of 70504\n",
      "2022-01-02 07:39:08.131679: I tensorflow/core/kernels/data/shuffle_dataset_op.cc:177] Filling up shuffle buffer (this may take a while): 21815 of 70504\n",
      "2022-01-02 07:39:18.132902: I tensorflow/core/kernels/data/shuffle_dataset_op.cc:177] Filling up shuffle buffer (this may take a while): 32776 of 70504\n",
      "2022-01-02 07:39:28.133172: I tensorflow/core/kernels/data/shuffle_dataset_op.cc:177] Filling up shuffle buffer (this may take a while): 43761 of 70504\n",
      "2022-01-02 07:39:38.131980: I tensorflow/core/kernels/data/shuffle_dataset_op.cc:177] Filling up shuffle buffer (this may take a while): 54662 of 70504\n",
      "2022-01-02 07:39:48.131759: I tensorflow/core/kernels/data/shuffle_dataset_op.cc:177] Filling up shuffle buffer (this may take a while): 65748 of 70504\n",
      "2022-01-02 07:39:52.470320: I tensorflow/core/kernels/data/shuffle_dataset_op.cc:230] Shuffle buffer filled.\n"
     ]
    },
    {
     "name": "stdout",
     "output_type": "stream",
     "text": [
      "Epoch 74, gen_loss: -54211.2969, disc_loss: -973471.8125\n",
      "Time for epoch 74 is 99.3739 sec\n"
     ]
    },
    {
     "name": "stderr",
     "output_type": "stream",
     "text": [
      "2022-01-02 07:40:27.560112: W tensorflow/core/grappler/optimizers/meta_optimizer.cc:153] TF_ENABLE_AUTO_MIXED_PRECISION has no effect.\n",
      "2022-01-02 07:40:27.560162: W tensorflow/core/grappler/optimizers/meta_optimizer.cc:153] TF_ENABLE_AUTO_MIXED_PRECISION has no effect.\n",
      "2022-01-02 07:40:27.560177: W tensorflow/core/grappler/optimizers/meta_optimizer.cc:153] TF_ENABLE_AUTO_MIXED_PRECISION has no effect.\n",
      "2022-01-02 07:40:27.560183: W tensorflow/core/grappler/optimizers/meta_optimizer.cc:153] TF_ENABLE_AUTO_MIXED_PRECISION has no effect.\n",
      "2022-01-02 07:40:37.545721: I tensorflow/core/kernels/data/shuffle_dataset_op.cc:177] Filling up shuffle buffer (this may take a while): 10630 of 70504\n",
      "2022-01-02 07:40:47.545127: I tensorflow/core/kernels/data/shuffle_dataset_op.cc:177] Filling up shuffle buffer (this may take a while): 21379 of 70504\n",
      "2022-01-02 07:40:57.545481: I tensorflow/core/kernels/data/shuffle_dataset_op.cc:177] Filling up shuffle buffer (this may take a while): 32173 of 70504\n",
      "2022-01-02 07:41:07.545740: I tensorflow/core/kernels/data/shuffle_dataset_op.cc:177] Filling up shuffle buffer (this may take a while): 42959 of 70504\n",
      "2022-01-02 07:41:17.548086: I tensorflow/core/kernels/data/shuffle_dataset_op.cc:177] Filling up shuffle buffer (this may take a while): 53744 of 70504\n",
      "2022-01-02 07:41:27.546193: I tensorflow/core/kernels/data/shuffle_dataset_op.cc:177] Filling up shuffle buffer (this may take a while): 64560 of 70504\n",
      "2022-01-02 07:41:33.034400: I tensorflow/core/kernels/data/shuffle_dataset_op.cc:230] Shuffle buffer filled.\n"
     ]
    },
    {
     "name": "stdout",
     "output_type": "stream",
     "text": [
      "Epoch 75, gen_loss: 147264.7344, disc_loss: -1086522.3750\n",
      "Time for epoch 75 is 100.5163 sec\n"
     ]
    },
    {
     "name": "stderr",
     "output_type": "stream",
     "text": [
      "2022-01-02 07:42:08.125632: W tensorflow/core/grappler/optimizers/meta_optimizer.cc:153] TF_ENABLE_AUTO_MIXED_PRECISION has no effect.\n",
      "2022-01-02 07:42:08.125685: W tensorflow/core/grappler/optimizers/meta_optimizer.cc:153] TF_ENABLE_AUTO_MIXED_PRECISION has no effect.\n",
      "2022-01-02 07:42:08.125700: W tensorflow/core/grappler/optimizers/meta_optimizer.cc:153] TF_ENABLE_AUTO_MIXED_PRECISION has no effect.\n",
      "2022-01-02 07:42:08.125705: W tensorflow/core/grappler/optimizers/meta_optimizer.cc:153] TF_ENABLE_AUTO_MIXED_PRECISION has no effect.\n",
      "2022-01-02 07:42:18.102359: I tensorflow/core/kernels/data/shuffle_dataset_op.cc:177] Filling up shuffle buffer (this may take a while): 10804 of 70504\n",
      "2022-01-02 07:42:28.102818: I tensorflow/core/kernels/data/shuffle_dataset_op.cc:177] Filling up shuffle buffer (this may take a while): 21812 of 70504\n",
      "2022-01-02 07:42:38.103325: I tensorflow/core/kernels/data/shuffle_dataset_op.cc:177] Filling up shuffle buffer (this may take a while): 32793 of 70504\n",
      "2022-01-02 07:42:48.103860: I tensorflow/core/kernels/data/shuffle_dataset_op.cc:177] Filling up shuffle buffer (this may take a while): 43820 of 70504\n",
      "2022-01-02 07:42:58.103485: I tensorflow/core/kernels/data/shuffle_dataset_op.cc:177] Filling up shuffle buffer (this may take a while): 54816 of 70504\n",
      "2022-01-02 07:43:08.103308: I tensorflow/core/kernels/data/shuffle_dataset_op.cc:177] Filling up shuffle buffer (this may take a while): 65837 of 70504\n",
      "2022-01-02 07:43:12.331112: I tensorflow/core/kernels/data/shuffle_dataset_op.cc:230] Shuffle buffer filled.\n"
     ]
    },
    {
     "name": "stdout",
     "output_type": "stream",
     "text": [
      "Epoch 76, gen_loss: 75140.0000, disc_loss: -1200129.6250\n",
      "Time for epoch 76 is 99.2370 sec\n"
     ]
    },
    {
     "name": "stderr",
     "output_type": "stream",
     "text": [
      "2022-01-02 07:43:47.397987: W tensorflow/core/grappler/optimizers/meta_optimizer.cc:153] TF_ENABLE_AUTO_MIXED_PRECISION has no effect.\n",
      "2022-01-02 07:43:47.398045: W tensorflow/core/grappler/optimizers/meta_optimizer.cc:153] TF_ENABLE_AUTO_MIXED_PRECISION has no effect.\n",
      "2022-01-02 07:43:47.398059: W tensorflow/core/grappler/optimizers/meta_optimizer.cc:153] TF_ENABLE_AUTO_MIXED_PRECISION has no effect.\n",
      "2022-01-02 07:43:47.398065: W tensorflow/core/grappler/optimizers/meta_optimizer.cc:153] TF_ENABLE_AUTO_MIXED_PRECISION has no effect.\n",
      "2022-01-02 07:43:57.380975: I tensorflow/core/kernels/data/shuffle_dataset_op.cc:177] Filling up shuffle buffer (this may take a while): 10818 of 70504\n",
      "2022-01-02 07:44:07.381094: I tensorflow/core/kernels/data/shuffle_dataset_op.cc:177] Filling up shuffle buffer (this may take a while): 21799 of 70504\n",
      "2022-01-02 07:44:17.381039: I tensorflow/core/kernels/data/shuffle_dataset_op.cc:177] Filling up shuffle buffer (this may take a while): 32724 of 70504\n",
      "2022-01-02 07:44:27.381282: I tensorflow/core/kernels/data/shuffle_dataset_op.cc:177] Filling up shuffle buffer (this may take a while): 43678 of 70504\n",
      "2022-01-02 07:44:37.381505: I tensorflow/core/kernels/data/shuffle_dataset_op.cc:177] Filling up shuffle buffer (this may take a while): 54620 of 70504\n",
      "2022-01-02 07:44:47.381302: I tensorflow/core/kernels/data/shuffle_dataset_op.cc:177] Filling up shuffle buffer (this may take a while): 65658 of 70504\n",
      "2022-01-02 07:44:51.783675: I tensorflow/core/kernels/data/shuffle_dataset_op.cc:230] Shuffle buffer filled.\n"
     ]
    },
    {
     "name": "stdout",
     "output_type": "stream",
     "text": [
      "Epoch 77, gen_loss: 127430.7734, disc_loss: -1234587.7500\n",
      "Time for epoch 77 is 99.4416 sec\n"
     ]
    },
    {
     "name": "stderr",
     "output_type": "stream",
     "text": [
      "2022-01-02 07:45:26.873924: W tensorflow/core/grappler/optimizers/meta_optimizer.cc:153] TF_ENABLE_AUTO_MIXED_PRECISION has no effect.\n",
      "2022-01-02 07:45:26.873971: W tensorflow/core/grappler/optimizers/meta_optimizer.cc:153] TF_ENABLE_AUTO_MIXED_PRECISION has no effect.\n",
      "2022-01-02 07:45:26.873985: W tensorflow/core/grappler/optimizers/meta_optimizer.cc:153] TF_ENABLE_AUTO_MIXED_PRECISION has no effect.\n",
      "2022-01-02 07:45:26.873991: W tensorflow/core/grappler/optimizers/meta_optimizer.cc:153] TF_ENABLE_AUTO_MIXED_PRECISION has no effect.\n",
      "2022-01-02 07:45:36.862220: I tensorflow/core/kernels/data/shuffle_dataset_op.cc:177] Filling up shuffle buffer (this may take a while): 10805 of 70504\n",
      "2022-01-02 07:45:46.863203: I tensorflow/core/kernels/data/shuffle_dataset_op.cc:177] Filling up shuffle buffer (this may take a while): 21737 of 70504\n",
      "2022-01-02 07:45:56.861657: I tensorflow/core/kernels/data/shuffle_dataset_op.cc:177] Filling up shuffle buffer (this may take a while): 32587 of 70504\n",
      "2022-01-02 07:46:06.862614: I tensorflow/core/kernels/data/shuffle_dataset_op.cc:177] Filling up shuffle buffer (this may take a while): 43548 of 70504\n",
      "2022-01-02 07:46:16.862000: I tensorflow/core/kernels/data/shuffle_dataset_op.cc:177] Filling up shuffle buffer (this may take a while): 54505 of 70504\n",
      "2022-01-02 07:46:26.861599: I tensorflow/core/kernels/data/shuffle_dataset_op.cc:177] Filling up shuffle buffer (this may take a while): 65518 of 70504\n",
      "2022-01-02 07:46:31.373236: I tensorflow/core/kernels/data/shuffle_dataset_op.cc:230] Shuffle buffer filled.\n"
     ]
    },
    {
     "name": "stdout",
     "output_type": "stream",
     "text": [
      "Epoch 78, gen_loss: 313713.3125, disc_loss: -1424664.5000\n",
      "Time for epoch 78 is 99.5173 sec\n"
     ]
    },
    {
     "name": "stderr",
     "output_type": "stream",
     "text": [
      "2022-01-02 07:47:06.434155: W tensorflow/core/grappler/optimizers/meta_optimizer.cc:153] TF_ENABLE_AUTO_MIXED_PRECISION has no effect.\n",
      "2022-01-02 07:47:06.434202: W tensorflow/core/grappler/optimizers/meta_optimizer.cc:153] TF_ENABLE_AUTO_MIXED_PRECISION has no effect.\n",
      "2022-01-02 07:47:06.434216: W tensorflow/core/grappler/optimizers/meta_optimizer.cc:153] TF_ENABLE_AUTO_MIXED_PRECISION has no effect.\n",
      "2022-01-02 07:47:06.434221: W tensorflow/core/grappler/optimizers/meta_optimizer.cc:153] TF_ENABLE_AUTO_MIXED_PRECISION has no effect.\n",
      "2022-01-02 07:47:16.421897: I tensorflow/core/kernels/data/shuffle_dataset_op.cc:177] Filling up shuffle buffer (this may take a while): 10816 of 70504\n",
      "2022-01-02 07:47:26.421068: I tensorflow/core/kernels/data/shuffle_dataset_op.cc:177] Filling up shuffle buffer (this may take a while): 21782 of 70504\n",
      "2022-01-02 07:47:36.420497: I tensorflow/core/kernels/data/shuffle_dataset_op.cc:177] Filling up shuffle buffer (this may take a while): 32682 of 70504\n",
      "2022-01-02 07:47:46.420031: I tensorflow/core/kernels/data/shuffle_dataset_op.cc:177] Filling up shuffle buffer (this may take a while): 43621 of 70504\n",
      "2022-01-02 07:47:56.420256: I tensorflow/core/kernels/data/shuffle_dataset_op.cc:177] Filling up shuffle buffer (this may take a while): 54568 of 70504\n",
      "2022-01-02 07:48:06.421537: I tensorflow/core/kernels/data/shuffle_dataset_op.cc:177] Filling up shuffle buffer (this may take a while): 65606 of 70504\n",
      "2022-01-02 07:48:10.850443: I tensorflow/core/kernels/data/shuffle_dataset_op.cc:230] Shuffle buffer filled.\n"
     ]
    },
    {
     "name": "stdout",
     "output_type": "stream",
     "text": [
      "Epoch 79, gen_loss: 295180.1875, disc_loss: -1467696.7500\n",
      "Time for epoch 79 is 99.4802 sec\n"
     ]
    },
    {
     "name": "stderr",
     "output_type": "stream",
     "text": [
      "2022-01-02 07:48:45.952304: W tensorflow/core/grappler/optimizers/meta_optimizer.cc:153] TF_ENABLE_AUTO_MIXED_PRECISION has no effect.\n",
      "2022-01-02 07:48:45.952348: W tensorflow/core/grappler/optimizers/meta_optimizer.cc:153] TF_ENABLE_AUTO_MIXED_PRECISION has no effect.\n",
      "2022-01-02 07:48:45.952362: W tensorflow/core/grappler/optimizers/meta_optimizer.cc:153] TF_ENABLE_AUTO_MIXED_PRECISION has no effect.\n",
      "2022-01-02 07:48:45.952368: W tensorflow/core/grappler/optimizers/meta_optimizer.cc:153] TF_ENABLE_AUTO_MIXED_PRECISION has no effect.\n",
      "2022-01-02 07:48:55.942107: I tensorflow/core/kernels/data/shuffle_dataset_op.cc:177] Filling up shuffle buffer (this may take a while): 10609 of 70504\n",
      "2022-01-02 07:49:05.942252: I tensorflow/core/kernels/data/shuffle_dataset_op.cc:177] Filling up shuffle buffer (this may take a while): 21344 of 70504\n",
      "2022-01-02 07:49:15.942588: I tensorflow/core/kernels/data/shuffle_dataset_op.cc:177] Filling up shuffle buffer (this may take a while): 32089 of 70504\n",
      "2022-01-02 07:49:25.942055: I tensorflow/core/kernels/data/shuffle_dataset_op.cc:177] Filling up shuffle buffer (this may take a while): 42811 of 70504\n",
      "2022-01-02 07:49:35.945005: I tensorflow/core/kernels/data/shuffle_dataset_op.cc:177] Filling up shuffle buffer (this may take a while): 53520 of 70504\n",
      "2022-01-02 07:49:45.942757: I tensorflow/core/kernels/data/shuffle_dataset_op.cc:177] Filling up shuffle buffer (this may take a while): 64331 of 70504\n",
      "2022-01-02 07:49:51.634001: I tensorflow/core/kernels/data/shuffle_dataset_op.cc:230] Shuffle buffer filled.\n"
     ]
    },
    {
     "name": "stdout",
     "output_type": "stream",
     "text": [
      "Epoch 80, gen_loss: 228168.1250, disc_loss: -1606874.7500\n",
      "Time for epoch 80 is 100.7608 sec\n"
     ]
    },
    {
     "name": "stderr",
     "output_type": "stream",
     "text": [
      "2022-01-02 07:50:26.760509: W tensorflow/core/grappler/optimizers/meta_optimizer.cc:153] TF_ENABLE_AUTO_MIXED_PRECISION has no effect.\n",
      "2022-01-02 07:50:26.760562: W tensorflow/core/grappler/optimizers/meta_optimizer.cc:153] TF_ENABLE_AUTO_MIXED_PRECISION has no effect.\n",
      "2022-01-02 07:50:26.760577: W tensorflow/core/grappler/optimizers/meta_optimizer.cc:153] TF_ENABLE_AUTO_MIXED_PRECISION has no effect.\n",
      "2022-01-02 07:50:26.760582: W tensorflow/core/grappler/optimizers/meta_optimizer.cc:153] TF_ENABLE_AUTO_MIXED_PRECISION has no effect.\n",
      "2022-01-02 07:50:36.747795: I tensorflow/core/kernels/data/shuffle_dataset_op.cc:177] Filling up shuffle buffer (this may take a while): 10830 of 70504\n",
      "2022-01-02 07:50:46.748774: I tensorflow/core/kernels/data/shuffle_dataset_op.cc:177] Filling up shuffle buffer (this may take a while): 21772 of 70504\n",
      "2022-01-02 07:50:56.748967: I tensorflow/core/kernels/data/shuffle_dataset_op.cc:177] Filling up shuffle buffer (this may take a while): 32677 of 70504\n",
      "2022-01-02 07:51:06.748120: I tensorflow/core/kernels/data/shuffle_dataset_op.cc:177] Filling up shuffle buffer (this may take a while): 43676 of 70504\n",
      "2022-01-02 07:51:16.749063: I tensorflow/core/kernels/data/shuffle_dataset_op.cc:177] Filling up shuffle buffer (this may take a while): 54687 of 70504\n",
      "2022-01-02 07:51:26.748711: I tensorflow/core/kernels/data/shuffle_dataset_op.cc:177] Filling up shuffle buffer (this may take a while): 65753 of 70504\n",
      "2022-01-02 07:51:31.060192: I tensorflow/core/kernels/data/shuffle_dataset_op.cc:230] Shuffle buffer filled.\n"
     ]
    },
    {
     "name": "stdout",
     "output_type": "stream",
     "text": [
      "Epoch 81, gen_loss: 422936.2188, disc_loss: -1796396.5000\n",
      "Time for epoch 81 is 99.3656 sec\n"
     ]
    },
    {
     "name": "stderr",
     "output_type": "stream",
     "text": [
      "2022-01-02 07:52:06.171564: W tensorflow/core/grappler/optimizers/meta_optimizer.cc:153] TF_ENABLE_AUTO_MIXED_PRECISION has no effect.\n",
      "2022-01-02 07:52:06.171618: W tensorflow/core/grappler/optimizers/meta_optimizer.cc:153] TF_ENABLE_AUTO_MIXED_PRECISION has no effect.\n",
      "2022-01-02 07:52:06.171632: W tensorflow/core/grappler/optimizers/meta_optimizer.cc:153] TF_ENABLE_AUTO_MIXED_PRECISION has no effect.\n",
      "2022-01-02 07:52:06.171638: W tensorflow/core/grappler/optimizers/meta_optimizer.cc:153] TF_ENABLE_AUTO_MIXED_PRECISION has no effect.\n",
      "2022-01-02 07:52:16.155309: I tensorflow/core/kernels/data/shuffle_dataset_op.cc:177] Filling up shuffle buffer (this may take a while): 10614 of 70504\n",
      "2022-01-02 07:52:26.158637: I tensorflow/core/kernels/data/shuffle_dataset_op.cc:177] Filling up shuffle buffer (this may take a while): 21379 of 70504\n",
      "2022-01-02 07:52:36.156375: I tensorflow/core/kernels/data/shuffle_dataset_op.cc:177] Filling up shuffle buffer (this may take a while): 32111 of 70504\n",
      "2022-01-02 07:52:46.154963: I tensorflow/core/kernels/data/shuffle_dataset_op.cc:177] Filling up shuffle buffer (this may take a while): 42851 of 70504\n",
      "2022-01-02 07:52:56.155798: I tensorflow/core/kernels/data/shuffle_dataset_op.cc:177] Filling up shuffle buffer (this may take a while): 53532 of 70504\n",
      "2022-01-02 07:53:06.155648: I tensorflow/core/kernels/data/shuffle_dataset_op.cc:177] Filling up shuffle buffer (this may take a while): 64349 of 70504\n",
      "2022-01-02 07:53:11.863667: I tensorflow/core/kernels/data/shuffle_dataset_op.cc:230] Shuffle buffer filled.\n"
     ]
    },
    {
     "name": "stdout",
     "output_type": "stream",
     "text": [
      "Epoch 82, gen_loss: 540008.8125, disc_loss: -1863366.8750\n",
      "Time for epoch 82 is 100.7637 sec\n"
     ]
    },
    {
     "name": "stderr",
     "output_type": "stream",
     "text": [
      "2022-01-02 07:53:46.976955: W tensorflow/core/grappler/optimizers/meta_optimizer.cc:153] TF_ENABLE_AUTO_MIXED_PRECISION has no effect.\n",
      "2022-01-02 07:53:46.977007: W tensorflow/core/grappler/optimizers/meta_optimizer.cc:153] TF_ENABLE_AUTO_MIXED_PRECISION has no effect.\n",
      "2022-01-02 07:53:46.977026: W tensorflow/core/grappler/optimizers/meta_optimizer.cc:153] TF_ENABLE_AUTO_MIXED_PRECISION has no effect.\n",
      "2022-01-02 07:53:46.977032: W tensorflow/core/grappler/optimizers/meta_optimizer.cc:153] TF_ENABLE_AUTO_MIXED_PRECISION has no effect.\n",
      "2022-01-02 07:53:56.961642: I tensorflow/core/kernels/data/shuffle_dataset_op.cc:177] Filling up shuffle buffer (this may take a while): 10615 of 70504\n",
      "2022-01-02 07:54:06.961134: I tensorflow/core/kernels/data/shuffle_dataset_op.cc:177] Filling up shuffle buffer (this may take a while): 21335 of 70504\n",
      "2022-01-02 07:54:16.961609: I tensorflow/core/kernels/data/shuffle_dataset_op.cc:177] Filling up shuffle buffer (this may take a while): 32097 of 70504\n",
      "2022-01-02 07:54:26.962390: I tensorflow/core/kernels/data/shuffle_dataset_op.cc:177] Filling up shuffle buffer (this may take a while): 42885 of 70504\n",
      "2022-01-02 07:54:36.961599: I tensorflow/core/kernels/data/shuffle_dataset_op.cc:177] Filling up shuffle buffer (this may take a while): 53615 of 70504\n",
      "2022-01-02 07:54:46.962016: I tensorflow/core/kernels/data/shuffle_dataset_op.cc:177] Filling up shuffle buffer (this may take a while): 64485 of 70504\n",
      "2022-01-02 07:54:52.476984: I tensorflow/core/kernels/data/shuffle_dataset_op.cc:230] Shuffle buffer filled.\n"
     ]
    },
    {
     "name": "stdout",
     "output_type": "stream",
     "text": [
      "Epoch 83, gen_loss: 481906.5000, disc_loss: -1988146.5000\n",
      "Time for epoch 83 is 100.5100 sec\n"
     ]
    },
    {
     "name": "stderr",
     "output_type": "stream",
     "text": [
      "2022-01-02 07:55:27.530707: W tensorflow/core/grappler/optimizers/meta_optimizer.cc:153] TF_ENABLE_AUTO_MIXED_PRECISION has no effect.\n",
      "2022-01-02 07:55:27.530762: W tensorflow/core/grappler/optimizers/meta_optimizer.cc:153] TF_ENABLE_AUTO_MIXED_PRECISION has no effect.\n",
      "2022-01-02 07:55:27.530776: W tensorflow/core/grappler/optimizers/meta_optimizer.cc:153] TF_ENABLE_AUTO_MIXED_PRECISION has no effect.\n",
      "2022-01-02 07:55:27.530782: W tensorflow/core/grappler/optimizers/meta_optimizer.cc:153] TF_ENABLE_AUTO_MIXED_PRECISION has no effect.\n",
      "2022-01-02 07:55:37.512642: I tensorflow/core/kernels/data/shuffle_dataset_op.cc:177] Filling up shuffle buffer (this may take a while): 10850 of 70504\n",
      "2022-01-02 07:55:47.513158: I tensorflow/core/kernels/data/shuffle_dataset_op.cc:177] Filling up shuffle buffer (this may take a while): 21817 of 70504\n",
      "2022-01-02 07:55:57.513468: I tensorflow/core/kernels/data/shuffle_dataset_op.cc:177] Filling up shuffle buffer (this may take a while): 32757 of 70504\n",
      "2022-01-02 07:56:07.514093: I tensorflow/core/kernels/data/shuffle_dataset_op.cc:177] Filling up shuffle buffer (this may take a while): 43752 of 70504\n",
      "2022-01-02 07:56:17.513017: I tensorflow/core/kernels/data/shuffle_dataset_op.cc:177] Filling up shuffle buffer (this may take a while): 54695 of 70504\n",
      "2022-01-02 07:56:27.513018: I tensorflow/core/kernels/data/shuffle_dataset_op.cc:177] Filling up shuffle buffer (this may take a while): 65701 of 70504\n",
      "2022-01-02 07:56:31.903939: I tensorflow/core/kernels/data/shuffle_dataset_op.cc:230] Shuffle buffer filled.\n"
     ]
    },
    {
     "name": "stdout",
     "output_type": "stream",
     "text": [
      "Epoch 84, gen_loss: 795908.5000, disc_loss: -2263250.7500\n",
      "Time for epoch 84 is 99.4459 sec\n"
     ]
    },
    {
     "name": "stderr",
     "output_type": "stream",
     "text": [
      "2022-01-02 07:57:07.011799: W tensorflow/core/grappler/optimizers/meta_optimizer.cc:153] TF_ENABLE_AUTO_MIXED_PRECISION has no effect.\n",
      "2022-01-02 07:57:07.011850: W tensorflow/core/grappler/optimizers/meta_optimizer.cc:153] TF_ENABLE_AUTO_MIXED_PRECISION has no effect.\n",
      "2022-01-02 07:57:07.011864: W tensorflow/core/grappler/optimizers/meta_optimizer.cc:153] TF_ENABLE_AUTO_MIXED_PRECISION has no effect.\n",
      "2022-01-02 07:57:07.011870: W tensorflow/core/grappler/optimizers/meta_optimizer.cc:153] TF_ENABLE_AUTO_MIXED_PRECISION has no effect.\n",
      "2022-01-02 07:57:17.002427: I tensorflow/core/kernels/data/shuffle_dataset_op.cc:177] Filling up shuffle buffer (this may take a while): 10610 of 70504\n",
      "2022-01-02 07:57:27.000824: I tensorflow/core/kernels/data/shuffle_dataset_op.cc:177] Filling up shuffle buffer (this may take a while): 21358 of 70504\n",
      "2022-01-02 07:57:37.000870: I tensorflow/core/kernels/data/shuffle_dataset_op.cc:177] Filling up shuffle buffer (this may take a while): 32088 of 70504\n",
      "2022-01-02 07:57:47.001007: I tensorflow/core/kernels/data/shuffle_dataset_op.cc:177] Filling up shuffle buffer (this may take a while): 42844 of 70504\n",
      "2022-01-02 07:57:57.002336: I tensorflow/core/kernels/data/shuffle_dataset_op.cc:177] Filling up shuffle buffer (this may take a while): 53556 of 70504\n",
      "2022-01-02 07:58:07.001408: I tensorflow/core/kernels/data/shuffle_dataset_op.cc:177] Filling up shuffle buffer (this may take a while): 64355 of 70504\n",
      "2022-01-02 07:58:12.692306: I tensorflow/core/kernels/data/shuffle_dataset_op.cc:230] Shuffle buffer filled.\n"
     ]
    },
    {
     "name": "stdout",
     "output_type": "stream",
     "text": [
      "Epoch 85, gen_loss: 693289.1875, disc_loss: -2311450.7500\n",
      "Time for epoch 85 is 100.7079 sec\n"
     ]
    },
    {
     "name": "stderr",
     "output_type": "stream",
     "text": [
      "2022-01-02 07:58:47.764461: W tensorflow/core/grappler/optimizers/meta_optimizer.cc:153] TF_ENABLE_AUTO_MIXED_PRECISION has no effect.\n",
      "2022-01-02 07:58:47.764514: W tensorflow/core/grappler/optimizers/meta_optimizer.cc:153] TF_ENABLE_AUTO_MIXED_PRECISION has no effect.\n",
      "2022-01-02 07:58:47.764529: W tensorflow/core/grappler/optimizers/meta_optimizer.cc:153] TF_ENABLE_AUTO_MIXED_PRECISION has no effect.\n",
      "2022-01-02 07:58:47.764534: W tensorflow/core/grappler/optimizers/meta_optimizer.cc:153] TF_ENABLE_AUTO_MIXED_PRECISION has no effect.\n",
      "2022-01-02 07:58:57.751425: I tensorflow/core/kernels/data/shuffle_dataset_op.cc:177] Filling up shuffle buffer (this may take a while): 10837 of 70504\n",
      "2022-01-02 07:59:07.751494: I tensorflow/core/kernels/data/shuffle_dataset_op.cc:177] Filling up shuffle buffer (this may take a while): 21832 of 70504\n",
      "2022-01-02 07:59:17.752365: I tensorflow/core/kernels/data/shuffle_dataset_op.cc:177] Filling up shuffle buffer (this may take a while): 32782 of 70504\n",
      "2022-01-02 07:59:27.752076: I tensorflow/core/kernels/data/shuffle_dataset_op.cc:177] Filling up shuffle buffer (this may take a while): 43797 of 70504\n",
      "2022-01-02 07:59:37.752037: I tensorflow/core/kernels/data/shuffle_dataset_op.cc:177] Filling up shuffle buffer (this may take a while): 54803 of 70504\n",
      "2022-01-02 07:59:47.751224: I tensorflow/core/kernels/data/shuffle_dataset_op.cc:177] Filling up shuffle buffer (this may take a while): 65877 of 70504\n",
      "2022-01-02 07:59:51.927838: I tensorflow/core/kernels/data/shuffle_dataset_op.cc:230] Shuffle buffer filled.\n"
     ]
    },
    {
     "name": "stdout",
     "output_type": "stream",
     "text": [
      "Epoch 86, gen_loss: 983778.8125, disc_loss: -2584036.0000\n",
      "Time for epoch 86 is 99.2270 sec\n"
     ]
    },
    {
     "name": "stderr",
     "output_type": "stream",
     "text": [
      "2022-01-02 08:00:27.031943: W tensorflow/core/grappler/optimizers/meta_optimizer.cc:153] TF_ENABLE_AUTO_MIXED_PRECISION has no effect.\n",
      "2022-01-02 08:00:27.031996: W tensorflow/core/grappler/optimizers/meta_optimizer.cc:153] TF_ENABLE_AUTO_MIXED_PRECISION has no effect.\n",
      "2022-01-02 08:00:27.032009: W tensorflow/core/grappler/optimizers/meta_optimizer.cc:153] TF_ENABLE_AUTO_MIXED_PRECISION has no effect.\n",
      "2022-01-02 08:00:27.032015: W tensorflow/core/grappler/optimizers/meta_optimizer.cc:153] TF_ENABLE_AUTO_MIXED_PRECISION has no effect.\n",
      "2022-01-02 08:00:37.018739: I tensorflow/core/kernels/data/shuffle_dataset_op.cc:177] Filling up shuffle buffer (this may take a while): 10572 of 70504\n",
      "2022-01-02 08:00:47.019540: I tensorflow/core/kernels/data/shuffle_dataset_op.cc:177] Filling up shuffle buffer (this may take a while): 21276 of 70504\n",
      "2022-01-02 08:00:57.021356: I tensorflow/core/kernels/data/shuffle_dataset_op.cc:177] Filling up shuffle buffer (this may take a while): 32024 of 70504\n",
      "2022-01-02 08:01:07.020366: I tensorflow/core/kernels/data/shuffle_dataset_op.cc:177] Filling up shuffle buffer (this may take a while): 42808 of 70504\n",
      "2022-01-02 08:01:17.019808: I tensorflow/core/kernels/data/shuffle_dataset_op.cc:177] Filling up shuffle buffer (this may take a while): 53535 of 70504\n",
      "2022-01-02 08:01:27.018715: I tensorflow/core/kernels/data/shuffle_dataset_op.cc:177] Filling up shuffle buffer (this may take a while): 64343 of 70504\n",
      "2022-01-02 08:01:32.677534: I tensorflow/core/kernels/data/shuffle_dataset_op.cc:230] Shuffle buffer filled.\n"
     ]
    },
    {
     "name": "stdout",
     "output_type": "stream",
     "text": [
      "Epoch 87, gen_loss: 691242.1875, disc_loss: -2681371.7500\n",
      "Time for epoch 87 is 100.7796 sec\n"
     ]
    },
    {
     "name": "stderr",
     "output_type": "stream",
     "text": [
      "2022-01-02 08:02:07.855786: W tensorflow/core/grappler/optimizers/meta_optimizer.cc:153] TF_ENABLE_AUTO_MIXED_PRECISION has no effect.\n",
      "2022-01-02 08:02:07.855833: W tensorflow/core/grappler/optimizers/meta_optimizer.cc:153] TF_ENABLE_AUTO_MIXED_PRECISION has no effect.\n",
      "2022-01-02 08:02:07.855847: W tensorflow/core/grappler/optimizers/meta_optimizer.cc:153] TF_ENABLE_AUTO_MIXED_PRECISION has no effect.\n",
      "2022-01-02 08:02:07.855853: W tensorflow/core/grappler/optimizers/meta_optimizer.cc:153] TF_ENABLE_AUTO_MIXED_PRECISION has no effect.\n",
      "2022-01-02 08:02:17.844979: I tensorflow/core/kernels/data/shuffle_dataset_op.cc:177] Filling up shuffle buffer (this may take a while): 10815 of 70504\n",
      "2022-01-02 08:02:27.844877: I tensorflow/core/kernels/data/shuffle_dataset_op.cc:177] Filling up shuffle buffer (this may take a while): 21794 of 70504\n",
      "2022-01-02 08:02:37.849594: I tensorflow/core/kernels/data/shuffle_dataset_op.cc:177] Filling up shuffle buffer (this may take a while): 32724 of 70504\n",
      "2022-01-02 08:02:47.844897: I tensorflow/core/kernels/data/shuffle_dataset_op.cc:177] Filling up shuffle buffer (this may take a while): 43773 of 70504\n",
      "2022-01-02 08:02:57.844645: I tensorflow/core/kernels/data/shuffle_dataset_op.cc:177] Filling up shuffle buffer (this may take a while): 54767 of 70504\n",
      "2022-01-02 08:03:07.845944: I tensorflow/core/kernels/data/shuffle_dataset_op.cc:177] Filling up shuffle buffer (this may take a while): 65836 of 70504\n",
      "2022-01-02 08:03:12.032614: I tensorflow/core/kernels/data/shuffle_dataset_op.cc:230] Shuffle buffer filled.\n"
     ]
    },
    {
     "name": "stdout",
     "output_type": "stream",
     "text": [
      "Epoch 88, gen_loss: 991108.1875, disc_loss: -2977049.0000\n",
      "Time for epoch 88 is 99.2189 sec\n"
     ]
    },
    {
     "name": "stderr",
     "output_type": "stream",
     "text": [
      "2022-01-02 08:03:47.127477: W tensorflow/core/grappler/optimizers/meta_optimizer.cc:153] TF_ENABLE_AUTO_MIXED_PRECISION has no effect.\n",
      "2022-01-02 08:03:47.127531: W tensorflow/core/grappler/optimizers/meta_optimizer.cc:153] TF_ENABLE_AUTO_MIXED_PRECISION has no effect.\n",
      "2022-01-02 08:03:47.127544: W tensorflow/core/grappler/optimizers/meta_optimizer.cc:153] TF_ENABLE_AUTO_MIXED_PRECISION has no effect.\n",
      "2022-01-02 08:03:47.127550: W tensorflow/core/grappler/optimizers/meta_optimizer.cc:153] TF_ENABLE_AUTO_MIXED_PRECISION has no effect.\n",
      "2022-01-02 08:03:57.104413: I tensorflow/core/kernels/data/shuffle_dataset_op.cc:177] Filling up shuffle buffer (this may take a while): 10781 of 70504\n",
      "2022-01-02 08:04:07.105208: I tensorflow/core/kernels/data/shuffle_dataset_op.cc:177] Filling up shuffle buffer (this may take a while): 21773 of 70504\n",
      "2022-01-02 08:04:17.104291: I tensorflow/core/kernels/data/shuffle_dataset_op.cc:177] Filling up shuffle buffer (this may take a while): 32715 of 70504\n",
      "2022-01-02 08:04:27.104677: I tensorflow/core/kernels/data/shuffle_dataset_op.cc:177] Filling up shuffle buffer (this may take a while): 43695 of 70504\n",
      "2022-01-02 08:04:37.104044: I tensorflow/core/kernels/data/shuffle_dataset_op.cc:177] Filling up shuffle buffer (this may take a while): 54649 of 70504\n",
      "2022-01-02 08:04:47.104097: I tensorflow/core/kernels/data/shuffle_dataset_op.cc:177] Filling up shuffle buffer (this may take a while): 65688 of 70504\n",
      "2022-01-02 08:04:51.450777: I tensorflow/core/kernels/data/shuffle_dataset_op.cc:230] Shuffle buffer filled.\n"
     ]
    },
    {
     "name": "stdout",
     "output_type": "stream",
     "text": [
      "Epoch 89, gen_loss: 1270567.7500, disc_loss: -3304173.7500\n",
      "Time for epoch 89 is 99.4452 sec\n"
     ]
    },
    {
     "name": "stderr",
     "output_type": "stream",
     "text": [
      "2022-01-02 08:05:26.605841: W tensorflow/core/grappler/optimizers/meta_optimizer.cc:153] TF_ENABLE_AUTO_MIXED_PRECISION has no effect.\n",
      "2022-01-02 08:05:26.606226: W tensorflow/core/grappler/optimizers/meta_optimizer.cc:153] TF_ENABLE_AUTO_MIXED_PRECISION has no effect.\n",
      "2022-01-02 08:05:26.606404: W tensorflow/core/grappler/optimizers/meta_optimizer.cc:153] TF_ENABLE_AUTO_MIXED_PRECISION has no effect.\n",
      "2022-01-02 08:05:26.606558: W tensorflow/core/grappler/optimizers/meta_optimizer.cc:153] TF_ENABLE_AUTO_MIXED_PRECISION has no effect.\n",
      "2022-01-02 08:05:36.590062: I tensorflow/core/kernels/data/shuffle_dataset_op.cc:177] Filling up shuffle buffer (this may take a while): 10618 of 70504\n",
      "2022-01-02 08:05:46.591206: I tensorflow/core/kernels/data/shuffle_dataset_op.cc:177] Filling up shuffle buffer (this may take a while): 21330 of 70504\n",
      "2022-01-02 08:05:56.590803: I tensorflow/core/kernels/data/shuffle_dataset_op.cc:177] Filling up shuffle buffer (this may take a while): 32068 of 70504\n",
      "2022-01-02 08:06:06.590810: I tensorflow/core/kernels/data/shuffle_dataset_op.cc:177] Filling up shuffle buffer (this may take a while): 42848 of 70504\n",
      "2022-01-02 08:06:16.589903: I tensorflow/core/kernels/data/shuffle_dataset_op.cc:177] Filling up shuffle buffer (this may take a while): 53601 of 70504\n",
      "2022-01-02 08:06:26.589889: I tensorflow/core/kernels/data/shuffle_dataset_op.cc:177] Filling up shuffle buffer (this may take a while): 64423 of 70504\n",
      "2022-01-02 08:06:32.206280: I tensorflow/core/kernels/data/shuffle_dataset_op.cc:230] Shuffle buffer filled.\n"
     ]
    },
    {
     "name": "stdout",
     "output_type": "stream",
     "text": [
      "Epoch 90, gen_loss: 1105294.5000, disc_loss: -3341934.7500\n",
      "Time for epoch 90 is 100.6039 sec\n"
     ]
    },
    {
     "name": "stderr",
     "output_type": "stream",
     "text": [
      "2022-01-02 08:07:07.252447: W tensorflow/core/grappler/optimizers/meta_optimizer.cc:153] TF_ENABLE_AUTO_MIXED_PRECISION has no effect.\n",
      "2022-01-02 08:07:07.252500: W tensorflow/core/grappler/optimizers/meta_optimizer.cc:153] TF_ENABLE_AUTO_MIXED_PRECISION has no effect.\n",
      "2022-01-02 08:07:07.252514: W tensorflow/core/grappler/optimizers/meta_optimizer.cc:153] TF_ENABLE_AUTO_MIXED_PRECISION has no effect.\n",
      "2022-01-02 08:07:07.252519: W tensorflow/core/grappler/optimizers/meta_optimizer.cc:153] TF_ENABLE_AUTO_MIXED_PRECISION has no effect.\n",
      "2022-01-02 08:07:17.235371: I tensorflow/core/kernels/data/shuffle_dataset_op.cc:177] Filling up shuffle buffer (this may take a while): 10578 of 70504\n",
      "2022-01-02 08:07:27.236413: I tensorflow/core/kernels/data/shuffle_dataset_op.cc:177] Filling up shuffle buffer (this may take a while): 21288 of 70504\n",
      "2022-01-02 08:07:37.235283: I tensorflow/core/kernels/data/shuffle_dataset_op.cc:177] Filling up shuffle buffer (this may take a while): 31997 of 70504\n",
      "2022-01-02 08:07:47.235510: I tensorflow/core/kernels/data/shuffle_dataset_op.cc:177] Filling up shuffle buffer (this may take a while): 42726 of 70504\n",
      "2022-01-02 08:07:57.236885: I tensorflow/core/kernels/data/shuffle_dataset_op.cc:177] Filling up shuffle buffer (this may take a while): 53444 of 70504\n",
      "2022-01-02 08:08:07.235283: I tensorflow/core/kernels/data/shuffle_dataset_op.cc:177] Filling up shuffle buffer (this may take a while): 64291 of 70504\n",
      "2022-01-02 08:08:12.925128: I tensorflow/core/kernels/data/shuffle_dataset_op.cc:230] Shuffle buffer filled.\n"
     ]
    },
    {
     "name": "stdout",
     "output_type": "stream",
     "text": [
      "Epoch 91, gen_loss: 1446865.7500, disc_loss: -3638380.5000\n",
      "Time for epoch 91 is 100.7066 sec\n"
     ]
    },
    {
     "name": "stderr",
     "output_type": "stream",
     "text": [
      "2022-01-02 08:08:47.996471: W tensorflow/core/grappler/optimizers/meta_optimizer.cc:153] TF_ENABLE_AUTO_MIXED_PRECISION has no effect.\n",
      "2022-01-02 08:08:47.996516: W tensorflow/core/grappler/optimizers/meta_optimizer.cc:153] TF_ENABLE_AUTO_MIXED_PRECISION has no effect.\n",
      "2022-01-02 08:08:47.996530: W tensorflow/core/grappler/optimizers/meta_optimizer.cc:153] TF_ENABLE_AUTO_MIXED_PRECISION has no effect.\n",
      "2022-01-02 08:08:47.996535: W tensorflow/core/grappler/optimizers/meta_optimizer.cc:153] TF_ENABLE_AUTO_MIXED_PRECISION has no effect.\n",
      "2022-01-02 08:08:57.982601: I tensorflow/core/kernels/data/shuffle_dataset_op.cc:177] Filling up shuffle buffer (this may take a while): 10596 of 70504\n",
      "2022-01-02 08:09:07.991879: I tensorflow/core/kernels/data/shuffle_dataset_op.cc:177] Filling up shuffle buffer (this may take a while): 21350 of 70504\n",
      "2022-01-02 08:09:17.983015: I tensorflow/core/kernels/data/shuffle_dataset_op.cc:177] Filling up shuffle buffer (this may take a while): 32109 of 70504\n",
      "2022-01-02 08:09:27.985021: I tensorflow/core/kernels/data/shuffle_dataset_op.cc:177] Filling up shuffle buffer (this may take a while): 42845 of 70504\n",
      "2022-01-02 08:09:37.983183: I tensorflow/core/kernels/data/shuffle_dataset_op.cc:177] Filling up shuffle buffer (this may take a while): 53530 of 70504\n",
      "2022-01-02 08:09:47.983373: I tensorflow/core/kernels/data/shuffle_dataset_op.cc:177] Filling up shuffle buffer (this may take a while): 64362 of 70504\n",
      "2022-01-02 08:09:53.644367: I tensorflow/core/kernels/data/shuffle_dataset_op.cc:230] Shuffle buffer filled.\n"
     ]
    },
    {
     "name": "stdout",
     "output_type": "stream",
     "text": [
      "Epoch 92, gen_loss: 1543301.5000, disc_loss: -4010733.7500\n",
      "Time for epoch 92 is 100.6569 sec\n"
     ]
    },
    {
     "name": "stderr",
     "output_type": "stream",
     "text": [
      "2022-01-02 08:10:28.696240: W tensorflow/core/grappler/optimizers/meta_optimizer.cc:153] TF_ENABLE_AUTO_MIXED_PRECISION has no effect.\n",
      "2022-01-02 08:10:28.696296: W tensorflow/core/grappler/optimizers/meta_optimizer.cc:153] TF_ENABLE_AUTO_MIXED_PRECISION has no effect.\n",
      "2022-01-02 08:10:28.696310: W tensorflow/core/grappler/optimizers/meta_optimizer.cc:153] TF_ENABLE_AUTO_MIXED_PRECISION has no effect.\n",
      "2022-01-02 08:10:28.696316: W tensorflow/core/grappler/optimizers/meta_optimizer.cc:153] TF_ENABLE_AUTO_MIXED_PRECISION has no effect.\n",
      "2022-01-02 08:10:38.680881: I tensorflow/core/kernels/data/shuffle_dataset_op.cc:177] Filling up shuffle buffer (this may take a while): 10813 of 70504\n",
      "2022-01-02 08:10:48.681521: I tensorflow/core/kernels/data/shuffle_dataset_op.cc:177] Filling up shuffle buffer (this may take a while): 21838 of 70504\n",
      "2022-01-02 08:10:58.680559: I tensorflow/core/kernels/data/shuffle_dataset_op.cc:177] Filling up shuffle buffer (this may take a while): 32823 of 70504\n",
      "2022-01-02 08:11:08.680360: I tensorflow/core/kernels/data/shuffle_dataset_op.cc:177] Filling up shuffle buffer (this may take a while): 43821 of 70504\n",
      "2022-01-02 08:11:18.681235: I tensorflow/core/kernels/data/shuffle_dataset_op.cc:177] Filling up shuffle buffer (this may take a while): 54794 of 70504\n",
      "2022-01-02 08:11:28.680386: I tensorflow/core/kernels/data/shuffle_dataset_op.cc:177] Filling up shuffle buffer (this may take a while): 65888 of 70504\n",
      "2022-01-02 08:11:32.831014: I tensorflow/core/kernels/data/shuffle_dataset_op.cc:230] Shuffle buffer filled.\n"
     ]
    },
    {
     "name": "stdout",
     "output_type": "stream",
     "text": [
      "Epoch 93, gen_loss: 1744873.1250, disc_loss: -4288475.5000\n",
      "Time for epoch 93 is 99.1686 sec\n"
     ]
    },
    {
     "name": "stderr",
     "output_type": "stream",
     "text": [
      "2022-01-02 08:12:07.903003: W tensorflow/core/grappler/optimizers/meta_optimizer.cc:153] TF_ENABLE_AUTO_MIXED_PRECISION has no effect.\n",
      "2022-01-02 08:12:07.903053: W tensorflow/core/grappler/optimizers/meta_optimizer.cc:153] TF_ENABLE_AUTO_MIXED_PRECISION has no effect.\n",
      "2022-01-02 08:12:07.903067: W tensorflow/core/grappler/optimizers/meta_optimizer.cc:153] TF_ENABLE_AUTO_MIXED_PRECISION has no effect.\n",
      "2022-01-02 08:12:07.903073: W tensorflow/core/grappler/optimizers/meta_optimizer.cc:153] TF_ENABLE_AUTO_MIXED_PRECISION has no effect.\n",
      "2022-01-02 08:12:17.892286: I tensorflow/core/kernels/data/shuffle_dataset_op.cc:177] Filling up shuffle buffer (this may take a while): 10615 of 70504\n",
      "2022-01-02 08:12:27.893068: I tensorflow/core/kernels/data/shuffle_dataset_op.cc:177] Filling up shuffle buffer (this may take a while): 21381 of 70504\n",
      "2022-01-02 08:12:37.893159: I tensorflow/core/kernels/data/shuffle_dataset_op.cc:177] Filling up shuffle buffer (this may take a while): 32174 of 70504\n",
      "2022-01-02 08:12:47.893465: I tensorflow/core/kernels/data/shuffle_dataset_op.cc:177] Filling up shuffle buffer (this may take a while): 42981 of 70504\n",
      "2022-01-02 08:12:57.892314: I tensorflow/core/kernels/data/shuffle_dataset_op.cc:177] Filling up shuffle buffer (this may take a while): 53767 of 70504\n",
      "2022-01-02 08:13:07.892110: I tensorflow/core/kernels/data/shuffle_dataset_op.cc:177] Filling up shuffle buffer (this may take a while): 64655 of 70504\n",
      "2022-01-02 08:13:13.249459: I tensorflow/core/kernels/data/shuffle_dataset_op.cc:230] Shuffle buffer filled.\n"
     ]
    },
    {
     "name": "stdout",
     "output_type": "stream",
     "text": [
      "Epoch 94, gen_loss: 1857774.1250, disc_loss: -4463442.5000\n",
      "Time for epoch 94 is 100.3967 sec\n"
     ]
    },
    {
     "name": "stderr",
     "output_type": "stream",
     "text": [
      "2022-01-02 08:13:48.341674: W tensorflow/core/grappler/optimizers/meta_optimizer.cc:153] TF_ENABLE_AUTO_MIXED_PRECISION has no effect.\n",
      "2022-01-02 08:13:48.341725: W tensorflow/core/grappler/optimizers/meta_optimizer.cc:153] TF_ENABLE_AUTO_MIXED_PRECISION has no effect.\n",
      "2022-01-02 08:13:48.341740: W tensorflow/core/grappler/optimizers/meta_optimizer.cc:153] TF_ENABLE_AUTO_MIXED_PRECISION has no effect.\n",
      "2022-01-02 08:13:48.341746: W tensorflow/core/grappler/optimizers/meta_optimizer.cc:153] TF_ENABLE_AUTO_MIXED_PRECISION has no effect.\n",
      "2022-01-02 08:13:58.328774: I tensorflow/core/kernels/data/shuffle_dataset_op.cc:177] Filling up shuffle buffer (this may take a while): 10843 of 70504\n",
      "2022-01-02 08:14:08.328814: I tensorflow/core/kernels/data/shuffle_dataset_op.cc:177] Filling up shuffle buffer (this may take a while): 21843 of 70504\n",
      "2022-01-02 08:14:18.329484: I tensorflow/core/kernels/data/shuffle_dataset_op.cc:177] Filling up shuffle buffer (this may take a while): 32802 of 70504\n",
      "2022-01-02 08:14:28.329848: I tensorflow/core/kernels/data/shuffle_dataset_op.cc:177] Filling up shuffle buffer (this may take a while): 43826 of 70504\n",
      "2022-01-02 08:14:38.328887: I tensorflow/core/kernels/data/shuffle_dataset_op.cc:177] Filling up shuffle buffer (this may take a while): 54813 of 70504\n",
      "2022-01-02 08:14:48.328736: I tensorflow/core/kernels/data/shuffle_dataset_op.cc:177] Filling up shuffle buffer (this may take a while): 65926 of 70504\n",
      "2022-01-02 08:14:52.441948: I tensorflow/core/kernels/data/shuffle_dataset_op.cc:230] Shuffle buffer filled.\n"
     ]
    },
    {
     "name": "stdout",
     "output_type": "stream",
     "text": [
      "Epoch 95, gen_loss: 1810836.0000, disc_loss: -4644545.0000\n",
      "Time for epoch 95 is 99.1845 sec\n"
     ]
    },
    {
     "name": "stderr",
     "output_type": "stream",
     "text": [
      "2022-01-02 08:15:27.568965: W tensorflow/core/grappler/optimizers/meta_optimizer.cc:153] TF_ENABLE_AUTO_MIXED_PRECISION has no effect.\n",
      "2022-01-02 08:15:27.569016: W tensorflow/core/grappler/optimizers/meta_optimizer.cc:153] TF_ENABLE_AUTO_MIXED_PRECISION has no effect.\n",
      "2022-01-02 08:15:27.569038: W tensorflow/core/grappler/optimizers/meta_optimizer.cc:153] TF_ENABLE_AUTO_MIXED_PRECISION has no effect.\n",
      "2022-01-02 08:15:27.569044: W tensorflow/core/grappler/optimizers/meta_optimizer.cc:153] TF_ENABLE_AUTO_MIXED_PRECISION has no effect.\n",
      "2022-01-02 08:15:37.552591: I tensorflow/core/kernels/data/shuffle_dataset_op.cc:177] Filling up shuffle buffer (this may take a while): 10825 of 70504\n",
      "2022-01-02 08:15:47.552735: I tensorflow/core/kernels/data/shuffle_dataset_op.cc:177] Filling up shuffle buffer (this may take a while): 21790 of 70504\n",
      "2022-01-02 08:15:57.552621: I tensorflow/core/kernels/data/shuffle_dataset_op.cc:177] Filling up shuffle buffer (this may take a while): 32698 of 70504\n",
      "2022-01-02 08:16:07.553947: I tensorflow/core/kernels/data/shuffle_dataset_op.cc:177] Filling up shuffle buffer (this may take a while): 43683 of 70504\n",
      "2022-01-02 08:16:17.554112: I tensorflow/core/kernels/data/shuffle_dataset_op.cc:177] Filling up shuffle buffer (this may take a while): 54614 of 70504\n",
      "2022-01-02 08:16:27.552541: I tensorflow/core/kernels/data/shuffle_dataset_op.cc:177] Filling up shuffle buffer (this may take a while): 65627 of 70504\n",
      "2022-01-02 08:16:31.951824: I tensorflow/core/kernels/data/shuffle_dataset_op.cc:230] Shuffle buffer filled.\n"
     ]
    },
    {
     "name": "stdout",
     "output_type": "stream",
     "text": [
      "Epoch 96, gen_loss: 1991410.2500, disc_loss: -4816422.5000\n",
      "Time for epoch 96 is 99.4429 sec\n"
     ]
    },
    {
     "name": "stderr",
     "output_type": "stream",
     "text": [
      "2022-01-02 08:17:07.052922: W tensorflow/core/grappler/optimizers/meta_optimizer.cc:153] TF_ENABLE_AUTO_MIXED_PRECISION has no effect.\n",
      "2022-01-02 08:17:07.052976: W tensorflow/core/grappler/optimizers/meta_optimizer.cc:153] TF_ENABLE_AUTO_MIXED_PRECISION has no effect.\n",
      "2022-01-02 08:17:07.052989: W tensorflow/core/grappler/optimizers/meta_optimizer.cc:153] TF_ENABLE_AUTO_MIXED_PRECISION has no effect.\n",
      "2022-01-02 08:17:07.052995: W tensorflow/core/grappler/optimizers/meta_optimizer.cc:153] TF_ENABLE_AUTO_MIXED_PRECISION has no effect.\n",
      "2022-01-02 08:17:17.037567: I tensorflow/core/kernels/data/shuffle_dataset_op.cc:177] Filling up shuffle buffer (this may take a while): 10612 of 70504\n",
      "2022-01-02 08:17:27.038303: I tensorflow/core/kernels/data/shuffle_dataset_op.cc:177] Filling up shuffle buffer (this may take a while): 21349 of 70504\n",
      "2022-01-02 08:17:37.039751: I tensorflow/core/kernels/data/shuffle_dataset_op.cc:177] Filling up shuffle buffer (this may take a while): 32132 of 70504\n",
      "2022-01-02 08:17:47.038917: I tensorflow/core/kernels/data/shuffle_dataset_op.cc:177] Filling up shuffle buffer (this may take a while): 42899 of 70504\n",
      "2022-01-02 08:17:57.038318: I tensorflow/core/kernels/data/shuffle_dataset_op.cc:177] Filling up shuffle buffer (this may take a while): 53625 of 70504\n",
      "2022-01-02 08:18:07.038899: I tensorflow/core/kernels/data/shuffle_dataset_op.cc:177] Filling up shuffle buffer (this may take a while): 64461 of 70504\n",
      "2022-01-02 08:18:12.599252: I tensorflow/core/kernels/data/shuffle_dataset_op.cc:230] Shuffle buffer filled.\n"
     ]
    },
    {
     "name": "stdout",
     "output_type": "stream",
     "text": [
      "Epoch 97, gen_loss: 2260930.5000, disc_loss: -5280702.0000\n",
      "Time for epoch 97 is 100.6249 sec\n"
     ]
    },
    {
     "name": "stderr",
     "output_type": "stream",
     "text": [
      "2022-01-02 08:18:47.719842: W tensorflow/core/grappler/optimizers/meta_optimizer.cc:153] TF_ENABLE_AUTO_MIXED_PRECISION has no effect.\n",
      "2022-01-02 08:18:47.719894: W tensorflow/core/grappler/optimizers/meta_optimizer.cc:153] TF_ENABLE_AUTO_MIXED_PRECISION has no effect.\n",
      "2022-01-02 08:18:47.719908: W tensorflow/core/grappler/optimizers/meta_optimizer.cc:153] TF_ENABLE_AUTO_MIXED_PRECISION has no effect.\n",
      "2022-01-02 08:18:47.719913: W tensorflow/core/grappler/optimizers/meta_optimizer.cc:153] TF_ENABLE_AUTO_MIXED_PRECISION has no effect.\n",
      "2022-01-02 08:18:57.704294: I tensorflow/core/kernels/data/shuffle_dataset_op.cc:177] Filling up shuffle buffer (this may take a while): 10822 of 70504\n",
      "2022-01-02 08:19:07.703442: I tensorflow/core/kernels/data/shuffle_dataset_op.cc:177] Filling up shuffle buffer (this may take a while): 21737 of 70504\n",
      "2022-01-02 08:19:17.703521: I tensorflow/core/kernels/data/shuffle_dataset_op.cc:177] Filling up shuffle buffer (this may take a while): 32731 of 70504\n",
      "2022-01-02 08:19:27.703009: I tensorflow/core/kernels/data/shuffle_dataset_op.cc:177] Filling up shuffle buffer (this may take a while): 43776 of 70504\n",
      "2022-01-02 08:19:37.703217: I tensorflow/core/kernels/data/shuffle_dataset_op.cc:177] Filling up shuffle buffer (this may take a while): 54780 of 70504\n",
      "2022-01-02 08:19:47.703192: I tensorflow/core/kernels/data/shuffle_dataset_op.cc:177] Filling up shuffle buffer (this may take a while): 65869 of 70504\n",
      "2022-01-02 08:19:51.884711: I tensorflow/core/kernels/data/shuffle_dataset_op.cc:230] Shuffle buffer filled.\n"
     ]
    },
    {
     "name": "stdout",
     "output_type": "stream",
     "text": [
      "Epoch 98, gen_loss: 2342830.0000, disc_loss: -5320833.0000\n",
      "Time for epoch 98 is 99.2533 sec\n"
     ]
    },
    {
     "name": "stderr",
     "output_type": "stream",
     "text": [
      "2022-01-02 08:20:27.024398: W tensorflow/core/grappler/optimizers/meta_optimizer.cc:153] TF_ENABLE_AUTO_MIXED_PRECISION has no effect.\n",
      "2022-01-02 08:20:27.024446: W tensorflow/core/grappler/optimizers/meta_optimizer.cc:153] TF_ENABLE_AUTO_MIXED_PRECISION has no effect.\n",
      "2022-01-02 08:20:27.024460: W tensorflow/core/grappler/optimizers/meta_optimizer.cc:153] TF_ENABLE_AUTO_MIXED_PRECISION has no effect.\n",
      "2022-01-02 08:20:27.024466: W tensorflow/core/grappler/optimizers/meta_optimizer.cc:153] TF_ENABLE_AUTO_MIXED_PRECISION has no effect.\n",
      "2022-01-02 08:20:37.010436: I tensorflow/core/kernels/data/shuffle_dataset_op.cc:177] Filling up shuffle buffer (this may take a while): 10838 of 70504\n",
      "2022-01-02 08:20:47.015967: I tensorflow/core/kernels/data/shuffle_dataset_op.cc:177] Filling up shuffle buffer (this may take a while): 21842 of 70504\n",
      "2022-01-02 08:20:57.010346: I tensorflow/core/kernels/data/shuffle_dataset_op.cc:177] Filling up shuffle buffer (this may take a while): 32843 of 70504\n",
      "2022-01-02 08:21:07.010410: I tensorflow/core/kernels/data/shuffle_dataset_op.cc:177] Filling up shuffle buffer (this may take a while): 43863 of 70504\n",
      "2022-01-02 08:21:17.010733: I tensorflow/core/kernels/data/shuffle_dataset_op.cc:177] Filling up shuffle buffer (this may take a while): 54864 of 70504\n",
      "2022-01-02 08:21:27.010483: I tensorflow/core/kernels/data/shuffle_dataset_op.cc:177] Filling up shuffle buffer (this may take a while): 65961 of 70504\n",
      "2022-01-02 08:21:31.105256: I tensorflow/core/kernels/data/shuffle_dataset_op.cc:230] Shuffle buffer filled.\n"
     ]
    },
    {
     "name": "stdout",
     "output_type": "stream",
     "text": [
      "Epoch 99, gen_loss: 2410000.7500, disc_loss: -5685410.0000\n",
      "Time for epoch 99 is 99.1739 sec\n"
     ]
    },
    {
     "name": "stderr",
     "output_type": "stream",
     "text": [
      "2022-01-02 08:22:06.239088: W tensorflow/core/grappler/optimizers/meta_optimizer.cc:153] TF_ENABLE_AUTO_MIXED_PRECISION has no effect.\n",
      "2022-01-02 08:22:06.239139: W tensorflow/core/grappler/optimizers/meta_optimizer.cc:153] TF_ENABLE_AUTO_MIXED_PRECISION has no effect.\n",
      "2022-01-02 08:22:06.239153: W tensorflow/core/grappler/optimizers/meta_optimizer.cc:153] TF_ENABLE_AUTO_MIXED_PRECISION has no effect.\n",
      "2022-01-02 08:22:06.239159: W tensorflow/core/grappler/optimizers/meta_optimizer.cc:153] TF_ENABLE_AUTO_MIXED_PRECISION has no effect.\n",
      "2022-01-02 08:22:16.226418: I tensorflow/core/kernels/data/shuffle_dataset_op.cc:177] Filling up shuffle buffer (this may take a while): 10624 of 70504\n",
      "2022-01-02 08:22:26.227005: I tensorflow/core/kernels/data/shuffle_dataset_op.cc:177] Filling up shuffle buffer (this may take a while): 21324 of 70504\n",
      "2022-01-02 08:22:36.227434: I tensorflow/core/kernels/data/shuffle_dataset_op.cc:177] Filling up shuffle buffer (this may take a while): 32062 of 70504\n",
      "2022-01-02 08:22:46.226479: I tensorflow/core/kernels/data/shuffle_dataset_op.cc:177] Filling up shuffle buffer (this may take a while): 42835 of 70504\n",
      "2022-01-02 08:22:56.226264: I tensorflow/core/kernels/data/shuffle_dataset_op.cc:177] Filling up shuffle buffer (this may take a while): 53559 of 70504\n",
      "2022-01-02 08:23:06.226261: I tensorflow/core/kernels/data/shuffle_dataset_op.cc:177] Filling up shuffle buffer (this may take a while): 64376 of 70504\n",
      "2022-01-02 08:23:11.869154: I tensorflow/core/kernels/data/shuffle_dataset_op.cc:230] Shuffle buffer filled.\n"
     ]
    },
    {
     "name": "stdout",
     "output_type": "stream",
     "text": [
      "Epoch 100, gen_loss: 2630700.2500, disc_loss: -6146778.0000\n",
      "Time for epoch 100 is 100.6820 sec\n"
     ]
    },
    {
     "name": "stderr",
     "output_type": "stream",
     "text": [
      "2022-01-02 08:23:47.135388: W tensorflow/core/grappler/optimizers/meta_optimizer.cc:153] TF_ENABLE_AUTO_MIXED_PRECISION has no effect.\n",
      "2022-01-02 08:23:47.135435: W tensorflow/core/grappler/optimizers/meta_optimizer.cc:153] TF_ENABLE_AUTO_MIXED_PRECISION has no effect.\n",
      "2022-01-02 08:23:47.135448: W tensorflow/core/grappler/optimizers/meta_optimizer.cc:153] TF_ENABLE_AUTO_MIXED_PRECISION has no effect.\n",
      "2022-01-02 08:23:47.135454: W tensorflow/core/grappler/optimizers/meta_optimizer.cc:153] TF_ENABLE_AUTO_MIXED_PRECISION has no effect.\n",
      "2022-01-02 08:23:57.123692: I tensorflow/core/kernels/data/shuffle_dataset_op.cc:177] Filling up shuffle buffer (this may take a while): 10827 of 70504\n",
      "2022-01-02 08:24:07.124173: I tensorflow/core/kernels/data/shuffle_dataset_op.cc:177] Filling up shuffle buffer (this may take a while): 21837 of 70504\n",
      "2022-01-02 08:24:17.123987: I tensorflow/core/kernels/data/shuffle_dataset_op.cc:177] Filling up shuffle buffer (this may take a while): 32818 of 70504\n",
      "2022-01-02 08:24:27.124894: I tensorflow/core/kernels/data/shuffle_dataset_op.cc:177] Filling up shuffle buffer (this may take a while): 43833 of 70504\n",
      "2022-01-02 08:24:37.125101: I tensorflow/core/kernels/data/shuffle_dataset_op.cc:177] Filling up shuffle buffer (this may take a while): 54841 of 70504\n",
      "2022-01-02 08:24:47.124099: I tensorflow/core/kernels/data/shuffle_dataset_op.cc:177] Filling up shuffle buffer (this may take a while): 65857 of 70504\n",
      "2022-01-02 08:24:51.309310: I tensorflow/core/kernels/data/shuffle_dataset_op.cc:230] Shuffle buffer filled.\n"
     ]
    },
    {
     "name": "stdout",
     "output_type": "stream",
     "text": [
      "Epoch 101, gen_loss: 3092144.5000, disc_loss: -6800535.0000\n",
      "Time for epoch 101 is 99.2220 sec\n"
     ]
    },
    {
     "name": "stderr",
     "output_type": "stream",
     "text": [
      "2022-01-02 08:25:26.401497: W tensorflow/core/grappler/optimizers/meta_optimizer.cc:153] TF_ENABLE_AUTO_MIXED_PRECISION has no effect.\n",
      "2022-01-02 08:25:26.401548: W tensorflow/core/grappler/optimizers/meta_optimizer.cc:153] TF_ENABLE_AUTO_MIXED_PRECISION has no effect.\n",
      "2022-01-02 08:25:26.401562: W tensorflow/core/grappler/optimizers/meta_optimizer.cc:153] TF_ENABLE_AUTO_MIXED_PRECISION has no effect.\n",
      "2022-01-02 08:25:26.401568: W tensorflow/core/grappler/optimizers/meta_optimizer.cc:153] TF_ENABLE_AUTO_MIXED_PRECISION has no effect.\n",
      "2022-01-02 08:25:36.388481: I tensorflow/core/kernels/data/shuffle_dataset_op.cc:177] Filling up shuffle buffer (this may take a while): 10596 of 70504\n",
      "2022-01-02 08:25:46.387473: I tensorflow/core/kernels/data/shuffle_dataset_op.cc:177] Filling up shuffle buffer (this may take a while): 21319 of 70504\n",
      "2022-01-02 08:25:56.388717: I tensorflow/core/kernels/data/shuffle_dataset_op.cc:177] Filling up shuffle buffer (this may take a while): 32045 of 70504\n",
      "2022-01-02 08:26:06.387943: I tensorflow/core/kernels/data/shuffle_dataset_op.cc:177] Filling up shuffle buffer (this may take a while): 42758 of 70504\n",
      "2022-01-02 08:26:16.388671: I tensorflow/core/kernels/data/shuffle_dataset_op.cc:177] Filling up shuffle buffer (this may take a while): 53475 of 70504\n",
      "2022-01-02 08:26:26.387882: I tensorflow/core/kernels/data/shuffle_dataset_op.cc:177] Filling up shuffle buffer (this may take a while): 64270 of 70504\n",
      "2022-01-02 08:26:32.116489: I tensorflow/core/kernels/data/shuffle_dataset_op.cc:230] Shuffle buffer filled.\n"
     ]
    },
    {
     "name": "stdout",
     "output_type": "stream",
     "text": [
      "Epoch 102, gen_loss: 3216858.5000, disc_loss: -7072056.5000\n",
      "Time for epoch 102 is 100.7661 sec\n"
     ]
    },
    {
     "name": "stderr",
     "output_type": "stream",
     "text": [
      "2022-01-02 08:27:07.217748: W tensorflow/core/grappler/optimizers/meta_optimizer.cc:153] TF_ENABLE_AUTO_MIXED_PRECISION has no effect.\n",
      "2022-01-02 08:27:07.217799: W tensorflow/core/grappler/optimizers/meta_optimizer.cc:153] TF_ENABLE_AUTO_MIXED_PRECISION has no effect.\n",
      "2022-01-02 08:27:07.217813: W tensorflow/core/grappler/optimizers/meta_optimizer.cc:153] TF_ENABLE_AUTO_MIXED_PRECISION has no effect.\n",
      "2022-01-02 08:27:07.217819: W tensorflow/core/grappler/optimizers/meta_optimizer.cc:153] TF_ENABLE_AUTO_MIXED_PRECISION has no effect.\n",
      "2022-01-02 08:27:17.199504: I tensorflow/core/kernels/data/shuffle_dataset_op.cc:177] Filling up shuffle buffer (this may take a while): 10577 of 70504\n",
      "2022-01-02 08:27:27.201011: I tensorflow/core/kernels/data/shuffle_dataset_op.cc:177] Filling up shuffle buffer (this may take a while): 21308 of 70504\n",
      "2022-01-02 08:27:37.199117: I tensorflow/core/kernels/data/shuffle_dataset_op.cc:177] Filling up shuffle buffer (this may take a while): 32039 of 70504\n",
      "2022-01-02 08:27:47.199613: I tensorflow/core/kernels/data/shuffle_dataset_op.cc:177] Filling up shuffle buffer (this may take a while): 42802 of 70504\n",
      "2022-01-02 08:27:57.199603: I tensorflow/core/kernels/data/shuffle_dataset_op.cc:177] Filling up shuffle buffer (this may take a while): 53535 of 70504\n",
      "2022-01-02 08:28:07.199090: I tensorflow/core/kernels/data/shuffle_dataset_op.cc:177] Filling up shuffle buffer (this may take a while): 64365 of 70504\n",
      "2022-01-02 08:28:12.881230: I tensorflow/core/kernels/data/shuffle_dataset_op.cc:230] Shuffle buffer filled.\n"
     ]
    },
    {
     "name": "stdout",
     "output_type": "stream",
     "text": [
      "Epoch 103, gen_loss: 3266124.2500, disc_loss: -7330922.0000\n",
      "Time for epoch 103 is 100.7734 sec\n"
     ]
    },
    {
     "name": "stderr",
     "output_type": "stream",
     "text": [
      "2022-01-02 08:28:48.032067: W tensorflow/core/grappler/optimizers/meta_optimizer.cc:153] TF_ENABLE_AUTO_MIXED_PRECISION has no effect.\n",
      "2022-01-02 08:28:48.032121: W tensorflow/core/grappler/optimizers/meta_optimizer.cc:153] TF_ENABLE_AUTO_MIXED_PRECISION has no effect.\n",
      "2022-01-02 08:28:48.032135: W tensorflow/core/grappler/optimizers/meta_optimizer.cc:153] TF_ENABLE_AUTO_MIXED_PRECISION has no effect.\n",
      "2022-01-02 08:28:48.032141: W tensorflow/core/grappler/optimizers/meta_optimizer.cc:153] TF_ENABLE_AUTO_MIXED_PRECISION has no effect.\n",
      "2022-01-02 08:28:58.015801: I tensorflow/core/kernels/data/shuffle_dataset_op.cc:177] Filling up shuffle buffer (this may take a while): 10614 of 70504\n",
      "2022-01-02 08:29:08.017002: I tensorflow/core/kernels/data/shuffle_dataset_op.cc:177] Filling up shuffle buffer (this may take a while): 21364 of 70504\n",
      "2022-01-02 08:29:18.016061: I tensorflow/core/kernels/data/shuffle_dataset_op.cc:177] Filling up shuffle buffer (this may take a while): 32132 of 70504\n",
      "2022-01-02 08:29:28.016123: I tensorflow/core/kernels/data/shuffle_dataset_op.cc:177] Filling up shuffle buffer (this may take a while): 42899 of 70504\n",
      "2022-01-02 08:29:38.016837: I tensorflow/core/kernels/data/shuffle_dataset_op.cc:177] Filling up shuffle buffer (this may take a while): 53637 of 70504\n",
      "2022-01-02 08:29:48.015903: I tensorflow/core/kernels/data/shuffle_dataset_op.cc:177] Filling up shuffle buffer (this may take a while): 64510 of 70504\n",
      "2022-01-02 08:29:53.510559: I tensorflow/core/kernels/data/shuffle_dataset_op.cc:230] Shuffle buffer filled.\n"
     ]
    },
    {
     "name": "stdout",
     "output_type": "stream",
     "text": [
      "Epoch 104, gen_loss: 3353452.7500, disc_loss: -7827656.0000\n",
      "Time for epoch 104 is 100.5037 sec\n"
     ]
    },
    {
     "name": "stderr",
     "output_type": "stream",
     "text": [
      "2022-01-02 08:30:28.576246: W tensorflow/core/grappler/optimizers/meta_optimizer.cc:153] TF_ENABLE_AUTO_MIXED_PRECISION has no effect.\n",
      "2022-01-02 08:30:28.576296: W tensorflow/core/grappler/optimizers/meta_optimizer.cc:153] TF_ENABLE_AUTO_MIXED_PRECISION has no effect.\n",
      "2022-01-02 08:30:28.576309: W tensorflow/core/grappler/optimizers/meta_optimizer.cc:153] TF_ENABLE_AUTO_MIXED_PRECISION has no effect.\n",
      "2022-01-02 08:30:28.576314: W tensorflow/core/grappler/optimizers/meta_optimizer.cc:153] TF_ENABLE_AUTO_MIXED_PRECISION has no effect.\n",
      "2022-01-02 08:30:38.562948: I tensorflow/core/kernels/data/shuffle_dataset_op.cc:177] Filling up shuffle buffer (this may take a while): 10806 of 70504\n",
      "2022-01-02 08:30:48.564302: I tensorflow/core/kernels/data/shuffle_dataset_op.cc:177] Filling up shuffle buffer (this may take a while): 21750 of 70504\n",
      "2022-01-02 08:30:58.561896: I tensorflow/core/kernels/data/shuffle_dataset_op.cc:177] Filling up shuffle buffer (this may take a while): 32691 of 70504\n",
      "2022-01-02 08:31:08.562172: I tensorflow/core/kernels/data/shuffle_dataset_op.cc:177] Filling up shuffle buffer (this may take a while): 43652 of 70504\n",
      "2022-01-02 08:31:18.561769: I tensorflow/core/kernels/data/shuffle_dataset_op.cc:177] Filling up shuffle buffer (this may take a while): 54641 of 70504\n",
      "2022-01-02 08:31:28.561798: I tensorflow/core/kernels/data/shuffle_dataset_op.cc:177] Filling up shuffle buffer (this may take a while): 65680 of 70504\n",
      "2022-01-02 08:31:32.918763: I tensorflow/core/kernels/data/shuffle_dataset_op.cc:230] Shuffle buffer filled.\n"
     ]
    },
    {
     "name": "stdout",
     "output_type": "stream",
     "text": [
      "Epoch 105, gen_loss: 3637555.7500, disc_loss: -8100504.0000\n",
      "Time for epoch 105 is 99.3742 sec\n"
     ]
    },
    {
     "name": "stderr",
     "output_type": "stream",
     "text": [
      "2022-01-02 08:32:07.993812: W tensorflow/core/grappler/optimizers/meta_optimizer.cc:153] TF_ENABLE_AUTO_MIXED_PRECISION has no effect.\n",
      "2022-01-02 08:32:07.993862: W tensorflow/core/grappler/optimizers/meta_optimizer.cc:153] TF_ENABLE_AUTO_MIXED_PRECISION has no effect.\n",
      "2022-01-02 08:32:07.993876: W tensorflow/core/grappler/optimizers/meta_optimizer.cc:153] TF_ENABLE_AUTO_MIXED_PRECISION has no effect.\n",
      "2022-01-02 08:32:07.993882: W tensorflow/core/grappler/optimizers/meta_optimizer.cc:153] TF_ENABLE_AUTO_MIXED_PRECISION has no effect.\n",
      "2022-01-02 08:32:17.977104: I tensorflow/core/kernels/data/shuffle_dataset_op.cc:177] Filling up shuffle buffer (this may take a while): 10758 of 70504\n",
      "2022-01-02 08:32:27.977182: I tensorflow/core/kernels/data/shuffle_dataset_op.cc:177] Filling up shuffle buffer (this may take a while): 21760 of 70504\n",
      "2022-01-02 08:32:37.978153: I tensorflow/core/kernels/data/shuffle_dataset_op.cc:177] Filling up shuffle buffer (this may take a while): 32721 of 70504\n",
      "2022-01-02 08:32:47.978521: I tensorflow/core/kernels/data/shuffle_dataset_op.cc:177] Filling up shuffle buffer (this may take a while): 43751 of 70504\n",
      "2022-01-02 08:32:57.977750: I tensorflow/core/kernels/data/shuffle_dataset_op.cc:177] Filling up shuffle buffer (this may take a while): 54749 of 70504\n",
      "2022-01-02 08:33:07.977834: I tensorflow/core/kernels/data/shuffle_dataset_op.cc:177] Filling up shuffle buffer (this may take a while): 65810 of 70504\n",
      "2022-01-02 08:33:12.216982: I tensorflow/core/kernels/data/shuffle_dataset_op.cc:230] Shuffle buffer filled.\n"
     ]
    },
    {
     "name": "stdout",
     "output_type": "stream",
     "text": [
      "Epoch 106, gen_loss: 3993395.0000, disc_loss: -8624959.0000\n",
      "Time for epoch 106 is 99.2951 sec\n"
     ]
    },
    {
     "name": "stderr",
     "output_type": "stream",
     "text": [
      "2022-01-02 08:33:47.364164: W tensorflow/core/grappler/optimizers/meta_optimizer.cc:153] TF_ENABLE_AUTO_MIXED_PRECISION has no effect.\n",
      "2022-01-02 08:33:47.364213: W tensorflow/core/grappler/optimizers/meta_optimizer.cc:153] TF_ENABLE_AUTO_MIXED_PRECISION has no effect.\n",
      "2022-01-02 08:33:47.364227: W tensorflow/core/grappler/optimizers/meta_optimizer.cc:153] TF_ENABLE_AUTO_MIXED_PRECISION has no effect.\n",
      "2022-01-02 08:33:47.364233: W tensorflow/core/grappler/optimizers/meta_optimizer.cc:153] TF_ENABLE_AUTO_MIXED_PRECISION has no effect.\n",
      "2022-01-02 08:33:57.347058: I tensorflow/core/kernels/data/shuffle_dataset_op.cc:177] Filling up shuffle buffer (this may take a while): 10829 of 70504\n",
      "2022-01-02 08:34:07.346617: I tensorflow/core/kernels/data/shuffle_dataset_op.cc:177] Filling up shuffle buffer (this may take a while): 21809 of 70504\n",
      "2022-01-02 08:34:17.346688: I tensorflow/core/kernels/data/shuffle_dataset_op.cc:177] Filling up shuffle buffer (this may take a while): 32771 of 70504\n",
      "2022-01-02 08:34:27.347712: I tensorflow/core/kernels/data/shuffle_dataset_op.cc:177] Filling up shuffle buffer (this may take a while): 43750 of 70504\n",
      "2022-01-02 08:34:37.347350: I tensorflow/core/kernels/data/shuffle_dataset_op.cc:177] Filling up shuffle buffer (this may take a while): 54755 of 70504\n",
      "2022-01-02 08:34:47.347191: I tensorflow/core/kernels/data/shuffle_dataset_op.cc:177] Filling up shuffle buffer (this may take a while): 65821 of 70504\n",
      "2022-01-02 08:34:51.564384: I tensorflow/core/kernels/data/shuffle_dataset_op.cc:230] Shuffle buffer filled.\n"
     ]
    },
    {
     "name": "stdout",
     "output_type": "stream",
     "text": [
      "Epoch 107, gen_loss: 4192382.0000, disc_loss: -8869056.0000\n",
      "Time for epoch 107 is 99.3170 sec\n"
     ]
    },
    {
     "name": "stderr",
     "output_type": "stream",
     "text": [
      "2022-01-02 08:35:26.692498: W tensorflow/core/grappler/optimizers/meta_optimizer.cc:153] TF_ENABLE_AUTO_MIXED_PRECISION has no effect.\n",
      "2022-01-02 08:35:26.692550: W tensorflow/core/grappler/optimizers/meta_optimizer.cc:153] TF_ENABLE_AUTO_MIXED_PRECISION has no effect.\n",
      "2022-01-02 08:35:26.692564: W tensorflow/core/grappler/optimizers/meta_optimizer.cc:153] TF_ENABLE_AUTO_MIXED_PRECISION has no effect.\n",
      "2022-01-02 08:35:26.692570: W tensorflow/core/grappler/optimizers/meta_optimizer.cc:153] TF_ENABLE_AUTO_MIXED_PRECISION has no effect.\n",
      "2022-01-02 08:35:36.677866: I tensorflow/core/kernels/data/shuffle_dataset_op.cc:177] Filling up shuffle buffer (this may take a while): 10791 of 70504\n",
      "2022-01-02 08:35:46.678284: I tensorflow/core/kernels/data/shuffle_dataset_op.cc:177] Filling up shuffle buffer (this may take a while): 21752 of 70504\n",
      "2022-01-02 08:35:56.678264: I tensorflow/core/kernels/data/shuffle_dataset_op.cc:177] Filling up shuffle buffer (this may take a while): 32679 of 70504\n",
      "2022-01-02 08:36:06.678429: I tensorflow/core/kernels/data/shuffle_dataset_op.cc:177] Filling up shuffle buffer (this may take a while): 43666 of 70504\n",
      "2022-01-02 08:36:16.678406: I tensorflow/core/kernels/data/shuffle_dataset_op.cc:177] Filling up shuffle buffer (this may take a while): 54695 of 70504\n",
      "2022-01-02 08:36:26.677962: I tensorflow/core/kernels/data/shuffle_dataset_op.cc:177] Filling up shuffle buffer (this may take a while): 65790 of 70504\n",
      "2022-01-02 08:36:30.936379: I tensorflow/core/kernels/data/shuffle_dataset_op.cc:230] Shuffle buffer filled.\n"
     ]
    },
    {
     "name": "stdout",
     "output_type": "stream",
     "text": [
      "Epoch 108, gen_loss: 4467008.0000, disc_loss: -9559290.0000\n",
      "Time for epoch 108 is 99.2817 sec\n"
     ]
    },
    {
     "name": "stderr",
     "output_type": "stream",
     "text": [
      "2022-01-02 08:37:06.020529: W tensorflow/core/grappler/optimizers/meta_optimizer.cc:153] TF_ENABLE_AUTO_MIXED_PRECISION has no effect.\n",
      "2022-01-02 08:37:06.020580: W tensorflow/core/grappler/optimizers/meta_optimizer.cc:153] TF_ENABLE_AUTO_MIXED_PRECISION has no effect.\n",
      "2022-01-02 08:37:06.020594: W tensorflow/core/grappler/optimizers/meta_optimizer.cc:153] TF_ENABLE_AUTO_MIXED_PRECISION has no effect.\n",
      "2022-01-02 08:37:06.020599: W tensorflow/core/grappler/optimizers/meta_optimizer.cc:153] TF_ENABLE_AUTO_MIXED_PRECISION has no effect.\n",
      "2022-01-02 08:37:16.003475: I tensorflow/core/kernels/data/shuffle_dataset_op.cc:177] Filling up shuffle buffer (this may take a while): 10565 of 70504\n",
      "2022-01-02 08:37:26.004969: I tensorflow/core/kernels/data/shuffle_dataset_op.cc:177] Filling up shuffle buffer (this may take a while): 21266 of 70504\n",
      "2022-01-02 08:37:36.004491: I tensorflow/core/kernels/data/shuffle_dataset_op.cc:177] Filling up shuffle buffer (this may take a while): 31991 of 70504\n",
      "2022-01-02 08:37:46.004630: I tensorflow/core/kernels/data/shuffle_dataset_op.cc:177] Filling up shuffle buffer (this may take a while): 42760 of 70504\n",
      "2022-01-02 08:37:56.003855: I tensorflow/core/kernels/data/shuffle_dataset_op.cc:177] Filling up shuffle buffer (this may take a while): 53493 of 70504\n",
      "2022-01-02 08:38:06.005593: I tensorflow/core/kernels/data/shuffle_dataset_op.cc:177] Filling up shuffle buffer (this may take a while): 64323 of 70504\n",
      "2022-01-02 08:38:11.734227: I tensorflow/core/kernels/data/shuffle_dataset_op.cc:230] Shuffle buffer filled.\n"
     ]
    },
    {
     "name": "stdout",
     "output_type": "stream",
     "text": [
      "Epoch 109, gen_loss: 4553992.5000, disc_loss: -9763119.0000\n",
      "Time for epoch 109 is 100.7661 sec\n"
     ]
    },
    {
     "name": "stderr",
     "output_type": "stream",
     "text": [
      "2022-01-02 08:38:46.830819: W tensorflow/core/grappler/optimizers/meta_optimizer.cc:153] TF_ENABLE_AUTO_MIXED_PRECISION has no effect.\n",
      "2022-01-02 08:38:46.830869: W tensorflow/core/grappler/optimizers/meta_optimizer.cc:153] TF_ENABLE_AUTO_MIXED_PRECISION has no effect.\n",
      "2022-01-02 08:38:46.830883: W tensorflow/core/grappler/optimizers/meta_optimizer.cc:153] TF_ENABLE_AUTO_MIXED_PRECISION has no effect.\n",
      "2022-01-02 08:38:46.830889: W tensorflow/core/grappler/optimizers/meta_optimizer.cc:153] TF_ENABLE_AUTO_MIXED_PRECISION has no effect.\n",
      "2022-01-02 08:38:56.813458: I tensorflow/core/kernels/data/shuffle_dataset_op.cc:177] Filling up shuffle buffer (this may take a while): 10596 of 70504\n",
      "2022-01-02 08:39:06.812712: I tensorflow/core/kernels/data/shuffle_dataset_op.cc:177] Filling up shuffle buffer (this may take a while): 21348 of 70504\n",
      "2022-01-02 08:39:16.812827: I tensorflow/core/kernels/data/shuffle_dataset_op.cc:177] Filling up shuffle buffer (this may take a while): 32119 of 70504\n",
      "2022-01-02 08:39:26.812801: I tensorflow/core/kernels/data/shuffle_dataset_op.cc:177] Filling up shuffle buffer (this may take a while): 42893 of 70504\n",
      "2022-01-02 08:39:36.812707: I tensorflow/core/kernels/data/shuffle_dataset_op.cc:177] Filling up shuffle buffer (this may take a while): 53708 of 70504\n",
      "2022-01-02 08:39:46.813670: I tensorflow/core/kernels/data/shuffle_dataset_op.cc:177] Filling up shuffle buffer (this may take a while): 64577 of 70504\n",
      "2022-01-02 08:39:52.268469: I tensorflow/core/kernels/data/shuffle_dataset_op.cc:230] Shuffle buffer filled.\n"
     ]
    },
    {
     "name": "stdout",
     "output_type": "stream",
     "text": [
      "Epoch 110, gen_loss: 4840029.5000, disc_loss: -10432399.0000\n",
      "Time for epoch 110 is 100.5212 sec\n"
     ]
    },
    {
     "name": "stderr",
     "output_type": "stream",
     "text": [
      "2022-01-02 08:40:27.387698: W tensorflow/core/grappler/optimizers/meta_optimizer.cc:153] TF_ENABLE_AUTO_MIXED_PRECISION has no effect.\n",
      "2022-01-02 08:40:27.387748: W tensorflow/core/grappler/optimizers/meta_optimizer.cc:153] TF_ENABLE_AUTO_MIXED_PRECISION has no effect.\n",
      "2022-01-02 08:40:27.387761: W tensorflow/core/grappler/optimizers/meta_optimizer.cc:153] TF_ENABLE_AUTO_MIXED_PRECISION has no effect.\n",
      "2022-01-02 08:40:27.387767: W tensorflow/core/grappler/optimizers/meta_optimizer.cc:153] TF_ENABLE_AUTO_MIXED_PRECISION has no effect.\n",
      "2022-01-02 08:40:37.377213: I tensorflow/core/kernels/data/shuffle_dataset_op.cc:177] Filling up shuffle buffer (this may take a while): 10577 of 70504\n",
      "2022-01-02 08:40:47.376514: I tensorflow/core/kernels/data/shuffle_dataset_op.cc:177] Filling up shuffle buffer (this may take a while): 21258 of 70504\n",
      "2022-01-02 08:40:57.376563: I tensorflow/core/kernels/data/shuffle_dataset_op.cc:177] Filling up shuffle buffer (this may take a while): 31977 of 70504\n",
      "2022-01-02 08:41:07.377219: I tensorflow/core/kernels/data/shuffle_dataset_op.cc:177] Filling up shuffle buffer (this may take a while): 42762 of 70504\n",
      "2022-01-02 08:41:17.377405: I tensorflow/core/kernels/data/shuffle_dataset_op.cc:177] Filling up shuffle buffer (this may take a while): 53467 of 70504\n",
      "2022-01-02 08:41:27.378927: I tensorflow/core/kernels/data/shuffle_dataset_op.cc:177] Filling up shuffle buffer (this may take a while): 64270 of 70504\n",
      "2022-01-02 08:41:33.123265: I tensorflow/core/kernels/data/shuffle_dataset_op.cc:230] Shuffle buffer filled.\n"
     ]
    },
    {
     "name": "stdout",
     "output_type": "stream",
     "text": [
      "Epoch 111, gen_loss: 4688915.0000, disc_loss: -10669408.0000\n",
      "Time for epoch 111 is 100.8390 sec\n"
     ]
    },
    {
     "name": "stderr",
     "output_type": "stream",
     "text": [
      "2022-01-02 08:42:08.266554: W tensorflow/core/grappler/optimizers/meta_optimizer.cc:153] TF_ENABLE_AUTO_MIXED_PRECISION has no effect.\n",
      "2022-01-02 08:42:08.266614: W tensorflow/core/grappler/optimizers/meta_optimizer.cc:153] TF_ENABLE_AUTO_MIXED_PRECISION has no effect.\n",
      "2022-01-02 08:42:08.266628: W tensorflow/core/grappler/optimizers/meta_optimizer.cc:153] TF_ENABLE_AUTO_MIXED_PRECISION has no effect.\n",
      "2022-01-02 08:42:08.266634: W tensorflow/core/grappler/optimizers/meta_optimizer.cc:153] TF_ENABLE_AUTO_MIXED_PRECISION has no effect.\n",
      "2022-01-02 08:42:18.256781: I tensorflow/core/kernels/data/shuffle_dataset_op.cc:177] Filling up shuffle buffer (this may take a while): 10595 of 70504\n",
      "2022-01-02 08:42:28.256082: I tensorflow/core/kernels/data/shuffle_dataset_op.cc:177] Filling up shuffle buffer (this may take a while): 21312 of 70504\n",
      "2022-01-02 08:42:38.257007: I tensorflow/core/kernels/data/shuffle_dataset_op.cc:177] Filling up shuffle buffer (this may take a while): 32060 of 70504\n",
      "2022-01-02 08:42:48.255985: I tensorflow/core/kernels/data/shuffle_dataset_op.cc:177] Filling up shuffle buffer (this may take a while): 42772 of 70504\n",
      "2022-01-02 08:42:58.256908: I tensorflow/core/kernels/data/shuffle_dataset_op.cc:177] Filling up shuffle buffer (this may take a while): 53502 of 70504\n",
      "2022-01-02 08:43:08.256683: I tensorflow/core/kernels/data/shuffle_dataset_op.cc:177] Filling up shuffle buffer (this may take a while): 64339 of 70504\n",
      "2022-01-02 08:43:13.932615: I tensorflow/core/kernels/data/shuffle_dataset_op.cc:230] Shuffle buffer filled.\n"
     ]
    },
    {
     "name": "stdout",
     "output_type": "stream",
     "text": [
      "Epoch 112, gen_loss: 5160461.0000, disc_loss: -10979122.0000\n",
      "Time for epoch 112 is 100.7043 sec\n"
     ]
    },
    {
     "name": "stderr",
     "output_type": "stream",
     "text": [
      "2022-01-02 08:43:49.021846: W tensorflow/core/grappler/optimizers/meta_optimizer.cc:153] TF_ENABLE_AUTO_MIXED_PRECISION has no effect.\n",
      "2022-01-02 08:43:49.021900: W tensorflow/core/grappler/optimizers/meta_optimizer.cc:153] TF_ENABLE_AUTO_MIXED_PRECISION has no effect.\n",
      "2022-01-02 08:43:49.021914: W tensorflow/core/grappler/optimizers/meta_optimizer.cc:153] TF_ENABLE_AUTO_MIXED_PRECISION has no effect.\n",
      "2022-01-02 08:43:49.021920: W tensorflow/core/grappler/optimizers/meta_optimizer.cc:153] TF_ENABLE_AUTO_MIXED_PRECISION has no effect.\n",
      "2022-01-02 08:43:59.006827: I tensorflow/core/kernels/data/shuffle_dataset_op.cc:177] Filling up shuffle buffer (this may take a while): 10760 of 70504\n",
      "2022-01-02 08:44:09.008459: I tensorflow/core/kernels/data/shuffle_dataset_op.cc:177] Filling up shuffle buffer (this may take a while): 21732 of 70504\n",
      "2022-01-02 08:44:19.007411: I tensorflow/core/kernels/data/shuffle_dataset_op.cc:177] Filling up shuffle buffer (this may take a while): 32701 of 70504\n",
      "2022-01-02 08:44:29.006889: I tensorflow/core/kernels/data/shuffle_dataset_op.cc:177] Filling up shuffle buffer (this may take a while): 43674 of 70504\n",
      "2022-01-02 08:44:39.007084: I tensorflow/core/kernels/data/shuffle_dataset_op.cc:177] Filling up shuffle buffer (this may take a while): 54647 of 70504\n",
      "2022-01-02 08:44:49.007134: I tensorflow/core/kernels/data/shuffle_dataset_op.cc:177] Filling up shuffle buffer (this may take a while): 65697 of 70504\n",
      "2022-01-02 08:44:53.361799: I tensorflow/core/kernels/data/shuffle_dataset_op.cc:230] Shuffle buffer filled.\n"
     ]
    },
    {
     "name": "stdout",
     "output_type": "stream",
     "text": [
      "Epoch 113, gen_loss: 5582595.0000, disc_loss: -11725584.0000\n",
      "Time for epoch 113 is 99.4238 sec\n"
     ]
    },
    {
     "name": "stderr",
     "output_type": "stream",
     "text": [
      "2022-01-02 08:45:28.485291: W tensorflow/core/grappler/optimizers/meta_optimizer.cc:153] TF_ENABLE_AUTO_MIXED_PRECISION has no effect.\n",
      "2022-01-02 08:45:28.485341: W tensorflow/core/grappler/optimizers/meta_optimizer.cc:153] TF_ENABLE_AUTO_MIXED_PRECISION has no effect.\n",
      "2022-01-02 08:45:28.485355: W tensorflow/core/grappler/optimizers/meta_optimizer.cc:153] TF_ENABLE_AUTO_MIXED_PRECISION has no effect.\n",
      "2022-01-02 08:45:28.485361: W tensorflow/core/grappler/optimizers/meta_optimizer.cc:153] TF_ENABLE_AUTO_MIXED_PRECISION has no effect.\n",
      "2022-01-02 08:45:38.472142: I tensorflow/core/kernels/data/shuffle_dataset_op.cc:177] Filling up shuffle buffer (this may take a while): 10835 of 70504\n",
      "2022-01-02 08:45:48.471920: I tensorflow/core/kernels/data/shuffle_dataset_op.cc:177] Filling up shuffle buffer (this may take a while): 21769 of 70504\n",
      "2022-01-02 08:45:58.472056: I tensorflow/core/kernels/data/shuffle_dataset_op.cc:177] Filling up shuffle buffer (this may take a while): 32665 of 70504\n",
      "2022-01-02 08:46:08.471603: I tensorflow/core/kernels/data/shuffle_dataset_op.cc:177] Filling up shuffle buffer (this may take a while): 43661 of 70504\n",
      "2022-01-02 08:46:18.471771: I tensorflow/core/kernels/data/shuffle_dataset_op.cc:177] Filling up shuffle buffer (this may take a while): 54628 of 70504\n",
      "2022-01-02 08:46:28.471940: I tensorflow/core/kernels/data/shuffle_dataset_op.cc:177] Filling up shuffle buffer (this may take a while): 65672 of 70504\n",
      "2022-01-02 08:46:32.851816: I tensorflow/core/kernels/data/shuffle_dataset_op.cc:230] Shuffle buffer filled.\n"
     ]
    },
    {
     "name": "stdout",
     "output_type": "stream",
     "text": [
      "Epoch 114, gen_loss: 5737287.5000, disc_loss: -12141818.0000\n",
      "Time for epoch 114 is 99.4301 sec\n"
     ]
    },
    {
     "name": "stderr",
     "output_type": "stream",
     "text": [
      "2022-01-02 08:47:07.985084: W tensorflow/core/grappler/optimizers/meta_optimizer.cc:153] TF_ENABLE_AUTO_MIXED_PRECISION has no effect.\n",
      "2022-01-02 08:47:07.985135: W tensorflow/core/grappler/optimizers/meta_optimizer.cc:153] TF_ENABLE_AUTO_MIXED_PRECISION has no effect.\n",
      "2022-01-02 08:47:07.985149: W tensorflow/core/grappler/optimizers/meta_optimizer.cc:153] TF_ENABLE_AUTO_MIXED_PRECISION has no effect.\n",
      "2022-01-02 08:47:07.985155: W tensorflow/core/grappler/optimizers/meta_optimizer.cc:153] TF_ENABLE_AUTO_MIXED_PRECISION has no effect.\n",
      "2022-01-02 08:47:17.974276: I tensorflow/core/kernels/data/shuffle_dataset_op.cc:177] Filling up shuffle buffer (this may take a while): 10714 of 70504\n",
      "2022-01-02 08:47:27.975390: I tensorflow/core/kernels/data/shuffle_dataset_op.cc:177] Filling up shuffle buffer (this may take a while): 21663 of 70504\n",
      "2022-01-02 08:47:37.974483: I tensorflow/core/kernels/data/shuffle_dataset_op.cc:177] Filling up shuffle buffer (this may take a while): 32602 of 70504\n",
      "2022-01-02 08:47:47.975080: I tensorflow/core/kernels/data/shuffle_dataset_op.cc:177] Filling up shuffle buffer (this may take a while): 43558 of 70504\n",
      "2022-01-02 08:47:57.976036: I tensorflow/core/kernels/data/shuffle_dataset_op.cc:177] Filling up shuffle buffer (this may take a while): 54549 of 70504\n",
      "2022-01-02 08:48:07.976635: I tensorflow/core/kernels/data/shuffle_dataset_op.cc:177] Filling up shuffle buffer (this may take a while): 65561 of 70504\n",
      "2022-01-02 08:48:12.430274: I tensorflow/core/kernels/data/shuffle_dataset_op.cc:230] Shuffle buffer filled.\n"
     ]
    },
    {
     "name": "stdout",
     "output_type": "stream",
     "text": [
      "Epoch 115, gen_loss: 6161085.0000, disc_loss: -12720469.0000\n",
      "Time for epoch 115 is 99.5632 sec\n"
     ]
    },
    {
     "name": "stderr",
     "output_type": "stream",
     "text": [
      "2022-01-02 08:48:47.557744: W tensorflow/core/grappler/optimizers/meta_optimizer.cc:153] TF_ENABLE_AUTO_MIXED_PRECISION has no effect.\n",
      "2022-01-02 08:48:47.557795: W tensorflow/core/grappler/optimizers/meta_optimizer.cc:153] TF_ENABLE_AUTO_MIXED_PRECISION has no effect.\n",
      "2022-01-02 08:48:47.557809: W tensorflow/core/grappler/optimizers/meta_optimizer.cc:153] TF_ENABLE_AUTO_MIXED_PRECISION has no effect.\n",
      "2022-01-02 08:48:47.557815: W tensorflow/core/grappler/optimizers/meta_optimizer.cc:153] TF_ENABLE_AUTO_MIXED_PRECISION has no effect.\n",
      "2022-01-02 08:48:57.545887: I tensorflow/core/kernels/data/shuffle_dataset_op.cc:177] Filling up shuffle buffer (this may take a while): 10840 of 70504\n",
      "2022-01-02 08:49:07.546632: I tensorflow/core/kernels/data/shuffle_dataset_op.cc:177] Filling up shuffle buffer (this may take a while): 21833 of 70504\n",
      "2022-01-02 08:49:17.547145: I tensorflow/core/kernels/data/shuffle_dataset_op.cc:177] Filling up shuffle buffer (this may take a while): 32778 of 70504\n",
      "2022-01-02 08:49:27.545710: I tensorflow/core/kernels/data/shuffle_dataset_op.cc:177] Filling up shuffle buffer (this may take a while): 43816 of 70504\n",
      "2022-01-02 08:49:37.548399: I tensorflow/core/kernels/data/shuffle_dataset_op.cc:177] Filling up shuffle buffer (this may take a while): 54838 of 70504\n",
      "2022-01-02 08:49:47.546592: I tensorflow/core/kernels/data/shuffle_dataset_op.cc:177] Filling up shuffle buffer (this may take a while): 65923 of 70504\n",
      "2022-01-02 08:49:51.674182: I tensorflow/core/kernels/data/shuffle_dataset_op.cc:230] Shuffle buffer filled.\n"
     ]
    },
    {
     "name": "stdout",
     "output_type": "stream",
     "text": [
      "Epoch 116, gen_loss: 6472633.5000, disc_loss: -13312755.0000\n",
      "Time for epoch 116 is 99.1701 sec\n"
     ]
    },
    {
     "name": "stderr",
     "output_type": "stream",
     "text": [
      "2022-01-02 08:50:26.771059: W tensorflow/core/grappler/optimizers/meta_optimizer.cc:153] TF_ENABLE_AUTO_MIXED_PRECISION has no effect.\n",
      "2022-01-02 08:50:26.771110: W tensorflow/core/grappler/optimizers/meta_optimizer.cc:153] TF_ENABLE_AUTO_MIXED_PRECISION has no effect.\n",
      "2022-01-02 08:50:26.771124: W tensorflow/core/grappler/optimizers/meta_optimizer.cc:153] TF_ENABLE_AUTO_MIXED_PRECISION has no effect.\n",
      "2022-01-02 08:50:26.771130: W tensorflow/core/grappler/optimizers/meta_optimizer.cc:153] TF_ENABLE_AUTO_MIXED_PRECISION has no effect.\n",
      "2022-01-02 08:50:36.758156: I tensorflow/core/kernels/data/shuffle_dataset_op.cc:177] Filling up shuffle buffer (this may take a while): 10582 of 70504\n",
      "2022-01-02 08:50:46.758216: I tensorflow/core/kernels/data/shuffle_dataset_op.cc:177] Filling up shuffle buffer (this may take a while): 21339 of 70504\n",
      "2022-01-02 08:50:56.757983: I tensorflow/core/kernels/data/shuffle_dataset_op.cc:177] Filling up shuffle buffer (this may take a while): 32102 of 70504\n",
      "2022-01-02 08:51:06.757862: I tensorflow/core/kernels/data/shuffle_dataset_op.cc:177] Filling up shuffle buffer (this may take a while): 42863 of 70504\n",
      "2022-01-02 08:51:16.758487: I tensorflow/core/kernels/data/shuffle_dataset_op.cc:177] Filling up shuffle buffer (this may take a while): 53628 of 70504\n",
      "2022-01-02 08:51:26.758803: I tensorflow/core/kernels/data/shuffle_dataset_op.cc:177] Filling up shuffle buffer (this may take a while): 64498 of 70504\n",
      "2022-01-02 08:51:32.296873: I tensorflow/core/kernels/data/shuffle_dataset_op.cc:230] Shuffle buffer filled.\n"
     ]
    },
    {
     "name": "stdout",
     "output_type": "stream",
     "text": [
      "Epoch 117, gen_loss: 6712384.0000, disc_loss: -13934466.0000\n",
      "Time for epoch 117 is 100.5964 sec\n"
     ]
    },
    {
     "name": "stderr",
     "output_type": "stream",
     "text": [
      "2022-01-02 08:52:07.412194: W tensorflow/core/grappler/optimizers/meta_optimizer.cc:153] TF_ENABLE_AUTO_MIXED_PRECISION has no effect.\n",
      "2022-01-02 08:52:07.412248: W tensorflow/core/grappler/optimizers/meta_optimizer.cc:153] TF_ENABLE_AUTO_MIXED_PRECISION has no effect.\n",
      "2022-01-02 08:52:07.412262: W tensorflow/core/grappler/optimizers/meta_optimizer.cc:153] TF_ENABLE_AUTO_MIXED_PRECISION has no effect.\n",
      "2022-01-02 08:52:07.412268: W tensorflow/core/grappler/optimizers/meta_optimizer.cc:153] TF_ENABLE_AUTO_MIXED_PRECISION has no effect.\n",
      "2022-01-02 08:52:17.395915: I tensorflow/core/kernels/data/shuffle_dataset_op.cc:177] Filling up shuffle buffer (this may take a while): 10818 of 70504\n",
      "2022-01-02 08:52:27.395695: I tensorflow/core/kernels/data/shuffle_dataset_op.cc:177] Filling up shuffle buffer (this may take a while): 21781 of 70504\n",
      "2022-01-02 08:52:37.395565: I tensorflow/core/kernels/data/shuffle_dataset_op.cc:177] Filling up shuffle buffer (this may take a while): 32770 of 70504\n",
      "2022-01-02 08:52:47.395573: I tensorflow/core/kernels/data/shuffle_dataset_op.cc:177] Filling up shuffle buffer (this may take a while): 43790 of 70504\n",
      "2022-01-02 08:52:57.395329: I tensorflow/core/kernels/data/shuffle_dataset_op.cc:177] Filling up shuffle buffer (this may take a while): 54768 of 70504\n",
      "2022-01-02 08:53:07.396136: I tensorflow/core/kernels/data/shuffle_dataset_op.cc:177] Filling up shuffle buffer (this may take a while): 65839 of 70504\n",
      "2022-01-02 08:53:11.612216: I tensorflow/core/kernels/data/shuffle_dataset_op.cc:230] Shuffle buffer filled.\n"
     ]
    },
    {
     "name": "stdout",
     "output_type": "stream",
     "text": [
      "Epoch 118, gen_loss: 6734214.0000, disc_loss: -14197753.0000\n",
      "Time for epoch 118 is 99.2985 sec\n"
     ]
    },
    {
     "name": "stderr",
     "output_type": "stream",
     "text": [
      "2022-01-02 08:53:46.750501: W tensorflow/core/grappler/optimizers/meta_optimizer.cc:153] TF_ENABLE_AUTO_MIXED_PRECISION has no effect.\n",
      "2022-01-02 08:53:46.750552: W tensorflow/core/grappler/optimizers/meta_optimizer.cc:153] TF_ENABLE_AUTO_MIXED_PRECISION has no effect.\n",
      "2022-01-02 08:53:46.750566: W tensorflow/core/grappler/optimizers/meta_optimizer.cc:153] TF_ENABLE_AUTO_MIXED_PRECISION has no effect.\n",
      "2022-01-02 08:53:46.750572: W tensorflow/core/grappler/optimizers/meta_optimizer.cc:153] TF_ENABLE_AUTO_MIXED_PRECISION has no effect.\n",
      "2022-01-02 08:53:56.737916: I tensorflow/core/kernels/data/shuffle_dataset_op.cc:177] Filling up shuffle buffer (this may take a while): 10813 of 70504\n",
      "2022-01-02 08:54:06.737572: I tensorflow/core/kernels/data/shuffle_dataset_op.cc:177] Filling up shuffle buffer (this may take a while): 21786 of 70504\n",
      "2022-01-02 08:54:16.738317: I tensorflow/core/kernels/data/shuffle_dataset_op.cc:177] Filling up shuffle buffer (this may take a while): 32731 of 70504\n",
      "2022-01-02 08:54:26.738061: I tensorflow/core/kernels/data/shuffle_dataset_op.cc:177] Filling up shuffle buffer (this may take a while): 43765 of 70504\n",
      "2022-01-02 08:54:36.738852: I tensorflow/core/kernels/data/shuffle_dataset_op.cc:177] Filling up shuffle buffer (this may take a while): 54744 of 70504\n",
      "2022-01-02 08:54:46.738539: I tensorflow/core/kernels/data/shuffle_dataset_op.cc:177] Filling up shuffle buffer (this may take a while): 65802 of 70504\n",
      "2022-01-02 08:54:50.993614: I tensorflow/core/kernels/data/shuffle_dataset_op.cc:230] Shuffle buffer filled.\n"
     ]
    },
    {
     "name": "stdout",
     "output_type": "stream",
     "text": [
      "Epoch 119, gen_loss: 7596464.0000, disc_loss: -15271294.0000\n",
      "Time for epoch 119 is 99.3106 sec\n"
     ]
    },
    {
     "name": "stderr",
     "output_type": "stream",
     "text": [
      "2022-01-02 08:55:26.106161: W tensorflow/core/grappler/optimizers/meta_optimizer.cc:153] TF_ENABLE_AUTO_MIXED_PRECISION has no effect.\n",
      "2022-01-02 08:55:26.106213: W tensorflow/core/grappler/optimizers/meta_optimizer.cc:153] TF_ENABLE_AUTO_MIXED_PRECISION has no effect.\n",
      "2022-01-02 08:55:26.106226: W tensorflow/core/grappler/optimizers/meta_optimizer.cc:153] TF_ENABLE_AUTO_MIXED_PRECISION has no effect.\n",
      "2022-01-02 08:55:26.106232: W tensorflow/core/grappler/optimizers/meta_optimizer.cc:153] TF_ENABLE_AUTO_MIXED_PRECISION has no effect.\n",
      "2022-01-02 08:55:36.091110: I tensorflow/core/kernels/data/shuffle_dataset_op.cc:177] Filling up shuffle buffer (this may take a while): 10540 of 70504\n",
      "2022-01-02 08:55:46.091936: I tensorflow/core/kernels/data/shuffle_dataset_op.cc:177] Filling up shuffle buffer (this may take a while): 21260 of 70504\n",
      "2022-01-02 08:55:56.091738: I tensorflow/core/kernels/data/shuffle_dataset_op.cc:177] Filling up shuffle buffer (this may take a while): 32006 of 70504\n",
      "2022-01-02 08:56:06.092796: I tensorflow/core/kernels/data/shuffle_dataset_op.cc:177] Filling up shuffle buffer (this may take a while): 42775 of 70504\n",
      "2022-01-02 08:56:16.091787: I tensorflow/core/kernels/data/shuffle_dataset_op.cc:177] Filling up shuffle buffer (this may take a while): 53494 of 70504\n",
      "2022-01-02 08:56:26.091648: I tensorflow/core/kernels/data/shuffle_dataset_op.cc:177] Filling up shuffle buffer (this may take a while): 64298 of 70504\n",
      "2022-01-02 08:56:31.820619: I tensorflow/core/kernels/data/shuffle_dataset_op.cc:230] Shuffle buffer filled.\n"
     ]
    },
    {
     "name": "stdout",
     "output_type": "stream",
     "text": [
      "Epoch 120, gen_loss: 7706050.5000, disc_loss: -15451582.0000\n",
      "Time for epoch 120 is 100.7532 sec\n"
     ]
    },
    {
     "name": "stderr",
     "output_type": "stream",
     "text": [
      "2022-01-02 08:57:06.905539: W tensorflow/core/grappler/optimizers/meta_optimizer.cc:153] TF_ENABLE_AUTO_MIXED_PRECISION has no effect.\n",
      "2022-01-02 08:57:06.905591: W tensorflow/core/grappler/optimizers/meta_optimizer.cc:153] TF_ENABLE_AUTO_MIXED_PRECISION has no effect.\n",
      "2022-01-02 08:57:06.905605: W tensorflow/core/grappler/optimizers/meta_optimizer.cc:153] TF_ENABLE_AUTO_MIXED_PRECISION has no effect.\n",
      "2022-01-02 08:57:06.905611: W tensorflow/core/grappler/optimizers/meta_optimizer.cc:153] TF_ENABLE_AUTO_MIXED_PRECISION has no effect.\n",
      "2022-01-02 08:57:16.889724: I tensorflow/core/kernels/data/shuffle_dataset_op.cc:177] Filling up shuffle buffer (this may take a while): 10754 of 70504\n",
      "2022-01-02 08:57:26.889141: I tensorflow/core/kernels/data/shuffle_dataset_op.cc:177] Filling up shuffle buffer (this may take a while): 21740 of 70504\n",
      "2022-01-02 08:57:36.889711: I tensorflow/core/kernels/data/shuffle_dataset_op.cc:177] Filling up shuffle buffer (this may take a while): 32721 of 70504\n",
      "2022-01-02 08:57:46.890074: I tensorflow/core/kernels/data/shuffle_dataset_op.cc:177] Filling up shuffle buffer (this may take a while): 43752 of 70504\n",
      "2022-01-02 08:57:56.889137: I tensorflow/core/kernels/data/shuffle_dataset_op.cc:177] Filling up shuffle buffer (this may take a while): 54745 of 70504\n",
      "2022-01-02 08:58:06.889688: I tensorflow/core/kernels/data/shuffle_dataset_op.cc:177] Filling up shuffle buffer (this may take a while): 65812 of 70504\n",
      "2022-01-02 08:58:11.125915: I tensorflow/core/kernels/data/shuffle_dataset_op.cc:230] Shuffle buffer filled.\n"
     ]
    },
    {
     "name": "stdout",
     "output_type": "stream",
     "text": [
      "Epoch 121, gen_loss: 7732738.0000, disc_loss: -15965596.0000\n",
      "Time for epoch 121 is 99.3148 sec\n"
     ]
    },
    {
     "name": "stderr",
     "output_type": "stream",
     "text": [
      "2022-01-02 08:58:46.265969: W tensorflow/core/grappler/optimizers/meta_optimizer.cc:153] TF_ENABLE_AUTO_MIXED_PRECISION has no effect.\n",
      "2022-01-02 08:58:46.266018: W tensorflow/core/grappler/optimizers/meta_optimizer.cc:153] TF_ENABLE_AUTO_MIXED_PRECISION has no effect.\n",
      "2022-01-02 08:58:46.266038: W tensorflow/core/grappler/optimizers/meta_optimizer.cc:153] TF_ENABLE_AUTO_MIXED_PRECISION has no effect.\n",
      "2022-01-02 08:58:46.266044: W tensorflow/core/grappler/optimizers/meta_optimizer.cc:153] TF_ENABLE_AUTO_MIXED_PRECISION has no effect.\n",
      "2022-01-02 08:58:56.248810: I tensorflow/core/kernels/data/shuffle_dataset_op.cc:177] Filling up shuffle buffer (this may take a while): 10549 of 70504\n",
      "2022-01-02 08:59:06.248560: I tensorflow/core/kernels/data/shuffle_dataset_op.cc:177] Filling up shuffle buffer (this may take a while): 21304 of 70504\n",
      "2022-01-02 08:59:16.252280: I tensorflow/core/kernels/data/shuffle_dataset_op.cc:177] Filling up shuffle buffer (this may take a while): 32062 of 70504\n",
      "2022-01-02 08:59:26.250299: I tensorflow/core/kernels/data/shuffle_dataset_op.cc:177] Filling up shuffle buffer (this may take a while): 42840 of 70504\n",
      "2022-01-02 08:59:36.249125: I tensorflow/core/kernels/data/shuffle_dataset_op.cc:177] Filling up shuffle buffer (this may take a while): 53562 of 70504\n",
      "2022-01-02 08:59:46.248663: I tensorflow/core/kernels/data/shuffle_dataset_op.cc:177] Filling up shuffle buffer (this may take a while): 64363 of 70504\n",
      "2022-01-02 08:59:51.892016: I tensorflow/core/kernels/data/shuffle_dataset_op.cc:230] Shuffle buffer filled.\n"
     ]
    },
    {
     "name": "stdout",
     "output_type": "stream",
     "text": [
      "Epoch 122, gen_loss: 8034312.5000, disc_loss: -16353905.0000\n",
      "Time for epoch 122 is 100.5983 sec\n"
     ]
    },
    {
     "name": "stderr",
     "output_type": "stream",
     "text": [
      "2022-01-02 09:00:26.898523: W tensorflow/core/grappler/optimizers/meta_optimizer.cc:153] TF_ENABLE_AUTO_MIXED_PRECISION has no effect.\n",
      "2022-01-02 09:00:26.898570: W tensorflow/core/grappler/optimizers/meta_optimizer.cc:153] TF_ENABLE_AUTO_MIXED_PRECISION has no effect.\n",
      "2022-01-02 09:00:26.898584: W tensorflow/core/grappler/optimizers/meta_optimizer.cc:153] TF_ENABLE_AUTO_MIXED_PRECISION has no effect.\n",
      "2022-01-02 09:00:26.898589: W tensorflow/core/grappler/optimizers/meta_optimizer.cc:153] TF_ENABLE_AUTO_MIXED_PRECISION has no effect.\n",
      "2022-01-02 09:00:36.888263: I tensorflow/core/kernels/data/shuffle_dataset_op.cc:177] Filling up shuffle buffer (this may take a while): 10806 of 70504\n",
      "2022-01-02 09:00:46.888770: I tensorflow/core/kernels/data/shuffle_dataset_op.cc:177] Filling up shuffle buffer (this may take a while): 21789 of 70504\n",
      "2022-01-02 09:00:56.888903: I tensorflow/core/kernels/data/shuffle_dataset_op.cc:177] Filling up shuffle buffer (this may take a while): 32756 of 70504\n",
      "2022-01-02 09:01:06.888174: I tensorflow/core/kernels/data/shuffle_dataset_op.cc:177] Filling up shuffle buffer (this may take a while): 43759 of 70504\n",
      "2022-01-02 09:01:16.887719: I tensorflow/core/kernels/data/shuffle_dataset_op.cc:177] Filling up shuffle buffer (this may take a while): 54729 of 70504\n",
      "2022-01-02 09:01:26.887973: I tensorflow/core/kernels/data/shuffle_dataset_op.cc:177] Filling up shuffle buffer (this may take a while): 65736 of 70504\n",
      "2022-01-02 09:01:31.187675: I tensorflow/core/kernels/data/shuffle_dataset_op.cc:230] Shuffle buffer filled.\n"
     ]
    },
    {
     "name": "stdout",
     "output_type": "stream",
     "text": [
      "Epoch 123, gen_loss: 7976907.0000, disc_loss: -16604680.0000\n",
      "Time for epoch 123 is 99.3446 sec\n"
     ]
    },
    {
     "name": "stderr",
     "output_type": "stream",
     "text": [
      "2022-01-02 09:02:06.290607: W tensorflow/core/grappler/optimizers/meta_optimizer.cc:153] TF_ENABLE_AUTO_MIXED_PRECISION has no effect.\n",
      "2022-01-02 09:02:06.290655: W tensorflow/core/grappler/optimizers/meta_optimizer.cc:153] TF_ENABLE_AUTO_MIXED_PRECISION has no effect.\n",
      "2022-01-02 09:02:06.290667: W tensorflow/core/grappler/optimizers/meta_optimizer.cc:153] TF_ENABLE_AUTO_MIXED_PRECISION has no effect.\n",
      "2022-01-02 09:02:06.290673: W tensorflow/core/grappler/optimizers/meta_optimizer.cc:153] TF_ENABLE_AUTO_MIXED_PRECISION has no effect.\n",
      "2022-01-02 09:02:16.279954: I tensorflow/core/kernels/data/shuffle_dataset_op.cc:177] Filling up shuffle buffer (this may take a while): 10562 of 70504\n",
      "2022-01-02 09:02:26.274014: I tensorflow/core/kernels/data/shuffle_dataset_op.cc:177] Filling up shuffle buffer (this may take a while): 21308 of 70504\n",
      "2022-01-02 09:02:36.273996: I tensorflow/core/kernels/data/shuffle_dataset_op.cc:177] Filling up shuffle buffer (this may take a while): 32071 of 70504\n",
      "2022-01-02 09:02:46.273979: I tensorflow/core/kernels/data/shuffle_dataset_op.cc:177] Filling up shuffle buffer (this may take a while): 42858 of 70504\n",
      "2022-01-02 09:02:56.274595: I tensorflow/core/kernels/data/shuffle_dataset_op.cc:177] Filling up shuffle buffer (this may take a while): 53565 of 70504\n",
      "2022-01-02 09:03:06.274045: I tensorflow/core/kernels/data/shuffle_dataset_op.cc:177] Filling up shuffle buffer (this may take a while): 64336 of 70504\n",
      "2022-01-02 09:03:11.977534: I tensorflow/core/kernels/data/shuffle_dataset_op.cc:230] Shuffle buffer filled.\n"
     ]
    },
    {
     "name": "stdout",
     "output_type": "stream",
     "text": [
      "Epoch 124, gen_loss: 8600939.0000, disc_loss: -17644396.0000\n",
      "Time for epoch 124 is 100.6806 sec\n"
     ]
    },
    {
     "name": "stderr",
     "output_type": "stream",
     "text": [
      "2022-01-02 09:03:47.017058: W tensorflow/core/grappler/optimizers/meta_optimizer.cc:153] TF_ENABLE_AUTO_MIXED_PRECISION has no effect.\n",
      "2022-01-02 09:03:47.017105: W tensorflow/core/grappler/optimizers/meta_optimizer.cc:153] TF_ENABLE_AUTO_MIXED_PRECISION has no effect.\n",
      "2022-01-02 09:03:47.017120: W tensorflow/core/grappler/optimizers/meta_optimizer.cc:153] TF_ENABLE_AUTO_MIXED_PRECISION has no effect.\n",
      "2022-01-02 09:03:47.017126: W tensorflow/core/grappler/optimizers/meta_optimizer.cc:153] TF_ENABLE_AUTO_MIXED_PRECISION has no effect.\n",
      "2022-01-02 09:03:56.999409: I tensorflow/core/kernels/data/shuffle_dataset_op.cc:177] Filling up shuffle buffer (this may take a while): 10787 of 70504\n",
      "2022-01-02 09:04:07.000070: I tensorflow/core/kernels/data/shuffle_dataset_op.cc:177] Filling up shuffle buffer (this may take a while): 21797 of 70504\n",
      "2022-01-02 09:04:17.000098: I tensorflow/core/kernels/data/shuffle_dataset_op.cc:177] Filling up shuffle buffer (this may take a while): 32758 of 70504\n",
      "2022-01-02 09:04:26.998913: I tensorflow/core/kernels/data/shuffle_dataset_op.cc:177] Filling up shuffle buffer (this may take a while): 43798 of 70504\n",
      "2022-01-02 09:04:37.000414: I tensorflow/core/kernels/data/shuffle_dataset_op.cc:177] Filling up shuffle buffer (this may take a while): 54783 of 70504\n",
      "2022-01-02 09:04:46.998980: I tensorflow/core/kernels/data/shuffle_dataset_op.cc:177] Filling up shuffle buffer (this may take a while): 65811 of 70504\n",
      "2022-01-02 09:04:51.235713: I tensorflow/core/kernels/data/shuffle_dataset_op.cc:230] Shuffle buffer filled.\n"
     ]
    },
    {
     "name": "stdout",
     "output_type": "stream",
     "text": [
      "Epoch 125, gen_loss: 9110789.0000, disc_loss: -18442896.0000\n",
      "Time for epoch 125 is 99.2860 sec\n"
     ]
    },
    {
     "name": "stderr",
     "output_type": "stream",
     "text": [
      "2022-01-02 09:05:26.341921: W tensorflow/core/grappler/optimizers/meta_optimizer.cc:153] TF_ENABLE_AUTO_MIXED_PRECISION has no effect.\n",
      "2022-01-02 09:05:26.341973: W tensorflow/core/grappler/optimizers/meta_optimizer.cc:153] TF_ENABLE_AUTO_MIXED_PRECISION has no effect.\n",
      "2022-01-02 09:05:26.341986: W tensorflow/core/grappler/optimizers/meta_optimizer.cc:153] TF_ENABLE_AUTO_MIXED_PRECISION has no effect.\n",
      "2022-01-02 09:05:26.341992: W tensorflow/core/grappler/optimizers/meta_optimizer.cc:153] TF_ENABLE_AUTO_MIXED_PRECISION has no effect.\n",
      "2022-01-02 09:05:36.325230: I tensorflow/core/kernels/data/shuffle_dataset_op.cc:177] Filling up shuffle buffer (this may take a while): 10564 of 70504\n",
      "2022-01-02 09:05:46.325095: I tensorflow/core/kernels/data/shuffle_dataset_op.cc:177] Filling up shuffle buffer (this may take a while): 21312 of 70504\n",
      "2022-01-02 09:05:56.325057: I tensorflow/core/kernels/data/shuffle_dataset_op.cc:177] Filling up shuffle buffer (this may take a while): 32066 of 70504\n",
      "2022-01-02 09:06:06.325303: I tensorflow/core/kernels/data/shuffle_dataset_op.cc:177] Filling up shuffle buffer (this may take a while): 42836 of 70504\n",
      "2022-01-02 09:06:16.326136: I tensorflow/core/kernels/data/shuffle_dataset_op.cc:177] Filling up shuffle buffer (this may take a while): 53553 of 70504\n",
      "2022-01-02 09:06:26.325162: I tensorflow/core/kernels/data/shuffle_dataset_op.cc:177] Filling up shuffle buffer (this may take a while): 64338 of 70504\n",
      "2022-01-02 09:06:31.997370: I tensorflow/core/kernels/data/shuffle_dataset_op.cc:230] Shuffle buffer filled.\n"
     ]
    },
    {
     "name": "stdout",
     "output_type": "stream",
     "text": [
      "Epoch 126, gen_loss: 9271446.0000, disc_loss: -18823160.0000\n",
      "Time for epoch 126 is 100.7112 sec\n"
     ]
    },
    {
     "name": "stderr",
     "output_type": "stream",
     "text": [
      "2022-01-02 09:07:07.096975: W tensorflow/core/grappler/optimizers/meta_optimizer.cc:153] TF_ENABLE_AUTO_MIXED_PRECISION has no effect.\n",
      "2022-01-02 09:07:07.097037: W tensorflow/core/grappler/optimizers/meta_optimizer.cc:153] TF_ENABLE_AUTO_MIXED_PRECISION has no effect.\n",
      "2022-01-02 09:07:07.097052: W tensorflow/core/grappler/optimizers/meta_optimizer.cc:153] TF_ENABLE_AUTO_MIXED_PRECISION has no effect.\n",
      "2022-01-02 09:07:07.097057: W tensorflow/core/grappler/optimizers/meta_optimizer.cc:153] TF_ENABLE_AUTO_MIXED_PRECISION has no effect.\n",
      "2022-01-02 09:07:17.080925: I tensorflow/core/kernels/data/shuffle_dataset_op.cc:177] Filling up shuffle buffer (this may take a while): 10851 of 70504\n",
      "2022-01-02 09:07:27.080769: I tensorflow/core/kernels/data/shuffle_dataset_op.cc:177] Filling up shuffle buffer (this may take a while): 21910 of 70504\n",
      "2022-01-02 09:07:37.080989: I tensorflow/core/kernels/data/shuffle_dataset_op.cc:177] Filling up shuffle buffer (this may take a while): 32920 of 70504\n",
      "2022-01-02 09:07:47.081736: I tensorflow/core/kernels/data/shuffle_dataset_op.cc:177] Filling up shuffle buffer (this may take a while): 43976 of 70504\n",
      "2022-01-02 09:07:57.081468: I tensorflow/core/kernels/data/shuffle_dataset_op.cc:177] Filling up shuffle buffer (this may take a while): 54970 of 70504\n",
      "2022-01-02 09:08:07.081442: I tensorflow/core/kernels/data/shuffle_dataset_op.cc:177] Filling up shuffle buffer (this may take a while): 66033 of 70504\n",
      "2022-01-02 09:08:11.124233: I tensorflow/core/kernels/data/shuffle_dataset_op.cc:230] Shuffle buffer filled.\n"
     ]
    },
    {
     "name": "stdout",
     "output_type": "stream",
     "text": [
      "Epoch 127, gen_loss: 9758054.0000, disc_loss: -19868588.0000\n",
      "Time for epoch 127 is 99.0708 sec\n"
     ]
    },
    {
     "name": "stderr",
     "output_type": "stream",
     "text": [
      "2022-01-02 09:08:46.206264: W tensorflow/core/grappler/optimizers/meta_optimizer.cc:153] TF_ENABLE_AUTO_MIXED_PRECISION has no effect.\n",
      "2022-01-02 09:08:46.206316: W tensorflow/core/grappler/optimizers/meta_optimizer.cc:153] TF_ENABLE_AUTO_MIXED_PRECISION has no effect.\n",
      "2022-01-02 09:08:46.206330: W tensorflow/core/grappler/optimizers/meta_optimizer.cc:153] TF_ENABLE_AUTO_MIXED_PRECISION has no effect.\n",
      "2022-01-02 09:08:46.206336: W tensorflow/core/grappler/optimizers/meta_optimizer.cc:153] TF_ENABLE_AUTO_MIXED_PRECISION has no effect.\n",
      "2022-01-02 09:08:56.192484: I tensorflow/core/kernels/data/shuffle_dataset_op.cc:177] Filling up shuffle buffer (this may take a while): 10852 of 70504\n",
      "2022-01-02 09:09:06.192458: I tensorflow/core/kernels/data/shuffle_dataset_op.cc:177] Filling up shuffle buffer (this may take a while): 21872 of 70504\n",
      "2022-01-02 09:09:16.192162: I tensorflow/core/kernels/data/shuffle_dataset_op.cc:177] Filling up shuffle buffer (this may take a while): 32853 of 70504\n",
      "2022-01-02 09:09:26.192976: I tensorflow/core/kernels/data/shuffle_dataset_op.cc:177] Filling up shuffle buffer (this may take a while): 43889 of 70504\n",
      "2022-01-02 09:09:36.192131: I tensorflow/core/kernels/data/shuffle_dataset_op.cc:177] Filling up shuffle buffer (this may take a while): 54875 of 70504\n",
      "2022-01-02 09:09:46.193485: I tensorflow/core/kernels/data/shuffle_dataset_op.cc:177] Filling up shuffle buffer (this may take a while): 65913 of 70504\n",
      "2022-01-02 09:09:50.376346: I tensorflow/core/kernels/data/shuffle_dataset_op.cc:230] Shuffle buffer filled.\n"
     ]
    },
    {
     "name": "stdout",
     "output_type": "stream",
     "text": [
      "Epoch 128, gen_loss: 9764059.0000, disc_loss: -20174148.0000\n",
      "Time for epoch 128 is 99.2473 sec\n"
     ]
    },
    {
     "name": "stderr",
     "output_type": "stream",
     "text": [
      "2022-01-02 09:10:25.497177: W tensorflow/core/grappler/optimizers/meta_optimizer.cc:153] TF_ENABLE_AUTO_MIXED_PRECISION has no effect.\n",
      "2022-01-02 09:10:25.497228: W tensorflow/core/grappler/optimizers/meta_optimizer.cc:153] TF_ENABLE_AUTO_MIXED_PRECISION has no effect.\n",
      "2022-01-02 09:10:25.497243: W tensorflow/core/grappler/optimizers/meta_optimizer.cc:153] TF_ENABLE_AUTO_MIXED_PRECISION has no effect.\n",
      "2022-01-02 09:10:25.497248: W tensorflow/core/grappler/optimizers/meta_optimizer.cc:153] TF_ENABLE_AUTO_MIXED_PRECISION has no effect.\n",
      "2022-01-02 09:10:35.481033: I tensorflow/core/kernels/data/shuffle_dataset_op.cc:177] Filling up shuffle buffer (this may take a while): 10842 of 70504\n",
      "2022-01-02 09:10:45.482417: I tensorflow/core/kernels/data/shuffle_dataset_op.cc:177] Filling up shuffle buffer (this may take a while): 21846 of 70504\n",
      "2022-01-02 09:10:55.481038: I tensorflow/core/kernels/data/shuffle_dataset_op.cc:177] Filling up shuffle buffer (this may take a while): 32809 of 70504\n",
      "2022-01-02 09:11:05.481294: I tensorflow/core/kernels/data/shuffle_dataset_op.cc:177] Filling up shuffle buffer (this may take a while): 43813 of 70504\n",
      "2022-01-02 09:11:15.481140: I tensorflow/core/kernels/data/shuffle_dataset_op.cc:177] Filling up shuffle buffer (this may take a while): 54751 of 70504\n",
      "2022-01-02 09:11:25.481489: I tensorflow/core/kernels/data/shuffle_dataset_op.cc:177] Filling up shuffle buffer (this may take a while): 65757 of 70504\n",
      "2022-01-02 09:11:29.784365: I tensorflow/core/kernels/data/shuffle_dataset_op.cc:230] Shuffle buffer filled.\n"
     ]
    },
    {
     "name": "stdout",
     "output_type": "stream",
     "text": [
      "Epoch 129, gen_loss: 9944800.0000, disc_loss: -20619026.0000\n",
      "Time for epoch 129 is 99.3686 sec\n"
     ]
    },
    {
     "name": "stderr",
     "output_type": "stream",
     "text": [
      "2022-01-02 09:12:04.908121: W tensorflow/core/grappler/optimizers/meta_optimizer.cc:153] TF_ENABLE_AUTO_MIXED_PRECISION has no effect.\n",
      "2022-01-02 09:12:04.908168: W tensorflow/core/grappler/optimizers/meta_optimizer.cc:153] TF_ENABLE_AUTO_MIXED_PRECISION has no effect.\n",
      "2022-01-02 09:12:04.908182: W tensorflow/core/grappler/optimizers/meta_optimizer.cc:153] TF_ENABLE_AUTO_MIXED_PRECISION has no effect.\n",
      "2022-01-02 09:12:04.908188: W tensorflow/core/grappler/optimizers/meta_optimizer.cc:153] TF_ENABLE_AUTO_MIXED_PRECISION has no effect.\n",
      "2022-01-02 09:12:14.891964: I tensorflow/core/kernels/data/shuffle_dataset_op.cc:177] Filling up shuffle buffer (this may take a while): 10825 of 70504\n",
      "2022-01-02 09:12:24.893152: I tensorflow/core/kernels/data/shuffle_dataset_op.cc:177] Filling up shuffle buffer (this may take a while): 21806 of 70504\n",
      "2022-01-02 09:12:34.891720: I tensorflow/core/kernels/data/shuffle_dataset_op.cc:177] Filling up shuffle buffer (this may take a while): 32763 of 70504\n",
      "2022-01-02 09:12:44.892094: I tensorflow/core/kernels/data/shuffle_dataset_op.cc:177] Filling up shuffle buffer (this may take a while): 43755 of 70504\n",
      "2022-01-02 09:12:54.892758: I tensorflow/core/kernels/data/shuffle_dataset_op.cc:177] Filling up shuffle buffer (this may take a while): 54728 of 70504\n",
      "2022-01-02 09:13:04.892163: I tensorflow/core/kernels/data/shuffle_dataset_op.cc:177] Filling up shuffle buffer (this may take a while): 65759 of 70504\n",
      "2022-01-02 09:13:09.205865: I tensorflow/core/kernels/data/shuffle_dataset_op.cc:230] Shuffle buffer filled.\n"
     ]
    },
    {
     "name": "stdout",
     "output_type": "stream",
     "text": [
      "Epoch 130, gen_loss: 10457803.0000, disc_loss: -21538300.0000\n",
      "Time for epoch 130 is 99.3732 sec\n"
     ]
    },
    {
     "name": "stderr",
     "output_type": "stream",
     "text": [
      "2022-01-02 09:13:44.323259: W tensorflow/core/grappler/optimizers/meta_optimizer.cc:153] TF_ENABLE_AUTO_MIXED_PRECISION has no effect.\n",
      "2022-01-02 09:13:44.323309: W tensorflow/core/grappler/optimizers/meta_optimizer.cc:153] TF_ENABLE_AUTO_MIXED_PRECISION has no effect.\n",
      "2022-01-02 09:13:44.323323: W tensorflow/core/grappler/optimizers/meta_optimizer.cc:153] TF_ENABLE_AUTO_MIXED_PRECISION has no effect.\n",
      "2022-01-02 09:13:44.323328: W tensorflow/core/grappler/optimizers/meta_optimizer.cc:153] TF_ENABLE_AUTO_MIXED_PRECISION has no effect.\n",
      "2022-01-02 09:13:54.306540: I tensorflow/core/kernels/data/shuffle_dataset_op.cc:177] Filling up shuffle buffer (this may take a while): 10590 of 70504\n",
      "2022-01-02 09:14:04.307696: I tensorflow/core/kernels/data/shuffle_dataset_op.cc:177] Filling up shuffle buffer (this may take a while): 21356 of 70504\n",
      "2022-01-02 09:14:14.306293: I tensorflow/core/kernels/data/shuffle_dataset_op.cc:177] Filling up shuffle buffer (this may take a while): 32141 of 70504\n",
      "2022-01-02 09:14:24.307192: I tensorflow/core/kernels/data/shuffle_dataset_op.cc:177] Filling up shuffle buffer (this may take a while): 42904 of 70504\n",
      "2022-01-02 09:14:34.306769: I tensorflow/core/kernels/data/shuffle_dataset_op.cc:177] Filling up shuffle buffer (this may take a while): 53587 of 70504\n",
      "2022-01-02 09:14:44.306855: I tensorflow/core/kernels/data/shuffle_dataset_op.cc:177] Filling up shuffle buffer (this may take a while): 64409 of 70504\n",
      "2022-01-02 09:14:49.930068: I tensorflow/core/kernels/data/shuffle_dataset_op.cc:230] Shuffle buffer filled.\n"
     ]
    },
    {
     "name": "stdout",
     "output_type": "stream",
     "text": [
      "Epoch 131, gen_loss: 10840322.0000, disc_loss: -22294062.0000\n",
      "Time for epoch 131 is 100.7077 sec\n"
     ]
    },
    {
     "name": "stderr",
     "output_type": "stream",
     "text": [
      "2022-01-02 09:15:25.074722: W tensorflow/core/grappler/optimizers/meta_optimizer.cc:153] TF_ENABLE_AUTO_MIXED_PRECISION has no effect.\n",
      "2022-01-02 09:15:25.074771: W tensorflow/core/grappler/optimizers/meta_optimizer.cc:153] TF_ENABLE_AUTO_MIXED_PRECISION has no effect.\n",
      "2022-01-02 09:15:25.074786: W tensorflow/core/grappler/optimizers/meta_optimizer.cc:153] TF_ENABLE_AUTO_MIXED_PRECISION has no effect.\n",
      "2022-01-02 09:15:25.074792: W tensorflow/core/grappler/optimizers/meta_optimizer.cc:153] TF_ENABLE_AUTO_MIXED_PRECISION has no effect.\n",
      "2022-01-02 09:15:35.059787: I tensorflow/core/kernels/data/shuffle_dataset_op.cc:177] Filling up shuffle buffer (this may take a while): 10566 of 70504\n",
      "2022-01-02 09:15:45.059502: I tensorflow/core/kernels/data/shuffle_dataset_op.cc:177] Filling up shuffle buffer (this may take a while): 21332 of 70504\n",
      "2022-01-02 09:15:55.059235: I tensorflow/core/kernels/data/shuffle_dataset_op.cc:177] Filling up shuffle buffer (this may take a while): 32105 of 70504\n",
      "2022-01-02 09:16:05.059829: I tensorflow/core/kernels/data/shuffle_dataset_op.cc:177] Filling up shuffle buffer (this may take a while): 42831 of 70504\n",
      "2022-01-02 09:16:15.058900: I tensorflow/core/kernels/data/shuffle_dataset_op.cc:177] Filling up shuffle buffer (this may take a while): 53549 of 70504\n",
      "2022-01-02 09:16:25.059994: I tensorflow/core/kernels/data/shuffle_dataset_op.cc:177] Filling up shuffle buffer (this may take a while): 64303 of 70504\n",
      "2022-01-02 09:16:30.821231: I tensorflow/core/kernels/data/shuffle_dataset_op.cc:230] Shuffle buffer filled.\n"
     ]
    },
    {
     "name": "stdout",
     "output_type": "stream",
     "text": [
      "Epoch 132, gen_loss: 10430662.0000, disc_loss: -22109994.0000\n",
      "Time for epoch 132 is 100.7931 sec\n"
     ]
    },
    {
     "name": "stderr",
     "output_type": "stream",
     "text": [
      "2022-01-02 09:17:05.905260: W tensorflow/core/grappler/optimizers/meta_optimizer.cc:153] TF_ENABLE_AUTO_MIXED_PRECISION has no effect.\n",
      "2022-01-02 09:17:05.905306: W tensorflow/core/grappler/optimizers/meta_optimizer.cc:153] TF_ENABLE_AUTO_MIXED_PRECISION has no effect.\n",
      "2022-01-02 09:17:05.905320: W tensorflow/core/grappler/optimizers/meta_optimizer.cc:153] TF_ENABLE_AUTO_MIXED_PRECISION has no effect.\n",
      "2022-01-02 09:17:05.905325: W tensorflow/core/grappler/optimizers/meta_optimizer.cc:153] TF_ENABLE_AUTO_MIXED_PRECISION has no effect.\n",
      "2022-01-02 09:17:15.893588: I tensorflow/core/kernels/data/shuffle_dataset_op.cc:177] Filling up shuffle buffer (this may take a while): 10866 of 70504\n",
      "2022-01-02 09:17:25.893111: I tensorflow/core/kernels/data/shuffle_dataset_op.cc:177] Filling up shuffle buffer (this may take a while): 21890 of 70504\n",
      "2022-01-02 09:17:35.893050: I tensorflow/core/kernels/data/shuffle_dataset_op.cc:177] Filling up shuffle buffer (this may take a while): 32880 of 70504\n",
      "2022-01-02 09:17:45.894038: I tensorflow/core/kernels/data/shuffle_dataset_op.cc:177] Filling up shuffle buffer (this may take a while): 43892 of 70504\n",
      "2022-01-02 09:17:55.892823: I tensorflow/core/kernels/data/shuffle_dataset_op.cc:177] Filling up shuffle buffer (this may take a while): 54838 of 70504\n",
      "2022-01-02 09:18:05.893825: I tensorflow/core/kernels/data/shuffle_dataset_op.cc:177] Filling up shuffle buffer (this may take a while): 65904 of 70504\n",
      "2022-01-02 09:18:10.024081: I tensorflow/core/kernels/data/shuffle_dataset_op.cc:230] Shuffle buffer filled.\n"
     ]
    },
    {
     "name": "stdout",
     "output_type": "stream",
     "text": [
      "Epoch 133, gen_loss: 11697239.0000, disc_loss: -23568968.0000\n",
      "Time for epoch 133 is 99.1434 sec\n"
     ]
    },
    {
     "name": "stderr",
     "output_type": "stream",
     "text": [
      "2022-01-02 09:18:45.095935: W tensorflow/core/grappler/optimizers/meta_optimizer.cc:153] TF_ENABLE_AUTO_MIXED_PRECISION has no effect.\n",
      "2022-01-02 09:18:45.095985: W tensorflow/core/grappler/optimizers/meta_optimizer.cc:153] TF_ENABLE_AUTO_MIXED_PRECISION has no effect.\n",
      "2022-01-02 09:18:45.096000: W tensorflow/core/grappler/optimizers/meta_optimizer.cc:153] TF_ENABLE_AUTO_MIXED_PRECISION has no effect.\n",
      "2022-01-02 09:18:45.096006: W tensorflow/core/grappler/optimizers/meta_optimizer.cc:153] TF_ENABLE_AUTO_MIXED_PRECISION has no effect.\n",
      "2022-01-02 09:18:55.080810: I tensorflow/core/kernels/data/shuffle_dataset_op.cc:177] Filling up shuffle buffer (this may take a while): 10647 of 70504\n",
      "2022-01-02 09:19:05.080358: I tensorflow/core/kernels/data/shuffle_dataset_op.cc:177] Filling up shuffle buffer (this may take a while): 21436 of 70504\n",
      "2022-01-02 09:19:15.079625: I tensorflow/core/kernels/data/shuffle_dataset_op.cc:177] Filling up shuffle buffer (this may take a while): 32179 of 70504\n",
      "2022-01-02 09:19:25.079081: I tensorflow/core/kernels/data/shuffle_dataset_op.cc:177] Filling up shuffle buffer (this may take a while): 42921 of 70504\n",
      "2022-01-02 09:19:35.079566: I tensorflow/core/kernels/data/shuffle_dataset_op.cc:177] Filling up shuffle buffer (this may take a while): 53627 of 70504\n",
      "2022-01-02 09:19:45.080347: I tensorflow/core/kernels/data/shuffle_dataset_op.cc:177] Filling up shuffle buffer (this may take a while): 64451 of 70504\n",
      "2022-01-02 09:19:50.637204: I tensorflow/core/kernels/data/shuffle_dataset_op.cc:230] Shuffle buffer filled.\n"
     ]
    },
    {
     "name": "stdout",
     "output_type": "stream",
     "text": [
      "Epoch 134, gen_loss: 11699343.0000, disc_loss: -24136322.0000\n",
      "Time for epoch 134 is 100.5730 sec\n"
     ]
    },
    {
     "name": "stderr",
     "output_type": "stream",
     "text": [
      "2022-01-02 09:20:25.707439: W tensorflow/core/grappler/optimizers/meta_optimizer.cc:153] TF_ENABLE_AUTO_MIXED_PRECISION has no effect.\n",
      "2022-01-02 09:20:25.707484: W tensorflow/core/grappler/optimizers/meta_optimizer.cc:153] TF_ENABLE_AUTO_MIXED_PRECISION has no effect.\n",
      "2022-01-02 09:20:25.707498: W tensorflow/core/grappler/optimizers/meta_optimizer.cc:153] TF_ENABLE_AUTO_MIXED_PRECISION has no effect.\n",
      "2022-01-02 09:20:25.707504: W tensorflow/core/grappler/optimizers/meta_optimizer.cc:153] TF_ENABLE_AUTO_MIXED_PRECISION has no effect.\n",
      "2022-01-02 09:20:35.695215: I tensorflow/core/kernels/data/shuffle_dataset_op.cc:177] Filling up shuffle buffer (this may take a while): 10847 of 70504\n",
      "2022-01-02 09:20:45.696277: I tensorflow/core/kernels/data/shuffle_dataset_op.cc:177] Filling up shuffle buffer (this may take a while): 21876 of 70504\n",
      "2022-01-02 09:20:55.694769: I tensorflow/core/kernels/data/shuffle_dataset_op.cc:177] Filling up shuffle buffer (this may take a while): 32795 of 70504\n",
      "2022-01-02 09:21:05.694899: I tensorflow/core/kernels/data/shuffle_dataset_op.cc:177] Filling up shuffle buffer (this may take a while): 43707 of 70504\n",
      "2022-01-02 09:21:15.695366: I tensorflow/core/kernels/data/shuffle_dataset_op.cc:177] Filling up shuffle buffer (this may take a while): 54643 of 70504\n",
      "2022-01-02 09:21:25.695314: I tensorflow/core/kernels/data/shuffle_dataset_op.cc:177] Filling up shuffle buffer (this may take a while): 65678 of 70504\n",
      "2022-01-02 09:21:30.061752: I tensorflow/core/kernels/data/shuffle_dataset_op.cc:230] Shuffle buffer filled.\n"
     ]
    },
    {
     "name": "stdout",
     "output_type": "stream",
     "text": [
      "Epoch 135, gen_loss: 12677607.0000, disc_loss: -25758962.0000\n",
      "Time for epoch 135 is 99.4497 sec\n"
     ]
    },
    {
     "name": "stderr",
     "output_type": "stream",
     "text": [
      "2022-01-02 09:22:05.201713: W tensorflow/core/grappler/optimizers/meta_optimizer.cc:153] TF_ENABLE_AUTO_MIXED_PRECISION has no effect.\n",
      "2022-01-02 09:22:05.201768: W tensorflow/core/grappler/optimizers/meta_optimizer.cc:153] TF_ENABLE_AUTO_MIXED_PRECISION has no effect.\n",
      "2022-01-02 09:22:05.201783: W tensorflow/core/grappler/optimizers/meta_optimizer.cc:153] TF_ENABLE_AUTO_MIXED_PRECISION has no effect.\n",
      "2022-01-02 09:22:05.201788: W tensorflow/core/grappler/optimizers/meta_optimizer.cc:153] TF_ENABLE_AUTO_MIXED_PRECISION has no effect.\n",
      "2022-01-02 09:22:15.192600: I tensorflow/core/kernels/data/shuffle_dataset_op.cc:177] Filling up shuffle buffer (this may take a while): 10853 of 70504\n",
      "2022-01-02 09:22:25.185876: I tensorflow/core/kernels/data/shuffle_dataset_op.cc:177] Filling up shuffle buffer (this may take a while): 21847 of 70504\n",
      "2022-01-02 09:22:35.186152: I tensorflow/core/kernels/data/shuffle_dataset_op.cc:177] Filling up shuffle buffer (this may take a while): 32773 of 70504\n",
      "2022-01-02 09:22:45.187202: I tensorflow/core/kernels/data/shuffle_dataset_op.cc:177] Filling up shuffle buffer (this may take a while): 43741 of 70504\n",
      "2022-01-02 09:22:55.188539: I tensorflow/core/kernels/data/shuffle_dataset_op.cc:177] Filling up shuffle buffer (this may take a while): 54725 of 70504\n",
      "2022-01-02 09:23:05.187856: I tensorflow/core/kernels/data/shuffle_dataset_op.cc:177] Filling up shuffle buffer (this may take a while): 65768 of 70504\n",
      "2022-01-02 09:23:09.462880: I tensorflow/core/kernels/data/shuffle_dataset_op.cc:230] Shuffle buffer filled.\n"
     ]
    },
    {
     "name": "stdout",
     "output_type": "stream",
     "text": [
      "Epoch 136, gen_loss: 12938295.0000, disc_loss: -26262416.0000\n",
      "Time for epoch 136 is 99.2861 sec\n"
     ]
    },
    {
     "name": "stderr",
     "output_type": "stream",
     "text": [
      "2022-01-02 09:23:44.528427: W tensorflow/core/grappler/optimizers/meta_optimizer.cc:153] TF_ENABLE_AUTO_MIXED_PRECISION has no effect.\n",
      "2022-01-02 09:23:44.528481: W tensorflow/core/grappler/optimizers/meta_optimizer.cc:153] TF_ENABLE_AUTO_MIXED_PRECISION has no effect.\n",
      "2022-01-02 09:23:44.528494: W tensorflow/core/grappler/optimizers/meta_optimizer.cc:153] TF_ENABLE_AUTO_MIXED_PRECISION has no effect.\n",
      "2022-01-02 09:23:44.528500: W tensorflow/core/grappler/optimizers/meta_optimizer.cc:153] TF_ENABLE_AUTO_MIXED_PRECISION has no effect.\n",
      "2022-01-02 09:23:54.514993: I tensorflow/core/kernels/data/shuffle_dataset_op.cc:177] Filling up shuffle buffer (this may take a while): 10888 of 70504\n",
      "2022-01-02 09:24:04.513315: I tensorflow/core/kernels/data/shuffle_dataset_op.cc:177] Filling up shuffle buffer (this may take a while): 21913 of 70504\n",
      "2022-01-02 09:24:14.513891: I tensorflow/core/kernels/data/shuffle_dataset_op.cc:177] Filling up shuffle buffer (this may take a while): 32895 of 70504\n",
      "2022-01-02 09:24:24.513473: I tensorflow/core/kernels/data/shuffle_dataset_op.cc:177] Filling up shuffle buffer (this may take a while): 43902 of 70504\n",
      "2022-01-02 09:24:34.513886: I tensorflow/core/kernels/data/shuffle_dataset_op.cc:177] Filling up shuffle buffer (this may take a while): 54894 of 70504\n",
      "2022-01-02 09:24:44.513716: I tensorflow/core/kernels/data/shuffle_dataset_op.cc:177] Filling up shuffle buffer (this may take a while): 65910 of 70504\n",
      "2022-01-02 09:24:48.658156: I tensorflow/core/kernels/data/shuffle_dataset_op.cc:230] Shuffle buffer filled.\n"
     ]
    },
    {
     "name": "stdout",
     "output_type": "stream",
     "text": [
      "Epoch 137, gen_loss: 13283519.0000, disc_loss: -26539262.0000\n",
      "Time for epoch 137 is 99.1880 sec\n"
     ]
    },
    {
     "name": "stderr",
     "output_type": "stream",
     "text": [
      "2022-01-02 09:25:23.758691: W tensorflow/core/grappler/optimizers/meta_optimizer.cc:153] TF_ENABLE_AUTO_MIXED_PRECISION has no effect.\n",
      "2022-01-02 09:25:23.758744: W tensorflow/core/grappler/optimizers/meta_optimizer.cc:153] TF_ENABLE_AUTO_MIXED_PRECISION has no effect.\n",
      "2022-01-02 09:25:23.758758: W tensorflow/core/grappler/optimizers/meta_optimizer.cc:153] TF_ENABLE_AUTO_MIXED_PRECISION has no effect.\n",
      "2022-01-02 09:25:23.758764: W tensorflow/core/grappler/optimizers/meta_optimizer.cc:153] TF_ENABLE_AUTO_MIXED_PRECISION has no effect.\n",
      "2022-01-02 09:25:33.746523: I tensorflow/core/kernels/data/shuffle_dataset_op.cc:177] Filling up shuffle buffer (this may take a while): 10610 of 70504\n",
      "2022-01-02 09:25:43.744580: I tensorflow/core/kernels/data/shuffle_dataset_op.cc:177] Filling up shuffle buffer (this may take a while): 21371 of 70504\n",
      "2022-01-02 09:25:53.744611: I tensorflow/core/kernels/data/shuffle_dataset_op.cc:177] Filling up shuffle buffer (this may take a while): 32129 of 70504\n",
      "2022-01-02 09:26:03.744762: I tensorflow/core/kernels/data/shuffle_dataset_op.cc:177] Filling up shuffle buffer (this may take a while): 42871 of 70504\n",
      "2022-01-02 09:26:13.744605: I tensorflow/core/kernels/data/shuffle_dataset_op.cc:177] Filling up shuffle buffer (this may take a while): 53572 of 70504\n",
      "2022-01-02 09:26:23.744748: I tensorflow/core/kernels/data/shuffle_dataset_op.cc:177] Filling up shuffle buffer (this may take a while): 64394 of 70504\n",
      "2022-01-02 09:26:29.402926: I tensorflow/core/kernels/data/shuffle_dataset_op.cc:230] Shuffle buffer filled.\n"
     ]
    },
    {
     "name": "stdout",
     "output_type": "stream",
     "text": [
      "Epoch 138, gen_loss: 13490109.0000, disc_loss: -27019598.0000\n",
      "Time for epoch 138 is 100.6761 sec\n"
     ]
    },
    {
     "name": "stderr",
     "output_type": "stream",
     "text": [
      "2022-01-02 09:27:04.471821: W tensorflow/core/grappler/optimizers/meta_optimizer.cc:153] TF_ENABLE_AUTO_MIXED_PRECISION has no effect.\n",
      "2022-01-02 09:27:04.471868: W tensorflow/core/grappler/optimizers/meta_optimizer.cc:153] TF_ENABLE_AUTO_MIXED_PRECISION has no effect.\n",
      "2022-01-02 09:27:04.471882: W tensorflow/core/grappler/optimizers/meta_optimizer.cc:153] TF_ENABLE_AUTO_MIXED_PRECISION has no effect.\n",
      "2022-01-02 09:27:04.471887: W tensorflow/core/grappler/optimizers/meta_optimizer.cc:153] TF_ENABLE_AUTO_MIXED_PRECISION has no effect.\n",
      "2022-01-02 09:27:14.461293: I tensorflow/core/kernels/data/shuffle_dataset_op.cc:177] Filling up shuffle buffer (this may take a while): 10838 of 70504\n",
      "2022-01-02 09:27:24.462519: I tensorflow/core/kernels/data/shuffle_dataset_op.cc:177] Filling up shuffle buffer (this may take a while): 21822 of 70504\n",
      "2022-01-02 09:27:34.462134: I tensorflow/core/kernels/data/shuffle_dataset_op.cc:177] Filling up shuffle buffer (this may take a while): 32741 of 70504\n",
      "2022-01-02 09:27:44.462467: I tensorflow/core/kernels/data/shuffle_dataset_op.cc:177] Filling up shuffle buffer (this may take a while): 43743 of 70504\n",
      "2022-01-02 09:27:54.462255: I tensorflow/core/kernels/data/shuffle_dataset_op.cc:177] Filling up shuffle buffer (this may take a while): 54756 of 70504\n",
      "2022-01-02 09:28:04.461666: I tensorflow/core/kernels/data/shuffle_dataset_op.cc:177] Filling up shuffle buffer (this may take a while): 65810 of 70504\n",
      "2022-01-02 09:28:08.690996: I tensorflow/core/kernels/data/shuffle_dataset_op.cc:230] Shuffle buffer filled.\n"
     ]
    },
    {
     "name": "stdout",
     "output_type": "stream",
     "text": [
      "Epoch 139, gen_loss: 13711413.0000, disc_loss: -28112046.0000\n",
      "Time for epoch 139 is 99.2860 sec\n"
     ]
    },
    {
     "name": "stderr",
     "output_type": "stream",
     "text": [
      "2022-01-02 09:28:43.803502: W tensorflow/core/grappler/optimizers/meta_optimizer.cc:153] TF_ENABLE_AUTO_MIXED_PRECISION has no effect.\n",
      "2022-01-02 09:28:43.803555: W tensorflow/core/grappler/optimizers/meta_optimizer.cc:153] TF_ENABLE_AUTO_MIXED_PRECISION has no effect.\n",
      "2022-01-02 09:28:43.803570: W tensorflow/core/grappler/optimizers/meta_optimizer.cc:153] TF_ENABLE_AUTO_MIXED_PRECISION has no effect.\n",
      "2022-01-02 09:28:43.803575: W tensorflow/core/grappler/optimizers/meta_optimizer.cc:153] TF_ENABLE_AUTO_MIXED_PRECISION has no effect.\n",
      "2022-01-02 09:28:53.789424: I tensorflow/core/kernels/data/shuffle_dataset_op.cc:177] Filling up shuffle buffer (this may take a while): 10838 of 70504\n",
      "2022-01-02 09:29:03.790738: I tensorflow/core/kernels/data/shuffle_dataset_op.cc:177] Filling up shuffle buffer (this may take a while): 21820 of 70504\n",
      "2022-01-02 09:29:13.808356: I tensorflow/core/kernels/data/shuffle_dataset_op.cc:177] Filling up shuffle buffer (this may take a while): 32777 of 70504\n",
      "2022-01-02 09:29:23.789164: I tensorflow/core/kernels/data/shuffle_dataset_op.cc:177] Filling up shuffle buffer (this may take a while): 43789 of 70504\n",
      "2022-01-02 09:29:33.789831: I tensorflow/core/kernels/data/shuffle_dataset_op.cc:177] Filling up shuffle buffer (this may take a while): 54743 of 70504\n",
      "2022-01-02 09:29:43.789684: I tensorflow/core/kernels/data/shuffle_dataset_op.cc:177] Filling up shuffle buffer (this may take a while): 65764 of 70504\n",
      "2022-01-02 09:29:48.064380: I tensorflow/core/kernels/data/shuffle_dataset_op.cc:230] Shuffle buffer filled.\n"
     ]
    },
    {
     "name": "stdout",
     "output_type": "stream",
     "text": [
      "Epoch 140, gen_loss: 14095888.0000, disc_loss: -28406238.0000\n",
      "Time for epoch 140 is 99.3056 sec\n"
     ]
    },
    {
     "name": "stderr",
     "output_type": "stream",
     "text": [
      "2022-01-02 09:30:23.147290: W tensorflow/core/grappler/optimizers/meta_optimizer.cc:153] TF_ENABLE_AUTO_MIXED_PRECISION has no effect.\n",
      "2022-01-02 09:30:23.147342: W tensorflow/core/grappler/optimizers/meta_optimizer.cc:153] TF_ENABLE_AUTO_MIXED_PRECISION has no effect.\n",
      "2022-01-02 09:30:23.147356: W tensorflow/core/grappler/optimizers/meta_optimizer.cc:153] TF_ENABLE_AUTO_MIXED_PRECISION has no effect.\n",
      "2022-01-02 09:30:23.147361: W tensorflow/core/grappler/optimizers/meta_optimizer.cc:153] TF_ENABLE_AUTO_MIXED_PRECISION has no effect.\n",
      "2022-01-02 09:30:33.136247: I tensorflow/core/kernels/data/shuffle_dataset_op.cc:177] Filling up shuffle buffer (this may take a while): 10806 of 70504\n",
      "2022-01-02 09:30:43.137044: I tensorflow/core/kernels/data/shuffle_dataset_op.cc:177] Filling up shuffle buffer (this may take a while): 21817 of 70504\n",
      "2022-01-02 09:30:53.137768: I tensorflow/core/kernels/data/shuffle_dataset_op.cc:177] Filling up shuffle buffer (this may take a while): 32782 of 70504\n",
      "2022-01-02 09:31:03.137272: I tensorflow/core/kernels/data/shuffle_dataset_op.cc:177] Filling up shuffle buffer (this may take a while): 43761 of 70504\n",
      "2022-01-02 09:31:13.136779: I tensorflow/core/kernels/data/shuffle_dataset_op.cc:177] Filling up shuffle buffer (this may take a while): 54733 of 70504\n",
      "2022-01-02 09:31:23.136962: I tensorflow/core/kernels/data/shuffle_dataset_op.cc:177] Filling up shuffle buffer (this may take a while): 65791 of 70504\n",
      "2022-01-02 09:31:27.386150: I tensorflow/core/kernels/data/shuffle_dataset_op.cc:230] Shuffle buffer filled.\n"
     ]
    },
    {
     "name": "stdout",
     "output_type": "stream",
     "text": [
      "Epoch 141, gen_loss: 14106495.0000, disc_loss: -29123526.0000\n",
      "Time for epoch 141 is 99.2991 sec\n"
     ]
    },
    {
     "name": "stderr",
     "output_type": "stream",
     "text": [
      "2022-01-02 09:32:02.494216: W tensorflow/core/grappler/optimizers/meta_optimizer.cc:153] TF_ENABLE_AUTO_MIXED_PRECISION has no effect.\n",
      "2022-01-02 09:32:02.494264: W tensorflow/core/grappler/optimizers/meta_optimizer.cc:153] TF_ENABLE_AUTO_MIXED_PRECISION has no effect.\n",
      "2022-01-02 09:32:02.494278: W tensorflow/core/grappler/optimizers/meta_optimizer.cc:153] TF_ENABLE_AUTO_MIXED_PRECISION has no effect.\n",
      "2022-01-02 09:32:02.494284: W tensorflow/core/grappler/optimizers/meta_optimizer.cc:153] TF_ENABLE_AUTO_MIXED_PRECISION has no effect.\n",
      "2022-01-02 09:32:12.477059: I tensorflow/core/kernels/data/shuffle_dataset_op.cc:177] Filling up shuffle buffer (this may take a while): 10674 of 70504\n",
      "2022-01-02 09:32:22.477151: I tensorflow/core/kernels/data/shuffle_dataset_op.cc:177] Filling up shuffle buffer (this may take a while): 21379 of 70504\n",
      "2022-01-02 09:32:32.478283: I tensorflow/core/kernels/data/shuffle_dataset_op.cc:177] Filling up shuffle buffer (this may take a while): 32152 of 70504\n",
      "2022-01-02 09:32:42.477241: I tensorflow/core/kernels/data/shuffle_dataset_op.cc:177] Filling up shuffle buffer (this may take a while): 42936 of 70504\n",
      "2022-01-02 09:32:52.477288: I tensorflow/core/kernels/data/shuffle_dataset_op.cc:177] Filling up shuffle buffer (this may take a while): 53687 of 70504\n",
      "2022-01-02 09:33:02.478835: I tensorflow/core/kernels/data/shuffle_dataset_op.cc:177] Filling up shuffle buffer (this may take a while): 64468 of 70504\n",
      "2022-01-02 09:33:08.084490: I tensorflow/core/kernels/data/shuffle_dataset_op.cc:230] Shuffle buffer filled.\n"
     ]
    },
    {
     "name": "stdout",
     "output_type": "stream",
     "text": [
      "Epoch 142, gen_loss: 15263937.0000, disc_loss: -30855934.0000\n",
      "Time for epoch 142 is 100.6182 sec\n"
     ]
    },
    {
     "name": "stderr",
     "output_type": "stream",
     "text": [
      "2022-01-02 09:33:43.150704: W tensorflow/core/grappler/optimizers/meta_optimizer.cc:153] TF_ENABLE_AUTO_MIXED_PRECISION has no effect.\n",
      "2022-01-02 09:33:43.150758: W tensorflow/core/grappler/optimizers/meta_optimizer.cc:153] TF_ENABLE_AUTO_MIXED_PRECISION has no effect.\n",
      "2022-01-02 09:33:43.150772: W tensorflow/core/grappler/optimizers/meta_optimizer.cc:153] TF_ENABLE_AUTO_MIXED_PRECISION has no effect.\n",
      "2022-01-02 09:33:43.150777: W tensorflow/core/grappler/optimizers/meta_optimizer.cc:153] TF_ENABLE_AUTO_MIXED_PRECISION has no effect.\n",
      "2022-01-02 09:33:53.138901: I tensorflow/core/kernels/data/shuffle_dataset_op.cc:177] Filling up shuffle buffer (this may take a while): 10850 of 70504\n",
      "2022-01-02 09:34:03.138396: I tensorflow/core/kernels/data/shuffle_dataset_op.cc:177] Filling up shuffle buffer (this may take a while): 21837 of 70504\n",
      "2022-01-02 09:34:13.139039: I tensorflow/core/kernels/data/shuffle_dataset_op.cc:177] Filling up shuffle buffer (this may take a while): 32770 of 70504\n",
      "2022-01-02 09:34:23.137557: I tensorflow/core/kernels/data/shuffle_dataset_op.cc:177] Filling up shuffle buffer (this may take a while): 43789 of 70504\n",
      "2022-01-02 09:34:33.138769: I tensorflow/core/kernels/data/shuffle_dataset_op.cc:177] Filling up shuffle buffer (this may take a while): 54767 of 70504\n",
      "2022-01-02 09:34:43.138010: I tensorflow/core/kernels/data/shuffle_dataset_op.cc:177] Filling up shuffle buffer (this may take a while): 65827 of 70504\n",
      "2022-01-02 09:34:47.391538: I tensorflow/core/kernels/data/shuffle_dataset_op.cc:230] Shuffle buffer filled.\n"
     ]
    },
    {
     "name": "stdout",
     "output_type": "stream",
     "text": [
      "Epoch 143, gen_loss: 15972296.0000, disc_loss: -31730578.0000\n",
      "Time for epoch 143 is 99.3201 sec\n"
     ]
    },
    {
     "name": "stderr",
     "output_type": "stream",
     "text": [
      "2022-01-02 09:35:22.510255: W tensorflow/core/grappler/optimizers/meta_optimizer.cc:153] TF_ENABLE_AUTO_MIXED_PRECISION has no effect.\n",
      "2022-01-02 09:35:22.510306: W tensorflow/core/grappler/optimizers/meta_optimizer.cc:153] TF_ENABLE_AUTO_MIXED_PRECISION has no effect.\n",
      "2022-01-02 09:35:22.510320: W tensorflow/core/grappler/optimizers/meta_optimizer.cc:153] TF_ENABLE_AUTO_MIXED_PRECISION has no effect.\n",
      "2022-01-02 09:35:22.510326: W tensorflow/core/grappler/optimizers/meta_optimizer.cc:153] TF_ENABLE_AUTO_MIXED_PRECISION has no effect.\n",
      "2022-01-02 09:35:32.499799: I tensorflow/core/kernels/data/shuffle_dataset_op.cc:177] Filling up shuffle buffer (this may take a while): 10567 of 70504\n",
      "2022-01-02 09:35:42.498521: I tensorflow/core/kernels/data/shuffle_dataset_op.cc:177] Filling up shuffle buffer (this may take a while): 21280 of 70504\n",
      "2022-01-02 09:35:52.499018: I tensorflow/core/kernels/data/shuffle_dataset_op.cc:177] Filling up shuffle buffer (this may take a while): 32016 of 70504\n",
      "2022-01-02 09:36:02.498480: I tensorflow/core/kernels/data/shuffle_dataset_op.cc:177] Filling up shuffle buffer (this may take a while): 42784 of 70504\n",
      "2022-01-02 09:36:12.498940: I tensorflow/core/kernels/data/shuffle_dataset_op.cc:177] Filling up shuffle buffer (this may take a while): 53467 of 70504\n",
      "2022-01-02 09:36:22.499658: I tensorflow/core/kernels/data/shuffle_dataset_op.cc:177] Filling up shuffle buffer (this may take a while): 64311 of 70504\n",
      "2022-01-02 09:36:28.228382: I tensorflow/core/kernels/data/shuffle_dataset_op.cc:230] Shuffle buffer filled.\n"
     ]
    },
    {
     "name": "stdout",
     "output_type": "stream",
     "text": [
      "Epoch 144, gen_loss: 16109122.0000, disc_loss: -32367058.0000\n",
      "Time for epoch 144 is 100.7631 sec\n"
     ]
    },
    {
     "name": "stderr",
     "output_type": "stream",
     "text": [
      "2022-01-02 09:37:03.321346: W tensorflow/core/grappler/optimizers/meta_optimizer.cc:153] TF_ENABLE_AUTO_MIXED_PRECISION has no effect.\n",
      "2022-01-02 09:37:03.321391: W tensorflow/core/grappler/optimizers/meta_optimizer.cc:153] TF_ENABLE_AUTO_MIXED_PRECISION has no effect.\n",
      "2022-01-02 09:37:03.321406: W tensorflow/core/grappler/optimizers/meta_optimizer.cc:153] TF_ENABLE_AUTO_MIXED_PRECISION has no effect.\n",
      "2022-01-02 09:37:03.321411: W tensorflow/core/grappler/optimizers/meta_optimizer.cc:153] TF_ENABLE_AUTO_MIXED_PRECISION has no effect.\n",
      "2022-01-02 09:37:13.304617: I tensorflow/core/kernels/data/shuffle_dataset_op.cc:177] Filling up shuffle buffer (this may take a while): 10621 of 70504\n",
      "2022-01-02 09:37:23.304489: I tensorflow/core/kernels/data/shuffle_dataset_op.cc:177] Filling up shuffle buffer (this may take a while): 21362 of 70504\n",
      "2022-01-02 09:37:33.304428: I tensorflow/core/kernels/data/shuffle_dataset_op.cc:177] Filling up shuffle buffer (this may take a while): 32113 of 70504\n",
      "2022-01-02 09:37:43.304273: I tensorflow/core/kernels/data/shuffle_dataset_op.cc:177] Filling up shuffle buffer (this may take a while): 42751 of 70504\n",
      "2022-01-02 09:37:53.304751: I tensorflow/core/kernels/data/shuffle_dataset_op.cc:177] Filling up shuffle buffer (this may take a while): 53469 of 70504\n",
      "2022-01-02 09:38:03.303640: I tensorflow/core/kernels/data/shuffle_dataset_op.cc:177] Filling up shuffle buffer (this may take a while): 64174 of 70504\n",
      "2022-01-02 09:38:09.214453: I tensorflow/core/kernels/data/shuffle_dataset_op.cc:230] Shuffle buffer filled.\n"
     ]
    },
    {
     "name": "stdout",
     "output_type": "stream",
     "text": [
      "Epoch 145, gen_loss: 16818822.0000, disc_loss: -33488192.0000\n",
      "Time for epoch 145 is 100.9683 sec\n"
     ]
    },
    {
     "name": "stderr",
     "output_type": "stream",
     "text": [
      "2022-01-02 09:38:44.326479: W tensorflow/core/grappler/optimizers/meta_optimizer.cc:153] TF_ENABLE_AUTO_MIXED_PRECISION has no effect.\n",
      "2022-01-02 09:38:44.326530: W tensorflow/core/grappler/optimizers/meta_optimizer.cc:153] TF_ENABLE_AUTO_MIXED_PRECISION has no effect.\n",
      "2022-01-02 09:38:44.326544: W tensorflow/core/grappler/optimizers/meta_optimizer.cc:153] TF_ENABLE_AUTO_MIXED_PRECISION has no effect.\n",
      "2022-01-02 09:38:44.326550: W tensorflow/core/grappler/optimizers/meta_optimizer.cc:153] TF_ENABLE_AUTO_MIXED_PRECISION has no effect.\n",
      "2022-01-02 09:38:54.314227: I tensorflow/core/kernels/data/shuffle_dataset_op.cc:177] Filling up shuffle buffer (this may take a while): 10803 of 70504\n",
      "2022-01-02 09:39:04.313961: I tensorflow/core/kernels/data/shuffle_dataset_op.cc:177] Filling up shuffle buffer (this may take a while): 21762 of 70504\n",
      "2022-01-02 09:39:14.314240: I tensorflow/core/kernels/data/shuffle_dataset_op.cc:177] Filling up shuffle buffer (this may take a while): 32681 of 70504\n",
      "2022-01-02 09:39:24.314490: I tensorflow/core/kernels/data/shuffle_dataset_op.cc:177] Filling up shuffle buffer (this may take a while): 43643 of 70504\n",
      "2022-01-02 09:39:34.314328: I tensorflow/core/kernels/data/shuffle_dataset_op.cc:177] Filling up shuffle buffer (this may take a while): 54617 of 70504\n",
      "2022-01-02 09:39:44.314245: I tensorflow/core/kernels/data/shuffle_dataset_op.cc:177] Filling up shuffle buffer (this may take a while): 65657 of 70504\n",
      "2022-01-02 09:39:48.683265: I tensorflow/core/kernels/data/shuffle_dataset_op.cc:230] Shuffle buffer filled.\n"
     ]
    },
    {
     "name": "stdout",
     "output_type": "stream",
     "text": [
      "Epoch 146, gen_loss: 17470340.0000, disc_loss: -34585908.0000\n",
      "Time for epoch 146 is 99.4112 sec\n"
     ]
    },
    {
     "name": "stderr",
     "output_type": "stream",
     "text": [
      "2022-01-02 09:40:23.783230: W tensorflow/core/grappler/optimizers/meta_optimizer.cc:153] TF_ENABLE_AUTO_MIXED_PRECISION has no effect.\n",
      "2022-01-02 09:40:23.783285: W tensorflow/core/grappler/optimizers/meta_optimizer.cc:153] TF_ENABLE_AUTO_MIXED_PRECISION has no effect.\n",
      "2022-01-02 09:40:23.783299: W tensorflow/core/grappler/optimizers/meta_optimizer.cc:153] TF_ENABLE_AUTO_MIXED_PRECISION has no effect.\n",
      "2022-01-02 09:40:23.783304: W tensorflow/core/grappler/optimizers/meta_optimizer.cc:153] TF_ENABLE_AUTO_MIXED_PRECISION has no effect.\n",
      "2022-01-02 09:40:33.767782: I tensorflow/core/kernels/data/shuffle_dataset_op.cc:177] Filling up shuffle buffer (this may take a while): 10635 of 70504\n",
      "2022-01-02 09:40:43.767446: I tensorflow/core/kernels/data/shuffle_dataset_op.cc:177] Filling up shuffle buffer (this may take a while): 21378 of 70504\n",
      "2022-01-02 09:40:53.767859: I tensorflow/core/kernels/data/shuffle_dataset_op.cc:177] Filling up shuffle buffer (this may take a while): 32112 of 70504\n",
      "2022-01-02 09:41:03.767413: I tensorflow/core/kernels/data/shuffle_dataset_op.cc:177] Filling up shuffle buffer (this may take a while): 42898 of 70504\n",
      "2022-01-02 09:41:13.767961: I tensorflow/core/kernels/data/shuffle_dataset_op.cc:177] Filling up shuffle buffer (this may take a while): 53648 of 70504\n",
      "2022-01-02 09:41:23.767358: I tensorflow/core/kernels/data/shuffle_dataset_op.cc:177] Filling up shuffle buffer (this may take a while): 64452 of 70504\n",
      "2022-01-02 09:41:29.343594: I tensorflow/core/kernels/data/shuffle_dataset_op.cc:230] Shuffle buffer filled.\n"
     ]
    },
    {
     "name": "stdout",
     "output_type": "stream",
     "text": [
      "Epoch 147, gen_loss: 17094952.0000, disc_loss: -34315036.0000\n",
      "Time for epoch 147 is 100.5973 sec\n"
     ]
    },
    {
     "name": "stderr",
     "output_type": "stream",
     "text": [
      "2022-01-02 09:42:04.422914: W tensorflow/core/grappler/optimizers/meta_optimizer.cc:153] TF_ENABLE_AUTO_MIXED_PRECISION has no effect.\n",
      "2022-01-02 09:42:04.422965: W tensorflow/core/grappler/optimizers/meta_optimizer.cc:153] TF_ENABLE_AUTO_MIXED_PRECISION has no effect.\n",
      "2022-01-02 09:42:04.422979: W tensorflow/core/grappler/optimizers/meta_optimizer.cc:153] TF_ENABLE_AUTO_MIXED_PRECISION has no effect.\n",
      "2022-01-02 09:42:04.422985: W tensorflow/core/grappler/optimizers/meta_optimizer.cc:153] TF_ENABLE_AUTO_MIXED_PRECISION has no effect.\n",
      "2022-01-02 09:42:14.408690: I tensorflow/core/kernels/data/shuffle_dataset_op.cc:177] Filling up shuffle buffer (this may take a while): 10542 of 70504\n",
      "2022-01-02 09:42:24.408081: I tensorflow/core/kernels/data/shuffle_dataset_op.cc:177] Filling up shuffle buffer (this may take a while): 21269 of 70504\n",
      "2022-01-02 09:42:34.425017: I tensorflow/core/kernels/data/shuffle_dataset_op.cc:177] Filling up shuffle buffer (this may take a while): 32009 of 70504\n",
      "2022-01-02 09:42:44.408142: I tensorflow/core/kernels/data/shuffle_dataset_op.cc:177] Filling up shuffle buffer (this may take a while): 42791 of 70504\n",
      "2022-01-02 09:42:54.409277: I tensorflow/core/kernels/data/shuffle_dataset_op.cc:177] Filling up shuffle buffer (this may take a while): 53488 of 70504\n",
      "2022-01-02 09:43:04.408630: I tensorflow/core/kernels/data/shuffle_dataset_op.cc:177] Filling up shuffle buffer (this may take a while): 64253 of 70504\n",
      "2022-01-02 09:43:10.212461: I tensorflow/core/kernels/data/shuffle_dataset_op.cc:230] Shuffle buffer filled.\n"
     ]
    },
    {
     "name": "stdout",
     "output_type": "stream",
     "text": [
      "Epoch 148, gen_loss: 17614156.0000, disc_loss: -35734444.0000\n",
      "Time for epoch 148 is 100.7559 sec\n"
     ]
    },
    {
     "name": "stderr",
     "output_type": "stream",
     "text": [
      "2022-01-02 09:43:45.220562: W tensorflow/core/grappler/optimizers/meta_optimizer.cc:153] TF_ENABLE_AUTO_MIXED_PRECISION has no effect.\n",
      "2022-01-02 09:43:45.220606: W tensorflow/core/grappler/optimizers/meta_optimizer.cc:153] TF_ENABLE_AUTO_MIXED_PRECISION has no effect.\n",
      "2022-01-02 09:43:45.220620: W tensorflow/core/grappler/optimizers/meta_optimizer.cc:153] TF_ENABLE_AUTO_MIXED_PRECISION has no effect.\n",
      "2022-01-02 09:43:45.220625: W tensorflow/core/grappler/optimizers/meta_optimizer.cc:153] TF_ENABLE_AUTO_MIXED_PRECISION has no effect.\n",
      "2022-01-02 09:43:55.205873: I tensorflow/core/kernels/data/shuffle_dataset_op.cc:177] Filling up shuffle buffer (this may take a while): 10552 of 70504\n",
      "2022-01-02 09:44:05.205743: I tensorflow/core/kernels/data/shuffle_dataset_op.cc:177] Filling up shuffle buffer (this may take a while): 21230 of 70504\n",
      "2022-01-02 09:44:15.206485: I tensorflow/core/kernels/data/shuffle_dataset_op.cc:177] Filling up shuffle buffer (this may take a while): 31900 of 70504\n",
      "2022-01-02 09:44:25.207289: I tensorflow/core/kernels/data/shuffle_dataset_op.cc:177] Filling up shuffle buffer (this may take a while): 42676 of 70504\n",
      "2022-01-02 09:44:35.205641: I tensorflow/core/kernels/data/shuffle_dataset_op.cc:177] Filling up shuffle buffer (this may take a while): 53404 of 70504\n",
      "2022-01-02 09:44:45.206092: I tensorflow/core/kernels/data/shuffle_dataset_op.cc:177] Filling up shuffle buffer (this may take a while): 64175 of 70504\n",
      "2022-01-02 09:44:51.047845: I tensorflow/core/kernels/data/shuffle_dataset_op.cc:230] Shuffle buffer filled.\n"
     ]
    },
    {
     "name": "stdout",
     "output_type": "stream",
     "text": [
      "Epoch 149, gen_loss: 18423710.0000, disc_loss: -36513464.0000\n",
      "Time for epoch 149 is 100.8292 sec\n"
     ]
    },
    {
     "name": "stderr",
     "output_type": "stream",
     "text": [
      "2022-01-02 09:45:26.093652: W tensorflow/core/grappler/optimizers/meta_optimizer.cc:153] TF_ENABLE_AUTO_MIXED_PRECISION has no effect.\n",
      "2022-01-02 09:45:26.093697: W tensorflow/core/grappler/optimizers/meta_optimizer.cc:153] TF_ENABLE_AUTO_MIXED_PRECISION has no effect.\n",
      "2022-01-02 09:45:26.093711: W tensorflow/core/grappler/optimizers/meta_optimizer.cc:153] TF_ENABLE_AUTO_MIXED_PRECISION has no effect.\n",
      "2022-01-02 09:45:26.093717: W tensorflow/core/grappler/optimizers/meta_optimizer.cc:153] TF_ENABLE_AUTO_MIXED_PRECISION has no effect.\n",
      "2022-01-02 09:45:36.079260: I tensorflow/core/kernels/data/shuffle_dataset_op.cc:177] Filling up shuffle buffer (this may take a while): 10815 of 70504\n",
      "2022-01-02 09:45:46.080080: I tensorflow/core/kernels/data/shuffle_dataset_op.cc:177] Filling up shuffle buffer (this may take a while): 21743 of 70504\n",
      "2022-01-02 09:45:56.078489: I tensorflow/core/kernels/data/shuffle_dataset_op.cc:177] Filling up shuffle buffer (this may take a while): 32688 of 70504\n",
      "2022-01-02 09:46:06.079153: I tensorflow/core/kernels/data/shuffle_dataset_op.cc:177] Filling up shuffle buffer (this may take a while): 43690 of 70504\n",
      "2022-01-02 09:46:16.079682: I tensorflow/core/kernels/data/shuffle_dataset_op.cc:177] Filling up shuffle buffer (this may take a while): 54686 of 70504\n",
      "2022-01-02 09:46:26.080698: I tensorflow/core/kernels/data/shuffle_dataset_op.cc:177] Filling up shuffle buffer (this may take a while): 65756 of 70504\n",
      "2022-01-02 09:46:30.363575: I tensorflow/core/kernels/data/shuffle_dataset_op.cc:230] Shuffle buffer filled.\n"
     ]
    },
    {
     "name": "stdout",
     "output_type": "stream",
     "text": [
      "Epoch 150, gen_loss: 18116806.0000, disc_loss: -36814308.0000\n",
      "Time for epoch 150 is 99.3071 sec\n"
     ]
    },
    {
     "name": "stderr",
     "output_type": "stream",
     "text": [
      "2022-01-02 09:47:05.607671: W tensorflow/core/grappler/optimizers/meta_optimizer.cc:153] TF_ENABLE_AUTO_MIXED_PRECISION has no effect.\n",
      "2022-01-02 09:47:05.607724: W tensorflow/core/grappler/optimizers/meta_optimizer.cc:153] TF_ENABLE_AUTO_MIXED_PRECISION has no effect.\n",
      "2022-01-02 09:47:05.607738: W tensorflow/core/grappler/optimizers/meta_optimizer.cc:153] TF_ENABLE_AUTO_MIXED_PRECISION has no effect.\n",
      "2022-01-02 09:47:05.607743: W tensorflow/core/grappler/optimizers/meta_optimizer.cc:153] TF_ENABLE_AUTO_MIXED_PRECISION has no effect.\n",
      "2022-01-02 09:47:15.593936: I tensorflow/core/kernels/data/shuffle_dataset_op.cc:177] Filling up shuffle buffer (this may take a while): 10827 of 70504\n",
      "2022-01-02 09:47:25.593647: I tensorflow/core/kernels/data/shuffle_dataset_op.cc:177] Filling up shuffle buffer (this may take a while): 21826 of 70504\n",
      "2022-01-02 09:47:35.594135: I tensorflow/core/kernels/data/shuffle_dataset_op.cc:177] Filling up shuffle buffer (this may take a while): 32751 of 70504\n",
      "2022-01-02 09:47:45.593547: I tensorflow/core/kernels/data/shuffle_dataset_op.cc:177] Filling up shuffle buffer (this may take a while): 43771 of 70504\n",
      "2022-01-02 09:47:55.593164: I tensorflow/core/kernels/data/shuffle_dataset_op.cc:177] Filling up shuffle buffer (this may take a while): 54773 of 70504\n",
      "2022-01-02 09:48:05.593231: I tensorflow/core/kernels/data/shuffle_dataset_op.cc:177] Filling up shuffle buffer (this may take a while): 65862 of 70504\n",
      "2022-01-02 09:48:09.800282: I tensorflow/core/kernels/data/shuffle_dataset_op.cc:230] Shuffle buffer filled.\n"
     ]
    },
    {
     "name": "stdout",
     "output_type": "stream",
     "text": [
      "Epoch 151, gen_loss: 18196534.0000, disc_loss: -37313692.0000\n",
      "Time for epoch 151 is 99.2728 sec\n"
     ]
    },
    {
     "name": "stderr",
     "output_type": "stream",
     "text": [
      "2022-01-02 09:48:44.920841: W tensorflow/core/grappler/optimizers/meta_optimizer.cc:153] TF_ENABLE_AUTO_MIXED_PRECISION has no effect.\n",
      "2022-01-02 09:48:44.920893: W tensorflow/core/grappler/optimizers/meta_optimizer.cc:153] TF_ENABLE_AUTO_MIXED_PRECISION has no effect.\n",
      "2022-01-02 09:48:44.920907: W tensorflow/core/grappler/optimizers/meta_optimizer.cc:153] TF_ENABLE_AUTO_MIXED_PRECISION has no effect.\n",
      "2022-01-02 09:48:44.920912: W tensorflow/core/grappler/optimizers/meta_optimizer.cc:153] TF_ENABLE_AUTO_MIXED_PRECISION has no effect.\n",
      "2022-01-02 09:48:54.908118: I tensorflow/core/kernels/data/shuffle_dataset_op.cc:177] Filling up shuffle buffer (this may take a while): 10836 of 70504\n",
      "2022-01-02 09:49:04.907878: I tensorflow/core/kernels/data/shuffle_dataset_op.cc:177] Filling up shuffle buffer (this may take a while): 21829 of 70504\n",
      "2022-01-02 09:49:14.908104: I tensorflow/core/kernels/data/shuffle_dataset_op.cc:177] Filling up shuffle buffer (this may take a while): 32753 of 70504\n",
      "2022-01-02 09:49:24.907529: I tensorflow/core/kernels/data/shuffle_dataset_op.cc:177] Filling up shuffle buffer (this may take a while): 43735 of 70504\n",
      "2022-01-02 09:49:34.908874: I tensorflow/core/kernels/data/shuffle_dataset_op.cc:177] Filling up shuffle buffer (this may take a while): 54725 of 70504\n",
      "2022-01-02 09:49:44.908536: I tensorflow/core/kernels/data/shuffle_dataset_op.cc:177] Filling up shuffle buffer (this may take a while): 65805 of 70504\n",
      "2022-01-02 09:49:49.140859: I tensorflow/core/kernels/data/shuffle_dataset_op.cc:230] Shuffle buffer filled.\n"
     ]
    },
    {
     "name": "stdout",
     "output_type": "stream",
     "text": [
      "Epoch 152, gen_loss: 19926016.0000, disc_loss: -39621808.0000\n",
      "Time for epoch 152 is 99.2990 sec\n"
     ]
    },
    {
     "name": "stderr",
     "output_type": "stream",
     "text": [
      "2022-01-02 09:50:24.263037: W tensorflow/core/grappler/optimizers/meta_optimizer.cc:153] TF_ENABLE_AUTO_MIXED_PRECISION has no effect.\n",
      "2022-01-02 09:50:24.263408: W tensorflow/core/grappler/optimizers/meta_optimizer.cc:153] TF_ENABLE_AUTO_MIXED_PRECISION has no effect.\n",
      "2022-01-02 09:50:24.263588: W tensorflow/core/grappler/optimizers/meta_optimizer.cc:153] TF_ENABLE_AUTO_MIXED_PRECISION has no effect.\n",
      "2022-01-02 09:50:24.263747: W tensorflow/core/grappler/optimizers/meta_optimizer.cc:153] TF_ENABLE_AUTO_MIXED_PRECISION has no effect.\n",
      "2022-01-02 09:50:34.251344: I tensorflow/core/kernels/data/shuffle_dataset_op.cc:177] Filling up shuffle buffer (this may take a while): 10754 of 70504\n",
      "2022-01-02 09:50:44.252045: I tensorflow/core/kernels/data/shuffle_dataset_op.cc:177] Filling up shuffle buffer (this may take a while): 21669 of 70504\n",
      "2022-01-02 09:50:54.251664: I tensorflow/core/kernels/data/shuffle_dataset_op.cc:177] Filling up shuffle buffer (this may take a while): 32606 of 70504\n",
      "2022-01-02 09:51:04.252146: I tensorflow/core/kernels/data/shuffle_dataset_op.cc:177] Filling up shuffle buffer (this may take a while): 43560 of 70504\n",
      "2022-01-02 09:51:14.252118: I tensorflow/core/kernels/data/shuffle_dataset_op.cc:177] Filling up shuffle buffer (this may take a while): 54489 of 70504\n",
      "2022-01-02 09:51:24.251690: I tensorflow/core/kernels/data/shuffle_dataset_op.cc:177] Filling up shuffle buffer (this may take a while): 65537 of 70504\n",
      "2022-01-02 09:51:28.752280: I tensorflow/core/kernels/data/shuffle_dataset_op.cc:230] Shuffle buffer filled.\n"
     ]
    },
    {
     "name": "stdout",
     "output_type": "stream",
     "text": [
      "Epoch 153, gen_loss: 19715402.0000, disc_loss: -39222324.0000\n",
      "Time for epoch 153 is 99.5595 sec\n"
     ]
    },
    {
     "name": "stderr",
     "output_type": "stream",
     "text": [
      "2022-01-02 09:52:03.866675: W tensorflow/core/grappler/optimizers/meta_optimizer.cc:153] TF_ENABLE_AUTO_MIXED_PRECISION has no effect.\n",
      "2022-01-02 09:52:03.866726: W tensorflow/core/grappler/optimizers/meta_optimizer.cc:153] TF_ENABLE_AUTO_MIXED_PRECISION has no effect.\n",
      "2022-01-02 09:52:03.866740: W tensorflow/core/grappler/optimizers/meta_optimizer.cc:153] TF_ENABLE_AUTO_MIXED_PRECISION has no effect.\n",
      "2022-01-02 09:52:03.866745: W tensorflow/core/grappler/optimizers/meta_optimizer.cc:153] TF_ENABLE_AUTO_MIXED_PRECISION has no effect.\n",
      "2022-01-02 09:52:13.850972: I tensorflow/core/kernels/data/shuffle_dataset_op.cc:177] Filling up shuffle buffer (this may take a while): 10603 of 70504\n",
      "2022-01-02 09:52:23.851488: I tensorflow/core/kernels/data/shuffle_dataset_op.cc:177] Filling up shuffle buffer (this may take a while): 21320 of 70504\n",
      "2022-01-02 09:52:33.864343: I tensorflow/core/kernels/data/shuffle_dataset_op.cc:177] Filling up shuffle buffer (this may take a while): 31994 of 70504\n",
      "2022-01-02 09:52:43.851708: I tensorflow/core/kernels/data/shuffle_dataset_op.cc:177] Filling up shuffle buffer (this may take a while): 42812 of 70504\n",
      "2022-01-02 09:52:53.851875: I tensorflow/core/kernels/data/shuffle_dataset_op.cc:177] Filling up shuffle buffer (this may take a while): 53553 of 70504\n",
      "2022-01-02 09:53:03.854111: I tensorflow/core/kernels/data/shuffle_dataset_op.cc:177] Filling up shuffle buffer (this may take a while): 64394 of 70504\n",
      "2022-01-02 09:53:09.460694: I tensorflow/core/kernels/data/shuffle_dataset_op.cc:230] Shuffle buffer filled.\n"
     ]
    },
    {
     "name": "stdout",
     "output_type": "stream",
     "text": [
      "Epoch 154, gen_loss: 20644736.0000, disc_loss: -40650488.0000\n",
      "Time for epoch 154 is 100.6036 sec\n"
     ]
    },
    {
     "name": "stderr",
     "output_type": "stream",
     "text": [
      "2022-01-02 09:53:44.515541: W tensorflow/core/grappler/optimizers/meta_optimizer.cc:153] TF_ENABLE_AUTO_MIXED_PRECISION has no effect.\n",
      "2022-01-02 09:53:44.515593: W tensorflow/core/grappler/optimizers/meta_optimizer.cc:153] TF_ENABLE_AUTO_MIXED_PRECISION has no effect.\n",
      "2022-01-02 09:53:44.515608: W tensorflow/core/grappler/optimizers/meta_optimizer.cc:153] TF_ENABLE_AUTO_MIXED_PRECISION has no effect.\n",
      "2022-01-02 09:53:44.515614: W tensorflow/core/grappler/optimizers/meta_optimizer.cc:153] TF_ENABLE_AUTO_MIXED_PRECISION has no effect.\n",
      "2022-01-02 09:53:54.496229: I tensorflow/core/kernels/data/shuffle_dataset_op.cc:177] Filling up shuffle buffer (this may take a while): 10812 of 70504\n",
      "2022-01-02 09:54:04.496585: I tensorflow/core/kernels/data/shuffle_dataset_op.cc:177] Filling up shuffle buffer (this may take a while): 21786 of 70504\n",
      "2022-01-02 09:54:14.497705: I tensorflow/core/kernels/data/shuffle_dataset_op.cc:177] Filling up shuffle buffer (this may take a while): 32743 of 70504\n",
      "2022-01-02 09:54:24.496460: I tensorflow/core/kernels/data/shuffle_dataset_op.cc:177] Filling up shuffle buffer (this may take a while): 43731 of 70504\n",
      "2022-01-02 09:54:34.497145: I tensorflow/core/kernels/data/shuffle_dataset_op.cc:177] Filling up shuffle buffer (this may take a while): 54669 of 70504\n",
      "2022-01-02 09:54:44.497319: I tensorflow/core/kernels/data/shuffle_dataset_op.cc:177] Filling up shuffle buffer (this may take a while): 65732 of 70504\n",
      "2022-01-02 09:54:48.828824: I tensorflow/core/kernels/data/shuffle_dataset_op.cc:230] Shuffle buffer filled.\n"
     ]
    },
    {
     "name": "stdout",
     "output_type": "stream",
     "text": [
      "Epoch 155, gen_loss: 20188410.0000, disc_loss: -40955344.0000\n",
      "Time for epoch 155 is 99.3772 sec\n"
     ]
    },
    {
     "name": "stderr",
     "output_type": "stream",
     "text": [
      "2022-01-02 09:55:23.930426: W tensorflow/core/grappler/optimizers/meta_optimizer.cc:153] TF_ENABLE_AUTO_MIXED_PRECISION has no effect.\n",
      "2022-01-02 09:55:23.930479: W tensorflow/core/grappler/optimizers/meta_optimizer.cc:153] TF_ENABLE_AUTO_MIXED_PRECISION has no effect.\n",
      "2022-01-02 09:55:23.930493: W tensorflow/core/grappler/optimizers/meta_optimizer.cc:153] TF_ENABLE_AUTO_MIXED_PRECISION has no effect.\n",
      "2022-01-02 09:55:23.930499: W tensorflow/core/grappler/optimizers/meta_optimizer.cc:153] TF_ENABLE_AUTO_MIXED_PRECISION has no effect.\n",
      "2022-01-02 09:55:33.916131: I tensorflow/core/kernels/data/shuffle_dataset_op.cc:177] Filling up shuffle buffer (this may take a while): 10777 of 70504\n",
      "2022-01-02 09:55:43.916221: I tensorflow/core/kernels/data/shuffle_dataset_op.cc:177] Filling up shuffle buffer (this may take a while): 21766 of 70504\n",
      "2022-01-02 09:55:53.915585: I tensorflow/core/kernels/data/shuffle_dataset_op.cc:177] Filling up shuffle buffer (this may take a while): 32710 of 70504\n",
      "2022-01-02 09:56:03.916172: I tensorflow/core/kernels/data/shuffle_dataset_op.cc:177] Filling up shuffle buffer (this may take a while): 43692 of 70504\n",
      "2022-01-02 09:56:13.916417: I tensorflow/core/kernels/data/shuffle_dataset_op.cc:177] Filling up shuffle buffer (this may take a while): 54670 of 70504\n",
      "2022-01-02 09:56:23.917473: I tensorflow/core/kernels/data/shuffle_dataset_op.cc:177] Filling up shuffle buffer (this may take a while): 65755 of 70504\n",
      "2022-01-02 09:56:28.199033: I tensorflow/core/kernels/data/shuffle_dataset_op.cc:230] Shuffle buffer filled.\n"
     ]
    },
    {
     "name": "stdout",
     "output_type": "stream",
     "text": [
      "Epoch 156, gen_loss: 21532204.0000, disc_loss: -42938016.0000\n",
      "Time for epoch 156 is 99.3234 sec\n"
     ]
    },
    {
     "name": "stderr",
     "output_type": "stream",
     "text": [
      "2022-01-02 09:57:03.295089: W tensorflow/core/grappler/optimizers/meta_optimizer.cc:153] TF_ENABLE_AUTO_MIXED_PRECISION has no effect.\n",
      "2022-01-02 09:57:03.295140: W tensorflow/core/grappler/optimizers/meta_optimizer.cc:153] TF_ENABLE_AUTO_MIXED_PRECISION has no effect.\n",
      "2022-01-02 09:57:03.295154: W tensorflow/core/grappler/optimizers/meta_optimizer.cc:153] TF_ENABLE_AUTO_MIXED_PRECISION has no effect.\n",
      "2022-01-02 09:57:03.295159: W tensorflow/core/grappler/optimizers/meta_optimizer.cc:153] TF_ENABLE_AUTO_MIXED_PRECISION has no effect.\n",
      "2022-01-02 09:57:13.279745: I tensorflow/core/kernels/data/shuffle_dataset_op.cc:177] Filling up shuffle buffer (this may take a while): 10809 of 70504\n",
      "2022-01-02 09:57:23.280361: I tensorflow/core/kernels/data/shuffle_dataset_op.cc:177] Filling up shuffle buffer (this may take a while): 21804 of 70504\n",
      "2022-01-02 09:57:33.279772: I tensorflow/core/kernels/data/shuffle_dataset_op.cc:177] Filling up shuffle buffer (this may take a while): 32725 of 70504\n",
      "2022-01-02 09:57:43.280187: I tensorflow/core/kernels/data/shuffle_dataset_op.cc:177] Filling up shuffle buffer (this may take a while): 43716 of 70504\n",
      "2022-01-02 09:57:53.279647: I tensorflow/core/kernels/data/shuffle_dataset_op.cc:177] Filling up shuffle buffer (this may take a while): 54696 of 70504\n",
      "2022-01-02 09:58:03.279990: I tensorflow/core/kernels/data/shuffle_dataset_op.cc:177] Filling up shuffle buffer (this may take a while): 65765 of 70504\n",
      "2022-01-02 09:58:07.564959: I tensorflow/core/kernels/data/shuffle_dataset_op.cc:230] Shuffle buffer filled.\n"
     ]
    },
    {
     "name": "stdout",
     "output_type": "stream",
     "text": [
      "Epoch 157, gen_loss: 21244936.0000, disc_loss: -43142912.0000\n",
      "Time for epoch 157 is 99.3104 sec\n"
     ]
    },
    {
     "name": "stderr",
     "output_type": "stream",
     "text": [
      "2022-01-02 09:58:42.646123: W tensorflow/core/grappler/optimizers/meta_optimizer.cc:153] TF_ENABLE_AUTO_MIXED_PRECISION has no effect.\n",
      "2022-01-02 09:58:42.646168: W tensorflow/core/grappler/optimizers/meta_optimizer.cc:153] TF_ENABLE_AUTO_MIXED_PRECISION has no effect.\n",
      "2022-01-02 09:58:42.646182: W tensorflow/core/grappler/optimizers/meta_optimizer.cc:153] TF_ENABLE_AUTO_MIXED_PRECISION has no effect.\n",
      "2022-01-02 09:58:42.646187: W tensorflow/core/grappler/optimizers/meta_optimizer.cc:153] TF_ENABLE_AUTO_MIXED_PRECISION has no effect.\n",
      "2022-01-02 09:58:52.632889: I tensorflow/core/kernels/data/shuffle_dataset_op.cc:177] Filling up shuffle buffer (this may take a while): 10837 of 70504\n",
      "2022-01-02 09:59:02.633146: I tensorflow/core/kernels/data/shuffle_dataset_op.cc:177] Filling up shuffle buffer (this may take a while): 21828 of 70504\n",
      "2022-01-02 09:59:12.633888: I tensorflow/core/kernels/data/shuffle_dataset_op.cc:177] Filling up shuffle buffer (this may take a while): 32788 of 70504\n",
      "2022-01-02 09:59:22.633164: I tensorflow/core/kernels/data/shuffle_dataset_op.cc:177] Filling up shuffle buffer (this may take a while): 43782 of 70504\n",
      "2022-01-02 09:59:32.632558: I tensorflow/core/kernels/data/shuffle_dataset_op.cc:177] Filling up shuffle buffer (this may take a while): 54728 of 70504\n",
      "2022-01-02 09:59:42.632597: I tensorflow/core/kernels/data/shuffle_dataset_op.cc:177] Filling up shuffle buffer (this may take a while): 65800 of 70504\n",
      "2022-01-02 09:59:46.872034: I tensorflow/core/kernels/data/shuffle_dataset_op.cc:230] Shuffle buffer filled.\n"
     ]
    },
    {
     "name": "stdout",
     "output_type": "stream",
     "text": [
      "Epoch 158, gen_loss: 22768456.0000, disc_loss: -44656564.0000\n",
      "Time for epoch 158 is 99.2220 sec\n"
     ]
    },
    {
     "name": "stderr",
     "output_type": "stream",
     "text": [
      "2022-01-02 10:00:21.910628: W tensorflow/core/grappler/optimizers/meta_optimizer.cc:153] TF_ENABLE_AUTO_MIXED_PRECISION has no effect.\n",
      "2022-01-02 10:00:21.910679: W tensorflow/core/grappler/optimizers/meta_optimizer.cc:153] TF_ENABLE_AUTO_MIXED_PRECISION has no effect.\n",
      "2022-01-02 10:00:21.910693: W tensorflow/core/grappler/optimizers/meta_optimizer.cc:153] TF_ENABLE_AUTO_MIXED_PRECISION has no effect.\n",
      "2022-01-02 10:00:21.910699: W tensorflow/core/grappler/optimizers/meta_optimizer.cc:153] TF_ENABLE_AUTO_MIXED_PRECISION has no effect.\n",
      "2022-01-02 10:00:31.899014: I tensorflow/core/kernels/data/shuffle_dataset_op.cc:177] Filling up shuffle buffer (this may take a while): 10759 of 70504\n",
      "2022-01-02 10:00:41.899061: I tensorflow/core/kernels/data/shuffle_dataset_op.cc:177] Filling up shuffle buffer (this may take a while): 21616 of 70504\n",
      "2022-01-02 10:00:51.898553: I tensorflow/core/kernels/data/shuffle_dataset_op.cc:177] Filling up shuffle buffer (this may take a while): 32564 of 70504\n",
      "2022-01-02 10:01:01.898731: I tensorflow/core/kernels/data/shuffle_dataset_op.cc:177] Filling up shuffle buffer (this may take a while): 43529 of 70504\n",
      "2022-01-02 10:01:11.898955: I tensorflow/core/kernels/data/shuffle_dataset_op.cc:177] Filling up shuffle buffer (this may take a while): 54527 of 70504\n",
      "2022-01-02 10:01:21.898898: I tensorflow/core/kernels/data/shuffle_dataset_op.cc:177] Filling up shuffle buffer (this may take a while): 65589 of 70504\n",
      "2022-01-02 10:01:26.352233: I tensorflow/core/kernels/data/shuffle_dataset_op.cc:230] Shuffle buffer filled.\n"
     ]
    },
    {
     "name": "stdout",
     "output_type": "stream",
     "text": [
      "Epoch 159, gen_loss: 23501228.0000, disc_loss: -46384232.0000\n",
      "Time for epoch 159 is 99.4322 sec\n"
     ]
    },
    {
     "name": "stderr",
     "output_type": "stream",
     "text": [
      "2022-01-02 10:02:01.387650: W tensorflow/core/grappler/optimizers/meta_optimizer.cc:153] TF_ENABLE_AUTO_MIXED_PRECISION has no effect.\n",
      "2022-01-02 10:02:01.387703: W tensorflow/core/grappler/optimizers/meta_optimizer.cc:153] TF_ENABLE_AUTO_MIXED_PRECISION has no effect.\n",
      "2022-01-02 10:02:01.387716: W tensorflow/core/grappler/optimizers/meta_optimizer.cc:153] TF_ENABLE_AUTO_MIXED_PRECISION has no effect.\n",
      "2022-01-02 10:02:01.387722: W tensorflow/core/grappler/optimizers/meta_optimizer.cc:153] TF_ENABLE_AUTO_MIXED_PRECISION has no effect.\n",
      "2022-01-02 10:02:11.372749: I tensorflow/core/kernels/data/shuffle_dataset_op.cc:177] Filling up shuffle buffer (this may take a while): 10564 of 70504\n",
      "2022-01-02 10:02:21.371764: I tensorflow/core/kernels/data/shuffle_dataset_op.cc:177] Filling up shuffle buffer (this may take a while): 21272 of 70504\n",
      "2022-01-02 10:02:31.372053: I tensorflow/core/kernels/data/shuffle_dataset_op.cc:177] Filling up shuffle buffer (this may take a while): 32012 of 70504\n",
      "2022-01-02 10:02:41.371743: I tensorflow/core/kernels/data/shuffle_dataset_op.cc:177] Filling up shuffle buffer (this may take a while): 42759 of 70504\n",
      "2022-01-02 10:02:51.372252: I tensorflow/core/kernels/data/shuffle_dataset_op.cc:177] Filling up shuffle buffer (this may take a while): 53489 of 70504\n",
      "2022-01-02 10:03:01.372046: I tensorflow/core/kernels/data/shuffle_dataset_op.cc:177] Filling up shuffle buffer (this may take a while): 64351 of 70504\n",
      "2022-01-02 10:03:07.043133: I tensorflow/core/kernels/data/shuffle_dataset_op.cc:230] Shuffle buffer filled.\n"
     ]
    },
    {
     "name": "stdout",
     "output_type": "stream",
     "text": [
      "Epoch 160, gen_loss: 23837776.0000, disc_loss: -47493448.0000\n",
      "Time for epoch 160 is 100.6940 sec\n"
     ]
    },
    {
     "name": "stderr",
     "output_type": "stream",
     "text": [
      "2022-01-02 10:03:42.122309: W tensorflow/core/grappler/optimizers/meta_optimizer.cc:153] TF_ENABLE_AUTO_MIXED_PRECISION has no effect.\n",
      "2022-01-02 10:03:42.122358: W tensorflow/core/grappler/optimizers/meta_optimizer.cc:153] TF_ENABLE_AUTO_MIXED_PRECISION has no effect.\n",
      "2022-01-02 10:03:42.122373: W tensorflow/core/grappler/optimizers/meta_optimizer.cc:153] TF_ENABLE_AUTO_MIXED_PRECISION has no effect.\n",
      "2022-01-02 10:03:42.122379: W tensorflow/core/grappler/optimizers/meta_optimizer.cc:153] TF_ENABLE_AUTO_MIXED_PRECISION has no effect.\n",
      "2022-01-02 10:03:52.108160: I tensorflow/core/kernels/data/shuffle_dataset_op.cc:177] Filling up shuffle buffer (this may take a while): 10808 of 70504\n",
      "2022-01-02 10:04:02.108301: I tensorflow/core/kernels/data/shuffle_dataset_op.cc:177] Filling up shuffle buffer (this may take a while): 21758 of 70504\n",
      "2022-01-02 10:04:12.108287: I tensorflow/core/kernels/data/shuffle_dataset_op.cc:177] Filling up shuffle buffer (this may take a while): 32686 of 70504\n",
      "2022-01-02 10:04:22.108828: I tensorflow/core/kernels/data/shuffle_dataset_op.cc:177] Filling up shuffle buffer (this may take a while): 43654 of 70504\n",
      "2022-01-02 10:04:32.108936: I tensorflow/core/kernels/data/shuffle_dataset_op.cc:177] Filling up shuffle buffer (this may take a while): 54622 of 70504\n",
      "2022-01-02 10:04:42.109196: I tensorflow/core/kernels/data/shuffle_dataset_op.cc:177] Filling up shuffle buffer (this may take a while): 65631 of 70504\n",
      "2022-01-02 10:04:46.499205: I tensorflow/core/kernels/data/shuffle_dataset_op.cc:230] Shuffle buffer filled.\n"
     ]
    },
    {
     "name": "stdout",
     "output_type": "stream",
     "text": [
      "Epoch 161, gen_loss: 25109272.0000, disc_loss: -48982212.0000\n",
      "Time for epoch 161 is 99.4427 sec\n"
     ]
    },
    {
     "name": "stderr",
     "output_type": "stream",
     "text": [
      "2022-01-02 10:05:21.601385: W tensorflow/core/grappler/optimizers/meta_optimizer.cc:153] TF_ENABLE_AUTO_MIXED_PRECISION has no effect.\n",
      "2022-01-02 10:05:21.601437: W tensorflow/core/grappler/optimizers/meta_optimizer.cc:153] TF_ENABLE_AUTO_MIXED_PRECISION has no effect.\n",
      "2022-01-02 10:05:21.601451: W tensorflow/core/grappler/optimizers/meta_optimizer.cc:153] TF_ENABLE_AUTO_MIXED_PRECISION has no effect.\n",
      "2022-01-02 10:05:21.601456: W tensorflow/core/grappler/optimizers/meta_optimizer.cc:153] TF_ENABLE_AUTO_MIXED_PRECISION has no effect.\n",
      "2022-01-02 10:05:31.591759: I tensorflow/core/kernels/data/shuffle_dataset_op.cc:177] Filling up shuffle buffer (this may take a while): 10791 of 70504\n",
      "2022-01-02 10:05:41.591046: I tensorflow/core/kernels/data/shuffle_dataset_op.cc:177] Filling up shuffle buffer (this may take a while): 21622 of 70504\n",
      "2022-01-02 10:05:51.592159: I tensorflow/core/kernels/data/shuffle_dataset_op.cc:177] Filling up shuffle buffer (this may take a while): 32544 of 70504\n",
      "2022-01-02 10:06:01.591005: I tensorflow/core/kernels/data/shuffle_dataset_op.cc:177] Filling up shuffle buffer (this may take a while): 43467 of 70504\n",
      "2022-01-02 10:06:11.591584: I tensorflow/core/kernels/data/shuffle_dataset_op.cc:177] Filling up shuffle buffer (this may take a while): 54361 of 70504\n",
      "2022-01-02 10:06:21.591114: I tensorflow/core/kernels/data/shuffle_dataset_op.cc:177] Filling up shuffle buffer (this may take a while): 65371 of 70504\n",
      "2022-01-02 10:06:26.221420: I tensorflow/core/kernels/data/shuffle_dataset_op.cc:230] Shuffle buffer filled.\n"
     ]
    },
    {
     "name": "stdout",
     "output_type": "stream",
     "text": [
      "Epoch 162, gen_loss: 24402598.0000, disc_loss: -48873380.0000\n",
      "Time for epoch 162 is 99.6873 sec\n"
     ]
    },
    {
     "name": "stderr",
     "output_type": "stream",
     "text": [
      "2022-01-02 10:07:01.335566: W tensorflow/core/grappler/optimizers/meta_optimizer.cc:153] TF_ENABLE_AUTO_MIXED_PRECISION has no effect.\n",
      "2022-01-02 10:07:01.335617: W tensorflow/core/grappler/optimizers/meta_optimizer.cc:153] TF_ENABLE_AUTO_MIXED_PRECISION has no effect.\n",
      "2022-01-02 10:07:01.335631: W tensorflow/core/grappler/optimizers/meta_optimizer.cc:153] TF_ENABLE_AUTO_MIXED_PRECISION has no effect.\n",
      "2022-01-02 10:07:01.335636: W tensorflow/core/grappler/optimizers/meta_optimizer.cc:153] TF_ENABLE_AUTO_MIXED_PRECISION has no effect.\n",
      "2022-01-02 10:07:11.322696: I tensorflow/core/kernels/data/shuffle_dataset_op.cc:177] Filling up shuffle buffer (this may take a while): 10557 of 70504\n",
      "2022-01-02 10:07:21.323479: I tensorflow/core/kernels/data/shuffle_dataset_op.cc:177] Filling up shuffle buffer (this may take a while): 21270 of 70504\n",
      "2022-01-02 10:07:31.324102: I tensorflow/core/kernels/data/shuffle_dataset_op.cc:177] Filling up shuffle buffer (this may take a while): 31984 of 70504\n",
      "2022-01-02 10:07:41.323279: I tensorflow/core/kernels/data/shuffle_dataset_op.cc:177] Filling up shuffle buffer (this may take a while): 42699 of 70504\n",
      "2022-01-02 10:07:51.323719: I tensorflow/core/kernels/data/shuffle_dataset_op.cc:177] Filling up shuffle buffer (this may take a while): 53444 of 70504\n",
      "2022-01-02 10:08:01.323218: I tensorflow/core/kernels/data/shuffle_dataset_op.cc:177] Filling up shuffle buffer (this may take a while): 64272 of 70504\n",
      "2022-01-02 10:08:07.081687: I tensorflow/core/kernels/data/shuffle_dataset_op.cc:230] Shuffle buffer filled.\n"
     ]
    },
    {
     "name": "stdout",
     "output_type": "stream",
     "text": [
      "Epoch 163, gen_loss: 25278862.0000, disc_loss: -50623204.0000\n",
      "Time for epoch 163 is 100.8138 sec\n"
     ]
    },
    {
     "name": "stderr",
     "output_type": "stream",
     "text": [
      "2022-01-02 10:08:42.195872: W tensorflow/core/grappler/optimizers/meta_optimizer.cc:153] TF_ENABLE_AUTO_MIXED_PRECISION has no effect.\n",
      "2022-01-02 10:08:42.195924: W tensorflow/core/grappler/optimizers/meta_optimizer.cc:153] TF_ENABLE_AUTO_MIXED_PRECISION has no effect.\n",
      "2022-01-02 10:08:42.195938: W tensorflow/core/grappler/optimizers/meta_optimizer.cc:153] TF_ENABLE_AUTO_MIXED_PRECISION has no effect.\n",
      "2022-01-02 10:08:42.195943: W tensorflow/core/grappler/optimizers/meta_optimizer.cc:153] TF_ENABLE_AUTO_MIXED_PRECISION has no effect.\n",
      "2022-01-02 10:08:52.180603: I tensorflow/core/kernels/data/shuffle_dataset_op.cc:177] Filling up shuffle buffer (this may take a while): 10538 of 70504\n",
      "2022-01-02 10:09:02.182254: I tensorflow/core/kernels/data/shuffle_dataset_op.cc:177] Filling up shuffle buffer (this may take a while): 21244 of 70504\n",
      "2022-01-02 10:09:12.180269: I tensorflow/core/kernels/data/shuffle_dataset_op.cc:177] Filling up shuffle buffer (this may take a while): 31988 of 70504\n",
      "2022-01-02 10:09:22.180056: I tensorflow/core/kernels/data/shuffle_dataset_op.cc:177] Filling up shuffle buffer (this may take a while): 42751 of 70504\n",
      "2022-01-02 10:09:32.179567: I tensorflow/core/kernels/data/shuffle_dataset_op.cc:177] Filling up shuffle buffer (this may take a while): 53474 of 70504\n",
      "2022-01-02 10:09:42.180126: I tensorflow/core/kernels/data/shuffle_dataset_op.cc:177] Filling up shuffle buffer (this may take a while): 64238 of 70504\n",
      "2022-01-02 10:09:47.935777: I tensorflow/core/kernels/data/shuffle_dataset_op.cc:230] Shuffle buffer filled.\n"
     ]
    },
    {
     "name": "stdout",
     "output_type": "stream",
     "text": [
      "Epoch 164, gen_loss: 25922326.0000, disc_loss: -50893580.0000\n",
      "Time for epoch 164 is 100.7978 sec\n"
     ]
    },
    {
     "name": "stderr",
     "output_type": "stream",
     "text": [
      "2022-01-02 10:10:23.032602: W tensorflow/core/grappler/optimizers/meta_optimizer.cc:153] TF_ENABLE_AUTO_MIXED_PRECISION has no effect.\n",
      "2022-01-02 10:10:23.032653: W tensorflow/core/grappler/optimizers/meta_optimizer.cc:153] TF_ENABLE_AUTO_MIXED_PRECISION has no effect.\n",
      "2022-01-02 10:10:23.032667: W tensorflow/core/grappler/optimizers/meta_optimizer.cc:153] TF_ENABLE_AUTO_MIXED_PRECISION has no effect.\n",
      "2022-01-02 10:10:23.032672: W tensorflow/core/grappler/optimizers/meta_optimizer.cc:153] TF_ENABLE_AUTO_MIXED_PRECISION has no effect.\n",
      "2022-01-02 10:10:33.017751: I tensorflow/core/kernels/data/shuffle_dataset_op.cc:177] Filling up shuffle buffer (this may take a while): 10811 of 70504\n",
      "2022-01-02 10:10:43.018552: I tensorflow/core/kernels/data/shuffle_dataset_op.cc:177] Filling up shuffle buffer (this may take a while): 21789 of 70504\n",
      "2022-01-02 10:10:53.017897: I tensorflow/core/kernels/data/shuffle_dataset_op.cc:177] Filling up shuffle buffer (this may take a while): 32751 of 70504\n",
      "2022-01-02 10:11:03.017908: I tensorflow/core/kernels/data/shuffle_dataset_op.cc:177] Filling up shuffle buffer (this may take a while): 43760 of 70504\n",
      "2022-01-02 10:11:13.018264: I tensorflow/core/kernels/data/shuffle_dataset_op.cc:177] Filling up shuffle buffer (this may take a while): 54753 of 70504\n",
      "2022-01-02 10:11:23.017736: I tensorflow/core/kernels/data/shuffle_dataset_op.cc:177] Filling up shuffle buffer (this may take a while): 65813 of 70504\n",
      "2022-01-02 10:11:27.222918: I tensorflow/core/kernels/data/shuffle_dataset_op.cc:230] Shuffle buffer filled.\n"
     ]
    },
    {
     "name": "stdout",
     "output_type": "stream",
     "text": [
      "Epoch 165, gen_loss: 26319324.0000, disc_loss: -52573236.0000\n",
      "Time for epoch 165 is 99.2798 sec\n"
     ]
    },
    {
     "name": "stderr",
     "output_type": "stream",
     "text": [
      "2022-01-02 10:12:02.348677: W tensorflow/core/grappler/optimizers/meta_optimizer.cc:153] TF_ENABLE_AUTO_MIXED_PRECISION has no effect.\n",
      "2022-01-02 10:12:02.348728: W tensorflow/core/grappler/optimizers/meta_optimizer.cc:153] TF_ENABLE_AUTO_MIXED_PRECISION has no effect.\n",
      "2022-01-02 10:12:02.348741: W tensorflow/core/grappler/optimizers/meta_optimizer.cc:153] TF_ENABLE_AUTO_MIXED_PRECISION has no effect.\n",
      "2022-01-02 10:12:02.348747: W tensorflow/core/grappler/optimizers/meta_optimizer.cc:153] TF_ENABLE_AUTO_MIXED_PRECISION has no effect.\n",
      "2022-01-02 10:12:12.338658: I tensorflow/core/kernels/data/shuffle_dataset_op.cc:177] Filling up shuffle buffer (this may take a while): 10629 of 70504\n",
      "2022-01-02 10:12:22.338768: I tensorflow/core/kernels/data/shuffle_dataset_op.cc:177] Filling up shuffle buffer (this may take a while): 21355 of 70504\n",
      "2022-01-02 10:12:32.338256: I tensorflow/core/kernels/data/shuffle_dataset_op.cc:177] Filling up shuffle buffer (this may take a while): 32090 of 70504\n",
      "2022-01-02 10:12:42.338236: I tensorflow/core/kernels/data/shuffle_dataset_op.cc:177] Filling up shuffle buffer (this may take a while): 42831 of 70504\n",
      "2022-01-02 10:12:52.339036: I tensorflow/core/kernels/data/shuffle_dataset_op.cc:177] Filling up shuffle buffer (this may take a while): 53537 of 70504\n",
      "2022-01-02 10:13:02.338622: I tensorflow/core/kernels/data/shuffle_dataset_op.cc:177] Filling up shuffle buffer (this may take a while): 64399 of 70504\n",
      "2022-01-02 10:13:07.987393: I tensorflow/core/kernels/data/shuffle_dataset_op.cc:230] Shuffle buffer filled.\n"
     ]
    },
    {
     "name": "stdout",
     "output_type": "stream",
     "text": [
      "Epoch 166, gen_loss: 26794964.0000, disc_loss: -53947880.0000\n",
      "Time for epoch 166 is 100.6903 sec\n"
     ]
    },
    {
     "name": "stderr",
     "output_type": "stream",
     "text": [
      "2022-01-02 10:13:43.081514: W tensorflow/core/grappler/optimizers/meta_optimizer.cc:153] TF_ENABLE_AUTO_MIXED_PRECISION has no effect.\n",
      "2022-01-02 10:13:43.081559: W tensorflow/core/grappler/optimizers/meta_optimizer.cc:153] TF_ENABLE_AUTO_MIXED_PRECISION has no effect.\n",
      "2022-01-02 10:13:43.081573: W tensorflow/core/grappler/optimizers/meta_optimizer.cc:153] TF_ENABLE_AUTO_MIXED_PRECISION has no effect.\n",
      "2022-01-02 10:13:43.081579: W tensorflow/core/grappler/optimizers/meta_optimizer.cc:153] TF_ENABLE_AUTO_MIXED_PRECISION has no effect.\n",
      "2022-01-02 10:13:53.070971: I tensorflow/core/kernels/data/shuffle_dataset_op.cc:177] Filling up shuffle buffer (this may take a while): 10783 of 70504\n",
      "2022-01-02 10:14:03.070694: I tensorflow/core/kernels/data/shuffle_dataset_op.cc:177] Filling up shuffle buffer (this may take a while): 21703 of 70504\n",
      "2022-01-02 10:14:13.072047: I tensorflow/core/kernels/data/shuffle_dataset_op.cc:177] Filling up shuffle buffer (this may take a while): 32620 of 70504\n",
      "2022-01-02 10:14:23.071556: I tensorflow/core/kernels/data/shuffle_dataset_op.cc:177] Filling up shuffle buffer (this may take a while): 43602 of 70504\n",
      "2022-01-02 10:14:33.072929: I tensorflow/core/kernels/data/shuffle_dataset_op.cc:177] Filling up shuffle buffer (this may take a while): 54601 of 70504\n",
      "2022-01-02 10:14:43.072596: I tensorflow/core/kernels/data/shuffle_dataset_op.cc:177] Filling up shuffle buffer (this may take a while): 65582 of 70504\n",
      "2022-01-02 10:14:47.502102: I tensorflow/core/kernels/data/shuffle_dataset_op.cc:230] Shuffle buffer filled.\n"
     ]
    },
    {
     "name": "stdout",
     "output_type": "stream",
     "text": [
      "Epoch 167, gen_loss: 27555170.0000, disc_loss: -54934576.0000\n",
      "Time for epoch 167 is 99.4775 sec\n"
     ]
    },
    {
     "name": "stderr",
     "output_type": "stream",
     "text": [
      "2022-01-02 10:15:22.604302: W tensorflow/core/grappler/optimizers/meta_optimizer.cc:153] TF_ENABLE_AUTO_MIXED_PRECISION has no effect.\n",
      "2022-01-02 10:15:22.604353: W tensorflow/core/grappler/optimizers/meta_optimizer.cc:153] TF_ENABLE_AUTO_MIXED_PRECISION has no effect.\n",
      "2022-01-02 10:15:22.604365: W tensorflow/core/grappler/optimizers/meta_optimizer.cc:153] TF_ENABLE_AUTO_MIXED_PRECISION has no effect.\n",
      "2022-01-02 10:15:22.604371: W tensorflow/core/grappler/optimizers/meta_optimizer.cc:153] TF_ENABLE_AUTO_MIXED_PRECISION has no effect.\n",
      "2022-01-02 10:15:32.592503: I tensorflow/core/kernels/data/shuffle_dataset_op.cc:177] Filling up shuffle buffer (this may take a while): 10820 of 70504\n",
      "2022-01-02 10:15:42.592256: I tensorflow/core/kernels/data/shuffle_dataset_op.cc:177] Filling up shuffle buffer (this may take a while): 21698 of 70504\n",
      "2022-01-02 10:15:52.593170: I tensorflow/core/kernels/data/shuffle_dataset_op.cc:177] Filling up shuffle buffer (this may take a while): 32624 of 70504\n",
      "2022-01-02 10:16:02.592212: I tensorflow/core/kernels/data/shuffle_dataset_op.cc:177] Filling up shuffle buffer (this may take a while): 43582 of 70504\n",
      "2022-01-02 10:16:12.592490: I tensorflow/core/kernels/data/shuffle_dataset_op.cc:177] Filling up shuffle buffer (this may take a while): 54580 of 70504\n",
      "2022-01-02 10:16:22.592904: I tensorflow/core/kernels/data/shuffle_dataset_op.cc:177] Filling up shuffle buffer (this may take a while): 65633 of 70504\n",
      "2022-01-02 10:16:27.002901: I tensorflow/core/kernels/data/shuffle_dataset_op.cc:230] Shuffle buffer filled.\n"
     ]
    },
    {
     "name": "stdout",
     "output_type": "stream",
     "text": [
      "Epoch 168, gen_loss: 27749966.0000, disc_loss: -55069688.0000\n",
      "Time for epoch 168 is 99.4548 sec\n"
     ]
    },
    {
     "name": "stderr",
     "output_type": "stream",
     "text": [
      "2022-01-02 10:17:02.105058: W tensorflow/core/grappler/optimizers/meta_optimizer.cc:153] TF_ENABLE_AUTO_MIXED_PRECISION has no effect.\n",
      "2022-01-02 10:17:02.105110: W tensorflow/core/grappler/optimizers/meta_optimizer.cc:153] TF_ENABLE_AUTO_MIXED_PRECISION has no effect.\n",
      "2022-01-02 10:17:02.105124: W tensorflow/core/grappler/optimizers/meta_optimizer.cc:153] TF_ENABLE_AUTO_MIXED_PRECISION has no effect.\n",
      "2022-01-02 10:17:02.105130: W tensorflow/core/grappler/optimizers/meta_optimizer.cc:153] TF_ENABLE_AUTO_MIXED_PRECISION has no effect.\n",
      "2022-01-02 10:17:12.088156: I tensorflow/core/kernels/data/shuffle_dataset_op.cc:177] Filling up shuffle buffer (this may take a while): 10595 of 70504\n",
      "2022-01-02 10:17:22.089122: I tensorflow/core/kernels/data/shuffle_dataset_op.cc:177] Filling up shuffle buffer (this may take a while): 21291 of 70504\n",
      "2022-01-02 10:17:32.088824: I tensorflow/core/kernels/data/shuffle_dataset_op.cc:177] Filling up shuffle buffer (this may take a while): 31963 of 70504\n",
      "2022-01-02 10:17:42.089514: I tensorflow/core/kernels/data/shuffle_dataset_op.cc:177] Filling up shuffle buffer (this may take a while): 42737 of 70504\n",
      "2022-01-02 10:17:52.088517: I tensorflow/core/kernels/data/shuffle_dataset_op.cc:177] Filling up shuffle buffer (this may take a while): 53405 of 70504\n",
      "2022-01-02 10:18:02.090559: I tensorflow/core/kernels/data/shuffle_dataset_op.cc:177] Filling up shuffle buffer (this may take a while): 64240 of 70504\n",
      "2022-01-02 10:18:07.854751: I tensorflow/core/kernels/data/shuffle_dataset_op.cc:230] Shuffle buffer filled.\n"
     ]
    },
    {
     "name": "stdout",
     "output_type": "stream",
     "text": [
      "Epoch 169, gen_loss: 27595780.0000, disc_loss: -56335752.0000\n",
      "Time for epoch 169 is 100.8459 sec\n"
     ]
    },
    {
     "name": "stderr",
     "output_type": "stream",
     "text": [
      "2022-01-02 10:18:42.990192: W tensorflow/core/grappler/optimizers/meta_optimizer.cc:153] TF_ENABLE_AUTO_MIXED_PRECISION has no effect.\n",
      "2022-01-02 10:18:42.990234: W tensorflow/core/grappler/optimizers/meta_optimizer.cc:153] TF_ENABLE_AUTO_MIXED_PRECISION has no effect.\n",
      "2022-01-02 10:18:42.990249: W tensorflow/core/grappler/optimizers/meta_optimizer.cc:153] TF_ENABLE_AUTO_MIXED_PRECISION has no effect.\n",
      "2022-01-02 10:18:42.990254: W tensorflow/core/grappler/optimizers/meta_optimizer.cc:153] TF_ENABLE_AUTO_MIXED_PRECISION has no effect.\n",
      "2022-01-02 10:18:52.977593: I tensorflow/core/kernels/data/shuffle_dataset_op.cc:177] Filling up shuffle buffer (this may take a while): 10778 of 70504\n",
      "2022-01-02 10:19:02.977070: I tensorflow/core/kernels/data/shuffle_dataset_op.cc:177] Filling up shuffle buffer (this may take a while): 21732 of 70504\n",
      "2022-01-02 10:19:12.976359: I tensorflow/core/kernels/data/shuffle_dataset_op.cc:177] Filling up shuffle buffer (this may take a while): 32709 of 70504\n",
      "2022-01-02 10:19:22.977203: I tensorflow/core/kernels/data/shuffle_dataset_op.cc:177] Filling up shuffle buffer (this may take a while): 43738 of 70504\n",
      "2022-01-02 10:19:32.977480: I tensorflow/core/kernels/data/shuffle_dataset_op.cc:177] Filling up shuffle buffer (this may take a while): 54753 of 70504\n",
      "2022-01-02 10:19:42.976932: I tensorflow/core/kernels/data/shuffle_dataset_op.cc:177] Filling up shuffle buffer (this may take a while): 65821 of 70504\n",
      "2022-01-02 10:19:47.258815: I tensorflow/core/kernels/data/shuffle_dataset_op.cc:230] Shuffle buffer filled.\n"
     ]
    },
    {
     "name": "stdout",
     "output_type": "stream",
     "text": [
      "Epoch 170, gen_loss: 28355006.0000, disc_loss: -57403996.0000\n",
      "Time for epoch 170 is 99.3612 sec\n"
     ]
    },
    {
     "name": "stderr",
     "output_type": "stream",
     "text": [
      "2022-01-02 10:20:22.397046: W tensorflow/core/grappler/optimizers/meta_optimizer.cc:153] TF_ENABLE_AUTO_MIXED_PRECISION has no effect.\n",
      "2022-01-02 10:20:22.397096: W tensorflow/core/grappler/optimizers/meta_optimizer.cc:153] TF_ENABLE_AUTO_MIXED_PRECISION has no effect.\n",
      "2022-01-02 10:20:22.397111: W tensorflow/core/grappler/optimizers/meta_optimizer.cc:153] TF_ENABLE_AUTO_MIXED_PRECISION has no effect.\n",
      "2022-01-02 10:20:22.397116: W tensorflow/core/grappler/optimizers/meta_optimizer.cc:153] TF_ENABLE_AUTO_MIXED_PRECISION has no effect.\n",
      "2022-01-02 10:20:32.383098: I tensorflow/core/kernels/data/shuffle_dataset_op.cc:177] Filling up shuffle buffer (this may take a while): 10581 of 70504\n",
      "2022-01-02 10:20:42.382991: I tensorflow/core/kernels/data/shuffle_dataset_op.cc:177] Filling up shuffle buffer (this may take a while): 21319 of 70504\n",
      "2022-01-02 10:20:52.383120: I tensorflow/core/kernels/data/shuffle_dataset_op.cc:177] Filling up shuffle buffer (this may take a while): 32010 of 70504\n",
      "2022-01-02 10:21:02.383815: I tensorflow/core/kernels/data/shuffle_dataset_op.cc:177] Filling up shuffle buffer (this may take a while): 42775 of 70504\n",
      "2022-01-02 10:21:12.383697: I tensorflow/core/kernels/data/shuffle_dataset_op.cc:177] Filling up shuffle buffer (this may take a while): 53528 of 70504\n",
      "2022-01-02 10:21:22.383631: I tensorflow/core/kernels/data/shuffle_dataset_op.cc:177] Filling up shuffle buffer (this may take a while): 64349 of 70504\n",
      "2022-01-02 10:21:28.075988: I tensorflow/core/kernels/data/shuffle_dataset_op.cc:230] Shuffle buffer filled.\n"
     ]
    },
    {
     "name": "stdout",
     "output_type": "stream",
     "text": [
      "Epoch 171, gen_loss: 28544740.0000, disc_loss: -58047352.0000\n",
      "Time for epoch 171 is 100.7475 sec\n"
     ]
    },
    {
     "name": "stderr",
     "output_type": "stream",
     "text": [
      "2022-01-02 10:22:03.184442: W tensorflow/core/grappler/optimizers/meta_optimizer.cc:153] TF_ENABLE_AUTO_MIXED_PRECISION has no effect.\n",
      "2022-01-02 10:22:03.184496: W tensorflow/core/grappler/optimizers/meta_optimizer.cc:153] TF_ENABLE_AUTO_MIXED_PRECISION has no effect.\n",
      "2022-01-02 10:22:03.184510: W tensorflow/core/grappler/optimizers/meta_optimizer.cc:153] TF_ENABLE_AUTO_MIXED_PRECISION has no effect.\n",
      "2022-01-02 10:22:03.184516: W tensorflow/core/grappler/optimizers/meta_optimizer.cc:153] TF_ENABLE_AUTO_MIXED_PRECISION has no effect.\n",
      "2022-01-02 10:22:13.168337: I tensorflow/core/kernels/data/shuffle_dataset_op.cc:177] Filling up shuffle buffer (this may take a while): 10535 of 70504\n",
      "2022-01-02 10:22:23.168402: I tensorflow/core/kernels/data/shuffle_dataset_op.cc:177] Filling up shuffle buffer (this may take a while): 21261 of 70504\n",
      "2022-01-02 10:22:33.168741: I tensorflow/core/kernels/data/shuffle_dataset_op.cc:177] Filling up shuffle buffer (this may take a while): 31964 of 70504\n",
      "2022-01-02 10:22:43.168258: I tensorflow/core/kernels/data/shuffle_dataset_op.cc:177] Filling up shuffle buffer (this may take a while): 42728 of 70504\n",
      "2022-01-02 10:22:53.168203: I tensorflow/core/kernels/data/shuffle_dataset_op.cc:177] Filling up shuffle buffer (this may take a while): 53398 of 70504\n",
      "2022-01-02 10:23:03.171415: I tensorflow/core/kernels/data/shuffle_dataset_op.cc:177] Filling up shuffle buffer (this may take a while): 64200 of 70504\n",
      "2022-01-02 10:23:09.032848: I tensorflow/core/kernels/data/shuffle_dataset_op.cc:230] Shuffle buffer filled.\n"
     ]
    },
    {
     "name": "stdout",
     "output_type": "stream",
     "text": [
      "Epoch 172, gen_loss: 29245242.0000, disc_loss: -58774832.0000\n",
      "Time for epoch 172 is 100.8722 sec\n"
     ]
    },
    {
     "name": "stderr",
     "output_type": "stream",
     "text": [
      "2022-01-02 10:23:44.096163: W tensorflow/core/grappler/optimizers/meta_optimizer.cc:153] TF_ENABLE_AUTO_MIXED_PRECISION has no effect.\n",
      "2022-01-02 10:23:44.096207: W tensorflow/core/grappler/optimizers/meta_optimizer.cc:153] TF_ENABLE_AUTO_MIXED_PRECISION has no effect.\n",
      "2022-01-02 10:23:44.096221: W tensorflow/core/grappler/optimizers/meta_optimizer.cc:153] TF_ENABLE_AUTO_MIXED_PRECISION has no effect.\n",
      "2022-01-02 10:23:44.096227: W tensorflow/core/grappler/optimizers/meta_optimizer.cc:153] TF_ENABLE_AUTO_MIXED_PRECISION has no effect.\n",
      "2022-01-02 10:23:54.082482: I tensorflow/core/kernels/data/shuffle_dataset_op.cc:177] Filling up shuffle buffer (this may take a while): 10704 of 70504\n",
      "2022-01-02 10:24:04.082784: I tensorflow/core/kernels/data/shuffle_dataset_op.cc:177] Filling up shuffle buffer (this may take a while): 21650 of 70504\n",
      "2022-01-02 10:24:14.081851: I tensorflow/core/kernels/data/shuffle_dataset_op.cc:177] Filling up shuffle buffer (this may take a while): 32604 of 70504\n",
      "2022-01-02 10:24:24.083126: I tensorflow/core/kernels/data/shuffle_dataset_op.cc:177] Filling up shuffle buffer (this may take a while): 43605 of 70504\n",
      "2022-01-02 10:24:34.083234: I tensorflow/core/kernels/data/shuffle_dataset_op.cc:177] Filling up shuffle buffer (this may take a while): 54614 of 70504\n",
      "2022-01-02 10:24:44.082254: I tensorflow/core/kernels/data/shuffle_dataset_op.cc:177] Filling up shuffle buffer (this may take a while): 65583 of 70504\n",
      "2022-01-02 10:24:48.559008: I tensorflow/core/kernels/data/shuffle_dataset_op.cc:230] Shuffle buffer filled.\n"
     ]
    },
    {
     "name": "stdout",
     "output_type": "stream",
     "text": [
      "Epoch 173, gen_loss: 31668892.0000, disc_loss: -62711292.0000\n",
      "Time for epoch 173 is 99.5337 sec\n"
     ]
    },
    {
     "name": "stderr",
     "output_type": "stream",
     "text": [
      "2022-01-02 10:25:23.675650: W tensorflow/core/grappler/optimizers/meta_optimizer.cc:153] TF_ENABLE_AUTO_MIXED_PRECISION has no effect.\n",
      "2022-01-02 10:25:23.675697: W tensorflow/core/grappler/optimizers/meta_optimizer.cc:153] TF_ENABLE_AUTO_MIXED_PRECISION has no effect.\n",
      "2022-01-02 10:25:23.675711: W tensorflow/core/grappler/optimizers/meta_optimizer.cc:153] TF_ENABLE_AUTO_MIXED_PRECISION has no effect.\n",
      "2022-01-02 10:25:23.675717: W tensorflow/core/grappler/optimizers/meta_optimizer.cc:153] TF_ENABLE_AUTO_MIXED_PRECISION has no effect.\n",
      "2022-01-02 10:25:33.660021: I tensorflow/core/kernels/data/shuffle_dataset_op.cc:177] Filling up shuffle buffer (this may take a while): 10758 of 70504\n",
      "2022-01-02 10:25:43.661181: I tensorflow/core/kernels/data/shuffle_dataset_op.cc:177] Filling up shuffle buffer (this may take a while): 21661 of 70504\n",
      "2022-01-02 10:25:53.661443: I tensorflow/core/kernels/data/shuffle_dataset_op.cc:177] Filling up shuffle buffer (this may take a while): 32603 of 70504\n",
      "2022-01-02 10:26:03.660983: I tensorflow/core/kernels/data/shuffle_dataset_op.cc:177] Filling up shuffle buffer (this may take a while): 43512 of 70504\n",
      "2022-01-02 10:26:13.661699: I tensorflow/core/kernels/data/shuffle_dataset_op.cc:177] Filling up shuffle buffer (this may take a while): 54523 of 70504\n",
      "2022-01-02 10:26:23.661765: I tensorflow/core/kernels/data/shuffle_dataset_op.cc:177] Filling up shuffle buffer (this may take a while): 65543 of 70504\n",
      "2022-01-02 10:26:28.204396: I tensorflow/core/kernels/data/shuffle_dataset_op.cc:230] Shuffle buffer filled.\n"
     ]
    },
    {
     "name": "stdout",
     "output_type": "stream",
     "text": [
      "Epoch 174, gen_loss: 29460892.0000, disc_loss: -61251268.0000\n",
      "Time for epoch 174 is 99.5666 sec\n"
     ]
    },
    {
     "name": "stderr",
     "output_type": "stream",
     "text": [
      "2022-01-02 10:27:03.285601: W tensorflow/core/grappler/optimizers/meta_optimizer.cc:153] TF_ENABLE_AUTO_MIXED_PRECISION has no effect.\n",
      "2022-01-02 10:27:03.285653: W tensorflow/core/grappler/optimizers/meta_optimizer.cc:153] TF_ENABLE_AUTO_MIXED_PRECISION has no effect.\n",
      "2022-01-02 10:27:03.285668: W tensorflow/core/grappler/optimizers/meta_optimizer.cc:153] TF_ENABLE_AUTO_MIXED_PRECISION has no effect.\n",
      "2022-01-02 10:27:03.285673: W tensorflow/core/grappler/optimizers/meta_optimizer.cc:153] TF_ENABLE_AUTO_MIXED_PRECISION has no effect.\n",
      "2022-01-02 10:27:13.269146: I tensorflow/core/kernels/data/shuffle_dataset_op.cc:177] Filling up shuffle buffer (this may take a while): 10832 of 70504\n",
      "2022-01-02 10:27:23.269833: I tensorflow/core/kernels/data/shuffle_dataset_op.cc:177] Filling up shuffle buffer (this may take a while): 21803 of 70504\n",
      "2022-01-02 10:27:33.269916: I tensorflow/core/kernels/data/shuffle_dataset_op.cc:177] Filling up shuffle buffer (this may take a while): 32787 of 70504\n",
      "2022-01-02 10:27:43.269681: I tensorflow/core/kernels/data/shuffle_dataset_op.cc:177] Filling up shuffle buffer (this may take a while): 43748 of 70504\n",
      "2022-01-02 10:27:53.269572: I tensorflow/core/kernels/data/shuffle_dataset_op.cc:177] Filling up shuffle buffer (this may take a while): 54788 of 70504\n",
      "2022-01-02 10:28:03.269638: I tensorflow/core/kernels/data/shuffle_dataset_op.cc:177] Filling up shuffle buffer (this may take a while): 65814 of 70504\n",
      "2022-01-02 10:28:07.513794: I tensorflow/core/kernels/data/shuffle_dataset_op.cc:230] Shuffle buffer filled.\n"
     ]
    },
    {
     "name": "stdout",
     "output_type": "stream",
     "text": [
      "Epoch 175, gen_loss: 32295454.0000, disc_loss: -64426368.0000\n",
      "Time for epoch 175 is 99.3070 sec\n"
     ]
    },
    {
     "name": "stderr",
     "output_type": "stream",
     "text": [
      "2022-01-02 10:28:42.639098: W tensorflow/core/grappler/optimizers/meta_optimizer.cc:153] TF_ENABLE_AUTO_MIXED_PRECISION has no effect.\n",
      "2022-01-02 10:28:42.639155: W tensorflow/core/grappler/optimizers/meta_optimizer.cc:153] TF_ENABLE_AUTO_MIXED_PRECISION has no effect.\n",
      "2022-01-02 10:28:42.639169: W tensorflow/core/grappler/optimizers/meta_optimizer.cc:153] TF_ENABLE_AUTO_MIXED_PRECISION has no effect.\n",
      "2022-01-02 10:28:42.639175: W tensorflow/core/grappler/optimizers/meta_optimizer.cc:153] TF_ENABLE_AUTO_MIXED_PRECISION has no effect.\n",
      "2022-01-02 10:28:52.621920: I tensorflow/core/kernels/data/shuffle_dataset_op.cc:177] Filling up shuffle buffer (this may take a while): 10748 of 70504\n",
      "2022-01-02 10:29:02.621722: I tensorflow/core/kernels/data/shuffle_dataset_op.cc:177] Filling up shuffle buffer (this may take a while): 21707 of 70504\n",
      "2022-01-02 10:29:12.622979: I tensorflow/core/kernels/data/shuffle_dataset_op.cc:177] Filling up shuffle buffer (this may take a while): 32648 of 70504\n",
      "2022-01-02 10:29:22.621786: I tensorflow/core/kernels/data/shuffle_dataset_op.cc:177] Filling up shuffle buffer (this may take a while): 43611 of 70504\n",
      "2022-01-02 10:29:32.622186: I tensorflow/core/kernels/data/shuffle_dataset_op.cc:177] Filling up shuffle buffer (this may take a while): 54592 of 70504\n",
      "2022-01-02 10:29:42.622396: I tensorflow/core/kernels/data/shuffle_dataset_op.cc:177] Filling up shuffle buffer (this may take a while): 65547 of 70504\n",
      "2022-01-02 10:29:47.115627: I tensorflow/core/kernels/data/shuffle_dataset_op.cc:230] Shuffle buffer filled.\n"
     ]
    },
    {
     "name": "stdout",
     "output_type": "stream",
     "text": [
      "Epoch 176, gen_loss: 33525210.0000, disc_loss: -66860976.0000\n",
      "Time for epoch 176 is 99.5508 sec\n"
     ]
    },
    {
     "name": "stderr",
     "output_type": "stream",
     "text": [
      "2022-01-02 10:30:22.227917: W tensorflow/core/grappler/optimizers/meta_optimizer.cc:153] TF_ENABLE_AUTO_MIXED_PRECISION has no effect.\n",
      "2022-01-02 10:30:22.227963: W tensorflow/core/grappler/optimizers/meta_optimizer.cc:153] TF_ENABLE_AUTO_MIXED_PRECISION has no effect.\n",
      "2022-01-02 10:30:22.227976: W tensorflow/core/grappler/optimizers/meta_optimizer.cc:153] TF_ENABLE_AUTO_MIXED_PRECISION has no effect.\n",
      "2022-01-02 10:30:22.227982: W tensorflow/core/grappler/optimizers/meta_optimizer.cc:153] TF_ENABLE_AUTO_MIXED_PRECISION has no effect.\n",
      "2022-01-02 10:30:32.212208: I tensorflow/core/kernels/data/shuffle_dataset_op.cc:177] Filling up shuffle buffer (this may take a while): 10806 of 70504\n",
      "2022-01-02 10:30:42.211387: I tensorflow/core/kernels/data/shuffle_dataset_op.cc:177] Filling up shuffle buffer (this may take a while): 21791 of 70504\n",
      "2022-01-02 10:30:52.212682: I tensorflow/core/kernels/data/shuffle_dataset_op.cc:177] Filling up shuffle buffer (this may take a while): 32781 of 70504\n",
      "2022-01-02 10:31:02.212757: I tensorflow/core/kernels/data/shuffle_dataset_op.cc:177] Filling up shuffle buffer (this may take a while): 43825 of 70504\n",
      "2022-01-02 10:31:12.211997: I tensorflow/core/kernels/data/shuffle_dataset_op.cc:177] Filling up shuffle buffer (this may take a while): 54833 of 70504\n",
      "2022-01-02 10:31:22.211960: I tensorflow/core/kernels/data/shuffle_dataset_op.cc:177] Filling up shuffle buffer (this may take a while): 65883 of 70504\n",
      "2022-01-02 10:31:26.391995: I tensorflow/core/kernels/data/shuffle_dataset_op.cc:230] Shuffle buffer filled.\n"
     ]
    },
    {
     "name": "stdout",
     "output_type": "stream",
     "text": [
      "Epoch 177, gen_loss: 32289360.0000, disc_loss: -65819492.0000\n",
      "Time for epoch 177 is 99.1989 sec\n"
     ]
    },
    {
     "name": "stderr",
     "output_type": "stream",
     "text": [
      "2022-01-02 10:32:01.467368: W tensorflow/core/grappler/optimizers/meta_optimizer.cc:153] TF_ENABLE_AUTO_MIXED_PRECISION has no effect.\n",
      "2022-01-02 10:32:01.467421: W tensorflow/core/grappler/optimizers/meta_optimizer.cc:153] TF_ENABLE_AUTO_MIXED_PRECISION has no effect.\n",
      "2022-01-02 10:32:01.467436: W tensorflow/core/grappler/optimizers/meta_optimizer.cc:153] TF_ENABLE_AUTO_MIXED_PRECISION has no effect.\n",
      "2022-01-02 10:32:01.467441: W tensorflow/core/grappler/optimizers/meta_optimizer.cc:153] TF_ENABLE_AUTO_MIXED_PRECISION has no effect.\n",
      "2022-01-02 10:32:11.452324: I tensorflow/core/kernels/data/shuffle_dataset_op.cc:177] Filling up shuffle buffer (this may take a while): 10790 of 70504\n",
      "2022-01-02 10:32:21.452079: I tensorflow/core/kernels/data/shuffle_dataset_op.cc:177] Filling up shuffle buffer (this may take a while): 21783 of 70504\n",
      "2022-01-02 10:32:31.452897: I tensorflow/core/kernels/data/shuffle_dataset_op.cc:177] Filling up shuffle buffer (this may take a while): 32720 of 70504\n",
      "2022-01-02 10:32:41.452372: I tensorflow/core/kernels/data/shuffle_dataset_op.cc:177] Filling up shuffle buffer (this may take a while): 43711 of 70504\n",
      "2022-01-02 10:32:51.452943: I tensorflow/core/kernels/data/shuffle_dataset_op.cc:177] Filling up shuffle buffer (this may take a while): 54661 of 70504\n",
      "2022-01-02 10:33:01.452589: I tensorflow/core/kernels/data/shuffle_dataset_op.cc:177] Filling up shuffle buffer (this may take a while): 65661 of 70504\n",
      "2022-01-02 10:33:05.833004: I tensorflow/core/kernels/data/shuffle_dataset_op.cc:230] Shuffle buffer filled.\n"
     ]
    },
    {
     "name": "stdout",
     "output_type": "stream",
     "text": [
      "Epoch 178, gen_loss: 33441842.0000, disc_loss: -66976460.0000\n",
      "Time for epoch 178 is 99.4444 sec\n"
     ]
    },
    {
     "name": "stderr",
     "output_type": "stream",
     "text": [
      "2022-01-02 10:33:40.950993: W tensorflow/core/grappler/optimizers/meta_optimizer.cc:153] TF_ENABLE_AUTO_MIXED_PRECISION has no effect.\n",
      "2022-01-02 10:33:40.951046: W tensorflow/core/grappler/optimizers/meta_optimizer.cc:153] TF_ENABLE_AUTO_MIXED_PRECISION has no effect.\n",
      "2022-01-02 10:33:40.951060: W tensorflow/core/grappler/optimizers/meta_optimizer.cc:153] TF_ENABLE_AUTO_MIXED_PRECISION has no effect.\n",
      "2022-01-02 10:33:40.951066: W tensorflow/core/grappler/optimizers/meta_optimizer.cc:153] TF_ENABLE_AUTO_MIXED_PRECISION has no effect.\n",
      "2022-01-02 10:33:50.940352: I tensorflow/core/kernels/data/shuffle_dataset_op.cc:177] Filling up shuffle buffer (this may take a while): 10557 of 70504\n",
      "2022-01-02 10:34:00.940482: I tensorflow/core/kernels/data/shuffle_dataset_op.cc:177] Filling up shuffle buffer (this may take a while): 21302 of 70504\n",
      "2022-01-02 10:34:10.940480: I tensorflow/core/kernels/data/shuffle_dataset_op.cc:177] Filling up shuffle buffer (this may take a while): 32057 of 70504\n",
      "2022-01-02 10:34:20.940295: I tensorflow/core/kernels/data/shuffle_dataset_op.cc:177] Filling up shuffle buffer (this may take a while): 42800 of 70504\n",
      "2022-01-02 10:34:30.940740: I tensorflow/core/kernels/data/shuffle_dataset_op.cc:177] Filling up shuffle buffer (this may take a while): 53465 of 70504\n",
      "2022-01-02 10:34:40.940223: I tensorflow/core/kernels/data/shuffle_dataset_op.cc:177] Filling up shuffle buffer (this may take a while): 64239 of 70504\n",
      "2022-01-02 10:34:46.764247: I tensorflow/core/kernels/data/shuffle_dataset_op.cc:230] Shuffle buffer filled.\n"
     ]
    },
    {
     "name": "stdout",
     "output_type": "stream",
     "text": [
      "Epoch 179, gen_loss: 34216652.0000, disc_loss: -68952816.0000\n",
      "Time for epoch 179 is 100.8902 sec\n"
     ]
    },
    {
     "name": "stderr",
     "output_type": "stream",
     "text": [
      "2022-01-02 10:35:21.889746: W tensorflow/core/grappler/optimizers/meta_optimizer.cc:153] TF_ENABLE_AUTO_MIXED_PRECISION has no effect.\n",
      "2022-01-02 10:35:21.889799: W tensorflow/core/grappler/optimizers/meta_optimizer.cc:153] TF_ENABLE_AUTO_MIXED_PRECISION has no effect.\n",
      "2022-01-02 10:35:21.889813: W tensorflow/core/grappler/optimizers/meta_optimizer.cc:153] TF_ENABLE_AUTO_MIXED_PRECISION has no effect.\n",
      "2022-01-02 10:35:21.889819: W tensorflow/core/grappler/optimizers/meta_optimizer.cc:153] TF_ENABLE_AUTO_MIXED_PRECISION has no effect.\n",
      "2022-01-02 10:35:31.872173: I tensorflow/core/kernels/data/shuffle_dataset_op.cc:177] Filling up shuffle buffer (this may take a while): 10757 of 70504\n",
      "2022-01-02 10:35:41.872978: I tensorflow/core/kernels/data/shuffle_dataset_op.cc:177] Filling up shuffle buffer (this may take a while): 21726 of 70504\n",
      "2022-01-02 10:35:51.873565: I tensorflow/core/kernels/data/shuffle_dataset_op.cc:177] Filling up shuffle buffer (this may take a while): 32677 of 70504\n",
      "2022-01-02 10:36:01.872612: I tensorflow/core/kernels/data/shuffle_dataset_op.cc:177] Filling up shuffle buffer (this may take a while): 43653 of 70504\n",
      "2022-01-02 10:36:11.873103: I tensorflow/core/kernels/data/shuffle_dataset_op.cc:177] Filling up shuffle buffer (this may take a while): 54593 of 70504\n",
      "2022-01-02 10:36:21.873050: I tensorflow/core/kernels/data/shuffle_dataset_op.cc:177] Filling up shuffle buffer (this may take a while): 65583 of 70504\n",
      "2022-01-02 10:36:26.325821: I tensorflow/core/kernels/data/shuffle_dataset_op.cc:230] Shuffle buffer filled.\n"
     ]
    },
    {
     "name": "stdout",
     "output_type": "stream",
     "text": [
      "Epoch 180, gen_loss: 34993168.0000, disc_loss: -69454136.0000\n",
      "Time for epoch 180 is 99.4900 sec\n"
     ]
    },
    {
     "name": "stderr",
     "output_type": "stream",
     "text": [
      "2022-01-02 10:37:01.416920: W tensorflow/core/grappler/optimizers/meta_optimizer.cc:153] TF_ENABLE_AUTO_MIXED_PRECISION has no effect.\n",
      "2022-01-02 10:37:01.416971: W tensorflow/core/grappler/optimizers/meta_optimizer.cc:153] TF_ENABLE_AUTO_MIXED_PRECISION has no effect.\n",
      "2022-01-02 10:37:01.416985: W tensorflow/core/grappler/optimizers/meta_optimizer.cc:153] TF_ENABLE_AUTO_MIXED_PRECISION has no effect.\n",
      "2022-01-02 10:37:01.416990: W tensorflow/core/grappler/optimizers/meta_optimizer.cc:153] TF_ENABLE_AUTO_MIXED_PRECISION has no effect.\n",
      "2022-01-02 10:37:11.404100: I tensorflow/core/kernels/data/shuffle_dataset_op.cc:177] Filling up shuffle buffer (this may take a while): 10581 of 70504\n",
      "2022-01-02 10:37:21.403484: I tensorflow/core/kernels/data/shuffle_dataset_op.cc:177] Filling up shuffle buffer (this may take a while): 21323 of 70504\n",
      "2022-01-02 10:37:31.403463: I tensorflow/core/kernels/data/shuffle_dataset_op.cc:177] Filling up shuffle buffer (this may take a while): 32106 of 70504\n",
      "2022-01-02 10:37:41.405048: I tensorflow/core/kernels/data/shuffle_dataset_op.cc:177] Filling up shuffle buffer (this may take a while): 42855 of 70504\n",
      "2022-01-02 10:37:51.404833: I tensorflow/core/kernels/data/shuffle_dataset_op.cc:177] Filling up shuffle buffer (this may take a while): 53563 of 70504\n",
      "2022-01-02 10:38:01.405287: I tensorflow/core/kernels/data/shuffle_dataset_op.cc:177] Filling up shuffle buffer (this may take a while): 64329 of 70504\n",
      "2022-01-02 10:38:07.136384: I tensorflow/core/kernels/data/shuffle_dataset_op.cc:230] Shuffle buffer filled.\n"
     ]
    },
    {
     "name": "stdout",
     "output_type": "stream",
     "text": [
      "Epoch 181, gen_loss: 35405196.0000, disc_loss: -70948584.0000\n",
      "Time for epoch 181 is 100.7593 sec\n"
     ]
    },
    {
     "name": "stderr",
     "output_type": "stream",
     "text": [
      "2022-01-02 10:38:42.215199: W tensorflow/core/grappler/optimizers/meta_optimizer.cc:153] TF_ENABLE_AUTO_MIXED_PRECISION has no effect.\n",
      "2022-01-02 10:38:42.215250: W tensorflow/core/grappler/optimizers/meta_optimizer.cc:153] TF_ENABLE_AUTO_MIXED_PRECISION has no effect.\n",
      "2022-01-02 10:38:42.215264: W tensorflow/core/grappler/optimizers/meta_optimizer.cc:153] TF_ENABLE_AUTO_MIXED_PRECISION has no effect.\n",
      "2022-01-02 10:38:42.215269: W tensorflow/core/grappler/optimizers/meta_optimizer.cc:153] TF_ENABLE_AUTO_MIXED_PRECISION has no effect.\n",
      "2022-01-02 10:38:52.202545: I tensorflow/core/kernels/data/shuffle_dataset_op.cc:177] Filling up shuffle buffer (this may take a while): 10747 of 70504\n",
      "2022-01-02 10:39:02.202734: I tensorflow/core/kernels/data/shuffle_dataset_op.cc:177] Filling up shuffle buffer (this may take a while): 21672 of 70504\n",
      "2022-01-02 10:39:12.202533: I tensorflow/core/kernels/data/shuffle_dataset_op.cc:177] Filling up shuffle buffer (this may take a while): 32629 of 70504\n",
      "2022-01-02 10:39:22.202973: I tensorflow/core/kernels/data/shuffle_dataset_op.cc:177] Filling up shuffle buffer (this may take a while): 43590 of 70504\n",
      "2022-01-02 10:39:32.203154: I tensorflow/core/kernels/data/shuffle_dataset_op.cc:177] Filling up shuffle buffer (this may take a while): 54550 of 70504\n",
      "2022-01-02 10:39:42.202887: I tensorflow/core/kernels/data/shuffle_dataset_op.cc:177] Filling up shuffle buffer (this may take a while): 65516 of 70504\n",
      "2022-01-02 10:39:46.772152: I tensorflow/core/kernels/data/shuffle_dataset_op.cc:230] Shuffle buffer filled.\n"
     ]
    },
    {
     "name": "stdout",
     "output_type": "stream",
     "text": [
      "Epoch 182, gen_loss: 35450200.0000, disc_loss: -72726392.0000\n",
      "Time for epoch 182 is 99.6311 sec\n"
     ]
    },
    {
     "name": "stderr",
     "output_type": "stream",
     "text": [
      "2022-01-02 10:40:21.890644: W tensorflow/core/grappler/optimizers/meta_optimizer.cc:153] TF_ENABLE_AUTO_MIXED_PRECISION has no effect.\n",
      "2022-01-02 10:40:21.890698: W tensorflow/core/grappler/optimizers/meta_optimizer.cc:153] TF_ENABLE_AUTO_MIXED_PRECISION has no effect.\n",
      "2022-01-02 10:40:21.890714: W tensorflow/core/grappler/optimizers/meta_optimizer.cc:153] TF_ENABLE_AUTO_MIXED_PRECISION has no effect.\n",
      "2022-01-02 10:40:21.890719: W tensorflow/core/grappler/optimizers/meta_optimizer.cc:153] TF_ENABLE_AUTO_MIXED_PRECISION has no effect.\n",
      "2022-01-02 10:40:31.877872: I tensorflow/core/kernels/data/shuffle_dataset_op.cc:177] Filling up shuffle buffer (this may take a while): 10596 of 70504\n",
      "2022-01-02 10:40:41.876153: I tensorflow/core/kernels/data/shuffle_dataset_op.cc:177] Filling up shuffle buffer (this may take a while): 21337 of 70504\n",
      "2022-01-02 10:40:51.877121: I tensorflow/core/kernels/data/shuffle_dataset_op.cc:177] Filling up shuffle buffer (this may take a while): 32113 of 70504\n",
      "2022-01-02 10:41:01.876051: I tensorflow/core/kernels/data/shuffle_dataset_op.cc:177] Filling up shuffle buffer (this may take a while): 42888 of 70504\n",
      "2022-01-02 10:41:11.876238: I tensorflow/core/kernels/data/shuffle_dataset_op.cc:177] Filling up shuffle buffer (this may take a while): 53620 of 70504\n",
      "2022-01-02 10:41:21.876311: I tensorflow/core/kernels/data/shuffle_dataset_op.cc:177] Filling up shuffle buffer (this may take a while): 64394 of 70504\n",
      "2022-01-02 10:41:27.534370: I tensorflow/core/kernels/data/shuffle_dataset_op.cc:230] Shuffle buffer filled.\n"
     ]
    },
    {
     "name": "stdout",
     "output_type": "stream",
     "text": [
      "Epoch 183, gen_loss: 36037016.0000, disc_loss: -73863600.0000\n",
      "Time for epoch 183 is 100.6948 sec\n"
     ]
    },
    {
     "name": "stderr",
     "output_type": "stream",
     "text": [
      "2022-01-02 10:42:02.628936: W tensorflow/core/grappler/optimizers/meta_optimizer.cc:153] TF_ENABLE_AUTO_MIXED_PRECISION has no effect.\n",
      "2022-01-02 10:42:02.628987: W tensorflow/core/grappler/optimizers/meta_optimizer.cc:153] TF_ENABLE_AUTO_MIXED_PRECISION has no effect.\n",
      "2022-01-02 10:42:02.629001: W tensorflow/core/grappler/optimizers/meta_optimizer.cc:153] TF_ENABLE_AUTO_MIXED_PRECISION has no effect.\n",
      "2022-01-02 10:42:02.629006: W tensorflow/core/grappler/optimizers/meta_optimizer.cc:153] TF_ENABLE_AUTO_MIXED_PRECISION has no effect.\n",
      "2022-01-02 10:42:12.615817: I tensorflow/core/kernels/data/shuffle_dataset_op.cc:177] Filling up shuffle buffer (this may take a while): 10603 of 70504\n",
      "2022-01-02 10:42:22.615151: I tensorflow/core/kernels/data/shuffle_dataset_op.cc:177] Filling up shuffle buffer (this may take a while): 21334 of 70504\n",
      "2022-01-02 10:42:32.615138: I tensorflow/core/kernels/data/shuffle_dataset_op.cc:177] Filling up shuffle buffer (this may take a while): 32118 of 70504\n",
      "2022-01-02 10:42:42.615345: I tensorflow/core/kernels/data/shuffle_dataset_op.cc:177] Filling up shuffle buffer (this may take a while): 42903 of 70504\n",
      "2022-01-02 10:42:52.616685: I tensorflow/core/kernels/data/shuffle_dataset_op.cc:177] Filling up shuffle buffer (this may take a while): 53617 of 70504\n",
      "2022-01-02 10:43:02.615398: I tensorflow/core/kernels/data/shuffle_dataset_op.cc:177] Filling up shuffle buffer (this may take a while): 64367 of 70504\n",
      "2022-01-02 10:43:08.283973: I tensorflow/core/kernels/data/shuffle_dataset_op.cc:230] Shuffle buffer filled.\n"
     ]
    },
    {
     "name": "stdout",
     "output_type": "stream",
     "text": [
      "Epoch 184, gen_loss: 36428476.0000, disc_loss: -75596216.0000\n",
      "Time for epoch 184 is 100.6917 sec\n"
     ]
    },
    {
     "name": "stderr",
     "output_type": "stream",
     "text": [
      "2022-01-02 10:43:43.362253: W tensorflow/core/grappler/optimizers/meta_optimizer.cc:153] TF_ENABLE_AUTO_MIXED_PRECISION has no effect.\n",
      "2022-01-02 10:43:43.362305: W tensorflow/core/grappler/optimizers/meta_optimizer.cc:153] TF_ENABLE_AUTO_MIXED_PRECISION has no effect.\n",
      "2022-01-02 10:43:43.362320: W tensorflow/core/grappler/optimizers/meta_optimizer.cc:153] TF_ENABLE_AUTO_MIXED_PRECISION has no effect.\n",
      "2022-01-02 10:43:43.362326: W tensorflow/core/grappler/optimizers/meta_optimizer.cc:153] TF_ENABLE_AUTO_MIXED_PRECISION has no effect.\n",
      "2022-01-02 10:43:53.349442: I tensorflow/core/kernels/data/shuffle_dataset_op.cc:177] Filling up shuffle buffer (this may take a while): 10811 of 70504\n",
      "2022-01-02 10:44:03.349016: I tensorflow/core/kernels/data/shuffle_dataset_op.cc:177] Filling up shuffle buffer (this may take a while): 21793 of 70504\n",
      "2022-01-02 10:44:13.349077: I tensorflow/core/kernels/data/shuffle_dataset_op.cc:177] Filling up shuffle buffer (this may take a while): 32783 of 70504\n",
      "2022-01-02 10:44:23.349106: I tensorflow/core/kernels/data/shuffle_dataset_op.cc:177] Filling up shuffle buffer (this may take a while): 43830 of 70504\n",
      "2022-01-02 10:44:33.349805: I tensorflow/core/kernels/data/shuffle_dataset_op.cc:177] Filling up shuffle buffer (this may take a while): 54796 of 70504\n",
      "2022-01-02 10:44:43.348767: I tensorflow/core/kernels/data/shuffle_dataset_op.cc:177] Filling up shuffle buffer (this may take a while): 65838 of 70504\n",
      "2022-01-02 10:44:47.564687: I tensorflow/core/kernels/data/shuffle_dataset_op.cc:230] Shuffle buffer filled.\n"
     ]
    },
    {
     "name": "stdout",
     "output_type": "stream",
     "text": [
      "Epoch 185, gen_loss: 37077468.0000, disc_loss: -75783696.0000\n",
      "Time for epoch 185 is 99.2536 sec\n"
     ]
    },
    {
     "name": "stderr",
     "output_type": "stream",
     "text": [
      "2022-01-02 10:45:22.656926: W tensorflow/core/grappler/optimizers/meta_optimizer.cc:153] TF_ENABLE_AUTO_MIXED_PRECISION has no effect.\n",
      "2022-01-02 10:45:22.656981: W tensorflow/core/grappler/optimizers/meta_optimizer.cc:153] TF_ENABLE_AUTO_MIXED_PRECISION has no effect.\n",
      "2022-01-02 10:45:22.656995: W tensorflow/core/grappler/optimizers/meta_optimizer.cc:153] TF_ENABLE_AUTO_MIXED_PRECISION has no effect.\n",
      "2022-01-02 10:45:22.657001: W tensorflow/core/grappler/optimizers/meta_optimizer.cc:153] TF_ENABLE_AUTO_MIXED_PRECISION has no effect.\n",
      "2022-01-02 10:45:32.644434: I tensorflow/core/kernels/data/shuffle_dataset_op.cc:177] Filling up shuffle buffer (this may take a while): 10838 of 70504\n",
      "2022-01-02 10:45:42.644982: I tensorflow/core/kernels/data/shuffle_dataset_op.cc:177] Filling up shuffle buffer (this may take a while): 21756 of 70504\n",
      "2022-01-02 10:45:52.644222: I tensorflow/core/kernels/data/shuffle_dataset_op.cc:177] Filling up shuffle buffer (this may take a while): 32705 of 70504\n",
      "2022-01-02 10:46:02.644317: I tensorflow/core/kernels/data/shuffle_dataset_op.cc:177] Filling up shuffle buffer (this may take a while): 43706 of 70504\n",
      "2022-01-02 10:46:12.644537: I tensorflow/core/kernels/data/shuffle_dataset_op.cc:177] Filling up shuffle buffer (this may take a while): 54727 of 70504\n",
      "2022-01-02 10:46:22.644267: I tensorflow/core/kernels/data/shuffle_dataset_op.cc:177] Filling up shuffle buffer (this may take a while): 65780 of 70504\n",
      "2022-01-02 10:46:26.930173: I tensorflow/core/kernels/data/shuffle_dataset_op.cc:230] Shuffle buffer filled.\n"
     ]
    },
    {
     "name": "stdout",
     "output_type": "stream",
     "text": [
      "Epoch 186, gen_loss: 39238228.0000, disc_loss: -77615184.0000\n",
      "Time for epoch 186 is 99.3212 sec\n"
     ]
    },
    {
     "name": "stderr",
     "output_type": "stream",
     "text": [
      "2022-01-02 10:47:02.020208: W tensorflow/core/grappler/optimizers/meta_optimizer.cc:153] TF_ENABLE_AUTO_MIXED_PRECISION has no effect.\n",
      "2022-01-02 10:47:02.020260: W tensorflow/core/grappler/optimizers/meta_optimizer.cc:153] TF_ENABLE_AUTO_MIXED_PRECISION has no effect.\n",
      "2022-01-02 10:47:02.020274: W tensorflow/core/grappler/optimizers/meta_optimizer.cc:153] TF_ENABLE_AUTO_MIXED_PRECISION has no effect.\n",
      "2022-01-02 10:47:02.020279: W tensorflow/core/grappler/optimizers/meta_optimizer.cc:153] TF_ENABLE_AUTO_MIXED_PRECISION has no effect.\n",
      "2022-01-02 10:47:12.006807: I tensorflow/core/kernels/data/shuffle_dataset_op.cc:177] Filling up shuffle buffer (this may take a while): 10791 of 70504\n",
      "2022-01-02 10:47:22.006699: I tensorflow/core/kernels/data/shuffle_dataset_op.cc:177] Filling up shuffle buffer (this may take a while): 21746 of 70504\n",
      "2022-01-02 10:47:32.007517: I tensorflow/core/kernels/data/shuffle_dataset_op.cc:177] Filling up shuffle buffer (this may take a while): 32681 of 70504\n",
      "2022-01-02 10:47:42.007592: I tensorflow/core/kernels/data/shuffle_dataset_op.cc:177] Filling up shuffle buffer (this may take a while): 43717 of 70504\n",
      "2022-01-02 10:47:52.007804: I tensorflow/core/kernels/data/shuffle_dataset_op.cc:177] Filling up shuffle buffer (this may take a while): 54704 of 70504\n",
      "2022-01-02 10:48:02.006774: I tensorflow/core/kernels/data/shuffle_dataset_op.cc:177] Filling up shuffle buffer (this may take a while): 65794 of 70504\n",
      "2022-01-02 10:48:06.258824: I tensorflow/core/kernels/data/shuffle_dataset_op.cc:230] Shuffle buffer filled.\n"
     ]
    },
    {
     "name": "stdout",
     "output_type": "stream",
     "text": [
      "Epoch 187, gen_loss: 39929848.0000, disc_loss: -78051192.0000\n",
      "Time for epoch 187 is 99.3471 sec\n"
     ]
    },
    {
     "name": "stderr",
     "output_type": "stream",
     "text": [
      "2022-01-02 10:48:41.413920: W tensorflow/core/grappler/optimizers/meta_optimizer.cc:153] TF_ENABLE_AUTO_MIXED_PRECISION has no effect.\n",
      "2022-01-02 10:48:41.413972: W tensorflow/core/grappler/optimizers/meta_optimizer.cc:153] TF_ENABLE_AUTO_MIXED_PRECISION has no effect.\n",
      "2022-01-02 10:48:41.413986: W tensorflow/core/grappler/optimizers/meta_optimizer.cc:153] TF_ENABLE_AUTO_MIXED_PRECISION has no effect.\n",
      "2022-01-02 10:48:41.413992: W tensorflow/core/grappler/optimizers/meta_optimizer.cc:153] TF_ENABLE_AUTO_MIXED_PRECISION has no effect.\n",
      "2022-01-02 10:48:51.397052: I tensorflow/core/kernels/data/shuffle_dataset_op.cc:177] Filling up shuffle buffer (this may take a while): 10701 of 70504\n",
      "2022-01-02 10:49:01.397963: I tensorflow/core/kernels/data/shuffle_dataset_op.cc:177] Filling up shuffle buffer (this may take a while): 21579 of 70504\n",
      "2022-01-02 10:49:11.396764: I tensorflow/core/kernels/data/shuffle_dataset_op.cc:177] Filling up shuffle buffer (this may take a while): 32503 of 70504\n",
      "2022-01-02 10:49:21.398379: I tensorflow/core/kernels/data/shuffle_dataset_op.cc:177] Filling up shuffle buffer (this may take a while): 43485 of 70504\n",
      "2022-01-02 10:49:31.397523: I tensorflow/core/kernels/data/shuffle_dataset_op.cc:177] Filling up shuffle buffer (this may take a while): 54464 of 70504\n",
      "2022-01-02 10:49:41.397041: I tensorflow/core/kernels/data/shuffle_dataset_op.cc:177] Filling up shuffle buffer (this may take a while): 65499 of 70504\n",
      "2022-01-02 10:49:45.939708: I tensorflow/core/kernels/data/shuffle_dataset_op.cc:230] Shuffle buffer filled.\n"
     ]
    },
    {
     "name": "stdout",
     "output_type": "stream",
     "text": [
      "Epoch 188, gen_loss: 40431028.0000, disc_loss: -80194776.0000\n",
      "Time for epoch 188 is 99.5474 sec\n"
     ]
    },
    {
     "name": "stderr",
     "output_type": "stream",
     "text": [
      "2022-01-02 10:50:21.004842: W tensorflow/core/grappler/optimizers/meta_optimizer.cc:153] TF_ENABLE_AUTO_MIXED_PRECISION has no effect.\n",
      "2022-01-02 10:50:21.004898: W tensorflow/core/grappler/optimizers/meta_optimizer.cc:153] TF_ENABLE_AUTO_MIXED_PRECISION has no effect.\n",
      "2022-01-02 10:50:21.004912: W tensorflow/core/grappler/optimizers/meta_optimizer.cc:153] TF_ENABLE_AUTO_MIXED_PRECISION has no effect.\n",
      "2022-01-02 10:50:21.004917: W tensorflow/core/grappler/optimizers/meta_optimizer.cc:153] TF_ENABLE_AUTO_MIXED_PRECISION has no effect.\n",
      "2022-01-02 10:50:30.988720: I tensorflow/core/kernels/data/shuffle_dataset_op.cc:177] Filling up shuffle buffer (this may take a while): 10720 of 70504\n",
      "2022-01-02 10:50:40.988311: I tensorflow/core/kernels/data/shuffle_dataset_op.cc:177] Filling up shuffle buffer (this may take a while): 21620 of 70504\n",
      "2022-01-02 10:50:50.990304: I tensorflow/core/kernels/data/shuffle_dataset_op.cc:177] Filling up shuffle buffer (this may take a while): 32552 of 70504\n",
      "2022-01-02 10:51:00.988471: I tensorflow/core/kernels/data/shuffle_dataset_op.cc:177] Filling up shuffle buffer (this may take a while): 43486 of 70504\n",
      "2022-01-02 10:51:10.988174: I tensorflow/core/kernels/data/shuffle_dataset_op.cc:177] Filling up shuffle buffer (this may take a while): 54430 of 70504\n",
      "2022-01-02 10:51:20.989786: I tensorflow/core/kernels/data/shuffle_dataset_op.cc:177] Filling up shuffle buffer (this may take a while): 65377 of 70504\n",
      "2022-01-02 10:51:25.660102: I tensorflow/core/kernels/data/shuffle_dataset_op.cc:230] Shuffle buffer filled.\n"
     ]
    },
    {
     "name": "stdout",
     "output_type": "stream",
     "text": [
      "Epoch 189, gen_loss: 42461188.0000, disc_loss: -84231024.0000\n",
      "Time for epoch 189 is 99.6886 sec\n"
     ]
    },
    {
     "name": "stderr",
     "output_type": "stream",
     "text": [
      "2022-01-02 10:52:00.731729: W tensorflow/core/grappler/optimizers/meta_optimizer.cc:153] TF_ENABLE_AUTO_MIXED_PRECISION has no effect.\n",
      "2022-01-02 10:52:00.731771: W tensorflow/core/grappler/optimizers/meta_optimizer.cc:153] TF_ENABLE_AUTO_MIXED_PRECISION has no effect.\n",
      "2022-01-02 10:52:00.731785: W tensorflow/core/grappler/optimizers/meta_optimizer.cc:153] TF_ENABLE_AUTO_MIXED_PRECISION has no effect.\n",
      "2022-01-02 10:52:00.731790: W tensorflow/core/grappler/optimizers/meta_optimizer.cc:153] TF_ENABLE_AUTO_MIXED_PRECISION has no effect.\n",
      "2022-01-02 10:52:10.718971: I tensorflow/core/kernels/data/shuffle_dataset_op.cc:177] Filling up shuffle buffer (this may take a while): 10799 of 70504\n",
      "2022-01-02 10:52:20.719337: I tensorflow/core/kernels/data/shuffle_dataset_op.cc:177] Filling up shuffle buffer (this may take a while): 21743 of 70504\n",
      "2022-01-02 10:52:30.719723: I tensorflow/core/kernels/data/shuffle_dataset_op.cc:177] Filling up shuffle buffer (this may take a while): 32643 of 70504\n",
      "2022-01-02 10:52:40.718883: I tensorflow/core/kernels/data/shuffle_dataset_op.cc:177] Filling up shuffle buffer (this may take a while): 43602 of 70504\n",
      "2022-01-02 10:52:50.720066: I tensorflow/core/kernels/data/shuffle_dataset_op.cc:177] Filling up shuffle buffer (this may take a while): 54576 of 70504\n",
      "2022-01-02 10:53:00.718679: I tensorflow/core/kernels/data/shuffle_dataset_op.cc:177] Filling up shuffle buffer (this may take a while): 65604 of 70504\n",
      "2022-01-02 10:53:05.131432: I tensorflow/core/kernels/data/shuffle_dataset_op.cc:230] Shuffle buffer filled.\n"
     ]
    },
    {
     "name": "stdout",
     "output_type": "stream",
     "text": [
      "Epoch 190, gen_loss: 43911972.0000, disc_loss: -84596008.0000\n",
      "Time for epoch 190 is 99.4400 sec\n"
     ]
    },
    {
     "name": "stderr",
     "output_type": "stream",
     "text": [
      "2022-01-02 10:53:40.211935: W tensorflow/core/grappler/optimizers/meta_optimizer.cc:153] TF_ENABLE_AUTO_MIXED_PRECISION has no effect.\n",
      "2022-01-02 10:53:40.211985: W tensorflow/core/grappler/optimizers/meta_optimizer.cc:153] TF_ENABLE_AUTO_MIXED_PRECISION has no effect.\n",
      "2022-01-02 10:53:40.211999: W tensorflow/core/grappler/optimizers/meta_optimizer.cc:153] TF_ENABLE_AUTO_MIXED_PRECISION has no effect.\n",
      "2022-01-02 10:53:40.212004: W tensorflow/core/grappler/optimizers/meta_optimizer.cc:153] TF_ENABLE_AUTO_MIXED_PRECISION has no effect.\n",
      "2022-01-02 10:53:50.198835: I tensorflow/core/kernels/data/shuffle_dataset_op.cc:177] Filling up shuffle buffer (this may take a while): 10556 of 70504\n",
      "2022-01-02 10:54:00.198698: I tensorflow/core/kernels/data/shuffle_dataset_op.cc:177] Filling up shuffle buffer (this may take a while): 21228 of 70504\n",
      "2022-01-02 10:54:10.198912: I tensorflow/core/kernels/data/shuffle_dataset_op.cc:177] Filling up shuffle buffer (this may take a while): 31961 of 70504\n",
      "2022-01-02 10:54:20.198628: I tensorflow/core/kernels/data/shuffle_dataset_op.cc:177] Filling up shuffle buffer (this may take a while): 42708 of 70504\n",
      "2022-01-02 10:54:30.198975: I tensorflow/core/kernels/data/shuffle_dataset_op.cc:177] Filling up shuffle buffer (this may take a while): 53430 of 70504\n",
      "2022-01-02 10:54:40.199861: I tensorflow/core/kernels/data/shuffle_dataset_op.cc:177] Filling up shuffle buffer (this may take a while): 64248 of 70504\n",
      "2022-01-02 10:54:45.963622: I tensorflow/core/kernels/data/shuffle_dataset_op.cc:230] Shuffle buffer filled.\n"
     ]
    },
    {
     "name": "stdout",
     "output_type": "stream",
     "text": [
      "Epoch 191, gen_loss: 43097056.0000, disc_loss: -86212424.0000\n",
      "Time for epoch 191 is 100.8285 sec\n"
     ]
    },
    {
     "name": "stderr",
     "output_type": "stream",
     "text": [
      "2022-01-02 10:55:21.088154: W tensorflow/core/grappler/optimizers/meta_optimizer.cc:153] TF_ENABLE_AUTO_MIXED_PRECISION has no effect.\n",
      "2022-01-02 10:55:21.088534: W tensorflow/core/grappler/optimizers/meta_optimizer.cc:153] TF_ENABLE_AUTO_MIXED_PRECISION has no effect.\n",
      "2022-01-02 10:55:21.088561: W tensorflow/core/grappler/optimizers/meta_optimizer.cc:153] TF_ENABLE_AUTO_MIXED_PRECISION has no effect.\n",
      "2022-01-02 10:55:21.088566: W tensorflow/core/grappler/optimizers/meta_optimizer.cc:153] TF_ENABLE_AUTO_MIXED_PRECISION has no effect.\n",
      "2022-01-02 10:55:31.077716: I tensorflow/core/kernels/data/shuffle_dataset_op.cc:177] Filling up shuffle buffer (this may take a while): 10824 of 70504\n",
      "2022-01-02 10:55:41.077939: I tensorflow/core/kernels/data/shuffle_dataset_op.cc:177] Filling up shuffle buffer (this may take a while): 21777 of 70504\n",
      "2022-01-02 10:55:51.078964: I tensorflow/core/kernels/data/shuffle_dataset_op.cc:177] Filling up shuffle buffer (this may take a while): 32681 of 70504\n",
      "2022-01-02 10:56:01.077912: I tensorflow/core/kernels/data/shuffle_dataset_op.cc:177] Filling up shuffle buffer (this may take a while): 43684 of 70504\n",
      "2022-01-02 10:56:11.077565: I tensorflow/core/kernels/data/shuffle_dataset_op.cc:177] Filling up shuffle buffer (this may take a while): 54680 of 70504\n",
      "2022-01-02 10:56:21.077448: I tensorflow/core/kernels/data/shuffle_dataset_op.cc:177] Filling up shuffle buffer (this may take a while): 65739 of 70504\n",
      "2022-01-02 10:56:25.373743: I tensorflow/core/kernels/data/shuffle_dataset_op.cc:230] Shuffle buffer filled.\n"
     ]
    },
    {
     "name": "stdout",
     "output_type": "stream",
     "text": [
      "Epoch 192, gen_loss: 42963788.0000, disc_loss: -86329640.0000\n",
      "Time for epoch 192 is 99.4089 sec\n"
     ]
    },
    {
     "name": "stderr",
     "output_type": "stream",
     "text": [
      "2022-01-02 10:57:00.540003: W tensorflow/core/grappler/optimizers/meta_optimizer.cc:153] TF_ENABLE_AUTO_MIXED_PRECISION has no effect.\n",
      "2022-01-02 10:57:00.540056: W tensorflow/core/grappler/optimizers/meta_optimizer.cc:153] TF_ENABLE_AUTO_MIXED_PRECISION has no effect.\n",
      "2022-01-02 10:57:00.540071: W tensorflow/core/grappler/optimizers/meta_optimizer.cc:153] TF_ENABLE_AUTO_MIXED_PRECISION has no effect.\n",
      "2022-01-02 10:57:00.540076: W tensorflow/core/grappler/optimizers/meta_optimizer.cc:153] TF_ENABLE_AUTO_MIXED_PRECISION has no effect.\n",
      "2022-01-02 10:57:10.528361: I tensorflow/core/kernels/data/shuffle_dataset_op.cc:177] Filling up shuffle buffer (this may take a while): 10821 of 70504\n",
      "2022-01-02 10:57:20.528215: I tensorflow/core/kernels/data/shuffle_dataset_op.cc:177] Filling up shuffle buffer (this may take a while): 21760 of 70504\n",
      "2022-01-02 10:57:30.529543: I tensorflow/core/kernels/data/shuffle_dataset_op.cc:177] Filling up shuffle buffer (this may take a while): 32648 of 70504\n",
      "2022-01-02 10:57:40.528589: I tensorflow/core/kernels/data/shuffle_dataset_op.cc:177] Filling up shuffle buffer (this may take a while): 43600 of 70504\n",
      "2022-01-02 10:57:50.529352: I tensorflow/core/kernels/data/shuffle_dataset_op.cc:177] Filling up shuffle buffer (this may take a while): 54542 of 70504\n",
      "2022-01-02 10:58:00.528623: I tensorflow/core/kernels/data/shuffle_dataset_op.cc:177] Filling up shuffle buffer (this may take a while): 65583 of 70504\n",
      "2022-01-02 10:58:04.998000: I tensorflow/core/kernels/data/shuffle_dataset_op.cc:230] Shuffle buffer filled.\n"
     ]
    },
    {
     "name": "stdout",
     "output_type": "stream",
     "text": [
      "Epoch 193, gen_loss: 43521208.0000, disc_loss: -87554704.0000\n",
      "Time for epoch 193 is 99.5238 sec\n"
     ]
    },
    {
     "name": "stderr",
     "output_type": "stream",
     "text": [
      "2022-01-02 10:58:40.107266: W tensorflow/core/grappler/optimizers/meta_optimizer.cc:153] TF_ENABLE_AUTO_MIXED_PRECISION has no effect.\n",
      "2022-01-02 10:58:40.107318: W tensorflow/core/grappler/optimizers/meta_optimizer.cc:153] TF_ENABLE_AUTO_MIXED_PRECISION has no effect.\n",
      "2022-01-02 10:58:40.107332: W tensorflow/core/grappler/optimizers/meta_optimizer.cc:153] TF_ENABLE_AUTO_MIXED_PRECISION has no effect.\n",
      "2022-01-02 10:58:40.107337: W tensorflow/core/grappler/optimizers/meta_optimizer.cc:153] TF_ENABLE_AUTO_MIXED_PRECISION has no effect.\n",
      "2022-01-02 10:58:50.093444: I tensorflow/core/kernels/data/shuffle_dataset_op.cc:177] Filling up shuffle buffer (this may take a while): 10802 of 70504\n",
      "2022-01-02 10:59:00.093593: I tensorflow/core/kernels/data/shuffle_dataset_op.cc:177] Filling up shuffle buffer (this may take a while): 21746 of 70504\n",
      "2022-01-02 10:59:10.093352: I tensorflow/core/kernels/data/shuffle_dataset_op.cc:177] Filling up shuffle buffer (this may take a while): 32688 of 70504\n",
      "2022-01-02 10:59:20.094282: I tensorflow/core/kernels/data/shuffle_dataset_op.cc:177] Filling up shuffle buffer (this may take a while): 43691 of 70504\n",
      "2022-01-02 10:59:30.093789: I tensorflow/core/kernels/data/shuffle_dataset_op.cc:177] Filling up shuffle buffer (this may take a while): 54693 of 70504\n",
      "2022-01-02 10:59:40.094336: I tensorflow/core/kernels/data/shuffle_dataset_op.cc:177] Filling up shuffle buffer (this may take a while): 65741 of 70504\n",
      "2022-01-02 10:59:44.417790: I tensorflow/core/kernels/data/shuffle_dataset_op.cc:230] Shuffle buffer filled.\n"
     ]
    },
    {
     "name": "stdout",
     "output_type": "stream",
     "text": [
      "Epoch 194, gen_loss: 45785380.0000, disc_loss: -91168184.0000\n",
      "Time for epoch 194 is 99.3555 sec\n"
     ]
    },
    {
     "name": "stderr",
     "output_type": "stream",
     "text": [
      "2022-01-02 11:00:19.509382: W tensorflow/core/grappler/optimizers/meta_optimizer.cc:153] TF_ENABLE_AUTO_MIXED_PRECISION has no effect.\n",
      "2022-01-02 11:00:19.509436: W tensorflow/core/grappler/optimizers/meta_optimizer.cc:153] TF_ENABLE_AUTO_MIXED_PRECISION has no effect.\n",
      "2022-01-02 11:00:19.509449: W tensorflow/core/grappler/optimizers/meta_optimizer.cc:153] TF_ENABLE_AUTO_MIXED_PRECISION has no effect.\n",
      "2022-01-02 11:00:19.509455: W tensorflow/core/grappler/optimizers/meta_optimizer.cc:153] TF_ENABLE_AUTO_MIXED_PRECISION has no effect.\n",
      "2022-01-02 11:00:29.500222: I tensorflow/core/kernels/data/shuffle_dataset_op.cc:177] Filling up shuffle buffer (this may take a while): 10806 of 70504\n",
      "2022-01-02 11:00:39.499119: I tensorflow/core/kernels/data/shuffle_dataset_op.cc:177] Filling up shuffle buffer (this may take a while): 21775 of 70504\n",
      "2022-01-02 11:00:49.499394: I tensorflow/core/kernels/data/shuffle_dataset_op.cc:177] Filling up shuffle buffer (this may take a while): 32720 of 70504\n",
      "2022-01-02 11:00:59.498680: I tensorflow/core/kernels/data/shuffle_dataset_op.cc:177] Filling up shuffle buffer (this may take a while): 43714 of 70504\n",
      "2022-01-02 11:01:09.498948: I tensorflow/core/kernels/data/shuffle_dataset_op.cc:177] Filling up shuffle buffer (this may take a while): 54705 of 70504\n",
      "2022-01-02 11:01:19.499542: I tensorflow/core/kernels/data/shuffle_dataset_op.cc:177] Filling up shuffle buffer (this may take a while): 65774 of 70504\n",
      "2022-01-02 11:01:23.780980: I tensorflow/core/kernels/data/shuffle_dataset_op.cc:230] Shuffle buffer filled.\n"
     ]
    },
    {
     "name": "stdout",
     "output_type": "stream",
     "text": [
      "Epoch 195, gen_loss: 45277352.0000, disc_loss: -90779888.0000\n",
      "Time for epoch 195 is 99.3266 sec\n"
     ]
    },
    {
     "name": "stderr",
     "output_type": "stream",
     "text": [
      "2022-01-02 11:01:58.879650: W tensorflow/core/grappler/optimizers/meta_optimizer.cc:153] TF_ENABLE_AUTO_MIXED_PRECISION has no effect.\n",
      "2022-01-02 11:01:58.879701: W tensorflow/core/grappler/optimizers/meta_optimizer.cc:153] TF_ENABLE_AUTO_MIXED_PRECISION has no effect.\n",
      "2022-01-02 11:01:58.879715: W tensorflow/core/grappler/optimizers/meta_optimizer.cc:153] TF_ENABLE_AUTO_MIXED_PRECISION has no effect.\n",
      "2022-01-02 11:01:58.879721: W tensorflow/core/grappler/optimizers/meta_optimizer.cc:153] TF_ENABLE_AUTO_MIXED_PRECISION has no effect.\n",
      "2022-01-02 11:02:08.866929: I tensorflow/core/kernels/data/shuffle_dataset_op.cc:177] Filling up shuffle buffer (this may take a while): 10563 of 70504\n",
      "2022-01-02 11:02:18.867669: I tensorflow/core/kernels/data/shuffle_dataset_op.cc:177] Filling up shuffle buffer (this may take a while): 21248 of 70504\n",
      "2022-01-02 11:02:28.866772: I tensorflow/core/kernels/data/shuffle_dataset_op.cc:177] Filling up shuffle buffer (this may take a while): 31977 of 70504\n",
      "2022-01-02 11:02:38.868632: I tensorflow/core/kernels/data/shuffle_dataset_op.cc:177] Filling up shuffle buffer (this may take a while): 42668 of 70504\n",
      "2022-01-02 11:02:48.867216: I tensorflow/core/kernels/data/shuffle_dataset_op.cc:177] Filling up shuffle buffer (this may take a while): 53387 of 70504\n",
      "2022-01-02 11:02:58.867694: I tensorflow/core/kernels/data/shuffle_dataset_op.cc:177] Filling up shuffle buffer (this may take a while): 64216 of 70504\n",
      "2022-01-02 11:03:04.652029: I tensorflow/core/kernels/data/shuffle_dataset_op.cc:230] Shuffle buffer filled.\n"
     ]
    },
    {
     "name": "stdout",
     "output_type": "stream",
     "text": [
      "Epoch 196, gen_loss: 46483176.0000, disc_loss: -93246856.0000\n",
      "Time for epoch 196 is 100.8203 sec\n"
     ]
    },
    {
     "name": "stderr",
     "output_type": "stream",
     "text": [
      "2022-01-02 11:03:39.742509: W tensorflow/core/grappler/optimizers/meta_optimizer.cc:153] TF_ENABLE_AUTO_MIXED_PRECISION has no effect.\n",
      "2022-01-02 11:03:39.742563: W tensorflow/core/grappler/optimizers/meta_optimizer.cc:153] TF_ENABLE_AUTO_MIXED_PRECISION has no effect.\n",
      "2022-01-02 11:03:39.742577: W tensorflow/core/grappler/optimizers/meta_optimizer.cc:153] TF_ENABLE_AUTO_MIXED_PRECISION has no effect.\n",
      "2022-01-02 11:03:39.742583: W tensorflow/core/grappler/optimizers/meta_optimizer.cc:153] TF_ENABLE_AUTO_MIXED_PRECISION has no effect.\n",
      "2022-01-02 11:03:49.730288: I tensorflow/core/kernels/data/shuffle_dataset_op.cc:177] Filling up shuffle buffer (this may take a while): 10564 of 70504\n",
      "2022-01-02 11:03:59.730919: I tensorflow/core/kernels/data/shuffle_dataset_op.cc:177] Filling up shuffle buffer (this may take a while): 21247 of 70504\n",
      "2022-01-02 11:04:09.730239: I tensorflow/core/kernels/data/shuffle_dataset_op.cc:177] Filling up shuffle buffer (this may take a while): 31975 of 70504\n",
      "2022-01-02 11:04:19.730124: I tensorflow/core/kernels/data/shuffle_dataset_op.cc:177] Filling up shuffle buffer (this may take a while): 42796 of 70504\n",
      "2022-01-02 11:04:29.730019: I tensorflow/core/kernels/data/shuffle_dataset_op.cc:177] Filling up shuffle buffer (this may take a while): 53524 of 70504\n",
      "2022-01-02 11:04:39.730066: I tensorflow/core/kernels/data/shuffle_dataset_op.cc:177] Filling up shuffle buffer (this may take a while): 64362 of 70504\n",
      "2022-01-02 11:04:45.408450: I tensorflow/core/kernels/data/shuffle_dataset_op.cc:230] Shuffle buffer filled.\n"
     ]
    },
    {
     "name": "stdout",
     "output_type": "stream",
     "text": [
      "Epoch 197, gen_loss: 47739052.0000, disc_loss: -94852016.0000\n",
      "Time for epoch 197 is 100.6868 sec\n"
     ]
    },
    {
     "name": "stderr",
     "output_type": "stream",
     "text": [
      "2022-01-02 11:05:20.469939: W tensorflow/core/grappler/optimizers/meta_optimizer.cc:153] TF_ENABLE_AUTO_MIXED_PRECISION has no effect.\n",
      "2022-01-02 11:05:20.469989: W tensorflow/core/grappler/optimizers/meta_optimizer.cc:153] TF_ENABLE_AUTO_MIXED_PRECISION has no effect.\n",
      "2022-01-02 11:05:20.470002: W tensorflow/core/grappler/optimizers/meta_optimizer.cc:153] TF_ENABLE_AUTO_MIXED_PRECISION has no effect.\n",
      "2022-01-02 11:05:20.470008: W tensorflow/core/grappler/optimizers/meta_optimizer.cc:153] TF_ENABLE_AUTO_MIXED_PRECISION has no effect.\n",
      "2022-01-02 11:05:30.456431: I tensorflow/core/kernels/data/shuffle_dataset_op.cc:177] Filling up shuffle buffer (this may take a while): 10575 of 70504\n",
      "2022-01-02 11:05:40.455957: I tensorflow/core/kernels/data/shuffle_dataset_op.cc:177] Filling up shuffle buffer (this may take a while): 21314 of 70504\n",
      "2022-01-02 11:05:50.456898: I tensorflow/core/kernels/data/shuffle_dataset_op.cc:177] Filling up shuffle buffer (this may take a while): 32071 of 70504\n",
      "2022-01-02 11:06:00.455885: I tensorflow/core/kernels/data/shuffle_dataset_op.cc:177] Filling up shuffle buffer (this may take a while): 42851 of 70504\n",
      "2022-01-02 11:06:10.455448: I tensorflow/core/kernels/data/shuffle_dataset_op.cc:177] Filling up shuffle buffer (this may take a while): 53633 of 70504\n",
      "2022-01-02 11:06:20.455335: I tensorflow/core/kernels/data/shuffle_dataset_op.cc:177] Filling up shuffle buffer (this may take a while): 64500 of 70504\n",
      "2022-01-02 11:06:26.003917: I tensorflow/core/kernels/data/shuffle_dataset_op.cc:230] Shuffle buffer filled.\n"
     ]
    },
    {
     "name": "stdout",
     "output_type": "stream",
     "text": [
      "Epoch 198, gen_loss: 49218548.0000, disc_loss: -98952688.0000\n",
      "Time for epoch 198 is 100.5887 sec\n"
     ]
    },
    {
     "name": "stderr",
     "output_type": "stream",
     "text": [
      "2022-01-02 11:07:01.104030: W tensorflow/core/grappler/optimizers/meta_optimizer.cc:153] TF_ENABLE_AUTO_MIXED_PRECISION has no effect.\n",
      "2022-01-02 11:07:01.104082: W tensorflow/core/grappler/optimizers/meta_optimizer.cc:153] TF_ENABLE_AUTO_MIXED_PRECISION has no effect.\n",
      "2022-01-02 11:07:01.104096: W tensorflow/core/grappler/optimizers/meta_optimizer.cc:153] TF_ENABLE_AUTO_MIXED_PRECISION has no effect.\n",
      "2022-01-02 11:07:01.104101: W tensorflow/core/grappler/optimizers/meta_optimizer.cc:153] TF_ENABLE_AUTO_MIXED_PRECISION has no effect.\n",
      "2022-01-02 11:07:11.088189: I tensorflow/core/kernels/data/shuffle_dataset_op.cc:177] Filling up shuffle buffer (this may take a while): 10517 of 70504\n",
      "2022-01-02 11:07:21.090889: I tensorflow/core/kernels/data/shuffle_dataset_op.cc:177] Filling up shuffle buffer (this may take a while): 21151 of 70504\n",
      "2022-01-02 11:07:31.090295: I tensorflow/core/kernels/data/shuffle_dataset_op.cc:177] Filling up shuffle buffer (this may take a while): 31902 of 70504\n",
      "2022-01-02 11:07:41.088988: I tensorflow/core/kernels/data/shuffle_dataset_op.cc:177] Filling up shuffle buffer (this may take a while): 42670 of 70504\n",
      "2022-01-02 11:07:51.089979: I tensorflow/core/kernels/data/shuffle_dataset_op.cc:177] Filling up shuffle buffer (this may take a while): 53434 of 70504\n",
      "2022-01-02 11:08:01.089089: I tensorflow/core/kernels/data/shuffle_dataset_op.cc:177] Filling up shuffle buffer (this may take a while): 64270 of 70504\n",
      "2022-01-02 11:08:06.847310: I tensorflow/core/kernels/data/shuffle_dataset_op.cc:230] Shuffle buffer filled.\n"
     ]
    },
    {
     "name": "stdout",
     "output_type": "stream",
     "text": [
      "Epoch 199, gen_loss: 49091924.0000, disc_loss: -98137976.0000\n",
      "Time for epoch 199 is 100.8837 sec\n"
     ]
    },
    {
     "name": "stderr",
     "output_type": "stream",
     "text": [
      "2022-01-02 11:08:42.058956: W tensorflow/core/grappler/optimizers/meta_optimizer.cc:153] TF_ENABLE_AUTO_MIXED_PRECISION has no effect.\n",
      "2022-01-02 11:08:42.059008: W tensorflow/core/grappler/optimizers/meta_optimizer.cc:153] TF_ENABLE_AUTO_MIXED_PRECISION has no effect.\n",
      "2022-01-02 11:08:42.059028: W tensorflow/core/grappler/optimizers/meta_optimizer.cc:153] TF_ENABLE_AUTO_MIXED_PRECISION has no effect.\n",
      "2022-01-02 11:08:42.059034: W tensorflow/core/grappler/optimizers/meta_optimizer.cc:153] TF_ENABLE_AUTO_MIXED_PRECISION has no effect.\n",
      "2022-01-02 11:08:52.045292: I tensorflow/core/kernels/data/shuffle_dataset_op.cc:177] Filling up shuffle buffer (this may take a while): 10584 of 70504\n",
      "2022-01-02 11:09:02.045984: I tensorflow/core/kernels/data/shuffle_dataset_op.cc:177] Filling up shuffle buffer (this may take a while): 21293 of 70504\n",
      "2022-01-02 11:09:12.046848: I tensorflow/core/kernels/data/shuffle_dataset_op.cc:177] Filling up shuffle buffer (this may take a while): 32050 of 70504\n",
      "2022-01-02 11:09:22.045493: I tensorflow/core/kernels/data/shuffle_dataset_op.cc:177] Filling up shuffle buffer (this may take a while): 42821 of 70504\n",
      "2022-01-02 11:09:32.044397: I tensorflow/core/kernels/data/shuffle_dataset_op.cc:177] Filling up shuffle buffer (this may take a while): 53565 of 70504\n",
      "2022-01-02 11:09:42.045186: I tensorflow/core/kernels/data/shuffle_dataset_op.cc:177] Filling up shuffle buffer (this may take a while): 64377 of 70504\n",
      "2022-01-02 11:09:47.708871: I tensorflow/core/kernels/data/shuffle_dataset_op.cc:230] Shuffle buffer filled.\n"
     ]
    },
    {
     "name": "stdout",
     "output_type": "stream",
     "text": [
      "Epoch 200, gen_loss: -4980864.0000, disc_loss: -58272004.0000\n",
      "Time for epoch 200 is 100.7742 sec\n"
     ]
    },
    {
     "name": "stderr",
     "output_type": "stream",
     "text": [
      "2022-01-02 11:10:23.012634: W tensorflow/core/grappler/optimizers/meta_optimizer.cc:153] TF_ENABLE_AUTO_MIXED_PRECISION has no effect.\n",
      "2022-01-02 11:10:23.012696: W tensorflow/core/grappler/optimizers/meta_optimizer.cc:153] TF_ENABLE_AUTO_MIXED_PRECISION has no effect.\n",
      "2022-01-02 11:10:23.012711: W tensorflow/core/grappler/optimizers/meta_optimizer.cc:153] TF_ENABLE_AUTO_MIXED_PRECISION has no effect.\n",
      "2022-01-02 11:10:23.012717: W tensorflow/core/grappler/optimizers/meta_optimizer.cc:153] TF_ENABLE_AUTO_MIXED_PRECISION has no effect.\n",
      "2022-01-02 11:10:33.000387: I tensorflow/core/kernels/data/shuffle_dataset_op.cc:177] Filling up shuffle buffer (this may take a while): 10531 of 70504\n",
      "2022-01-02 11:10:42.998079: I tensorflow/core/kernels/data/shuffle_dataset_op.cc:177] Filling up shuffle buffer (this may take a while): 21227 of 70504\n",
      "2022-01-02 11:10:52.997763: I tensorflow/core/kernels/data/shuffle_dataset_op.cc:177] Filling up shuffle buffer (this may take a while): 31984 of 70504\n",
      "2022-01-02 11:11:02.998196: I tensorflow/core/kernels/data/shuffle_dataset_op.cc:177] Filling up shuffle buffer (this may take a while): 42741 of 70504\n",
      "2022-01-02 11:11:12.998545: I tensorflow/core/kernels/data/shuffle_dataset_op.cc:177] Filling up shuffle buffer (this may take a while): 53468 of 70504\n",
      "2022-01-02 11:11:22.998140: I tensorflow/core/kernels/data/shuffle_dataset_op.cc:177] Filling up shuffle buffer (this may take a while): 64264 of 70504\n",
      "2022-01-02 11:11:28.771767: I tensorflow/core/kernels/data/shuffle_dataset_op.cc:230] Shuffle buffer filled.\n"
     ]
    },
    {
     "name": "stdout",
     "output_type": "stream",
     "text": [
      "Epoch 201, gen_loss: 13178381.0000, disc_loss: -84176504.0000\n",
      "Time for epoch 201 is 100.8597 sec\n"
     ]
    },
    {
     "name": "stderr",
     "output_type": "stream",
     "text": [
      "2022-01-02 11:12:03.915490: W tensorflow/core/grappler/optimizers/meta_optimizer.cc:153] TF_ENABLE_AUTO_MIXED_PRECISION has no effect.\n",
      "2022-01-02 11:12:03.915540: W tensorflow/core/grappler/optimizers/meta_optimizer.cc:153] TF_ENABLE_AUTO_MIXED_PRECISION has no effect.\n",
      "2022-01-02 11:12:03.915553: W tensorflow/core/grappler/optimizers/meta_optimizer.cc:153] TF_ENABLE_AUTO_MIXED_PRECISION has no effect.\n",
      "2022-01-02 11:12:03.915559: W tensorflow/core/grappler/optimizers/meta_optimizer.cc:153] TF_ENABLE_AUTO_MIXED_PRECISION has no effect.\n",
      "2022-01-02 11:12:13.902136: I tensorflow/core/kernels/data/shuffle_dataset_op.cc:177] Filling up shuffle buffer (this may take a while): 10793 of 70504\n",
      "2022-01-02 11:12:23.902217: I tensorflow/core/kernels/data/shuffle_dataset_op.cc:177] Filling up shuffle buffer (this may take a while): 21780 of 70504\n",
      "2022-01-02 11:12:33.901862: I tensorflow/core/kernels/data/shuffle_dataset_op.cc:177] Filling up shuffle buffer (this may take a while): 32739 of 70504\n",
      "2022-01-02 11:12:43.902535: I tensorflow/core/kernels/data/shuffle_dataset_op.cc:177] Filling up shuffle buffer (this may take a while): 43724 of 70504\n",
      "2022-01-02 11:12:53.901935: I tensorflow/core/kernels/data/shuffle_dataset_op.cc:177] Filling up shuffle buffer (this may take a while): 54750 of 70504\n",
      "2022-01-02 11:13:03.902416: I tensorflow/core/kernels/data/shuffle_dataset_op.cc:177] Filling up shuffle buffer (this may take a while): 65804 of 70504\n",
      "2022-01-02 11:13:08.148636: I tensorflow/core/kernels/data/shuffle_dataset_op.cc:230] Shuffle buffer filled.\n"
     ]
    },
    {
     "name": "stdout",
     "output_type": "stream",
     "text": [
      "Epoch 202, gen_loss: 57690156.0000, disc_loss: -79191904.0000\n",
      "Time for epoch 202 is 99.2282 sec\n"
     ]
    },
    {
     "name": "stderr",
     "output_type": "stream",
     "text": [
      "2022-01-02 11:13:43.190675: W tensorflow/core/grappler/optimizers/meta_optimizer.cc:153] TF_ENABLE_AUTO_MIXED_PRECISION has no effect.\n",
      "2022-01-02 11:13:43.190725: W tensorflow/core/grappler/optimizers/meta_optimizer.cc:153] TF_ENABLE_AUTO_MIXED_PRECISION has no effect.\n",
      "2022-01-02 11:13:43.190739: W tensorflow/core/grappler/optimizers/meta_optimizer.cc:153] TF_ENABLE_AUTO_MIXED_PRECISION has no effect.\n",
      "2022-01-02 11:13:43.190744: W tensorflow/core/grappler/optimizers/meta_optimizer.cc:153] TF_ENABLE_AUTO_MIXED_PRECISION has no effect.\n",
      "2022-01-02 11:13:53.180577: I tensorflow/core/kernels/data/shuffle_dataset_op.cc:177] Filling up shuffle buffer (this may take a while): 10699 of 70504\n",
      "2022-01-02 11:14:03.181909: I tensorflow/core/kernels/data/shuffle_dataset_op.cc:177] Filling up shuffle buffer (this may take a while): 21662 of 70504\n",
      "2022-01-02 11:14:13.181386: I tensorflow/core/kernels/data/shuffle_dataset_op.cc:177] Filling up shuffle buffer (this may take a while): 32687 of 70504\n",
      "2022-01-02 11:14:23.180546: I tensorflow/core/kernels/data/shuffle_dataset_op.cc:177] Filling up shuffle buffer (this may take a while): 43701 of 70504\n",
      "2022-01-02 11:14:33.181262: I tensorflow/core/kernels/data/shuffle_dataset_op.cc:177] Filling up shuffle buffer (this may take a while): 54654 of 70504\n",
      "2022-01-02 11:14:43.180041: I tensorflow/core/kernels/data/shuffle_dataset_op.cc:177] Filling up shuffle buffer (this may take a while): 65671 of 70504\n",
      "2022-01-02 11:14:47.532806: I tensorflow/core/kernels/data/shuffle_dataset_op.cc:230] Shuffle buffer filled.\n"
     ]
    },
    {
     "name": "stdout",
     "output_type": "stream",
     "text": [
      "Epoch 203, gen_loss: 68857432.0000, disc_loss: 244916.7188\n",
      "Time for epoch 203 is 99.4069 sec\n"
     ]
    },
    {
     "name": "stderr",
     "output_type": "stream",
     "text": [
      "2022-01-02 11:15:22.639268: W tensorflow/core/grappler/optimizers/meta_optimizer.cc:153] TF_ENABLE_AUTO_MIXED_PRECISION has no effect.\n",
      "2022-01-02 11:15:22.639319: W tensorflow/core/grappler/optimizers/meta_optimizer.cc:153] TF_ENABLE_AUTO_MIXED_PRECISION has no effect.\n",
      "2022-01-02 11:15:22.639333: W tensorflow/core/grappler/optimizers/meta_optimizer.cc:153] TF_ENABLE_AUTO_MIXED_PRECISION has no effect.\n",
      "2022-01-02 11:15:22.639339: W tensorflow/core/grappler/optimizers/meta_optimizer.cc:153] TF_ENABLE_AUTO_MIXED_PRECISION has no effect.\n",
      "2022-01-02 11:15:32.628327: I tensorflow/core/kernels/data/shuffle_dataset_op.cc:177] Filling up shuffle buffer (this may take a while): 10752 of 70504\n",
      "2022-01-02 11:15:42.628679: I tensorflow/core/kernels/data/shuffle_dataset_op.cc:177] Filling up shuffle buffer (this may take a while): 21793 of 70504\n",
      "2022-01-02 11:15:52.628209: I tensorflow/core/kernels/data/shuffle_dataset_op.cc:177] Filling up shuffle buffer (this may take a while): 32779 of 70504\n",
      "2022-01-02 11:16:02.629055: I tensorflow/core/kernels/data/shuffle_dataset_op.cc:177] Filling up shuffle buffer (this may take a while): 43804 of 70504\n",
      "2022-01-02 11:16:12.628921: I tensorflow/core/kernels/data/shuffle_dataset_op.cc:177] Filling up shuffle buffer (this may take a while): 54811 of 70504\n",
      "2022-01-02 11:16:22.628315: I tensorflow/core/kernels/data/shuffle_dataset_op.cc:177] Filling up shuffle buffer (this may take a while): 65861 of 70504\n",
      "2022-01-02 11:16:26.834948: I tensorflow/core/kernels/data/shuffle_dataset_op.cc:230] Shuffle buffer filled.\n"
     ]
    },
    {
     "name": "stdout",
     "output_type": "stream",
     "text": [
      "Epoch 204, gen_loss: 68590080.0000, disc_loss: 1002.6493\n",
      "Time for epoch 204 is 99.2268 sec\n"
     ]
    },
    {
     "name": "stderr",
     "output_type": "stream",
     "text": [
      "2022-01-02 11:17:01.910448: W tensorflow/core/grappler/optimizers/meta_optimizer.cc:153] TF_ENABLE_AUTO_MIXED_PRECISION has no effect.\n",
      "2022-01-02 11:17:01.910496: W tensorflow/core/grappler/optimizers/meta_optimizer.cc:153] TF_ENABLE_AUTO_MIXED_PRECISION has no effect.\n",
      "2022-01-02 11:17:01.910510: W tensorflow/core/grappler/optimizers/meta_optimizer.cc:153] TF_ENABLE_AUTO_MIXED_PRECISION has no effect.\n",
      "2022-01-02 11:17:01.910515: W tensorflow/core/grappler/optimizers/meta_optimizer.cc:153] TF_ENABLE_AUTO_MIXED_PRECISION has no effect.\n",
      "2022-01-02 11:17:11.897517: I tensorflow/core/kernels/data/shuffle_dataset_op.cc:177] Filling up shuffle buffer (this may take a while): 10612 of 70504\n",
      "2022-01-02 11:17:21.897867: I tensorflow/core/kernels/data/shuffle_dataset_op.cc:177] Filling up shuffle buffer (this may take a while): 21319 of 70504\n",
      "2022-01-02 11:17:31.897587: I tensorflow/core/kernels/data/shuffle_dataset_op.cc:177] Filling up shuffle buffer (this may take a while): 32073 of 70504\n",
      "2022-01-02 11:17:41.897997: I tensorflow/core/kernels/data/shuffle_dataset_op.cc:177] Filling up shuffle buffer (this may take a while): 42825 of 70504\n",
      "2022-01-02 11:17:51.897645: I tensorflow/core/kernels/data/shuffle_dataset_op.cc:177] Filling up shuffle buffer (this may take a while): 53529 of 70504\n",
      "2022-01-02 11:18:01.899200: I tensorflow/core/kernels/data/shuffle_dataset_op.cc:177] Filling up shuffle buffer (this may take a while): 64340 of 70504\n",
      "2022-01-02 11:18:07.609297: I tensorflow/core/kernels/data/shuffle_dataset_op.cc:230] Shuffle buffer filled.\n"
     ]
    },
    {
     "name": "stdout",
     "output_type": "stream",
     "text": [
      "Epoch 205, gen_loss: 68126704.0000, disc_loss: 68.5010\n",
      "Time for epoch 205 is 100.7948 sec\n"
     ]
    },
    {
     "name": "stderr",
     "output_type": "stream",
     "text": [
      "2022-01-02 11:18:42.748884: W tensorflow/core/grappler/optimizers/meta_optimizer.cc:153] TF_ENABLE_AUTO_MIXED_PRECISION has no effect.\n",
      "2022-01-02 11:18:42.748938: W tensorflow/core/grappler/optimizers/meta_optimizer.cc:153] TF_ENABLE_AUTO_MIXED_PRECISION has no effect.\n",
      "2022-01-02 11:18:42.748952: W tensorflow/core/grappler/optimizers/meta_optimizer.cc:153] TF_ENABLE_AUTO_MIXED_PRECISION has no effect.\n",
      "2022-01-02 11:18:42.748958: W tensorflow/core/grappler/optimizers/meta_optimizer.cc:153] TF_ENABLE_AUTO_MIXED_PRECISION has no effect.\n",
      "2022-01-02 11:18:52.737999: I tensorflow/core/kernels/data/shuffle_dataset_op.cc:177] Filling up shuffle buffer (this may take a while): 10547 of 70504\n",
      "2022-01-02 11:19:02.737547: I tensorflow/core/kernels/data/shuffle_dataset_op.cc:177] Filling up shuffle buffer (this may take a while): 21282 of 70504\n",
      "2022-01-02 11:19:12.738281: I tensorflow/core/kernels/data/shuffle_dataset_op.cc:177] Filling up shuffle buffer (this may take a while): 32043 of 70504\n",
      "2022-01-02 11:19:22.737523: I tensorflow/core/kernels/data/shuffle_dataset_op.cc:177] Filling up shuffle buffer (this may take a while): 42811 of 70504\n",
      "2022-01-02 11:19:32.738013: I tensorflow/core/kernels/data/shuffle_dataset_op.cc:177] Filling up shuffle buffer (this may take a while): 53448 of 70504\n",
      "2022-01-02 11:19:42.736583: I tensorflow/core/kernels/data/shuffle_dataset_op.cc:177] Filling up shuffle buffer (this may take a while): 64242 of 70504\n",
      "2022-01-02 11:19:48.523864: I tensorflow/core/kernels/data/shuffle_dataset_op.cc:230] Shuffle buffer filled.\n"
     ]
    },
    {
     "name": "stdout",
     "output_type": "stream",
     "text": [
      "Epoch 206, gen_loss: 67581680.0000, disc_loss: 175.3622\n",
      "Time for epoch 206 is 100.8227 sec\n"
     ]
    },
    {
     "name": "stderr",
     "output_type": "stream",
     "text": [
      "2022-01-02 11:20:23.619696: W tensorflow/core/grappler/optimizers/meta_optimizer.cc:153] TF_ENABLE_AUTO_MIXED_PRECISION has no effect.\n",
      "2022-01-02 11:20:23.619753: W tensorflow/core/grappler/optimizers/meta_optimizer.cc:153] TF_ENABLE_AUTO_MIXED_PRECISION has no effect.\n",
      "2022-01-02 11:20:23.619767: W tensorflow/core/grappler/optimizers/meta_optimizer.cc:153] TF_ENABLE_AUTO_MIXED_PRECISION has no effect.\n",
      "2022-01-02 11:20:23.619773: W tensorflow/core/grappler/optimizers/meta_optimizer.cc:153] TF_ENABLE_AUTO_MIXED_PRECISION has no effect.\n",
      "2022-01-02 11:20:33.604575: I tensorflow/core/kernels/data/shuffle_dataset_op.cc:177] Filling up shuffle buffer (this may take a while): 10596 of 70504\n",
      "2022-01-02 11:20:43.604259: I tensorflow/core/kernels/data/shuffle_dataset_op.cc:177] Filling up shuffle buffer (this may take a while): 21346 of 70504\n",
      "2022-01-02 11:20:53.605933: I tensorflow/core/kernels/data/shuffle_dataset_op.cc:177] Filling up shuffle buffer (this may take a while): 32101 of 70504\n",
      "2022-01-02 11:21:03.605422: I tensorflow/core/kernels/data/shuffle_dataset_op.cc:177] Filling up shuffle buffer (this may take a while): 42899 of 70504\n",
      "2022-01-02 11:21:13.604988: I tensorflow/core/kernels/data/shuffle_dataset_op.cc:177] Filling up shuffle buffer (this may take a while): 53630 of 70504\n",
      "2022-01-02 11:21:23.606262: I tensorflow/core/kernels/data/shuffle_dataset_op.cc:177] Filling up shuffle buffer (this may take a while): 64395 of 70504\n",
      "2022-01-02 11:21:29.276204: I tensorflow/core/kernels/data/shuffle_dataset_op.cc:230] Shuffle buffer filled.\n"
     ]
    },
    {
     "name": "stdout",
     "output_type": "stream",
     "text": [
      "Epoch 207, gen_loss: 66935180.0000, disc_loss: 11.5221\n",
      "Time for epoch 207 is 100.7554 sec\n"
     ]
    },
    {
     "name": "stderr",
     "output_type": "stream",
     "text": [
      "2022-01-02 11:22:04.416315: W tensorflow/core/grappler/optimizers/meta_optimizer.cc:153] TF_ENABLE_AUTO_MIXED_PRECISION has no effect.\n",
      "2022-01-02 11:22:04.416367: W tensorflow/core/grappler/optimizers/meta_optimizer.cc:153] TF_ENABLE_AUTO_MIXED_PRECISION has no effect.\n",
      "2022-01-02 11:22:04.416381: W tensorflow/core/grappler/optimizers/meta_optimizer.cc:153] TF_ENABLE_AUTO_MIXED_PRECISION has no effect.\n",
      "2022-01-02 11:22:04.416387: W tensorflow/core/grappler/optimizers/meta_optimizer.cc:153] TF_ENABLE_AUTO_MIXED_PRECISION has no effect.\n",
      "2022-01-02 11:22:14.400773: I tensorflow/core/kernels/data/shuffle_dataset_op.cc:177] Filling up shuffle buffer (this may take a while): 10593 of 70504\n",
      "2022-01-02 11:22:24.401285: I tensorflow/core/kernels/data/shuffle_dataset_op.cc:177] Filling up shuffle buffer (this may take a while): 21338 of 70504\n",
      "2022-01-02 11:22:34.402253: I tensorflow/core/kernels/data/shuffle_dataset_op.cc:177] Filling up shuffle buffer (this may take a while): 32089 of 70504\n",
      "2022-01-02 11:22:44.402902: I tensorflow/core/kernels/data/shuffle_dataset_op.cc:177] Filling up shuffle buffer (this may take a while): 42850 of 70504\n",
      "2022-01-02 11:22:54.400681: I tensorflow/core/kernels/data/shuffle_dataset_op.cc:177] Filling up shuffle buffer (this may take a while): 53568 of 70504\n",
      "2022-01-02 11:23:04.401388: I tensorflow/core/kernels/data/shuffle_dataset_op.cc:177] Filling up shuffle buffer (this may take a while): 64378 of 70504\n",
      "2022-01-02 11:23:10.102437: I tensorflow/core/kernels/data/shuffle_dataset_op.cc:230] Shuffle buffer filled.\n"
     ]
    },
    {
     "name": "stdout",
     "output_type": "stream",
     "text": [
      "Epoch 208, gen_loss: 66285808.0000, disc_loss: 0.4322\n",
      "Time for epoch 208 is 100.7111 sec\n"
     ]
    },
    {
     "name": "stderr",
     "output_type": "stream",
     "text": [
      "2022-01-02 11:23:45.167344: W tensorflow/core/grappler/optimizers/meta_optimizer.cc:153] TF_ENABLE_AUTO_MIXED_PRECISION has no effect.\n",
      "2022-01-02 11:23:45.167395: W tensorflow/core/grappler/optimizers/meta_optimizer.cc:153] TF_ENABLE_AUTO_MIXED_PRECISION has no effect.\n",
      "2022-01-02 11:23:45.167409: W tensorflow/core/grappler/optimizers/meta_optimizer.cc:153] TF_ENABLE_AUTO_MIXED_PRECISION has no effect.\n",
      "2022-01-02 11:23:45.167415: W tensorflow/core/grappler/optimizers/meta_optimizer.cc:153] TF_ENABLE_AUTO_MIXED_PRECISION has no effect.\n",
      "2022-01-02 11:23:55.155368: I tensorflow/core/kernels/data/shuffle_dataset_op.cc:177] Filling up shuffle buffer (this may take a while): 10834 of 70504\n",
      "2022-01-02 11:24:05.154867: I tensorflow/core/kernels/data/shuffle_dataset_op.cc:177] Filling up shuffle buffer (this may take a while): 21831 of 70504\n",
      "2022-01-02 11:24:15.154353: I tensorflow/core/kernels/data/shuffle_dataset_op.cc:177] Filling up shuffle buffer (this may take a while): 32799 of 70504\n",
      "2022-01-02 11:24:25.155261: I tensorflow/core/kernels/data/shuffle_dataset_op.cc:177] Filling up shuffle buffer (this may take a while): 43819 of 70504\n",
      "2022-01-02 11:24:35.155127: I tensorflow/core/kernels/data/shuffle_dataset_op.cc:177] Filling up shuffle buffer (this may take a while): 54786 of 70504\n",
      "2022-01-02 11:24:45.154662: I tensorflow/core/kernels/data/shuffle_dataset_op.cc:177] Filling up shuffle buffer (this may take a while): 65839 of 70504\n",
      "2022-01-02 11:24:49.405581: I tensorflow/core/kernels/data/shuffle_dataset_op.cc:230] Shuffle buffer filled.\n"
     ]
    },
    {
     "name": "stdout",
     "output_type": "stream",
     "text": [
      "Epoch 209, gen_loss: 65789128.0000, disc_loss: -0.8892\n",
      "Time for epoch 209 is 99.2552 sec\n"
     ]
    },
    {
     "name": "stderr",
     "output_type": "stream",
     "text": [
      "2022-01-02 11:25:24.466128: W tensorflow/core/grappler/optimizers/meta_optimizer.cc:153] TF_ENABLE_AUTO_MIXED_PRECISION has no effect.\n",
      "2022-01-02 11:25:24.466176: W tensorflow/core/grappler/optimizers/meta_optimizer.cc:153] TF_ENABLE_AUTO_MIXED_PRECISION has no effect.\n",
      "2022-01-02 11:25:24.466189: W tensorflow/core/grappler/optimizers/meta_optimizer.cc:153] TF_ENABLE_AUTO_MIXED_PRECISION has no effect.\n",
      "2022-01-02 11:25:24.466195: W tensorflow/core/grappler/optimizers/meta_optimizer.cc:153] TF_ENABLE_AUTO_MIXED_PRECISION has no effect.\n",
      "2022-01-02 11:25:34.452363: I tensorflow/core/kernels/data/shuffle_dataset_op.cc:177] Filling up shuffle buffer (this may take a while): 10807 of 70504\n",
      "2022-01-02 11:25:44.452413: I tensorflow/core/kernels/data/shuffle_dataset_op.cc:177] Filling up shuffle buffer (this may take a while): 21819 of 70504\n",
      "2022-01-02 11:25:54.451900: I tensorflow/core/kernels/data/shuffle_dataset_op.cc:177] Filling up shuffle buffer (this may take a while): 32767 of 70504\n",
      "2022-01-02 11:26:04.452364: I tensorflow/core/kernels/data/shuffle_dataset_op.cc:177] Filling up shuffle buffer (this may take a while): 43756 of 70504\n",
      "2022-01-02 11:26:14.451945: I tensorflow/core/kernels/data/shuffle_dataset_op.cc:177] Filling up shuffle buffer (this may take a while): 54711 of 70504\n",
      "2022-01-02 11:26:24.452092: I tensorflow/core/kernels/data/shuffle_dataset_op.cc:177] Filling up shuffle buffer (this may take a while): 65734 of 70504\n",
      "2022-01-02 11:26:28.784163: I tensorflow/core/kernels/data/shuffle_dataset_op.cc:230] Shuffle buffer filled.\n"
     ]
    },
    {
     "name": "stdout",
     "output_type": "stream",
     "text": [
      "Epoch 210, gen_loss: 65467088.0000, disc_loss: -0.5428\n",
      "Time for epoch 210 is 99.4339 sec\n"
     ]
    },
    {
     "name": "stderr",
     "output_type": "stream",
     "text": [
      "2022-01-02 11:27:03.952274: W tensorflow/core/grappler/optimizers/meta_optimizer.cc:153] TF_ENABLE_AUTO_MIXED_PRECISION has no effect.\n",
      "2022-01-02 11:27:03.952323: W tensorflow/core/grappler/optimizers/meta_optimizer.cc:153] TF_ENABLE_AUTO_MIXED_PRECISION has no effect.\n",
      "2022-01-02 11:27:03.952337: W tensorflow/core/grappler/optimizers/meta_optimizer.cc:153] TF_ENABLE_AUTO_MIXED_PRECISION has no effect.\n",
      "2022-01-02 11:27:03.952342: W tensorflow/core/grappler/optimizers/meta_optimizer.cc:153] TF_ENABLE_AUTO_MIXED_PRECISION has no effect.\n",
      "2022-01-02 11:27:13.932940: I tensorflow/core/kernels/data/shuffle_dataset_op.cc:177] Filling up shuffle buffer (this may take a while): 10613 of 70504\n",
      "2022-01-02 11:27:23.932418: I tensorflow/core/kernels/data/shuffle_dataset_op.cc:177] Filling up shuffle buffer (this may take a while): 21366 of 70504\n",
      "2022-01-02 11:27:33.933565: I tensorflow/core/kernels/data/shuffle_dataset_op.cc:177] Filling up shuffle buffer (this may take a while): 32133 of 70504\n",
      "2022-01-02 11:27:43.933491: I tensorflow/core/kernels/data/shuffle_dataset_op.cc:177] Filling up shuffle buffer (this may take a while): 42931 of 70504\n",
      "2022-01-02 11:27:53.933060: I tensorflow/core/kernels/data/shuffle_dataset_op.cc:177] Filling up shuffle buffer (this may take a while): 53652 of 70504\n",
      "2022-01-02 11:28:03.932816: I tensorflow/core/kernels/data/shuffle_dataset_op.cc:177] Filling up shuffle buffer (this may take a while): 64435 of 70504\n",
      "2022-01-02 11:28:09.555732: I tensorflow/core/kernels/data/shuffle_dataset_op.cc:230] Shuffle buffer filled.\n"
     ]
    },
    {
     "name": "stdout",
     "output_type": "stream",
     "text": [
      "Epoch 211, gen_loss: 65203372.0000, disc_loss: -0.9046\n",
      "Time for epoch 211 is 100.6310 sec\n"
     ]
    },
    {
     "name": "stderr",
     "output_type": "stream",
     "text": [
      "2022-01-02 11:28:44.623112: W tensorflow/core/grappler/optimizers/meta_optimizer.cc:153] TF_ENABLE_AUTO_MIXED_PRECISION has no effect.\n",
      "2022-01-02 11:28:44.623163: W tensorflow/core/grappler/optimizers/meta_optimizer.cc:153] TF_ENABLE_AUTO_MIXED_PRECISION has no effect.\n",
      "2022-01-02 11:28:44.623178: W tensorflow/core/grappler/optimizers/meta_optimizer.cc:153] TF_ENABLE_AUTO_MIXED_PRECISION has no effect.\n",
      "2022-01-02 11:28:44.623183: W tensorflow/core/grappler/optimizers/meta_optimizer.cc:153] TF_ENABLE_AUTO_MIXED_PRECISION has no effect.\n",
      "2022-01-02 11:28:54.607043: I tensorflow/core/kernels/data/shuffle_dataset_op.cc:177] Filling up shuffle buffer (this may take a while): 10823 of 70504\n",
      "2022-01-02 11:29:04.605404: I tensorflow/core/kernels/data/shuffle_dataset_op.cc:177] Filling up shuffle buffer (this may take a while): 21799 of 70504\n",
      "2022-01-02 11:29:14.606600: I tensorflow/core/kernels/data/shuffle_dataset_op.cc:177] Filling up shuffle buffer (this may take a while): 32764 of 70504\n",
      "2022-01-02 11:29:24.606098: I tensorflow/core/kernels/data/shuffle_dataset_op.cc:177] Filling up shuffle buffer (this may take a while): 43793 of 70504\n",
      "2022-01-02 11:29:34.606329: I tensorflow/core/kernels/data/shuffle_dataset_op.cc:177] Filling up shuffle buffer (this may take a while): 54751 of 70504\n",
      "2022-01-02 11:29:44.605559: I tensorflow/core/kernels/data/shuffle_dataset_op.cc:177] Filling up shuffle buffer (this may take a while): 65771 of 70504\n",
      "2022-01-02 11:29:48.885382: I tensorflow/core/kernels/data/shuffle_dataset_op.cc:230] Shuffle buffer filled.\n"
     ]
    },
    {
     "name": "stdout",
     "output_type": "stream",
     "text": [
      "Epoch 212, gen_loss: 64888692.0000, disc_loss: -2.0823\n",
      "Time for epoch 212 is 99.3184 sec\n"
     ]
    },
    {
     "name": "stderr",
     "output_type": "stream",
     "text": [
      "2022-01-02 11:30:23.982373: W tensorflow/core/grappler/optimizers/meta_optimizer.cc:153] TF_ENABLE_AUTO_MIXED_PRECISION has no effect.\n",
      "2022-01-02 11:30:23.982423: W tensorflow/core/grappler/optimizers/meta_optimizer.cc:153] TF_ENABLE_AUTO_MIXED_PRECISION has no effect.\n",
      "2022-01-02 11:30:23.982437: W tensorflow/core/grappler/optimizers/meta_optimizer.cc:153] TF_ENABLE_AUTO_MIXED_PRECISION has no effect.\n",
      "2022-01-02 11:30:23.982443: W tensorflow/core/grappler/optimizers/meta_optimizer.cc:153] TF_ENABLE_AUTO_MIXED_PRECISION has no effect.\n",
      "2022-01-02 11:30:33.966733: I tensorflow/core/kernels/data/shuffle_dataset_op.cc:177] Filling up shuffle buffer (this may take a while): 10519 of 70504\n",
      "2022-01-02 11:30:43.966010: I tensorflow/core/kernels/data/shuffle_dataset_op.cc:177] Filling up shuffle buffer (this may take a while): 21192 of 70504\n",
      "2022-01-02 11:30:53.967017: I tensorflow/core/kernels/data/shuffle_dataset_op.cc:177] Filling up shuffle buffer (this may take a while): 31899 of 70504\n",
      "2022-01-02 11:31:03.966679: I tensorflow/core/kernels/data/shuffle_dataset_op.cc:177] Filling up shuffle buffer (this may take a while): 42642 of 70504\n",
      "2022-01-02 11:31:13.967319: I tensorflow/core/kernels/data/shuffle_dataset_op.cc:177] Filling up shuffle buffer (this may take a while): 53349 of 70504\n",
      "2022-01-02 11:31:23.965958: I tensorflow/core/kernels/data/shuffle_dataset_op.cc:177] Filling up shuffle buffer (this may take a while): 64134 of 70504\n",
      "2022-01-02 11:31:29.874687: I tensorflow/core/kernels/data/shuffle_dataset_op.cc:230] Shuffle buffer filled.\n"
     ]
    },
    {
     "name": "stdout",
     "output_type": "stream",
     "text": [
      "Epoch 213, gen_loss: 64516204.0000, disc_loss: -1.2333\n",
      "Time for epoch 213 is 100.9808 sec\n"
     ]
    },
    {
     "name": "stderr",
     "output_type": "stream",
     "text": [
      "2022-01-02 11:32:05.008925: W tensorflow/core/grappler/optimizers/meta_optimizer.cc:153] TF_ENABLE_AUTO_MIXED_PRECISION has no effect.\n",
      "2022-01-02 11:32:05.008978: W tensorflow/core/grappler/optimizers/meta_optimizer.cc:153] TF_ENABLE_AUTO_MIXED_PRECISION has no effect.\n",
      "2022-01-02 11:32:05.008993: W tensorflow/core/grappler/optimizers/meta_optimizer.cc:153] TF_ENABLE_AUTO_MIXED_PRECISION has no effect.\n",
      "2022-01-02 11:32:05.008999: W tensorflow/core/grappler/optimizers/meta_optimizer.cc:153] TF_ENABLE_AUTO_MIXED_PRECISION has no effect.\n",
      "2022-01-02 11:32:14.992285: I tensorflow/core/kernels/data/shuffle_dataset_op.cc:177] Filling up shuffle buffer (this may take a while): 10773 of 70504\n",
      "2022-01-02 11:32:24.992020: I tensorflow/core/kernels/data/shuffle_dataset_op.cc:177] Filling up shuffle buffer (this may take a while): 21709 of 70504\n",
      "2022-01-02 11:32:34.991965: I tensorflow/core/kernels/data/shuffle_dataset_op.cc:177] Filling up shuffle buffer (this may take a while): 32662 of 70504\n",
      "2022-01-02 11:32:44.992062: I tensorflow/core/kernels/data/shuffle_dataset_op.cc:177] Filling up shuffle buffer (this may take a while): 43671 of 70504\n",
      "2022-01-02 11:32:55.009868: I tensorflow/core/kernels/data/shuffle_dataset_op.cc:177] Filling up shuffle buffer (this may take a while): 54695 of 70504\n",
      "2022-01-02 11:33:04.992355: I tensorflow/core/kernels/data/shuffle_dataset_op.cc:177] Filling up shuffle buffer (this may take a while): 65750 of 70504\n",
      "2022-01-02 11:33:09.304415: I tensorflow/core/kernels/data/shuffle_dataset_op.cc:230] Shuffle buffer filled.\n"
     ]
    },
    {
     "name": "stdout",
     "output_type": "stream",
     "text": [
      "Epoch 214, gen_loss: 64149916.0000, disc_loss: -1.4877\n",
      "Time for epoch 214 is 99.3684 sec\n"
     ]
    },
    {
     "name": "stderr",
     "output_type": "stream",
     "text": [
      "2022-01-02 11:33:44.417045: W tensorflow/core/grappler/optimizers/meta_optimizer.cc:153] TF_ENABLE_AUTO_MIXED_PRECISION has no effect.\n",
      "2022-01-02 11:33:44.417097: W tensorflow/core/grappler/optimizers/meta_optimizer.cc:153] TF_ENABLE_AUTO_MIXED_PRECISION has no effect.\n",
      "2022-01-02 11:33:44.417111: W tensorflow/core/grappler/optimizers/meta_optimizer.cc:153] TF_ENABLE_AUTO_MIXED_PRECISION has no effect.\n",
      "2022-01-02 11:33:44.417117: W tensorflow/core/grappler/optimizers/meta_optimizer.cc:153] TF_ENABLE_AUTO_MIXED_PRECISION has no effect.\n",
      "2022-01-02 11:33:54.404477: I tensorflow/core/kernels/data/shuffle_dataset_op.cc:177] Filling up shuffle buffer (this may take a while): 10771 of 70504\n",
      "2022-01-02 11:34:04.405792: I tensorflow/core/kernels/data/shuffle_dataset_op.cc:177] Filling up shuffle buffer (this may take a while): 21679 of 70504\n",
      "2022-01-02 11:34:14.403521: I tensorflow/core/kernels/data/shuffle_dataset_op.cc:177] Filling up shuffle buffer (this may take a while): 32618 of 70504\n",
      "2022-01-02 11:34:24.426771: I tensorflow/core/kernels/data/shuffle_dataset_op.cc:177] Filling up shuffle buffer (this may take a while): 43605 of 70504\n",
      "2022-01-02 11:34:34.404579: I tensorflow/core/kernels/data/shuffle_dataset_op.cc:177] Filling up shuffle buffer (this may take a while): 54568 of 70504\n",
      "2022-01-02 11:34:44.406987: I tensorflow/core/kernels/data/shuffle_dataset_op.cc:177] Filling up shuffle buffer (this may take a while): 65464 of 70504\n",
      "2022-01-02 11:34:49.016189: I tensorflow/core/kernels/data/shuffle_dataset_op.cc:230] Shuffle buffer filled.\n"
     ]
    },
    {
     "name": "stdout",
     "output_type": "stream",
     "text": [
      "Epoch 215, gen_loss: 63866760.0000, disc_loss: -1.5979\n",
      "Time for epoch 215 is 99.6243 sec\n"
     ]
    },
    {
     "name": "stderr",
     "output_type": "stream",
     "text": [
      "2022-01-02 11:35:24.085190: W tensorflow/core/grappler/optimizers/meta_optimizer.cc:153] TF_ENABLE_AUTO_MIXED_PRECISION has no effect.\n",
      "2022-01-02 11:35:24.085237: W tensorflow/core/grappler/optimizers/meta_optimizer.cc:153] TF_ENABLE_AUTO_MIXED_PRECISION has no effect.\n",
      "2022-01-02 11:35:24.085251: W tensorflow/core/grappler/optimizers/meta_optimizer.cc:153] TF_ENABLE_AUTO_MIXED_PRECISION has no effect.\n",
      "2022-01-02 11:35:24.085256: W tensorflow/core/grappler/optimizers/meta_optimizer.cc:153] TF_ENABLE_AUTO_MIXED_PRECISION has no effect.\n",
      "2022-01-02 11:35:34.072047: I tensorflow/core/kernels/data/shuffle_dataset_op.cc:177] Filling up shuffle buffer (this may take a while): 10574 of 70504\n",
      "2022-01-02 11:35:44.071862: I tensorflow/core/kernels/data/shuffle_dataset_op.cc:177] Filling up shuffle buffer (this may take a while): 21283 of 70504\n",
      "2022-01-02 11:35:54.072522: I tensorflow/core/kernels/data/shuffle_dataset_op.cc:177] Filling up shuffle buffer (this may take a while): 32030 of 70504\n",
      "2022-01-02 11:36:04.071700: I tensorflow/core/kernels/data/shuffle_dataset_op.cc:177] Filling up shuffle buffer (this may take a while): 42813 of 70504\n",
      "2022-01-02 11:36:14.072536: I tensorflow/core/kernels/data/shuffle_dataset_op.cc:177] Filling up shuffle buffer (this may take a while): 53586 of 70504\n",
      "2022-01-02 11:36:24.072953: I tensorflow/core/kernels/data/shuffle_dataset_op.cc:177] Filling up shuffle buffer (this may take a while): 64344 of 70504\n",
      "2022-01-02 11:36:29.825168: I tensorflow/core/kernels/data/shuffle_dataset_op.cc:230] Shuffle buffer filled.\n"
     ]
    },
    {
     "name": "stdout",
     "output_type": "stream",
     "text": [
      "Epoch 216, gen_loss: 63435768.0000, disc_loss: -1.3983\n",
      "Time for epoch 216 is 100.7946 sec\n"
     ]
    },
    {
     "name": "stderr",
     "output_type": "stream",
     "text": [
      "2022-01-02 11:37:04.925356: W tensorflow/core/grappler/optimizers/meta_optimizer.cc:153] TF_ENABLE_AUTO_MIXED_PRECISION has no effect.\n",
      "2022-01-02 11:37:04.925410: W tensorflow/core/grappler/optimizers/meta_optimizer.cc:153] TF_ENABLE_AUTO_MIXED_PRECISION has no effect.\n",
      "2022-01-02 11:37:04.925425: W tensorflow/core/grappler/optimizers/meta_optimizer.cc:153] TF_ENABLE_AUTO_MIXED_PRECISION has no effect.\n",
      "2022-01-02 11:37:04.925430: W tensorflow/core/grappler/optimizers/meta_optimizer.cc:153] TF_ENABLE_AUTO_MIXED_PRECISION has no effect.\n",
      "2022-01-02 11:37:14.909166: I tensorflow/core/kernels/data/shuffle_dataset_op.cc:177] Filling up shuffle buffer (this may take a while): 10642 of 70504\n",
      "2022-01-02 11:37:24.908330: I tensorflow/core/kernels/data/shuffle_dataset_op.cc:177] Filling up shuffle buffer (this may take a while): 21367 of 70504\n",
      "2022-01-02 11:37:34.909709: I tensorflow/core/kernels/data/shuffle_dataset_op.cc:177] Filling up shuffle buffer (this may take a while): 32083 of 70504\n",
      "2022-01-02 11:37:44.908959: I tensorflow/core/kernels/data/shuffle_dataset_op.cc:177] Filling up shuffle buffer (this may take a while): 42840 of 70504\n",
      "2022-01-02 11:37:54.909797: I tensorflow/core/kernels/data/shuffle_dataset_op.cc:177] Filling up shuffle buffer (this may take a while): 53571 of 70504\n",
      "2022-01-02 11:38:04.909516: I tensorflow/core/kernels/data/shuffle_dataset_op.cc:177] Filling up shuffle buffer (this may take a while): 64319 of 70504\n",
      "2022-01-02 11:38:10.651509: I tensorflow/core/kernels/data/shuffle_dataset_op.cc:230] Shuffle buffer filled.\n"
     ]
    },
    {
     "name": "stdout",
     "output_type": "stream",
     "text": [
      "Epoch 217, gen_loss: 63145076.0000, disc_loss: -1.1052\n",
      "Time for epoch 217 is 100.8565 sec\n"
     ]
    },
    {
     "name": "stderr",
     "output_type": "stream",
     "text": [
      "2022-01-02 11:38:45.814692: W tensorflow/core/grappler/optimizers/meta_optimizer.cc:153] TF_ENABLE_AUTO_MIXED_PRECISION has no effect.\n",
      "2022-01-02 11:38:45.814735: W tensorflow/core/grappler/optimizers/meta_optimizer.cc:153] TF_ENABLE_AUTO_MIXED_PRECISION has no effect.\n",
      "2022-01-02 11:38:45.814749: W tensorflow/core/grappler/optimizers/meta_optimizer.cc:153] TF_ENABLE_AUTO_MIXED_PRECISION has no effect.\n",
      "2022-01-02 11:38:45.814754: W tensorflow/core/grappler/optimizers/meta_optimizer.cc:153] TF_ENABLE_AUTO_MIXED_PRECISION has no effect.\n",
      "2022-01-02 11:38:55.804013: I tensorflow/core/kernels/data/shuffle_dataset_op.cc:177] Filling up shuffle buffer (this may take a while): 10597 of 70504\n",
      "2022-01-02 11:39:05.807890: I tensorflow/core/kernels/data/shuffle_dataset_op.cc:177] Filling up shuffle buffer (this may take a while): 21310 of 70504\n",
      "2022-01-02 11:39:15.804017: I tensorflow/core/kernels/data/shuffle_dataset_op.cc:177] Filling up shuffle buffer (this may take a while): 32083 of 70504\n",
      "2022-01-02 11:39:25.804274: I tensorflow/core/kernels/data/shuffle_dataset_op.cc:177] Filling up shuffle buffer (this may take a while): 42881 of 70504\n",
      "2022-01-02 11:39:35.804945: I tensorflow/core/kernels/data/shuffle_dataset_op.cc:177] Filling up shuffle buffer (this may take a while): 53626 of 70504\n",
      "2022-01-02 11:39:45.804289: I tensorflow/core/kernels/data/shuffle_dataset_op.cc:177] Filling up shuffle buffer (this may take a while): 64401 of 70504\n",
      "2022-01-02 11:39:51.433244: I tensorflow/core/kernels/data/shuffle_dataset_op.cc:230] Shuffle buffer filled.\n"
     ]
    },
    {
     "name": "stdout",
     "output_type": "stream",
     "text": [
      "Epoch 218, gen_loss: 62817068.0000, disc_loss: -0.9452\n",
      "Time for epoch 218 is 100.6903 sec\n"
     ]
    },
    {
     "name": "stderr",
     "output_type": "stream",
     "text": [
      "2022-01-02 11:40:26.548759: W tensorflow/core/grappler/optimizers/meta_optimizer.cc:153] TF_ENABLE_AUTO_MIXED_PRECISION has no effect.\n",
      "2022-01-02 11:40:26.548809: W tensorflow/core/grappler/optimizers/meta_optimizer.cc:153] TF_ENABLE_AUTO_MIXED_PRECISION has no effect.\n",
      "2022-01-02 11:40:26.548822: W tensorflow/core/grappler/optimizers/meta_optimizer.cc:153] TF_ENABLE_AUTO_MIXED_PRECISION has no effect.\n",
      "2022-01-02 11:40:26.548827: W tensorflow/core/grappler/optimizers/meta_optimizer.cc:153] TF_ENABLE_AUTO_MIXED_PRECISION has no effect.\n",
      "2022-01-02 11:40:36.537627: I tensorflow/core/kernels/data/shuffle_dataset_op.cc:177] Filling up shuffle buffer (this may take a while): 10820 of 70504\n",
      "2022-01-02 11:40:46.537714: I tensorflow/core/kernels/data/shuffle_dataset_op.cc:177] Filling up shuffle buffer (this may take a while): 21813 of 70504\n",
      "2022-01-02 11:40:56.536865: I tensorflow/core/kernels/data/shuffle_dataset_op.cc:177] Filling up shuffle buffer (this may take a while): 32851 of 70504\n",
      "2022-01-02 11:41:06.536741: I tensorflow/core/kernels/data/shuffle_dataset_op.cc:177] Filling up shuffle buffer (this may take a while): 43882 of 70504\n",
      "2022-01-02 11:41:16.536853: I tensorflow/core/kernels/data/shuffle_dataset_op.cc:177] Filling up shuffle buffer (this may take a while): 54881 of 70504\n",
      "2022-01-02 11:41:26.536238: I tensorflow/core/kernels/data/shuffle_dataset_op.cc:177] Filling up shuffle buffer (this may take a while): 65957 of 70504\n",
      "2022-01-02 11:41:30.663742: I tensorflow/core/kernels/data/shuffle_dataset_op.cc:230] Shuffle buffer filled.\n"
     ]
    },
    {
     "name": "stdout",
     "output_type": "stream",
     "text": [
      "Epoch 219, gen_loss: 62534296.0000, disc_loss: -0.9294\n",
      "Time for epoch 219 is 99.1265 sec\n"
     ]
    },
    {
     "name": "stderr",
     "output_type": "stream",
     "text": [
      "2022-01-02 11:42:05.719983: W tensorflow/core/grappler/optimizers/meta_optimizer.cc:153] TF_ENABLE_AUTO_MIXED_PRECISION has no effect.\n",
      "2022-01-02 11:42:05.720042: W tensorflow/core/grappler/optimizers/meta_optimizer.cc:153] TF_ENABLE_AUTO_MIXED_PRECISION has no effect.\n",
      "2022-01-02 11:42:05.720056: W tensorflow/core/grappler/optimizers/meta_optimizer.cc:153] TF_ENABLE_AUTO_MIXED_PRECISION has no effect.\n",
      "2022-01-02 11:42:05.720062: W tensorflow/core/grappler/optimizers/meta_optimizer.cc:153] TF_ENABLE_AUTO_MIXED_PRECISION has no effect.\n",
      "2022-01-02 11:42:15.708528: I tensorflow/core/kernels/data/shuffle_dataset_op.cc:177] Filling up shuffle buffer (this may take a while): 10591 of 70504\n",
      "2022-01-02 11:42:25.707943: I tensorflow/core/kernels/data/shuffle_dataset_op.cc:177] Filling up shuffle buffer (this may take a while): 21242 of 70504\n",
      "2022-01-02 11:42:35.708492: I tensorflow/core/kernels/data/shuffle_dataset_op.cc:177] Filling up shuffle buffer (this may take a while): 31949 of 70504\n",
      "2022-01-02 11:42:45.708887: I tensorflow/core/kernels/data/shuffle_dataset_op.cc:177] Filling up shuffle buffer (this may take a while): 42705 of 70504\n",
      "2022-01-02 11:42:55.707940: I tensorflow/core/kernels/data/shuffle_dataset_op.cc:177] Filling up shuffle buffer (this may take a while): 53418 of 70504\n",
      "2022-01-02 11:43:05.707482: I tensorflow/core/kernels/data/shuffle_dataset_op.cc:177] Filling up shuffle buffer (this may take a while): 64249 of 70504\n",
      "2022-01-02 11:43:11.497914: I tensorflow/core/kernels/data/shuffle_dataset_op.cc:230] Shuffle buffer filled.\n"
     ]
    },
    {
     "name": "stdout",
     "output_type": "stream",
     "text": [
      "Epoch 220, gen_loss: 62141952.0000, disc_loss: -0.4764\n",
      "Time for epoch 220 is 100.8478 sec\n"
     ]
    },
    {
     "name": "stderr",
     "output_type": "stream",
     "text": [
      "2022-01-02 11:43:46.612656: W tensorflow/core/grappler/optimizers/meta_optimizer.cc:153] TF_ENABLE_AUTO_MIXED_PRECISION has no effect.\n",
      "2022-01-02 11:43:46.612712: W tensorflow/core/grappler/optimizers/meta_optimizer.cc:153] TF_ENABLE_AUTO_MIXED_PRECISION has no effect.\n",
      "2022-01-02 11:43:46.612726: W tensorflow/core/grappler/optimizers/meta_optimizer.cc:153] TF_ENABLE_AUTO_MIXED_PRECISION has no effect.\n",
      "2022-01-02 11:43:46.612731: W tensorflow/core/grappler/optimizers/meta_optimizer.cc:153] TF_ENABLE_AUTO_MIXED_PRECISION has no effect.\n",
      "2022-01-02 11:43:56.602412: I tensorflow/core/kernels/data/shuffle_dataset_op.cc:177] Filling up shuffle buffer (this may take a while): 10817 of 70504\n",
      "2022-01-02 11:44:06.601947: I tensorflow/core/kernels/data/shuffle_dataset_op.cc:177] Filling up shuffle buffer (this may take a while): 21785 of 70504\n",
      "2022-01-02 11:44:16.602120: I tensorflow/core/kernels/data/shuffle_dataset_op.cc:177] Filling up shuffle buffer (this may take a while): 32724 of 70504\n",
      "2022-01-02 11:44:26.601668: I tensorflow/core/kernels/data/shuffle_dataset_op.cc:177] Filling up shuffle buffer (this may take a while): 43726 of 70504\n",
      "2022-01-02 11:44:36.602645: I tensorflow/core/kernels/data/shuffle_dataset_op.cc:177] Filling up shuffle buffer (this may take a while): 54716 of 70504\n",
      "2022-01-02 11:44:46.603370: I tensorflow/core/kernels/data/shuffle_dataset_op.cc:177] Filling up shuffle buffer (this may take a while): 65785 of 70504\n",
      "2022-01-02 11:44:50.858203: I tensorflow/core/kernels/data/shuffle_dataset_op.cc:230] Shuffle buffer filled.\n"
     ]
    },
    {
     "name": "stdout",
     "output_type": "stream",
     "text": [
      "Epoch 221, gen_loss: 61781360.0000, disc_loss: -0.8659\n",
      "Time for epoch 221 is 99.2961 sec\n"
     ]
    },
    {
     "name": "stderr",
     "output_type": "stream",
     "text": [
      "2022-01-02 11:45:25.953830: W tensorflow/core/grappler/optimizers/meta_optimizer.cc:153] TF_ENABLE_AUTO_MIXED_PRECISION has no effect.\n",
      "2022-01-02 11:45:25.953879: W tensorflow/core/grappler/optimizers/meta_optimizer.cc:153] TF_ENABLE_AUTO_MIXED_PRECISION has no effect.\n",
      "2022-01-02 11:45:25.953894: W tensorflow/core/grappler/optimizers/meta_optimizer.cc:153] TF_ENABLE_AUTO_MIXED_PRECISION has no effect.\n",
      "2022-01-02 11:45:25.953899: W tensorflow/core/grappler/optimizers/meta_optimizer.cc:153] TF_ENABLE_AUTO_MIXED_PRECISION has no effect.\n",
      "2022-01-02 11:45:35.939382: I tensorflow/core/kernels/data/shuffle_dataset_op.cc:177] Filling up shuffle buffer (this may take a while): 10799 of 70504\n",
      "2022-01-02 11:45:45.939310: I tensorflow/core/kernels/data/shuffle_dataset_op.cc:177] Filling up shuffle buffer (this may take a while): 21727 of 70504\n",
      "2022-01-02 11:45:55.940242: I tensorflow/core/kernels/data/shuffle_dataset_op.cc:177] Filling up shuffle buffer (this may take a while): 32664 of 70504\n",
      "2022-01-02 11:46:05.938808: I tensorflow/core/kernels/data/shuffle_dataset_op.cc:177] Filling up shuffle buffer (this may take a while): 43652 of 70504\n",
      "2022-01-02 11:46:15.939467: I tensorflow/core/kernels/data/shuffle_dataset_op.cc:177] Filling up shuffle buffer (this may take a while): 54662 of 70504\n",
      "2022-01-02 11:46:25.939125: I tensorflow/core/kernels/data/shuffle_dataset_op.cc:177] Filling up shuffle buffer (this may take a while): 65731 of 70504\n",
      "2022-01-02 11:46:30.248124: I tensorflow/core/kernels/data/shuffle_dataset_op.cc:230] Shuffle buffer filled.\n"
     ]
    },
    {
     "name": "stdout",
     "output_type": "stream",
     "text": [
      "Epoch 222, gen_loss: 61576568.0000, disc_loss: -1.1869\n",
      "Time for epoch 222 is 99.3264 sec\n"
     ]
    },
    {
     "name": "stderr",
     "output_type": "stream",
     "text": [
      "2022-01-02 11:47:05.327980: W tensorflow/core/grappler/optimizers/meta_optimizer.cc:153] TF_ENABLE_AUTO_MIXED_PRECISION has no effect.\n",
      "2022-01-02 11:47:05.328036: W tensorflow/core/grappler/optimizers/meta_optimizer.cc:153] TF_ENABLE_AUTO_MIXED_PRECISION has no effect.\n",
      "2022-01-02 11:47:05.328051: W tensorflow/core/grappler/optimizers/meta_optimizer.cc:153] TF_ENABLE_AUTO_MIXED_PRECISION has no effect.\n",
      "2022-01-02 11:47:05.328057: W tensorflow/core/grappler/optimizers/meta_optimizer.cc:153] TF_ENABLE_AUTO_MIXED_PRECISION has no effect.\n",
      "2022-01-02 11:47:15.311904: I tensorflow/core/kernels/data/shuffle_dataset_op.cc:177] Filling up shuffle buffer (this may take a while): 10493 of 70504\n",
      "2022-01-02 11:47:25.312382: I tensorflow/core/kernels/data/shuffle_dataset_op.cc:177] Filling up shuffle buffer (this may take a while): 21208 of 70504\n",
      "2022-01-02 11:47:35.311582: I tensorflow/core/kernels/data/shuffle_dataset_op.cc:177] Filling up shuffle buffer (this may take a while): 31929 of 70504\n",
      "2022-01-02 11:47:45.314297: I tensorflow/core/kernels/data/shuffle_dataset_op.cc:177] Filling up shuffle buffer (this may take a while): 42680 of 70504\n",
      "2022-01-02 11:47:55.311772: I tensorflow/core/kernels/data/shuffle_dataset_op.cc:177] Filling up shuffle buffer (this may take a while): 53432 of 70504\n",
      "2022-01-02 11:48:05.312054: I tensorflow/core/kernels/data/shuffle_dataset_op.cc:177] Filling up shuffle buffer (this may take a while): 64290 of 70504\n",
      "2022-01-02 11:48:11.047431: I tensorflow/core/kernels/data/shuffle_dataset_op.cc:230] Shuffle buffer filled.\n"
     ]
    },
    {
     "name": "stdout",
     "output_type": "stream",
     "text": [
      "Epoch 223, gen_loss: 61415232.0000, disc_loss: -1.5340\n",
      "Time for epoch 223 is 100.8286 sec\n"
     ]
    },
    {
     "name": "stderr",
     "output_type": "stream",
     "text": [
      "2022-01-02 11:48:46.195260: W tensorflow/core/grappler/optimizers/meta_optimizer.cc:153] TF_ENABLE_AUTO_MIXED_PRECISION has no effect.\n",
      "2022-01-02 11:48:46.195312: W tensorflow/core/grappler/optimizers/meta_optimizer.cc:153] TF_ENABLE_AUTO_MIXED_PRECISION has no effect.\n",
      "2022-01-02 11:48:46.195325: W tensorflow/core/grappler/optimizers/meta_optimizer.cc:153] TF_ENABLE_AUTO_MIXED_PRECISION has no effect.\n",
      "2022-01-02 11:48:46.195330: W tensorflow/core/grappler/optimizers/meta_optimizer.cc:153] TF_ENABLE_AUTO_MIXED_PRECISION has no effect.\n",
      "2022-01-02 11:48:56.180505: I tensorflow/core/kernels/data/shuffle_dataset_op.cc:177] Filling up shuffle buffer (this may take a while): 10617 of 70504\n",
      "2022-01-02 11:49:06.181431: I tensorflow/core/kernels/data/shuffle_dataset_op.cc:177] Filling up shuffle buffer (this may take a while): 21355 of 70504\n",
      "2022-01-02 11:49:16.181111: I tensorflow/core/kernels/data/shuffle_dataset_op.cc:177] Filling up shuffle buffer (this may take a while): 32118 of 70504\n",
      "2022-01-02 11:49:26.180563: I tensorflow/core/kernels/data/shuffle_dataset_op.cc:177] Filling up shuffle buffer (this may take a while): 42898 of 70504\n",
      "2022-01-02 11:49:36.180920: I tensorflow/core/kernels/data/shuffle_dataset_op.cc:177] Filling up shuffle buffer (this may take a while): 53660 of 70504\n",
      "2022-01-02 11:49:46.180802: I tensorflow/core/kernels/data/shuffle_dataset_op.cc:177] Filling up shuffle buffer (this may take a while): 64483 of 70504\n",
      "2022-01-02 11:49:51.719989: I tensorflow/core/kernels/data/shuffle_dataset_op.cc:230] Shuffle buffer filled.\n"
     ]
    },
    {
     "name": "stdout",
     "output_type": "stream",
     "text": [
      "Epoch 224, gen_loss: 61228852.0000, disc_loss: -0.6542\n",
      "Time for epoch 224 is 100.5482 sec\n"
     ]
    },
    {
     "name": "stderr",
     "output_type": "stream",
     "text": [
      "2022-01-02 11:50:26.791004: W tensorflow/core/grappler/optimizers/meta_optimizer.cc:153] TF_ENABLE_AUTO_MIXED_PRECISION has no effect.\n",
      "2022-01-02 11:50:26.791063: W tensorflow/core/grappler/optimizers/meta_optimizer.cc:153] TF_ENABLE_AUTO_MIXED_PRECISION has no effect.\n",
      "2022-01-02 11:50:26.791077: W tensorflow/core/grappler/optimizers/meta_optimizer.cc:153] TF_ENABLE_AUTO_MIXED_PRECISION has no effect.\n",
      "2022-01-02 11:50:26.791083: W tensorflow/core/grappler/optimizers/meta_optimizer.cc:153] TF_ENABLE_AUTO_MIXED_PRECISION has no effect.\n",
      "2022-01-02 11:50:36.774246: I tensorflow/core/kernels/data/shuffle_dataset_op.cc:177] Filling up shuffle buffer (this may take a while): 10806 of 70504\n",
      "2022-01-02 11:50:46.775977: I tensorflow/core/kernels/data/shuffle_dataset_op.cc:177] Filling up shuffle buffer (this may take a while): 21794 of 70504\n",
      "2022-01-02 11:50:56.774701: I tensorflow/core/kernels/data/shuffle_dataset_op.cc:177] Filling up shuffle buffer (this may take a while): 32749 of 70504\n",
      "2022-01-02 11:51:06.774738: I tensorflow/core/kernels/data/shuffle_dataset_op.cc:177] Filling up shuffle buffer (this may take a while): 43750 of 70504\n",
      "2022-01-02 11:51:16.774490: I tensorflow/core/kernels/data/shuffle_dataset_op.cc:177] Filling up shuffle buffer (this may take a while): 54785 of 70504\n",
      "2022-01-02 11:51:26.774858: I tensorflow/core/kernels/data/shuffle_dataset_op.cc:177] Filling up shuffle buffer (this may take a while): 65877 of 70504\n",
      "2022-01-02 11:51:30.941247: I tensorflow/core/kernels/data/shuffle_dataset_op.cc:230] Shuffle buffer filled.\n"
     ]
    },
    {
     "name": "stdout",
     "output_type": "stream",
     "text": [
      "Epoch 225, gen_loss: 61070200.0000, disc_loss: -0.8290\n",
      "Time for epoch 225 is 99.1981 sec\n"
     ]
    },
    {
     "name": "stderr",
     "output_type": "stream",
     "text": [
      "2022-01-02 11:52:06.033491: W tensorflow/core/grappler/optimizers/meta_optimizer.cc:153] TF_ENABLE_AUTO_MIXED_PRECISION has no effect.\n",
      "2022-01-02 11:52:06.033543: W tensorflow/core/grappler/optimizers/meta_optimizer.cc:153] TF_ENABLE_AUTO_MIXED_PRECISION has no effect.\n",
      "2022-01-02 11:52:06.033556: W tensorflow/core/grappler/optimizers/meta_optimizer.cc:153] TF_ENABLE_AUTO_MIXED_PRECISION has no effect.\n",
      "2022-01-02 11:52:06.033563: W tensorflow/core/grappler/optimizers/meta_optimizer.cc:153] TF_ENABLE_AUTO_MIXED_PRECISION has no effect.\n",
      "2022-01-02 11:52:16.016247: I tensorflow/core/kernels/data/shuffle_dataset_op.cc:177] Filling up shuffle buffer (this may take a while): 10775 of 70504\n",
      "2022-01-02 11:52:26.015759: I tensorflow/core/kernels/data/shuffle_dataset_op.cc:177] Filling up shuffle buffer (this may take a while): 21746 of 70504\n",
      "2022-01-02 11:52:36.015510: I tensorflow/core/kernels/data/shuffle_dataset_op.cc:177] Filling up shuffle buffer (this may take a while): 32688 of 70504\n",
      "2022-01-02 11:52:46.015637: I tensorflow/core/kernels/data/shuffle_dataset_op.cc:177] Filling up shuffle buffer (this may take a while): 43712 of 70504\n",
      "2022-01-02 11:52:56.024962: I tensorflow/core/kernels/data/shuffle_dataset_op.cc:177] Filling up shuffle buffer (this may take a while): 54735 of 70504\n",
      "2022-01-02 11:53:06.014947: I tensorflow/core/kernels/data/shuffle_dataset_op.cc:177] Filling up shuffle buffer (this may take a while): 65841 of 70504\n",
      "2022-01-02 11:53:10.252976: I tensorflow/core/kernels/data/shuffle_dataset_op.cc:230] Shuffle buffer filled.\n"
     ]
    },
    {
     "name": "stdout",
     "output_type": "stream",
     "text": [
      "Epoch 226, gen_loss: 60938332.0000, disc_loss: -0.5209\n",
      "Time for epoch 226 is 99.3021 sec\n"
     ]
    },
    {
     "name": "stderr",
     "output_type": "stream",
     "text": [
      "2022-01-02 11:53:45.379669: W tensorflow/core/grappler/optimizers/meta_optimizer.cc:153] TF_ENABLE_AUTO_MIXED_PRECISION has no effect.\n",
      "2022-01-02 11:53:45.379721: W tensorflow/core/grappler/optimizers/meta_optimizer.cc:153] TF_ENABLE_AUTO_MIXED_PRECISION has no effect.\n",
      "2022-01-02 11:53:45.379735: W tensorflow/core/grappler/optimizers/meta_optimizer.cc:153] TF_ENABLE_AUTO_MIXED_PRECISION has no effect.\n",
      "2022-01-02 11:53:45.379740: W tensorflow/core/grappler/optimizers/meta_optimizer.cc:153] TF_ENABLE_AUTO_MIXED_PRECISION has no effect.\n",
      "2022-01-02 11:53:55.363744: I tensorflow/core/kernels/data/shuffle_dataset_op.cc:177] Filling up shuffle buffer (this may take a while): 10581 of 70504\n",
      "2022-01-02 11:54:05.364673: I tensorflow/core/kernels/data/shuffle_dataset_op.cc:177] Filling up shuffle buffer (this may take a while): 21274 of 70504\n",
      "2022-01-02 11:54:15.363843: I tensorflow/core/kernels/data/shuffle_dataset_op.cc:177] Filling up shuffle buffer (this may take a while): 32006 of 70504\n",
      "2022-01-02 11:54:25.364001: I tensorflow/core/kernels/data/shuffle_dataset_op.cc:177] Filling up shuffle buffer (this may take a while): 42795 of 70504\n",
      "2022-01-02 11:54:35.364390: I tensorflow/core/kernels/data/shuffle_dataset_op.cc:177] Filling up shuffle buffer (this may take a while): 53545 of 70504\n",
      "2022-01-02 11:54:45.364866: I tensorflow/core/kernels/data/shuffle_dataset_op.cc:177] Filling up shuffle buffer (this may take a while): 64397 of 70504\n",
      "2022-01-02 11:54:50.988846: I tensorflow/core/kernels/data/shuffle_dataset_op.cc:230] Shuffle buffer filled.\n"
     ]
    },
    {
     "name": "stdout",
     "output_type": "stream",
     "text": [
      "Epoch 227, gen_loss: 60676380.0000, disc_loss: -0.9405\n",
      "Time for epoch 227 is 100.7182 sec\n"
     ]
    },
    {
     "name": "stderr",
     "output_type": "stream",
     "text": [
      "2022-01-02 11:55:26.141342: W tensorflow/core/grappler/optimizers/meta_optimizer.cc:153] TF_ENABLE_AUTO_MIXED_PRECISION has no effect.\n",
      "2022-01-02 11:55:26.141395: W tensorflow/core/grappler/optimizers/meta_optimizer.cc:153] TF_ENABLE_AUTO_MIXED_PRECISION has no effect.\n",
      "2022-01-02 11:55:26.141409: W tensorflow/core/grappler/optimizers/meta_optimizer.cc:153] TF_ENABLE_AUTO_MIXED_PRECISION has no effect.\n",
      "2022-01-02 11:55:26.141414: W tensorflow/core/grappler/optimizers/meta_optimizer.cc:153] TF_ENABLE_AUTO_MIXED_PRECISION has no effect.\n",
      "2022-01-02 11:55:36.125442: I tensorflow/core/kernels/data/shuffle_dataset_op.cc:177] Filling up shuffle buffer (this may take a while): 10797 of 70504\n",
      "2022-01-02 11:55:46.124590: I tensorflow/core/kernels/data/shuffle_dataset_op.cc:177] Filling up shuffle buffer (this may take a while): 21794 of 70504\n",
      "2022-01-02 11:55:56.125130: I tensorflow/core/kernels/data/shuffle_dataset_op.cc:177] Filling up shuffle buffer (this may take a while): 32763 of 70504\n",
      "2022-01-02 11:56:06.124684: I tensorflow/core/kernels/data/shuffle_dataset_op.cc:177] Filling up shuffle buffer (this may take a while): 43795 of 70504\n",
      "2022-01-02 11:56:16.124395: I tensorflow/core/kernels/data/shuffle_dataset_op.cc:177] Filling up shuffle buffer (this may take a while): 54814 of 70504\n",
      "2022-01-02 11:56:26.124157: I tensorflow/core/kernels/data/shuffle_dataset_op.cc:177] Filling up shuffle buffer (this may take a while): 65876 of 70504\n",
      "2022-01-02 11:56:30.306717: I tensorflow/core/kernels/data/shuffle_dataset_op.cc:230] Shuffle buffer filled.\n"
     ]
    },
    {
     "name": "stdout",
     "output_type": "stream",
     "text": [
      "Epoch 228, gen_loss: 60195108.0000, disc_loss: -1.0436\n",
      "Time for epoch 228 is 99.1680 sec\n"
     ]
    },
    {
     "name": "stderr",
     "output_type": "stream",
     "text": [
      "2022-01-02 11:57:05.349028: W tensorflow/core/grappler/optimizers/meta_optimizer.cc:153] TF_ENABLE_AUTO_MIXED_PRECISION has no effect.\n",
      "2022-01-02 11:57:05.349080: W tensorflow/core/grappler/optimizers/meta_optimizer.cc:153] TF_ENABLE_AUTO_MIXED_PRECISION has no effect.\n",
      "2022-01-02 11:57:05.349094: W tensorflow/core/grappler/optimizers/meta_optimizer.cc:153] TF_ENABLE_AUTO_MIXED_PRECISION has no effect.\n",
      "2022-01-02 11:57:05.349099: W tensorflow/core/grappler/optimizers/meta_optimizer.cc:153] TF_ENABLE_AUTO_MIXED_PRECISION has no effect.\n",
      "2022-01-02 11:57:15.338266: I tensorflow/core/kernels/data/shuffle_dataset_op.cc:177] Filling up shuffle buffer (this may take a while): 10820 of 70504\n",
      "2022-01-02 11:57:25.338295: I tensorflow/core/kernels/data/shuffle_dataset_op.cc:177] Filling up shuffle buffer (this may take a while): 21769 of 70504\n",
      "2022-01-02 11:57:35.338263: I tensorflow/core/kernels/data/shuffle_dataset_op.cc:177] Filling up shuffle buffer (this may take a while): 32726 of 70504\n",
      "2022-01-02 11:57:45.338209: I tensorflow/core/kernels/data/shuffle_dataset_op.cc:177] Filling up shuffle buffer (this may take a while): 43735 of 70504\n",
      "2022-01-02 11:57:55.338062: I tensorflow/core/kernels/data/shuffle_dataset_op.cc:177] Filling up shuffle buffer (this may take a while): 54756 of 70504\n",
      "2022-01-02 11:58:05.338082: I tensorflow/core/kernels/data/shuffle_dataset_op.cc:177] Filling up shuffle buffer (this may take a while): 65857 of 70504\n",
      "2022-01-02 11:58:09.509256: I tensorflow/core/kernels/data/shuffle_dataset_op.cc:230] Shuffle buffer filled.\n"
     ]
    },
    {
     "name": "stdout",
     "output_type": "stream",
     "text": [
      "Epoch 229, gen_loss: 60212832.0000, disc_loss: -1.0833\n",
      "Time for epoch 229 is 99.2227 sec\n"
     ]
    },
    {
     "name": "stderr",
     "output_type": "stream",
     "text": [
      "2022-01-02 11:58:44.612642: W tensorflow/core/grappler/optimizers/meta_optimizer.cc:153] TF_ENABLE_AUTO_MIXED_PRECISION has no effect.\n",
      "2022-01-02 11:58:44.612691: W tensorflow/core/grappler/optimizers/meta_optimizer.cc:153] TF_ENABLE_AUTO_MIXED_PRECISION has no effect.\n",
      "2022-01-02 11:58:44.612705: W tensorflow/core/grappler/optimizers/meta_optimizer.cc:153] TF_ENABLE_AUTO_MIXED_PRECISION has no effect.\n",
      "2022-01-02 11:58:44.612711: W tensorflow/core/grappler/optimizers/meta_optimizer.cc:153] TF_ENABLE_AUTO_MIXED_PRECISION has no effect.\n",
      "2022-01-02 11:58:54.602110: I tensorflow/core/kernels/data/shuffle_dataset_op.cc:177] Filling up shuffle buffer (this may take a while): 10772 of 70504\n",
      "2022-01-02 11:59:04.601511: I tensorflow/core/kernels/data/shuffle_dataset_op.cc:177] Filling up shuffle buffer (this may take a while): 21603 of 70504\n",
      "2022-01-02 11:59:14.602484: I tensorflow/core/kernels/data/shuffle_dataset_op.cc:177] Filling up shuffle buffer (this may take a while): 32509 of 70504\n",
      "2022-01-02 11:59:24.602669: I tensorflow/core/kernels/data/shuffle_dataset_op.cc:177] Filling up shuffle buffer (this may take a while): 43435 of 70504\n",
      "2022-01-02 11:59:34.601882: I tensorflow/core/kernels/data/shuffle_dataset_op.cc:177] Filling up shuffle buffer (this may take a while): 54378 of 70504\n",
      "2022-01-02 11:59:44.602929: I tensorflow/core/kernels/data/shuffle_dataset_op.cc:177] Filling up shuffle buffer (this may take a while): 65390 of 70504\n",
      "2022-01-02 11:59:49.229894: I tensorflow/core/kernels/data/shuffle_dataset_op.cc:230] Shuffle buffer filled.\n"
     ]
    },
    {
     "name": "stdout",
     "output_type": "stream",
     "text": [
      "Epoch 230, gen_loss: 60034280.0000, disc_loss: -0.9441\n",
      "Time for epoch 230 is 99.6208 sec\n"
     ]
    },
    {
     "name": "stderr",
     "output_type": "stream",
     "text": [
      "2022-01-02 12:00:24.283643: W tensorflow/core/grappler/optimizers/meta_optimizer.cc:153] TF_ENABLE_AUTO_MIXED_PRECISION has no effect.\n",
      "2022-01-02 12:00:24.283695: W tensorflow/core/grappler/optimizers/meta_optimizer.cc:153] TF_ENABLE_AUTO_MIXED_PRECISION has no effect.\n",
      "2022-01-02 12:00:24.283711: W tensorflow/core/grappler/optimizers/meta_optimizer.cc:153] TF_ENABLE_AUTO_MIXED_PRECISION has no effect.\n",
      "2022-01-02 12:00:24.283716: W tensorflow/core/grappler/optimizers/meta_optimizer.cc:153] TF_ENABLE_AUTO_MIXED_PRECISION has no effect.\n",
      "2022-01-02 12:00:34.269258: I tensorflow/core/kernels/data/shuffle_dataset_op.cc:177] Filling up shuffle buffer (this may take a while): 10557 of 70504\n",
      "2022-01-02 12:00:44.267531: I tensorflow/core/kernels/data/shuffle_dataset_op.cc:177] Filling up shuffle buffer (this may take a while): 21252 of 70504\n",
      "2022-01-02 12:00:54.268245: I tensorflow/core/kernels/data/shuffle_dataset_op.cc:177] Filling up shuffle buffer (this may take a while): 31966 of 70504\n",
      "2022-01-02 12:01:04.267856: I tensorflow/core/kernels/data/shuffle_dataset_op.cc:177] Filling up shuffle buffer (this may take a while): 42727 of 70504\n",
      "2022-01-02 12:01:14.268772: I tensorflow/core/kernels/data/shuffle_dataset_op.cc:177] Filling up shuffle buffer (this may take a while): 53422 of 70504\n",
      "2022-01-02 12:01:24.267769: I tensorflow/core/kernels/data/shuffle_dataset_op.cc:177] Filling up shuffle buffer (this may take a while): 64234 of 70504\n",
      "2022-01-02 12:01:30.025070: I tensorflow/core/kernels/data/shuffle_dataset_op.cc:230] Shuffle buffer filled.\n"
     ]
    },
    {
     "name": "stdout",
     "output_type": "stream",
     "text": [
      "Epoch 231, gen_loss: 59759612.0000, disc_loss: -1.0542\n",
      "Time for epoch 231 is 100.8120 sec\n"
     ]
    },
    {
     "name": "stderr",
     "output_type": "stream",
     "text": [
      "2022-01-02 12:02:05.134787: W tensorflow/core/grappler/optimizers/meta_optimizer.cc:153] TF_ENABLE_AUTO_MIXED_PRECISION has no effect.\n",
      "2022-01-02 12:02:05.134840: W tensorflow/core/grappler/optimizers/meta_optimizer.cc:153] TF_ENABLE_AUTO_MIXED_PRECISION has no effect.\n",
      "2022-01-02 12:02:05.134854: W tensorflow/core/grappler/optimizers/meta_optimizer.cc:153] TF_ENABLE_AUTO_MIXED_PRECISION has no effect.\n",
      "2022-01-02 12:02:05.134859: W tensorflow/core/grappler/optimizers/meta_optimizer.cc:153] TF_ENABLE_AUTO_MIXED_PRECISION has no effect.\n",
      "2022-01-02 12:02:15.125674: I tensorflow/core/kernels/data/shuffle_dataset_op.cc:177] Filling up shuffle buffer (this may take a while): 10795 of 70504\n",
      "2022-01-02 12:02:25.124354: I tensorflow/core/kernels/data/shuffle_dataset_op.cc:177] Filling up shuffle buffer (this may take a while): 21728 of 70504\n",
      "2022-01-02 12:02:35.124203: I tensorflow/core/kernels/data/shuffle_dataset_op.cc:177] Filling up shuffle buffer (this may take a while): 32681 of 70504\n",
      "2022-01-02 12:02:45.124322: I tensorflow/core/kernels/data/shuffle_dataset_op.cc:177] Filling up shuffle buffer (this may take a while): 43604 of 70504\n",
      "2022-01-02 12:02:55.124522: I tensorflow/core/kernels/data/shuffle_dataset_op.cc:177] Filling up shuffle buffer (this may take a while): 54585 of 70504\n",
      "2022-01-02 12:03:05.124460: I tensorflow/core/kernels/data/shuffle_dataset_op.cc:177] Filling up shuffle buffer (this may take a while): 65623 of 70504\n",
      "2022-01-02 12:03:09.516204: I tensorflow/core/kernels/data/shuffle_dataset_op.cc:230] Shuffle buffer filled.\n"
     ]
    },
    {
     "name": "stdout",
     "output_type": "stream",
     "text": [
      "Epoch 232, gen_loss: 59460596.0000, disc_loss: -1.6602\n",
      "Time for epoch 232 is 99.4256 sec\n"
     ]
    },
    {
     "name": "stderr",
     "output_type": "stream",
     "text": [
      "2022-01-02 12:03:44.608672: W tensorflow/core/grappler/optimizers/meta_optimizer.cc:153] TF_ENABLE_AUTO_MIXED_PRECISION has no effect.\n",
      "2022-01-02 12:03:44.608722: W tensorflow/core/grappler/optimizers/meta_optimizer.cc:153] TF_ENABLE_AUTO_MIXED_PRECISION has no effect.\n",
      "2022-01-02 12:03:44.608736: W tensorflow/core/grappler/optimizers/meta_optimizer.cc:153] TF_ENABLE_AUTO_MIXED_PRECISION has no effect.\n",
      "2022-01-02 12:03:44.608742: W tensorflow/core/grappler/optimizers/meta_optimizer.cc:153] TF_ENABLE_AUTO_MIXED_PRECISION has no effect.\n",
      "2022-01-02 12:03:54.590589: I tensorflow/core/kernels/data/shuffle_dataset_op.cc:177] Filling up shuffle buffer (this may take a while): 10766 of 70504\n",
      "2022-01-02 12:04:04.609919: I tensorflow/core/kernels/data/shuffle_dataset_op.cc:177] Filling up shuffle buffer (this may take a while): 21720 of 70504\n",
      "2022-01-02 12:04:14.591770: I tensorflow/core/kernels/data/shuffle_dataset_op.cc:177] Filling up shuffle buffer (this may take a while): 32675 of 70504\n",
      "2022-01-02 12:04:24.591475: I tensorflow/core/kernels/data/shuffle_dataset_op.cc:177] Filling up shuffle buffer (this may take a while): 43649 of 70504\n",
      "2022-01-02 12:04:34.591152: I tensorflow/core/kernels/data/shuffle_dataset_op.cc:177] Filling up shuffle buffer (this may take a while): 54609 of 70504\n",
      "2022-01-02 12:04:44.591066: I tensorflow/core/kernels/data/shuffle_dataset_op.cc:177] Filling up shuffle buffer (this may take a while): 65582 of 70504\n",
      "2022-01-02 12:04:49.046338: I tensorflow/core/kernels/data/shuffle_dataset_op.cc:230] Shuffle buffer filled.\n"
     ]
    },
    {
     "name": "stdout",
     "output_type": "stream",
     "text": [
      "Epoch 233, gen_loss: 59490236.0000, disc_loss: -1.2860\n",
      "Time for epoch 233 is 99.5038 sec\n"
     ]
    },
    {
     "name": "stderr",
     "output_type": "stream",
     "text": [
      "2022-01-02 12:05:24.157231: W tensorflow/core/grappler/optimizers/meta_optimizer.cc:153] TF_ENABLE_AUTO_MIXED_PRECISION has no effect.\n",
      "2022-01-02 12:05:24.157279: W tensorflow/core/grappler/optimizers/meta_optimizer.cc:153] TF_ENABLE_AUTO_MIXED_PRECISION has no effect.\n",
      "2022-01-02 12:05:24.157293: W tensorflow/core/grappler/optimizers/meta_optimizer.cc:153] TF_ENABLE_AUTO_MIXED_PRECISION has no effect.\n",
      "2022-01-02 12:05:24.157299: W tensorflow/core/grappler/optimizers/meta_optimizer.cc:153] TF_ENABLE_AUTO_MIXED_PRECISION has no effect.\n",
      "2022-01-02 12:05:34.138167: I tensorflow/core/kernels/data/shuffle_dataset_op.cc:177] Filling up shuffle buffer (this may take a while): 10533 of 70504\n",
      "2022-01-02 12:05:44.138515: I tensorflow/core/kernels/data/shuffle_dataset_op.cc:177] Filling up shuffle buffer (this may take a while): 21281 of 70504\n",
      "2022-01-02 12:05:54.138519: I tensorflow/core/kernels/data/shuffle_dataset_op.cc:177] Filling up shuffle buffer (this may take a while): 32012 of 70504\n",
      "2022-01-02 12:06:04.139888: I tensorflow/core/kernels/data/shuffle_dataset_op.cc:177] Filling up shuffle buffer (this may take a while): 42776 of 70504\n",
      "2022-01-02 12:06:14.138616: I tensorflow/core/kernels/data/shuffle_dataset_op.cc:177] Filling up shuffle buffer (this may take a while): 53461 of 70504\n",
      "2022-01-02 12:06:24.138993: I tensorflow/core/kernels/data/shuffle_dataset_op.cc:177] Filling up shuffle buffer (this may take a while): 64297 of 70504\n",
      "2022-01-02 12:06:29.868856: I tensorflow/core/kernels/data/shuffle_dataset_op.cc:230] Shuffle buffer filled.\n"
     ]
    },
    {
     "name": "stdout",
     "output_type": "stream",
     "text": [
      "Epoch 234, gen_loss: 59327028.0000, disc_loss: -1.3929\n",
      "Time for epoch 234 is 100.7741 sec\n"
     ]
    },
    {
     "name": "stderr",
     "output_type": "stream",
     "text": [
      "2022-01-02 12:07:04.962881: W tensorflow/core/grappler/optimizers/meta_optimizer.cc:153] TF_ENABLE_AUTO_MIXED_PRECISION has no effect.\n",
      "2022-01-02 12:07:04.962933: W tensorflow/core/grappler/optimizers/meta_optimizer.cc:153] TF_ENABLE_AUTO_MIXED_PRECISION has no effect.\n",
      "2022-01-02 12:07:04.962947: W tensorflow/core/grappler/optimizers/meta_optimizer.cc:153] TF_ENABLE_AUTO_MIXED_PRECISION has no effect.\n",
      "2022-01-02 12:07:04.962953: W tensorflow/core/grappler/optimizers/meta_optimizer.cc:153] TF_ENABLE_AUTO_MIXED_PRECISION has no effect.\n",
      "2022-01-02 12:07:14.952078: I tensorflow/core/kernels/data/shuffle_dataset_op.cc:177] Filling up shuffle buffer (this may take a while): 10804 of 70504\n",
      "2022-01-02 12:07:24.952654: I tensorflow/core/kernels/data/shuffle_dataset_op.cc:177] Filling up shuffle buffer (this may take a while): 21753 of 70504\n",
      "2022-01-02 12:07:34.952657: I tensorflow/core/kernels/data/shuffle_dataset_op.cc:177] Filling up shuffle buffer (this may take a while): 32702 of 70504\n",
      "2022-01-02 12:07:44.952982: I tensorflow/core/kernels/data/shuffle_dataset_op.cc:177] Filling up shuffle buffer (this may take a while): 43689 of 70504\n",
      "2022-01-02 12:07:54.952354: I tensorflow/core/kernels/data/shuffle_dataset_op.cc:177] Filling up shuffle buffer (this may take a while): 54630 of 70504\n",
      "2022-01-02 12:08:04.952520: I tensorflow/core/kernels/data/shuffle_dataset_op.cc:177] Filling up shuffle buffer (this may take a while): 65669 of 70504\n",
      "2022-01-02 12:08:09.303218: I tensorflow/core/kernels/data/shuffle_dataset_op.cc:230] Shuffle buffer filled.\n"
     ]
    },
    {
     "name": "stdout",
     "output_type": "stream",
     "text": [
      "Epoch 235, gen_loss: 58926892.0000, disc_loss: -1.1279\n",
      "Time for epoch 235 is 99.4460 sec\n"
     ]
    },
    {
     "name": "stderr",
     "output_type": "stream",
     "text": [
      "2022-01-02 12:08:44.453773: W tensorflow/core/grappler/optimizers/meta_optimizer.cc:153] TF_ENABLE_AUTO_MIXED_PRECISION has no effect.\n",
      "2022-01-02 12:08:44.453818: W tensorflow/core/grappler/optimizers/meta_optimizer.cc:153] TF_ENABLE_AUTO_MIXED_PRECISION has no effect.\n",
      "2022-01-02 12:08:44.453833: W tensorflow/core/grappler/optimizers/meta_optimizer.cc:153] TF_ENABLE_AUTO_MIXED_PRECISION has no effect.\n",
      "2022-01-02 12:08:44.453839: W tensorflow/core/grappler/optimizers/meta_optimizer.cc:153] TF_ENABLE_AUTO_MIXED_PRECISION has no effect.\n",
      "2022-01-02 12:08:54.442774: I tensorflow/core/kernels/data/shuffle_dataset_op.cc:177] Filling up shuffle buffer (this may take a while): 10577 of 70504\n",
      "2022-01-02 12:09:04.444212: I tensorflow/core/kernels/data/shuffle_dataset_op.cc:177] Filling up shuffle buffer (this may take a while): 21323 of 70504\n",
      "2022-01-02 12:09:14.442558: I tensorflow/core/kernels/data/shuffle_dataset_op.cc:177] Filling up shuffle buffer (this may take a while): 32112 of 70504\n",
      "2022-01-02 12:09:24.443665: I tensorflow/core/kernels/data/shuffle_dataset_op.cc:177] Filling up shuffle buffer (this may take a while): 42905 of 70504\n",
      "2022-01-02 12:09:34.443017: I tensorflow/core/kernels/data/shuffle_dataset_op.cc:177] Filling up shuffle buffer (this may take a while): 53668 of 70504\n",
      "2022-01-02 12:09:44.443013: I tensorflow/core/kernels/data/shuffle_dataset_op.cc:177] Filling up shuffle buffer (this may take a while): 64525 of 70504\n",
      "2022-01-02 12:09:49.921075: I tensorflow/core/kernels/data/shuffle_dataset_op.cc:230] Shuffle buffer filled.\n"
     ]
    },
    {
     "name": "stdout",
     "output_type": "stream",
     "text": [
      "Epoch 236, gen_loss: 58478376.0000, disc_loss: -1.7476\n",
      "Time for epoch 236 is 100.5660 sec\n"
     ]
    },
    {
     "name": "stderr",
     "output_type": "stream",
     "text": [
      "2022-01-02 12:10:25.065957: W tensorflow/core/grappler/optimizers/meta_optimizer.cc:153] TF_ENABLE_AUTO_MIXED_PRECISION has no effect.\n",
      "2022-01-02 12:10:25.066013: W tensorflow/core/grappler/optimizers/meta_optimizer.cc:153] TF_ENABLE_AUTO_MIXED_PRECISION has no effect.\n",
      "2022-01-02 12:10:25.066031: W tensorflow/core/grappler/optimizers/meta_optimizer.cc:153] TF_ENABLE_AUTO_MIXED_PRECISION has no effect.\n",
      "2022-01-02 12:10:25.066037: W tensorflow/core/grappler/optimizers/meta_optimizer.cc:153] TF_ENABLE_AUTO_MIXED_PRECISION has no effect.\n",
      "2022-01-02 12:10:35.050016: I tensorflow/core/kernels/data/shuffle_dataset_op.cc:177] Filling up shuffle buffer (this may take a while): 10808 of 70504\n",
      "2022-01-02 12:10:45.050443: I tensorflow/core/kernels/data/shuffle_dataset_op.cc:177] Filling up shuffle buffer (this may take a while): 21782 of 70504\n",
      "2022-01-02 12:10:55.049532: I tensorflow/core/kernels/data/shuffle_dataset_op.cc:177] Filling up shuffle buffer (this may take a while): 32792 of 70504\n",
      "2022-01-02 12:11:05.050238: I tensorflow/core/kernels/data/shuffle_dataset_op.cc:177] Filling up shuffle buffer (this may take a while): 43789 of 70504\n",
      "2022-01-02 12:11:15.048832: I tensorflow/core/kernels/data/shuffle_dataset_op.cc:177] Filling up shuffle buffer (this may take a while): 54772 of 70504\n",
      "2022-01-02 12:11:25.049453: I tensorflow/core/kernels/data/shuffle_dataset_op.cc:177] Filling up shuffle buffer (this may take a while): 65827 of 70504\n",
      "2022-01-02 12:11:29.262391: I tensorflow/core/kernels/data/shuffle_dataset_op.cc:230] Shuffle buffer filled.\n"
     ]
    },
    {
     "name": "stdout",
     "output_type": "stream",
     "text": [
      "Epoch 237, gen_loss: 58293472.0000, disc_loss: -1.5416\n",
      "Time for epoch 237 is 99.3080 sec\n"
     ]
    },
    {
     "name": "stderr",
     "output_type": "stream",
     "text": [
      "2022-01-02 12:12:04.411467: W tensorflow/core/grappler/optimizers/meta_optimizer.cc:153] TF_ENABLE_AUTO_MIXED_PRECISION has no effect.\n",
      "2022-01-02 12:12:04.411521: W tensorflow/core/grappler/optimizers/meta_optimizer.cc:153] TF_ENABLE_AUTO_MIXED_PRECISION has no effect.\n",
      "2022-01-02 12:12:04.411535: W tensorflow/core/grappler/optimizers/meta_optimizer.cc:153] TF_ENABLE_AUTO_MIXED_PRECISION has no effect.\n",
      "2022-01-02 12:12:04.411541: W tensorflow/core/grappler/optimizers/meta_optimizer.cc:153] TF_ENABLE_AUTO_MIXED_PRECISION has no effect.\n",
      "2022-01-02 12:12:14.397331: I tensorflow/core/kernels/data/shuffle_dataset_op.cc:177] Filling up shuffle buffer (this may take a while): 10779 of 70504\n",
      "2022-01-02 12:12:24.396788: I tensorflow/core/kernels/data/shuffle_dataset_op.cc:177] Filling up shuffle buffer (this may take a while): 21771 of 70504\n",
      "2022-01-02 12:12:34.397833: I tensorflow/core/kernels/data/shuffle_dataset_op.cc:177] Filling up shuffle buffer (this may take a while): 32708 of 70504\n",
      "2022-01-02 12:12:44.397435: I tensorflow/core/kernels/data/shuffle_dataset_op.cc:177] Filling up shuffle buffer (this may take a while): 43714 of 70504\n",
      "2022-01-02 12:12:54.397448: I tensorflow/core/kernels/data/shuffle_dataset_op.cc:177] Filling up shuffle buffer (this may take a while): 54715 of 70504\n",
      "2022-01-02 12:13:04.397811: I tensorflow/core/kernels/data/shuffle_dataset_op.cc:177] Filling up shuffle buffer (this may take a while): 65785 of 70504\n",
      "2022-01-02 12:13:08.633268: I tensorflow/core/kernels/data/shuffle_dataset_op.cc:230] Shuffle buffer filled.\n"
     ]
    },
    {
     "name": "stdout",
     "output_type": "stream",
     "text": [
      "Epoch 238, gen_loss: 58007020.0000, disc_loss: -1.8176\n",
      "Time for epoch 238 is 99.2268 sec\n"
     ]
    },
    {
     "name": "stderr",
     "output_type": "stream",
     "text": [
      "2022-01-02 12:13:43.680996: W tensorflow/core/grappler/optimizers/meta_optimizer.cc:153] TF_ENABLE_AUTO_MIXED_PRECISION has no effect.\n",
      "2022-01-02 12:13:43.681047: W tensorflow/core/grappler/optimizers/meta_optimizer.cc:153] TF_ENABLE_AUTO_MIXED_PRECISION has no effect.\n",
      "2022-01-02 12:13:43.681062: W tensorflow/core/grappler/optimizers/meta_optimizer.cc:153] TF_ENABLE_AUTO_MIXED_PRECISION has no effect.\n",
      "2022-01-02 12:13:43.681067: W tensorflow/core/grappler/optimizers/meta_optimizer.cc:153] TF_ENABLE_AUTO_MIXED_PRECISION has no effect.\n",
      "2022-01-02 12:13:53.667654: I tensorflow/core/kernels/data/shuffle_dataset_op.cc:177] Filling up shuffle buffer (this may take a while): 10655 of 70504\n",
      "2022-01-02 12:14:03.665934: I tensorflow/core/kernels/data/shuffle_dataset_op.cc:177] Filling up shuffle buffer (this may take a while): 21349 of 70504\n",
      "2022-01-02 12:14:13.665985: I tensorflow/core/kernels/data/shuffle_dataset_op.cc:177] Filling up shuffle buffer (this may take a while): 32105 of 70504\n",
      "2022-01-02 12:14:23.665590: I tensorflow/core/kernels/data/shuffle_dataset_op.cc:177] Filling up shuffle buffer (this may take a while): 42896 of 70504\n",
      "2022-01-02 12:14:33.665841: I tensorflow/core/kernels/data/shuffle_dataset_op.cc:177] Filling up shuffle buffer (this may take a while): 53634 of 70504\n",
      "2022-01-02 12:14:43.666848: I tensorflow/core/kernels/data/shuffle_dataset_op.cc:177] Filling up shuffle buffer (this may take a while): 64475 of 70504\n",
      "2022-01-02 12:14:49.244601: I tensorflow/core/kernels/data/shuffle_dataset_op.cc:230] Shuffle buffer filled.\n"
     ]
    },
    {
     "name": "stdout",
     "output_type": "stream",
     "text": [
      "Epoch 239, gen_loss: 57878564.0000, disc_loss: -2.0240\n",
      "Time for epoch 239 is 100.6718 sec\n"
     ]
    },
    {
     "name": "stderr",
     "output_type": "stream",
     "text": [
      "2022-01-02 12:15:24.391730: W tensorflow/core/grappler/optimizers/meta_optimizer.cc:153] TF_ENABLE_AUTO_MIXED_PRECISION has no effect.\n",
      "2022-01-02 12:15:24.391780: W tensorflow/core/grappler/optimizers/meta_optimizer.cc:153] TF_ENABLE_AUTO_MIXED_PRECISION has no effect.\n",
      "2022-01-02 12:15:24.391795: W tensorflow/core/grappler/optimizers/meta_optimizer.cc:153] TF_ENABLE_AUTO_MIXED_PRECISION has no effect.\n",
      "2022-01-02 12:15:24.391800: W tensorflow/core/grappler/optimizers/meta_optimizer.cc:153] TF_ENABLE_AUTO_MIXED_PRECISION has no effect.\n",
      "2022-01-02 12:15:34.381299: I tensorflow/core/kernels/data/shuffle_dataset_op.cc:177] Filling up shuffle buffer (this may take a while): 10596 of 70504\n",
      "2022-01-02 12:15:44.382363: I tensorflow/core/kernels/data/shuffle_dataset_op.cc:177] Filling up shuffle buffer (this may take a while): 21275 of 70504\n",
      "2022-01-02 12:15:54.382359: I tensorflow/core/kernels/data/shuffle_dataset_op.cc:177] Filling up shuffle buffer (this may take a while): 31959 of 70504\n",
      "2022-01-02 12:16:04.381151: I tensorflow/core/kernels/data/shuffle_dataset_op.cc:177] Filling up shuffle buffer (this may take a while): 42700 of 70504\n",
      "2022-01-02 12:16:14.382035: I tensorflow/core/kernels/data/shuffle_dataset_op.cc:177] Filling up shuffle buffer (this may take a while): 53436 of 70504\n",
      "2022-01-02 12:16:24.382280: I tensorflow/core/kernels/data/shuffle_dataset_op.cc:177] Filling up shuffle buffer (this may take a while): 64238 of 70504\n",
      "2022-01-02 12:16:30.140417: I tensorflow/core/kernels/data/shuffle_dataset_op.cc:230] Shuffle buffer filled.\n"
     ]
    },
    {
     "name": "stdout",
     "output_type": "stream",
     "text": [
      "Epoch 240, gen_loss: 57641540.0000, disc_loss: -2.3578\n",
      "Time for epoch 240 is 100.8155 sec\n"
     ]
    },
    {
     "name": "stderr",
     "output_type": "stream",
     "text": [
      "2022-01-02 12:17:05.255516: W tensorflow/core/grappler/optimizers/meta_optimizer.cc:153] TF_ENABLE_AUTO_MIXED_PRECISION has no effect.\n",
      "2022-01-02 12:17:05.255569: W tensorflow/core/grappler/optimizers/meta_optimizer.cc:153] TF_ENABLE_AUTO_MIXED_PRECISION has no effect.\n",
      "2022-01-02 12:17:05.255584: W tensorflow/core/grappler/optimizers/meta_optimizer.cc:153] TF_ENABLE_AUTO_MIXED_PRECISION has no effect.\n",
      "2022-01-02 12:17:05.255589: W tensorflow/core/grappler/optimizers/meta_optimizer.cc:153] TF_ENABLE_AUTO_MIXED_PRECISION has no effect.\n",
      "2022-01-02 12:17:15.241200: I tensorflow/core/kernels/data/shuffle_dataset_op.cc:177] Filling up shuffle buffer (this may take a while): 10538 of 70504\n",
      "2022-01-02 12:17:25.256635: I tensorflow/core/kernels/data/shuffle_dataset_op.cc:177] Filling up shuffle buffer (this may take a while): 21252 of 70504\n",
      "2022-01-02 12:17:35.239649: I tensorflow/core/kernels/data/shuffle_dataset_op.cc:177] Filling up shuffle buffer (this may take a while): 32014 of 70504\n",
      "2022-01-02 12:17:45.241078: I tensorflow/core/kernels/data/shuffle_dataset_op.cc:177] Filling up shuffle buffer (this may take a while): 42785 of 70504\n",
      "2022-01-02 12:17:55.239788: I tensorflow/core/kernels/data/shuffle_dataset_op.cc:177] Filling up shuffle buffer (this may take a while): 53485 of 70504\n",
      "2022-01-02 12:18:05.239763: I tensorflow/core/kernels/data/shuffle_dataset_op.cc:177] Filling up shuffle buffer (this may take a while): 64314 of 70504\n",
      "2022-01-02 12:18:10.944984: I tensorflow/core/kernels/data/shuffle_dataset_op.cc:230] Shuffle buffer filled.\n"
     ]
    },
    {
     "name": "stdout",
     "output_type": "stream",
     "text": [
      "Epoch 241, gen_loss: 57454876.0000, disc_loss: -3.0418\n",
      "Time for epoch 241 is 100.7299 sec\n"
     ]
    },
    {
     "name": "stderr",
     "output_type": "stream",
     "text": [
      "2022-01-02 12:18:46.027642: W tensorflow/core/grappler/optimizers/meta_optimizer.cc:153] TF_ENABLE_AUTO_MIXED_PRECISION has no effect.\n",
      "2022-01-02 12:18:46.027696: W tensorflow/core/grappler/optimizers/meta_optimizer.cc:153] TF_ENABLE_AUTO_MIXED_PRECISION has no effect.\n",
      "2022-01-02 12:18:46.027710: W tensorflow/core/grappler/optimizers/meta_optimizer.cc:153] TF_ENABLE_AUTO_MIXED_PRECISION has no effect.\n",
      "2022-01-02 12:18:46.027715: W tensorflow/core/grappler/optimizers/meta_optimizer.cc:153] TF_ENABLE_AUTO_MIXED_PRECISION has no effect.\n",
      "2022-01-02 12:18:56.010612: I tensorflow/core/kernels/data/shuffle_dataset_op.cc:177] Filling up shuffle buffer (this may take a while): 10814 of 70504\n",
      "2022-01-02 12:19:06.010968: I tensorflow/core/kernels/data/shuffle_dataset_op.cc:177] Filling up shuffle buffer (this may take a while): 21791 of 70504\n",
      "2022-01-02 12:19:16.011954: I tensorflow/core/kernels/data/shuffle_dataset_op.cc:177] Filling up shuffle buffer (this may take a while): 32763 of 70504\n",
      "2022-01-02 12:19:26.010854: I tensorflow/core/kernels/data/shuffle_dataset_op.cc:177] Filling up shuffle buffer (this may take a while): 43795 of 70504\n",
      "2022-01-02 12:19:36.010452: I tensorflow/core/kernels/data/shuffle_dataset_op.cc:177] Filling up shuffle buffer (this may take a while): 54789 of 70504\n",
      "2022-01-02 12:19:46.011412: I tensorflow/core/kernels/data/shuffle_dataset_op.cc:177] Filling up shuffle buffer (this may take a while): 65861 of 70504\n",
      "2022-01-02 12:19:50.188518: I tensorflow/core/kernels/data/shuffle_dataset_op.cc:230] Shuffle buffer filled.\n"
     ]
    },
    {
     "name": "stdout",
     "output_type": "stream",
     "text": [
      "Epoch 242, gen_loss: 57069384.0000, disc_loss: -2.0140\n",
      "Time for epoch 242 is 99.2016 sec\n"
     ]
    },
    {
     "name": "stderr",
     "output_type": "stream",
     "text": [
      "2022-01-02 12:20:25.269594: W tensorflow/core/grappler/optimizers/meta_optimizer.cc:153] TF_ENABLE_AUTO_MIXED_PRECISION has no effect.\n",
      "2022-01-02 12:20:25.269645: W tensorflow/core/grappler/optimizers/meta_optimizer.cc:153] TF_ENABLE_AUTO_MIXED_PRECISION has no effect.\n",
      "2022-01-02 12:20:25.269658: W tensorflow/core/grappler/optimizers/meta_optimizer.cc:153] TF_ENABLE_AUTO_MIXED_PRECISION has no effect.\n",
      "2022-01-02 12:20:25.269664: W tensorflow/core/grappler/optimizers/meta_optimizer.cc:153] TF_ENABLE_AUTO_MIXED_PRECISION has no effect.\n",
      "2022-01-02 12:20:35.254281: I tensorflow/core/kernels/data/shuffle_dataset_op.cc:177] Filling up shuffle buffer (this may take a while): 10587 of 70504\n",
      "2022-01-02 12:20:45.253883: I tensorflow/core/kernels/data/shuffle_dataset_op.cc:177] Filling up shuffle buffer (this may take a while): 21316 of 70504\n",
      "2022-01-02 12:20:55.253787: I tensorflow/core/kernels/data/shuffle_dataset_op.cc:177] Filling up shuffle buffer (this may take a while): 32052 of 70504\n",
      "2022-01-02 12:21:05.254598: I tensorflow/core/kernels/data/shuffle_dataset_op.cc:177] Filling up shuffle buffer (this may take a while): 42780 of 70504\n",
      "2022-01-02 12:21:15.254046: I tensorflow/core/kernels/data/shuffle_dataset_op.cc:177] Filling up shuffle buffer (this may take a while): 53481 of 70504\n",
      "2022-01-02 12:21:25.254091: I tensorflow/core/kernels/data/shuffle_dataset_op.cc:177] Filling up shuffle buffer (this may take a while): 64293 of 70504\n",
      "2022-01-02 12:21:30.976928: I tensorflow/core/kernels/data/shuffle_dataset_op.cc:230] Shuffle buffer filled.\n"
     ]
    },
    {
     "name": "stdout",
     "output_type": "stream",
     "text": [
      "Epoch 243, gen_loss: 56726380.0000, disc_loss: -2.6283\n",
      "Time for epoch 243 is 100.7862 sec\n"
     ]
    },
    {
     "name": "stderr",
     "output_type": "stream",
     "text": [
      "2022-01-02 12:22:06.099513: W tensorflow/core/grappler/optimizers/meta_optimizer.cc:153] TF_ENABLE_AUTO_MIXED_PRECISION has no effect.\n",
      "2022-01-02 12:22:06.099567: W tensorflow/core/grappler/optimizers/meta_optimizer.cc:153] TF_ENABLE_AUTO_MIXED_PRECISION has no effect.\n",
      "2022-01-02 12:22:06.099581: W tensorflow/core/grappler/optimizers/meta_optimizer.cc:153] TF_ENABLE_AUTO_MIXED_PRECISION has no effect.\n",
      "2022-01-02 12:22:06.099587: W tensorflow/core/grappler/optimizers/meta_optimizer.cc:153] TF_ENABLE_AUTO_MIXED_PRECISION has no effect.\n",
      "2022-01-02 12:22:16.083598: I tensorflow/core/kernels/data/shuffle_dataset_op.cc:177] Filling up shuffle buffer (this may take a while): 10546 of 70504\n",
      "2022-01-02 12:22:26.083622: I tensorflow/core/kernels/data/shuffle_dataset_op.cc:177] Filling up shuffle buffer (this may take a while): 21279 of 70504\n",
      "2022-01-02 12:22:36.085346: I tensorflow/core/kernels/data/shuffle_dataset_op.cc:177] Filling up shuffle buffer (this may take a while): 32051 of 70504\n",
      "2022-01-02 12:22:46.083915: I tensorflow/core/kernels/data/shuffle_dataset_op.cc:177] Filling up shuffle buffer (this may take a while): 42831 of 70504\n",
      "2022-01-02 12:22:56.083380: I tensorflow/core/kernels/data/shuffle_dataset_op.cc:177] Filling up shuffle buffer (this may take a while): 53548 of 70504\n",
      "2022-01-02 12:23:06.085411: I tensorflow/core/kernels/data/shuffle_dataset_op.cc:177] Filling up shuffle buffer (this may take a while): 64364 of 70504\n",
      "2022-01-02 12:23:11.757856: I tensorflow/core/kernels/data/shuffle_dataset_op.cc:230] Shuffle buffer filled.\n"
     ]
    },
    {
     "name": "stdout",
     "output_type": "stream",
     "text": [
      "Epoch 244, gen_loss: 56381948.0000, disc_loss: -2.4531\n",
      "Time for epoch 244 is 100.6710 sec\n"
     ]
    },
    {
     "name": "stderr",
     "output_type": "stream",
     "text": [
      "2022-01-02 12:23:46.808174: W tensorflow/core/grappler/optimizers/meta_optimizer.cc:153] TF_ENABLE_AUTO_MIXED_PRECISION has no effect.\n",
      "2022-01-02 12:23:46.808225: W tensorflow/core/grappler/optimizers/meta_optimizer.cc:153] TF_ENABLE_AUTO_MIXED_PRECISION has no effect.\n",
      "2022-01-02 12:23:46.808239: W tensorflow/core/grappler/optimizers/meta_optimizer.cc:153] TF_ENABLE_AUTO_MIXED_PRECISION has no effect.\n",
      "2022-01-02 12:23:46.808245: W tensorflow/core/grappler/optimizers/meta_optimizer.cc:153] TF_ENABLE_AUTO_MIXED_PRECISION has no effect.\n",
      "2022-01-02 12:23:56.795387: I tensorflow/core/kernels/data/shuffle_dataset_op.cc:177] Filling up shuffle buffer (this may take a while): 10763 of 70504\n",
      "2022-01-02 12:24:06.794565: I tensorflow/core/kernels/data/shuffle_dataset_op.cc:177] Filling up shuffle buffer (this may take a while): 21733 of 70504\n",
      "2022-01-02 12:24:16.795825: I tensorflow/core/kernels/data/shuffle_dataset_op.cc:177] Filling up shuffle buffer (this may take a while): 32716 of 70504\n",
      "2022-01-02 12:24:26.795463: I tensorflow/core/kernels/data/shuffle_dataset_op.cc:177] Filling up shuffle buffer (this may take a while): 43745 of 70504\n",
      "2022-01-02 12:24:36.794759: I tensorflow/core/kernels/data/shuffle_dataset_op.cc:177] Filling up shuffle buffer (this may take a while): 54723 of 70504\n",
      "2022-01-02 12:24:46.795228: I tensorflow/core/kernels/data/shuffle_dataset_op.cc:177] Filling up shuffle buffer (this may take a while): 65791 of 70504\n",
      "2022-01-02 12:24:51.029860: I tensorflow/core/kernels/data/shuffle_dataset_op.cc:230] Shuffle buffer filled.\n"
     ]
    },
    {
     "name": "stdout",
     "output_type": "stream",
     "text": [
      "Epoch 245, gen_loss: 55989532.0000, disc_loss: -2.7526\n",
      "Time for epoch 245 is 99.2645 sec\n"
     ]
    },
    {
     "name": "stderr",
     "output_type": "stream",
     "text": [
      "2022-01-02 12:25:26.121314: W tensorflow/core/grappler/optimizers/meta_optimizer.cc:153] TF_ENABLE_AUTO_MIXED_PRECISION has no effect.\n",
      "2022-01-02 12:25:26.121363: W tensorflow/core/grappler/optimizers/meta_optimizer.cc:153] TF_ENABLE_AUTO_MIXED_PRECISION has no effect.\n",
      "2022-01-02 12:25:26.121376: W tensorflow/core/grappler/optimizers/meta_optimizer.cc:153] TF_ENABLE_AUTO_MIXED_PRECISION has no effect.\n",
      "2022-01-02 12:25:26.121382: W tensorflow/core/grappler/optimizers/meta_optimizer.cc:153] TF_ENABLE_AUTO_MIXED_PRECISION has no effect.\n",
      "2022-01-02 12:25:36.102882: I tensorflow/core/kernels/data/shuffle_dataset_op.cc:177] Filling up shuffle buffer (this may take a while): 10811 of 70504\n",
      "2022-01-02 12:25:46.103602: I tensorflow/core/kernels/data/shuffle_dataset_op.cc:177] Filling up shuffle buffer (this may take a while): 21747 of 70504\n",
      "2022-01-02 12:25:56.103690: I tensorflow/core/kernels/data/shuffle_dataset_op.cc:177] Filling up shuffle buffer (this may take a while): 32649 of 70504\n",
      "2022-01-02 12:26:06.103127: I tensorflow/core/kernels/data/shuffle_dataset_op.cc:177] Filling up shuffle buffer (this may take a while): 43635 of 70504\n",
      "2022-01-02 12:26:16.104905: I tensorflow/core/kernels/data/shuffle_dataset_op.cc:177] Filling up shuffle buffer (this may take a while): 54614 of 70504\n",
      "2022-01-02 12:26:26.103202: I tensorflow/core/kernels/data/shuffle_dataset_op.cc:177] Filling up shuffle buffer (this may take a while): 65639 of 70504\n",
      "2022-01-02 12:26:30.488865: I tensorflow/core/kernels/data/shuffle_dataset_op.cc:230] Shuffle buffer filled.\n"
     ]
    },
    {
     "name": "stdout",
     "output_type": "stream",
     "text": [
      "Epoch 246, gen_loss: 55643264.0000, disc_loss: -2.5174\n",
      "Time for epoch 246 is 99.4559 sec\n"
     ]
    },
    {
     "name": "stderr",
     "output_type": "stream",
     "text": [
      "2022-01-02 12:27:05.614294: W tensorflow/core/grappler/optimizers/meta_optimizer.cc:153] TF_ENABLE_AUTO_MIXED_PRECISION has no effect.\n",
      "2022-01-02 12:27:05.614345: W tensorflow/core/grappler/optimizers/meta_optimizer.cc:153] TF_ENABLE_AUTO_MIXED_PRECISION has no effect.\n",
      "2022-01-02 12:27:05.614360: W tensorflow/core/grappler/optimizers/meta_optimizer.cc:153] TF_ENABLE_AUTO_MIXED_PRECISION has no effect.\n",
      "2022-01-02 12:27:05.614365: W tensorflow/core/grappler/optimizers/meta_optimizer.cc:153] TF_ENABLE_AUTO_MIXED_PRECISION has no effect.\n",
      "2022-01-02 12:27:15.600944: I tensorflow/core/kernels/data/shuffle_dataset_op.cc:177] Filling up shuffle buffer (this may take a while): 10505 of 70504\n",
      "2022-01-02 12:27:25.599743: I tensorflow/core/kernels/data/shuffle_dataset_op.cc:177] Filling up shuffle buffer (this may take a while): 21240 of 70504\n",
      "2022-01-02 12:27:35.600768: I tensorflow/core/kernels/data/shuffle_dataset_op.cc:177] Filling up shuffle buffer (this may take a while): 31918 of 70504\n",
      "2022-01-02 12:27:45.600883: I tensorflow/core/kernels/data/shuffle_dataset_op.cc:177] Filling up shuffle buffer (this may take a while): 42670 of 70504\n",
      "2022-01-02 12:27:55.601126: I tensorflow/core/kernels/data/shuffle_dataset_op.cc:177] Filling up shuffle buffer (this may take a while): 53382 of 70504\n",
      "2022-01-02 12:28:05.601027: I tensorflow/core/kernels/data/shuffle_dataset_op.cc:177] Filling up shuffle buffer (this may take a while): 64208 of 70504\n",
      "2022-01-02 12:28:11.415614: I tensorflow/core/kernels/data/shuffle_dataset_op.cc:230] Shuffle buffer filled.\n"
     ]
    },
    {
     "name": "stdout",
     "output_type": "stream",
     "text": [
      "Epoch 247, gen_loss: 55143024.0000, disc_loss: -2.4231\n",
      "Time for epoch 247 is 100.8382 sec\n"
     ]
    },
    {
     "name": "stderr",
     "output_type": "stream",
     "text": [
      "2022-01-02 12:28:46.496222: W tensorflow/core/grappler/optimizers/meta_optimizer.cc:153] TF_ENABLE_AUTO_MIXED_PRECISION has no effect.\n",
      "2022-01-02 12:28:46.496274: W tensorflow/core/grappler/optimizers/meta_optimizer.cc:153] TF_ENABLE_AUTO_MIXED_PRECISION has no effect.\n",
      "2022-01-02 12:28:46.496288: W tensorflow/core/grappler/optimizers/meta_optimizer.cc:153] TF_ENABLE_AUTO_MIXED_PRECISION has no effect.\n",
      "2022-01-02 12:28:46.496293: W tensorflow/core/grappler/optimizers/meta_optimizer.cc:153] TF_ENABLE_AUTO_MIXED_PRECISION has no effect.\n",
      "2022-01-02 12:28:56.483604: I tensorflow/core/kernels/data/shuffle_dataset_op.cc:177] Filling up shuffle buffer (this may take a while): 10816 of 70504\n",
      "2022-01-02 12:29:06.484442: I tensorflow/core/kernels/data/shuffle_dataset_op.cc:177] Filling up shuffle buffer (this may take a while): 21733 of 70504\n",
      "2022-01-02 12:29:16.490183: I tensorflow/core/kernels/data/shuffle_dataset_op.cc:177] Filling up shuffle buffer (this may take a while): 32662 of 70504\n",
      "2022-01-02 12:29:26.483376: I tensorflow/core/kernels/data/shuffle_dataset_op.cc:177] Filling up shuffle buffer (this may take a while): 43644 of 70504\n",
      "2022-01-02 12:29:36.484125: I tensorflow/core/kernels/data/shuffle_dataset_op.cc:177] Filling up shuffle buffer (this may take a while): 54600 of 70504\n",
      "2022-01-02 12:29:46.483632: I tensorflow/core/kernels/data/shuffle_dataset_op.cc:177] Filling up shuffle buffer (this may take a while): 65636 of 70504\n",
      "2022-01-02 12:29:50.897208: I tensorflow/core/kernels/data/shuffle_dataset_op.cc:230] Shuffle buffer filled.\n"
     ]
    },
    {
     "name": "stdout",
     "output_type": "stream",
     "text": [
      "Epoch 248, gen_loss: 55259808.0000, disc_loss: -2.6585\n",
      "Time for epoch 248 is 99.4801 sec\n"
     ]
    },
    {
     "name": "stderr",
     "output_type": "stream",
     "text": [
      "2022-01-02 12:30:26.018618: W tensorflow/core/grappler/optimizers/meta_optimizer.cc:153] TF_ENABLE_AUTO_MIXED_PRECISION has no effect.\n",
      "2022-01-02 12:30:26.018672: W tensorflow/core/grappler/optimizers/meta_optimizer.cc:153] TF_ENABLE_AUTO_MIXED_PRECISION has no effect.\n",
      "2022-01-02 12:30:26.018686: W tensorflow/core/grappler/optimizers/meta_optimizer.cc:153] TF_ENABLE_AUTO_MIXED_PRECISION has no effect.\n",
      "2022-01-02 12:30:26.018692: W tensorflow/core/grappler/optimizers/meta_optimizer.cc:153] TF_ENABLE_AUTO_MIXED_PRECISION has no effect.\n",
      "2022-01-02 12:30:36.007045: I tensorflow/core/kernels/data/shuffle_dataset_op.cc:177] Filling up shuffle buffer (this may take a while): 10591 of 70504\n",
      "2022-01-02 12:30:46.007233: I tensorflow/core/kernels/data/shuffle_dataset_op.cc:177] Filling up shuffle buffer (this may take a while): 21291 of 70504\n",
      "2022-01-02 12:30:56.006670: I tensorflow/core/kernels/data/shuffle_dataset_op.cc:177] Filling up shuffle buffer (this may take a while): 32069 of 70504\n",
      "2022-01-02 12:31:06.006005: I tensorflow/core/kernels/data/shuffle_dataset_op.cc:177] Filling up shuffle buffer (this may take a while): 42827 of 70504\n",
      "2022-01-02 12:31:16.006734: I tensorflow/core/kernels/data/shuffle_dataset_op.cc:177] Filling up shuffle buffer (this may take a while): 53542 of 70504\n",
      "2022-01-02 12:31:26.006538: I tensorflow/core/kernels/data/shuffle_dataset_op.cc:177] Filling up shuffle buffer (this may take a while): 64351 of 70504\n",
      "2022-01-02 12:31:31.709457: I tensorflow/core/kernels/data/shuffle_dataset_op.cc:230] Shuffle buffer filled.\n"
     ]
    },
    {
     "name": "stdout",
     "output_type": "stream",
     "text": [
      "Epoch 249, gen_loss: 55154308.0000, disc_loss: -3.1561\n",
      "Time for epoch 249 is 100.7707 sec\n"
     ]
    },
    {
     "name": "stderr",
     "output_type": "stream",
     "text": [
      "2022-01-02 12:32:06.837700: W tensorflow/core/grappler/optimizers/meta_optimizer.cc:153] TF_ENABLE_AUTO_MIXED_PRECISION has no effect.\n",
      "2022-01-02 12:32:06.837755: W tensorflow/core/grappler/optimizers/meta_optimizer.cc:153] TF_ENABLE_AUTO_MIXED_PRECISION has no effect.\n",
      "2022-01-02 12:32:06.837769: W tensorflow/core/grappler/optimizers/meta_optimizer.cc:153] TF_ENABLE_AUTO_MIXED_PRECISION has no effect.\n",
      "2022-01-02 12:32:06.837775: W tensorflow/core/grappler/optimizers/meta_optimizer.cc:153] TF_ENABLE_AUTO_MIXED_PRECISION has no effect.\n",
      "2022-01-02 12:32:16.822048: I tensorflow/core/kernels/data/shuffle_dataset_op.cc:177] Filling up shuffle buffer (this may take a while): 10589 of 70504\n",
      "2022-01-02 12:32:26.822157: I tensorflow/core/kernels/data/shuffle_dataset_op.cc:177] Filling up shuffle buffer (this may take a while): 21301 of 70504\n",
      "2022-01-02 12:32:36.820750: I tensorflow/core/kernels/data/shuffle_dataset_op.cc:177] Filling up shuffle buffer (this may take a while): 32023 of 70504\n",
      "2022-01-02 12:32:46.821083: I tensorflow/core/kernels/data/shuffle_dataset_op.cc:177] Filling up shuffle buffer (this may take a while): 42705 of 70504\n",
      "2022-01-02 12:32:56.821847: I tensorflow/core/kernels/data/shuffle_dataset_op.cc:177] Filling up shuffle buffer (this may take a while): 53383 of 70504\n",
      "2022-01-02 12:33:06.821365: I tensorflow/core/kernels/data/shuffle_dataset_op.cc:177] Filling up shuffle buffer (this may take a while): 64199 of 70504\n",
      "2022-01-02 12:33:12.668368: I tensorflow/core/kernels/data/shuffle_dataset_op.cc:230] Shuffle buffer filled.\n"
     ]
    },
    {
     "name": "stdout",
     "output_type": "stream",
     "text": [
      "Epoch 250, gen_loss: 54777448.0000, disc_loss: -2.5378\n",
      "Time for epoch 250 is 100.8862 sec\n"
     ]
    },
    {
     "name": "stderr",
     "output_type": "stream",
     "text": [
      "2022-01-02 12:33:47.939114: W tensorflow/core/grappler/optimizers/meta_optimizer.cc:153] TF_ENABLE_AUTO_MIXED_PRECISION has no effect.\n",
      "2022-01-02 12:33:47.939165: W tensorflow/core/grappler/optimizers/meta_optimizer.cc:153] TF_ENABLE_AUTO_MIXED_PRECISION has no effect.\n",
      "2022-01-02 12:33:47.939179: W tensorflow/core/grappler/optimizers/meta_optimizer.cc:153] TF_ENABLE_AUTO_MIXED_PRECISION has no effect.\n",
      "2022-01-02 12:33:47.939184: W tensorflow/core/grappler/optimizers/meta_optimizer.cc:153] TF_ENABLE_AUTO_MIXED_PRECISION has no effect.\n",
      "2022-01-02 12:33:57.923661: I tensorflow/core/kernels/data/shuffle_dataset_op.cc:177] Filling up shuffle buffer (this may take a while): 10828 of 70504\n",
      "2022-01-02 12:34:07.923919: I tensorflow/core/kernels/data/shuffle_dataset_op.cc:177] Filling up shuffle buffer (this may take a while): 21796 of 70504\n",
      "2022-01-02 12:34:17.924893: I tensorflow/core/kernels/data/shuffle_dataset_op.cc:177] Filling up shuffle buffer (this may take a while): 32764 of 70504\n",
      "2022-01-02 12:34:27.923101: I tensorflow/core/kernels/data/shuffle_dataset_op.cc:177] Filling up shuffle buffer (this may take a while): 43772 of 70504\n",
      "2022-01-02 12:34:37.923649: I tensorflow/core/kernels/data/shuffle_dataset_op.cc:177] Filling up shuffle buffer (this may take a while): 54750 of 70504\n",
      "2022-01-02 12:34:47.924084: I tensorflow/core/kernels/data/shuffle_dataset_op.cc:177] Filling up shuffle buffer (this may take a while): 65793 of 70504\n",
      "2022-01-02 12:34:52.177137: I tensorflow/core/kernels/data/shuffle_dataset_op.cc:230] Shuffle buffer filled.\n"
     ]
    },
    {
     "name": "stdout",
     "output_type": "stream",
     "text": [
      "Epoch 251, gen_loss: 54601340.0000, disc_loss: -2.8625\n",
      "Time for epoch 251 is 99.2624 sec\n"
     ]
    },
    {
     "name": "stderr",
     "output_type": "stream",
     "text": [
      "2022-01-02 12:35:27.236665: W tensorflow/core/grappler/optimizers/meta_optimizer.cc:153] TF_ENABLE_AUTO_MIXED_PRECISION has no effect.\n",
      "2022-01-02 12:35:27.236716: W tensorflow/core/grappler/optimizers/meta_optimizer.cc:153] TF_ENABLE_AUTO_MIXED_PRECISION has no effect.\n",
      "2022-01-02 12:35:27.236730: W tensorflow/core/grappler/optimizers/meta_optimizer.cc:153] TF_ENABLE_AUTO_MIXED_PRECISION has no effect.\n",
      "2022-01-02 12:35:27.236735: W tensorflow/core/grappler/optimizers/meta_optimizer.cc:153] TF_ENABLE_AUTO_MIXED_PRECISION has no effect.\n",
      "2022-01-02 12:35:37.224940: I tensorflow/core/kernels/data/shuffle_dataset_op.cc:177] Filling up shuffle buffer (this may take a while): 10846 of 70504\n",
      "2022-01-02 12:35:47.225147: I tensorflow/core/kernels/data/shuffle_dataset_op.cc:177] Filling up shuffle buffer (this may take a while): 21805 of 70504\n",
      "2022-01-02 12:35:57.224922: I tensorflow/core/kernels/data/shuffle_dataset_op.cc:177] Filling up shuffle buffer (this may take a while): 32737 of 70504\n",
      "2022-01-02 12:36:07.225114: I tensorflow/core/kernels/data/shuffle_dataset_op.cc:177] Filling up shuffle buffer (this may take a while): 43708 of 70504\n",
      "2022-01-02 12:36:17.225342: I tensorflow/core/kernels/data/shuffle_dataset_op.cc:177] Filling up shuffle buffer (this may take a while): 54649 of 70504\n",
      "2022-01-02 12:36:27.225708: I tensorflow/core/kernels/data/shuffle_dataset_op.cc:177] Filling up shuffle buffer (this may take a while): 65696 of 70504\n",
      "2022-01-02 12:36:31.621967: I tensorflow/core/kernels/data/shuffle_dataset_op.cc:230] Shuffle buffer filled.\n"
     ]
    },
    {
     "name": "stdout",
     "output_type": "stream",
     "text": [
      "Epoch 252, gen_loss: 54303560.0000, disc_loss: -3.2641\n",
      "Time for epoch 252 is 99.3624 sec\n"
     ]
    },
    {
     "name": "stderr",
     "output_type": "stream",
     "text": [
      "2022-01-02 12:37:06.647784: W tensorflow/core/grappler/optimizers/meta_optimizer.cc:153] TF_ENABLE_AUTO_MIXED_PRECISION has no effect.\n",
      "2022-01-02 12:37:06.647833: W tensorflow/core/grappler/optimizers/meta_optimizer.cc:153] TF_ENABLE_AUTO_MIXED_PRECISION has no effect.\n",
      "2022-01-02 12:37:06.647847: W tensorflow/core/grappler/optimizers/meta_optimizer.cc:153] TF_ENABLE_AUTO_MIXED_PRECISION has no effect.\n",
      "2022-01-02 12:37:06.647852: W tensorflow/core/grappler/optimizers/meta_optimizer.cc:153] TF_ENABLE_AUTO_MIXED_PRECISION has no effect.\n",
      "2022-01-02 12:37:16.631110: I tensorflow/core/kernels/data/shuffle_dataset_op.cc:177] Filling up shuffle buffer (this may take a while): 10858 of 70504\n",
      "2022-01-02 12:37:26.632631: I tensorflow/core/kernels/data/shuffle_dataset_op.cc:177] Filling up shuffle buffer (this may take a while): 21832 of 70504\n",
      "2022-01-02 12:37:36.630718: I tensorflow/core/kernels/data/shuffle_dataset_op.cc:177] Filling up shuffle buffer (this may take a while): 32787 of 70504\n",
      "2022-01-02 12:37:46.631461: I tensorflow/core/kernels/data/shuffle_dataset_op.cc:177] Filling up shuffle buffer (this may take a while): 43781 of 70504\n",
      "2022-01-02 12:37:56.631715: I tensorflow/core/kernels/data/shuffle_dataset_op.cc:177] Filling up shuffle buffer (this may take a while): 54773 of 70504\n",
      "2022-01-02 12:38:06.630961: I tensorflow/core/kernels/data/shuffle_dataset_op.cc:177] Filling up shuffle buffer (this may take a while): 65803 of 70504\n",
      "2022-01-02 12:38:10.881107: I tensorflow/core/kernels/data/shuffle_dataset_op.cc:230] Shuffle buffer filled.\n"
     ]
    },
    {
     "name": "stdout",
     "output_type": "stream",
     "text": [
      "Epoch 253, gen_loss: 53940628.0000, disc_loss: -2.4519\n",
      "Time for epoch 253 is 99.3149 sec\n"
     ]
    },
    {
     "name": "stderr",
     "output_type": "stream",
     "text": [
      "2022-01-02 12:38:46.008144: W tensorflow/core/grappler/optimizers/meta_optimizer.cc:153] TF_ENABLE_AUTO_MIXED_PRECISION has no effect.\n",
      "2022-01-02 12:38:46.008192: W tensorflow/core/grappler/optimizers/meta_optimizer.cc:153] TF_ENABLE_AUTO_MIXED_PRECISION has no effect.\n",
      "2022-01-02 12:38:46.008207: W tensorflow/core/grappler/optimizers/meta_optimizer.cc:153] TF_ENABLE_AUTO_MIXED_PRECISION has no effect.\n",
      "2022-01-02 12:38:46.008212: W tensorflow/core/grappler/optimizers/meta_optimizer.cc:153] TF_ENABLE_AUTO_MIXED_PRECISION has no effect.\n",
      "2022-01-02 12:38:55.992064: I tensorflow/core/kernels/data/shuffle_dataset_op.cc:177] Filling up shuffle buffer (this may take a while): 10807 of 70504\n",
      "2022-01-02 12:39:05.991348: I tensorflow/core/kernels/data/shuffle_dataset_op.cc:177] Filling up shuffle buffer (this may take a while): 21748 of 70504\n",
      "2022-01-02 12:39:15.991848: I tensorflow/core/kernels/data/shuffle_dataset_op.cc:177] Filling up shuffle buffer (this may take a while): 32663 of 70504\n",
      "2022-01-02 12:39:25.993772: I tensorflow/core/kernels/data/shuffle_dataset_op.cc:177] Filling up shuffle buffer (this may take a while): 43641 of 70504\n",
      "2022-01-02 12:39:35.992379: I tensorflow/core/kernels/data/shuffle_dataset_op.cc:177] Filling up shuffle buffer (this may take a while): 54577 of 70504\n",
      "2022-01-02 12:39:45.992181: I tensorflow/core/kernels/data/shuffle_dataset_op.cc:177] Filling up shuffle buffer (this may take a while): 65581 of 70504\n",
      "2022-01-02 12:39:50.438855: I tensorflow/core/kernels/data/shuffle_dataset_op.cc:230] Shuffle buffer filled.\n"
     ]
    },
    {
     "name": "stdout",
     "output_type": "stream",
     "text": [
      "Epoch 254, gen_loss: 53958360.0000, disc_loss: -2.6140\n",
      "Time for epoch 254 is 99.5022 sec\n"
     ]
    },
    {
     "name": "stderr",
     "output_type": "stream",
     "text": [
      "2022-01-02 12:40:25.548086: W tensorflow/core/grappler/optimizers/meta_optimizer.cc:153] TF_ENABLE_AUTO_MIXED_PRECISION has no effect.\n",
      "2022-01-02 12:40:25.548138: W tensorflow/core/grappler/optimizers/meta_optimizer.cc:153] TF_ENABLE_AUTO_MIXED_PRECISION has no effect.\n",
      "2022-01-02 12:40:25.548152: W tensorflow/core/grappler/optimizers/meta_optimizer.cc:153] TF_ENABLE_AUTO_MIXED_PRECISION has no effect.\n",
      "2022-01-02 12:40:25.548157: W tensorflow/core/grappler/optimizers/meta_optimizer.cc:153] TF_ENABLE_AUTO_MIXED_PRECISION has no effect.\n",
      "2022-01-02 12:40:35.537967: I tensorflow/core/kernels/data/shuffle_dataset_op.cc:177] Filling up shuffle buffer (this may take a while): 10576 of 70504\n",
      "2022-01-02 12:40:45.538543: I tensorflow/core/kernels/data/shuffle_dataset_op.cc:177] Filling up shuffle buffer (this may take a while): 21322 of 70504\n",
      "2022-01-02 12:40:55.539542: I tensorflow/core/kernels/data/shuffle_dataset_op.cc:177] Filling up shuffle buffer (this may take a while): 32051 of 70504\n",
      "2022-01-02 12:41:05.537370: I tensorflow/core/kernels/data/shuffle_dataset_op.cc:177] Filling up shuffle buffer (this may take a while): 42813 of 70504\n",
      "2022-01-02 12:41:15.538029: I tensorflow/core/kernels/data/shuffle_dataset_op.cc:177] Filling up shuffle buffer (this may take a while): 53480 of 70504\n",
      "2022-01-02 12:41:25.537827: I tensorflow/core/kernels/data/shuffle_dataset_op.cc:177] Filling up shuffle buffer (this may take a while): 64281 of 70504\n",
      "2022-01-02 12:41:31.303711: I tensorflow/core/kernels/data/shuffle_dataset_op.cc:230] Shuffle buffer filled.\n"
     ]
    },
    {
     "name": "stdout",
     "output_type": "stream",
     "text": [
      "Epoch 255, gen_loss: 53821848.0000, disc_loss: -2.2372\n",
      "Time for epoch 255 is 100.8186 sec\n"
     ]
    },
    {
     "name": "stderr",
     "output_type": "stream",
     "text": [
      "2022-01-02 12:42:06.416637: W tensorflow/core/grappler/optimizers/meta_optimizer.cc:153] TF_ENABLE_AUTO_MIXED_PRECISION has no effect.\n",
      "2022-01-02 12:42:06.416694: W tensorflow/core/grappler/optimizers/meta_optimizer.cc:153] TF_ENABLE_AUTO_MIXED_PRECISION has no effect.\n",
      "2022-01-02 12:42:06.416708: W tensorflow/core/grappler/optimizers/meta_optimizer.cc:153] TF_ENABLE_AUTO_MIXED_PRECISION has no effect.\n",
      "2022-01-02 12:42:06.416713: W tensorflow/core/grappler/optimizers/meta_optimizer.cc:153] TF_ENABLE_AUTO_MIXED_PRECISION has no effect.\n",
      "2022-01-02 12:42:16.399170: I tensorflow/core/kernels/data/shuffle_dataset_op.cc:177] Filling up shuffle buffer (this may take a while): 10811 of 70504\n",
      "2022-01-02 12:42:26.397997: I tensorflow/core/kernels/data/shuffle_dataset_op.cc:177] Filling up shuffle buffer (this may take a while): 21791 of 70504\n",
      "2022-01-02 12:42:36.397935: I tensorflow/core/kernels/data/shuffle_dataset_op.cc:177] Filling up shuffle buffer (this may take a while): 32680 of 70504\n",
      "2022-01-02 12:42:46.398899: I tensorflow/core/kernels/data/shuffle_dataset_op.cc:177] Filling up shuffle buffer (this may take a while): 43600 of 70504\n",
      "2022-01-02 12:42:56.397564: I tensorflow/core/kernels/data/shuffle_dataset_op.cc:177] Filling up shuffle buffer (this may take a while): 54554 of 70504\n",
      "2022-01-02 12:43:06.397705: I tensorflow/core/kernels/data/shuffle_dataset_op.cc:177] Filling up shuffle buffer (this may take a while): 65541 of 70504\n",
      "2022-01-02 12:43:10.892347: I tensorflow/core/kernels/data/shuffle_dataset_op.cc:230] Shuffle buffer filled.\n"
     ]
    },
    {
     "name": "stdout",
     "output_type": "stream",
     "text": [
      "Epoch 256, gen_loss: 53348140.0000, disc_loss: -1.9869\n",
      "Time for epoch 256 is 99.5663 sec\n"
     ]
    },
    {
     "name": "stderr",
     "output_type": "stream",
     "text": [
      "2022-01-02 12:43:46.023850: W tensorflow/core/grappler/optimizers/meta_optimizer.cc:153] TF_ENABLE_AUTO_MIXED_PRECISION has no effect.\n",
      "2022-01-02 12:43:46.023902: W tensorflow/core/grappler/optimizers/meta_optimizer.cc:153] TF_ENABLE_AUTO_MIXED_PRECISION has no effect.\n",
      "2022-01-02 12:43:46.023916: W tensorflow/core/grappler/optimizers/meta_optimizer.cc:153] TF_ENABLE_AUTO_MIXED_PRECISION has no effect.\n",
      "2022-01-02 12:43:46.023922: W tensorflow/core/grappler/optimizers/meta_optimizer.cc:153] TF_ENABLE_AUTO_MIXED_PRECISION has no effect.\n",
      "2022-01-02 12:43:56.007186: I tensorflow/core/kernels/data/shuffle_dataset_op.cc:177] Filling up shuffle buffer (this may take a while): 10637 of 70504\n",
      "2022-01-02 12:44:06.007512: I tensorflow/core/kernels/data/shuffle_dataset_op.cc:177] Filling up shuffle buffer (this may take a while): 21341 of 70504\n",
      "2022-01-02 12:44:16.006635: I tensorflow/core/kernels/data/shuffle_dataset_op.cc:177] Filling up shuffle buffer (this may take a while): 32098 of 70504\n",
      "2022-01-02 12:44:26.006768: I tensorflow/core/kernels/data/shuffle_dataset_op.cc:177] Filling up shuffle buffer (this may take a while): 42824 of 70504\n",
      "2022-01-02 12:44:36.007775: I tensorflow/core/kernels/data/shuffle_dataset_op.cc:177] Filling up shuffle buffer (this may take a while): 53520 of 70504\n",
      "2022-01-02 12:44:46.007999: I tensorflow/core/kernels/data/shuffle_dataset_op.cc:177] Filling up shuffle buffer (this may take a while): 64301 of 70504\n",
      "2022-01-02 12:44:51.751825: I tensorflow/core/kernels/data/shuffle_dataset_op.cc:230] Shuffle buffer filled.\n"
     ]
    },
    {
     "name": "stdout",
     "output_type": "stream",
     "text": [
      "Epoch 257, gen_loss: 53187248.0000, disc_loss: -1.3502\n",
      "Time for epoch 257 is 100.8340 sec\n"
     ]
    },
    {
     "name": "stderr",
     "output_type": "stream",
     "text": [
      "2022-01-02 12:45:26.899573: W tensorflow/core/grappler/optimizers/meta_optimizer.cc:153] TF_ENABLE_AUTO_MIXED_PRECISION has no effect.\n",
      "2022-01-02 12:45:26.899635: W tensorflow/core/grappler/optimizers/meta_optimizer.cc:153] TF_ENABLE_AUTO_MIXED_PRECISION has no effect.\n",
      "2022-01-02 12:45:26.899650: W tensorflow/core/grappler/optimizers/meta_optimizer.cc:153] TF_ENABLE_AUTO_MIXED_PRECISION has no effect.\n",
      "2022-01-02 12:45:26.899655: W tensorflow/core/grappler/optimizers/meta_optimizer.cc:153] TF_ENABLE_AUTO_MIXED_PRECISION has no effect.\n",
      "2022-01-02 12:45:36.883594: I tensorflow/core/kernels/data/shuffle_dataset_op.cc:177] Filling up shuffle buffer (this may take a while): 10841 of 70504\n",
      "2022-01-02 12:45:46.884647: I tensorflow/core/kernels/data/shuffle_dataset_op.cc:177] Filling up shuffle buffer (this may take a while): 21842 of 70504\n",
      "2022-01-02 12:45:56.883536: I tensorflow/core/kernels/data/shuffle_dataset_op.cc:177] Filling up shuffle buffer (this may take a while): 32800 of 70504\n",
      "2022-01-02 12:46:06.884148: I tensorflow/core/kernels/data/shuffle_dataset_op.cc:177] Filling up shuffle buffer (this may take a while): 43788 of 70504\n",
      "2022-01-02 12:46:16.883549: I tensorflow/core/kernels/data/shuffle_dataset_op.cc:177] Filling up shuffle buffer (this may take a while): 54764 of 70504\n",
      "2022-01-02 12:46:26.883494: I tensorflow/core/kernels/data/shuffle_dataset_op.cc:177] Filling up shuffle buffer (this may take a while): 65815 of 70504\n",
      "2022-01-02 12:46:31.125826: I tensorflow/core/kernels/data/shuffle_dataset_op.cc:230] Shuffle buffer filled.\n"
     ]
    },
    {
     "name": "stdout",
     "output_type": "stream",
     "text": [
      "Epoch 258, gen_loss: 52715528.0000, disc_loss: -1.7676\n",
      "Time for epoch 258 is 99.2394 sec\n"
     ]
    },
    {
     "name": "stderr",
     "output_type": "stream",
     "text": [
      "2022-01-02 12:47:06.177033: W tensorflow/core/grappler/optimizers/meta_optimizer.cc:153] TF_ENABLE_AUTO_MIXED_PRECISION has no effect.\n",
      "2022-01-02 12:47:06.177084: W tensorflow/core/grappler/optimizers/meta_optimizer.cc:153] TF_ENABLE_AUTO_MIXED_PRECISION has no effect.\n",
      "2022-01-02 12:47:06.177098: W tensorflow/core/grappler/optimizers/meta_optimizer.cc:153] TF_ENABLE_AUTO_MIXED_PRECISION has no effect.\n",
      "2022-01-02 12:47:06.177103: W tensorflow/core/grappler/optimizers/meta_optimizer.cc:153] TF_ENABLE_AUTO_MIXED_PRECISION has no effect.\n",
      "2022-01-02 12:47:16.164277: I tensorflow/core/kernels/data/shuffle_dataset_op.cc:177] Filling up shuffle buffer (this may take a while): 10800 of 70504\n",
      "2022-01-02 12:47:26.164097: I tensorflow/core/kernels/data/shuffle_dataset_op.cc:177] Filling up shuffle buffer (this may take a while): 21725 of 70504\n",
      "2022-01-02 12:47:36.164403: I tensorflow/core/kernels/data/shuffle_dataset_op.cc:177] Filling up shuffle buffer (this may take a while): 32649 of 70504\n",
      "2022-01-02 12:47:46.165230: I tensorflow/core/kernels/data/shuffle_dataset_op.cc:177] Filling up shuffle buffer (this may take a while): 43613 of 70504\n",
      "2022-01-02 12:47:56.164096: I tensorflow/core/kernels/data/shuffle_dataset_op.cc:177] Filling up shuffle buffer (this may take a while): 54543 of 70504\n",
      "2022-01-02 12:48:06.164601: I tensorflow/core/kernels/data/shuffle_dataset_op.cc:177] Filling up shuffle buffer (this may take a while): 65567 of 70504\n",
      "2022-01-02 12:48:10.696349: I tensorflow/core/kernels/data/shuffle_dataset_op.cc:230] Shuffle buffer filled.\n"
     ]
    },
    {
     "name": "stdout",
     "output_type": "stream",
     "text": [
      "Epoch 259, gen_loss: 52724340.0000, disc_loss: -1.8063\n",
      "Time for epoch 259 is 99.5672 sec\n"
     ]
    },
    {
     "name": "stderr",
     "output_type": "stream",
     "text": [
      "2022-01-02 12:48:45.791748: W tensorflow/core/grappler/optimizers/meta_optimizer.cc:153] TF_ENABLE_AUTO_MIXED_PRECISION has no effect.\n",
      "2022-01-02 12:48:45.791798: W tensorflow/core/grappler/optimizers/meta_optimizer.cc:153] TF_ENABLE_AUTO_MIXED_PRECISION has no effect.\n",
      "2022-01-02 12:48:45.791812: W tensorflow/core/grappler/optimizers/meta_optimizer.cc:153] TF_ENABLE_AUTO_MIXED_PRECISION has no effect.\n",
      "2022-01-02 12:48:45.791818: W tensorflow/core/grappler/optimizers/meta_optimizer.cc:153] TF_ENABLE_AUTO_MIXED_PRECISION has no effect.\n",
      "2022-01-02 12:48:55.775934: I tensorflow/core/kernels/data/shuffle_dataset_op.cc:177] Filling up shuffle buffer (this may take a while): 10641 of 70504\n",
      "2022-01-02 12:49:05.776655: I tensorflow/core/kernels/data/shuffle_dataset_op.cc:177] Filling up shuffle buffer (this may take a while): 21410 of 70504\n",
      "2022-01-02 12:49:15.776221: I tensorflow/core/kernels/data/shuffle_dataset_op.cc:177] Filling up shuffle buffer (this may take a while): 32192 of 70504\n",
      "2022-01-02 12:49:25.775448: I tensorflow/core/kernels/data/shuffle_dataset_op.cc:177] Filling up shuffle buffer (this may take a while): 42962 of 70504\n",
      "2022-01-02 12:49:35.775878: I tensorflow/core/kernels/data/shuffle_dataset_op.cc:177] Filling up shuffle buffer (this may take a while): 53703 of 70504\n",
      "2022-01-02 12:49:45.776117: I tensorflow/core/kernels/data/shuffle_dataset_op.cc:177] Filling up shuffle buffer (this may take a while): 64483 of 70504\n",
      "2022-01-02 12:49:51.359742: I tensorflow/core/kernels/data/shuffle_dataset_op.cc:230] Shuffle buffer filled.\n"
     ]
    },
    {
     "name": "stdout",
     "output_type": "stream",
     "text": [
      "Epoch 260, gen_loss: 52763500.0000, disc_loss: -2.0321\n",
      "Time for epoch 260 is 100.6186 sec\n"
     ]
    },
    {
     "name": "stderr",
     "output_type": "stream",
     "text": [
      "2022-01-02 12:50:26.450208: W tensorflow/core/grappler/optimizers/meta_optimizer.cc:153] TF_ENABLE_AUTO_MIXED_PRECISION has no effect.\n",
      "2022-01-02 12:50:26.450257: W tensorflow/core/grappler/optimizers/meta_optimizer.cc:153] TF_ENABLE_AUTO_MIXED_PRECISION has no effect.\n",
      "2022-01-02 12:50:26.450271: W tensorflow/core/grappler/optimizers/meta_optimizer.cc:153] TF_ENABLE_AUTO_MIXED_PRECISION has no effect.\n",
      "2022-01-02 12:50:26.450277: W tensorflow/core/grappler/optimizers/meta_optimizer.cc:153] TF_ENABLE_AUTO_MIXED_PRECISION has no effect.\n",
      "2022-01-02 12:50:36.435508: I tensorflow/core/kernels/data/shuffle_dataset_op.cc:177] Filling up shuffle buffer (this may take a while): 10854 of 70504\n",
      "2022-01-02 12:50:46.435451: I tensorflow/core/kernels/data/shuffle_dataset_op.cc:177] Filling up shuffle buffer (this may take a while): 21827 of 70504\n",
      "2022-01-02 12:50:56.435660: I tensorflow/core/kernels/data/shuffle_dataset_op.cc:177] Filling up shuffle buffer (this may take a while): 32779 of 70504\n",
      "2022-01-02 12:51:06.435111: I tensorflow/core/kernels/data/shuffle_dataset_op.cc:177] Filling up shuffle buffer (this may take a while): 43745 of 70504\n",
      "2022-01-02 12:51:16.436100: I tensorflow/core/kernels/data/shuffle_dataset_op.cc:177] Filling up shuffle buffer (this may take a while): 54705 of 70504\n",
      "2022-01-02 12:51:26.435137: I tensorflow/core/kernels/data/shuffle_dataset_op.cc:177] Filling up shuffle buffer (this may take a while): 65719 of 70504\n",
      "2022-01-02 12:51:30.785137: I tensorflow/core/kernels/data/shuffle_dataset_op.cc:230] Shuffle buffer filled.\n"
     ]
    },
    {
     "name": "stdout",
     "output_type": "stream",
     "text": [
      "Epoch 261, gen_loss: 52311256.0000, disc_loss: -1.7734\n",
      "Time for epoch 261 is 99.4015 sec\n"
     ]
    },
    {
     "name": "stderr",
     "output_type": "stream",
     "text": [
      "2022-01-02 12:52:05.893035: W tensorflow/core/grappler/optimizers/meta_optimizer.cc:153] TF_ENABLE_AUTO_MIXED_PRECISION has no effect.\n",
      "2022-01-02 12:52:05.893081: W tensorflow/core/grappler/optimizers/meta_optimizer.cc:153] TF_ENABLE_AUTO_MIXED_PRECISION has no effect.\n",
      "2022-01-02 12:52:05.893095: W tensorflow/core/grappler/optimizers/meta_optimizer.cc:153] TF_ENABLE_AUTO_MIXED_PRECISION has no effect.\n",
      "2022-01-02 12:52:05.893101: W tensorflow/core/grappler/optimizers/meta_optimizer.cc:153] TF_ENABLE_AUTO_MIXED_PRECISION has no effect.\n",
      "2022-01-02 12:52:15.882360: I tensorflow/core/kernels/data/shuffle_dataset_op.cc:177] Filling up shuffle buffer (this may take a while): 10645 of 70504\n",
      "2022-01-02 12:52:25.882078: I tensorflow/core/kernels/data/shuffle_dataset_op.cc:177] Filling up shuffle buffer (this may take a while): 21367 of 70504\n",
      "2022-01-02 12:52:35.883452: I tensorflow/core/kernels/data/shuffle_dataset_op.cc:177] Filling up shuffle buffer (this may take a while): 32116 of 70504\n",
      "2022-01-02 12:52:45.883401: I tensorflow/core/kernels/data/shuffle_dataset_op.cc:177] Filling up shuffle buffer (this may take a while): 42886 of 70504\n",
      "2022-01-02 12:52:55.881603: I tensorflow/core/kernels/data/shuffle_dataset_op.cc:177] Filling up shuffle buffer (this may take a while): 53602 of 70504\n",
      "2022-01-02 12:53:05.881749: I tensorflow/core/kernels/data/shuffle_dataset_op.cc:177] Filling up shuffle buffer (this may take a while): 64396 of 70504\n",
      "2022-01-02 12:53:11.573876: I tensorflow/core/kernels/data/shuffle_dataset_op.cc:230] Shuffle buffer filled.\n"
     ]
    },
    {
     "name": "stdout",
     "output_type": "stream",
     "text": [
      "Epoch 262, gen_loss: 52002664.0000, disc_loss: -1.3949\n",
      "Time for epoch 262 is 141.9582 sec\n"
     ]
    },
    {
     "name": "stderr",
     "output_type": "stream",
     "text": [
      "2022-01-02 12:54:27.897220: W tensorflow/core/grappler/optimizers/meta_optimizer.cc:153] TF_ENABLE_AUTO_MIXED_PRECISION has no effect.\n",
      "2022-01-02 12:54:27.897269: W tensorflow/core/grappler/optimizers/meta_optimizer.cc:153] TF_ENABLE_AUTO_MIXED_PRECISION has no effect.\n",
      "2022-01-02 12:54:27.897285: W tensorflow/core/grappler/optimizers/meta_optimizer.cc:153] TF_ENABLE_AUTO_MIXED_PRECISION has no effect.\n",
      "2022-01-02 12:54:27.897291: W tensorflow/core/grappler/optimizers/meta_optimizer.cc:153] TF_ENABLE_AUTO_MIXED_PRECISION has no effect.\n",
      "2022-01-02 12:54:37.879628: I tensorflow/core/kernels/data/shuffle_dataset_op.cc:177] Filling up shuffle buffer (this may take a while): 10584 of 70504\n",
      "2022-01-02 12:54:47.880495: I tensorflow/core/kernels/data/shuffle_dataset_op.cc:177] Filling up shuffle buffer (this may take a while): 21320 of 70504\n",
      "2022-01-02 12:54:57.879556: I tensorflow/core/kernels/data/shuffle_dataset_op.cc:177] Filling up shuffle buffer (this may take a while): 32056 of 70504\n",
      "2022-01-02 12:55:07.880309: I tensorflow/core/kernels/data/shuffle_dataset_op.cc:177] Filling up shuffle buffer (this may take a while): 42804 of 70504\n",
      "2022-01-02 12:55:17.880241: I tensorflow/core/kernels/data/shuffle_dataset_op.cc:177] Filling up shuffle buffer (this may take a while): 53466 of 70504\n",
      "2022-01-02 12:55:27.879617: I tensorflow/core/kernels/data/shuffle_dataset_op.cc:177] Filling up shuffle buffer (this may take a while): 64240 of 70504\n",
      "2022-01-02 12:55:33.656311: I tensorflow/core/kernels/data/shuffle_dataset_op.cc:230] Shuffle buffer filled.\n"
     ]
    },
    {
     "name": "stdout",
     "output_type": "stream",
     "text": [
      "Epoch 263, gen_loss: 51611416.0000, disc_loss: -2.0183\n",
      "Time for epoch 263 is 100.8017 sec\n"
     ]
    },
    {
     "name": "stderr",
     "output_type": "stream",
     "text": [
      "2022-01-02 12:56:08.733093: W tensorflow/core/grappler/optimizers/meta_optimizer.cc:153] TF_ENABLE_AUTO_MIXED_PRECISION has no effect.\n",
      "2022-01-02 12:56:08.733145: W tensorflow/core/grappler/optimizers/meta_optimizer.cc:153] TF_ENABLE_AUTO_MIXED_PRECISION has no effect.\n",
      "2022-01-02 12:56:08.733160: W tensorflow/core/grappler/optimizers/meta_optimizer.cc:153] TF_ENABLE_AUTO_MIXED_PRECISION has no effect.\n",
      "2022-01-02 12:56:08.733165: W tensorflow/core/grappler/optimizers/meta_optimizer.cc:153] TF_ENABLE_AUTO_MIXED_PRECISION has no effect.\n",
      "2022-01-02 12:56:18.722680: I tensorflow/core/kernels/data/shuffle_dataset_op.cc:177] Filling up shuffle buffer (this may take a while): 10763 of 70504\n",
      "2022-01-02 12:56:28.723305: I tensorflow/core/kernels/data/shuffle_dataset_op.cc:177] Filling up shuffle buffer (this may take a while): 21754 of 70504\n",
      "2022-01-02 12:56:38.722566: I tensorflow/core/kernels/data/shuffle_dataset_op.cc:177] Filling up shuffle buffer (this may take a while): 32749 of 70504\n",
      "2022-01-02 12:56:48.722223: I tensorflow/core/kernels/data/shuffle_dataset_op.cc:177] Filling up shuffle buffer (this may take a while): 43757 of 70504\n",
      "2022-01-02 12:56:58.736357: I tensorflow/core/kernels/data/shuffle_dataset_op.cc:177] Filling up shuffle buffer (this may take a while): 54775 of 70504\n",
      "2022-01-02 12:57:08.723262: I tensorflow/core/kernels/data/shuffle_dataset_op.cc:177] Filling up shuffle buffer (this may take a while): 65879 of 70504\n",
      "2022-01-02 12:57:12.905580: I tensorflow/core/kernels/data/shuffle_dataset_op.cc:230] Shuffle buffer filled.\n"
     ]
    },
    {
     "name": "stdout",
     "output_type": "stream",
     "text": [
      "Epoch 264, gen_loss: 51173244.0000, disc_loss: -1.2439\n",
      "Time for epoch 264 is 99.2351 sec\n"
     ]
    },
    {
     "name": "stderr",
     "output_type": "stream",
     "text": [
      "2022-01-02 12:57:48.018860: W tensorflow/core/grappler/optimizers/meta_optimizer.cc:153] TF_ENABLE_AUTO_MIXED_PRECISION has no effect.\n",
      "2022-01-02 12:57:48.018912: W tensorflow/core/grappler/optimizers/meta_optimizer.cc:153] TF_ENABLE_AUTO_MIXED_PRECISION has no effect.\n",
      "2022-01-02 12:57:48.018927: W tensorflow/core/grappler/optimizers/meta_optimizer.cc:153] TF_ENABLE_AUTO_MIXED_PRECISION has no effect.\n",
      "2022-01-02 12:57:48.018932: W tensorflow/core/grappler/optimizers/meta_optimizer.cc:153] TF_ENABLE_AUTO_MIXED_PRECISION has no effect.\n",
      "2022-01-02 12:57:58.001826: I tensorflow/core/kernels/data/shuffle_dataset_op.cc:177] Filling up shuffle buffer (this may take a while): 10594 of 70504\n",
      "2022-01-02 12:58:08.001949: I tensorflow/core/kernels/data/shuffle_dataset_op.cc:177] Filling up shuffle buffer (this may take a while): 21353 of 70504\n",
      "2022-01-02 12:58:18.001853: I tensorflow/core/kernels/data/shuffle_dataset_op.cc:177] Filling up shuffle buffer (this may take a while): 32112 of 70504\n",
      "2022-01-02 12:58:28.003745: I tensorflow/core/kernels/data/shuffle_dataset_op.cc:177] Filling up shuffle buffer (this may take a while): 42889 of 70504\n",
      "2022-01-02 12:58:38.002990: I tensorflow/core/kernels/data/shuffle_dataset_op.cc:177] Filling up shuffle buffer (this may take a while): 53627 of 70504\n",
      "2022-01-02 12:58:48.002460: I tensorflow/core/kernels/data/shuffle_dataset_op.cc:177] Filling up shuffle buffer (this may take a while): 64450 of 70504\n",
      "2022-01-02 12:58:53.578014: I tensorflow/core/kernels/data/shuffle_dataset_op.cc:230] Shuffle buffer filled.\n"
     ]
    },
    {
     "name": "stdout",
     "output_type": "stream",
     "text": [
      "Epoch 265, gen_loss: 51058856.0000, disc_loss: -1.8902\n",
      "Time for epoch 265 is 100.6386 sec\n"
     ]
    },
    {
     "name": "stderr",
     "output_type": "stream",
     "text": [
      "2022-01-02 12:59:28.697276: W tensorflow/core/grappler/optimizers/meta_optimizer.cc:153] TF_ENABLE_AUTO_MIXED_PRECISION has no effect.\n",
      "2022-01-02 12:59:28.697331: W tensorflow/core/grappler/optimizers/meta_optimizer.cc:153] TF_ENABLE_AUTO_MIXED_PRECISION has no effect.\n",
      "2022-01-02 12:59:28.697345: W tensorflow/core/grappler/optimizers/meta_optimizer.cc:153] TF_ENABLE_AUTO_MIXED_PRECISION has no effect.\n",
      "2022-01-02 12:59:28.697350: W tensorflow/core/grappler/optimizers/meta_optimizer.cc:153] TF_ENABLE_AUTO_MIXED_PRECISION has no effect.\n",
      "2022-01-02 12:59:38.685552: I tensorflow/core/kernels/data/shuffle_dataset_op.cc:177] Filling up shuffle buffer (this may take a while): 10590 of 70504\n",
      "2022-01-02 12:59:48.685340: I tensorflow/core/kernels/data/shuffle_dataset_op.cc:177] Filling up shuffle buffer (this may take a while): 21266 of 70504\n",
      "2022-01-02 12:59:58.685958: I tensorflow/core/kernels/data/shuffle_dataset_op.cc:177] Filling up shuffle buffer (this may take a while): 32005 of 70504\n",
      "2022-01-02 13:00:08.684937: I tensorflow/core/kernels/data/shuffle_dataset_op.cc:177] Filling up shuffle buffer (this may take a while): 42760 of 70504\n",
      "2022-01-02 13:00:18.685620: I tensorflow/core/kernels/data/shuffle_dataset_op.cc:177] Filling up shuffle buffer (this may take a while): 53484 of 70504\n",
      "2022-01-02 13:00:28.686901: I tensorflow/core/kernels/data/shuffle_dataset_op.cc:177] Filling up shuffle buffer (this may take a while): 64297 of 70504\n",
      "2022-01-02 13:00:34.415062: I tensorflow/core/kernels/data/shuffle_dataset_op.cc:230] Shuffle buffer filled.\n"
     ]
    },
    {
     "name": "stdout",
     "output_type": "stream",
     "text": [
      "Epoch 266, gen_loss: 50715504.0000, disc_loss: -0.9562\n",
      "Time for epoch 266 is 100.7386 sec\n"
     ]
    },
    {
     "name": "stderr",
     "output_type": "stream",
     "text": [
      "2022-01-02 13:01:09.478830: W tensorflow/core/grappler/optimizers/meta_optimizer.cc:153] TF_ENABLE_AUTO_MIXED_PRECISION has no effect.\n",
      "2022-01-02 13:01:09.478881: W tensorflow/core/grappler/optimizers/meta_optimizer.cc:153] TF_ENABLE_AUTO_MIXED_PRECISION has no effect.\n",
      "2022-01-02 13:01:09.478895: W tensorflow/core/grappler/optimizers/meta_optimizer.cc:153] TF_ENABLE_AUTO_MIXED_PRECISION has no effect.\n",
      "2022-01-02 13:01:09.478900: W tensorflow/core/grappler/optimizers/meta_optimizer.cc:153] TF_ENABLE_AUTO_MIXED_PRECISION has no effect.\n",
      "2022-01-02 13:01:19.463401: I tensorflow/core/kernels/data/shuffle_dataset_op.cc:177] Filling up shuffle buffer (this may take a while): 10754 of 70504\n",
      "2022-01-02 13:01:29.463940: I tensorflow/core/kernels/data/shuffle_dataset_op.cc:177] Filling up shuffle buffer (this may take a while): 21632 of 70504\n",
      "2022-01-02 13:01:39.463105: I tensorflow/core/kernels/data/shuffle_dataset_op.cc:177] Filling up shuffle buffer (this may take a while): 32562 of 70504\n",
      "2022-01-02 13:01:49.463392: I tensorflow/core/kernels/data/shuffle_dataset_op.cc:177] Filling up shuffle buffer (this may take a while): 43530 of 70504\n",
      "2022-01-02 13:01:59.474937: I tensorflow/core/kernels/data/shuffle_dataset_op.cc:177] Filling up shuffle buffer (this may take a while): 54439 of 70504\n",
      "2022-01-02 13:02:09.464476: I tensorflow/core/kernels/data/shuffle_dataset_op.cc:177] Filling up shuffle buffer (this may take a while): 65506 of 70504\n",
      "2022-01-02 13:02:14.009566: I tensorflow/core/kernels/data/shuffle_dataset_op.cc:230] Shuffle buffer filled.\n"
     ]
    },
    {
     "name": "stdout",
     "output_type": "stream",
     "text": [
      "Epoch 267, gen_loss: 50567612.0000, disc_loss: -1.4978\n",
      "Time for epoch 267 is 99.5874 sec\n"
     ]
    },
    {
     "name": "stderr",
     "output_type": "stream",
     "text": [
      "2022-01-02 13:02:49.110144: W tensorflow/core/grappler/optimizers/meta_optimizer.cc:153] TF_ENABLE_AUTO_MIXED_PRECISION has no effect.\n",
      "2022-01-02 13:02:49.110198: W tensorflow/core/grappler/optimizers/meta_optimizer.cc:153] TF_ENABLE_AUTO_MIXED_PRECISION has no effect.\n",
      "2022-01-02 13:02:49.110212: W tensorflow/core/grappler/optimizers/meta_optimizer.cc:153] TF_ENABLE_AUTO_MIXED_PRECISION has no effect.\n",
      "2022-01-02 13:02:49.110218: W tensorflow/core/grappler/optimizers/meta_optimizer.cc:153] TF_ENABLE_AUTO_MIXED_PRECISION has no effect.\n",
      "2022-01-02 13:02:59.095988: I tensorflow/core/kernels/data/shuffle_dataset_op.cc:177] Filling up shuffle buffer (this may take a while): 10844 of 70504\n",
      "2022-01-02 13:03:09.096157: I tensorflow/core/kernels/data/shuffle_dataset_op.cc:177] Filling up shuffle buffer (this may take a while): 21829 of 70504\n",
      "2022-01-02 13:03:19.096203: I tensorflow/core/kernels/data/shuffle_dataset_op.cc:177] Filling up shuffle buffer (this may take a while): 32786 of 70504\n",
      "2022-01-02 13:03:29.096747: I tensorflow/core/kernels/data/shuffle_dataset_op.cc:177] Filling up shuffle buffer (this may take a while): 43798 of 70504\n",
      "2022-01-02 13:03:39.095367: I tensorflow/core/kernels/data/shuffle_dataset_op.cc:177] Filling up shuffle buffer (this may take a while): 54794 of 70504\n",
      "2022-01-02 13:03:49.095417: I tensorflow/core/kernels/data/shuffle_dataset_op.cc:177] Filling up shuffle buffer (this may take a while): 65894 of 70504\n",
      "2022-01-02 13:03:53.275347: I tensorflow/core/kernels/data/shuffle_dataset_op.cc:230] Shuffle buffer filled.\n"
     ]
    },
    {
     "name": "stdout",
     "output_type": "stream",
     "text": [
      "Epoch 268, gen_loss: 50173564.0000, disc_loss: -1.1979\n",
      "Time for epoch 268 is 99.2126 sec\n"
     ]
    },
    {
     "name": "stderr",
     "output_type": "stream",
     "text": [
      "2022-01-02 13:04:28.360910: W tensorflow/core/grappler/optimizers/meta_optimizer.cc:153] TF_ENABLE_AUTO_MIXED_PRECISION has no effect.\n",
      "2022-01-02 13:04:28.360964: W tensorflow/core/grappler/optimizers/meta_optimizer.cc:153] TF_ENABLE_AUTO_MIXED_PRECISION has no effect.\n",
      "2022-01-02 13:04:28.360978: W tensorflow/core/grappler/optimizers/meta_optimizer.cc:153] TF_ENABLE_AUTO_MIXED_PRECISION has no effect.\n",
      "2022-01-02 13:04:28.360983: W tensorflow/core/grappler/optimizers/meta_optimizer.cc:153] TF_ENABLE_AUTO_MIXED_PRECISION has no effect.\n",
      "2022-01-02 13:04:38.351110: I tensorflow/core/kernels/data/shuffle_dataset_op.cc:177] Filling up shuffle buffer (this may take a while): 10759 of 70504\n",
      "2022-01-02 13:04:48.350116: I tensorflow/core/kernels/data/shuffle_dataset_op.cc:177] Filling up shuffle buffer (this may take a while): 21638 of 70504\n",
      "2022-01-02 13:04:58.350196: I tensorflow/core/kernels/data/shuffle_dataset_op.cc:177] Filling up shuffle buffer (this may take a while): 32514 of 70504\n",
      "2022-01-02 13:05:08.350813: I tensorflow/core/kernels/data/shuffle_dataset_op.cc:177] Filling up shuffle buffer (this may take a while): 43486 of 70504\n",
      "2022-01-02 13:05:18.349995: I tensorflow/core/kernels/data/shuffle_dataset_op.cc:177] Filling up shuffle buffer (this may take a while): 54424 of 70504\n",
      "2022-01-02 13:05:28.351463: I tensorflow/core/kernels/data/shuffle_dataset_op.cc:177] Filling up shuffle buffer (this may take a while): 65430 of 70504\n",
      "2022-01-02 13:05:32.976876: I tensorflow/core/kernels/data/shuffle_dataset_op.cc:230] Shuffle buffer filled.\n"
     ]
    },
    {
     "name": "stdout",
     "output_type": "stream",
     "text": [
      "Epoch 269, gen_loss: 49254340.0000, disc_loss: -0.9552\n",
      "Time for epoch 269 is 99.7136 sec\n"
     ]
    },
    {
     "name": "stderr",
     "output_type": "stream",
     "text": [
      "2022-01-02 13:06:08.122578: W tensorflow/core/grappler/optimizers/meta_optimizer.cc:153] TF_ENABLE_AUTO_MIXED_PRECISION has no effect.\n",
      "2022-01-02 13:06:08.122631: W tensorflow/core/grappler/optimizers/meta_optimizer.cc:153] TF_ENABLE_AUTO_MIXED_PRECISION has no effect.\n",
      "2022-01-02 13:06:08.122645: W tensorflow/core/grappler/optimizers/meta_optimizer.cc:153] TF_ENABLE_AUTO_MIXED_PRECISION has no effect.\n",
      "2022-01-02 13:06:08.122651: W tensorflow/core/grappler/optimizers/meta_optimizer.cc:153] TF_ENABLE_AUTO_MIXED_PRECISION has no effect.\n",
      "2022-01-02 13:06:18.105326: I tensorflow/core/kernels/data/shuffle_dataset_op.cc:177] Filling up shuffle buffer (this may take a while): 10596 of 70504\n",
      "2022-01-02 13:06:28.105322: I tensorflow/core/kernels/data/shuffle_dataset_op.cc:177] Filling up shuffle buffer (this may take a while): 21315 of 70504\n",
      "2022-01-02 13:06:38.104923: I tensorflow/core/kernels/data/shuffle_dataset_op.cc:177] Filling up shuffle buffer (this may take a while): 32050 of 70504\n",
      "2022-01-02 13:06:48.107109: I tensorflow/core/kernels/data/shuffle_dataset_op.cc:177] Filling up shuffle buffer (this may take a while): 42815 of 70504\n",
      "2022-01-02 13:06:58.105873: I tensorflow/core/kernels/data/shuffle_dataset_op.cc:177] Filling up shuffle buffer (this may take a while): 53534 of 70504\n",
      "2022-01-02 13:07:08.106179: I tensorflow/core/kernels/data/shuffle_dataset_op.cc:177] Filling up shuffle buffer (this may take a while): 64328 of 70504\n",
      "2022-01-02 13:07:13.818673: I tensorflow/core/kernels/data/shuffle_dataset_op.cc:230] Shuffle buffer filled.\n"
     ]
    },
    {
     "name": "stdout",
     "output_type": "stream",
     "text": [
      "Epoch 270, gen_loss: 48713796.0000, disc_loss: -0.7363\n",
      "Time for epoch 270 is 100.6964 sec\n"
     ]
    },
    {
     "name": "stderr",
     "output_type": "stream",
     "text": [
      "2022-01-02 13:07:48.856726: W tensorflow/core/grappler/optimizers/meta_optimizer.cc:153] TF_ENABLE_AUTO_MIXED_PRECISION has no effect.\n",
      "2022-01-02 13:07:48.856780: W tensorflow/core/grappler/optimizers/meta_optimizer.cc:153] TF_ENABLE_AUTO_MIXED_PRECISION has no effect.\n",
      "2022-01-02 13:07:48.856794: W tensorflow/core/grappler/optimizers/meta_optimizer.cc:153] TF_ENABLE_AUTO_MIXED_PRECISION has no effect.\n",
      "2022-01-02 13:07:48.856799: W tensorflow/core/grappler/optimizers/meta_optimizer.cc:153] TF_ENABLE_AUTO_MIXED_PRECISION has no effect.\n",
      "2022-01-02 13:07:58.843436: I tensorflow/core/kernels/data/shuffle_dataset_op.cc:177] Filling up shuffle buffer (this may take a while): 10819 of 70504\n",
      "2022-01-02 13:08:08.844031: I tensorflow/core/kernels/data/shuffle_dataset_op.cc:177] Filling up shuffle buffer (this may take a while): 21808 of 70504\n",
      "2022-01-02 13:08:18.844437: I tensorflow/core/kernels/data/shuffle_dataset_op.cc:177] Filling up shuffle buffer (this may take a while): 32759 of 70504\n",
      "2022-01-02 13:08:28.844141: I tensorflow/core/kernels/data/shuffle_dataset_op.cc:177] Filling up shuffle buffer (this may take a while): 43745 of 70504\n",
      "2022-01-02 13:08:38.843100: I tensorflow/core/kernels/data/shuffle_dataset_op.cc:177] Filling up shuffle buffer (this may take a while): 54699 of 70504\n",
      "2022-01-02 13:08:48.842531: I tensorflow/core/kernels/data/shuffle_dataset_op.cc:177] Filling up shuffle buffer (this may take a while): 65706 of 70504\n",
      "2022-01-02 13:08:53.166663: I tensorflow/core/kernels/data/shuffle_dataset_op.cc:230] Shuffle buffer filled.\n"
     ]
    },
    {
     "name": "stdout",
     "output_type": "stream",
     "text": [
      "Epoch 271, gen_loss: 49068252.0000, disc_loss: -0.8255\n",
      "Time for epoch 271 is 99.3727 sec\n"
     ]
    },
    {
     "name": "stderr",
     "output_type": "stream",
     "text": [
      "2022-01-02 13:09:28.272945: W tensorflow/core/grappler/optimizers/meta_optimizer.cc:153] TF_ENABLE_AUTO_MIXED_PRECISION has no effect.\n",
      "2022-01-02 13:09:28.272997: W tensorflow/core/grappler/optimizers/meta_optimizer.cc:153] TF_ENABLE_AUTO_MIXED_PRECISION has no effect.\n",
      "2022-01-02 13:09:28.273011: W tensorflow/core/grappler/optimizers/meta_optimizer.cc:153] TF_ENABLE_AUTO_MIXED_PRECISION has no effect.\n",
      "2022-01-02 13:09:28.273016: W tensorflow/core/grappler/optimizers/meta_optimizer.cc:153] TF_ENABLE_AUTO_MIXED_PRECISION has no effect.\n",
      "2022-01-02 13:09:38.257041: I tensorflow/core/kernels/data/shuffle_dataset_op.cc:177] Filling up shuffle buffer (this may take a while): 10613 of 70504\n",
      "2022-01-02 13:09:48.256359: I tensorflow/core/kernels/data/shuffle_dataset_op.cc:177] Filling up shuffle buffer (this may take a while): 21331 of 70504\n",
      "2022-01-02 13:09:58.256394: I tensorflow/core/kernels/data/shuffle_dataset_op.cc:177] Filling up shuffle buffer (this may take a while): 32038 of 70504\n",
      "2022-01-02 13:10:08.256645: I tensorflow/core/kernels/data/shuffle_dataset_op.cc:177] Filling up shuffle buffer (this may take a while): 42763 of 70504\n",
      "2022-01-02 13:10:18.257220: I tensorflow/core/kernels/data/shuffle_dataset_op.cc:177] Filling up shuffle buffer (this may take a while): 53476 of 70504\n",
      "2022-01-02 13:10:28.256345: I tensorflow/core/kernels/data/shuffle_dataset_op.cc:177] Filling up shuffle buffer (this may take a while): 64289 of 70504\n",
      "2022-01-02 13:10:34.001999: I tensorflow/core/kernels/data/shuffle_dataset_op.cc:230] Shuffle buffer filled.\n"
     ]
    },
    {
     "name": "stdout",
     "output_type": "stream",
     "text": [
      "Epoch 272, gen_loss: 49291332.0000, disc_loss: -1.4663\n",
      "Time for epoch 272 is 100.8042 sec\n"
     ]
    },
    {
     "name": "stderr",
     "output_type": "stream",
     "text": [
      "2022-01-02 13:11:09.114326: W tensorflow/core/grappler/optimizers/meta_optimizer.cc:153] TF_ENABLE_AUTO_MIXED_PRECISION has no effect.\n",
      "2022-01-02 13:11:09.114370: W tensorflow/core/grappler/optimizers/meta_optimizer.cc:153] TF_ENABLE_AUTO_MIXED_PRECISION has no effect.\n",
      "2022-01-02 13:11:09.114383: W tensorflow/core/grappler/optimizers/meta_optimizer.cc:153] TF_ENABLE_AUTO_MIXED_PRECISION has no effect.\n",
      "2022-01-02 13:11:09.114388: W tensorflow/core/grappler/optimizers/meta_optimizer.cc:153] TF_ENABLE_AUTO_MIXED_PRECISION has no effect.\n",
      "2022-01-02 13:11:19.103612: I tensorflow/core/kernels/data/shuffle_dataset_op.cc:177] Filling up shuffle buffer (this may take a while): 10583 of 70504\n",
      "2022-01-02 13:11:29.103468: I tensorflow/core/kernels/data/shuffle_dataset_op.cc:177] Filling up shuffle buffer (this may take a while): 21342 of 70504\n",
      "2022-01-02 13:11:39.104033: I tensorflow/core/kernels/data/shuffle_dataset_op.cc:177] Filling up shuffle buffer (this may take a while): 32098 of 70504\n",
      "2022-01-02 13:11:49.103404: I tensorflow/core/kernels/data/shuffle_dataset_op.cc:177] Filling up shuffle buffer (this may take a while): 42854 of 70504\n",
      "2022-01-02 13:11:59.104849: I tensorflow/core/kernels/data/shuffle_dataset_op.cc:177] Filling up shuffle buffer (this may take a while): 53588 of 70504\n",
      "2022-01-02 13:12:09.103807: I tensorflow/core/kernels/data/shuffle_dataset_op.cc:177] Filling up shuffle buffer (this may take a while): 64404 of 70504\n",
      "2022-01-02 13:12:14.715630: I tensorflow/core/kernels/data/shuffle_dataset_op.cc:230] Shuffle buffer filled.\n"
     ]
    },
    {
     "name": "stdout",
     "output_type": "stream",
     "text": [
      "Epoch 273, gen_loss: 49526464.0000, disc_loss: -0.8354\n",
      "Time for epoch 273 is 100.6135 sec\n"
     ]
    },
    {
     "name": "stderr",
     "output_type": "stream",
     "text": [
      "2022-01-02 13:12:49.769597: W tensorflow/core/grappler/optimizers/meta_optimizer.cc:153] TF_ENABLE_AUTO_MIXED_PRECISION has no effect.\n",
      "2022-01-02 13:12:49.769650: W tensorflow/core/grappler/optimizers/meta_optimizer.cc:153] TF_ENABLE_AUTO_MIXED_PRECISION has no effect.\n",
      "2022-01-02 13:12:49.769665: W tensorflow/core/grappler/optimizers/meta_optimizer.cc:153] TF_ENABLE_AUTO_MIXED_PRECISION has no effect.\n",
      "2022-01-02 13:12:49.769670: W tensorflow/core/grappler/optimizers/meta_optimizer.cc:153] TF_ENABLE_AUTO_MIXED_PRECISION has no effect.\n",
      "2022-01-02 13:12:59.758983: I tensorflow/core/kernels/data/shuffle_dataset_op.cc:177] Filling up shuffle buffer (this may take a while): 10861 of 70504\n",
      "2022-01-02 13:13:09.758831: I tensorflow/core/kernels/data/shuffle_dataset_op.cc:177] Filling up shuffle buffer (this may take a while): 21752 of 70504\n",
      "2022-01-02 13:13:19.759426: I tensorflow/core/kernels/data/shuffle_dataset_op.cc:177] Filling up shuffle buffer (this may take a while): 32660 of 70504\n",
      "2022-01-02 13:13:29.759411: I tensorflow/core/kernels/data/shuffle_dataset_op.cc:177] Filling up shuffle buffer (this may take a while): 43622 of 70504\n",
      "2022-01-02 13:13:39.758910: I tensorflow/core/kernels/data/shuffle_dataset_op.cc:177] Filling up shuffle buffer (this may take a while): 54580 of 70504\n",
      "2022-01-02 13:13:49.759657: I tensorflow/core/kernels/data/shuffle_dataset_op.cc:177] Filling up shuffle buffer (this may take a while): 65608 of 70504\n",
      "2022-01-02 13:13:54.192410: I tensorflow/core/kernels/data/shuffle_dataset_op.cc:230] Shuffle buffer filled.\n"
     ]
    },
    {
     "name": "stdout",
     "output_type": "stream",
     "text": [
      "Epoch 274, gen_loss: 49523744.0000, disc_loss: -0.5123\n",
      "Time for epoch 274 is 99.4459 sec\n"
     ]
    },
    {
     "name": "stderr",
     "output_type": "stream",
     "text": [
      "2022-01-02 13:14:29.262648: W tensorflow/core/grappler/optimizers/meta_optimizer.cc:153] TF_ENABLE_AUTO_MIXED_PRECISION has no effect.\n",
      "2022-01-02 13:14:29.262701: W tensorflow/core/grappler/optimizers/meta_optimizer.cc:153] TF_ENABLE_AUTO_MIXED_PRECISION has no effect.\n",
      "2022-01-02 13:14:29.262715: W tensorflow/core/grappler/optimizers/meta_optimizer.cc:153] TF_ENABLE_AUTO_MIXED_PRECISION has no effect.\n",
      "2022-01-02 13:14:29.262721: W tensorflow/core/grappler/optimizers/meta_optimizer.cc:153] TF_ENABLE_AUTO_MIXED_PRECISION has no effect.\n",
      "2022-01-02 13:14:39.251032: I tensorflow/core/kernels/data/shuffle_dataset_op.cc:177] Filling up shuffle buffer (this may take a while): 10813 of 70504\n",
      "2022-01-02 13:14:49.250628: I tensorflow/core/kernels/data/shuffle_dataset_op.cc:177] Filling up shuffle buffer (this may take a while): 21788 of 70504\n",
      "2022-01-02 13:14:59.250418: I tensorflow/core/kernels/data/shuffle_dataset_op.cc:177] Filling up shuffle buffer (this may take a while): 32732 of 70504\n",
      "2022-01-02 13:15:09.249987: I tensorflow/core/kernels/data/shuffle_dataset_op.cc:177] Filling up shuffle buffer (this may take a while): 43739 of 70504\n",
      "2022-01-02 13:15:19.250124: I tensorflow/core/kernels/data/shuffle_dataset_op.cc:177] Filling up shuffle buffer (this may take a while): 54680 of 70504\n",
      "2022-01-02 13:15:29.249896: I tensorflow/core/kernels/data/shuffle_dataset_op.cc:177] Filling up shuffle buffer (this may take a while): 65717 of 70504\n",
      "2022-01-02 13:15:33.576495: I tensorflow/core/kernels/data/shuffle_dataset_op.cc:230] Shuffle buffer filled.\n"
     ]
    },
    {
     "name": "stdout",
     "output_type": "stream",
     "text": [
      "Epoch 275, gen_loss: 49560332.0000, disc_loss: -1.2788\n",
      "Time for epoch 275 is 99.4094 sec\n"
     ]
    },
    {
     "name": "stderr",
     "output_type": "stream",
     "text": [
      "2022-01-02 13:16:08.716041: W tensorflow/core/grappler/optimizers/meta_optimizer.cc:153] TF_ENABLE_AUTO_MIXED_PRECISION has no effect.\n",
      "2022-01-02 13:16:08.716093: W tensorflow/core/grappler/optimizers/meta_optimizer.cc:153] TF_ENABLE_AUTO_MIXED_PRECISION has no effect.\n",
      "2022-01-02 13:16:08.716107: W tensorflow/core/grappler/optimizers/meta_optimizer.cc:153] TF_ENABLE_AUTO_MIXED_PRECISION has no effect.\n",
      "2022-01-02 13:16:08.716112: W tensorflow/core/grappler/optimizers/meta_optimizer.cc:153] TF_ENABLE_AUTO_MIXED_PRECISION has no effect.\n",
      "2022-01-02 13:16:18.703669: I tensorflow/core/kernels/data/shuffle_dataset_op.cc:177] Filling up shuffle buffer (this may take a while): 10633 of 70504\n",
      "2022-01-02 13:16:28.703703: I tensorflow/core/kernels/data/shuffle_dataset_op.cc:177] Filling up shuffle buffer (this may take a while): 21375 of 70504\n",
      "2022-01-02 13:16:38.702847: I tensorflow/core/kernels/data/shuffle_dataset_op.cc:177] Filling up shuffle buffer (this may take a while): 32100 of 70504\n",
      "2022-01-02 13:16:48.703460: I tensorflow/core/kernels/data/shuffle_dataset_op.cc:177] Filling up shuffle buffer (this may take a while): 42831 of 70504\n",
      "2022-01-02 13:16:58.701915: I tensorflow/core/kernels/data/shuffle_dataset_op.cc:177] Filling up shuffle buffer (this may take a while): 53553 of 70504\n",
      "2022-01-02 13:17:08.702242: I tensorflow/core/kernels/data/shuffle_dataset_op.cc:177] Filling up shuffle buffer (this may take a while): 64300 of 70504\n",
      "2022-01-02 13:17:14.441105: I tensorflow/core/kernels/data/shuffle_dataset_op.cc:230] Shuffle buffer filled.\n"
     ]
    },
    {
     "name": "stdout",
     "output_type": "stream",
     "text": [
      "Epoch 276, gen_loss: 49413684.0000, disc_loss: -0.5959\n",
      "Time for epoch 276 is 100.7596 sec\n"
     ]
    },
    {
     "name": "stderr",
     "output_type": "stream",
     "text": [
      "2022-01-02 13:17:49.517562: W tensorflow/core/grappler/optimizers/meta_optimizer.cc:153] TF_ENABLE_AUTO_MIXED_PRECISION has no effect.\n",
      "2022-01-02 13:17:49.517614: W tensorflow/core/grappler/optimizers/meta_optimizer.cc:153] TF_ENABLE_AUTO_MIXED_PRECISION has no effect.\n",
      "2022-01-02 13:17:49.517627: W tensorflow/core/grappler/optimizers/meta_optimizer.cc:153] TF_ENABLE_AUTO_MIXED_PRECISION has no effect.\n",
      "2022-01-02 13:17:49.517633: W tensorflow/core/grappler/optimizers/meta_optimizer.cc:153] TF_ENABLE_AUTO_MIXED_PRECISION has no effect.\n",
      "2022-01-02 13:17:59.502503: I tensorflow/core/kernels/data/shuffle_dataset_op.cc:177] Filling up shuffle buffer (this may take a while): 10764 of 70504\n",
      "2022-01-02 13:18:09.501512: I tensorflow/core/kernels/data/shuffle_dataset_op.cc:177] Filling up shuffle buffer (this may take a while): 21714 of 70504\n",
      "2022-01-02 13:18:19.501492: I tensorflow/core/kernels/data/shuffle_dataset_op.cc:177] Filling up shuffle buffer (this may take a while): 32646 of 70504\n",
      "2022-01-02 13:18:29.502337: I tensorflow/core/kernels/data/shuffle_dataset_op.cc:177] Filling up shuffle buffer (this may take a while): 43615 of 70504\n",
      "2022-01-02 13:18:39.502475: I tensorflow/core/kernels/data/shuffle_dataset_op.cc:177] Filling up shuffle buffer (this may take a while): 54540 of 70504\n",
      "2022-01-02 13:18:49.502751: I tensorflow/core/kernels/data/shuffle_dataset_op.cc:177] Filling up shuffle buffer (this may take a while): 65446 of 70504\n",
      "2022-01-02 13:18:54.054281: I tensorflow/core/kernels/data/shuffle_dataset_op.cc:230] Shuffle buffer filled.\n"
     ]
    },
    {
     "name": "stdout",
     "output_type": "stream",
     "text": [
      "Epoch 277, gen_loss: 48840588.0000, disc_loss: -2.7643\n",
      "Time for epoch 277 is 99.6230 sec\n"
     ]
    },
    {
     "name": "stderr",
     "output_type": "stream",
     "text": [
      "2022-01-02 13:19:29.181229: W tensorflow/core/grappler/optimizers/meta_optimizer.cc:153] TF_ENABLE_AUTO_MIXED_PRECISION has no effect.\n",
      "2022-01-02 13:19:29.181280: W tensorflow/core/grappler/optimizers/meta_optimizer.cc:153] TF_ENABLE_AUTO_MIXED_PRECISION has no effect.\n",
      "2022-01-02 13:19:29.181293: W tensorflow/core/grappler/optimizers/meta_optimizer.cc:153] TF_ENABLE_AUTO_MIXED_PRECISION has no effect.\n",
      "2022-01-02 13:19:29.181299: W tensorflow/core/grappler/optimizers/meta_optimizer.cc:153] TF_ENABLE_AUTO_MIXED_PRECISION has no effect.\n",
      "2022-01-02 13:19:39.167102: I tensorflow/core/kernels/data/shuffle_dataset_op.cc:177] Filling up shuffle buffer (this may take a while): 10605 of 70504\n",
      "2022-01-02 13:19:49.165804: I tensorflow/core/kernels/data/shuffle_dataset_op.cc:177] Filling up shuffle buffer (this may take a while): 21335 of 70504\n",
      "2022-01-02 13:19:59.165916: I tensorflow/core/kernels/data/shuffle_dataset_op.cc:177] Filling up shuffle buffer (this may take a while): 32087 of 70504\n",
      "2022-01-02 13:20:09.166713: I tensorflow/core/kernels/data/shuffle_dataset_op.cc:177] Filling up shuffle buffer (this may take a while): 42812 of 70504\n",
      "2022-01-02 13:20:19.166011: I tensorflow/core/kernels/data/shuffle_dataset_op.cc:177] Filling up shuffle buffer (this may take a while): 53482 of 70504\n",
      "2022-01-02 13:20:29.166257: I tensorflow/core/kernels/data/shuffle_dataset_op.cc:177] Filling up shuffle buffer (this may take a while): 64282 of 70504\n",
      "2022-01-02 13:20:34.913748: I tensorflow/core/kernels/data/shuffle_dataset_op.cc:230] Shuffle buffer filled.\n"
     ]
    },
    {
     "name": "stdout",
     "output_type": "stream",
     "text": [
      "Epoch 278, gen_loss: 48581944.0000, disc_loss: -1.5549\n",
      "Time for epoch 278 is 100.7764 sec\n"
     ]
    },
    {
     "name": "stderr",
     "output_type": "stream",
     "text": [
      "2022-01-02 13:21:09.998662: W tensorflow/core/grappler/optimizers/meta_optimizer.cc:153] TF_ENABLE_AUTO_MIXED_PRECISION has no effect.\n",
      "2022-01-02 13:21:09.998713: W tensorflow/core/grappler/optimizers/meta_optimizer.cc:153] TF_ENABLE_AUTO_MIXED_PRECISION has no effect.\n",
      "2022-01-02 13:21:09.998726: W tensorflow/core/grappler/optimizers/meta_optimizer.cc:153] TF_ENABLE_AUTO_MIXED_PRECISION has no effect.\n",
      "2022-01-02 13:21:09.998732: W tensorflow/core/grappler/optimizers/meta_optimizer.cc:153] TF_ENABLE_AUTO_MIXED_PRECISION has no effect.\n",
      "2022-01-02 13:21:19.985850: I tensorflow/core/kernels/data/shuffle_dataset_op.cc:177] Filling up shuffle buffer (this may take a while): 10652 of 70504\n",
      "2022-01-02 13:21:29.985762: I tensorflow/core/kernels/data/shuffle_dataset_op.cc:177] Filling up shuffle buffer (this may take a while): 21436 of 70504\n",
      "2022-01-02 13:21:39.985645: I tensorflow/core/kernels/data/shuffle_dataset_op.cc:177] Filling up shuffle buffer (this may take a while): 32253 of 70504\n",
      "2022-01-02 13:21:49.985833: I tensorflow/core/kernels/data/shuffle_dataset_op.cc:177] Filling up shuffle buffer (this may take a while): 43032 of 70504\n",
      "2022-01-02 13:21:59.986638: I tensorflow/core/kernels/data/shuffle_dataset_op.cc:177] Filling up shuffle buffer (this may take a while): 53791 of 70504\n",
      "2022-01-02 13:22:09.987359: I tensorflow/core/kernels/data/shuffle_dataset_op.cc:177] Filling up shuffle buffer (this may take a while): 64623 of 70504\n",
      "2022-01-02 13:22:15.437117: I tensorflow/core/kernels/data/shuffle_dataset_op.cc:230] Shuffle buffer filled.\n"
     ]
    },
    {
     "name": "stdout",
     "output_type": "stream",
     "text": [
      "Epoch 279, gen_loss: 48190388.0000, disc_loss: -0.2918\n",
      "Time for epoch 279 is 100.4982 sec\n"
     ]
    },
    {
     "name": "stderr",
     "output_type": "stream",
     "text": [
      "2022-01-02 13:22:50.533081: W tensorflow/core/grappler/optimizers/meta_optimizer.cc:153] TF_ENABLE_AUTO_MIXED_PRECISION has no effect.\n",
      "2022-01-02 13:22:50.533131: W tensorflow/core/grappler/optimizers/meta_optimizer.cc:153] TF_ENABLE_AUTO_MIXED_PRECISION has no effect.\n",
      "2022-01-02 13:22:50.533144: W tensorflow/core/grappler/optimizers/meta_optimizer.cc:153] TF_ENABLE_AUTO_MIXED_PRECISION has no effect.\n",
      "2022-01-02 13:22:50.533150: W tensorflow/core/grappler/optimizers/meta_optimizer.cc:153] TF_ENABLE_AUTO_MIXED_PRECISION has no effect.\n",
      "2022-01-02 13:23:00.522531: I tensorflow/core/kernels/data/shuffle_dataset_op.cc:177] Filling up shuffle buffer (this may take a while): 10862 of 70504\n",
      "2022-01-02 13:23:10.522716: I tensorflow/core/kernels/data/shuffle_dataset_op.cc:177] Filling up shuffle buffer (this may take a while): 21882 of 70504\n",
      "2022-01-02 13:23:20.522459: I tensorflow/core/kernels/data/shuffle_dataset_op.cc:177] Filling up shuffle buffer (this may take a while): 32851 of 70504\n",
      "2022-01-02 13:23:30.522496: I tensorflow/core/kernels/data/shuffle_dataset_op.cc:177] Filling up shuffle buffer (this may take a while): 43883 of 70504\n",
      "2022-01-02 13:23:40.522716: I tensorflow/core/kernels/data/shuffle_dataset_op.cc:177] Filling up shuffle buffer (this may take a while): 54884 of 70504\n",
      "2022-01-02 13:23:50.523202: I tensorflow/core/kernels/data/shuffle_dataset_op.cc:177] Filling up shuffle buffer (this may take a while): 65962 of 70504\n",
      "2022-01-02 13:23:54.628935: I tensorflow/core/kernels/data/shuffle_dataset_op.cc:230] Shuffle buffer filled.\n"
     ]
    },
    {
     "name": "stdout",
     "output_type": "stream",
     "text": [
      "Epoch 280, gen_loss: 47247680.0000, disc_loss: 1.3686\n",
      "Time for epoch 280 is 99.1353 sec\n"
     ]
    },
    {
     "name": "stderr",
     "output_type": "stream",
     "text": [
      "2022-01-02 13:24:29.716944: W tensorflow/core/grappler/optimizers/meta_optimizer.cc:153] TF_ENABLE_AUTO_MIXED_PRECISION has no effect.\n",
      "2022-01-02 13:24:29.716995: W tensorflow/core/grappler/optimizers/meta_optimizer.cc:153] TF_ENABLE_AUTO_MIXED_PRECISION has no effect.\n",
      "2022-01-02 13:24:29.717009: W tensorflow/core/grappler/optimizers/meta_optimizer.cc:153] TF_ENABLE_AUTO_MIXED_PRECISION has no effect.\n",
      "2022-01-02 13:24:29.717015: W tensorflow/core/grappler/optimizers/meta_optimizer.cc:153] TF_ENABLE_AUTO_MIXED_PRECISION has no effect.\n",
      "2022-01-02 13:24:39.700260: I tensorflow/core/kernels/data/shuffle_dataset_op.cc:177] Filling up shuffle buffer (this may take a while): 10674 of 70504\n",
      "2022-01-02 13:24:49.700728: I tensorflow/core/kernels/data/shuffle_dataset_op.cc:177] Filling up shuffle buffer (this may take a while): 21476 of 70504\n",
      "2022-01-02 13:24:59.699894: I tensorflow/core/kernels/data/shuffle_dataset_op.cc:177] Filling up shuffle buffer (this may take a while): 32269 of 70504\n",
      "2022-01-02 13:25:09.700575: I tensorflow/core/kernels/data/shuffle_dataset_op.cc:177] Filling up shuffle buffer (this may take a while): 43072 of 70504\n",
      "2022-01-02 13:25:19.700401: I tensorflow/core/kernels/data/shuffle_dataset_op.cc:177] Filling up shuffle buffer (this may take a while): 53821 of 70504\n",
      "2022-01-02 13:25:29.721831: I tensorflow/core/kernels/data/shuffle_dataset_op.cc:177] Filling up shuffle buffer (this may take a while): 64659 of 70504\n",
      "2022-01-02 13:25:35.117215: I tensorflow/core/kernels/data/shuffle_dataset_op.cc:230] Shuffle buffer filled.\n"
     ]
    },
    {
     "name": "stdout",
     "output_type": "stream",
     "text": [
      "Epoch 281, gen_loss: 47496624.0000, disc_loss: 3.0965\n",
      "Time for epoch 281 is 100.4496 sec\n"
     ]
    },
    {
     "name": "stderr",
     "output_type": "stream",
     "text": [
      "2022-01-02 13:26:10.205262: W tensorflow/core/grappler/optimizers/meta_optimizer.cc:153] TF_ENABLE_AUTO_MIXED_PRECISION has no effect.\n",
      "2022-01-02 13:26:10.205313: W tensorflow/core/grappler/optimizers/meta_optimizer.cc:153] TF_ENABLE_AUTO_MIXED_PRECISION has no effect.\n",
      "2022-01-02 13:26:10.205326: W tensorflow/core/grappler/optimizers/meta_optimizer.cc:153] TF_ENABLE_AUTO_MIXED_PRECISION has no effect.\n",
      "2022-01-02 13:26:10.205332: W tensorflow/core/grappler/optimizers/meta_optimizer.cc:153] TF_ENABLE_AUTO_MIXED_PRECISION has no effect.\n",
      "2022-01-02 13:26:20.189177: I tensorflow/core/kernels/data/shuffle_dataset_op.cc:177] Filling up shuffle buffer (this may take a while): 10830 of 70504\n",
      "2022-01-02 13:26:30.189699: I tensorflow/core/kernels/data/shuffle_dataset_op.cc:177] Filling up shuffle buffer (this may take a while): 21820 of 70504\n",
      "2022-01-02 13:26:40.190652: I tensorflow/core/kernels/data/shuffle_dataset_op.cc:177] Filling up shuffle buffer (this may take a while): 32726 of 70504\n",
      "2022-01-02 13:26:50.189485: I tensorflow/core/kernels/data/shuffle_dataset_op.cc:177] Filling up shuffle buffer (this may take a while): 43708 of 70504\n",
      "2022-01-02 13:27:00.189294: I tensorflow/core/kernels/data/shuffle_dataset_op.cc:177] Filling up shuffle buffer (this may take a while): 54691 of 70504\n",
      "2022-01-02 13:27:10.189482: I tensorflow/core/kernels/data/shuffle_dataset_op.cc:177] Filling up shuffle buffer (this may take a while): 65734 of 70504\n",
      "2022-01-02 13:27:14.509599: I tensorflow/core/kernels/data/shuffle_dataset_op.cc:230] Shuffle buffer filled.\n"
     ]
    },
    {
     "name": "stdout",
     "output_type": "stream",
     "text": [
      "Epoch 282, gen_loss: 47376996.0000, disc_loss: -0.8127\n",
      "Time for epoch 282 is 99.2881 sec\n"
     ]
    },
    {
     "name": "stderr",
     "output_type": "stream",
     "text": [
      "2022-01-02 13:27:49.535924: W tensorflow/core/grappler/optimizers/meta_optimizer.cc:153] TF_ENABLE_AUTO_MIXED_PRECISION has no effect.\n",
      "2022-01-02 13:27:49.535972: W tensorflow/core/grappler/optimizers/meta_optimizer.cc:153] TF_ENABLE_AUTO_MIXED_PRECISION has no effect.\n",
      "2022-01-02 13:27:49.535986: W tensorflow/core/grappler/optimizers/meta_optimizer.cc:153] TF_ENABLE_AUTO_MIXED_PRECISION has no effect.\n",
      "2022-01-02 13:27:49.535992: W tensorflow/core/grappler/optimizers/meta_optimizer.cc:153] TF_ENABLE_AUTO_MIXED_PRECISION has no effect.\n",
      "2022-01-02 13:27:59.521857: I tensorflow/core/kernels/data/shuffle_dataset_op.cc:177] Filling up shuffle buffer (this may take a while): 10829 of 70504\n",
      "2022-01-02 13:28:09.523522: I tensorflow/core/kernels/data/shuffle_dataset_op.cc:177] Filling up shuffle buffer (this may take a while): 21815 of 70504\n",
      "2022-01-02 13:28:19.520802: I tensorflow/core/kernels/data/shuffle_dataset_op.cc:177] Filling up shuffle buffer (this may take a while): 32770 of 70504\n",
      "2022-01-02 13:28:29.521485: I tensorflow/core/kernels/data/shuffle_dataset_op.cc:177] Filling up shuffle buffer (this may take a while): 43772 of 70504\n",
      "2022-01-02 13:28:39.521308: I tensorflow/core/kernels/data/shuffle_dataset_op.cc:177] Filling up shuffle buffer (this may take a while): 54737 of 70504\n",
      "2022-01-02 13:28:49.521680: I tensorflow/core/kernels/data/shuffle_dataset_op.cc:177] Filling up shuffle buffer (this may take a while): 65762 of 70504\n",
      "2022-01-02 13:28:53.798765: I tensorflow/core/kernels/data/shuffle_dataset_op.cc:230] Shuffle buffer filled.\n"
     ]
    },
    {
     "name": "stdout",
     "output_type": "stream",
     "text": [
      "Epoch 283, gen_loss: 47279900.0000, disc_loss: 0.3483\n",
      "Time for epoch 283 is 99.3055 sec\n"
     ]
    },
    {
     "name": "stderr",
     "output_type": "stream",
     "text": [
      "2022-01-02 13:29:28.883379: W tensorflow/core/grappler/optimizers/meta_optimizer.cc:153] TF_ENABLE_AUTO_MIXED_PRECISION has no effect.\n",
      "2022-01-02 13:29:28.883427: W tensorflow/core/grappler/optimizers/meta_optimizer.cc:153] TF_ENABLE_AUTO_MIXED_PRECISION has no effect.\n",
      "2022-01-02 13:29:28.883440: W tensorflow/core/grappler/optimizers/meta_optimizer.cc:153] TF_ENABLE_AUTO_MIXED_PRECISION has no effect.\n",
      "2022-01-02 13:29:28.883446: W tensorflow/core/grappler/optimizers/meta_optimizer.cc:153] TF_ENABLE_AUTO_MIXED_PRECISION has no effect.\n",
      "2022-01-02 13:29:38.869408: I tensorflow/core/kernels/data/shuffle_dataset_op.cc:177] Filling up shuffle buffer (this may take a while): 10617 of 70504\n",
      "2022-01-02 13:29:48.867697: I tensorflow/core/kernels/data/shuffle_dataset_op.cc:177] Filling up shuffle buffer (this may take a while): 21328 of 70504\n",
      "2022-01-02 13:29:58.867287: I tensorflow/core/kernels/data/shuffle_dataset_op.cc:177] Filling up shuffle buffer (this may take a while): 32062 of 70504\n",
      "2022-01-02 13:30:08.868327: I tensorflow/core/kernels/data/shuffle_dataset_op.cc:177] Filling up shuffle buffer (this may take a while): 42762 of 70504\n",
      "2022-01-02 13:30:18.867323: I tensorflow/core/kernels/data/shuffle_dataset_op.cc:177] Filling up shuffle buffer (this may take a while): 53478 of 70504\n",
      "2022-01-02 13:30:28.870084: I tensorflow/core/kernels/data/shuffle_dataset_op.cc:177] Filling up shuffle buffer (this may take a while): 64269 of 70504\n",
      "2022-01-02 13:30:34.648452: I tensorflow/core/kernels/data/shuffle_dataset_op.cc:230] Shuffle buffer filled.\n"
     ]
    },
    {
     "name": "stdout",
     "output_type": "stream",
     "text": [
      "Epoch 284, gen_loss: 46970028.0000, disc_loss: 0.5809\n",
      "Time for epoch 284 is 100.7684 sec\n"
     ]
    },
    {
     "name": "stderr",
     "output_type": "stream",
     "text": [
      "2022-01-02 13:31:09.693298: W tensorflow/core/grappler/optimizers/meta_optimizer.cc:153] TF_ENABLE_AUTO_MIXED_PRECISION has no effect.\n",
      "2022-01-02 13:31:09.693347: W tensorflow/core/grappler/optimizers/meta_optimizer.cc:153] TF_ENABLE_AUTO_MIXED_PRECISION has no effect.\n",
      "2022-01-02 13:31:09.693360: W tensorflow/core/grappler/optimizers/meta_optimizer.cc:153] TF_ENABLE_AUTO_MIXED_PRECISION has no effect.\n",
      "2022-01-02 13:31:09.693366: W tensorflow/core/grappler/optimizers/meta_optimizer.cc:153] TF_ENABLE_AUTO_MIXED_PRECISION has no effect.\n",
      "2022-01-02 13:31:19.679728: I tensorflow/core/kernels/data/shuffle_dataset_op.cc:177] Filling up shuffle buffer (this may take a while): 10805 of 70504\n",
      "2022-01-02 13:31:29.680072: I tensorflow/core/kernels/data/shuffle_dataset_op.cc:177] Filling up shuffle buffer (this may take a while): 21722 of 70504\n",
      "2022-01-02 13:31:39.679142: I tensorflow/core/kernels/data/shuffle_dataset_op.cc:177] Filling up shuffle buffer (this may take a while): 32670 of 70504\n",
      "2022-01-02 13:31:49.704697: I tensorflow/core/kernels/data/shuffle_dataset_op.cc:177] Filling up shuffle buffer (this may take a while): 43609 of 70504\n",
      "2022-01-02 13:31:59.679303: I tensorflow/core/kernels/data/shuffle_dataset_op.cc:177] Filling up shuffle buffer (this may take a while): 54531 of 70504\n",
      "2022-01-02 13:32:09.679089: I tensorflow/core/kernels/data/shuffle_dataset_op.cc:177] Filling up shuffle buffer (this may take a while): 65528 of 70504\n",
      "2022-01-02 13:32:14.195002: I tensorflow/core/kernels/data/shuffle_dataset_op.cc:230] Shuffle buffer filled.\n"
     ]
    },
    {
     "name": "stdout",
     "output_type": "stream",
     "text": [
      "Epoch 285, gen_loss: 46761284.0000, disc_loss: -0.1935\n",
      "Time for epoch 285 is 99.5727 sec\n"
     ]
    },
    {
     "name": "stderr",
     "output_type": "stream",
     "text": [
      "2022-01-02 13:32:49.305903: W tensorflow/core/grappler/optimizers/meta_optimizer.cc:153] TF_ENABLE_AUTO_MIXED_PRECISION has no effect.\n",
      "2022-01-02 13:32:49.305958: W tensorflow/core/grappler/optimizers/meta_optimizer.cc:153] TF_ENABLE_AUTO_MIXED_PRECISION has no effect.\n",
      "2022-01-02 13:32:49.305972: W tensorflow/core/grappler/optimizers/meta_optimizer.cc:153] TF_ENABLE_AUTO_MIXED_PRECISION has no effect.\n",
      "2022-01-02 13:32:49.305977: W tensorflow/core/grappler/optimizers/meta_optimizer.cc:153] TF_ENABLE_AUTO_MIXED_PRECISION has no effect.\n",
      "2022-01-02 13:32:59.292111: I tensorflow/core/kernels/data/shuffle_dataset_op.cc:177] Filling up shuffle buffer (this may take a while): 10590 of 70504\n",
      "2022-01-02 13:33:09.291821: I tensorflow/core/kernels/data/shuffle_dataset_op.cc:177] Filling up shuffle buffer (this may take a while): 21336 of 70504\n",
      "2022-01-02 13:33:19.291082: I tensorflow/core/kernels/data/shuffle_dataset_op.cc:177] Filling up shuffle buffer (this may take a while): 32095 of 70504\n",
      "2022-01-02 13:33:29.293756: I tensorflow/core/kernels/data/shuffle_dataset_op.cc:177] Filling up shuffle buffer (this may take a while): 42839 of 70504\n",
      "2022-01-02 13:33:39.291120: I tensorflow/core/kernels/data/shuffle_dataset_op.cc:177] Filling up shuffle buffer (this may take a while): 53583 of 70504\n",
      "2022-01-02 13:33:49.290849: I tensorflow/core/kernels/data/shuffle_dataset_op.cc:177] Filling up shuffle buffer (this may take a while): 64397 of 70504\n",
      "2022-01-02 13:33:54.952252: I tensorflow/core/kernels/data/shuffle_dataset_op.cc:230] Shuffle buffer filled.\n"
     ]
    },
    {
     "name": "stdout",
     "output_type": "stream",
     "text": [
      "Epoch 286, gen_loss: 46447624.0000, disc_loss: -0.2193\n",
      "Time for epoch 286 is 100.6690 sec\n"
     ]
    },
    {
     "name": "stderr",
     "output_type": "stream",
     "text": [
      "2022-01-02 13:34:30.016175: W tensorflow/core/grappler/optimizers/meta_optimizer.cc:153] TF_ENABLE_AUTO_MIXED_PRECISION has no effect.\n",
      "2022-01-02 13:34:30.016226: W tensorflow/core/grappler/optimizers/meta_optimizer.cc:153] TF_ENABLE_AUTO_MIXED_PRECISION has no effect.\n",
      "2022-01-02 13:34:30.016240: W tensorflow/core/grappler/optimizers/meta_optimizer.cc:153] TF_ENABLE_AUTO_MIXED_PRECISION has no effect.\n",
      "2022-01-02 13:34:30.016245: W tensorflow/core/grappler/optimizers/meta_optimizer.cc:153] TF_ENABLE_AUTO_MIXED_PRECISION has no effect.\n",
      "2022-01-02 13:34:40.003659: I tensorflow/core/kernels/data/shuffle_dataset_op.cc:177] Filling up shuffle buffer (this may take a while): 10637 of 70504\n",
      "2022-01-02 13:34:50.003763: I tensorflow/core/kernels/data/shuffle_dataset_op.cc:177] Filling up shuffle buffer (this may take a while): 21366 of 70504\n",
      "2022-01-02 13:35:00.005222: I tensorflow/core/kernels/data/shuffle_dataset_op.cc:177] Filling up shuffle buffer (this may take a while): 32138 of 70504\n",
      "2022-01-02 13:35:10.005036: I tensorflow/core/kernels/data/shuffle_dataset_op.cc:177] Filling up shuffle buffer (this may take a while): 42904 of 70504\n",
      "2022-01-02 13:35:20.004011: I tensorflow/core/kernels/data/shuffle_dataset_op.cc:177] Filling up shuffle buffer (this may take a while): 53607 of 70504\n",
      "2022-01-02 13:35:30.003537: I tensorflow/core/kernels/data/shuffle_dataset_op.cc:177] Filling up shuffle buffer (this may take a while): 64407 of 70504\n",
      "2022-01-02 13:35:35.656777: I tensorflow/core/kernels/data/shuffle_dataset_op.cc:230] Shuffle buffer filled.\n"
     ]
    },
    {
     "name": "stdout",
     "output_type": "stream",
     "text": [
      "Epoch 287, gen_loss: 45988332.0000, disc_loss: 0.9037\n",
      "Time for epoch 287 is 100.7249 sec\n"
     ]
    },
    {
     "name": "stderr",
     "output_type": "stream",
     "text": [
      "2022-01-02 13:36:10.786198: W tensorflow/core/grappler/optimizers/meta_optimizer.cc:153] TF_ENABLE_AUTO_MIXED_PRECISION has no effect.\n",
      "2022-01-02 13:36:10.786249: W tensorflow/core/grappler/optimizers/meta_optimizer.cc:153] TF_ENABLE_AUTO_MIXED_PRECISION has no effect.\n",
      "2022-01-02 13:36:10.786263: W tensorflow/core/grappler/optimizers/meta_optimizer.cc:153] TF_ENABLE_AUTO_MIXED_PRECISION has no effect.\n",
      "2022-01-02 13:36:10.786269: W tensorflow/core/grappler/optimizers/meta_optimizer.cc:153] TF_ENABLE_AUTO_MIXED_PRECISION has no effect.\n",
      "2022-01-02 13:36:20.771270: I tensorflow/core/kernels/data/shuffle_dataset_op.cc:177] Filling up shuffle buffer (this may take a while): 10596 of 70504\n",
      "2022-01-02 13:36:30.772047: I tensorflow/core/kernels/data/shuffle_dataset_op.cc:177] Filling up shuffle buffer (this may take a while): 21357 of 70504\n",
      "2022-01-02 13:36:40.770438: I tensorflow/core/kernels/data/shuffle_dataset_op.cc:177] Filling up shuffle buffer (this may take a while): 32116 of 70504\n",
      "2022-01-02 13:36:50.770366: I tensorflow/core/kernels/data/shuffle_dataset_op.cc:177] Filling up shuffle buffer (this may take a while): 42892 of 70504\n",
      "2022-01-02 13:37:00.770167: I tensorflow/core/kernels/data/shuffle_dataset_op.cc:177] Filling up shuffle buffer (this may take a while): 53596 of 70504\n",
      "2022-01-02 13:37:10.772042: I tensorflow/core/kernels/data/shuffle_dataset_op.cc:177] Filling up shuffle buffer (this may take a while): 64383 of 70504\n",
      "2022-01-02 13:37:16.415880: I tensorflow/core/kernels/data/shuffle_dataset_op.cc:230] Shuffle buffer filled.\n"
     ]
    },
    {
     "name": "stdout",
     "output_type": "stream",
     "text": [
      "Epoch 288, gen_loss: 45243380.0000, disc_loss: 0.2895\n",
      "Time for epoch 288 is 100.6885 sec\n"
     ]
    },
    {
     "name": "stderr",
     "output_type": "stream",
     "text": [
      "2022-01-02 13:37:51.517202: W tensorflow/core/grappler/optimizers/meta_optimizer.cc:153] TF_ENABLE_AUTO_MIXED_PRECISION has no effect.\n",
      "2022-01-02 13:37:51.517253: W tensorflow/core/grappler/optimizers/meta_optimizer.cc:153] TF_ENABLE_AUTO_MIXED_PRECISION has no effect.\n",
      "2022-01-02 13:37:51.517266: W tensorflow/core/grappler/optimizers/meta_optimizer.cc:153] TF_ENABLE_AUTO_MIXED_PRECISION has no effect.\n",
      "2022-01-02 13:37:51.517272: W tensorflow/core/grappler/optimizers/meta_optimizer.cc:153] TF_ENABLE_AUTO_MIXED_PRECISION has no effect.\n",
      "2022-01-02 13:38:01.501587: I tensorflow/core/kernels/data/shuffle_dataset_op.cc:177] Filling up shuffle buffer (this may take a while): 10639 of 70504\n",
      "2022-01-02 13:38:11.500645: I tensorflow/core/kernels/data/shuffle_dataset_op.cc:177] Filling up shuffle buffer (this may take a while): 21393 of 70504\n",
      "2022-01-02 13:38:21.500085: I tensorflow/core/kernels/data/shuffle_dataset_op.cc:177] Filling up shuffle buffer (this may take a while): 32166 of 70504\n",
      "2022-01-02 13:38:31.500388: I tensorflow/core/kernels/data/shuffle_dataset_op.cc:177] Filling up shuffle buffer (this may take a while): 42923 of 70504\n",
      "2022-01-02 13:38:41.499930: I tensorflow/core/kernels/data/shuffle_dataset_op.cc:177] Filling up shuffle buffer (this may take a while): 53639 of 70504\n",
      "2022-01-02 13:38:51.502331: I tensorflow/core/kernels/data/shuffle_dataset_op.cc:177] Filling up shuffle buffer (this may take a while): 64425 of 70504\n",
      "2022-01-02 13:38:57.130938: I tensorflow/core/kernels/data/shuffle_dataset_op.cc:230] Shuffle buffer filled.\n"
     ]
    },
    {
     "name": "stdout",
     "output_type": "stream",
     "text": [
      "Epoch 289, gen_loss: 45126296.0000, disc_loss: -0.7533\n",
      "Time for epoch 289 is 100.6318 sec\n"
     ]
    },
    {
     "name": "stderr",
     "output_type": "stream",
     "text": [
      "2022-01-02 13:39:32.187880: W tensorflow/core/grappler/optimizers/meta_optimizer.cc:153] TF_ENABLE_AUTO_MIXED_PRECISION has no effect.\n",
      "2022-01-02 13:39:32.187931: W tensorflow/core/grappler/optimizers/meta_optimizer.cc:153] TF_ENABLE_AUTO_MIXED_PRECISION has no effect.\n",
      "2022-01-02 13:39:32.187945: W tensorflow/core/grappler/optimizers/meta_optimizer.cc:153] TF_ENABLE_AUTO_MIXED_PRECISION has no effect.\n",
      "2022-01-02 13:39:32.187950: W tensorflow/core/grappler/optimizers/meta_optimizer.cc:153] TF_ENABLE_AUTO_MIXED_PRECISION has no effect.\n",
      "2022-01-02 13:39:42.174534: I tensorflow/core/kernels/data/shuffle_dataset_op.cc:177] Filling up shuffle buffer (this may take a while): 10817 of 70504\n",
      "2022-01-02 13:39:52.173519: I tensorflow/core/kernels/data/shuffle_dataset_op.cc:177] Filling up shuffle buffer (this may take a while): 21794 of 70504\n",
      "2022-01-02 13:40:02.173043: I tensorflow/core/kernels/data/shuffle_dataset_op.cc:177] Filling up shuffle buffer (this may take a while): 32746 of 70504\n",
      "2022-01-02 13:40:12.173031: I tensorflow/core/kernels/data/shuffle_dataset_op.cc:177] Filling up shuffle buffer (this may take a while): 43746 of 70504\n",
      "2022-01-02 13:40:22.173310: I tensorflow/core/kernels/data/shuffle_dataset_op.cc:177] Filling up shuffle buffer (this may take a while): 54697 of 70504\n",
      "2022-01-02 13:40:32.173707: I tensorflow/core/kernels/data/shuffle_dataset_op.cc:177] Filling up shuffle buffer (this may take a while): 65724 of 70504\n",
      "2022-01-02 13:40:36.502148: I tensorflow/core/kernels/data/shuffle_dataset_op.cc:230] Shuffle buffer filled.\n"
     ]
    },
    {
     "name": "stdout",
     "output_type": "stream",
     "text": [
      "Epoch 290, gen_loss: 45152644.0000, disc_loss: -0.9474\n",
      "Time for epoch 290 is 99.3392 sec\n"
     ]
    },
    {
     "name": "stderr",
     "output_type": "stream",
     "text": [
      "2022-01-02 13:41:11.572141: W tensorflow/core/grappler/optimizers/meta_optimizer.cc:153] TF_ENABLE_AUTO_MIXED_PRECISION has no effect.\n",
      "2022-01-02 13:41:11.572195: W tensorflow/core/grappler/optimizers/meta_optimizer.cc:153] TF_ENABLE_AUTO_MIXED_PRECISION has no effect.\n",
      "2022-01-02 13:41:11.572209: W tensorflow/core/grappler/optimizers/meta_optimizer.cc:153] TF_ENABLE_AUTO_MIXED_PRECISION has no effect.\n",
      "2022-01-02 13:41:11.572214: W tensorflow/core/grappler/optimizers/meta_optimizer.cc:153] TF_ENABLE_AUTO_MIXED_PRECISION has no effect.\n",
      "2022-01-02 13:41:21.556222: I tensorflow/core/kernels/data/shuffle_dataset_op.cc:177] Filling up shuffle buffer (this may take a while): 10672 of 70504\n",
      "2022-01-02 13:41:31.556754: I tensorflow/core/kernels/data/shuffle_dataset_op.cc:177] Filling up shuffle buffer (this may take a while): 21678 of 70504\n",
      "2022-01-02 13:41:41.555907: I tensorflow/core/kernels/data/shuffle_dataset_op.cc:177] Filling up shuffle buffer (this may take a while): 32683 of 70504\n",
      "2022-01-02 13:41:51.555870: I tensorflow/core/kernels/data/shuffle_dataset_op.cc:177] Filling up shuffle buffer (this may take a while): 43710 of 70504\n",
      "2022-01-02 13:42:01.556386: I tensorflow/core/kernels/data/shuffle_dataset_op.cc:177] Filling up shuffle buffer (this may take a while): 54702 of 70504\n",
      "2022-01-02 13:42:11.556543: I tensorflow/core/kernels/data/shuffle_dataset_op.cc:177] Filling up shuffle buffer (this may take a while): 65755 of 70504\n",
      "2022-01-02 13:42:15.837842: I tensorflow/core/kernels/data/shuffle_dataset_op.cc:230] Shuffle buffer filled.\n"
     ]
    },
    {
     "name": "stdout",
     "output_type": "stream",
     "text": [
      "Epoch 291, gen_loss: 44475440.0000, disc_loss: -0.7211\n",
      "Time for epoch 291 is 99.3752 sec\n"
     ]
    },
    {
     "name": "stderr",
     "output_type": "stream",
     "text": [
      "2022-01-02 13:42:50.987485: W tensorflow/core/grappler/optimizers/meta_optimizer.cc:153] TF_ENABLE_AUTO_MIXED_PRECISION has no effect.\n",
      "2022-01-02 13:42:50.987540: W tensorflow/core/grappler/optimizers/meta_optimizer.cc:153] TF_ENABLE_AUTO_MIXED_PRECISION has no effect.\n",
      "2022-01-02 13:42:50.987553: W tensorflow/core/grappler/optimizers/meta_optimizer.cc:153] TF_ENABLE_AUTO_MIXED_PRECISION has no effect.\n",
      "2022-01-02 13:42:50.987559: W tensorflow/core/grappler/optimizers/meta_optimizer.cc:153] TF_ENABLE_AUTO_MIXED_PRECISION has no effect.\n",
      "2022-01-02 13:43:00.972055: I tensorflow/core/kernels/data/shuffle_dataset_op.cc:177] Filling up shuffle buffer (this may take a while): 10829 of 70504\n",
      "2022-01-02 13:43:10.972047: I tensorflow/core/kernels/data/shuffle_dataset_op.cc:177] Filling up shuffle buffer (this may take a while): 21818 of 70504\n",
      "2022-01-02 13:43:20.972063: I tensorflow/core/kernels/data/shuffle_dataset_op.cc:177] Filling up shuffle buffer (this may take a while): 32818 of 70504\n",
      "2022-01-02 13:43:30.972049: I tensorflow/core/kernels/data/shuffle_dataset_op.cc:177] Filling up shuffle buffer (this may take a while): 43868 of 70504\n",
      "2022-01-02 13:43:40.973606: I tensorflow/core/kernels/data/shuffle_dataset_op.cc:177] Filling up shuffle buffer (this may take a while): 54877 of 70504\n",
      "2022-01-02 13:43:50.973075: I tensorflow/core/kernels/data/shuffle_dataset_op.cc:177] Filling up shuffle buffer (this may take a while): 65957 of 70504\n",
      "2022-01-02 13:43:55.079360: I tensorflow/core/kernels/data/shuffle_dataset_op.cc:230] Shuffle buffer filled.\n"
     ]
    },
    {
     "name": "stdout",
     "output_type": "stream",
     "text": [
      "Epoch 292, gen_loss: 44458572.0000, disc_loss: -0.7707\n",
      "Time for epoch 292 is 99.1620 sec\n"
     ]
    },
    {
     "name": "stderr",
     "output_type": "stream",
     "text": [
      "2022-01-02 13:44:30.190384: W tensorflow/core/grappler/optimizers/meta_optimizer.cc:153] TF_ENABLE_AUTO_MIXED_PRECISION has no effect.\n",
      "2022-01-02 13:44:30.190431: W tensorflow/core/grappler/optimizers/meta_optimizer.cc:153] TF_ENABLE_AUTO_MIXED_PRECISION has no effect.\n",
      "2022-01-02 13:44:30.190445: W tensorflow/core/grappler/optimizers/meta_optimizer.cc:153] TF_ENABLE_AUTO_MIXED_PRECISION has no effect.\n",
      "2022-01-02 13:44:30.190451: W tensorflow/core/grappler/optimizers/meta_optimizer.cc:153] TF_ENABLE_AUTO_MIXED_PRECISION has no effect.\n",
      "2022-01-02 13:44:40.177452: I tensorflow/core/kernels/data/shuffle_dataset_op.cc:177] Filling up shuffle buffer (this may take a while): 10844 of 70504\n",
      "2022-01-02 13:44:50.178220: I tensorflow/core/kernels/data/shuffle_dataset_op.cc:177] Filling up shuffle buffer (this may take a while): 21861 of 70504\n",
      "2022-01-02 13:45:00.177597: I tensorflow/core/kernels/data/shuffle_dataset_op.cc:177] Filling up shuffle buffer (this may take a while): 32860 of 70504\n",
      "2022-01-02 13:45:10.177438: I tensorflow/core/kernels/data/shuffle_dataset_op.cc:177] Filling up shuffle buffer (this may take a while): 43948 of 70504\n",
      "2022-01-02 13:45:20.178084: I tensorflow/core/kernels/data/shuffle_dataset_op.cc:177] Filling up shuffle buffer (this may take a while): 54958 of 70504\n",
      "2022-01-02 13:45:30.178595: I tensorflow/core/kernels/data/shuffle_dataset_op.cc:177] Filling up shuffle buffer (this may take a while): 66029 of 70504\n",
      "2022-01-02 13:45:34.224919: I tensorflow/core/kernels/data/shuffle_dataset_op.cc:230] Shuffle buffer filled.\n"
     ]
    },
    {
     "name": "stdout",
     "output_type": "stream",
     "text": [
      "Epoch 293, gen_loss: 44694848.0000, disc_loss: 0.2098\n",
      "Time for epoch 293 is 99.0293 sec\n"
     ]
    },
    {
     "name": "stderr",
     "output_type": "stream",
     "text": [
      "2022-01-02 13:46:09.268170: W tensorflow/core/grappler/optimizers/meta_optimizer.cc:153] TF_ENABLE_AUTO_MIXED_PRECISION has no effect.\n",
      "2022-01-02 13:46:09.268221: W tensorflow/core/grappler/optimizers/meta_optimizer.cc:153] TF_ENABLE_AUTO_MIXED_PRECISION has no effect.\n",
      "2022-01-02 13:46:09.268236: W tensorflow/core/grappler/optimizers/meta_optimizer.cc:153] TF_ENABLE_AUTO_MIXED_PRECISION has no effect.\n",
      "2022-01-02 13:46:09.268242: W tensorflow/core/grappler/optimizers/meta_optimizer.cc:153] TF_ENABLE_AUTO_MIXED_PRECISION has no effect.\n",
      "2022-01-02 13:46:19.257830: I tensorflow/core/kernels/data/shuffle_dataset_op.cc:177] Filling up shuffle buffer (this may take a while): 10612 of 70504\n",
      "2022-01-02 13:46:29.257893: I tensorflow/core/kernels/data/shuffle_dataset_op.cc:177] Filling up shuffle buffer (this may take a while): 21334 of 70504\n",
      "2022-01-02 13:46:39.257470: I tensorflow/core/kernels/data/shuffle_dataset_op.cc:177] Filling up shuffle buffer (this may take a while): 32121 of 70504\n",
      "2022-01-02 13:46:49.257378: I tensorflow/core/kernels/data/shuffle_dataset_op.cc:177] Filling up shuffle buffer (this may take a while): 42921 of 70504\n",
      "2022-01-02 13:46:59.258510: I tensorflow/core/kernels/data/shuffle_dataset_op.cc:177] Filling up shuffle buffer (this may take a while): 53613 of 70504\n",
      "2022-01-02 13:47:09.257516: I tensorflow/core/kernels/data/shuffle_dataset_op.cc:177] Filling up shuffle buffer (this may take a while): 64430 of 70504\n",
      "2022-01-02 13:47:14.867259: I tensorflow/core/kernels/data/shuffle_dataset_op.cc:230] Shuffle buffer filled.\n"
     ]
    },
    {
     "name": "stdout",
     "output_type": "stream",
     "text": [
      "Epoch 294, gen_loss: 45041868.0000, disc_loss: -0.9455\n",
      "Time for epoch 294 is 100.6610 sec\n"
     ]
    },
    {
     "name": "stderr",
     "output_type": "stream",
     "text": [
      "2022-01-02 13:47:49.966117: W tensorflow/core/grappler/optimizers/meta_optimizer.cc:153] TF_ENABLE_AUTO_MIXED_PRECISION has no effect.\n",
      "2022-01-02 13:47:49.966169: W tensorflow/core/grappler/optimizers/meta_optimizer.cc:153] TF_ENABLE_AUTO_MIXED_PRECISION has no effect.\n",
      "2022-01-02 13:47:49.966183: W tensorflow/core/grappler/optimizers/meta_optimizer.cc:153] TF_ENABLE_AUTO_MIXED_PRECISION has no effect.\n",
      "2022-01-02 13:47:49.966189: W tensorflow/core/grappler/optimizers/meta_optimizer.cc:153] TF_ENABLE_AUTO_MIXED_PRECISION has no effect.\n",
      "2022-01-02 13:47:59.950707: I tensorflow/core/kernels/data/shuffle_dataset_op.cc:177] Filling up shuffle buffer (this may take a while): 10775 of 70504\n",
      "2022-01-02 13:48:09.951347: I tensorflow/core/kernels/data/shuffle_dataset_op.cc:177] Filling up shuffle buffer (this may take a while): 21731 of 70504\n",
      "2022-01-02 13:48:19.950940: I tensorflow/core/kernels/data/shuffle_dataset_op.cc:177] Filling up shuffle buffer (this may take a while): 32670 of 70504\n",
      "2022-01-02 13:48:29.950305: I tensorflow/core/kernels/data/shuffle_dataset_op.cc:177] Filling up shuffle buffer (this may take a while): 43650 of 70504\n",
      "2022-01-02 13:48:39.951291: I tensorflow/core/kernels/data/shuffle_dataset_op.cc:177] Filling up shuffle buffer (this may take a while): 54651 of 70504\n",
      "2022-01-02 13:48:49.950473: I tensorflow/core/kernels/data/shuffle_dataset_op.cc:177] Filling up shuffle buffer (this may take a while): 65661 of 70504\n",
      "2022-01-02 13:48:54.351491: I tensorflow/core/kernels/data/shuffle_dataset_op.cc:230] Shuffle buffer filled.\n"
     ]
    },
    {
     "name": "stdout",
     "output_type": "stream",
     "text": [
      "Epoch 295, gen_loss: 45159804.0000, disc_loss: -0.6250\n",
      "Time for epoch 295 is 99.4506 sec\n"
     ]
    },
    {
     "name": "stderr",
     "output_type": "stream",
     "text": [
      "2022-01-02 13:49:29.453009: W tensorflow/core/grappler/optimizers/meta_optimizer.cc:153] TF_ENABLE_AUTO_MIXED_PRECISION has no effect.\n",
      "2022-01-02 13:49:29.453066: W tensorflow/core/grappler/optimizers/meta_optimizer.cc:153] TF_ENABLE_AUTO_MIXED_PRECISION has no effect.\n",
      "2022-01-02 13:49:29.453081: W tensorflow/core/grappler/optimizers/meta_optimizer.cc:153] TF_ENABLE_AUTO_MIXED_PRECISION has no effect.\n",
      "2022-01-02 13:49:29.453086: W tensorflow/core/grappler/optimizers/meta_optimizer.cc:153] TF_ENABLE_AUTO_MIXED_PRECISION has no effect.\n",
      "2022-01-02 13:49:39.442836: I tensorflow/core/kernels/data/shuffle_dataset_op.cc:177] Filling up shuffle buffer (this may take a while): 10640 of 70504\n",
      "2022-01-02 13:49:49.443538: I tensorflow/core/kernels/data/shuffle_dataset_op.cc:177] Filling up shuffle buffer (this may take a while): 21387 of 70504\n",
      "2022-01-02 13:49:59.445079: I tensorflow/core/kernels/data/shuffle_dataset_op.cc:177] Filling up shuffle buffer (this may take a while): 32187 of 70504\n",
      "2022-01-02 13:50:09.442868: I tensorflow/core/kernels/data/shuffle_dataset_op.cc:177] Filling up shuffle buffer (this may take a while): 43028 of 70504\n",
      "2022-01-02 13:50:19.443063: I tensorflow/core/kernels/data/shuffle_dataset_op.cc:177] Filling up shuffle buffer (this may take a while): 53844 of 70504\n",
      "2022-01-02 13:50:29.443466: I tensorflow/core/kernels/data/shuffle_dataset_op.cc:177] Filling up shuffle buffer (this may take a while): 64699 of 70504\n",
      "2022-01-02 13:50:34.772450: I tensorflow/core/kernels/data/shuffle_dataset_op.cc:230] Shuffle buffer filled.\n"
     ]
    },
    {
     "name": "stdout",
     "output_type": "stream",
     "text": [
      "Epoch 296, gen_loss: 45041296.0000, disc_loss: -1.5730\n",
      "Time for epoch 296 is 100.3443 sec\n"
     ]
    },
    {
     "name": "stderr",
     "output_type": "stream",
     "text": [
      "2022-01-02 13:51:09.844845: W tensorflow/core/grappler/optimizers/meta_optimizer.cc:153] TF_ENABLE_AUTO_MIXED_PRECISION has no effect.\n",
      "2022-01-02 13:51:09.844924: W tensorflow/core/grappler/optimizers/meta_optimizer.cc:153] TF_ENABLE_AUTO_MIXED_PRECISION has no effect.\n",
      "2022-01-02 13:51:09.844960: W tensorflow/core/grappler/optimizers/meta_optimizer.cc:153] TF_ENABLE_AUTO_MIXED_PRECISION has no effect.\n",
      "2022-01-02 13:51:09.844975: W tensorflow/core/grappler/optimizers/meta_optimizer.cc:153] TF_ENABLE_AUTO_MIXED_PRECISION has no effect.\n",
      "2022-01-02 13:51:19.830729: I tensorflow/core/kernels/data/shuffle_dataset_op.cc:177] Filling up shuffle buffer (this may take a while): 10599 of 70504\n",
      "2022-01-02 13:51:29.832097: I tensorflow/core/kernels/data/shuffle_dataset_op.cc:177] Filling up shuffle buffer (this may take a while): 21351 of 70504\n",
      "2022-01-02 13:51:39.829661: I tensorflow/core/kernels/data/shuffle_dataset_op.cc:177] Filling up shuffle buffer (this may take a while): 32090 of 70504\n",
      "2022-01-02 13:51:49.831835: I tensorflow/core/kernels/data/shuffle_dataset_op.cc:177] Filling up shuffle buffer (this may take a while): 42850 of 70504\n",
      "2022-01-02 13:51:59.831260: I tensorflow/core/kernels/data/shuffle_dataset_op.cc:177] Filling up shuffle buffer (this may take a while): 53603 of 70504\n",
      "2022-01-02 13:52:09.830316: I tensorflow/core/kernels/data/shuffle_dataset_op.cc:177] Filling up shuffle buffer (this may take a while): 64421 of 70504\n",
      "2022-01-02 13:52:15.457617: I tensorflow/core/kernels/data/shuffle_dataset_op.cc:230] Shuffle buffer filled.\n"
     ]
    },
    {
     "name": "stdout",
     "output_type": "stream",
     "text": [
      "Epoch 297, gen_loss: 45051236.0000, disc_loss: -0.5774\n",
      "Time for epoch 297 is 100.6919 sec\n"
     ]
    },
    {
     "name": "stderr",
     "output_type": "stream",
     "text": [
      "2022-01-02 13:52:50.579742: W tensorflow/core/grappler/optimizers/meta_optimizer.cc:153] TF_ENABLE_AUTO_MIXED_PRECISION has no effect.\n",
      "2022-01-02 13:52:50.579793: W tensorflow/core/grappler/optimizers/meta_optimizer.cc:153] TF_ENABLE_AUTO_MIXED_PRECISION has no effect.\n",
      "2022-01-02 13:52:50.579808: W tensorflow/core/grappler/optimizers/meta_optimizer.cc:153] TF_ENABLE_AUTO_MIXED_PRECISION has no effect.\n",
      "2022-01-02 13:52:50.579813: W tensorflow/core/grappler/optimizers/meta_optimizer.cc:153] TF_ENABLE_AUTO_MIXED_PRECISION has no effect.\n",
      "2022-01-02 13:53:00.563435: I tensorflow/core/kernels/data/shuffle_dataset_op.cc:177] Filling up shuffle buffer (this may take a while): 10820 of 70504\n",
      "2022-01-02 13:53:10.563582: I tensorflow/core/kernels/data/shuffle_dataset_op.cc:177] Filling up shuffle buffer (this may take a while): 21778 of 70504\n",
      "2022-01-02 13:53:20.562534: I tensorflow/core/kernels/data/shuffle_dataset_op.cc:177] Filling up shuffle buffer (this may take a while): 32714 of 70504\n",
      "2022-01-02 13:53:30.562570: I tensorflow/core/kernels/data/shuffle_dataset_op.cc:177] Filling up shuffle buffer (this may take a while): 43719 of 70504\n",
      "2022-01-02 13:53:40.562836: I tensorflow/core/kernels/data/shuffle_dataset_op.cc:177] Filling up shuffle buffer (this may take a while): 54722 of 70504\n",
      "2022-01-02 13:53:50.562628: I tensorflow/core/kernels/data/shuffle_dataset_op.cc:177] Filling up shuffle buffer (this may take a while): 65761 of 70504\n",
      "2022-01-02 13:53:54.853458: I tensorflow/core/kernels/data/shuffle_dataset_op.cc:230] Shuffle buffer filled.\n"
     ]
    },
    {
     "name": "stdout",
     "output_type": "stream",
     "text": [
      "Epoch 298, gen_loss: 44811200.0000, disc_loss: -1.2140\n",
      "Time for epoch 298 is 99.3416 sec\n"
     ]
    },
    {
     "name": "stderr",
     "output_type": "stream",
     "text": [
      "2022-01-02 13:54:29.964416: W tensorflow/core/grappler/optimizers/meta_optimizer.cc:153] TF_ENABLE_AUTO_MIXED_PRECISION has no effect.\n",
      "2022-01-02 13:54:29.964473: W tensorflow/core/grappler/optimizers/meta_optimizer.cc:153] TF_ENABLE_AUTO_MIXED_PRECISION has no effect.\n",
      "2022-01-02 13:54:29.964487: W tensorflow/core/grappler/optimizers/meta_optimizer.cc:153] TF_ENABLE_AUTO_MIXED_PRECISION has no effect.\n",
      "2022-01-02 13:54:29.964493: W tensorflow/core/grappler/optimizers/meta_optimizer.cc:153] TF_ENABLE_AUTO_MIXED_PRECISION has no effect.\n",
      "2022-01-02 13:54:39.947001: I tensorflow/core/kernels/data/shuffle_dataset_op.cc:177] Filling up shuffle buffer (this may take a while): 10589 of 70504\n",
      "2022-01-02 13:54:49.947315: I tensorflow/core/kernels/data/shuffle_dataset_op.cc:177] Filling up shuffle buffer (this may take a while): 21300 of 70504\n",
      "2022-01-02 13:54:59.947686: I tensorflow/core/kernels/data/shuffle_dataset_op.cc:177] Filling up shuffle buffer (this may take a while): 32047 of 70504\n",
      "2022-01-02 13:55:09.947157: I tensorflow/core/kernels/data/shuffle_dataset_op.cc:177] Filling up shuffle buffer (this may take a while): 42819 of 70504\n",
      "2022-01-02 13:55:19.954888: I tensorflow/core/kernels/data/shuffle_dataset_op.cc:177] Filling up shuffle buffer (this may take a while): 53558 of 70504\n",
      "2022-01-02 13:55:29.947083: I tensorflow/core/kernels/data/shuffle_dataset_op.cc:177] Filling up shuffle buffer (this may take a while): 64401 of 70504\n",
      "2022-01-02 13:55:35.600283: I tensorflow/core/kernels/data/shuffle_dataset_op.cc:230] Shuffle buffer filled.\n"
     ]
    },
    {
     "name": "stdout",
     "output_type": "stream",
     "text": [
      "Epoch 299, gen_loss: 43890160.0000, disc_loss: -0.6835\n",
      "Time for epoch 299 is 100.7247 sec\n"
     ]
    },
    {
     "name": "stderr",
     "output_type": "stream",
     "text": [
      "2022-01-02 13:56:10.761357: W tensorflow/core/grappler/optimizers/meta_optimizer.cc:153] TF_ENABLE_AUTO_MIXED_PRECISION has no effect.\n",
      "2022-01-02 13:56:10.761407: W tensorflow/core/grappler/optimizers/meta_optimizer.cc:153] TF_ENABLE_AUTO_MIXED_PRECISION has no effect.\n",
      "2022-01-02 13:56:10.761421: W tensorflow/core/grappler/optimizers/meta_optimizer.cc:153] TF_ENABLE_AUTO_MIXED_PRECISION has no effect.\n",
      "2022-01-02 13:56:10.761427: W tensorflow/core/grappler/optimizers/meta_optimizer.cc:153] TF_ENABLE_AUTO_MIXED_PRECISION has no effect.\n",
      "2022-01-02 13:56:20.715872: I tensorflow/core/kernels/data/shuffle_dataset_op.cc:177] Filling up shuffle buffer (this may take a while): 10778 of 70504\n",
      "2022-01-02 13:56:30.716311: I tensorflow/core/kernels/data/shuffle_dataset_op.cc:177] Filling up shuffle buffer (this may take a while): 21729 of 70504\n",
      "2022-01-02 13:56:40.716206: I tensorflow/core/kernels/data/shuffle_dataset_op.cc:177] Filling up shuffle buffer (this may take a while): 32697 of 70504\n",
      "2022-01-02 13:56:50.716561: I tensorflow/core/kernels/data/shuffle_dataset_op.cc:177] Filling up shuffle buffer (this may take a while): 43679 of 70504\n",
      "2022-01-02 13:57:00.716270: I tensorflow/core/kernels/data/shuffle_dataset_op.cc:177] Filling up shuffle buffer (this may take a while): 54682 of 70504\n",
      "2022-01-02 13:57:10.715887: I tensorflow/core/kernels/data/shuffle_dataset_op.cc:177] Filling up shuffle buffer (this may take a while): 65739 of 70504\n",
      "2022-01-02 13:57:15.048586: I tensorflow/core/kernels/data/shuffle_dataset_op.cc:230] Shuffle buffer filled.\n"
     ]
    },
    {
     "name": "stdout",
     "output_type": "stream",
     "text": [
      "Epoch 300, gen_loss: 42814612.0000, disc_loss: -1.4238\n",
      "Time for epoch 300 is 99.3311 sec\n"
     ]
    },
    {
     "name": "stderr",
     "output_type": "stream",
     "text": [
      "2022-01-02 13:57:50.283470: W tensorflow/core/grappler/optimizers/meta_optimizer.cc:153] TF_ENABLE_AUTO_MIXED_PRECISION has no effect.\n",
      "2022-01-02 13:57:50.283532: W tensorflow/core/grappler/optimizers/meta_optimizer.cc:153] TF_ENABLE_AUTO_MIXED_PRECISION has no effect.\n",
      "2022-01-02 13:57:50.283547: W tensorflow/core/grappler/optimizers/meta_optimizer.cc:153] TF_ENABLE_AUTO_MIXED_PRECISION has no effect.\n",
      "2022-01-02 13:57:50.283552: W tensorflow/core/grappler/optimizers/meta_optimizer.cc:153] TF_ENABLE_AUTO_MIXED_PRECISION has no effect.\n",
      "2022-01-02 13:58:00.272516: I tensorflow/core/kernels/data/shuffle_dataset_op.cc:177] Filling up shuffle buffer (this may take a while): 10632 of 70504\n",
      "2022-01-02 13:58:10.272879: I tensorflow/core/kernels/data/shuffle_dataset_op.cc:177] Filling up shuffle buffer (this may take a while): 21351 of 70504\n",
      "2022-01-02 13:58:20.273227: I tensorflow/core/kernels/data/shuffle_dataset_op.cc:177] Filling up shuffle buffer (this may take a while): 32022 of 70504\n",
      "2022-01-02 13:58:30.273314: I tensorflow/core/kernels/data/shuffle_dataset_op.cc:177] Filling up shuffle buffer (this may take a while): 42801 of 70504\n",
      "2022-01-02 13:58:40.272671: I tensorflow/core/kernels/data/shuffle_dataset_op.cc:177] Filling up shuffle buffer (this may take a while): 53504 of 70504\n",
      "2022-01-02 13:58:50.274516: I tensorflow/core/kernels/data/shuffle_dataset_op.cc:177] Filling up shuffle buffer (this may take a while): 64331 of 70504\n",
      "2022-01-02 13:58:56.002086: I tensorflow/core/kernels/data/shuffle_dataset_op.cc:230] Shuffle buffer filled.\n"
     ]
    },
    {
     "name": "stdout",
     "output_type": "stream",
     "text": [
      "Epoch 301, gen_loss: 42484672.0000, disc_loss: -0.7957\n",
      "Time for epoch 301 is 100.7949 sec\n"
     ]
    },
    {
     "name": "stderr",
     "output_type": "stream",
     "text": [
      "2022-01-02 13:59:31.125604: W tensorflow/core/grappler/optimizers/meta_optimizer.cc:153] TF_ENABLE_AUTO_MIXED_PRECISION has no effect.\n",
      "2022-01-02 13:59:31.125652: W tensorflow/core/grappler/optimizers/meta_optimizer.cc:153] TF_ENABLE_AUTO_MIXED_PRECISION has no effect.\n",
      "2022-01-02 13:59:31.125665: W tensorflow/core/grappler/optimizers/meta_optimizer.cc:153] TF_ENABLE_AUTO_MIXED_PRECISION has no effect.\n",
      "2022-01-02 13:59:31.125671: W tensorflow/core/grappler/optimizers/meta_optimizer.cc:153] TF_ENABLE_AUTO_MIXED_PRECISION has no effect.\n",
      "2022-01-02 13:59:41.110779: I tensorflow/core/kernels/data/shuffle_dataset_op.cc:177] Filling up shuffle buffer (this may take a while): 10783 of 70504\n",
      "2022-01-02 13:59:51.111014: I tensorflow/core/kernels/data/shuffle_dataset_op.cc:177] Filling up shuffle buffer (this may take a while): 21757 of 70504\n",
      "2022-01-02 14:00:01.110349: I tensorflow/core/kernels/data/shuffle_dataset_op.cc:177] Filling up shuffle buffer (this may take a while): 32731 of 70504\n",
      "2022-01-02 14:00:11.111297: I tensorflow/core/kernels/data/shuffle_dataset_op.cc:177] Filling up shuffle buffer (this may take a while): 43747 of 70504\n",
      "2022-01-02 14:00:21.110925: I tensorflow/core/kernels/data/shuffle_dataset_op.cc:177] Filling up shuffle buffer (this may take a while): 54771 of 70504\n",
      "2022-01-02 14:00:31.110351: I tensorflow/core/kernels/data/shuffle_dataset_op.cc:177] Filling up shuffle buffer (this may take a while): 65856 of 70504\n",
      "2022-01-02 14:00:35.322310: I tensorflow/core/kernels/data/shuffle_dataset_op.cc:230] Shuffle buffer filled.\n"
     ]
    },
    {
     "name": "stdout",
     "output_type": "stream",
     "text": [
      "Epoch 302, gen_loss: 42372956.0000, disc_loss: -1.4256\n",
      "Time for epoch 302 is 99.1842 sec\n"
     ]
    },
    {
     "name": "stderr",
     "output_type": "stream",
     "text": [
      "2022-01-02 14:01:10.353997: W tensorflow/core/grappler/optimizers/meta_optimizer.cc:153] TF_ENABLE_AUTO_MIXED_PRECISION has no effect.\n",
      "2022-01-02 14:01:10.354051: W tensorflow/core/grappler/optimizers/meta_optimizer.cc:153] TF_ENABLE_AUTO_MIXED_PRECISION has no effect.\n",
      "2022-01-02 14:01:10.354065: W tensorflow/core/grappler/optimizers/meta_optimizer.cc:153] TF_ENABLE_AUTO_MIXED_PRECISION has no effect.\n",
      "2022-01-02 14:01:10.354071: W tensorflow/core/grappler/optimizers/meta_optimizer.cc:153] TF_ENABLE_AUTO_MIXED_PRECISION has no effect.\n",
      "2022-01-02 14:01:20.337578: I tensorflow/core/kernels/data/shuffle_dataset_op.cc:177] Filling up shuffle buffer (this may take a while): 10557 of 70504\n",
      "2022-01-02 14:01:30.337315: I tensorflow/core/kernels/data/shuffle_dataset_op.cc:177] Filling up shuffle buffer (this may take a while): 21257 of 70504\n",
      "2022-01-02 14:01:40.337954: I tensorflow/core/kernels/data/shuffle_dataset_op.cc:177] Filling up shuffle buffer (this may take a while): 32005 of 70504\n",
      "2022-01-02 14:01:50.336325: I tensorflow/core/kernels/data/shuffle_dataset_op.cc:177] Filling up shuffle buffer (this may take a while): 42790 of 70504\n",
      "2022-01-02 14:02:00.337182: I tensorflow/core/kernels/data/shuffle_dataset_op.cc:177] Filling up shuffle buffer (this may take a while): 53542 of 70504\n",
      "2022-01-02 14:02:10.337087: I tensorflow/core/kernels/data/shuffle_dataset_op.cc:177] Filling up shuffle buffer (this may take a while): 64443 of 70504\n",
      "2022-01-02 14:02:15.939549: I tensorflow/core/kernels/data/shuffle_dataset_op.cc:230] Shuffle buffer filled.\n"
     ]
    },
    {
     "name": "stdout",
     "output_type": "stream",
     "text": [
      "Epoch 303, gen_loss: 42392316.0000, disc_loss: -0.8242\n",
      "Time for epoch 303 is 100.5754 sec\n"
     ]
    },
    {
     "name": "stderr",
     "output_type": "stream",
     "text": [
      "2022-01-02 14:02:50.965936: W tensorflow/core/grappler/optimizers/meta_optimizer.cc:153] TF_ENABLE_AUTO_MIXED_PRECISION has no effect.\n",
      "2022-01-02 14:02:50.965990: W tensorflow/core/grappler/optimizers/meta_optimizer.cc:153] TF_ENABLE_AUTO_MIXED_PRECISION has no effect.\n",
      "2022-01-02 14:02:50.966005: W tensorflow/core/grappler/optimizers/meta_optimizer.cc:153] TF_ENABLE_AUTO_MIXED_PRECISION has no effect.\n",
      "2022-01-02 14:02:50.966010: W tensorflow/core/grappler/optimizers/meta_optimizer.cc:153] TF_ENABLE_AUTO_MIXED_PRECISION has no effect.\n",
      "2022-01-02 14:03:00.955061: I tensorflow/core/kernels/data/shuffle_dataset_op.cc:177] Filling up shuffle buffer (this may take a while): 10844 of 70504\n",
      "2022-01-02 14:03:10.955622: I tensorflow/core/kernels/data/shuffle_dataset_op.cc:177] Filling up shuffle buffer (this may take a while): 21830 of 70504\n",
      "2022-01-02 14:03:20.955241: I tensorflow/core/kernels/data/shuffle_dataset_op.cc:177] Filling up shuffle buffer (this may take a while): 32784 of 70504\n",
      "2022-01-02 14:03:30.954985: I tensorflow/core/kernels/data/shuffle_dataset_op.cc:177] Filling up shuffle buffer (this may take a while): 43825 of 70504\n",
      "2022-01-02 14:03:40.954970: I tensorflow/core/kernels/data/shuffle_dataset_op.cc:177] Filling up shuffle buffer (this may take a while): 54834 of 70504\n",
      "2022-01-02 14:03:50.955468: I tensorflow/core/kernels/data/shuffle_dataset_op.cc:177] Filling up shuffle buffer (this may take a while): 65907 of 70504\n",
      "2022-01-02 14:03:55.155932: I tensorflow/core/kernels/data/shuffle_dataset_op.cc:230] Shuffle buffer filled.\n"
     ]
    },
    {
     "name": "stdout",
     "output_type": "stream",
     "text": [
      "Epoch 304, gen_loss: 42859676.0000, disc_loss: -0.8423\n",
      "Time for epoch 304 is 99.2377 sec\n"
     ]
    },
    {
     "name": "stderr",
     "output_type": "stream",
     "text": [
      "2022-01-02 14:04:30.247314: W tensorflow/core/grappler/optimizers/meta_optimizer.cc:153] TF_ENABLE_AUTO_MIXED_PRECISION has no effect.\n",
      "2022-01-02 14:04:30.247368: W tensorflow/core/grappler/optimizers/meta_optimizer.cc:153] TF_ENABLE_AUTO_MIXED_PRECISION has no effect.\n",
      "2022-01-02 14:04:30.247382: W tensorflow/core/grappler/optimizers/meta_optimizer.cc:153] TF_ENABLE_AUTO_MIXED_PRECISION has no effect.\n",
      "2022-01-02 14:04:30.247388: W tensorflow/core/grappler/optimizers/meta_optimizer.cc:153] TF_ENABLE_AUTO_MIXED_PRECISION has no effect.\n",
      "2022-01-02 14:04:40.232200: I tensorflow/core/kernels/data/shuffle_dataset_op.cc:177] Filling up shuffle buffer (this may take a while): 10526 of 70504\n",
      "2022-01-02 14:04:50.231942: I tensorflow/core/kernels/data/shuffle_dataset_op.cc:177] Filling up shuffle buffer (this may take a while): 21215 of 70504\n",
      "2022-01-02 14:05:00.232145: I tensorflow/core/kernels/data/shuffle_dataset_op.cc:177] Filling up shuffle buffer (this may take a while): 31948 of 70504\n",
      "2022-01-02 14:05:10.232948: I tensorflow/core/kernels/data/shuffle_dataset_op.cc:177] Filling up shuffle buffer (this may take a while): 42733 of 70504\n",
      "2022-01-02 14:05:20.233050: I tensorflow/core/kernels/data/shuffle_dataset_op.cc:177] Filling up shuffle buffer (this may take a while): 53479 of 70504\n",
      "2022-01-02 14:05:30.233989: I tensorflow/core/kernels/data/shuffle_dataset_op.cc:177] Filling up shuffle buffer (this may take a while): 64280 of 70504\n",
      "2022-01-02 14:05:35.974054: I tensorflow/core/kernels/data/shuffle_dataset_op.cc:230] Shuffle buffer filled.\n"
     ]
    },
    {
     "name": "stdout",
     "output_type": "stream",
     "text": [
      "Epoch 305, gen_loss: 41263684.0000, disc_loss: -4.5258\n",
      "Time for epoch 305 is 100.7602 sec\n"
     ]
    },
    {
     "name": "stderr",
     "output_type": "stream",
     "text": [
      "2022-01-02 14:06:11.049748: W tensorflow/core/grappler/optimizers/meta_optimizer.cc:153] TF_ENABLE_AUTO_MIXED_PRECISION has no effect.\n",
      "2022-01-02 14:06:11.049801: W tensorflow/core/grappler/optimizers/meta_optimizer.cc:153] TF_ENABLE_AUTO_MIXED_PRECISION has no effect.\n",
      "2022-01-02 14:06:11.049816: W tensorflow/core/grappler/optimizers/meta_optimizer.cc:153] TF_ENABLE_AUTO_MIXED_PRECISION has no effect.\n",
      "2022-01-02 14:06:11.049822: W tensorflow/core/grappler/optimizers/meta_optimizer.cc:153] TF_ENABLE_AUTO_MIXED_PRECISION has no effect.\n",
      "2022-01-02 14:06:21.034982: I tensorflow/core/kernels/data/shuffle_dataset_op.cc:177] Filling up shuffle buffer (this may take a while): 10530 of 70504\n",
      "2022-01-02 14:06:31.033798: I tensorflow/core/kernels/data/shuffle_dataset_op.cc:177] Filling up shuffle buffer (this may take a while): 21249 of 70504\n",
      "2022-01-02 14:06:41.033358: I tensorflow/core/kernels/data/shuffle_dataset_op.cc:177] Filling up shuffle buffer (this may take a while): 32001 of 70504\n",
      "2022-01-02 14:06:51.033409: I tensorflow/core/kernels/data/shuffle_dataset_op.cc:177] Filling up shuffle buffer (this may take a while): 42810 of 70504\n",
      "2022-01-02 14:07:01.034207: I tensorflow/core/kernels/data/shuffle_dataset_op.cc:177] Filling up shuffle buffer (this may take a while): 53583 of 70504\n",
      "2022-01-02 14:07:11.033895: I tensorflow/core/kernels/data/shuffle_dataset_op.cc:177] Filling up shuffle buffer (this may take a while): 64472 of 70504\n",
      "2022-01-02 14:07:16.566481: I tensorflow/core/kernels/data/shuffle_dataset_op.cc:230] Shuffle buffer filled.\n"
     ]
    },
    {
     "name": "stdout",
     "output_type": "stream",
     "text": [
      "Epoch 306, gen_loss: 40254984.0000, disc_loss: -0.0145\n",
      "Time for epoch 306 is 100.5642 sec\n"
     ]
    },
    {
     "name": "stderr",
     "output_type": "stream",
     "text": [
      "2022-01-02 14:07:51.657312: W tensorflow/core/grappler/optimizers/meta_optimizer.cc:153] TF_ENABLE_AUTO_MIXED_PRECISION has no effect.\n",
      "2022-01-02 14:07:51.657365: W tensorflow/core/grappler/optimizers/meta_optimizer.cc:153] TF_ENABLE_AUTO_MIXED_PRECISION has no effect.\n",
      "2022-01-02 14:07:51.657379: W tensorflow/core/grappler/optimizers/meta_optimizer.cc:153] TF_ENABLE_AUTO_MIXED_PRECISION has no effect.\n",
      "2022-01-02 14:07:51.657384: W tensorflow/core/grappler/optimizers/meta_optimizer.cc:153] TF_ENABLE_AUTO_MIXED_PRECISION has no effect.\n",
      "2022-01-02 14:08:01.645521: I tensorflow/core/kernels/data/shuffle_dataset_op.cc:177] Filling up shuffle buffer (this may take a while): 10850 of 70504\n",
      "2022-01-02 14:08:11.644130: I tensorflow/core/kernels/data/shuffle_dataset_op.cc:177] Filling up shuffle buffer (this may take a while): 21815 of 70504\n",
      "2022-01-02 14:08:21.643554: I tensorflow/core/kernels/data/shuffle_dataset_op.cc:177] Filling up shuffle buffer (this may take a while): 32773 of 70504\n",
      "2022-01-02 14:08:31.643333: I tensorflow/core/kernels/data/shuffle_dataset_op.cc:177] Filling up shuffle buffer (this may take a while): 43778 of 70504\n",
      "2022-01-02 14:08:41.643321: I tensorflow/core/kernels/data/shuffle_dataset_op.cc:177] Filling up shuffle buffer (this may take a while): 54752 of 70504\n",
      "2022-01-02 14:08:51.643640: I tensorflow/core/kernels/data/shuffle_dataset_op.cc:177] Filling up shuffle buffer (this may take a while): 65818 of 70504\n",
      "2022-01-02 14:08:55.846297: I tensorflow/core/kernels/data/shuffle_dataset_op.cc:230] Shuffle buffer filled.\n"
     ]
    },
    {
     "name": "stdout",
     "output_type": "stream",
     "text": [
      "Epoch 307, gen_loss: 41462748.0000, disc_loss: -0.0899\n",
      "Time for epoch 307 is 99.2763 sec\n"
     ]
    },
    {
     "name": "stderr",
     "output_type": "stream",
     "text": [
      "2022-01-02 14:09:30.983283: W tensorflow/core/grappler/optimizers/meta_optimizer.cc:153] TF_ENABLE_AUTO_MIXED_PRECISION has no effect.\n",
      "2022-01-02 14:09:30.983338: W tensorflow/core/grappler/optimizers/meta_optimizer.cc:153] TF_ENABLE_AUTO_MIXED_PRECISION has no effect.\n",
      "2022-01-02 14:09:30.983353: W tensorflow/core/grappler/optimizers/meta_optimizer.cc:153] TF_ENABLE_AUTO_MIXED_PRECISION has no effect.\n",
      "2022-01-02 14:09:30.983358: W tensorflow/core/grappler/optimizers/meta_optimizer.cc:153] TF_ENABLE_AUTO_MIXED_PRECISION has no effect.\n",
      "2022-01-02 14:09:40.966722: I tensorflow/core/kernels/data/shuffle_dataset_op.cc:177] Filling up shuffle buffer (this may take a while): 10509 of 70504\n",
      "2022-01-02 14:09:50.966519: I tensorflow/core/kernels/data/shuffle_dataset_op.cc:177] Filling up shuffle buffer (this may take a while): 21188 of 70504\n",
      "2022-01-02 14:10:00.965537: I tensorflow/core/kernels/data/shuffle_dataset_op.cc:177] Filling up shuffle buffer (this may take a while): 31918 of 70504\n",
      "2022-01-02 14:10:10.966498: I tensorflow/core/kernels/data/shuffle_dataset_op.cc:177] Filling up shuffle buffer (this may take a while): 42671 of 70504\n",
      "2022-01-02 14:10:20.965800: I tensorflow/core/kernels/data/shuffle_dataset_op.cc:177] Filling up shuffle buffer (this may take a while): 53352 of 70504\n",
      "2022-01-02 14:10:30.967368: I tensorflow/core/kernels/data/shuffle_dataset_op.cc:177] Filling up shuffle buffer (this may take a while): 64163 of 70504\n",
      "2022-01-02 14:10:36.822144: I tensorflow/core/kernels/data/shuffle_dataset_op.cc:230] Shuffle buffer filled.\n"
     ]
    },
    {
     "name": "stdout",
     "output_type": "stream",
     "text": [
      "Epoch 308, gen_loss: 40681612.0000, disc_loss: 0.0709\n",
      "Time for epoch 308 is 100.8238 sec\n"
     ]
    },
    {
     "name": "stderr",
     "output_type": "stream",
     "text": [
      "2022-01-02 14:11:11.842271: W tensorflow/core/grappler/optimizers/meta_optimizer.cc:153] TF_ENABLE_AUTO_MIXED_PRECISION has no effect.\n",
      "2022-01-02 14:11:11.842317: W tensorflow/core/grappler/optimizers/meta_optimizer.cc:153] TF_ENABLE_AUTO_MIXED_PRECISION has no effect.\n",
      "2022-01-02 14:11:11.842330: W tensorflow/core/grappler/optimizers/meta_optimizer.cc:153] TF_ENABLE_AUTO_MIXED_PRECISION has no effect.\n",
      "2022-01-02 14:11:11.842335: W tensorflow/core/grappler/optimizers/meta_optimizer.cc:153] TF_ENABLE_AUTO_MIXED_PRECISION has no effect.\n",
      "2022-01-02 14:11:21.830196: I tensorflow/core/kernels/data/shuffle_dataset_op.cc:177] Filling up shuffle buffer (this may take a while): 10785 of 70504\n",
      "2022-01-02 14:11:31.829786: I tensorflow/core/kernels/data/shuffle_dataset_op.cc:177] Filling up shuffle buffer (this may take a while): 21733 of 70504\n",
      "2022-01-02 14:11:41.829849: I tensorflow/core/kernels/data/shuffle_dataset_op.cc:177] Filling up shuffle buffer (this may take a while): 32687 of 70504\n",
      "2022-01-02 14:11:51.829864: I tensorflow/core/kernels/data/shuffle_dataset_op.cc:177] Filling up shuffle buffer (this may take a while): 43706 of 70504\n",
      "2022-01-02 14:12:01.830519: I tensorflow/core/kernels/data/shuffle_dataset_op.cc:177] Filling up shuffle buffer (this may take a while): 54715 of 70504\n",
      "2022-01-02 14:12:11.829831: I tensorflow/core/kernels/data/shuffle_dataset_op.cc:177] Filling up shuffle buffer (this may take a while): 65831 of 70504\n",
      "2022-01-02 14:12:16.061122: I tensorflow/core/kernels/data/shuffle_dataset_op.cc:230] Shuffle buffer filled.\n"
     ]
    },
    {
     "name": "stdout",
     "output_type": "stream",
     "text": [
      "Epoch 309, gen_loss: 39585340.0000, disc_loss: 4.2121\n",
      "Time for epoch 309 is 99.3104 sec\n"
     ]
    },
    {
     "name": "stderr",
     "output_type": "stream",
     "text": [
      "2022-01-02 14:12:51.197415: W tensorflow/core/grappler/optimizers/meta_optimizer.cc:153] TF_ENABLE_AUTO_MIXED_PRECISION has no effect.\n",
      "2022-01-02 14:12:51.197468: W tensorflow/core/grappler/optimizers/meta_optimizer.cc:153] TF_ENABLE_AUTO_MIXED_PRECISION has no effect.\n",
      "2022-01-02 14:12:51.197482: W tensorflow/core/grappler/optimizers/meta_optimizer.cc:153] TF_ENABLE_AUTO_MIXED_PRECISION has no effect.\n",
      "2022-01-02 14:12:51.197487: W tensorflow/core/grappler/optimizers/meta_optimizer.cc:153] TF_ENABLE_AUTO_MIXED_PRECISION has no effect.\n",
      "2022-01-02 14:13:01.181959: I tensorflow/core/kernels/data/shuffle_dataset_op.cc:177] Filling up shuffle buffer (this may take a while): 10785 of 70504\n",
      "2022-01-02 14:13:11.181872: I tensorflow/core/kernels/data/shuffle_dataset_op.cc:177] Filling up shuffle buffer (this may take a while): 21760 of 70504\n",
      "2022-01-02 14:13:21.182433: I tensorflow/core/kernels/data/shuffle_dataset_op.cc:177] Filling up shuffle buffer (this may take a while): 32737 of 70504\n",
      "2022-01-02 14:13:31.182458: I tensorflow/core/kernels/data/shuffle_dataset_op.cc:177] Filling up shuffle buffer (this may take a while): 43757 of 70504\n",
      "2022-01-02 14:13:41.181310: I tensorflow/core/kernels/data/shuffle_dataset_op.cc:177] Filling up shuffle buffer (this may take a while): 54785 of 70504\n",
      "2022-01-02 14:13:51.181099: I tensorflow/core/kernels/data/shuffle_dataset_op.cc:177] Filling up shuffle buffer (this may take a while): 65881 of 70504\n",
      "2022-01-02 14:13:55.332486: I tensorflow/core/kernels/data/shuffle_dataset_op.cc:230] Shuffle buffer filled.\n"
     ]
    },
    {
     "name": "stdout",
     "output_type": "stream",
     "text": [
      "Epoch 310, gen_loss: 38684276.0000, disc_loss: -3.7205\n",
      "Time for epoch 310 is 99.1628 sec\n"
     ]
    },
    {
     "name": "stderr",
     "output_type": "stream",
     "text": [
      "2022-01-02 14:14:30.397972: W tensorflow/core/grappler/optimizers/meta_optimizer.cc:153] TF_ENABLE_AUTO_MIXED_PRECISION has no effect.\n",
      "2022-01-02 14:14:30.398033: W tensorflow/core/grappler/optimizers/meta_optimizer.cc:153] TF_ENABLE_AUTO_MIXED_PRECISION has no effect.\n",
      "2022-01-02 14:14:30.398048: W tensorflow/core/grappler/optimizers/meta_optimizer.cc:153] TF_ENABLE_AUTO_MIXED_PRECISION has no effect.\n",
      "2022-01-02 14:14:30.398054: W tensorflow/core/grappler/optimizers/meta_optimizer.cc:153] TF_ENABLE_AUTO_MIXED_PRECISION has no effect.\n",
      "2022-01-02 14:14:40.385500: I tensorflow/core/kernels/data/shuffle_dataset_op.cc:177] Filling up shuffle buffer (this may take a while): 10841 of 70504\n",
      "2022-01-02 14:14:50.409384: I tensorflow/core/kernels/data/shuffle_dataset_op.cc:177] Filling up shuffle buffer (this may take a while): 21851 of 70504\n",
      "2022-01-02 14:15:00.385552: I tensorflow/core/kernels/data/shuffle_dataset_op.cc:177] Filling up shuffle buffer (this may take a while): 32790 of 70504\n",
      "2022-01-02 14:15:10.385344: I tensorflow/core/kernels/data/shuffle_dataset_op.cc:177] Filling up shuffle buffer (this may take a while): 43707 of 70504\n",
      "2022-01-02 14:15:20.386017: I tensorflow/core/kernels/data/shuffle_dataset_op.cc:177] Filling up shuffle buffer (this may take a while): 54678 of 70504\n",
      "2022-01-02 14:15:30.385954: I tensorflow/core/kernels/data/shuffle_dataset_op.cc:177] Filling up shuffle buffer (this may take a while): 65732 of 70504\n",
      "2022-01-02 14:15:34.691588: I tensorflow/core/kernels/data/shuffle_dataset_op.cc:230] Shuffle buffer filled.\n"
     ]
    },
    {
     "name": "stdout",
     "output_type": "stream",
     "text": [
      "Epoch 311, gen_loss: 38497216.0000, disc_loss: -4.3288\n",
      "Time for epoch 311 is 99.2775 sec\n"
     ]
    },
    {
     "name": "stderr",
     "output_type": "stream",
     "text": [
      "2022-01-02 14:16:09.717434: W tensorflow/core/grappler/optimizers/meta_optimizer.cc:153] TF_ENABLE_AUTO_MIXED_PRECISION has no effect.\n",
      "2022-01-02 14:16:09.717486: W tensorflow/core/grappler/optimizers/meta_optimizer.cc:153] TF_ENABLE_AUTO_MIXED_PRECISION has no effect.\n",
      "2022-01-02 14:16:09.717500: W tensorflow/core/grappler/optimizers/meta_optimizer.cc:153] TF_ENABLE_AUTO_MIXED_PRECISION has no effect.\n",
      "2022-01-02 14:16:09.717506: W tensorflow/core/grappler/optimizers/meta_optimizer.cc:153] TF_ENABLE_AUTO_MIXED_PRECISION has no effect.\n",
      "2022-01-02 14:16:19.707712: I tensorflow/core/kernels/data/shuffle_dataset_op.cc:177] Filling up shuffle buffer (this may take a while): 10631 of 70504\n",
      "2022-01-02 14:16:29.707643: I tensorflow/core/kernels/data/shuffle_dataset_op.cc:177] Filling up shuffle buffer (this may take a while): 21338 of 70504\n",
      "2022-01-02 14:16:39.706840: I tensorflow/core/kernels/data/shuffle_dataset_op.cc:177] Filling up shuffle buffer (this may take a while): 32056 of 70504\n",
      "2022-01-02 14:16:49.706667: I tensorflow/core/kernels/data/shuffle_dataset_op.cc:177] Filling up shuffle buffer (this may take a while): 42820 of 70504\n",
      "2022-01-02 14:16:59.707656: I tensorflow/core/kernels/data/shuffle_dataset_op.cc:177] Filling up shuffle buffer (this may take a while): 53554 of 70504\n",
      "2022-01-02 14:17:09.707504: I tensorflow/core/kernels/data/shuffle_dataset_op.cc:177] Filling up shuffle buffer (this may take a while): 64398 of 70504\n",
      "2022-01-02 14:17:15.339120: I tensorflow/core/kernels/data/shuffle_dataset_op.cc:230] Shuffle buffer filled.\n"
     ]
    },
    {
     "name": "stdout",
     "output_type": "stream",
     "text": [
      "Epoch 312, gen_loss: 38497688.0000, disc_loss: 0.4041\n",
      "Time for epoch 312 is 100.6585 sec\n"
     ]
    },
    {
     "name": "stderr",
     "output_type": "stream",
     "text": [
      "2022-01-02 14:17:50.414557: W tensorflow/core/grappler/optimizers/meta_optimizer.cc:153] TF_ENABLE_AUTO_MIXED_PRECISION has no effect.\n",
      "2022-01-02 14:17:50.414697: W tensorflow/core/grappler/optimizers/meta_optimizer.cc:153] TF_ENABLE_AUTO_MIXED_PRECISION has no effect.\n",
      "2022-01-02 14:17:50.414715: W tensorflow/core/grappler/optimizers/meta_optimizer.cc:153] TF_ENABLE_AUTO_MIXED_PRECISION has no effect.\n",
      "2022-01-02 14:17:50.414721: W tensorflow/core/grappler/optimizers/meta_optimizer.cc:153] TF_ENABLE_AUTO_MIXED_PRECISION has no effect.\n",
      "2022-01-02 14:18:00.404059: I tensorflow/core/kernels/data/shuffle_dataset_op.cc:177] Filling up shuffle buffer (this may take a while): 10823 of 70504\n",
      "2022-01-02 14:18:10.404104: I tensorflow/core/kernels/data/shuffle_dataset_op.cc:177] Filling up shuffle buffer (this may take a while): 21789 of 70504\n",
      "2022-01-02 14:18:20.404553: I tensorflow/core/kernels/data/shuffle_dataset_op.cc:177] Filling up shuffle buffer (this may take a while): 32763 of 70504\n",
      "2022-01-02 14:18:30.405583: I tensorflow/core/kernels/data/shuffle_dataset_op.cc:177] Filling up shuffle buffer (this may take a while): 43764 of 70504\n",
      "2022-01-02 14:18:40.404421: I tensorflow/core/kernels/data/shuffle_dataset_op.cc:177] Filling up shuffle buffer (this may take a while): 54763 of 70504\n",
      "2022-01-02 14:18:50.404299: I tensorflow/core/kernels/data/shuffle_dataset_op.cc:177] Filling up shuffle buffer (this may take a while): 65837 of 70504\n",
      "2022-01-02 14:18:54.596810: I tensorflow/core/kernels/data/shuffle_dataset_op.cc:230] Shuffle buffer filled.\n"
     ]
    },
    {
     "name": "stdout",
     "output_type": "stream",
     "text": [
      "Epoch 313, gen_loss: 38940020.0000, disc_loss: -0.3297\n",
      "Time for epoch 313 is 99.2499 sec\n"
     ]
    },
    {
     "name": "stderr",
     "output_type": "stream",
     "text": [
      "2022-01-02 14:19:29.706916: W tensorflow/core/grappler/optimizers/meta_optimizer.cc:153] TF_ENABLE_AUTO_MIXED_PRECISION has no effect.\n",
      "2022-01-02 14:19:29.706959: W tensorflow/core/grappler/optimizers/meta_optimizer.cc:153] TF_ENABLE_AUTO_MIXED_PRECISION has no effect.\n",
      "2022-01-02 14:19:29.706972: W tensorflow/core/grappler/optimizers/meta_optimizer.cc:153] TF_ENABLE_AUTO_MIXED_PRECISION has no effect.\n",
      "2022-01-02 14:19:29.706977: W tensorflow/core/grappler/optimizers/meta_optimizer.cc:153] TF_ENABLE_AUTO_MIXED_PRECISION has no effect.\n",
      "2022-01-02 14:19:39.694559: I tensorflow/core/kernels/data/shuffle_dataset_op.cc:177] Filling up shuffle buffer (this may take a while): 10547 of 70504\n",
      "2022-01-02 14:19:49.694460: I tensorflow/core/kernels/data/shuffle_dataset_op.cc:177] Filling up shuffle buffer (this may take a while): 21250 of 70504\n",
      "2022-01-02 14:19:59.694865: I tensorflow/core/kernels/data/shuffle_dataset_op.cc:177] Filling up shuffle buffer (this may take a while): 31971 of 70504\n",
      "2022-01-02 14:20:09.694633: I tensorflow/core/kernels/data/shuffle_dataset_op.cc:177] Filling up shuffle buffer (this may take a while): 42698 of 70504\n",
      "2022-01-02 14:20:19.694919: I tensorflow/core/kernels/data/shuffle_dataset_op.cc:177] Filling up shuffle buffer (this may take a while): 53435 of 70504\n",
      "2022-01-02 14:20:29.694576: I tensorflow/core/kernels/data/shuffle_dataset_op.cc:177] Filling up shuffle buffer (this may take a while): 64256 of 70504\n",
      "2022-01-02 14:20:35.476039: I tensorflow/core/kernels/data/shuffle_dataset_op.cc:230] Shuffle buffer filled.\n"
     ]
    },
    {
     "name": "stdout",
     "output_type": "stream",
     "text": [
      "Epoch 314, gen_loss: 38854892.0000, disc_loss: 0.0144\n",
      "Time for epoch 314 is 100.8583 sec\n"
     ]
    },
    {
     "name": "stderr",
     "output_type": "stream",
     "text": [
      "2022-01-02 14:21:10.611030: W tensorflow/core/grappler/optimizers/meta_optimizer.cc:153] TF_ENABLE_AUTO_MIXED_PRECISION has no effect.\n",
      "2022-01-02 14:21:10.611081: W tensorflow/core/grappler/optimizers/meta_optimizer.cc:153] TF_ENABLE_AUTO_MIXED_PRECISION has no effect.\n",
      "2022-01-02 14:21:10.611095: W tensorflow/core/grappler/optimizers/meta_optimizer.cc:153] TF_ENABLE_AUTO_MIXED_PRECISION has no effect.\n",
      "2022-01-02 14:21:10.611101: W tensorflow/core/grappler/optimizers/meta_optimizer.cc:153] TF_ENABLE_AUTO_MIXED_PRECISION has no effect.\n",
      "2022-01-02 14:21:20.595853: I tensorflow/core/kernels/data/shuffle_dataset_op.cc:177] Filling up shuffle buffer (this may take a while): 10810 of 70504\n",
      "2022-01-02 14:21:30.595680: I tensorflow/core/kernels/data/shuffle_dataset_op.cc:177] Filling up shuffle buffer (this may take a while): 21795 of 70504\n",
      "2022-01-02 14:21:40.595644: I tensorflow/core/kernels/data/shuffle_dataset_op.cc:177] Filling up shuffle buffer (this may take a while): 32775 of 70504\n",
      "2022-01-02 14:21:50.595643: I tensorflow/core/kernels/data/shuffle_dataset_op.cc:177] Filling up shuffle buffer (this may take a while): 43777 of 70504\n",
      "2022-01-02 14:22:00.595492: I tensorflow/core/kernels/data/shuffle_dataset_op.cc:177] Filling up shuffle buffer (this may take a while): 54777 of 70504\n",
      "2022-01-02 14:22:10.596048: I tensorflow/core/kernels/data/shuffle_dataset_op.cc:177] Filling up shuffle buffer (this may take a while): 65853 of 70504\n",
      "2022-01-02 14:22:14.797461: I tensorflow/core/kernels/data/shuffle_dataset_op.cc:230] Shuffle buffer filled.\n"
     ]
    },
    {
     "name": "stdout",
     "output_type": "stream",
     "text": [
      "Epoch 315, gen_loss: 37221888.0000, disc_loss: 7.8635\n",
      "Time for epoch 315 is 99.3082 sec\n"
     ]
    },
    {
     "name": "stderr",
     "output_type": "stream",
     "text": [
      "2022-01-02 14:22:49.957850: W tensorflow/core/grappler/optimizers/meta_optimizer.cc:153] TF_ENABLE_AUTO_MIXED_PRECISION has no effect.\n",
      "2022-01-02 14:22:49.957902: W tensorflow/core/grappler/optimizers/meta_optimizer.cc:153] TF_ENABLE_AUTO_MIXED_PRECISION has no effect.\n",
      "2022-01-02 14:22:49.957916: W tensorflow/core/grappler/optimizers/meta_optimizer.cc:153] TF_ENABLE_AUTO_MIXED_PRECISION has no effect.\n",
      "2022-01-02 14:22:49.957921: W tensorflow/core/grappler/optimizers/meta_optimizer.cc:153] TF_ENABLE_AUTO_MIXED_PRECISION has no effect.\n",
      "2022-01-02 14:22:59.944368: I tensorflow/core/kernels/data/shuffle_dataset_op.cc:177] Filling up shuffle buffer (this may take a while): 10572 of 70504\n",
      "2022-01-02 14:23:09.945133: I tensorflow/core/kernels/data/shuffle_dataset_op.cc:177] Filling up shuffle buffer (this may take a while): 21278 of 70504\n",
      "2022-01-02 14:23:19.944895: I tensorflow/core/kernels/data/shuffle_dataset_op.cc:177] Filling up shuffle buffer (this may take a while): 32009 of 70504\n",
      "2022-01-02 14:23:29.945309: I tensorflow/core/kernels/data/shuffle_dataset_op.cc:177] Filling up shuffle buffer (this may take a while): 42782 of 70504\n",
      "2022-01-02 14:23:39.944324: I tensorflow/core/kernels/data/shuffle_dataset_op.cc:177] Filling up shuffle buffer (this may take a while): 53499 of 70504\n",
      "2022-01-02 14:23:49.944922: I tensorflow/core/kernels/data/shuffle_dataset_op.cc:177] Filling up shuffle buffer (this may take a while): 64292 of 70504\n",
      "2022-01-02 14:23:55.670701: I tensorflow/core/kernels/data/shuffle_dataset_op.cc:230] Shuffle buffer filled.\n"
     ]
    },
    {
     "name": "stdout",
     "output_type": "stream",
     "text": [
      "Epoch 316, gen_loss: 37749828.0000, disc_loss: 0.4664\n",
      "Time for epoch 316 is 100.7486 sec\n"
     ]
    },
    {
     "name": "stderr",
     "output_type": "stream",
     "text": [
      "2022-01-02 14:24:30.754315: W tensorflow/core/grappler/optimizers/meta_optimizer.cc:153] TF_ENABLE_AUTO_MIXED_PRECISION has no effect.\n",
      "2022-01-02 14:24:30.754630: W tensorflow/core/grappler/optimizers/meta_optimizer.cc:153] TF_ENABLE_AUTO_MIXED_PRECISION has no effect.\n",
      "2022-01-02 14:24:30.754659: W tensorflow/core/grappler/optimizers/meta_optimizer.cc:153] TF_ENABLE_AUTO_MIXED_PRECISION has no effect.\n",
      "2022-01-02 14:24:30.754665: W tensorflow/core/grappler/optimizers/meta_optimizer.cc:153] TF_ENABLE_AUTO_MIXED_PRECISION has no effect.\n",
      "2022-01-02 14:24:40.737919: I tensorflow/core/kernels/data/shuffle_dataset_op.cc:177] Filling up shuffle buffer (this may take a while): 10785 of 70504\n",
      "2022-01-02 14:24:50.737148: I tensorflow/core/kernels/data/shuffle_dataset_op.cc:177] Filling up shuffle buffer (this may take a while): 21721 of 70504\n",
      "2022-01-02 14:25:00.738405: I tensorflow/core/kernels/data/shuffle_dataset_op.cc:177] Filling up shuffle buffer (this may take a while): 32627 of 70504\n",
      "2022-01-02 14:25:10.737169: I tensorflow/core/kernels/data/shuffle_dataset_op.cc:177] Filling up shuffle buffer (this may take a while): 43623 of 70504\n",
      "2022-01-02 14:25:20.738627: I tensorflow/core/kernels/data/shuffle_dataset_op.cc:177] Filling up shuffle buffer (this may take a while): 54589 of 70504\n",
      "2022-01-02 14:25:30.737175: I tensorflow/core/kernels/data/shuffle_dataset_op.cc:177] Filling up shuffle buffer (this may take a while): 65658 of 70504\n",
      "2022-01-02 14:25:35.113786: I tensorflow/core/kernels/data/shuffle_dataset_op.cc:230] Shuffle buffer filled.\n"
     ]
    },
    {
     "name": "stdout",
     "output_type": "stream",
     "text": [
      "Epoch 317, gen_loss: 37680020.0000, disc_loss: 0.3177\n",
      "Time for epoch 317 is 99.3967 sec\n"
     ]
    },
    {
     "name": "stderr",
     "output_type": "stream",
     "text": [
      "2022-01-02 14:26:10.187162: W tensorflow/core/grappler/optimizers/meta_optimizer.cc:153] TF_ENABLE_AUTO_MIXED_PRECISION has no effect.\n",
      "2022-01-02 14:26:10.187211: W tensorflow/core/grappler/optimizers/meta_optimizer.cc:153] TF_ENABLE_AUTO_MIXED_PRECISION has no effect.\n",
      "2022-01-02 14:26:10.187226: W tensorflow/core/grappler/optimizers/meta_optimizer.cc:153] TF_ENABLE_AUTO_MIXED_PRECISION has no effect.\n",
      "2022-01-02 14:26:10.187231: W tensorflow/core/grappler/optimizers/meta_optimizer.cc:153] TF_ENABLE_AUTO_MIXED_PRECISION has no effect.\n",
      "2022-01-02 14:26:20.174594: I tensorflow/core/kernels/data/shuffle_dataset_op.cc:177] Filling up shuffle buffer (this may take a while): 10559 of 70504\n",
      "2022-01-02 14:26:30.176386: I tensorflow/core/kernels/data/shuffle_dataset_op.cc:177] Filling up shuffle buffer (this may take a while): 21185 of 70504\n",
      "2022-01-02 14:26:40.175719: I tensorflow/core/kernels/data/shuffle_dataset_op.cc:177] Filling up shuffle buffer (this may take a while): 31937 of 70504\n",
      "2022-01-02 14:26:50.174844: I tensorflow/core/kernels/data/shuffle_dataset_op.cc:177] Filling up shuffle buffer (this may take a while): 42704 of 70504\n",
      "2022-01-02 14:27:00.174543: I tensorflow/core/kernels/data/shuffle_dataset_op.cc:177] Filling up shuffle buffer (this may take a while): 53426 of 70504\n",
      "2022-01-02 14:27:10.174660: I tensorflow/core/kernels/data/shuffle_dataset_op.cc:177] Filling up shuffle buffer (this may take a while): 64266 of 70504\n",
      "2022-01-02 14:27:15.894940: I tensorflow/core/kernels/data/shuffle_dataset_op.cc:230] Shuffle buffer filled.\n"
     ]
    },
    {
     "name": "stdout",
     "output_type": "stream",
     "text": [
      "Epoch 318, gen_loss: 37408648.0000, disc_loss: 5.4819\n",
      "Time for epoch 318 is 100.7611 sec\n"
     ]
    },
    {
     "name": "stderr",
     "output_type": "stream",
     "text": [
      "2022-01-02 14:27:50.994788: W tensorflow/core/grappler/optimizers/meta_optimizer.cc:153] TF_ENABLE_AUTO_MIXED_PRECISION has no effect.\n",
      "2022-01-02 14:27:50.994838: W tensorflow/core/grappler/optimizers/meta_optimizer.cc:153] TF_ENABLE_AUTO_MIXED_PRECISION has no effect.\n",
      "2022-01-02 14:27:50.994853: W tensorflow/core/grappler/optimizers/meta_optimizer.cc:153] TF_ENABLE_AUTO_MIXED_PRECISION has no effect.\n",
      "2022-01-02 14:27:50.994858: W tensorflow/core/grappler/optimizers/meta_optimizer.cc:153] TF_ENABLE_AUTO_MIXED_PRECISION has no effect.\n",
      "2022-01-02 14:28:00.978732: I tensorflow/core/kernels/data/shuffle_dataset_op.cc:177] Filling up shuffle buffer (this may take a while): 10815 of 70504\n",
      "2022-01-02 14:28:10.978480: I tensorflow/core/kernels/data/shuffle_dataset_op.cc:177] Filling up shuffle buffer (this may take a while): 21803 of 70504\n",
      "2022-01-02 14:28:20.978502: I tensorflow/core/kernels/data/shuffle_dataset_op.cc:177] Filling up shuffle buffer (this may take a while): 32729 of 70504\n",
      "2022-01-02 14:28:30.978877: I tensorflow/core/kernels/data/shuffle_dataset_op.cc:177] Filling up shuffle buffer (this may take a while): 43700 of 70504\n",
      "2022-01-02 14:28:40.980304: I tensorflow/core/kernels/data/shuffle_dataset_op.cc:177] Filling up shuffle buffer (this may take a while): 54690 of 70504\n",
      "2022-01-02 14:28:50.979403: I tensorflow/core/kernels/data/shuffle_dataset_op.cc:177] Filling up shuffle buffer (this may take a while): 65756 of 70504\n",
      "2022-01-02 14:28:55.278359: I tensorflow/core/kernels/data/shuffle_dataset_op.cc:230] Shuffle buffer filled.\n"
     ]
    },
    {
     "name": "stdout",
     "output_type": "stream",
     "text": [
      "Epoch 319, gen_loss: 37307848.0000, disc_loss: 5.2593\n",
      "Time for epoch 319 is 99.3710 sec\n"
     ]
    },
    {
     "name": "stderr",
     "output_type": "stream",
     "text": [
      "2022-01-02 14:29:30.403859: W tensorflow/core/grappler/optimizers/meta_optimizer.cc:153] TF_ENABLE_AUTO_MIXED_PRECISION has no effect.\n",
      "2022-01-02 14:29:30.403913: W tensorflow/core/grappler/optimizers/meta_optimizer.cc:153] TF_ENABLE_AUTO_MIXED_PRECISION has no effect.\n",
      "2022-01-02 14:29:30.403927: W tensorflow/core/grappler/optimizers/meta_optimizer.cc:153] TF_ENABLE_AUTO_MIXED_PRECISION has no effect.\n",
      "2022-01-02 14:29:30.403933: W tensorflow/core/grappler/optimizers/meta_optimizer.cc:153] TF_ENABLE_AUTO_MIXED_PRECISION has no effect.\n",
      "2022-01-02 14:29:40.392816: I tensorflow/core/kernels/data/shuffle_dataset_op.cc:177] Filling up shuffle buffer (this may take a while): 10579 of 70504\n",
      "2022-01-02 14:29:50.393356: I tensorflow/core/kernels/data/shuffle_dataset_op.cc:177] Filling up shuffle buffer (this may take a while): 21299 of 70504\n",
      "2022-01-02 14:30:00.392893: I tensorflow/core/kernels/data/shuffle_dataset_op.cc:177] Filling up shuffle buffer (this may take a while): 32029 of 70504\n",
      "2022-01-02 14:30:10.392759: I tensorflow/core/kernels/data/shuffle_dataset_op.cc:177] Filling up shuffle buffer (this may take a while): 42809 of 70504\n",
      "2022-01-02 14:30:20.393265: I tensorflow/core/kernels/data/shuffle_dataset_op.cc:177] Filling up shuffle buffer (this may take a while): 53529 of 70504\n",
      "2022-01-02 14:30:30.393017: I tensorflow/core/kernels/data/shuffle_dataset_op.cc:177] Filling up shuffle buffer (this may take a while): 64366 of 70504\n",
      "2022-01-02 14:30:36.059013: I tensorflow/core/kernels/data/shuffle_dataset_op.cc:230] Shuffle buffer filled.\n"
     ]
    },
    {
     "name": "stdout",
     "output_type": "stream",
     "text": [
      "Epoch 320, gen_loss: nan, disc_loss: nan\n",
      "Time for epoch 320 is 100.7019 sec\n"
     ]
    },
    {
     "name": "stderr",
     "output_type": "stream",
     "text": [
      "2022-01-02 14:31:11.146130: W tensorflow/core/grappler/optimizers/meta_optimizer.cc:153] TF_ENABLE_AUTO_MIXED_PRECISION has no effect.\n",
      "2022-01-02 14:31:11.146183: W tensorflow/core/grappler/optimizers/meta_optimizer.cc:153] TF_ENABLE_AUTO_MIXED_PRECISION has no effect.\n",
      "2022-01-02 14:31:11.146198: W tensorflow/core/grappler/optimizers/meta_optimizer.cc:153] TF_ENABLE_AUTO_MIXED_PRECISION has no effect.\n",
      "2022-01-02 14:31:11.146204: W tensorflow/core/grappler/optimizers/meta_optimizer.cc:153] TF_ENABLE_AUTO_MIXED_PRECISION has no effect.\n",
      "2022-01-02 14:31:21.129358: I tensorflow/core/kernels/data/shuffle_dataset_op.cc:177] Filling up shuffle buffer (this may take a while): 10748 of 70504\n",
      "2022-01-02 14:31:31.129065: I tensorflow/core/kernels/data/shuffle_dataset_op.cc:177] Filling up shuffle buffer (this may take a while): 21653 of 70504\n",
      "2022-01-02 14:31:41.130501: I tensorflow/core/kernels/data/shuffle_dataset_op.cc:177] Filling up shuffle buffer (this may take a while): 32562 of 70504\n",
      "2022-01-02 14:31:51.129380: I tensorflow/core/kernels/data/shuffle_dataset_op.cc:177] Filling up shuffle buffer (this may take a while): 43495 of 70504\n",
      "2022-01-02 14:32:01.131085: I tensorflow/core/kernels/data/shuffle_dataset_op.cc:177] Filling up shuffle buffer (this may take a while): 54446 of 70504\n",
      "2022-01-02 14:32:11.129307: I tensorflow/core/kernels/data/shuffle_dataset_op.cc:177] Filling up shuffle buffer (this may take a while): 65397 of 70504\n",
      "2022-01-02 14:32:15.737518: I tensorflow/core/kernels/data/shuffle_dataset_op.cc:230] Shuffle buffer filled.\n"
     ]
    },
    {
     "name": "stdout",
     "output_type": "stream",
     "text": [
      "Epoch 321, gen_loss: nan, disc_loss: nan\n",
      "Time for epoch 321 is 99.6313 sec\n"
     ]
    },
    {
     "name": "stderr",
     "output_type": "stream",
     "text": [
      "2022-01-02 14:32:50.812508: W tensorflow/core/grappler/optimizers/meta_optimizer.cc:153] TF_ENABLE_AUTO_MIXED_PRECISION has no effect.\n",
      "2022-01-02 14:32:50.812560: W tensorflow/core/grappler/optimizers/meta_optimizer.cc:153] TF_ENABLE_AUTO_MIXED_PRECISION has no effect.\n",
      "2022-01-02 14:32:50.812572: W tensorflow/core/grappler/optimizers/meta_optimizer.cc:153] TF_ENABLE_AUTO_MIXED_PRECISION has no effect.\n",
      "2022-01-02 14:32:50.812577: W tensorflow/core/grappler/optimizers/meta_optimizer.cc:153] TF_ENABLE_AUTO_MIXED_PRECISION has no effect.\n",
      "2022-01-02 14:33:00.799131: I tensorflow/core/kernels/data/shuffle_dataset_op.cc:177] Filling up shuffle buffer (this may take a while): 10581 of 70504\n",
      "2022-01-02 14:33:10.796983: I tensorflow/core/kernels/data/shuffle_dataset_op.cc:177] Filling up shuffle buffer (this may take a while): 21311 of 70504\n",
      "2022-01-02 14:33:20.797463: I tensorflow/core/kernels/data/shuffle_dataset_op.cc:177] Filling up shuffle buffer (this may take a while): 32045 of 70504\n",
      "2022-01-02 14:33:30.797872: I tensorflow/core/kernels/data/shuffle_dataset_op.cc:177] Filling up shuffle buffer (this may take a while): 42820 of 70504\n",
      "2022-01-02 14:33:40.796765: I tensorflow/core/kernels/data/shuffle_dataset_op.cc:177] Filling up shuffle buffer (this may take a while): 53534 of 70504\n",
      "2022-01-02 14:33:50.796485: I tensorflow/core/kernels/data/shuffle_dataset_op.cc:177] Filling up shuffle buffer (this may take a while): 64367 of 70504\n",
      "2022-01-02 14:33:56.428125: I tensorflow/core/kernels/data/shuffle_dataset_op.cc:230] Shuffle buffer filled.\n"
     ]
    },
    {
     "name": "stdout",
     "output_type": "stream",
     "text": [
      "Epoch 322, gen_loss: nan, disc_loss: nan\n",
      "Time for epoch 322 is 100.6257 sec\n"
     ]
    },
    {
     "name": "stderr",
     "output_type": "stream",
     "text": [
      "2022-01-02 14:34:31.473570: W tensorflow/core/grappler/optimizers/meta_optimizer.cc:153] TF_ENABLE_AUTO_MIXED_PRECISION has no effect.\n",
      "2022-01-02 14:34:31.473620: W tensorflow/core/grappler/optimizers/meta_optimizer.cc:153] TF_ENABLE_AUTO_MIXED_PRECISION has no effect.\n",
      "2022-01-02 14:34:31.473634: W tensorflow/core/grappler/optimizers/meta_optimizer.cc:153] TF_ENABLE_AUTO_MIXED_PRECISION has no effect.\n",
      "2022-01-02 14:34:31.473640: W tensorflow/core/grappler/optimizers/meta_optimizer.cc:153] TF_ENABLE_AUTO_MIXED_PRECISION has no effect.\n",
      "2022-01-02 14:34:41.460292: I tensorflow/core/kernels/data/shuffle_dataset_op.cc:177] Filling up shuffle buffer (this may take a while): 10830 of 70504\n",
      "2022-01-02 14:34:51.459150: I tensorflow/core/kernels/data/shuffle_dataset_op.cc:177] Filling up shuffle buffer (this may take a while): 21807 of 70504\n",
      "2022-01-02 14:35:01.459672: I tensorflow/core/kernels/data/shuffle_dataset_op.cc:177] Filling up shuffle buffer (this may take a while): 32775 of 70504\n",
      "2022-01-02 14:35:11.459613: I tensorflow/core/kernels/data/shuffle_dataset_op.cc:177] Filling up shuffle buffer (this may take a while): 43758 of 70504\n",
      "2022-01-02 14:35:21.461078: I tensorflow/core/kernels/data/shuffle_dataset_op.cc:177] Filling up shuffle buffer (this may take a while): 54715 of 70504\n",
      "2022-01-02 14:35:31.459374: I tensorflow/core/kernels/data/shuffle_dataset_op.cc:177] Filling up shuffle buffer (this may take a while): 65760 of 70504\n",
      "2022-01-02 14:35:35.740884: I tensorflow/core/kernels/data/shuffle_dataset_op.cc:230] Shuffle buffer filled.\n"
     ]
    },
    {
     "name": "stdout",
     "output_type": "stream",
     "text": [
      "Epoch 323, gen_loss: nan, disc_loss: nan\n",
      "Time for epoch 323 is 99.2089 sec\n"
     ]
    },
    {
     "name": "stderr",
     "output_type": "stream",
     "text": [
      "2022-01-02 14:36:10.716278: W tensorflow/core/grappler/optimizers/meta_optimizer.cc:153] TF_ENABLE_AUTO_MIXED_PRECISION has no effect.\n",
      "2022-01-02 14:36:10.716331: W tensorflow/core/grappler/optimizers/meta_optimizer.cc:153] TF_ENABLE_AUTO_MIXED_PRECISION has no effect.\n",
      "2022-01-02 14:36:10.716344: W tensorflow/core/grappler/optimizers/meta_optimizer.cc:153] TF_ENABLE_AUTO_MIXED_PRECISION has no effect.\n",
      "2022-01-02 14:36:10.716349: W tensorflow/core/grappler/optimizers/meta_optimizer.cc:153] TF_ENABLE_AUTO_MIXED_PRECISION has no effect.\n",
      "2022-01-02 14:36:20.703342: I tensorflow/core/kernels/data/shuffle_dataset_op.cc:177] Filling up shuffle buffer (this may take a while): 10609 of 70504\n",
      "2022-01-02 14:36:30.702013: I tensorflow/core/kernels/data/shuffle_dataset_op.cc:177] Filling up shuffle buffer (this may take a while): 21334 of 70504\n",
      "2022-01-02 14:36:40.701966: I tensorflow/core/kernels/data/shuffle_dataset_op.cc:177] Filling up shuffle buffer (this may take a while): 32085 of 70504\n",
      "2022-01-02 14:36:50.702978: I tensorflow/core/kernels/data/shuffle_dataset_op.cc:177] Filling up shuffle buffer (this may take a while): 42828 of 70504\n",
      "2022-01-02 14:37:00.702775: I tensorflow/core/kernels/data/shuffle_dataset_op.cc:177] Filling up shuffle buffer (this may take a while): 53553 of 70504\n",
      "2022-01-02 14:37:10.703281: I tensorflow/core/kernels/data/shuffle_dataset_op.cc:177] Filling up shuffle buffer (this may take a while): 64335 of 70504\n",
      "2022-01-02 14:37:16.414411: I tensorflow/core/kernels/data/shuffle_dataset_op.cc:230] Shuffle buffer filled.\n"
     ]
    },
    {
     "name": "stdout",
     "output_type": "stream",
     "text": [
      "Epoch 324, gen_loss: nan, disc_loss: nan\n",
      "Time for epoch 324 is 100.6991 sec\n"
     ]
    },
    {
     "name": "stderr",
     "output_type": "stream",
     "text": [
      "2022-01-02 14:37:51.456576: W tensorflow/core/grappler/optimizers/meta_optimizer.cc:153] TF_ENABLE_AUTO_MIXED_PRECISION has no effect.\n",
      "2022-01-02 14:37:51.456627: W tensorflow/core/grappler/optimizers/meta_optimizer.cc:153] TF_ENABLE_AUTO_MIXED_PRECISION has no effect.\n",
      "2022-01-02 14:37:51.456641: W tensorflow/core/grappler/optimizers/meta_optimizer.cc:153] TF_ENABLE_AUTO_MIXED_PRECISION has no effect.\n",
      "2022-01-02 14:37:51.456646: W tensorflow/core/grappler/optimizers/meta_optimizer.cc:153] TF_ENABLE_AUTO_MIXED_PRECISION has no effect.\n",
      "2022-01-02 14:38:01.438271: I tensorflow/core/kernels/data/shuffle_dataset_op.cc:177] Filling up shuffle buffer (this may take a while): 10777 of 70504\n",
      "2022-01-02 14:38:11.437996: I tensorflow/core/kernels/data/shuffle_dataset_op.cc:177] Filling up shuffle buffer (this may take a while): 21736 of 70504\n",
      "2022-01-02 14:38:21.439295: I tensorflow/core/kernels/data/shuffle_dataset_op.cc:177] Filling up shuffle buffer (this may take a while): 32671 of 70504\n",
      "2022-01-02 14:38:31.439974: I tensorflow/core/kernels/data/shuffle_dataset_op.cc:177] Filling up shuffle buffer (this may take a while): 43653 of 70504\n",
      "2022-01-02 14:38:41.439255: I tensorflow/core/kernels/data/shuffle_dataset_op.cc:177] Filling up shuffle buffer (this may take a while): 54622 of 70504\n",
      "2022-01-02 14:38:51.439046: I tensorflow/core/kernels/data/shuffle_dataset_op.cc:177] Filling up shuffle buffer (this may take a while): 65645 of 70504\n",
      "2022-01-02 14:38:55.805588: I tensorflow/core/kernels/data/shuffle_dataset_op.cc:230] Shuffle buffer filled.\n"
     ]
    },
    {
     "name": "stdout",
     "output_type": "stream",
     "text": [
      "Epoch 325, gen_loss: nan, disc_loss: nan\n",
      "Time for epoch 325 is 99.3681 sec\n"
     ]
    },
    {
     "name": "stderr",
     "output_type": "stream",
     "text": [
      "2022-01-02 14:39:30.852185: W tensorflow/core/grappler/optimizers/meta_optimizer.cc:153] TF_ENABLE_AUTO_MIXED_PRECISION has no effect.\n",
      "2022-01-02 14:39:30.852237: W tensorflow/core/grappler/optimizers/meta_optimizer.cc:153] TF_ENABLE_AUTO_MIXED_PRECISION has no effect.\n",
      "2022-01-02 14:39:30.852250: W tensorflow/core/grappler/optimizers/meta_optimizer.cc:153] TF_ENABLE_AUTO_MIXED_PRECISION has no effect.\n",
      "2022-01-02 14:39:30.852256: W tensorflow/core/grappler/optimizers/meta_optimizer.cc:153] TF_ENABLE_AUTO_MIXED_PRECISION has no effect.\n",
      "2022-01-02 14:39:40.839497: I tensorflow/core/kernels/data/shuffle_dataset_op.cc:177] Filling up shuffle buffer (this may take a while): 10820 of 70504\n",
      "2022-01-02 14:39:50.839541: I tensorflow/core/kernels/data/shuffle_dataset_op.cc:177] Filling up shuffle buffer (this may take a while): 21792 of 70504\n",
      "2022-01-02 14:40:00.839733: I tensorflow/core/kernels/data/shuffle_dataset_op.cc:177] Filling up shuffle buffer (this may take a while): 32736 of 70504\n",
      "2022-01-02 14:40:10.839581: I tensorflow/core/kernels/data/shuffle_dataset_op.cc:177] Filling up shuffle buffer (this may take a while): 43755 of 70504\n",
      "2022-01-02 14:40:20.839030: I tensorflow/core/kernels/data/shuffle_dataset_op.cc:177] Filling up shuffle buffer (this may take a while): 54739 of 70504\n",
      "2022-01-02 14:40:30.839062: I tensorflow/core/kernels/data/shuffle_dataset_op.cc:177] Filling up shuffle buffer (this may take a while): 65816 of 70504\n",
      "2022-01-02 14:40:35.057914: I tensorflow/core/kernels/data/shuffle_dataset_op.cc:230] Shuffle buffer filled.\n"
     ]
    },
    {
     "name": "stdout",
     "output_type": "stream",
     "text": [
      "Epoch 326, gen_loss: nan, disc_loss: nan\n",
      "Time for epoch 326 is 99.1495 sec\n"
     ]
    },
    {
     "name": "stderr",
     "output_type": "stream",
     "text": [
      "2022-01-02 14:41:10.045992: W tensorflow/core/grappler/optimizers/meta_optimizer.cc:153] TF_ENABLE_AUTO_MIXED_PRECISION has no effect.\n",
      "2022-01-02 14:41:10.046048: W tensorflow/core/grappler/optimizers/meta_optimizer.cc:153] TF_ENABLE_AUTO_MIXED_PRECISION has no effect.\n",
      "2022-01-02 14:41:10.046061: W tensorflow/core/grappler/optimizers/meta_optimizer.cc:153] TF_ENABLE_AUTO_MIXED_PRECISION has no effect.\n",
      "2022-01-02 14:41:10.046067: W tensorflow/core/grappler/optimizers/meta_optimizer.cc:153] TF_ENABLE_AUTO_MIXED_PRECISION has no effect.\n",
      "2022-01-02 14:41:20.026446: I tensorflow/core/kernels/data/shuffle_dataset_op.cc:177] Filling up shuffle buffer (this may take a while): 10794 of 70504\n",
      "2022-01-02 14:41:30.025985: I tensorflow/core/kernels/data/shuffle_dataset_op.cc:177] Filling up shuffle buffer (this may take a while): 21775 of 70504\n",
      "2022-01-02 14:41:40.025786: I tensorflow/core/kernels/data/shuffle_dataset_op.cc:177] Filling up shuffle buffer (this may take a while): 32717 of 70504\n",
      "2022-01-02 14:41:50.025659: I tensorflow/core/kernels/data/shuffle_dataset_op.cc:177] Filling up shuffle buffer (this may take a while): 43683 of 70504\n",
      "2022-01-02 14:42:00.027332: I tensorflow/core/kernels/data/shuffle_dataset_op.cc:177] Filling up shuffle buffer (this may take a while): 54690 of 70504\n",
      "2022-01-02 14:42:10.026395: I tensorflow/core/kernels/data/shuffle_dataset_op.cc:177] Filling up shuffle buffer (this may take a while): 65758 of 70504\n",
      "2022-01-02 14:42:14.371001: I tensorflow/core/kernels/data/shuffle_dataset_op.cc:230] Shuffle buffer filled.\n"
     ]
    },
    {
     "name": "stdout",
     "output_type": "stream",
     "text": [
      "Epoch 327, gen_loss: nan, disc_loss: nan\n",
      "Time for epoch 327 is 99.3565 sec\n"
     ]
    },
    {
     "name": "stderr",
     "output_type": "stream",
     "text": [
      "2022-01-02 14:42:49.428969: W tensorflow/core/grappler/optimizers/meta_optimizer.cc:153] TF_ENABLE_AUTO_MIXED_PRECISION has no effect.\n",
      "2022-01-02 14:42:49.429020: W tensorflow/core/grappler/optimizers/meta_optimizer.cc:153] TF_ENABLE_AUTO_MIXED_PRECISION has no effect.\n",
      "2022-01-02 14:42:49.429038: W tensorflow/core/grappler/optimizers/meta_optimizer.cc:153] TF_ENABLE_AUTO_MIXED_PRECISION has no effect.\n",
      "2022-01-02 14:42:49.429043: W tensorflow/core/grappler/optimizers/meta_optimizer.cc:153] TF_ENABLE_AUTO_MIXED_PRECISION has no effect.\n",
      "2022-01-02 14:42:59.416102: I tensorflow/core/kernels/data/shuffle_dataset_op.cc:177] Filling up shuffle buffer (this may take a while): 10835 of 70504\n",
      "2022-01-02 14:43:09.416540: I tensorflow/core/kernels/data/shuffle_dataset_op.cc:177] Filling up shuffle buffer (this may take a while): 21807 of 70504\n",
      "2022-01-02 14:43:19.416155: I tensorflow/core/kernels/data/shuffle_dataset_op.cc:177] Filling up shuffle buffer (this may take a while): 32762 of 70504\n",
      "2022-01-02 14:43:29.416903: I tensorflow/core/kernels/data/shuffle_dataset_op.cc:177] Filling up shuffle buffer (this may take a while): 43732 of 70504\n",
      "2022-01-02 14:43:39.416255: I tensorflow/core/kernels/data/shuffle_dataset_op.cc:177] Filling up shuffle buffer (this may take a while): 54713 of 70504\n",
      "2022-01-02 14:43:49.416362: I tensorflow/core/kernels/data/shuffle_dataset_op.cc:177] Filling up shuffle buffer (this may take a while): 65769 of 70504\n",
      "2022-01-02 14:43:53.689800: I tensorflow/core/kernels/data/shuffle_dataset_op.cc:230] Shuffle buffer filled.\n"
     ]
    },
    {
     "name": "stdout",
     "output_type": "stream",
     "text": [
      "Epoch 328, gen_loss: nan, disc_loss: nan\n",
      "Time for epoch 328 is 99.3178 sec\n"
     ]
    },
    {
     "name": "stderr",
     "output_type": "stream",
     "text": [
      "2022-01-02 14:44:28.780700: W tensorflow/core/grappler/optimizers/meta_optimizer.cc:153] TF_ENABLE_AUTO_MIXED_PRECISION has no effect.\n",
      "2022-01-02 14:44:28.780752: W tensorflow/core/grappler/optimizers/meta_optimizer.cc:153] TF_ENABLE_AUTO_MIXED_PRECISION has no effect.\n",
      "2022-01-02 14:44:28.780766: W tensorflow/core/grappler/optimizers/meta_optimizer.cc:153] TF_ENABLE_AUTO_MIXED_PRECISION has no effect.\n",
      "2022-01-02 14:44:28.780772: W tensorflow/core/grappler/optimizers/meta_optimizer.cc:153] TF_ENABLE_AUTO_MIXED_PRECISION has no effect.\n",
      "2022-01-02 14:44:38.768306: I tensorflow/core/kernels/data/shuffle_dataset_op.cc:177] Filling up shuffle buffer (this may take a while): 10807 of 70504\n",
      "2022-01-02 14:44:48.792846: I tensorflow/core/kernels/data/shuffle_dataset_op.cc:177] Filling up shuffle buffer (this may take a while): 21805 of 70504\n",
      "2022-01-02 14:44:58.768123: I tensorflow/core/kernels/data/shuffle_dataset_op.cc:177] Filling up shuffle buffer (this may take a while): 32719 of 70504\n",
      "2022-01-02 14:45:08.767709: I tensorflow/core/kernels/data/shuffle_dataset_op.cc:177] Filling up shuffle buffer (this may take a while): 43665 of 70504\n",
      "2022-01-02 14:45:18.767861: I tensorflow/core/kernels/data/shuffle_dataset_op.cc:177] Filling up shuffle buffer (this may take a while): 54609 of 70504\n",
      "2022-01-02 14:45:28.767403: I tensorflow/core/kernels/data/shuffle_dataset_op.cc:177] Filling up shuffle buffer (this may take a while): 65628 of 70504\n",
      "2022-01-02 14:45:33.172796: I tensorflow/core/kernels/data/shuffle_dataset_op.cc:230] Shuffle buffer filled.\n"
     ]
    },
    {
     "name": "stdout",
     "output_type": "stream",
     "text": [
      "Epoch 329, gen_loss: nan, disc_loss: nan\n",
      "Time for epoch 329 is 99.3932 sec\n"
     ]
    },
    {
     "name": "stderr",
     "output_type": "stream",
     "text": [
      "2022-01-02 14:46:08.206533: W tensorflow/core/grappler/optimizers/meta_optimizer.cc:153] TF_ENABLE_AUTO_MIXED_PRECISION has no effect.\n",
      "2022-01-02 14:46:08.206586: W tensorflow/core/grappler/optimizers/meta_optimizer.cc:153] TF_ENABLE_AUTO_MIXED_PRECISION has no effect.\n",
      "2022-01-02 14:46:08.206600: W tensorflow/core/grappler/optimizers/meta_optimizer.cc:153] TF_ENABLE_AUTO_MIXED_PRECISION has no effect.\n",
      "2022-01-02 14:46:08.206605: W tensorflow/core/grappler/optimizers/meta_optimizer.cc:153] TF_ENABLE_AUTO_MIXED_PRECISION has no effect.\n",
      "2022-01-02 14:46:18.208465: I tensorflow/core/kernels/data/shuffle_dataset_op.cc:177] Filling up shuffle buffer (this may take a while): 10851 of 70504\n",
      "2022-01-02 14:46:28.196789: I tensorflow/core/kernels/data/shuffle_dataset_op.cc:177] Filling up shuffle buffer (this may take a while): 21845 of 70504\n",
      "2022-01-02 14:46:38.196435: I tensorflow/core/kernels/data/shuffle_dataset_op.cc:177] Filling up shuffle buffer (this may take a while): 32738 of 70504\n",
      "2022-01-02 14:46:48.196037: I tensorflow/core/kernels/data/shuffle_dataset_op.cc:177] Filling up shuffle buffer (this may take a while): 43715 of 70504\n",
      "2022-01-02 14:46:58.195945: I tensorflow/core/kernels/data/shuffle_dataset_op.cc:177] Filling up shuffle buffer (this may take a while): 54673 of 70504\n",
      "2022-01-02 14:47:08.196220: I tensorflow/core/kernels/data/shuffle_dataset_op.cc:177] Filling up shuffle buffer (this may take a while): 65721 of 70504\n",
      "2022-01-02 14:47:12.522072: I tensorflow/core/kernels/data/shuffle_dataset_op.cc:230] Shuffle buffer filled.\n"
     ]
    },
    {
     "name": "stdout",
     "output_type": "stream",
     "text": [
      "Epoch 330, gen_loss: nan, disc_loss: nan\n",
      "Time for epoch 330 is 99.2957 sec\n"
     ]
    },
    {
     "name": "stderr",
     "output_type": "stream",
     "text": [
      "2022-01-02 14:47:47.539795: W tensorflow/core/grappler/optimizers/meta_optimizer.cc:153] TF_ENABLE_AUTO_MIXED_PRECISION has no effect.\n",
      "2022-01-02 14:47:47.539846: W tensorflow/core/grappler/optimizers/meta_optimizer.cc:153] TF_ENABLE_AUTO_MIXED_PRECISION has no effect.\n",
      "2022-01-02 14:47:47.539860: W tensorflow/core/grappler/optimizers/meta_optimizer.cc:153] TF_ENABLE_AUTO_MIXED_PRECISION has no effect.\n",
      "2022-01-02 14:47:47.539865: W tensorflow/core/grappler/optimizers/meta_optimizer.cc:153] TF_ENABLE_AUTO_MIXED_PRECISION has no effect.\n",
      "2022-01-02 14:47:57.525054: I tensorflow/core/kernels/data/shuffle_dataset_op.cc:177] Filling up shuffle buffer (this may take a while): 10877 of 70504\n",
      "2022-01-02 14:48:07.525678: I tensorflow/core/kernels/data/shuffle_dataset_op.cc:177] Filling up shuffle buffer (this may take a while): 21781 of 70504\n",
      "2022-01-02 14:48:17.525264: I tensorflow/core/kernels/data/shuffle_dataset_op.cc:177] Filling up shuffle buffer (this may take a while): 32709 of 70504\n",
      "2022-01-02 14:48:27.525223: I tensorflow/core/kernels/data/shuffle_dataset_op.cc:177] Filling up shuffle buffer (this may take a while): 43697 of 70504\n",
      "2022-01-02 14:48:37.524854: I tensorflow/core/kernels/data/shuffle_dataset_op.cc:177] Filling up shuffle buffer (this may take a while): 54677 of 70504\n",
      "2022-01-02 14:48:47.524716: I tensorflow/core/kernels/data/shuffle_dataset_op.cc:177] Filling up shuffle buffer (this may take a while): 65722 of 70504\n",
      "2022-01-02 14:48:51.855860: I tensorflow/core/kernels/data/shuffle_dataset_op.cc:230] Shuffle buffer filled.\n"
     ]
    },
    {
     "name": "stdout",
     "output_type": "stream",
     "text": [
      "Epoch 331, gen_loss: nan, disc_loss: nan\n",
      "Time for epoch 331 is 99.3919 sec\n"
     ]
    },
    {
     "name": "stderr",
     "output_type": "stream",
     "text": [
      "2022-01-02 14:49:26.967628: W tensorflow/core/grappler/optimizers/meta_optimizer.cc:153] TF_ENABLE_AUTO_MIXED_PRECISION has no effect.\n",
      "2022-01-02 14:49:26.967670: W tensorflow/core/grappler/optimizers/meta_optimizer.cc:153] TF_ENABLE_AUTO_MIXED_PRECISION has no effect.\n",
      "2022-01-02 14:49:26.967685: W tensorflow/core/grappler/optimizers/meta_optimizer.cc:153] TF_ENABLE_AUTO_MIXED_PRECISION has no effect.\n",
      "2022-01-02 14:49:26.967690: W tensorflow/core/grappler/optimizers/meta_optimizer.cc:153] TF_ENABLE_AUTO_MIXED_PRECISION has no effect.\n",
      "2022-01-02 14:49:36.952175: I tensorflow/core/kernels/data/shuffle_dataset_op.cc:177] Filling up shuffle buffer (this may take a while): 10666 of 70504\n",
      "2022-01-02 14:49:46.952163: I tensorflow/core/kernels/data/shuffle_dataset_op.cc:177] Filling up shuffle buffer (this may take a while): 21398 of 70504\n",
      "2022-01-02 14:49:56.951991: I tensorflow/core/kernels/data/shuffle_dataset_op.cc:177] Filling up shuffle buffer (this may take a while): 32168 of 70504\n",
      "2022-01-02 14:50:06.952273: I tensorflow/core/kernels/data/shuffle_dataset_op.cc:177] Filling up shuffle buffer (this may take a while): 42949 of 70504\n",
      "2022-01-02 14:50:16.952700: I tensorflow/core/kernels/data/shuffle_dataset_op.cc:177] Filling up shuffle buffer (this may take a while): 53711 of 70504\n",
      "2022-01-02 14:50:26.952573: I tensorflow/core/kernels/data/shuffle_dataset_op.cc:177] Filling up shuffle buffer (this may take a while): 64551 of 70504\n",
      "2022-01-02 14:50:32.440537: I tensorflow/core/kernels/data/shuffle_dataset_op.cc:230] Shuffle buffer filled.\n"
     ]
    },
    {
     "name": "stdout",
     "output_type": "stream",
     "text": [
      "Epoch 332, gen_loss: nan, disc_loss: nan\n",
      "Time for epoch 332 is 100.4379 sec\n"
     ]
    },
    {
     "name": "stderr",
     "output_type": "stream",
     "text": [
      "2022-01-02 14:51:07.436531: W tensorflow/core/grappler/optimizers/meta_optimizer.cc:153] TF_ENABLE_AUTO_MIXED_PRECISION has no effect.\n",
      "2022-01-02 14:51:07.436585: W tensorflow/core/grappler/optimizers/meta_optimizer.cc:153] TF_ENABLE_AUTO_MIXED_PRECISION has no effect.\n",
      "2022-01-02 14:51:07.436599: W tensorflow/core/grappler/optimizers/meta_optimizer.cc:153] TF_ENABLE_AUTO_MIXED_PRECISION has no effect.\n",
      "2022-01-02 14:51:07.436604: W tensorflow/core/grappler/optimizers/meta_optimizer.cc:153] TF_ENABLE_AUTO_MIXED_PRECISION has no effect.\n",
      "2022-01-02 14:51:17.421207: I tensorflow/core/kernels/data/shuffle_dataset_op.cc:177] Filling up shuffle buffer (this may take a while): 10818 of 70504\n",
      "2022-01-02 14:51:27.421230: I tensorflow/core/kernels/data/shuffle_dataset_op.cc:177] Filling up shuffle buffer (this may take a while): 21823 of 70504\n",
      "2022-01-02 14:51:37.421360: I tensorflow/core/kernels/data/shuffle_dataset_op.cc:177] Filling up shuffle buffer (this may take a while): 32782 of 70504\n",
      "2022-01-02 14:51:47.421669: I tensorflow/core/kernels/data/shuffle_dataset_op.cc:177] Filling up shuffle buffer (this may take a while): 43809 of 70504\n",
      "2022-01-02 14:51:57.422531: I tensorflow/core/kernels/data/shuffle_dataset_op.cc:177] Filling up shuffle buffer (this may take a while): 54832 of 70504\n",
      "2022-01-02 14:52:07.422956: I tensorflow/core/kernels/data/shuffle_dataset_op.cc:177] Filling up shuffle buffer (this may take a while): 65869 of 70504\n",
      "2022-01-02 14:52:11.590435: I tensorflow/core/kernels/data/shuffle_dataset_op.cc:230] Shuffle buffer filled.\n"
     ]
    },
    {
     "name": "stdout",
     "output_type": "stream",
     "text": [
      "Epoch 333, gen_loss: nan, disc_loss: nan\n",
      "Time for epoch 333 is 99.1240 sec\n"
     ]
    },
    {
     "name": "stderr",
     "output_type": "stream",
     "text": [
      "2022-01-02 14:52:46.591747: W tensorflow/core/grappler/optimizers/meta_optimizer.cc:153] TF_ENABLE_AUTO_MIXED_PRECISION has no effect.\n",
      "2022-01-02 14:52:46.591798: W tensorflow/core/grappler/optimizers/meta_optimizer.cc:153] TF_ENABLE_AUTO_MIXED_PRECISION has no effect.\n",
      "2022-01-02 14:52:46.591812: W tensorflow/core/grappler/optimizers/meta_optimizer.cc:153] TF_ENABLE_AUTO_MIXED_PRECISION has no effect.\n",
      "2022-01-02 14:52:46.591817: W tensorflow/core/grappler/optimizers/meta_optimizer.cc:153] TF_ENABLE_AUTO_MIXED_PRECISION has no effect.\n",
      "2022-01-02 14:52:56.579835: I tensorflow/core/kernels/data/shuffle_dataset_op.cc:177] Filling up shuffle buffer (this may take a while): 10841 of 70504\n",
      "2022-01-02 14:53:06.579726: I tensorflow/core/kernels/data/shuffle_dataset_op.cc:177] Filling up shuffle buffer (this may take a while): 21836 of 70504\n",
      "2022-01-02 14:53:16.579535: I tensorflow/core/kernels/data/shuffle_dataset_op.cc:177] Filling up shuffle buffer (this may take a while): 32748 of 70504\n",
      "2022-01-02 14:53:26.579041: I tensorflow/core/kernels/data/shuffle_dataset_op.cc:177] Filling up shuffle buffer (this may take a while): 43460 of 70504\n",
      "2022-01-02 14:53:36.579153: I tensorflow/core/kernels/data/shuffle_dataset_op.cc:177] Filling up shuffle buffer (this may take a while): 54429 of 70504\n",
      "2022-01-02 14:53:46.578963: I tensorflow/core/kernels/data/shuffle_dataset_op.cc:177] Filling up shuffle buffer (this may take a while): 65457 of 70504\n",
      "2022-01-02 14:53:51.141174: I tensorflow/core/kernels/data/shuffle_dataset_op.cc:230] Shuffle buffer filled.\n"
     ]
    },
    {
     "ename": "KeyboardInterrupt",
     "evalue": "",
     "output_type": "error",
     "traceback": [
      "\u001b[0;31m---------------------------------------------------------------------------\u001b[0m",
      "\u001b[0;31mKeyboardInterrupt\u001b[0m                         Traceback (most recent call last)",
      "\u001b[0;32m/tmp/ipykernel_16999/32322937.py\u001b[0m in \u001b[0;36m<module>\u001b[0;34m\u001b[0m\n\u001b[0;32m----> 1\u001b[0;31m \u001b[0mtrain\u001b[0m\u001b[0;34m(\u001b[0m\u001b[0mdataset\u001b[0m\u001b[0;34m,\u001b[0m \u001b[0mhparas\u001b[0m\u001b[0;34m[\u001b[0m\u001b[0;34m'N_EPOCH'\u001b[0m\u001b[0;34m]\u001b[0m\u001b[0;34m)\u001b[0m\u001b[0;34m\u001b[0m\u001b[0;34m\u001b[0m\u001b[0m\n\u001b[0m",
      "\u001b[0;32m/tmp/ipykernel_16999/3203989384.py\u001b[0m in \u001b[0;36mtrain\u001b[0;34m(dataset, epochs)\u001b[0m\n\u001b[1;32m      8\u001b[0m         \u001b[0mstart\u001b[0m \u001b[0;34m=\u001b[0m \u001b[0mtime\u001b[0m\u001b[0;34m.\u001b[0m\u001b[0mtime\u001b[0m\u001b[0;34m(\u001b[0m\u001b[0;34m)\u001b[0m\u001b[0;34m\u001b[0m\u001b[0;34m\u001b[0m\u001b[0m\n\u001b[1;32m      9\u001b[0m \u001b[0;34m\u001b[0m\u001b[0m\n\u001b[0;32m---> 10\u001b[0;31m         \u001b[0;32mfor\u001b[0m \u001b[0mimage\u001b[0m\u001b[0;34m,\u001b[0m \u001b[0mfake_img\u001b[0m\u001b[0;34m,\u001b[0m \u001b[0mcaption\u001b[0m \u001b[0;32min\u001b[0m \u001b[0mdataset\u001b[0m\u001b[0;34m:\u001b[0m\u001b[0;34m\u001b[0m\u001b[0;34m\u001b[0m\u001b[0m\n\u001b[0m\u001b[1;32m     11\u001b[0m             \u001b[0mg_loss\u001b[0m\u001b[0;34m,\u001b[0m \u001b[0md_loss\u001b[0m \u001b[0;34m=\u001b[0m \u001b[0mtrain_step\u001b[0m\u001b[0;34m(\u001b[0m\u001b[0mimage\u001b[0m\u001b[0;34m,\u001b[0m \u001b[0mcaption\u001b[0m\u001b[0;34m,\u001b[0m \u001b[0mfake_img\u001b[0m\u001b[0;34m,\u001b[0m \u001b[0mctr\u001b[0m\u001b[0;34m)\u001b[0m\u001b[0;34m\u001b[0m\u001b[0;34m\u001b[0m\u001b[0m\n\u001b[1;32m     12\u001b[0m             \u001b[0mctr\u001b[0m \u001b[0;34m+=\u001b[0m \u001b[0;36m1\u001b[0m\u001b[0;34m\u001b[0m\u001b[0;34m\u001b[0m\u001b[0m\n",
      "\u001b[0;32m/usr/local/lib/python3.8/dist-packages/tensorflow/python/data/ops/iterator_ops.py\u001b[0m in \u001b[0;36m__next__\u001b[0;34m(self)\u001b[0m\n\u001b[1;32m    759\u001b[0m   \u001b[0;32mdef\u001b[0m \u001b[0m__next__\u001b[0m\u001b[0;34m(\u001b[0m\u001b[0mself\u001b[0m\u001b[0;34m)\u001b[0m\u001b[0;34m:\u001b[0m\u001b[0;34m\u001b[0m\u001b[0;34m\u001b[0m\u001b[0m\n\u001b[1;32m    760\u001b[0m     \u001b[0;32mtry\u001b[0m\u001b[0;34m:\u001b[0m\u001b[0;34m\u001b[0m\u001b[0;34m\u001b[0m\u001b[0m\n\u001b[0;32m--> 761\u001b[0;31m       \u001b[0;32mreturn\u001b[0m \u001b[0mself\u001b[0m\u001b[0;34m.\u001b[0m\u001b[0m_next_internal\u001b[0m\u001b[0;34m(\u001b[0m\u001b[0;34m)\u001b[0m\u001b[0;34m\u001b[0m\u001b[0;34m\u001b[0m\u001b[0m\n\u001b[0m\u001b[1;32m    762\u001b[0m     \u001b[0;32mexcept\u001b[0m \u001b[0merrors\u001b[0m\u001b[0;34m.\u001b[0m\u001b[0mOutOfRangeError\u001b[0m\u001b[0;34m:\u001b[0m\u001b[0;34m\u001b[0m\u001b[0;34m\u001b[0m\u001b[0m\n\u001b[1;32m    763\u001b[0m       \u001b[0;32mraise\u001b[0m \u001b[0mStopIteration\u001b[0m\u001b[0;34m\u001b[0m\u001b[0;34m\u001b[0m\u001b[0m\n",
      "\u001b[0;32m/usr/local/lib/python3.8/dist-packages/tensorflow/python/data/ops/iterator_ops.py\u001b[0m in \u001b[0;36m_next_internal\u001b[0;34m(self)\u001b[0m\n\u001b[1;32m    742\u001b[0m     \u001b[0;31m# to communicate that there is no more data to iterate over.\u001b[0m\u001b[0;34m\u001b[0m\u001b[0;34m\u001b[0m\u001b[0;34m\u001b[0m\u001b[0m\n\u001b[1;32m    743\u001b[0m     \u001b[0;32mwith\u001b[0m \u001b[0mcontext\u001b[0m\u001b[0;34m.\u001b[0m\u001b[0mexecution_mode\u001b[0m\u001b[0;34m(\u001b[0m\u001b[0mcontext\u001b[0m\u001b[0;34m.\u001b[0m\u001b[0mSYNC\u001b[0m\u001b[0;34m)\u001b[0m\u001b[0;34m:\u001b[0m\u001b[0;34m\u001b[0m\u001b[0;34m\u001b[0m\u001b[0m\n\u001b[0;32m--> 744\u001b[0;31m       ret = gen_dataset_ops.iterator_get_next(\n\u001b[0m\u001b[1;32m    745\u001b[0m           \u001b[0mself\u001b[0m\u001b[0;34m.\u001b[0m\u001b[0m_iterator_resource\u001b[0m\u001b[0;34m,\u001b[0m\u001b[0;34m\u001b[0m\u001b[0;34m\u001b[0m\u001b[0m\n\u001b[1;32m    746\u001b[0m           \u001b[0moutput_types\u001b[0m\u001b[0;34m=\u001b[0m\u001b[0mself\u001b[0m\u001b[0;34m.\u001b[0m\u001b[0m_flat_output_types\u001b[0m\u001b[0;34m,\u001b[0m\u001b[0;34m\u001b[0m\u001b[0;34m\u001b[0m\u001b[0m\n",
      "\u001b[0;32m/usr/local/lib/python3.8/dist-packages/tensorflow/python/ops/gen_dataset_ops.py\u001b[0m in \u001b[0;36miterator_get_next\u001b[0;34m(iterator, output_types, output_shapes, name)\u001b[0m\n\u001b[1;32m   2721\u001b[0m   \u001b[0;32mif\u001b[0m \u001b[0mtld\u001b[0m\u001b[0;34m.\u001b[0m\u001b[0mis_eager\u001b[0m\u001b[0;34m:\u001b[0m\u001b[0;34m\u001b[0m\u001b[0;34m\u001b[0m\u001b[0m\n\u001b[1;32m   2722\u001b[0m     \u001b[0;32mtry\u001b[0m\u001b[0;34m:\u001b[0m\u001b[0;34m\u001b[0m\u001b[0;34m\u001b[0m\u001b[0m\n\u001b[0;32m-> 2723\u001b[0;31m       _result = pywrap_tfe.TFE_Py_FastPathExecute(\n\u001b[0m\u001b[1;32m   2724\u001b[0m         \u001b[0m_ctx\u001b[0m\u001b[0;34m,\u001b[0m \u001b[0;34m\"IteratorGetNext\"\u001b[0m\u001b[0;34m,\u001b[0m \u001b[0mname\u001b[0m\u001b[0;34m,\u001b[0m \u001b[0miterator\u001b[0m\u001b[0;34m,\u001b[0m \u001b[0;34m\"output_types\"\u001b[0m\u001b[0;34m,\u001b[0m \u001b[0moutput_types\u001b[0m\u001b[0;34m,\u001b[0m\u001b[0;34m\u001b[0m\u001b[0;34m\u001b[0m\u001b[0m\n\u001b[1;32m   2725\u001b[0m         \"output_shapes\", output_shapes)\n",
      "\u001b[0;31mKeyboardInterrupt\u001b[0m: "
     ]
    }
   ],
   "source": [
    "train(dataset, hparas['N_EPOCH'])"
   ]
  },
  {
   "cell_type": "code",
   "execution_count": 57,
   "id": "30455bf6",
   "metadata": {
    "scrolled": true
   },
   "outputs": [
    {
     "data": {
      "text/plain": [
       "<tensorflow.python.training.tracking.util.CheckpointLoadStatus at 0x7fc4b8672100>"
      ]
     },
     "execution_count": 57,
     "metadata": {},
     "output_type": "execute_result"
    }
   ],
   "source": [
    "checkpoint.restore(checkpoint_dir + '/ckpt-1')"
   ]
  },
  {
   "cell_type": "code",
   "execution_count": null,
   "id": "c2de5d48",
   "metadata": {},
   "outputs": [],
   "source": [
    "test_df = pd.read_pickle('./dataset/testData.pkl')"
   ]
  },
  {
   "cell_type": "code",
   "execution_count": null,
   "id": "58775ec9",
   "metadata": {
    "scrolled": true
   },
   "outputs": [],
   "source": [
    "test_df.head(5)"
   ]
  },
  {
   "cell_type": "code",
   "execution_count": null,
   "id": "47ee8ac0",
   "metadata": {},
   "outputs": [],
   "source": [
    "# def iDList2Sent(L):\n",
    "#     s_lst = []\n",
    "#     l_lst = []\n",
    "#     for sent in L:\n",
    "#         temp = []\n",
    "#         l = 0\n",
    "#         for i in sent:\n",
    "#             w = id2word_dict[i]\n",
    "#             if(w != \"<PAD>\"):\n",
    "#                 temp.append(w)\n",
    "#                 l += 1\n",
    "#             else:\n",
    "#                 temp.append(\"\")\n",
    "#         s_lst.append(temp)\n",
    "#         l_lst.append(l)\n",
    "#     return s_lst, l_lst"
   ]
  },
  {
   "cell_type": "code",
   "execution_count": null,
   "id": "31c94617",
   "metadata": {},
   "outputs": [],
   "source": [
    "# def testing_data_generator(caption, index):\n",
    "#     s_lst, l_lst = iDList2Sent([caption])\n",
    "#     embedding = elmo(sequence_len = tf.constant(l_lst),\n",
    "#                      tokens = tf.constant(s_lst))[\"elmo\"]\n",
    "#     embedding = tf.reduce_mean(embedding, 1)\n",
    "# #     print(embedding)\n",
    "# #     caption = tf.cast(caption, tf.float32)\n",
    "#     return embedding, index\n",
    "\n",
    "# def testing_dataset_generator(batch_size, data_generator):\n",
    "#     data = pd.read_pickle('./dataset/testData.pkl')\n",
    "#     captions = data['Captions'].values\n",
    "#     caption = []\n",
    "#     for i in range(len(captions)):\n",
    "#         caption.append(captions[i])\n",
    "        \n",
    "#     s_lst, l_lst = iDList2Sent(caption)\n",
    "#     embedding = elmo(sequence_len = tf.constant(l_lst),\n",
    "#                  tokens = tf.constant(s_lst))[\"elmo\"]\n",
    "#     embedding = tf.reduce_mean(embedding, 1)\n",
    "    \n",
    "#     caption = np.asarray(caption)\n",
    "#     caption = caption.astype(np.int)\n",
    "#     index = data['ID'].values\n",
    "#     index = np.asarray(index)\n",
    "    \n",
    "#     dataset = tf.data.Dataset.from_tensor_slices((caption, index))\n",
    "# #     dataset = dataset.map(testing_data_generator, num_parallel_calls=tf.data.experimental.AUTOTUNE)\n",
    "#     dataset = dataset.repeat().batch(batch_size)\n",
    "    \n",
    "#     return dataset"
   ]
  },
  {
   "cell_type": "code",
   "execution_count": null,
   "id": "f3941ba2",
   "metadata": {},
   "outputs": [],
   "source": [
    "# testing_dataset = testing_dataset_generator(hparas['BATCH_SIZE'], testing_data_generator)"
   ]
  },
  {
   "cell_type": "code",
   "execution_count": null,
   "id": "d6bf3ab5",
   "metadata": {},
   "outputs": [],
   "source": []
  }
 ],
 "metadata": {
  "kernelspec": {
   "display_name": "Python 3 (ipykernel)",
   "language": "python",
   "name": "python3"
  },
  "language_info": {
   "codemirror_mode": {
    "name": "ipython",
    "version": 3
   },
   "file_extension": ".py",
   "mimetype": "text/x-python",
   "name": "python",
   "nbconvert_exporter": "python",
   "pygments_lexer": "ipython3",
   "version": "3.8.10"
  }
 },
 "nbformat": 4,
 "nbformat_minor": 5
}
