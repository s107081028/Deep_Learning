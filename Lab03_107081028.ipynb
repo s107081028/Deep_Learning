{
 "cells": [
  {
   "cell_type": "code",
   "execution_count": 8,
   "metadata": {},
   "outputs": [
    {
     "name": "stderr",
     "output_type": "stream",
     "text": [
      "D:\\Program_files\\Anaconda 3\\lib\\site-packages\\ipykernel_launcher.py:23: DataConversionWarning: A column-vector y was passed when a 1d array was expected. Please change the shape of y to (n_samples,), for example using ravel().\n"
     ]
    },
    {
     "name": "stdout",
     "output_type": "stream",
     "text": [
      "Accuracy: 0.98\n",
      "Accuracy per feature: 0.03\n"
     ]
    }
   ],
   "source": [
    "from sklearn.tree import DecisionTreeClassifier\n",
    "from sklearn.model_selection import train_test_split\n",
    "from sklearn.datasets import load_breast_cancer\n",
    "import pandas as pd\n",
    "from sklearn.metrics import accuracy_score\n",
    "from sklearn.ensemble import RandomForestClassifier\n",
    "import numpy as np\n",
    "\n",
    "# load the breast_cancer dataset\n",
    "init_data = load_breast_cancer()\n",
    "(X, y) = load_breast_cancer(return_X_y=True)\n",
    "X = pd.DataFrame(data=X, columns=init_data['feature_names'])\n",
    "y = pd.DataFrame(data=y, columns=['label'])\n",
    "\n",
    "# split X into training and testing sets\n",
    "X_train, X_test, y_train, y_test = train_test_split(X, y, test_size=0.3, random_state=0)\n",
    "\n",
    "# Train a RandomForestClassifier as model \n",
    "forest = RandomForestClassifier(criterion='entropy',\n",
    "                                n_estimators=200, \n",
    "                                random_state=1,\n",
    "                                n_jobs=2)\n",
    "forest.fit(X_train, y_train)\n",
    "\n",
    "y_pred = forest.predict(X_test)\n",
    "print('Accuracy: %.2f' % accuracy_score(y_test, y_pred))\n",
    "print('Accuracy per feature: %.2f' % (accuracy_score(y_test, y_pred)/X.shape[1]))"
   ]
  },
  {
   "cell_type": "code",
   "execution_count": 9,
   "metadata": {},
   "outputs": [
    {
     "name": "stdout",
     "output_type": "stream",
     "text": [
      " 1) worst concave points           0.141849\n",
      " 2) mean concave points            0.117697\n",
      " 3) worst radius                   0.110919\n",
      " 4) worst perimeter                0.105243\n",
      " 5) mean concavity                 0.077163\n",
      " 6) worst area                     0.073364\n",
      " 7) area error                     0.041760\n",
      " 8) mean perimeter                 0.036943\n",
      " 9) mean radius                    0.035625\n",
      "10) worst concavity                0.035205\n",
      "11) mean area                      0.032890\n",
      "12) worst texture                  0.022736\n",
      "13) mean texture                   0.018584\n",
      "14) worst compactness              0.016786\n",
      "15) radius error                   0.015408\n",
      "16) worst symmetry                 0.014770\n",
      "17) worst smoothness               0.014235\n",
      "18) mean compactness               0.010085\n",
      "19) perimeter error                0.010040\n",
      "20) worst fractal dimension        0.009015\n",
      "21) concave points error           0.008085\n",
      "22) compactness error              0.007420\n",
      "23) mean smoothness                0.006557\n",
      "24) fractal dimension error        0.006368\n",
      "25) symmetry error                 0.006357\n",
      "26) concavity error                0.006135\n",
      "27) texture error                  0.005854\n",
      "28) smoothness error               0.005100\n",
      "29) mean symmetry                  0.004598\n",
      "30) mean fractal dimension         0.003209\n"
     ]
    }
   ],
   "source": [
    "importances = forest.feature_importances_\n",
    "# get sort indices in descending order\n",
    "indices = np.argsort(importances)[::-1]\n",
    "\n",
    "for f in range(X_train.shape[1]):\n",
    "    print(\"%2d) %-*s %f\" % (f + 1, 30, \n",
    "                            X.columns.values[indices[f]], \n",
    "                            importances[indices[f]]))"
   ]
  },
  {
   "cell_type": "code",
   "execution_count": 11,
   "metadata": {},
   "outputs": [
    {
     "name": "stdout",
     "output_type": "stream",
     "text": [
      "Accuracy (tree_forest): 0.89\n",
      "Accuracy per feature: 0.45\n"
     ]
    }
   ],
   "source": [
    "Z_forest = X[['worst concave points', 'mean concave points']].values\n",
    "Z_forest_train, Z_forest_test, y_forest_train, y_forest_test = train_test_split(\n",
    "    Z_forest, y, test_size=0.3, random_state=0)\n",
    "tree_forest = DecisionTreeClassifier(criterion='entropy', \n",
    "                                     max_depth=3, \n",
    "                                     random_state=0)\n",
    "tree_forest.fit(Z_forest_train, y_forest_train)\n",
    "\n",
    "y_forest_pred = tree_forest.predict(Z_forest_test)\n",
    "print('Accuracy (tree_forest): %.2f' % accuracy_score(y_forest_test, y_forest_pred))\n",
    "print('Accuracy per feature: %.2f' % (accuracy_score(y_forest_test, y_forest_pred)/Z_forest.shape[1]))"
   ]
  },
  {
   "cell_type": "code",
   "execution_count": null,
   "metadata": {},
   "outputs": [],
   "source": []
  }
 ],
 "metadata": {
  "kernelspec": {
   "display_name": "Python 3",
   "language": "python",
   "name": "python3"
  },
  "language_info": {
   "codemirror_mode": {
    "name": "ipython",
    "version": 3
   },
   "file_extension": ".py",
   "mimetype": "text/x-python",
   "name": "python",
   "nbconvert_exporter": "python",
   "pygments_lexer": "ipython3",
   "version": "3.7.9"
  }
 },
 "nbformat": 4,
 "nbformat_minor": 4
}
