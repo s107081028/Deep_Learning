{
 "cells": [
  {
   "cell_type": "code",
   "execution_count": 1,
   "metadata": {},
   "outputs": [
    {
     "name": "stderr",
     "output_type": "stream",
     "text": [
      "2021-12-16 23:41:44.848475: I tensorflow/stream_executor/platform/default/dso_loader.cc:54] Successfully opened dynamic library libcudart.so.11.0\n"
     ]
    }
   ],
   "source": [
    "from __future__ import absolute_import, division, print_function, unicode_literals\n",
    "import tensorflow as tf\n",
    "\n",
    "# You'll generate plots of attention in order to see which parts of an image\n",
    "# our model focuses on during captioning\n",
    "import matplotlib.pyplot as plt\n",
    "\n",
    "# Scikit-learn includes many helpful utilities\n",
    "from sklearn.model_selection import train_test_split\n",
    "from sklearn.utils import shuffle\n",
    "\n",
    "import re\n",
    "import numpy as np\n",
    "import os\n",
    "import time\n",
    "import json\n",
    "from glob import glob\n",
    "from PIL import Image\n",
    "import pickle\n",
    "import pandas as pd"
   ]
  },
  {
   "cell_type": "code",
   "execution_count": 2,
   "metadata": {},
   "outputs": [
    {
     "name": "stdout",
     "output_type": "stream",
     "text": [
      "1 Physical GPUs, 1 Logical GPUs\n"
     ]
    },
    {
     "name": "stderr",
     "output_type": "stream",
     "text": [
      "2021-12-16 23:41:51.243415: I tensorflow/stream_executor/platform/default/dso_loader.cc:54] Successfully opened dynamic library libcuda.so.1\n",
      "2021-12-16 23:41:51.312356: I tensorflow/core/common_runtime/gpu/gpu_device.cc:1734] Found device 0 with properties: \n",
      "pciBusID: 0000:1c:00.0 name: Tesla V100-SXM2-32GB computeCapability: 7.0\n",
      "coreClock: 1.53GHz coreCount: 80 deviceMemorySize: 31.75GiB deviceMemoryBandwidth: 836.37GiB/s\n",
      "2021-12-16 23:41:51.312390: I tensorflow/stream_executor/platform/default/dso_loader.cc:54] Successfully opened dynamic library libcudart.so.11.0\n",
      "2021-12-16 23:41:51.319098: I tensorflow/stream_executor/platform/default/dso_loader.cc:54] Successfully opened dynamic library libcublas.so.11\n",
      "2021-12-16 23:41:51.319153: I tensorflow/stream_executor/platform/default/dso_loader.cc:54] Successfully opened dynamic library libcublasLt.so.11\n",
      "2021-12-16 23:41:51.321561: I tensorflow/stream_executor/platform/default/dso_loader.cc:54] Successfully opened dynamic library libcufft.so.10\n",
      "2021-12-16 23:41:51.322248: I tensorflow/stream_executor/platform/default/dso_loader.cc:54] Successfully opened dynamic library libcurand.so.10\n",
      "2021-12-16 23:41:51.323064: I tensorflow/stream_executor/platform/default/dso_loader.cc:54] Successfully opened dynamic library libcutensor.so.1\n",
      "2021-12-16 23:41:51.323510: I tensorflow/stream_executor/platform/default/dso_loader.cc:54] Successfully opened dynamic library libcusolver.so.11\n",
      "2021-12-16 23:41:51.324698: I tensorflow/stream_executor/platform/default/dso_loader.cc:54] Successfully opened dynamic library libcusparse.so.11\n",
      "2021-12-16 23:41:51.324855: I tensorflow/stream_executor/platform/default/dso_loader.cc:54] Successfully opened dynamic library libcudnn.so.8\n",
      "2021-12-16 23:41:51.327800: I tensorflow/core/common_runtime/gpu/gpu_device.cc:1872] Adding visible gpu devices: 0\n",
      "2021-12-16 23:41:51.333388: I tensorflow/core/common_runtime/gpu/gpu_device.cc:1734] Found device 0 with properties: \n",
      "pciBusID: 0000:1c:00.0 name: Tesla V100-SXM2-32GB computeCapability: 7.0\n",
      "coreClock: 1.53GHz coreCount: 80 deviceMemorySize: 31.75GiB deviceMemoryBandwidth: 836.37GiB/s\n",
      "2021-12-16 23:41:51.336533: I tensorflow/core/common_runtime/gpu/gpu_device.cc:1872] Adding visible gpu devices: 0\n",
      "2021-12-16 23:41:51.336566: I tensorflow/stream_executor/platform/default/dso_loader.cc:54] Successfully opened dynamic library libcudart.so.11.0\n",
      "2021-12-16 23:41:51.864572: I tensorflow/core/common_runtime/gpu/gpu_device.cc:1258] Device interconnect StreamExecutor with strength 1 edge matrix:\n",
      "2021-12-16 23:41:51.864611: I tensorflow/core/common_runtime/gpu/gpu_device.cc:1264]      0 \n",
      "2021-12-16 23:41:51.864621: I tensorflow/core/common_runtime/gpu/gpu_device.cc:1277] 0:   N \n",
      "2021-12-16 23:41:51.869081: I tensorflow/core/common_runtime/gpu/gpu_device.cc:1418] Created TensorFlow device (/job:localhost/replica:0/task:0/device:GPU:0 with 31001 MB memory) -> physical GPU (device: 0, name: Tesla V100-SXM2-32GB, pci bus id: 0000:1c:00.0, compute capability: 7.0)\n",
      "2021-12-16 23:41:51.869335: I tensorflow/core/common_runtime/process_util.cc:146] Creating new thread pool with default inter op setting: 4. Tune using inter_op_parallelism_threads for best performance.\n"
     ]
    }
   ],
   "source": [
    "gpus = tf.config.experimental.list_physical_devices('GPU')\n",
    "if gpus:\n",
    "    try:\n",
    "        # Currently, memory growth needs to be the same across GPUs\n",
    "        for gpu in gpus:\n",
    "            tf.config.experimental.set_memory_growth(gpu, True)\n",
    "        # Select GPU number 1\n",
    "        tf.config.experimental.set_visible_devices(gpus[0], 'GPU')\n",
    "        logical_gpus = tf.config.experimental.list_logical_devices('GPU')\n",
    "        print(len(gpus), \"Physical GPUs,\", len(logical_gpus), \"Logical GPUs\")\n",
    "    except RuntimeError as e:\n",
    "        # Memory growth must be set before GPUs have been initialized\n",
    "        print(e)"
   ]
  },
  {
   "cell_type": "markdown",
   "metadata": {},
   "source": [
    "### Load Dataset\n",
    "image_path and captions"
   ]
  },
  {
   "cell_type": "code",
   "execution_count": 3,
   "metadata": {},
   "outputs": [
    {
     "data": {
      "text/html": [
       "<div>\n",
       "<style scoped>\n",
       "    .dataframe tbody tr th:only-of-type {\n",
       "        vertical-align: middle;\n",
       "    }\n",
       "\n",
       "    .dataframe tbody tr th {\n",
       "        vertical-align: top;\n",
       "    }\n",
       "\n",
       "    .dataframe thead th {\n",
       "        text-align: right;\n",
       "    }\n",
       "</style>\n",
       "<table border=\"1\" class=\"dataframe\">\n",
       "  <thead>\n",
       "    <tr style=\"text-align: right;\">\n",
       "      <th></th>\n",
       "      <th>image</th>\n",
       "      <th>caption</th>\n",
       "    </tr>\n",
       "  </thead>\n",
       "  <tbody>\n",
       "    <tr>\n",
       "      <th>0</th>\n",
       "      <td>a0</td>\n",
       "      <td>thus</td>\n",
       "    </tr>\n",
       "    <tr>\n",
       "      <th>1</th>\n",
       "      <td>a1</td>\n",
       "      <td>www</td>\n",
       "    </tr>\n",
       "    <tr>\n",
       "      <th>2</th>\n",
       "      <td>a2</td>\n",
       "      <td>tied</td>\n",
       "    </tr>\n",
       "    <tr>\n",
       "      <th>3</th>\n",
       "      <td>a3</td>\n",
       "      <td>ids</td>\n",
       "    </tr>\n",
       "    <tr>\n",
       "      <th>4</th>\n",
       "      <td>a4</td>\n",
       "      <td>jam</td>\n",
       "    </tr>\n",
       "  </tbody>\n",
       "</table>\n",
       "</div>"
      ],
      "text/plain": [
       "  image caption\n",
       "0    a0    thus\n",
       "1    a1     www\n",
       "2    a2    tied\n",
       "3    a3     ids\n",
       "4    a4     jam"
      ]
     },
     "metadata": {},
     "output_type": "display_data"
    },
    {
     "data": {
      "text/plain": [
       "['<start> t h u s <end>',\n",
       " '<start> w w w <end>',\n",
       " '<start> t i e d <end>',\n",
       " '<start> i d s <end>',\n",
       " '<start> j a m <end>']"
      ]
     },
     "metadata": {},
     "output_type": "display_data"
    },
    {
     "data": {
      "text/plain": [
       "['../work/lab13-2/words_captcha/a0.png',\n",
       " '../work/lab13-2/words_captcha/a1.png',\n",
       " '../work/lab13-2/words_captcha/a2.png',\n",
       " '../work/lab13-2/words_captcha/a3.png',\n",
       " '../work/lab13-2/words_captcha/a4.png']"
      ]
     },
     "metadata": {},
     "output_type": "display_data"
    }
   ],
   "source": [
    "path = \"../work/lab13-2/words_captcha/\"\n",
    "annotation_file = 'spec_train_val.txt'\n",
    "spec = pd.read_csv(path + annotation_file, header=None, delim_whitespace=True, names=['image', 'caption'])\n",
    "display(spec.head())\n",
    "all_captions = []\n",
    "all_images = []\n",
    "for annotation in spec['caption']:\n",
    "    caption = '<start> ' + ' '.join(str(annotation)) + ' <end>'\n",
    "    all_captions.append(caption)\n",
    "for image_name in spec['image']:\n",
    "    img_path = path + image_name + '.png'\n",
    "    all_images.append(img_path)\n",
    "display(all_captions[:5])\n",
    "display(all_images[:5])"
   ]
  },
  {
   "cell_type": "code",
   "execution_count": 4,
   "metadata": {},
   "outputs": [],
   "source": [
    "tokenizer = tf.keras.preprocessing.text.Tokenizer(lower = False,\n",
    "                                                  filters='!\"#$%&()*+.,-/:;=?@[\\]^_`{|}~ ')\n",
    "tokenizer.fit_on_texts(all_captions)\n",
    "train_seqs = tokenizer.texts_to_sequences(all_captions)\n",
    "tokenizer.word_index['<pad>'] = 0\n",
    "tokenizer.index_word[0] = '<pad>'\n",
    "# Create the tokenized vectors\n",
    "train_seqs = tokenizer.texts_to_sequences(all_captions)\n",
    "# Pad each vector to the max_length of the captions\n",
    "# If you do not provide a max_length value, pad_sequences calculates it automatically\n",
    "cap_vector = tf.keras.preprocessing.sequence.pad_sequences(train_seqs, padding='post')"
   ]
  },
  {
   "cell_type": "code",
   "execution_count": 5,
   "metadata": {},
   "outputs": [],
   "source": [
    "# Find the maximum length of any caption in our dataset\n",
    "# Calculates the max_length, which is used to store the attention weights\n",
    "def calc_max_length(tensor):\n",
    "    return max(len(t) for t in tensor)\n",
    "max_length = calc_max_length(train_seqs)"
   ]
  },
  {
   "cell_type": "markdown",
   "metadata": {},
   "source": [
    "### Preprocess\n",
    "Arrange every data into same length by adding paddings\n",
    "Data split"
   ]
  },
  {
   "cell_type": "code",
   "execution_count": 6,
   "metadata": {},
   "outputs": [
    {
     "data": {
      "text/plain": [
       "['../work/lab13-2/words_captcha/a0.png',\n",
       " '../work/lab13-2/words_captcha/a1.png',\n",
       " '../work/lab13-2/words_captcha/a2.png',\n",
       " '../work/lab13-2/words_captcha/a3.png',\n",
       " '../work/lab13-2/words_captcha/a4.png']"
      ]
     },
     "metadata": {},
     "output_type": "display_data"
    },
    {
     "data": {
      "text/plain": [
       "array([[ 1,  8, 17, 16,  5,  2,  0],\n",
       "       [ 1, 23, 23, 23,  2,  0,  0],\n",
       "       [ 1,  8,  7,  3, 12,  2,  0],\n",
       "       [ 1,  7, 12,  5,  2,  0,  0],\n",
       "       [ 1, 25,  4, 15,  2,  0,  0]], dtype=int32)"
      ]
     },
     "metadata": {},
     "output_type": "display_data"
    },
    {
     "data": {
      "text/plain": [
       "[['<start>', 't', 'h', 'u', 's', '<end>', '<pad>'],\n",
       " ['<start>', 'w', 'w', 'w', '<end>', '<pad>', '<pad>'],\n",
       " ['<start>', 't', 'i', 'e', 'd', '<end>', '<pad>'],\n",
       " ['<start>', 'i', 'd', 's', '<end>', '<pad>', '<pad>'],\n",
       " ['<start>', 'j', 'a', 'm', '<end>', '<pad>', '<pad>']]"
      ]
     },
     "metadata": {},
     "output_type": "display_data"
    }
   ],
   "source": [
    "train_num = 100000\n",
    "val_num = 20000\n",
    "# Split Train / Validation\n",
    "cap_train = cap_vector[:train_num]\n",
    "cap_val = cap_vector[train_num:120000]\n",
    "cap_test = cap_vector[120000:]\n",
    "img_train = all_images[:train_num]\n",
    "img_val = all_images[train_num:120000]\n",
    "img_test = all_images[120000:]\n",
    "display(img_train[:5])\n",
    "display(cap_train[:5])\n",
    "display([[tokenizer.index_word[i] for i in word] for word in cap_train[:5]])"
   ]
  },
  {
   "cell_type": "markdown",
   "metadata": {},
   "source": [
    "### Parameters"
   ]
  },
  {
   "cell_type": "code",
   "execution_count": 8,
   "metadata": {},
   "outputs": [],
   "source": [
    "BATCH_SIZE = 32\n",
    "BUFFER_SIZE = 5000\n",
    "embedding_dim = 256\n",
    "units = 512\n",
    "vocab_size = len(tokenizer.word_index) + 1\n",
    "num_steps = len(img_train) // BATCH_SIZE\n",
    "# Shape of the vector extracted from InceptionV3 is (64, 2048)\n",
    "# These two variables represent that vector shape\n",
    "features_shape = 2048\n",
    "attention_features_shape = 64"
   ]
  },
  {
   "cell_type": "code",
   "execution_count": 9,
   "metadata": {},
   "outputs": [],
   "source": [
    "def load_image(image_path, caption):\n",
    "    img = tf.io.read_file(image_path)\n",
    "    img = tf.image.decode_jpeg(img, channels=3)\n",
    "    img = tf.image.resize(img, (256, 256))\n",
    "    #img = tf.keras.applications.inception_v3.preprocess_input(img)\n",
    "    return img, caption"
   ]
  },
  {
   "cell_type": "markdown",
   "metadata": {},
   "source": [
    "### Tensorflow data for training"
   ]
  },
  {
   "cell_type": "code",
   "execution_count": 10,
   "metadata": {},
   "outputs": [],
   "source": [
    "dataset = tf.data.Dataset.from_tensor_slices((img_train,cap_train))\n",
    "dataset = dataset.map(load_image, \n",
    "                      num_parallel_calls=tf.data.experimental.AUTOTUNE)\n",
    "dataset = dataset.shuffle(BUFFER_SIZE).batch(BATCH_SIZE)\n",
    "dataset = dataset.prefetch(buffer_size=tf.data.experimental.AUTOTUNE)"
   ]
  },
  {
   "cell_type": "markdown",
   "metadata": {},
   "source": [
    "### Model"
   ]
  },
  {
   "cell_type": "code",
   "execution_count": 11,
   "metadata": {},
   "outputs": [],
   "source": [
    "class BahdanauAttention(tf.keras.Model):\n",
    "    def __init__(self, units):\n",
    "        super(BahdanauAttention, self).__init__()\n",
    "        self.W1 = tf.keras.layers.Dense(units)\n",
    "        self.W2 = tf.keras.layers.Dense(units)\n",
    "        self.V = tf.keras.layers.Dense(1)\n",
    "\n",
    "    def call(self, features, hidden):\n",
    "        # features(CNN_encoder output) shape == (batch_size, 64, embedding_dim)\n",
    "\n",
    "        # hidden shape == (batch_size, hidden_size)\n",
    "        # hidden_with_time_axis shape == (batch_size, 1, hidden_size)\n",
    "        hidden_with_time_axis = tf.expand_dims(hidden, 1)\n",
    "\n",
    "        # score shape == (batch_size, 64, hidden_size)\n",
    "        score = tf.nn.tanh(self.W1(features) + self.W2(hidden_with_time_axis))\n",
    "\n",
    "        # attention_weights shape == (batch_size, 64, 1)\n",
    "        # you get 1 at the last axis because you are applying score to self.V\n",
    "        attention_weights = tf.nn.softmax(self.V(score), axis=1)\n",
    "\n",
    "        # context_vector shape after sum == (batch_size, hidden_size)\n",
    "        context_vector = attention_weights * features\n",
    "        context_vector = tf.reduce_sum(context_vector, axis=1)\n",
    "\n",
    "        return context_vector, attention_weights"
   ]
  },
  {
   "cell_type": "markdown",
   "metadata": {},
   "source": [
    "## Encoder\n",
    "I was trying to use VGG19 as the encoder model, but the time consumption was too much. Therefore, I modified into VGG16.\n",
    "It reshaped the final convolutional layer into (None, 64, 152) instead of flattening in order to fit the decoder.\n",
    "In this implementation, it speeds up and after connecting a dense layer with 1024 units, it reduces the loss."
   ]
  },
  {
   "cell_type": "code",
   "execution_count": 12,
   "metadata": {},
   "outputs": [],
   "source": [
    "import tensorflow.keras.layers as layers\n",
    "from tensorflow import keras\n",
    "input_ = tf.keras.Input(shape=(256, 256, 3))\n",
    "#Encoder\n",
    "# Block 1\n",
    "x = layers.Conv2D(64, (3, 3), strides=(1, 1), activation='relu', padding='same', name='block1_conv1')(input_)\n",
    "x = layers.Conv2D(64, (3, 3), activation='relu', padding='same', name='block1_conv2')(x)\n",
    "x = layers.MaxPooling2D((2, 2), strides=(2, 2), name='block1_pool')(x)\n",
    "# Block 2\n",
    "x = layers.Conv2D(128, (3, 3), activation='relu', padding='same', name='block2_conv1')(x)\n",
    "x = layers.Conv2D(128, (3, 3), activation='relu', padding='same', name='block2_conv2')(x)\n",
    "x = layers.MaxPooling2D((2, 2), strides=(2, 2), name='block2_pool')(x)\n",
    "# Block 3\n",
    "x = layers.Conv2D(256, (3, 3), activation='relu', padding='same', name='block3_conv1')(x)\n",
    "x = layers.Conv2D(256, (3, 3), activation='relu', padding='same', name='block3_conv2')(x)\n",
    "x = layers.Conv2D(256, (3, 3), activation='relu', padding='same', name='block3_conv3')(x)\n",
    "#x = layers.Conv2D(256, (3, 3), activation='relu', padding='same', name='block3_conv4')(x)\n",
    "x = layers.MaxPooling2D((2, 2), strides=(2, 2), name='block3_pool')(x)\n",
    "# Block 4\n",
    "x = layers.Conv2D(512, (3, 3), activation='relu', padding='same', name='block4_conv1')(x)\n",
    "x = layers.Conv2D(512, (3, 3), activation='relu', padding='same', name='block4_conv2')(x)\n",
    "x = layers.Conv2D(512, (3, 3), activation='relu', padding='same', name='block4_conv3')(x)\n",
    "#x = layers.Conv2D(512, (3, 3), activation='relu', padding='same', name='block4_conv4')(x)\n",
    "x = layers.MaxPooling2D((2, 2), strides=(2, 2), name='block4_pool')(x)\n",
    "# Block 5\n",
    "x = layers.Conv2D(512, (3, 3), activation='relu', padding='same', name='block5_conv1')(x)\n",
    "x = layers.Conv2D(512, (3, 3), activation='relu', padding='same', name='block5_conv2')(x)\n",
    "x = layers.Conv2D(512, (3, 3), activation='relu', padding='same', name='block5_conv3')(x)\n",
    "#x = layers.Conv2D(512, (3, 3), activation='relu', padding='same', name='block5_conv4')(x)\n",
    "x = layers.MaxPooling2D((2, 2), strides=(2, 2), name='block5_pool')(x)\n",
    "\n",
    "#x = keras.layers.Flatten()(x)\n",
    "x = layers.Reshape((-1, x.shape[3]), name='reshape1')(x)\n",
    "x = layers.Dense(1024, activation='relu', name='Dense1')(x)\n",
    "output_ = layers.Dense(embedding_dim, activation='relu', name='Dense2')(x)\n",
    "\n",
    "encoder = keras.Model(input_, output_)"
   ]
  },
  {
   "cell_type": "code",
   "execution_count": 13,
   "metadata": {
    "scrolled": true
   },
   "outputs": [
    {
     "name": "stdout",
     "output_type": "stream",
     "text": [
      "Model: \"model\"\n",
      "_________________________________________________________________\n",
      "Layer (type)                 Output Shape              Param #   \n",
      "=================================================================\n",
      "input_1 (InputLayer)         [(None, 256, 256, 3)]     0         \n",
      "_________________________________________________________________\n",
      "block1_conv1 (Conv2D)        (None, 256, 256, 64)      1792      \n",
      "_________________________________________________________________\n",
      "block1_conv2 (Conv2D)        (None, 256, 256, 64)      36928     \n",
      "_________________________________________________________________\n",
      "block1_pool (MaxPooling2D)   (None, 128, 128, 64)      0         \n",
      "_________________________________________________________________\n",
      "block2_conv1 (Conv2D)        (None, 128, 128, 128)     73856     \n",
      "_________________________________________________________________\n",
      "block2_conv2 (Conv2D)        (None, 128, 128, 128)     147584    \n",
      "_________________________________________________________________\n",
      "block2_pool (MaxPooling2D)   (None, 64, 64, 128)       0         \n",
      "_________________________________________________________________\n",
      "block3_conv1 (Conv2D)        (None, 64, 64, 256)       295168    \n",
      "_________________________________________________________________\n",
      "block3_conv2 (Conv2D)        (None, 64, 64, 256)       590080    \n",
      "_________________________________________________________________\n",
      "block3_conv3 (Conv2D)        (None, 64, 64, 256)       590080    \n",
      "_________________________________________________________________\n",
      "block3_pool (MaxPooling2D)   (None, 32, 32, 256)       0         \n",
      "_________________________________________________________________\n",
      "block4_conv1 (Conv2D)        (None, 32, 32, 512)       1180160   \n",
      "_________________________________________________________________\n",
      "block4_conv2 (Conv2D)        (None, 32, 32, 512)       2359808   \n",
      "_________________________________________________________________\n",
      "block4_conv3 (Conv2D)        (None, 32, 32, 512)       2359808   \n",
      "_________________________________________________________________\n",
      "block4_pool (MaxPooling2D)   (None, 16, 16, 512)       0         \n",
      "_________________________________________________________________\n",
      "block5_conv1 (Conv2D)        (None, 16, 16, 512)       2359808   \n",
      "_________________________________________________________________\n",
      "block5_conv2 (Conv2D)        (None, 16, 16, 512)       2359808   \n",
      "_________________________________________________________________\n",
      "block5_conv3 (Conv2D)        (None, 16, 16, 512)       2359808   \n",
      "_________________________________________________________________\n",
      "block5_pool (MaxPooling2D)   (None, 8, 8, 512)         0         \n",
      "_________________________________________________________________\n",
      "reshape1 (Reshape)           (None, 64, 512)           0         \n",
      "_________________________________________________________________\n",
      "Dense1 (Dense)               (None, 64, 1024)          525312    \n",
      "_________________________________________________________________\n",
      "Dense2 (Dense)               (None, 64, 256)           262400    \n",
      "=================================================================\n",
      "Total params: 15,502,400\n",
      "Trainable params: 15,502,400\n",
      "Non-trainable params: 0\n",
      "_________________________________________________________________\n"
     ]
    }
   ],
   "source": [
    "encoder.summary()"
   ]
  },
  {
   "cell_type": "code",
   "execution_count": 14,
   "metadata": {},
   "outputs": [],
   "source": [
    "class RNN_Decoder(tf.keras.Model):\n",
    "    def __init__(self, embedding_dim, units, vocab_size):\n",
    "        super(RNN_Decoder, self).__init__()\n",
    "        self.units = units\n",
    "\n",
    "        self.embedding = tf.keras.layers.Embedding(vocab_size, embedding_dim)\n",
    "        self.gru = tf.keras.layers.GRU(self.units,\n",
    "                                       return_sequences=True,\n",
    "                                       return_state=True,\n",
    "                                       recurrent_initializer='glorot_uniform')\n",
    "        self.fc1 = tf.keras.layers.Dense(self.units)\n",
    "        self.fc2 = tf.keras.layers.Dense(vocab_size)\n",
    "\n",
    "        self.attention = BahdanauAttention(self.units)\n",
    "\n",
    "    def call(self, x, features, hidden):\n",
    "        # defining attention as a separate model\n",
    "        context_vector, attention_weights = self.attention(features, hidden)\n",
    "\n",
    "        # x shape after passing through embedding == (batch_size, 1, embedding_dim)\n",
    "        x = self.embedding(x)\n",
    "\n",
    "        # x shape after concatenation == (batch_size, 1, embedding_dim + hidden_size)\n",
    "        x = tf.concat([tf.expand_dims(context_vector, 1), x], axis=-1)\n",
    "\n",
    "        # passing the concatenated vector to the GRU\n",
    "        output, state = self.gru(x)\n",
    "\n",
    "        # shape == (batch_size, max_length, hidden_size)\n",
    "        x = self.fc1(output)\n",
    "\n",
    "        # x shape == (batch_size * max_length, hidden_size)\n",
    "        x = tf.reshape(x, (-1, x.shape[2]))\n",
    "\n",
    "        # output shape == (batch_size * max_length, vocab)\n",
    "        x = self.fc2(x)\n",
    "\n",
    "        return x, state, attention_weights\n",
    "\n",
    "    def reset_state(self, batch_size):\n",
    "        return tf.zeros((batch_size, self.units))"
   ]
  },
  {
   "cell_type": "code",
   "execution_count": 15,
   "metadata": {},
   "outputs": [],
   "source": [
    "decoder = RNN_Decoder(embedding_dim, units, vocab_size)"
   ]
  },
  {
   "cell_type": "code",
   "execution_count": 16,
   "metadata": {},
   "outputs": [],
   "source": [
    "optimizer = tf.keras.optimizers.Adam(learning_rate=0.00001)\n",
    "loss_object = tf.keras.losses.SparseCategoricalCrossentropy(\n",
    "    from_logits=True, reduction='none')\n",
    "\n",
    "def loss_function(real, pred):\n",
    "    mask = tf.math.logical_not(tf.math.equal(real, 0))\n",
    "    loss_ = loss_object(real, pred)\n",
    "\n",
    "    mask = tf.cast(mask, dtype=loss_.dtype)\n",
    "    loss_ *= mask\n",
    "\n",
    "    return tf.reduce_mean(loss_)"
   ]
  },
  {
   "cell_type": "code",
   "execution_count": 17,
   "metadata": {},
   "outputs": [],
   "source": [
    "checkpoint_path = \"../work/anyan_work/ckpts_lab13_2/\"\n",
    "ckpt = tf.train.Checkpoint(encoder=encoder,\n",
    "                           decoder=decoder,\n",
    "                           optimizer = optimizer)\n",
    "ckpt_manager = tf.train.CheckpointManager(ckpt, checkpoint_path, max_to_keep=5)"
   ]
  },
  {
   "cell_type": "markdown",
   "metadata": {},
   "source": [
    "### Checkpoint\n",
    "Epoch starts from the previous restoration."
   ]
  },
  {
   "cell_type": "code",
   "execution_count": 18,
   "metadata": {},
   "outputs": [
    {
     "name": "stdout",
     "output_type": "stream",
     "text": [
      "32\n"
     ]
    }
   ],
   "source": [
    "start_epoch = 0\n",
    "if ckpt_manager.latest_checkpoint:\n",
    "    start_epoch = int(ckpt_manager.latest_checkpoint.split('-')[-1])\n",
    "    print(start_epoch)"
   ]
  },
  {
   "cell_type": "code",
   "execution_count": 25,
   "metadata": {},
   "outputs": [],
   "source": [
    "# adding this in a separate cell because if you run the training cell\n",
    "# many times, the loss_plot array will be reset\n",
    "loss_plot = []"
   ]
  },
  {
   "cell_type": "code",
   "execution_count": 27,
   "metadata": {},
   "outputs": [],
   "source": [
    "@tf.function\n",
    "def train_step(img_tensor, target):\n",
    "    loss = 0\n",
    "\n",
    "    # initializing the hidden state for each batch\n",
    "    # because the captions are not related from image to image\n",
    "    hidden = decoder.reset_state(batch_size=target.shape[0])\n",
    "\n",
    "    dec_input = tf.expand_dims([tokenizer.word_index['<start>']] * BATCH_SIZE, 1)\n",
    "\n",
    "    with tf.GradientTape() as tape:\n",
    "        features = encoder(img_tensor)\n",
    "        #print(f\"Target: {target.shape}\")\n",
    "\n",
    "        for i in range(1, target.shape[1]):\n",
    "            # passing the features through the decoder\n",
    "            predictions, hidden, _ = decoder(dec_input, features, hidden)\n",
    "\n",
    "            loss += loss_function(target[:, i], predictions)\n",
    "\n",
    "            # using teacher forcing\n",
    "            dec_input = tf.expand_dims(target[:, i], 1)\n",
    "\n",
    "    total_loss = (loss / int(target.shape[1]))\n",
    "\n",
    "    trainable_variables = encoder.trainable_variables + decoder.trainable_variables\n",
    "\n",
    "    gradients = tape.gradient(loss, trainable_variables)\n",
    "\n",
    "    optimizer.apply_gradients(zip(gradients, trainable_variables))\n",
    "\n",
    "    return loss, total_loss"
   ]
  },
  {
   "cell_type": "code",
   "execution_count": 28,
   "metadata": {
    "scrolled": true
   },
   "outputs": [
    {
     "name": "stderr",
     "output_type": "stream",
     "text": [
      "2021-12-16 17:56:30.634650: W tensorflow/core/grappler/optimizers/meta_optimizer.cc:153] TF_ENABLE_AUTO_MIXED_PRECISION has no effect.\n",
      "2021-12-16 17:56:30.634725: W tensorflow/core/grappler/optimizers/meta_optimizer.cc:153] TF_ENABLE_AUTO_MIXED_PRECISION has no effect.\n",
      "2021-12-16 17:56:30.634758: W tensorflow/core/grappler/optimizers/meta_optimizer.cc:153] TF_ENABLE_AUTO_MIXED_PRECISION has no effect.\n",
      "2021-12-16 17:56:30.634773: W tensorflow/core/grappler/optimizers/meta_optimizer.cc:153] TF_ENABLE_AUTO_MIXED_PRECISION has no effect.\n",
      "2021-12-16 17:56:34.735258: W tensorflow/core/grappler/optimizers/meta_optimizer.cc:153] TF_ENABLE_AUTO_MIXED_PRECISION has no effect.\n",
      "2021-12-16 17:56:34.735299: W tensorflow/core/grappler/optimizers/meta_optimizer.cc:153] TF_ENABLE_AUTO_MIXED_PRECISION has no effect.\n",
      "2021-12-16 17:56:34.735643: W tensorflow/core/grappler/optimizers/meta_optimizer.cc:153] TF_ENABLE_AUTO_MIXED_PRECISION has no effect.\n",
      "2021-12-16 17:56:34.735654: W tensorflow/core/grappler/optimizers/meta_optimizer.cc:153] TF_ENABLE_AUTO_MIXED_PRECISION has no effect.\n",
      "2021-12-16 17:56:35.488173: W tensorflow/core/grappler/optimizers/meta_optimizer.cc:153] TF_ENABLE_AUTO_MIXED_PRECISION has no effect.\n",
      "2021-12-16 17:56:35.488210: W tensorflow/core/grappler/optimizers/meta_optimizer.cc:153] TF_ENABLE_AUTO_MIXED_PRECISION has no effect.\n",
      "2021-12-16 17:56:35.488225: W tensorflow/core/grappler/optimizers/meta_optimizer.cc:153] TF_ENABLE_AUTO_MIXED_PRECISION has no effect.\n",
      "2021-12-16 17:56:35.488232: W tensorflow/core/grappler/optimizers/meta_optimizer.cc:153] TF_ENABLE_AUTO_MIXED_PRECISION has no effect.\n",
      "2021-12-16 17:56:35.514494: W tensorflow/core/grappler/optimizers/meta_optimizer.cc:153] TF_ENABLE_AUTO_MIXED_PRECISION has no effect.\n",
      "2021-12-16 17:56:35.514924: W tensorflow/core/grappler/optimizers/meta_optimizer.cc:153] TF_ENABLE_AUTO_MIXED_PRECISION has no effect.\n",
      "2021-12-16 17:56:35.515109: W tensorflow/core/grappler/optimizers/meta_optimizer.cc:153] TF_ENABLE_AUTO_MIXED_PRECISION has no effect.\n",
      "2021-12-16 17:56:35.515263: W tensorflow/core/grappler/optimizers/meta_optimizer.cc:153] TF_ENABLE_AUTO_MIXED_PRECISION has no effect.\n",
      "2021-12-16 17:56:35.564526: W tensorflow/core/grappler/optimizers/meta_optimizer.cc:153] TF_ENABLE_AUTO_MIXED_PRECISION has no effect.\n",
      "2021-12-16 17:56:35.564563: W tensorflow/core/grappler/optimizers/meta_optimizer.cc:153] TF_ENABLE_AUTO_MIXED_PRECISION has no effect.\n",
      "2021-12-16 17:56:35.564586: W tensorflow/core/grappler/optimizers/meta_optimizer.cc:153] TF_ENABLE_AUTO_MIXED_PRECISION has no effect.\n",
      "2021-12-16 17:56:35.564592: W tensorflow/core/grappler/optimizers/meta_optimizer.cc:153] TF_ENABLE_AUTO_MIXED_PRECISION has no effect.\n",
      "2021-12-16 17:56:35.603832: W tensorflow/core/grappler/optimizers/meta_optimizer.cc:153] TF_ENABLE_AUTO_MIXED_PRECISION has no effect.\n",
      "2021-12-16 17:56:35.603859: W tensorflow/core/grappler/optimizers/meta_optimizer.cc:153] TF_ENABLE_AUTO_MIXED_PRECISION has no effect.\n",
      "2021-12-16 17:56:35.603872: W tensorflow/core/grappler/optimizers/meta_optimizer.cc:153] TF_ENABLE_AUTO_MIXED_PRECISION has no effect.\n",
      "2021-12-16 17:56:35.603877: W tensorflow/core/grappler/optimizers/meta_optimizer.cc:153] TF_ENABLE_AUTO_MIXED_PRECISION has no effect.\n",
      "2021-12-16 17:56:35.613990: W tensorflow/core/grappler/optimizers/meta_optimizer.cc:153] TF_ENABLE_AUTO_MIXED_PRECISION has no effect.\n",
      "2021-12-16 17:56:35.614042: W tensorflow/core/grappler/optimizers/meta_optimizer.cc:153] TF_ENABLE_AUTO_MIXED_PRECISION has no effect.\n",
      "2021-12-16 17:56:35.614076: W tensorflow/core/grappler/optimizers/meta_optimizer.cc:153] TF_ENABLE_AUTO_MIXED_PRECISION has no effect.\n",
      "2021-12-16 17:56:35.614092: W tensorflow/core/grappler/optimizers/meta_optimizer.cc:153] TF_ENABLE_AUTO_MIXED_PRECISION has no effect.\n",
      "2021-12-16 17:56:35.624668: W tensorflow/core/grappler/optimizers/meta_optimizer.cc:153] TF_ENABLE_AUTO_MIXED_PRECISION has no effect.\n",
      "2021-12-16 17:56:35.624688: W tensorflow/core/grappler/optimizers/meta_optimizer.cc:153] TF_ENABLE_AUTO_MIXED_PRECISION has no effect.\n",
      "2021-12-16 17:56:35.624701: W tensorflow/core/grappler/optimizers/meta_optimizer.cc:153] TF_ENABLE_AUTO_MIXED_PRECISION has no effect.\n",
      "2021-12-16 17:56:35.624707: W tensorflow/core/grappler/optimizers/meta_optimizer.cc:153] TF_ENABLE_AUTO_MIXED_PRECISION has no effect.\n",
      "2021-12-16 17:56:35.640426: W tensorflow/core/grappler/optimizers/meta_optimizer.cc:153] TF_ENABLE_AUTO_MIXED_PRECISION has no effect.\n",
      "2021-12-16 17:56:35.640830: W tensorflow/core/grappler/optimizers/meta_optimizer.cc:153] TF_ENABLE_AUTO_MIXED_PRECISION has no effect.\n",
      "2021-12-16 17:56:35.641007: W tensorflow/core/grappler/optimizers/meta_optimizer.cc:153] TF_ENABLE_AUTO_MIXED_PRECISION has no effect.\n",
      "2021-12-16 17:56:35.641160: W tensorflow/core/grappler/optimizers/meta_optimizer.cc:153] TF_ENABLE_AUTO_MIXED_PRECISION has no effect.\n",
      "2021-12-16 17:56:35.649600: W tensorflow/core/grappler/optimizers/meta_optimizer.cc:153] TF_ENABLE_AUTO_MIXED_PRECISION has no effect.\n",
      "2021-12-16 17:56:35.649637: W tensorflow/core/grappler/optimizers/meta_optimizer.cc:153] TF_ENABLE_AUTO_MIXED_PRECISION has no effect.\n",
      "2021-12-16 17:56:35.649659: W tensorflow/core/grappler/optimizers/meta_optimizer.cc:153] TF_ENABLE_AUTO_MIXED_PRECISION has no effect.\n",
      "2021-12-16 17:56:35.649668: W tensorflow/core/grappler/optimizers/meta_optimizer.cc:153] TF_ENABLE_AUTO_MIXED_PRECISION has no effect.\n",
      "2021-12-16 17:56:35.660891: W tensorflow/core/grappler/optimizers/meta_optimizer.cc:153] TF_ENABLE_AUTO_MIXED_PRECISION has no effect.\n",
      "2021-12-16 17:56:35.661222: W tensorflow/core/grappler/optimizers/meta_optimizer.cc:153] TF_ENABLE_AUTO_MIXED_PRECISION has no effect.\n",
      "2021-12-16 17:56:35.661381: W tensorflow/core/grappler/optimizers/meta_optimizer.cc:153] TF_ENABLE_AUTO_MIXED_PRECISION has no effect.\n",
      "2021-12-16 17:56:35.661520: W tensorflow/core/grappler/optimizers/meta_optimizer.cc:153] TF_ENABLE_AUTO_MIXED_PRECISION has no effect.\n",
      "2021-12-16 17:56:35.676033: W tensorflow/core/grappler/optimizers/meta_optimizer.cc:153] TF_ENABLE_AUTO_MIXED_PRECISION has no effect.\n",
      "2021-12-16 17:56:35.676315: W tensorflow/core/grappler/optimizers/meta_optimizer.cc:153] TF_ENABLE_AUTO_MIXED_PRECISION has no effect.\n",
      "2021-12-16 17:56:35.676486: W tensorflow/core/grappler/optimizers/meta_optimizer.cc:153] TF_ENABLE_AUTO_MIXED_PRECISION has no effect.\n",
      "2021-12-16 17:56:35.676636: W tensorflow/core/grappler/optimizers/meta_optimizer.cc:153] TF_ENABLE_AUTO_MIXED_PRECISION has no effect.\n",
      "2021-12-16 17:56:35.684627: W tensorflow/core/grappler/optimizers/meta_optimizer.cc:153] TF_ENABLE_AUTO_MIXED_PRECISION has no effect.\n",
      "2021-12-16 17:56:35.684658: W tensorflow/core/grappler/optimizers/meta_optimizer.cc:153] TF_ENABLE_AUTO_MIXED_PRECISION has no effect.\n",
      "2021-12-16 17:56:35.684675: W tensorflow/core/grappler/optimizers/meta_optimizer.cc:153] TF_ENABLE_AUTO_MIXED_PRECISION has no effect.\n",
      "2021-12-16 17:56:35.684682: W tensorflow/core/grappler/optimizers/meta_optimizer.cc:153] TF_ENABLE_AUTO_MIXED_PRECISION has no effect.\n",
      "2021-12-16 17:56:35.693842: W tensorflow/core/grappler/optimizers/meta_optimizer.cc:153] TF_ENABLE_AUTO_MIXED_PRECISION has no effect.\n",
      "2021-12-16 17:56:35.693860: W tensorflow/core/grappler/optimizers/meta_optimizer.cc:153] TF_ENABLE_AUTO_MIXED_PRECISION has no effect.\n",
      "2021-12-16 17:56:35.693872: W tensorflow/core/grappler/optimizers/meta_optimizer.cc:153] TF_ENABLE_AUTO_MIXED_PRECISION has no effect.\n",
      "2021-12-16 17:56:35.693877: W tensorflow/core/grappler/optimizers/meta_optimizer.cc:153] TF_ENABLE_AUTO_MIXED_PRECISION has no effect.\n",
      "2021-12-16 17:56:35.707996: W tensorflow/core/grappler/optimizers/meta_optimizer.cc:153] TF_ENABLE_AUTO_MIXED_PRECISION has no effect.\n",
      "2021-12-16 17:56:35.708016: W tensorflow/core/grappler/optimizers/meta_optimizer.cc:153] TF_ENABLE_AUTO_MIXED_PRECISION has no effect.\n",
      "2021-12-16 17:56:35.708027: W tensorflow/core/grappler/optimizers/meta_optimizer.cc:153] TF_ENABLE_AUTO_MIXED_PRECISION has no effect.\n",
      "2021-12-16 17:56:35.708032: W tensorflow/core/grappler/optimizers/meta_optimizer.cc:153] TF_ENABLE_AUTO_MIXED_PRECISION has no effect.\n",
      "2021-12-16 17:56:35.715776: W tensorflow/core/grappler/optimizers/meta_optimizer.cc:153] TF_ENABLE_AUTO_MIXED_PRECISION has no effect.\n",
      "2021-12-16 17:56:35.716159: W tensorflow/core/grappler/optimizers/meta_optimizer.cc:153] TF_ENABLE_AUTO_MIXED_PRECISION has no effect.\n",
      "2021-12-16 17:56:35.716337: W tensorflow/core/grappler/optimizers/meta_optimizer.cc:153] TF_ENABLE_AUTO_MIXED_PRECISION has no effect.\n",
      "2021-12-16 17:56:35.716486: W tensorflow/core/grappler/optimizers/meta_optimizer.cc:153] TF_ENABLE_AUTO_MIXED_PRECISION has no effect.\n",
      "2021-12-16 17:56:35.726250: W tensorflow/core/grappler/optimizers/meta_optimizer.cc:153] TF_ENABLE_AUTO_MIXED_PRECISION has no effect.\n",
      "2021-12-16 17:56:35.726270: W tensorflow/core/grappler/optimizers/meta_optimizer.cc:153] TF_ENABLE_AUTO_MIXED_PRECISION has no effect.\n",
      "2021-12-16 17:56:35.726281: W tensorflow/core/grappler/optimizers/meta_optimizer.cc:153] TF_ENABLE_AUTO_MIXED_PRECISION has no effect.\n",
      "2021-12-16 17:56:35.726286: W tensorflow/core/grappler/optimizers/meta_optimizer.cc:153] TF_ENABLE_AUTO_MIXED_PRECISION has no effect.\n",
      "2021-12-16 17:56:35.740990: W tensorflow/core/grappler/optimizers/meta_optimizer.cc:153] TF_ENABLE_AUTO_MIXED_PRECISION has no effect.\n",
      "2021-12-16 17:56:35.741007: W tensorflow/core/grappler/optimizers/meta_optimizer.cc:153] TF_ENABLE_AUTO_MIXED_PRECISION has no effect.\n",
      "2021-12-16 17:56:35.741018: W tensorflow/core/grappler/optimizers/meta_optimizer.cc:153] TF_ENABLE_AUTO_MIXED_PRECISION has no effect.\n",
      "2021-12-16 17:56:35.741023: W tensorflow/core/grappler/optimizers/meta_optimizer.cc:153] TF_ENABLE_AUTO_MIXED_PRECISION has no effect.\n",
      "2021-12-16 17:56:35.748884: W tensorflow/core/grappler/optimizers/meta_optimizer.cc:153] TF_ENABLE_AUTO_MIXED_PRECISION has no effect.\n",
      "2021-12-16 17:56:35.749305: W tensorflow/core/grappler/optimizers/meta_optimizer.cc:153] TF_ENABLE_AUTO_MIXED_PRECISION has no effect.\n",
      "2021-12-16 17:56:35.749508: W tensorflow/core/grappler/optimizers/meta_optimizer.cc:153] TF_ENABLE_AUTO_MIXED_PRECISION has no effect.\n",
      "2021-12-16 17:56:35.749695: W tensorflow/core/grappler/optimizers/meta_optimizer.cc:153] TF_ENABLE_AUTO_MIXED_PRECISION has no effect.\n",
      "2021-12-16 17:56:35.760956: W tensorflow/core/grappler/optimizers/meta_optimizer.cc:153] TF_ENABLE_AUTO_MIXED_PRECISION has no effect.\n",
      "2021-12-16 17:56:35.760976: W tensorflow/core/grappler/optimizers/meta_optimizer.cc:153] TF_ENABLE_AUTO_MIXED_PRECISION has no effect.\n",
      "2021-12-16 17:56:35.760987: W tensorflow/core/grappler/optimizers/meta_optimizer.cc:153] TF_ENABLE_AUTO_MIXED_PRECISION has no effect.\n",
      "2021-12-16 17:56:35.760993: W tensorflow/core/grappler/optimizers/meta_optimizer.cc:153] TF_ENABLE_AUTO_MIXED_PRECISION has no effect.\n",
      "2021-12-16 17:56:35.774101: W tensorflow/core/grappler/optimizers/meta_optimizer.cc:153] TF_ENABLE_AUTO_MIXED_PRECISION has no effect.\n",
      "2021-12-16 17:56:35.774119: W tensorflow/core/grappler/optimizers/meta_optimizer.cc:153] TF_ENABLE_AUTO_MIXED_PRECISION has no effect.\n",
      "2021-12-16 17:56:35.774130: W tensorflow/core/grappler/optimizers/meta_optimizer.cc:153] TF_ENABLE_AUTO_MIXED_PRECISION has no effect.\n",
      "2021-12-16 17:56:35.774135: W tensorflow/core/grappler/optimizers/meta_optimizer.cc:153] TF_ENABLE_AUTO_MIXED_PRECISION has no effect.\n",
      "2021-12-16 17:56:35.787000: W tensorflow/core/grappler/optimizers/meta_optimizer.cc:153] TF_ENABLE_AUTO_MIXED_PRECISION has no effect.\n",
      "2021-12-16 17:56:35.787140: W tensorflow/core/grappler/optimizers/meta_optimizer.cc:153] TF_ENABLE_AUTO_MIXED_PRECISION has no effect.\n",
      "2021-12-16 17:56:35.787160: W tensorflow/core/grappler/optimizers/meta_optimizer.cc:153] TF_ENABLE_AUTO_MIXED_PRECISION has no effect.\n",
      "2021-12-16 17:56:35.787168: W tensorflow/core/grappler/optimizers/meta_optimizer.cc:153] TF_ENABLE_AUTO_MIXED_PRECISION has no effect.\n",
      "2021-12-16 17:56:35.837021: W tensorflow/core/grappler/optimizers/meta_optimizer.cc:153] TF_ENABLE_AUTO_MIXED_PRECISION has no effect.\n",
      "2021-12-16 17:56:35.837042: W tensorflow/core/grappler/optimizers/meta_optimizer.cc:153] TF_ENABLE_AUTO_MIXED_PRECISION has no effect.\n",
      "2021-12-16 17:56:35.837053: W tensorflow/core/grappler/optimizers/meta_optimizer.cc:153] TF_ENABLE_AUTO_MIXED_PRECISION has no effect.\n",
      "2021-12-16 17:56:35.837058: W tensorflow/core/grappler/optimizers/meta_optimizer.cc:153] TF_ENABLE_AUTO_MIXED_PRECISION has no effect.\n",
      "2021-12-16 17:56:35.888575: W tensorflow/core/grappler/optimizers/meta_optimizer.cc:153] TF_ENABLE_AUTO_MIXED_PRECISION has no effect.\n",
      "2021-12-16 17:56:35.888968: W tensorflow/core/grappler/optimizers/meta_optimizer.cc:153] TF_ENABLE_AUTO_MIXED_PRECISION has no effect.\n",
      "2021-12-16 17:56:35.889138: W tensorflow/core/grappler/optimizers/meta_optimizer.cc:153] TF_ENABLE_AUTO_MIXED_PRECISION has no effect.\n",
      "2021-12-16 17:56:35.889291: W tensorflow/core/grappler/optimizers/meta_optimizer.cc:153] TF_ENABLE_AUTO_MIXED_PRECISION has no effect.\n",
      "2021-12-16 17:56:35.921142: W tensorflow/core/grappler/optimizers/meta_optimizer.cc:153] TF_ENABLE_AUTO_MIXED_PRECISION has no effect.\n",
      "2021-12-16 17:56:35.921178: W tensorflow/core/grappler/optimizers/meta_optimizer.cc:153] TF_ENABLE_AUTO_MIXED_PRECISION has no effect.\n",
      "2021-12-16 17:56:35.921199: W tensorflow/core/grappler/optimizers/meta_optimizer.cc:153] TF_ENABLE_AUTO_MIXED_PRECISION has no effect.\n",
      "2021-12-16 17:56:35.921209: W tensorflow/core/grappler/optimizers/meta_optimizer.cc:153] TF_ENABLE_AUTO_MIXED_PRECISION has no effect.\n",
      "2021-12-16 17:56:35.932142: W tensorflow/core/grappler/optimizers/meta_optimizer.cc:153] TF_ENABLE_AUTO_MIXED_PRECISION has no effect.\n",
      "2021-12-16 17:56:35.932162: W tensorflow/core/grappler/optimizers/meta_optimizer.cc:153] TF_ENABLE_AUTO_MIXED_PRECISION has no effect.\n",
      "2021-12-16 17:56:35.932173: W tensorflow/core/grappler/optimizers/meta_optimizer.cc:153] TF_ENABLE_AUTO_MIXED_PRECISION has no effect.\n",
      "2021-12-16 17:56:35.932178: W tensorflow/core/grappler/optimizers/meta_optimizer.cc:153] TF_ENABLE_AUTO_MIXED_PRECISION has no effect.\n",
      "2021-12-16 17:56:35.980116: W tensorflow/core/grappler/optimizers/meta_optimizer.cc:153] TF_ENABLE_AUTO_MIXED_PRECISION has no effect.\n",
      "2021-12-16 17:56:35.980151: W tensorflow/core/grappler/optimizers/meta_optimizer.cc:153] TF_ENABLE_AUTO_MIXED_PRECISION has no effect.\n",
      "2021-12-16 17:56:35.980168: W tensorflow/core/grappler/optimizers/meta_optimizer.cc:153] TF_ENABLE_AUTO_MIXED_PRECISION has no effect.\n",
      "2021-12-16 17:56:35.980176: W tensorflow/core/grappler/optimizers/meta_optimizer.cc:153] TF_ENABLE_AUTO_MIXED_PRECISION has no effect.\n",
      "2021-12-16 17:56:36.009254: W tensorflow/core/grappler/optimizers/meta_optimizer.cc:153] TF_ENABLE_AUTO_MIXED_PRECISION has no effect.\n",
      "2021-12-16 17:56:36.009635: W tensorflow/core/grappler/optimizers/meta_optimizer.cc:153] TF_ENABLE_AUTO_MIXED_PRECISION has no effect.\n",
      "2021-12-16 17:56:36.009822: W tensorflow/core/grappler/optimizers/meta_optimizer.cc:153] TF_ENABLE_AUTO_MIXED_PRECISION has no effect.\n",
      "2021-12-16 17:56:36.009980: W tensorflow/core/grappler/optimizers/meta_optimizer.cc:153] TF_ENABLE_AUTO_MIXED_PRECISION has no effect.\n",
      "2021-12-16 17:56:36.019901: W tensorflow/core/grappler/optimizers/meta_optimizer.cc:153] TF_ENABLE_AUTO_MIXED_PRECISION has no effect.\n",
      "2021-12-16 17:56:36.020159: W tensorflow/core/grappler/optimizers/meta_optimizer.cc:153] TF_ENABLE_AUTO_MIXED_PRECISION has no effect.\n",
      "2021-12-16 17:56:36.020326: W tensorflow/core/grappler/optimizers/meta_optimizer.cc:153] TF_ENABLE_AUTO_MIXED_PRECISION has no effect.\n",
      "2021-12-16 17:56:36.020478: W tensorflow/core/grappler/optimizers/meta_optimizer.cc:153] TF_ENABLE_AUTO_MIXED_PRECISION has no effect.\n",
      "2021-12-16 17:56:36.068786: W tensorflow/core/grappler/optimizers/meta_optimizer.cc:153] TF_ENABLE_AUTO_MIXED_PRECISION has no effect.\n",
      "2021-12-16 17:56:36.069144: W tensorflow/core/grappler/optimizers/meta_optimizer.cc:153] TF_ENABLE_AUTO_MIXED_PRECISION has no effect.\n",
      "2021-12-16 17:56:36.069171: W tensorflow/core/grappler/optimizers/meta_optimizer.cc:153] TF_ENABLE_AUTO_MIXED_PRECISION has no effect.\n",
      "2021-12-16 17:56:36.069177: W tensorflow/core/grappler/optimizers/meta_optimizer.cc:153] TF_ENABLE_AUTO_MIXED_PRECISION has no effect.\n",
      "2021-12-16 17:56:36.097703: W tensorflow/core/grappler/optimizers/meta_optimizer.cc:153] TF_ENABLE_AUTO_MIXED_PRECISION has no effect.\n",
      "2021-12-16 17:56:36.097738: W tensorflow/core/grappler/optimizers/meta_optimizer.cc:153] TF_ENABLE_AUTO_MIXED_PRECISION has no effect.\n",
      "2021-12-16 17:56:36.097753: W tensorflow/core/grappler/optimizers/meta_optimizer.cc:153] TF_ENABLE_AUTO_MIXED_PRECISION has no effect.\n",
      "2021-12-16 17:56:36.097760: W tensorflow/core/grappler/optimizers/meta_optimizer.cc:153] TF_ENABLE_AUTO_MIXED_PRECISION has no effect.\n",
      "2021-12-16 17:56:36.106696: W tensorflow/core/grappler/optimizers/meta_optimizer.cc:153] TF_ENABLE_AUTO_MIXED_PRECISION has no effect.\n",
      "2021-12-16 17:56:36.106721: W tensorflow/core/grappler/optimizers/meta_optimizer.cc:153] TF_ENABLE_AUTO_MIXED_PRECISION has no effect.\n",
      "2021-12-16 17:56:36.106732: W tensorflow/core/grappler/optimizers/meta_optimizer.cc:153] TF_ENABLE_AUTO_MIXED_PRECISION has no effect.\n",
      "2021-12-16 17:56:36.106738: W tensorflow/core/grappler/optimizers/meta_optimizer.cc:153] TF_ENABLE_AUTO_MIXED_PRECISION has no effect.\n",
      "2021-12-16 17:56:36.157173: W tensorflow/core/grappler/optimizers/meta_optimizer.cc:153] TF_ENABLE_AUTO_MIXED_PRECISION has no effect.\n",
      "2021-12-16 17:56:36.157210: W tensorflow/core/grappler/optimizers/meta_optimizer.cc:153] TF_ENABLE_AUTO_MIXED_PRECISION has no effect.\n",
      "2021-12-16 17:56:36.157233: W tensorflow/core/grappler/optimizers/meta_optimizer.cc:153] TF_ENABLE_AUTO_MIXED_PRECISION has no effect.\n",
      "2021-12-16 17:56:36.157243: W tensorflow/core/grappler/optimizers/meta_optimizer.cc:153] TF_ENABLE_AUTO_MIXED_PRECISION has no effect.\n",
      "2021-12-16 17:56:36.186017: W tensorflow/core/grappler/optimizers/meta_optimizer.cc:153] TF_ENABLE_AUTO_MIXED_PRECISION has no effect.\n",
      "2021-12-16 17:56:36.186045: W tensorflow/core/grappler/optimizers/meta_optimizer.cc:153] TF_ENABLE_AUTO_MIXED_PRECISION has no effect.\n",
      "2021-12-16 17:56:36.186059: W tensorflow/core/grappler/optimizers/meta_optimizer.cc:153] TF_ENABLE_AUTO_MIXED_PRECISION has no effect.\n",
      "2021-12-16 17:56:36.186065: W tensorflow/core/grappler/optimizers/meta_optimizer.cc:153] TF_ENABLE_AUTO_MIXED_PRECISION has no effect.\n",
      "2021-12-16 17:56:36.194821: W tensorflow/core/grappler/optimizers/meta_optimizer.cc:153] TF_ENABLE_AUTO_MIXED_PRECISION has no effect.\n",
      "2021-12-16 17:56:36.194841: W tensorflow/core/grappler/optimizers/meta_optimizer.cc:153] TF_ENABLE_AUTO_MIXED_PRECISION has no effect.\n",
      "2021-12-16 17:56:36.194852: W tensorflow/core/grappler/optimizers/meta_optimizer.cc:153] TF_ENABLE_AUTO_MIXED_PRECISION has no effect.\n",
      "2021-12-16 17:56:36.194857: W tensorflow/core/grappler/optimizers/meta_optimizer.cc:153] TF_ENABLE_AUTO_MIXED_PRECISION has no effect.\n",
      "2021-12-16 17:56:36.245087: W tensorflow/core/grappler/optimizers/meta_optimizer.cc:153] TF_ENABLE_AUTO_MIXED_PRECISION has no effect.\n",
      "2021-12-16 17:56:36.245136: W tensorflow/core/grappler/optimizers/meta_optimizer.cc:153] TF_ENABLE_AUTO_MIXED_PRECISION has no effect.\n",
      "2021-12-16 17:56:36.245170: W tensorflow/core/grappler/optimizers/meta_optimizer.cc:153] TF_ENABLE_AUTO_MIXED_PRECISION has no effect.\n",
      "2021-12-16 17:56:36.245186: W tensorflow/core/grappler/optimizers/meta_optimizer.cc:153] TF_ENABLE_AUTO_MIXED_PRECISION has no effect.\n",
      "2021-12-16 17:56:36.274434: W tensorflow/core/grappler/optimizers/meta_optimizer.cc:153] TF_ENABLE_AUTO_MIXED_PRECISION has no effect.\n",
      "2021-12-16 17:56:36.274459: W tensorflow/core/grappler/optimizers/meta_optimizer.cc:153] TF_ENABLE_AUTO_MIXED_PRECISION has no effect.\n",
      "2021-12-16 17:56:36.274470: W tensorflow/core/grappler/optimizers/meta_optimizer.cc:153] TF_ENABLE_AUTO_MIXED_PRECISION has no effect.\n",
      "2021-12-16 17:56:36.274475: W tensorflow/core/grappler/optimizers/meta_optimizer.cc:153] TF_ENABLE_AUTO_MIXED_PRECISION has no effect.\n",
      "2021-12-16 17:56:36.282913: W tensorflow/core/grappler/optimizers/meta_optimizer.cc:153] TF_ENABLE_AUTO_MIXED_PRECISION has no effect.\n",
      "2021-12-16 17:56:36.282932: W tensorflow/core/grappler/optimizers/meta_optimizer.cc:153] TF_ENABLE_AUTO_MIXED_PRECISION has no effect.\n",
      "2021-12-16 17:56:36.282943: W tensorflow/core/grappler/optimizers/meta_optimizer.cc:153] TF_ENABLE_AUTO_MIXED_PRECISION has no effect.\n",
      "2021-12-16 17:56:36.282948: W tensorflow/core/grappler/optimizers/meta_optimizer.cc:153] TF_ENABLE_AUTO_MIXED_PRECISION has no effect.\n",
      "2021-12-16 17:56:36.328247: W tensorflow/core/grappler/optimizers/meta_optimizer.cc:153] TF_ENABLE_AUTO_MIXED_PRECISION has no effect.\n",
      "2021-12-16 17:56:36.328271: W tensorflow/core/grappler/optimizers/meta_optimizer.cc:153] TF_ENABLE_AUTO_MIXED_PRECISION has no effect.\n",
      "2021-12-16 17:56:36.328283: W tensorflow/core/grappler/optimizers/meta_optimizer.cc:153] TF_ENABLE_AUTO_MIXED_PRECISION has no effect.\n",
      "2021-12-16 17:56:36.328289: W tensorflow/core/grappler/optimizers/meta_optimizer.cc:153] TF_ENABLE_AUTO_MIXED_PRECISION has no effect.\n",
      "2021-12-16 17:56:36.354536: W tensorflow/core/grappler/optimizers/meta_optimizer.cc:153] TF_ENABLE_AUTO_MIXED_PRECISION has no effect.\n",
      "2021-12-16 17:56:36.354559: W tensorflow/core/grappler/optimizers/meta_optimizer.cc:153] TF_ENABLE_AUTO_MIXED_PRECISION has no effect.\n",
      "2021-12-16 17:56:36.354571: W tensorflow/core/grappler/optimizers/meta_optimizer.cc:153] TF_ENABLE_AUTO_MIXED_PRECISION has no effect.\n",
      "2021-12-16 17:56:36.354576: W tensorflow/core/grappler/optimizers/meta_optimizer.cc:153] TF_ENABLE_AUTO_MIXED_PRECISION has no effect.\n",
      "2021-12-16 17:56:36.366919: W tensorflow/core/grappler/optimizers/meta_optimizer.cc:153] TF_ENABLE_AUTO_MIXED_PRECISION has no effect.\n",
      "2021-12-16 17:56:36.366948: W tensorflow/core/grappler/optimizers/meta_optimizer.cc:153] TF_ENABLE_AUTO_MIXED_PRECISION has no effect.\n",
      "2021-12-16 17:56:36.366961: W tensorflow/core/grappler/optimizers/meta_optimizer.cc:153] TF_ENABLE_AUTO_MIXED_PRECISION has no effect.\n",
      "2021-12-16 17:56:36.366968: W tensorflow/core/grappler/optimizers/meta_optimizer.cc:153] TF_ENABLE_AUTO_MIXED_PRECISION has no effect.\n",
      "2021-12-16 17:56:36.574704: W tensorflow/core/grappler/optimizers/meta_optimizer.cc:153] TF_ENABLE_AUTO_MIXED_PRECISION has no effect.\n",
      "2021-12-16 17:56:36.574742: W tensorflow/core/grappler/optimizers/meta_optimizer.cc:153] TF_ENABLE_AUTO_MIXED_PRECISION has no effect.\n",
      "2021-12-16 17:56:36.574759: W tensorflow/core/grappler/optimizers/meta_optimizer.cc:153] TF_ENABLE_AUTO_MIXED_PRECISION has no effect.\n",
      "2021-12-16 17:56:36.574766: W tensorflow/core/grappler/optimizers/meta_optimizer.cc:153] TF_ENABLE_AUTO_MIXED_PRECISION has no effect.\n"
     ]
    },
    {
     "name": "stdout",
     "output_type": "stream",
     "text": [
      "Epoch 19 Loss 0.003893\n",
      "Time taken for 1 epoch 577.4439911842346 sec\n",
      "\n"
     ]
    },
    {
     "name": "stderr",
     "output_type": "stream",
     "text": [
      "2021-12-16 18:06:08.075095: W tensorflow/core/grappler/optimizers/meta_optimizer.cc:153] TF_ENABLE_AUTO_MIXED_PRECISION has no effect.\n",
      "2021-12-16 18:06:08.075148: W tensorflow/core/grappler/optimizers/meta_optimizer.cc:153] TF_ENABLE_AUTO_MIXED_PRECISION has no effect.\n",
      "2021-12-16 18:06:08.075170: W tensorflow/core/grappler/optimizers/meta_optimizer.cc:153] TF_ENABLE_AUTO_MIXED_PRECISION has no effect.\n",
      "2021-12-16 18:06:08.075180: W tensorflow/core/grappler/optimizers/meta_optimizer.cc:153] TF_ENABLE_AUTO_MIXED_PRECISION has no effect.\n"
     ]
    },
    {
     "name": "stdout",
     "output_type": "stream",
     "text": [
      "Epoch 20 Loss 0.001765\n",
      "Time taken for 1 epoch 569.4556202888489 sec\n",
      "\n"
     ]
    },
    {
     "name": "stderr",
     "output_type": "stream",
     "text": [
      "2021-12-16 18:15:37.533033: W tensorflow/core/grappler/optimizers/meta_optimizer.cc:153] TF_ENABLE_AUTO_MIXED_PRECISION has no effect.\n",
      "2021-12-16 18:15:37.533103: W tensorflow/core/grappler/optimizers/meta_optimizer.cc:153] TF_ENABLE_AUTO_MIXED_PRECISION has no effect.\n",
      "2021-12-16 18:15:37.533138: W tensorflow/core/grappler/optimizers/meta_optimizer.cc:153] TF_ENABLE_AUTO_MIXED_PRECISION has no effect.\n",
      "2021-12-16 18:15:37.533153: W tensorflow/core/grappler/optimizers/meta_optimizer.cc:153] TF_ENABLE_AUTO_MIXED_PRECISION has no effect.\n"
     ]
    },
    {
     "name": "stdout",
     "output_type": "stream",
     "text": [
      "Epoch 21 Loss 0.003293\n",
      "Time taken for 1 epoch 569.3539252281189 sec\n",
      "\n"
     ]
    },
    {
     "name": "stderr",
     "output_type": "stream",
     "text": [
      "2021-12-16 18:25:06.885914: W tensorflow/core/grappler/optimizers/meta_optimizer.cc:153] TF_ENABLE_AUTO_MIXED_PRECISION has no effect.\n",
      "2021-12-16 18:25:06.885955: W tensorflow/core/grappler/optimizers/meta_optimizer.cc:153] TF_ENABLE_AUTO_MIXED_PRECISION has no effect.\n",
      "2021-12-16 18:25:06.885968: W tensorflow/core/grappler/optimizers/meta_optimizer.cc:153] TF_ENABLE_AUTO_MIXED_PRECISION has no effect.\n",
      "2021-12-16 18:25:06.885974: W tensorflow/core/grappler/optimizers/meta_optimizer.cc:153] TF_ENABLE_AUTO_MIXED_PRECISION has no effect.\n"
     ]
    },
    {
     "name": "stdout",
     "output_type": "stream",
     "text": [
      "Epoch 22 Loss 0.001970\n",
      "Time taken for 1 epoch 570.5095021724701 sec\n",
      "\n"
     ]
    },
    {
     "name": "stderr",
     "output_type": "stream",
     "text": [
      "2021-12-16 18:34:37.393446: W tensorflow/core/grappler/optimizers/meta_optimizer.cc:153] TF_ENABLE_AUTO_MIXED_PRECISION has no effect.\n",
      "2021-12-16 18:34:37.393526: W tensorflow/core/grappler/optimizers/meta_optimizer.cc:153] TF_ENABLE_AUTO_MIXED_PRECISION has no effect.\n",
      "2021-12-16 18:34:37.393562: W tensorflow/core/grappler/optimizers/meta_optimizer.cc:153] TF_ENABLE_AUTO_MIXED_PRECISION has no effect.\n",
      "2021-12-16 18:34:37.393577: W tensorflow/core/grappler/optimizers/meta_optimizer.cc:153] TF_ENABLE_AUTO_MIXED_PRECISION has no effect.\n"
     ]
    },
    {
     "name": "stdout",
     "output_type": "stream",
     "text": [
      "Epoch 23 Loss 0.002351\n",
      "Time taken for 1 epoch 570.3073267936707 sec\n",
      "\n"
     ]
    },
    {
     "name": "stderr",
     "output_type": "stream",
     "text": [
      "2021-12-16 18:44:07.701822: W tensorflow/core/grappler/optimizers/meta_optimizer.cc:153] TF_ENABLE_AUTO_MIXED_PRECISION has no effect.\n",
      "2021-12-16 18:44:07.701895: W tensorflow/core/grappler/optimizers/meta_optimizer.cc:153] TF_ENABLE_AUTO_MIXED_PRECISION has no effect.\n",
      "2021-12-16 18:44:07.701927: W tensorflow/core/grappler/optimizers/meta_optimizer.cc:153] TF_ENABLE_AUTO_MIXED_PRECISION has no effect.\n",
      "2021-12-16 18:44:07.701940: W tensorflow/core/grappler/optimizers/meta_optimizer.cc:153] TF_ENABLE_AUTO_MIXED_PRECISION has no effect.\n"
     ]
    },
    {
     "name": "stdout",
     "output_type": "stream",
     "text": [
      "Epoch 24 Loss 0.002382\n",
      "Time taken for 1 epoch 569.904670715332 sec\n",
      "\n"
     ]
    },
    {
     "name": "stderr",
     "output_type": "stream",
     "text": [
      "2021-12-16 18:53:37.604152: W tensorflow/core/grappler/optimizers/meta_optimizer.cc:153] TF_ENABLE_AUTO_MIXED_PRECISION has no effect.\n",
      "2021-12-16 18:53:37.604189: W tensorflow/core/grappler/optimizers/meta_optimizer.cc:153] TF_ENABLE_AUTO_MIXED_PRECISION has no effect.\n",
      "2021-12-16 18:53:37.604205: W tensorflow/core/grappler/optimizers/meta_optimizer.cc:153] TF_ENABLE_AUTO_MIXED_PRECISION has no effect.\n",
      "2021-12-16 18:53:37.604210: W tensorflow/core/grappler/optimizers/meta_optimizer.cc:153] TF_ENABLE_AUTO_MIXED_PRECISION has no effect.\n"
     ]
    },
    {
     "name": "stdout",
     "output_type": "stream",
     "text": [
      "Epoch 25 Loss 0.002131\n",
      "Time taken for 1 epoch 570.1758689880371 sec\n",
      "\n"
     ]
    },
    {
     "name": "stderr",
     "output_type": "stream",
     "text": [
      "2021-12-16 19:03:07.780390: W tensorflow/core/grappler/optimizers/meta_optimizer.cc:153] TF_ENABLE_AUTO_MIXED_PRECISION has no effect.\n",
      "2021-12-16 19:03:07.780432: W tensorflow/core/grappler/optimizers/meta_optimizer.cc:153] TF_ENABLE_AUTO_MIXED_PRECISION has no effect.\n",
      "2021-12-16 19:03:07.780445: W tensorflow/core/grappler/optimizers/meta_optimizer.cc:153] TF_ENABLE_AUTO_MIXED_PRECISION has no effect.\n",
      "2021-12-16 19:03:07.780450: W tensorflow/core/grappler/optimizers/meta_optimizer.cc:153] TF_ENABLE_AUTO_MIXED_PRECISION has no effect.\n"
     ]
    },
    {
     "name": "stdout",
     "output_type": "stream",
     "text": [
      "Epoch 26 Loss 0.002582\n",
      "Time taken for 1 epoch 570.3060412406921 sec\n",
      "\n"
     ]
    },
    {
     "name": "stderr",
     "output_type": "stream",
     "text": [
      "2021-12-16 19:12:38.089640: W tensorflow/core/grappler/optimizers/meta_optimizer.cc:153] TF_ENABLE_AUTO_MIXED_PRECISION has no effect.\n",
      "2021-12-16 19:12:38.089677: W tensorflow/core/grappler/optimizers/meta_optimizer.cc:153] TF_ENABLE_AUTO_MIXED_PRECISION has no effect.\n",
      "2021-12-16 19:12:38.089690: W tensorflow/core/grappler/optimizers/meta_optimizer.cc:153] TF_ENABLE_AUTO_MIXED_PRECISION has no effect.\n",
      "2021-12-16 19:12:38.089696: W tensorflow/core/grappler/optimizers/meta_optimizer.cc:153] TF_ENABLE_AUTO_MIXED_PRECISION has no effect.\n"
     ]
    },
    {
     "name": "stdout",
     "output_type": "stream",
     "text": [
      "Epoch 27 Loss 0.001852\n",
      "Time taken for 1 epoch 570.1321740150452 sec\n",
      "\n"
     ]
    },
    {
     "name": "stderr",
     "output_type": "stream",
     "text": [
      "2021-12-16 19:22:08.218818: W tensorflow/core/grappler/optimizers/meta_optimizer.cc:153] TF_ENABLE_AUTO_MIXED_PRECISION has no effect.\n",
      "2021-12-16 19:22:08.218863: W tensorflow/core/grappler/optimizers/meta_optimizer.cc:153] TF_ENABLE_AUTO_MIXED_PRECISION has no effect.\n",
      "2021-12-16 19:22:08.218880: W tensorflow/core/grappler/optimizers/meta_optimizer.cc:153] TF_ENABLE_AUTO_MIXED_PRECISION has no effect.\n",
      "2021-12-16 19:22:08.218888: W tensorflow/core/grappler/optimizers/meta_optimizer.cc:153] TF_ENABLE_AUTO_MIXED_PRECISION has no effect.\n"
     ]
    },
    {
     "name": "stdout",
     "output_type": "stream",
     "text": [
      "Epoch 28 Loss 0.002020\n",
      "Time taken for 1 epoch 569.213499546051 sec\n",
      "\n"
     ]
    },
    {
     "name": "stderr",
     "output_type": "stream",
     "text": [
      "2021-12-16 19:31:37.432971: W tensorflow/core/grappler/optimizers/meta_optimizer.cc:153] TF_ENABLE_AUTO_MIXED_PRECISION has no effect.\n",
      "2021-12-16 19:31:37.433010: W tensorflow/core/grappler/optimizers/meta_optimizer.cc:153] TF_ENABLE_AUTO_MIXED_PRECISION has no effect.\n",
      "2021-12-16 19:31:37.433024: W tensorflow/core/grappler/optimizers/meta_optimizer.cc:153] TF_ENABLE_AUTO_MIXED_PRECISION has no effect.\n",
      "2021-12-16 19:31:37.433029: W tensorflow/core/grappler/optimizers/meta_optimizer.cc:153] TF_ENABLE_AUTO_MIXED_PRECISION has no effect.\n"
     ]
    },
    {
     "name": "stdout",
     "output_type": "stream",
     "text": [
      "Epoch 29 Loss 0.002025\n",
      "Time taken for 1 epoch 570.0607945919037 sec\n",
      "\n"
     ]
    },
    {
     "name": "stderr",
     "output_type": "stream",
     "text": [
      "2021-12-16 19:41:07.493204: W tensorflow/core/grappler/optimizers/meta_optimizer.cc:153] TF_ENABLE_AUTO_MIXED_PRECISION has no effect.\n",
      "2021-12-16 19:41:07.493254: W tensorflow/core/grappler/optimizers/meta_optimizer.cc:153] TF_ENABLE_AUTO_MIXED_PRECISION has no effect.\n",
      "2021-12-16 19:41:07.493274: W tensorflow/core/grappler/optimizers/meta_optimizer.cc:153] TF_ENABLE_AUTO_MIXED_PRECISION has no effect.\n",
      "2021-12-16 19:41:07.493283: W tensorflow/core/grappler/optimizers/meta_optimizer.cc:153] TF_ENABLE_AUTO_MIXED_PRECISION has no effect.\n"
     ]
    },
    {
     "name": "stdout",
     "output_type": "stream",
     "text": [
      "Epoch 30 Loss 0.001552\n",
      "Time taken for 1 epoch 570.2273526191711 sec\n",
      "\n"
     ]
    },
    {
     "name": "stderr",
     "output_type": "stream",
     "text": [
      "2021-12-16 19:50:37.720219: W tensorflow/core/grappler/optimizers/meta_optimizer.cc:153] TF_ENABLE_AUTO_MIXED_PRECISION has no effect.\n",
      "2021-12-16 19:50:37.720260: W tensorflow/core/grappler/optimizers/meta_optimizer.cc:153] TF_ENABLE_AUTO_MIXED_PRECISION has no effect.\n",
      "2021-12-16 19:50:37.720273: W tensorflow/core/grappler/optimizers/meta_optimizer.cc:153] TF_ENABLE_AUTO_MIXED_PRECISION has no effect.\n",
      "2021-12-16 19:50:37.720278: W tensorflow/core/grappler/optimizers/meta_optimizer.cc:153] TF_ENABLE_AUTO_MIXED_PRECISION has no effect.\n"
     ]
    },
    {
     "name": "stdout",
     "output_type": "stream",
     "text": [
      "Epoch 31 Loss 0.001093\n",
      "Time taken for 1 epoch 570.4311623573303 sec\n",
      "\n"
     ]
    },
    {
     "name": "stderr",
     "output_type": "stream",
     "text": [
      "2021-12-16 20:00:08.153019: W tensorflow/core/grappler/optimizers/meta_optimizer.cc:153] TF_ENABLE_AUTO_MIXED_PRECISION has no effect.\n",
      "2021-12-16 20:00:08.153070: W tensorflow/core/grappler/optimizers/meta_optimizer.cc:153] TF_ENABLE_AUTO_MIXED_PRECISION has no effect.\n",
      "2021-12-16 20:00:08.153091: W tensorflow/core/grappler/optimizers/meta_optimizer.cc:153] TF_ENABLE_AUTO_MIXED_PRECISION has no effect.\n",
      "2021-12-16 20:00:08.153100: W tensorflow/core/grappler/optimizers/meta_optimizer.cc:153] TF_ENABLE_AUTO_MIXED_PRECISION has no effect.\n"
     ]
    },
    {
     "name": "stdout",
     "output_type": "stream",
     "text": [
      "Epoch 32 Loss 0.001077\n",
      "Time taken for 1 epoch 570.3007774353027 sec\n",
      "\n"
     ]
    },
    {
     "name": "stderr",
     "output_type": "stream",
     "text": [
      "2021-12-16 20:09:38.453893: W tensorflow/core/grappler/optimizers/meta_optimizer.cc:153] TF_ENABLE_AUTO_MIXED_PRECISION has no effect.\n",
      "2021-12-16 20:09:38.453931: W tensorflow/core/grappler/optimizers/meta_optimizer.cc:153] TF_ENABLE_AUTO_MIXED_PRECISION has no effect.\n",
      "2021-12-16 20:09:38.453946: W tensorflow/core/grappler/optimizers/meta_optimizer.cc:153] TF_ENABLE_AUTO_MIXED_PRECISION has no effect.\n",
      "2021-12-16 20:09:38.453951: W tensorflow/core/grappler/optimizers/meta_optimizer.cc:153] TF_ENABLE_AUTO_MIXED_PRECISION has no effect.\n"
     ]
    },
    {
     "name": "stdout",
     "output_type": "stream",
     "text": [
      "Epoch 33 Loss 0.001740\n",
      "Time taken for 1 epoch 569.7635915279388 sec\n",
      "\n"
     ]
    },
    {
     "name": "stderr",
     "output_type": "stream",
     "text": [
      "2021-12-16 20:19:08.216887: W tensorflow/core/grappler/optimizers/meta_optimizer.cc:153] TF_ENABLE_AUTO_MIXED_PRECISION has no effect.\n",
      "2021-12-16 20:19:08.216940: W tensorflow/core/grappler/optimizers/meta_optimizer.cc:153] TF_ENABLE_AUTO_MIXED_PRECISION has no effect.\n",
      "2021-12-16 20:19:08.216962: W tensorflow/core/grappler/optimizers/meta_optimizer.cc:153] TF_ENABLE_AUTO_MIXED_PRECISION has no effect.\n",
      "2021-12-16 20:19:08.216972: W tensorflow/core/grappler/optimizers/meta_optimizer.cc:153] TF_ENABLE_AUTO_MIXED_PRECISION has no effect.\n"
     ]
    },
    {
     "name": "stdout",
     "output_type": "stream",
     "text": [
      "Epoch 34 Loss 0.000995\n",
      "Time taken for 1 epoch 570.0913400650024 sec\n",
      "\n"
     ]
    },
    {
     "name": "stderr",
     "output_type": "stream",
     "text": [
      "2021-12-16 20:28:38.308541: W tensorflow/core/grappler/optimizers/meta_optimizer.cc:153] TF_ENABLE_AUTO_MIXED_PRECISION has no effect.\n",
      "2021-12-16 20:28:38.308605: W tensorflow/core/grappler/optimizers/meta_optimizer.cc:153] TF_ENABLE_AUTO_MIXED_PRECISION has no effect.\n",
      "2021-12-16 20:28:38.308633: W tensorflow/core/grappler/optimizers/meta_optimizer.cc:153] TF_ENABLE_AUTO_MIXED_PRECISION has no effect.\n",
      "2021-12-16 20:28:38.308646: W tensorflow/core/grappler/optimizers/meta_optimizer.cc:153] TF_ENABLE_AUTO_MIXED_PRECISION has no effect.\n"
     ]
    },
    {
     "name": "stdout",
     "output_type": "stream",
     "text": [
      "Epoch 35 Loss 0.000906\n",
      "Time taken for 1 epoch 569.8113946914673 sec\n",
      "\n"
     ]
    },
    {
     "name": "stderr",
     "output_type": "stream",
     "text": [
      "2021-12-16 20:38:08.119587: W tensorflow/core/grappler/optimizers/meta_optimizer.cc:153] TF_ENABLE_AUTO_MIXED_PRECISION has no effect.\n",
      "2021-12-16 20:38:08.119628: W tensorflow/core/grappler/optimizers/meta_optimizer.cc:153] TF_ENABLE_AUTO_MIXED_PRECISION has no effect.\n",
      "2021-12-16 20:38:08.119641: W tensorflow/core/grappler/optimizers/meta_optimizer.cc:153] TF_ENABLE_AUTO_MIXED_PRECISION has no effect.\n",
      "2021-12-16 20:38:08.119647: W tensorflow/core/grappler/optimizers/meta_optimizer.cc:153] TF_ENABLE_AUTO_MIXED_PRECISION has no effect.\n"
     ]
    },
    {
     "name": "stdout",
     "output_type": "stream",
     "text": [
      "Epoch 36 Loss 0.001268\n",
      "Time taken for 1 epoch 569.6148872375488 sec\n",
      "\n"
     ]
    },
    {
     "name": "stderr",
     "output_type": "stream",
     "text": [
      "2021-12-16 20:47:37.735497: W tensorflow/core/grappler/optimizers/meta_optimizer.cc:153] TF_ENABLE_AUTO_MIXED_PRECISION has no effect.\n",
      "2021-12-16 20:47:37.735568: W tensorflow/core/grappler/optimizers/meta_optimizer.cc:153] TF_ENABLE_AUTO_MIXED_PRECISION has no effect.\n",
      "2021-12-16 20:47:37.735612: W tensorflow/core/grappler/optimizers/meta_optimizer.cc:153] TF_ENABLE_AUTO_MIXED_PRECISION has no effect.\n",
      "2021-12-16 20:47:37.735628: W tensorflow/core/grappler/optimizers/meta_optimizer.cc:153] TF_ENABLE_AUTO_MIXED_PRECISION has no effect.\n"
     ]
    },
    {
     "name": "stdout",
     "output_type": "stream",
     "text": [
      "Epoch 37 Loss 0.000703\n",
      "Time taken for 1 epoch 570.0493588447571 sec\n",
      "\n"
     ]
    },
    {
     "name": "stderr",
     "output_type": "stream",
     "text": [
      "2021-12-16 20:57:07.784858: W tensorflow/core/grappler/optimizers/meta_optimizer.cc:153] TF_ENABLE_AUTO_MIXED_PRECISION has no effect.\n",
      "2021-12-16 20:57:07.784937: W tensorflow/core/grappler/optimizers/meta_optimizer.cc:153] TF_ENABLE_AUTO_MIXED_PRECISION has no effect.\n",
      "2021-12-16 20:57:07.784972: W tensorflow/core/grappler/optimizers/meta_optimizer.cc:153] TF_ENABLE_AUTO_MIXED_PRECISION has no effect.\n",
      "2021-12-16 20:57:07.784988: W tensorflow/core/grappler/optimizers/meta_optimizer.cc:153] TF_ENABLE_AUTO_MIXED_PRECISION has no effect.\n"
     ]
    },
    {
     "name": "stdout",
     "output_type": "stream",
     "text": [
      "Epoch 38 Loss 0.002066\n",
      "Time taken for 1 epoch 570.9102835655212 sec\n",
      "\n"
     ]
    },
    {
     "name": "stderr",
     "output_type": "stream",
     "text": [
      "2021-12-16 21:06:38.695836: W tensorflow/core/grappler/optimizers/meta_optimizer.cc:153] TF_ENABLE_AUTO_MIXED_PRECISION has no effect.\n",
      "2021-12-16 21:06:38.695879: W tensorflow/core/grappler/optimizers/meta_optimizer.cc:153] TF_ENABLE_AUTO_MIXED_PRECISION has no effect.\n",
      "2021-12-16 21:06:38.695896: W tensorflow/core/grappler/optimizers/meta_optimizer.cc:153] TF_ENABLE_AUTO_MIXED_PRECISION has no effect.\n",
      "2021-12-16 21:06:38.695901: W tensorflow/core/grappler/optimizers/meta_optimizer.cc:153] TF_ENABLE_AUTO_MIXED_PRECISION has no effect.\n"
     ]
    },
    {
     "name": "stdout",
     "output_type": "stream",
     "text": [
      "Epoch 39 Loss 0.000943\n",
      "Time taken for 1 epoch 572.4287388324738 sec\n",
      "\n"
     ]
    },
    {
     "name": "stderr",
     "output_type": "stream",
     "text": [
      "2021-12-16 21:16:11.126165: W tensorflow/core/grappler/optimizers/meta_optimizer.cc:153] TF_ENABLE_AUTO_MIXED_PRECISION has no effect.\n",
      "2021-12-16 21:16:11.126205: W tensorflow/core/grappler/optimizers/meta_optimizer.cc:153] TF_ENABLE_AUTO_MIXED_PRECISION has no effect.\n",
      "2021-12-16 21:16:11.126220: W tensorflow/core/grappler/optimizers/meta_optimizer.cc:153] TF_ENABLE_AUTO_MIXED_PRECISION has no effect.\n",
      "2021-12-16 21:16:11.126226: W tensorflow/core/grappler/optimizers/meta_optimizer.cc:153] TF_ENABLE_AUTO_MIXED_PRECISION has no effect.\n"
     ]
    },
    {
     "name": "stdout",
     "output_type": "stream",
     "text": [
      "Epoch 40 Loss 0.001186\n",
      "Time taken for 1 epoch 569.1825966835022 sec\n",
      "\n"
     ]
    },
    {
     "name": "stderr",
     "output_type": "stream",
     "text": [
      "2021-12-16 21:25:40.305828: W tensorflow/core/grappler/optimizers/meta_optimizer.cc:153] TF_ENABLE_AUTO_MIXED_PRECISION has no effect.\n",
      "2021-12-16 21:25:40.305874: W tensorflow/core/grappler/optimizers/meta_optimizer.cc:153] TF_ENABLE_AUTO_MIXED_PRECISION has no effect.\n",
      "2021-12-16 21:25:40.305894: W tensorflow/core/grappler/optimizers/meta_optimizer.cc:153] TF_ENABLE_AUTO_MIXED_PRECISION has no effect.\n",
      "2021-12-16 21:25:40.305902: W tensorflow/core/grappler/optimizers/meta_optimizer.cc:153] TF_ENABLE_AUTO_MIXED_PRECISION has no effect.\n"
     ]
    },
    {
     "name": "stdout",
     "output_type": "stream",
     "text": [
      "Epoch 41 Loss 0.000785\n",
      "Time taken for 1 epoch 570.2016704082489 sec\n",
      "\n"
     ]
    },
    {
     "name": "stderr",
     "output_type": "stream",
     "text": [
      "2021-12-16 21:35:10.508380: W tensorflow/core/grappler/optimizers/meta_optimizer.cc:153] TF_ENABLE_AUTO_MIXED_PRECISION has no effect.\n",
      "2021-12-16 21:35:10.508451: W tensorflow/core/grappler/optimizers/meta_optimizer.cc:153] TF_ENABLE_AUTO_MIXED_PRECISION has no effect.\n",
      "2021-12-16 21:35:10.508489: W tensorflow/core/grappler/optimizers/meta_optimizer.cc:153] TF_ENABLE_AUTO_MIXED_PRECISION has no effect.\n",
      "2021-12-16 21:35:10.508504: W tensorflow/core/grappler/optimizers/meta_optimizer.cc:153] TF_ENABLE_AUTO_MIXED_PRECISION has no effect.\n"
     ]
    },
    {
     "name": "stdout",
     "output_type": "stream",
     "text": [
      "Epoch 42 Loss 0.001170\n",
      "Time taken for 1 epoch 570.1168522834778 sec\n",
      "\n"
     ]
    },
    {
     "name": "stderr",
     "output_type": "stream",
     "text": [
      "2021-12-16 21:44:40.624267: W tensorflow/core/grappler/optimizers/meta_optimizer.cc:153] TF_ENABLE_AUTO_MIXED_PRECISION has no effect.\n",
      "2021-12-16 21:44:40.624439: W tensorflow/core/grappler/optimizers/meta_optimizer.cc:153] TF_ENABLE_AUTO_MIXED_PRECISION has no effect.\n",
      "2021-12-16 21:44:40.624465: W tensorflow/core/grappler/optimizers/meta_optimizer.cc:153] TF_ENABLE_AUTO_MIXED_PRECISION has no effect.\n",
      "2021-12-16 21:44:40.624473: W tensorflow/core/grappler/optimizers/meta_optimizer.cc:153] TF_ENABLE_AUTO_MIXED_PRECISION has no effect.\n"
     ]
    },
    {
     "name": "stdout",
     "output_type": "stream",
     "text": [
      "Epoch 43 Loss 0.000732\n",
      "Time taken for 1 epoch 569.7607069015503 sec\n",
      "\n"
     ]
    },
    {
     "name": "stderr",
     "output_type": "stream",
     "text": [
      "2021-12-16 21:54:10.389717: W tensorflow/core/grappler/optimizers/meta_optimizer.cc:153] TF_ENABLE_AUTO_MIXED_PRECISION has no effect.\n",
      "2021-12-16 21:54:10.389794: W tensorflow/core/grappler/optimizers/meta_optimizer.cc:153] TF_ENABLE_AUTO_MIXED_PRECISION has no effect.\n",
      "2021-12-16 21:54:10.389830: W tensorflow/core/grappler/optimizers/meta_optimizer.cc:153] TF_ENABLE_AUTO_MIXED_PRECISION has no effect.\n",
      "2021-12-16 21:54:10.389846: W tensorflow/core/grappler/optimizers/meta_optimizer.cc:153] TF_ENABLE_AUTO_MIXED_PRECISION has no effect.\n"
     ]
    },
    {
     "name": "stdout",
     "output_type": "stream",
     "text": [
      "Epoch 44 Loss 0.000699\n",
      "Time taken for 1 epoch 572.0484671592712 sec\n",
      "\n"
     ]
    },
    {
     "name": "stderr",
     "output_type": "stream",
     "text": [
      "2021-12-16 22:03:42.434023: W tensorflow/core/grappler/optimizers/meta_optimizer.cc:153] TF_ENABLE_AUTO_MIXED_PRECISION has no effect.\n",
      "2021-12-16 22:03:42.434071: W tensorflow/core/grappler/optimizers/meta_optimizer.cc:153] TF_ENABLE_AUTO_MIXED_PRECISION has no effect.\n",
      "2021-12-16 22:03:42.434086: W tensorflow/core/grappler/optimizers/meta_optimizer.cc:153] TF_ENABLE_AUTO_MIXED_PRECISION has no effect.\n",
      "2021-12-16 22:03:42.434091: W tensorflow/core/grappler/optimizers/meta_optimizer.cc:153] TF_ENABLE_AUTO_MIXED_PRECISION has no effect.\n"
     ]
    },
    {
     "name": "stdout",
     "output_type": "stream",
     "text": [
      "Epoch 45 Loss 0.000724\n",
      "Time taken for 1 epoch 572.7844560146332 sec\n",
      "\n"
     ]
    },
    {
     "name": "stderr",
     "output_type": "stream",
     "text": [
      "2021-12-16 22:13:15.217515: W tensorflow/core/grappler/optimizers/meta_optimizer.cc:153] TF_ENABLE_AUTO_MIXED_PRECISION has no effect.\n",
      "2021-12-16 22:13:15.217556: W tensorflow/core/grappler/optimizers/meta_optimizer.cc:153] TF_ENABLE_AUTO_MIXED_PRECISION has no effect.\n",
      "2021-12-16 22:13:15.217570: W tensorflow/core/grappler/optimizers/meta_optimizer.cc:153] TF_ENABLE_AUTO_MIXED_PRECISION has no effect.\n",
      "2021-12-16 22:13:15.217576: W tensorflow/core/grappler/optimizers/meta_optimizer.cc:153] TF_ENABLE_AUTO_MIXED_PRECISION has no effect.\n"
     ]
    },
    {
     "name": "stdout",
     "output_type": "stream",
     "text": [
      "Epoch 46 Loss 0.000470\n",
      "Time taken for 1 epoch 572.5208919048309 sec\n",
      "\n"
     ]
    },
    {
     "name": "stderr",
     "output_type": "stream",
     "text": [
      "2021-12-16 22:22:47.738654: W tensorflow/core/grappler/optimizers/meta_optimizer.cc:153] TF_ENABLE_AUTO_MIXED_PRECISION has no effect.\n",
      "2021-12-16 22:22:47.738692: W tensorflow/core/grappler/optimizers/meta_optimizer.cc:153] TF_ENABLE_AUTO_MIXED_PRECISION has no effect.\n",
      "2021-12-16 22:22:47.738708: W tensorflow/core/grappler/optimizers/meta_optimizer.cc:153] TF_ENABLE_AUTO_MIXED_PRECISION has no effect.\n",
      "2021-12-16 22:22:47.738713: W tensorflow/core/grappler/optimizers/meta_optimizer.cc:153] TF_ENABLE_AUTO_MIXED_PRECISION has no effect.\n"
     ]
    },
    {
     "name": "stdout",
     "output_type": "stream",
     "text": [
      "Epoch 47 Loss 0.001130\n",
      "Time taken for 1 epoch 570.8480975627899 sec\n",
      "\n"
     ]
    },
    {
     "name": "stderr",
     "output_type": "stream",
     "text": [
      "2021-12-16 22:32:18.587117: W tensorflow/core/grappler/optimizers/meta_optimizer.cc:153] TF_ENABLE_AUTO_MIXED_PRECISION has no effect.\n",
      "2021-12-16 22:32:18.587169: W tensorflow/core/grappler/optimizers/meta_optimizer.cc:153] TF_ENABLE_AUTO_MIXED_PRECISION has no effect.\n",
      "2021-12-16 22:32:18.587189: W tensorflow/core/grappler/optimizers/meta_optimizer.cc:153] TF_ENABLE_AUTO_MIXED_PRECISION has no effect.\n",
      "2021-12-16 22:32:18.587198: W tensorflow/core/grappler/optimizers/meta_optimizer.cc:153] TF_ENABLE_AUTO_MIXED_PRECISION has no effect.\n"
     ]
    },
    {
     "name": "stdout",
     "output_type": "stream",
     "text": [
      "Epoch 48 Loss 0.000880\n",
      "Time taken for 1 epoch 571.4459500312805 sec\n",
      "\n"
     ]
    },
    {
     "name": "stderr",
     "output_type": "stream",
     "text": [
      "2021-12-16 22:41:50.034651: W tensorflow/core/grappler/optimizers/meta_optimizer.cc:153] TF_ENABLE_AUTO_MIXED_PRECISION has no effect.\n",
      "2021-12-16 22:41:50.034690: W tensorflow/core/grappler/optimizers/meta_optimizer.cc:153] TF_ENABLE_AUTO_MIXED_PRECISION has no effect.\n",
      "2021-12-16 22:41:50.034705: W tensorflow/core/grappler/optimizers/meta_optimizer.cc:153] TF_ENABLE_AUTO_MIXED_PRECISION has no effect.\n",
      "2021-12-16 22:41:50.034711: W tensorflow/core/grappler/optimizers/meta_optimizer.cc:153] TF_ENABLE_AUTO_MIXED_PRECISION has no effect.\n"
     ]
    },
    {
     "name": "stdout",
     "output_type": "stream",
     "text": [
      "Epoch 49 Loss 0.000485\n",
      "Time taken for 1 epoch 572.3116445541382 sec\n",
      "\n"
     ]
    },
    {
     "name": "stderr",
     "output_type": "stream",
     "text": [
      "2021-12-16 22:51:22.350051: W tensorflow/core/grappler/optimizers/meta_optimizer.cc:153] TF_ENABLE_AUTO_MIXED_PRECISION has no effect.\n",
      "2021-12-16 22:51:22.350106: W tensorflow/core/grappler/optimizers/meta_optimizer.cc:153] TF_ENABLE_AUTO_MIXED_PRECISION has no effect.\n",
      "2021-12-16 22:51:22.350124: W tensorflow/core/grappler/optimizers/meta_optimizer.cc:153] TF_ENABLE_AUTO_MIXED_PRECISION has no effect.\n",
      "2021-12-16 22:51:22.350130: W tensorflow/core/grappler/optimizers/meta_optimizer.cc:153] TF_ENABLE_AUTO_MIXED_PRECISION has no effect.\n"
     ]
    },
    {
     "name": "stdout",
     "output_type": "stream",
     "text": [
      "Epoch 50 Loss 0.001187\n",
      "Time taken for 1 epoch 573.1168968677521 sec\n",
      "\n"
     ]
    }
   ],
   "source": [
    "EPOCHS = 50\n",
    "\n",
    "for epoch in range(start_epoch, EPOCHS):\n",
    "    start = time.time()\n",
    "    total_loss = 0\n",
    "\n",
    "    for (batch, (img_tensor, target)) in enumerate(dataset):\n",
    "        batch_loss, t_loss = train_step(img_tensor, target)\n",
    "        total_loss += t_loss\n",
    "\n",
    "#         if batch % 100 == 0:\n",
    "#             print ('Epoch {} Batch {} Loss {:.4f}'.format(\n",
    "#               epoch + 1, batch, batch_loss.numpy() / int(target.shape[1])))\n",
    "    # storing the epoch end loss value to plot later\n",
    "    loss_plot.append(total_loss / num_steps)\n",
    "\n",
    "    ckpt_manager.save()\n",
    "\n",
    "    print ('Epoch {} Loss {:.6f}'.format(epoch + 1,\n",
    "                                         total_loss/num_steps))\n",
    "    print ('Time taken for 1 epoch {} sec\\n'.format(time.time() - start))"
   ]
  },
  {
   "cell_type": "markdown",
   "metadata": {},
   "source": [
    "### Plot\n",
    "I accidentally ran the \"loss_plot = []\" cell again before continue training from the 18th checkpoint, so the plot doesn't show the loss before the very checkpoint. 0 represents the 18th epoch."
   ]
  },
  {
   "cell_type": "code",
   "execution_count": 31,
   "metadata": {},
   "outputs": [
    {
     "data": {
      "image/png": "[encoded data removed]",
      "text/plain": [
       "<Figure size 432x288 with 1 Axes>"
      ]
     },
     "metadata": {
      "needs_background": "light"
     },
     "output_type": "display_data"
    }
   ],
   "source": [
    "plt.plot(loss_plot)\n",
    "plt.xlabel('Epochs')\n",
    "plt.ylabel('Loss')\n",
    "plt.title('Loss Plot')\n",
    "plt.show()"
   ]
  },
  {
   "cell_type": "code",
   "execution_count": 32,
   "metadata": {},
   "outputs": [
    {
     "name": "stdout",
     "output_type": "stream",
     "text": [
      "../work/anyan_work/ckpts_lab13_2/ckpt-32\n"
     ]
    }
   ],
   "source": [
    "model_epoch = 0\n",
    "latest = ckpt_manager.latest_checkpoint\n",
    "if latest:\n",
    "    model_epoch = int(latest.split('-')[-1])\n",
    "    print(latest)\n",
    "    ckpt.restore(latest)"
   ]
  },
  {
   "cell_type": "code",
   "execution_count": 22,
   "metadata": {},
   "outputs": [],
   "source": [
    "def load_test_image(image_path):\n",
    "    img = tf.io.read_file(image_path)\n",
    "    img = tf.image.decode_png(img, channels=3)\n",
    "    img = tf.image.resize(img, (256, 256))\n",
    "    return img"
   ]
  },
  {
   "cell_type": "code",
   "execution_count": 41,
   "metadata": {},
   "outputs": [],
   "source": [
    "def evaluate(image):\n",
    "    attention_plot = np.zeros((max_length, attention_features_shape))\n",
    "\n",
    "    hidden = decoder.reset_state(batch_size=1)\n",
    "\n",
    "    img_tensor_val = tf.expand_dims(load_test_image(image), 0)\n",
    "    # img_tensor_val = image_features_extract_model(temp_input)\n",
    "    # img_tensor_val = tf.reshape(img_tensor_val, (img_tensor_val.shape[0], -1, img_tensor_val.shape[3]))\n",
    "\n",
    "    features = encoder(img_tensor_val)\n",
    "\n",
    "    dec_input = tf.expand_dims([tokenizer.word_index['<start>']], 0)\n",
    "    result = []\n",
    "    is_end = False\n",
    "\n",
    "    for i in range(max_length):\n",
    "        if is_end:\n",
    "            result.append(tokenizer.index_word[0])\n",
    "        else:\n",
    "            predictions, hidden, attention_weights = decoder(dec_input, features, hidden)\n",
    "            # attention_plot[i] = tf.reshape(attention_weights, (-1, )).numpy()\n",
    "            predicted_id = tf.argmax(predictions[0]).numpy()\n",
    "            result.append(tokenizer.index_word[predicted_id])\n",
    "\n",
    "        if tokenizer.index_word[predicted_id] == '<end>':\n",
    "            # return result, attention_plot\n",
    "            is_end = True\n",
    "\n",
    "        dec_input = tf.expand_dims([predicted_id], 0)\n",
    "\n",
    "    attention_plot = attention_plot[:len(result), :]\n",
    "    return result, attention_plot"
   ]
  },
  {
   "cell_type": "code",
   "execution_count": 42,
   "metadata": {},
   "outputs": [],
   "source": [
    "def plot_attention(image, result, attention_plot):\n",
    "    temp_image = np.array(Image.open(image))\n",
    "\n",
    "    fig = plt.figure(figsize=(10, 10))\n",
    "\n",
    "    len_result = len(result)\n",
    "    for l in range(len_result):\n",
    "        temp_att = np.resize(attention_plot[l], (8, 8))\n",
    "        ax = fig.add_subplot(len_result//2, len_result//2, l+1)\n",
    "        ax.set_title(result[l])\n",
    "        img = ax.imshow(temp_image)\n",
    "        ax.imshow(temp_att, cmap='gray', alpha=0.6, extent=img.get_extent())\n",
    "\n",
    "    plt.tight_layout()\n",
    "    plt.show()"
   ]
  },
  {
   "cell_type": "code",
   "execution_count": 43,
   "metadata": {},
   "outputs": [
    {
     "name": "stdout",
     "output_type": "stream",
     "text": [
      "Real Caption: <start> p a s s <end>\n",
      "Prediction Caption: p a s s <end> <pad> <pad>\n"
     ]
    },
    {
     "data": {
      "image/png": "[encoded data removed]",
      "text/plain": [
       "<Figure size 720x720 with 7 Axes>"
      ]
     },
     "metadata": {
      "needs_background": "light"
     },
     "output_type": "display_data"
    },
    {
     "data": {
      "image/png": "[encoded data removed]",
      "text/plain": [
       "<PIL.PngImagePlugin.PngImageFile image mode=RGB size=600x320 at 0x7FE5C1C38190>"
      ]
     },
     "execution_count": 43,
     "metadata": {},
     "output_type": "execute_result"
    }
   ],
   "source": [
    "# captions on the validation set\n",
    "rid = np.random.randint(0, len(img_val))\n",
    "image = img_val[rid]\n",
    "real_caption = ' '.join([tokenizer.index_word[i] for i in cap_val[rid] if i not in [0]])\n",
    "result, attention_plot = evaluate(image)\n",
    "\n",
    "print ('Real Caption:', real_caption)\n",
    "print ('Prediction Caption:', ' '.join(result))\n",
    "plot_attention(image, result, attention_plot)\n",
    "# opening the image\n",
    "\n",
    "Image.open(img_val[rid])"
   ]
  },
  {
   "cell_type": "markdown",
   "metadata": {},
   "source": [
    "### Caption\n",
    "test on validation set"
   ]
  },
  {
   "cell_type": "code",
   "execution_count": 44,
   "metadata": {},
   "outputs": [],
   "source": [
    "def predict(image):\n",
    "    hidden = decoder.reset_state(batch_size=1)\n",
    "    img_tensor_val = tf.expand_dims(load_test_image(image), 0)\n",
    "    features = encoder(img_tensor_val)\n",
    "    dec_input = tf.expand_dims([tokenizer.word_index['<start>']], 0)\n",
    "    result = []\n",
    "\n",
    "    for i in range(max_length):\n",
    "        predictions, hidden, attention_weights = decoder(dec_input, features, hidden)\n",
    "\n",
    "        predicted_id = tf.argmax(predictions[0]).numpy()\n",
    "        result.append(tokenizer.index_word[predicted_id])\n",
    "    return result\n",
    "\n",
    "def filter_tag(letter):\n",
    "    tags = ['<start>', '<end>', '<pad>']\n",
    "    if letter in tags:\n",
    "        return False\n",
    "    else:\n",
    "        return True"
   ]
  },
  {
   "cell_type": "markdown",
   "metadata": {},
   "source": [
    "#### latest checkpoint performance"
   ]
  },
  {
   "cell_type": "code",
   "execution_count": 45,
   "metadata": {},
   "outputs": [
    {
     "name": "stderr",
     "output_type": "stream",
     "text": [
      "Acc: 95.12%: 100%|██████████| 20000/20000 [20:52<00:00, 15.97it/s]"
     ]
    },
    {
     "name": "stdout",
     "output_type": "stream",
     "text": [
      "Total Acc: 95.12%\n"
     ]
    },
    {
     "name": "stderr",
     "output_type": "stream",
     "text": [
      "\n"
     ]
    }
   ],
   "source": [
    "from tqdm import tqdm\n",
    "acc_num = 0\n",
    "pbar = tqdm(range(len(img_val)))\n",
    "for rid in pbar:\n",
    "    image = img_val[rid]\n",
    "    # print(f\"Path: {image}\")\n",
    "    real_caption = [tokenizer.index_word[i] for i in cap_val[rid] if i not in [0]]\n",
    "    pred_caption = predict(image)\n",
    "\n",
    "    real_caption = list(filter(filter_tag, real_caption))\n",
    "    pred_caption = list(filter(filter_tag, pred_caption))\n",
    "    # print(f\"Real: {real_caption}, Pred: {pred_caption}\")\n",
    "    if real_caption == pred_caption:\n",
    "        acc_num = acc_num + 1\n",
    "    else:\n",
    "        pass\n",
    "        # print(f\"Real: {real_caption}, Pred: {pred_caption}\")\n",
    "    pbar.set_description(f\"Acc: {round((acc_num / (rid+1)) * 100, 2)}%\")\n",
    "\n",
    "print(f\"Total Acc: {round((acc_num / len(img_val)) * 100, 2)}%\")"
   ]
  },
  {
   "cell_type": "code",
   "execution_count": 19,
   "metadata": {},
   "outputs": [
    {
     "data": {
      "text/plain": [
       "<tensorflow.python.training.tracking.util.CheckpointLoadStatus at 0x7ff6622602b0>"
      ]
     },
     "execution_count": 19,
     "metadata": {},
     "output_type": "execute_result"
    }
   ],
   "source": [
    "ckpt.restore(\"../work/anyan_work/ckpts_lab13_2/ckpt-28\")"
   ]
  },
  {
   "cell_type": "code",
   "execution_count": 20,
   "metadata": {},
   "outputs": [],
   "source": [
    "def predict(image):\n",
    "    hidden = decoder.reset_state(batch_size=1)\n",
    "    img_tensor_val = tf.expand_dims(load_test_image(image), 0)\n",
    "    features = encoder(img_tensor_val)\n",
    "    dec_input = tf.expand_dims([tokenizer.word_index['<start>']], 0)\n",
    "    result = []\n",
    "\n",
    "    for i in range(max_length):\n",
    "        predictions, hidden, attention_weights = decoder(dec_input, features, hidden)\n",
    "\n",
    "        predicted_id = tf.argmax(predictions[0]).numpy()\n",
    "        result.append(tokenizer.index_word[predicted_id])\n",
    "    return result\n",
    "\n",
    "def filter_tag(letter):\n",
    "    tags = ['<start>', '<end>', '<pad>']\n",
    "    if letter in tags:\n",
    "        return False\n",
    "    else:\n",
    "        return True"
   ]
  },
  {
   "cell_type": "markdown",
   "metadata": {},
   "source": [
    "#### lowest loss checkpoint performance (not enough time)"
   ]
  },
  {
   "cell_type": "code",
   "execution_count": 23,
   "metadata": {},
   "outputs": [
    {
     "name": "stderr",
     "output_type": "stream",
     "text": [
      "  0%|          | 0/20000 [00:00<?, ?it/s]2021-12-16 23:42:51.765650: I tensorflow/stream_executor/platform/default/dso_loader.cc:54] Successfully opened dynamic library libcudnn.so.8\n",
      "2021-12-16 23:42:52.245537: I tensorflow/stream_executor/cuda/cuda_dnn.cc:380] Loaded cuDNN version 8202\n",
      "2021-12-16 23:42:52.771755: I tensorflow/stream_executor/platform/default/dso_loader.cc:54] Successfully opened dynamic library libcublas.so.11\n",
      "2021-12-16 23:42:53.174163: I tensorflow/stream_executor/platform/default/dso_loader.cc:54] Successfully opened dynamic library libcublasLt.so.11\n",
      "Acc: 98.04%:   3%|▎         | 613/20000 [00:42<22:14, 14.53it/s] \n"
     ]
    },
    {
     "ename": "KeyboardInterrupt",
     "evalue": "",
     "output_type": "error",
     "traceback": [
      "\u001b[0;31m---------------------------------------------------------------------------\u001b[0m",
      "\u001b[0;31mKeyboardInterrupt\u001b[0m                         Traceback (most recent call last)",
      "\u001b[0;32m/tmp/ipykernel_1943/2189795631.py\u001b[0m in \u001b[0;36m<module>\u001b[0;34m\u001b[0m\n\u001b[1;32m      6\u001b[0m     \u001b[0;31m# print(f\"Path: {image}\")\u001b[0m\u001b[0;34m\u001b[0m\u001b[0;34m\u001b[0m\u001b[0;34m\u001b[0m\u001b[0m\n\u001b[1;32m      7\u001b[0m     \u001b[0mreal_caption\u001b[0m \u001b[0;34m=\u001b[0m \u001b[0;34m[\u001b[0m\u001b[0mtokenizer\u001b[0m\u001b[0;34m.\u001b[0m\u001b[0mindex_word\u001b[0m\u001b[0;34m[\u001b[0m\u001b[0mi\u001b[0m\u001b[0;34m]\u001b[0m \u001b[0;32mfor\u001b[0m \u001b[0mi\u001b[0m \u001b[0;32min\u001b[0m \u001b[0mcap_val\u001b[0m\u001b[0;34m[\u001b[0m\u001b[0mrid\u001b[0m\u001b[0;34m]\u001b[0m \u001b[0;32mif\u001b[0m \u001b[0mi\u001b[0m \u001b[0;32mnot\u001b[0m \u001b[0;32min\u001b[0m \u001b[0;34m[\u001b[0m\u001b[0;36m0\u001b[0m\u001b[0;34m]\u001b[0m\u001b[0;34m]\u001b[0m\u001b[0;34m\u001b[0m\u001b[0;34m\u001b[0m\u001b[0m\n\u001b[0;32m----> 8\u001b[0;31m     \u001b[0mpred_caption\u001b[0m \u001b[0;34m=\u001b[0m \u001b[0mpredict\u001b[0m\u001b[0;34m(\u001b[0m\u001b[0mimage\u001b[0m\u001b[0;34m)\u001b[0m\u001b[0;34m\u001b[0m\u001b[0;34m\u001b[0m\u001b[0m\n\u001b[0m\u001b[1;32m      9\u001b[0m \u001b[0;34m\u001b[0m\u001b[0m\n\u001b[1;32m     10\u001b[0m     \u001b[0mreal_caption\u001b[0m \u001b[0;34m=\u001b[0m \u001b[0mlist\u001b[0m\u001b[0;34m(\u001b[0m\u001b[0mfilter\u001b[0m\u001b[0;34m(\u001b[0m\u001b[0mfilter_tag\u001b[0m\u001b[0;34m,\u001b[0m \u001b[0mreal_caption\u001b[0m\u001b[0;34m)\u001b[0m\u001b[0;34m)\u001b[0m\u001b[0;34m\u001b[0m\u001b[0;34m\u001b[0m\u001b[0m\n",
      "\u001b[0;32m/tmp/ipykernel_1943/2861298460.py\u001b[0m in \u001b[0;36mpredict\u001b[0;34m(image)\u001b[0m\n\u001b[1;32m      1\u001b[0m \u001b[0;32mdef\u001b[0m \u001b[0mpredict\u001b[0m\u001b[0;34m(\u001b[0m\u001b[0mimage\u001b[0m\u001b[0;34m)\u001b[0m\u001b[0;34m:\u001b[0m\u001b[0;34m\u001b[0m\u001b[0;34m\u001b[0m\u001b[0m\n\u001b[1;32m      2\u001b[0m     \u001b[0mhidden\u001b[0m \u001b[0;34m=\u001b[0m \u001b[0mdecoder\u001b[0m\u001b[0;34m.\u001b[0m\u001b[0mreset_state\u001b[0m\u001b[0;34m(\u001b[0m\u001b[0mbatch_size\u001b[0m\u001b[0;34m=\u001b[0m\u001b[0;36m1\u001b[0m\u001b[0;34m)\u001b[0m\u001b[0;34m\u001b[0m\u001b[0;34m\u001b[0m\u001b[0m\n\u001b[0;32m----> 3\u001b[0;31m     \u001b[0mimg_tensor_val\u001b[0m \u001b[0;34m=\u001b[0m \u001b[0mtf\u001b[0m\u001b[0;34m.\u001b[0m\u001b[0mexpand_dims\u001b[0m\u001b[0;34m(\u001b[0m\u001b[0mload_test_image\u001b[0m\u001b[0;34m(\u001b[0m\u001b[0mimage\u001b[0m\u001b[0;34m)\u001b[0m\u001b[0;34m,\u001b[0m \u001b[0;36m0\u001b[0m\u001b[0;34m)\u001b[0m\u001b[0;34m\u001b[0m\u001b[0;34m\u001b[0m\u001b[0m\n\u001b[0m\u001b[1;32m      4\u001b[0m     \u001b[0mfeatures\u001b[0m \u001b[0;34m=\u001b[0m \u001b[0mencoder\u001b[0m\u001b[0;34m(\u001b[0m\u001b[0mimg_tensor_val\u001b[0m\u001b[0;34m)\u001b[0m\u001b[0;34m\u001b[0m\u001b[0;34m\u001b[0m\u001b[0m\n\u001b[1;32m      5\u001b[0m     \u001b[0mdec_input\u001b[0m \u001b[0;34m=\u001b[0m \u001b[0mtf\u001b[0m\u001b[0;34m.\u001b[0m\u001b[0mexpand_dims\u001b[0m\u001b[0;34m(\u001b[0m\u001b[0;34m[\u001b[0m\u001b[0mtokenizer\u001b[0m\u001b[0;34m.\u001b[0m\u001b[0mword_index\u001b[0m\u001b[0;34m[\u001b[0m\u001b[0;34m'<start>'\u001b[0m\u001b[0;34m]\u001b[0m\u001b[0;34m]\u001b[0m\u001b[0;34m,\u001b[0m \u001b[0;36m0\u001b[0m\u001b[0;34m)\u001b[0m\u001b[0;34m\u001b[0m\u001b[0;34m\u001b[0m\u001b[0m\n",
      "\u001b[0;32m/tmp/ipykernel_1943/1263388001.py\u001b[0m in \u001b[0;36mload_test_image\u001b[0;34m(image_path)\u001b[0m\n\u001b[1;32m      1\u001b[0m \u001b[0;32mdef\u001b[0m \u001b[0mload_test_image\u001b[0m\u001b[0;34m(\u001b[0m\u001b[0mimage_path\u001b[0m\u001b[0;34m)\u001b[0m\u001b[0;34m:\u001b[0m\u001b[0;34m\u001b[0m\u001b[0;34m\u001b[0m\u001b[0m\n\u001b[1;32m      2\u001b[0m     \u001b[0mimg\u001b[0m \u001b[0;34m=\u001b[0m \u001b[0mtf\u001b[0m\u001b[0;34m.\u001b[0m\u001b[0mio\u001b[0m\u001b[0;34m.\u001b[0m\u001b[0mread_file\u001b[0m\u001b[0;34m(\u001b[0m\u001b[0mimage_path\u001b[0m\u001b[0;34m)\u001b[0m\u001b[0;34m\u001b[0m\u001b[0;34m\u001b[0m\u001b[0m\n\u001b[0;32m----> 3\u001b[0;31m     \u001b[0mimg\u001b[0m \u001b[0;34m=\u001b[0m \u001b[0mtf\u001b[0m\u001b[0;34m.\u001b[0m\u001b[0mimage\u001b[0m\u001b[0;34m.\u001b[0m\u001b[0mdecode_png\u001b[0m\u001b[0;34m(\u001b[0m\u001b[0mimg\u001b[0m\u001b[0;34m,\u001b[0m \u001b[0mchannels\u001b[0m\u001b[0;34m=\u001b[0m\u001b[0;36m3\u001b[0m\u001b[0;34m)\u001b[0m\u001b[0;34m\u001b[0m\u001b[0;34m\u001b[0m\u001b[0m\n\u001b[0m\u001b[1;32m      4\u001b[0m     \u001b[0mimg\u001b[0m \u001b[0;34m=\u001b[0m \u001b[0mtf\u001b[0m\u001b[0;34m.\u001b[0m\u001b[0mimage\u001b[0m\u001b[0;34m.\u001b[0m\u001b[0mresize\u001b[0m\u001b[0;34m(\u001b[0m\u001b[0mimg\u001b[0m\u001b[0;34m,\u001b[0m \u001b[0;34m(\u001b[0m\u001b[0;36m256\u001b[0m\u001b[0;34m,\u001b[0m \u001b[0;36m256\u001b[0m\u001b[0;34m)\u001b[0m\u001b[0;34m)\u001b[0m\u001b[0;34m\u001b[0m\u001b[0;34m\u001b[0m\u001b[0m\n\u001b[1;32m      5\u001b[0m     \u001b[0;32mreturn\u001b[0m \u001b[0mimg\u001b[0m\u001b[0;34m\u001b[0m\u001b[0;34m\u001b[0m\u001b[0m\n",
      "\u001b[0;32m/usr/local/lib/python3.8/dist-packages/tensorflow/python/ops/gen_image_ops.py\u001b[0m in \u001b[0;36mdecode_png\u001b[0;34m(contents, channels, dtype, name)\u001b[0m\n\u001b[1;32m   1284\u001b[0m   \u001b[0;32mif\u001b[0m \u001b[0mtld\u001b[0m\u001b[0;34m.\u001b[0m\u001b[0mis_eager\u001b[0m\u001b[0;34m:\u001b[0m\u001b[0;34m\u001b[0m\u001b[0;34m\u001b[0m\u001b[0m\n\u001b[1;32m   1285\u001b[0m     \u001b[0;32mtry\u001b[0m\u001b[0;34m:\u001b[0m\u001b[0;34m\u001b[0m\u001b[0;34m\u001b[0m\u001b[0m\n\u001b[0;32m-> 1286\u001b[0;31m       _result = pywrap_tfe.TFE_Py_FastPathExecute(\n\u001b[0m\u001b[1;32m   1287\u001b[0m         \u001b[0m_ctx\u001b[0m\u001b[0;34m,\u001b[0m \u001b[0;34m\"DecodePng\"\u001b[0m\u001b[0;34m,\u001b[0m \u001b[0mname\u001b[0m\u001b[0;34m,\u001b[0m \u001b[0mcontents\u001b[0m\u001b[0;34m,\u001b[0m \u001b[0;34m\"channels\"\u001b[0m\u001b[0;34m,\u001b[0m \u001b[0mchannels\u001b[0m\u001b[0;34m,\u001b[0m \u001b[0;34m\"dtype\"\u001b[0m\u001b[0;34m,\u001b[0m\u001b[0;34m\u001b[0m\u001b[0;34m\u001b[0m\u001b[0m\n\u001b[1;32m   1288\u001b[0m         dtype)\n",
      "\u001b[0;31mKeyboardInterrupt\u001b[0m: "
     ]
    }
   ],
   "source": [
    "from tqdm import tqdm\n",
    "acc_num = 0\n",
    "pbar = tqdm(range(len(img_val)))\n",
    "for rid in pbar:\n",
    "    image = img_val[rid]\n",
    "    # print(f\"Path: {image}\")\n",
    "    real_caption = [tokenizer.index_word[i] for i in cap_val[rid] if i not in [0]]\n",
    "    pred_caption = predict(image)\n",
    "\n",
    "    real_caption = list(filter(filter_tag, real_caption))\n",
    "    pred_caption = list(filter(filter_tag, pred_caption))\n",
    "    # print(f\"Real: {real_caption}, Pred: {pred_caption}\")\n",
    "    if real_caption == pred_caption:\n",
    "        acc_num = acc_num + 1\n",
    "    else:\n",
    "        pass\n",
    "        # print(f\"Real: {real_caption}, Pred: {pred_caption}\")\n",
    "    pbar.set_description(f\"Acc: {round((acc_num / (rid+1)) * 100, 2)}%\")\n",
    "\n",
    "print(f\"Total Acc: {round((acc_num / len(img_val)) * 100, 2)}%\")"
   ]
  },
  {
   "cell_type": "code",
   "execution_count": null,
   "metadata": {},
   "outputs": [],
   "source": [
    "from os import listdir\n",
    "from os.path import isfile, join\n",
    "\n",
    "file_list = [f for f in listdir(path) if isfile(join(path, f)) and f[-4:] == '.png']\n",
    "test_full_path_list = [join(path, f) for f in file_list if isfile(join(path, f)) and int(f[1:-4]) >= 120000]\n",
    "test_name_list = [f[:-4] for f in file_list if isfile(join(path, f)) and int(f[1:-4]) >= 120000]\n",
    "print(len(test_full_path_list))\n",
    "print(test_full_path_list[:5])\n",
    "print(test_name_list[:5])"
   ]
  },
  {
   "cell_type": "markdown",
   "metadata": {},
   "source": [
    "### Predict Testing data (cleared output accidentally, showed in another notebook)"
   ]
  },
  {
   "cell_type": "code",
   "execution_count": null,
   "metadata": {},
   "outputs": [],
   "source": [
    "import csv\n",
    "pbar = tqdm(range(len(test_full_path_list)))\n",
    "\n",
    "with open('../work/anyan_work/ckpts_Lab13_2/Lab13-2_107081028.txt', 'w', newline='') as csvfile:\n",
    "    writer = csv.writer(csvfile, delimiter=' ')\n",
    "\n",
    "    for rid in pbar:\n",
    "        image = test_full_path_list[rid]\n",
    "        pred_caption = predict(image)\n",
    "      \n",
    "        pred_caption = ''.join(list(filter(filter_tag, pred_caption)))\n",
    "        row = [test_name_list[rid], pred_caption]\n",
    "\n",
    "    # print(row)\n",
    "        writer.writerow(row)"
   ]
  }
 ],
 "metadata": {
  "kernelspec": {
   "display_name": "Python 3",
   "language": "python",
   "name": "python3"
  },
  "language_info": {
   "codemirror_mode": {
    "name": "ipython",
    "version": 3
   },
   "file_extension": ".py",
   "mimetype": "text/x-python",
   "name": "python",
   "nbconvert_exporter": "python",
   "pygments_lexer": "ipython3",
   "version": "3.7.9"
  }
 },
 "nbformat": 4,
 "nbformat_minor": 5
}
