{
 "cells": [
  {
   "cell_type": "code",
   "execution_count": 283,
   "id": "1b4e43df",
   "metadata": {},
   "outputs": [],
   "source": [
    "import csv, sys\n",
    "from bs4 import BeautifulSoup\n",
    "from datetime import datetime\n",
    "from joblib import Parallel, delayed\n",
    "import re\n",
    "import pandas as pd\n",
    "\n",
    "train_dataset_dir = './train/'\n",
    "test_dataset_dir = './test/'\n",
    "\n",
    "from os import listdir\n",
    "from os.path import isfile, isdir, join\n"
   ]
  },
  {
   "cell_type": "markdown",
   "id": "1af6cd51",
   "metadata": {},
   "source": [
    "以下是loading data"
   ]
  },
  {
   "cell_type": "code",
   "execution_count": 303,
   "id": "aae8e736",
   "metadata": {
    "scrolled": true
   },
   "outputs": [],
   "source": [
    "train_df = None\n",
    "test_df = None\n",
    "train_files = listdir(train_dataset_dir)\n",
    "test_files = listdir(test_dataset_dir)\n",
    "\n",
    "train_df = pd.read_csv(train_dataset_dir + 'title_len.csv')\n",
    "test_df = pd.read_csv(test_dataset_dir + 'title_len.csv')"
   ]
  },
  {
   "cell_type": "code",
   "execution_count": 304,
   "id": "7471bc93",
   "metadata": {
    "scrolled": true
   },
   "outputs": [],
   "source": [
    "for f in train_files:\n",
    "        s = f[:-4]\n",
    "        temp_df = pd.read_csv(train_dataset_dir + s + '.csv', lineterminator='\\n')\n",
    "        train_df[s] = temp_df[s]"
   ]
  },
  {
   "cell_type": "code",
   "execution_count": 306,
   "id": "787f529c",
   "metadata": {
    "scrolled": true
   },
   "outputs": [],
   "source": [
    "for f in test_files:\n",
    "        s = f[:-4]\n",
    "        temp_df = pd.read_csv(test_dataset_dir + s + '.csv', lineterminator='\\n')\n",
    "        test_df[s] = temp_df[s]"
   ]
  },
  {
   "cell_type": "code",
   "execution_count": 307,
   "id": "fa5b8ad8",
   "metadata": {},
   "outputs": [],
   "source": [
    "import pandas as pd\n",
    "from sklearn.linear_model import LogisticRegression\n",
    "from sklearn.model_selection import cross_val_score, StratifiedKFold\n",
    "from sklearn.feature_extraction.text import TfidfVectorizer\n",
    "from scipy.sparse import hstack\n",
    "from matplotlib import pyplot as plt\n",
    "import seaborn as sns"
   ]
  },
  {
   "cell_type": "code",
   "execution_count": 308,
   "id": "2a4d2f9e",
   "metadata": {},
   "outputs": [],
   "source": [
    "import pandas as pd\n",
    "import numpy as np\n",
    "from sklearn.base import BaseEstimator,TransformerMixin\n",
    "from sklearn.compose import ColumnTransformer\n",
    "from sklearn.preprocessing import FunctionTransformer\n",
    "from sklearn.datasets import load_iris\n",
    "from sklearn.model_selection import GridSearchCV\n",
    "from sklearn.pipeline import Pipeline\n",
    "from sklearn.impute import SimpleImputer\n",
    "from sklearn.linear_model import LogisticRegression\n",
    "from sklearn.preprocessing import StandardScaler\n"
   ]
  },
  {
   "cell_type": "markdown",
   "id": "579599a5",
   "metadata": {},
   "source": [
    "解釋一下下面兩個transformer，可以當成standardScalar的感覺，call fit會把丟入的trainset去算dictionary跟mean(就跟SC的fit一樣，要先看train的平均一樣)，Call transform會把input transform成有popularity的datafram，所以可以放進pipeline"
   ]
  },
  {
   "cell_type": "code",
   "execution_count": 312,
   "id": "fc92c935",
   "metadata": {},
   "outputs": [],
   "source": [
    "class AuthorTransFormer(BaseEstimator,TransformerMixin):\n",
    "    def __init__(self, gate = 5):\n",
    "        self.author_pop_dict = {}\n",
    "        self.author_pop_mean = 0\n",
    "        self.gate = 5\n",
    "        \n",
    "    def get_author_pop(self, author_arr):\n",
    "        total_mean = []\n",
    "        for i in author_arr:\n",
    "            if i in self.author_pop_dict.keys():\n",
    "                total_mean.append(self.author_pop_dict[i])\n",
    "            else:\n",
    "                total_mean.append(self.author_pop_mean)\n",
    "        return total_mean\n",
    "\n",
    "    def get_train_author_pop(self, author_arr, label_arr):\n",
    "        popularity = {}\n",
    "        for author, label in zip(author_arr, label_arr):\n",
    "            if author in popularity.keys():\n",
    "                popularity[author].append(int(label))\n",
    "            else:\n",
    "                popularity[author] = [int(label)]\n",
    "\n",
    "        delete_keys = []\n",
    "        for i in popularity.keys():\n",
    "            if(len(popularity[i]) < self.gate):\n",
    "                delete_keys.append(i)\n",
    "            else:\n",
    "                popularity[i] = sum(popularity[i]) / len(popularity[i])\n",
    "                \n",
    "        for j in delete_keys:\n",
    "            popularity.pop(j, None)\n",
    "        total_mean = []\n",
    "        cnt = 0\n",
    "        for i in author_arr:\n",
    "            if i in popularity.keys():\n",
    "                total_mean.append(popularity[i])\n",
    "            else:\n",
    "                cnt = cnt + 1\n",
    "                total_mean.append(-1)\n",
    "\n",
    "        mean = (sum(total_mean) + cnt)/ (len(total_mean) - cnt)\n",
    "        return popularity, mean\n",
    "\n",
    "\n",
    "    def fit(self,X,y=None):\n",
    "        self.author_pop_dict, self.author_pop_mean = self.get_train_author_pop(X['author'], X['label'])\n",
    "        return self\n",
    "    \n",
    "    def transform(self,X,y=None):\n",
    "        X['popularity'] = self.get_author_pop(X['author'])\n",
    "        X= X.drop(['author'], axis=1)\n",
    "        return X\n",
    "    "
   ]
  },
  {
   "cell_type": "code",
   "execution_count": 313,
   "id": "fecfec7e",
   "metadata": {},
   "outputs": [],
   "source": [
    "class TopicsTransFormer(BaseEstimator,TransformerMixin):\n",
    "    def __init__(self, gate = 5):\n",
    "        self.topics_pop_dict = {}\n",
    "        self.topics_pop_mean = 0\n",
    "        self.gate = 5\n",
    "        \n",
    "    def get_topics_pop(self,topics_arr):\n",
    "        total_mean = []\n",
    "        for topics in topics_arr :\n",
    "            tps_val = -1\n",
    "            choose_tps = ''\n",
    "            for tps in topics.split():\n",
    "                if tps in self.topics_pop_dict.keys():\n",
    "                    if tps_val < self.topics_pop_dict[tps]:\n",
    "                        tps_val = self.topics_pop_dict[tps]\n",
    "                        choose_tps = tps\n",
    "            if topics == '' or choose_tps == '':\n",
    "                total_mean.append(self.topics_pop_mean)\n",
    "            else:\n",
    "                total_mean.append(self.topics_pop_dict[choose_tps])\n",
    "        return total_mean\n",
    "\n",
    "    def get_train_topics_pop(self, topics_arr, label_arr):\n",
    "        popularity = {}\n",
    "        for topics, label in zip(topics_arr, label_arr):\n",
    "            for tps in topics.split():\n",
    "                if tps in popularity.keys():\n",
    "                    popularity[tps].append(int(label))\n",
    "                else:\n",
    "                    popularity[tps] = [int(label)]\n",
    "\n",
    "        delete_keys = []\n",
    "        for i in popularity.keys():\n",
    "            if len(popularity[i]) < self.gate:\n",
    "                delete_keys.append(i)\n",
    "            else:\n",
    "                popularity[i] = sum(popularity[i]) / len(popularity[i])\n",
    "        for j in delete_keys:\n",
    "            popularity.pop(j, None)\n",
    "\n",
    "        total_mean = []\n",
    "        cnt_non_tps = 0\n",
    "        for topics in topics_arr:\n",
    "            tps_val = -1\n",
    "            choose_tps = ''\n",
    "            for tps in topics.split():\n",
    "                if tps not in popularity.keys():\n",
    "                    continue\n",
    "                if tps_val < popularity[tps]:\n",
    "                    tps_val = popularity[tps]\n",
    "                    choose_tps = tps\n",
    "            if topics == '' or choose_tps == '':\n",
    "                cnt_non_tps += 1\n",
    "                total_mean.append(-1)\n",
    "            else:\n",
    "                total_mean.append(popularity[choose_tps])\n",
    "\n",
    "        mean = (sum(total_mean) + cnt_non_tps) / (len(total_mean) - cnt_non_tps)\n",
    "        return popularity, mean\n",
    "\n",
    "\n",
    "    def fit(self,X,y=None):\n",
    "        self.topics_pop_dict, self.topics_pop_mean = self.get_train_topics_pop(X['topics'].fillna(\"\"), X['label'])\n",
    "        return self\n",
    "    \n",
    "    def transform(self,X,y=None):\n",
    "        X['topics_pop'] = self.get_topics_pop(X['topics'].fillna(\"\"))\n",
    "        X= X.drop(['topics', 'label'], axis=1)\n",
    "        return X\n",
    "    "
   ]
  },
  {
   "cell_type": "markdown",
   "id": "8ea4bf7e",
   "metadata": {},
   "source": [
    "注意，authortrans一定要擺在topic的前面，topics一定要擺在SC的前面(因為中間輸出會drop 有文字的colums)"
   ]
  },
  {
   "cell_type": "code",
   "execution_count": 314,
   "id": "c173fb3a",
   "metadata": {},
   "outputs": [],
   "source": [
    "from xgboost import XGBClassifier\n",
    "pipe1 = Pipeline([('author', AuthorTransFormer()),\n",
    "                  ('topics', TopicsTransFormer()),\n",
    "                  ('std', StandardScaler()),\n",
    "                  ('clf', XGBClassifier(objective=\"binary:logistic\", eval_metric=\"error\", random_state=42))])"
   ]
  },
  {
   "cell_type": "markdown",
   "id": "95d056ee",
   "metadata": {},
   "source": [
    "注意選擇需要的feature"
   ]
  },
  {
   "cell_type": "code",
   "execution_count": 297,
   "id": "450ef45d",
   "metadata": {},
   "outputs": [],
   "source": [
    "X_train = train_df[['dayhour', 'author_post', 'nn_percentage', 'rb_percentage', 'jj_percentage','links', 'popularity', 'article_len', 'vb_percentage', 'topics', 'author', 'label']]"
   ]
  },
  {
   "cell_type": "code",
   "execution_count": 298,
   "id": "eaf770fd",
   "metadata": {},
   "outputs": [],
   "source": [
    "from sklearn.model_selection import train_test_split\n",
    "X_train, X_val, y_train, y_val = train_test_split(X_train, train_df['label'], test_size=0.33, random_state=42)"
   ]
  },
  {
   "cell_type": "code",
   "execution_count": 299,
   "id": "10b31fc2",
   "metadata": {},
   "outputs": [
    {
     "name": "stderr",
     "output_type": "stream",
     "text": [
      "/home/michael1020/jinyu/env/lib64/python3.6/site-packages/xgboost/sklearn.py:1224: UserWarning: The use of label encoder in XGBClassifier is deprecated and will be removed in a future release. To remove this warning, do the following: 1) Pass option use_label_encoder=False when constructing XGBClassifier object; and 2) Encode your labels (y) as integers starting with 0, i.e. 0, 1, 2, ..., [num_class - 1].\n",
      "  warnings.warn(label_encoder_deprecation_msg, UserWarning)\n"
     ]
    },
    {
     "data": {
      "text/plain": [
       "Pipeline(steps=[('author', AuthorTransFormer()),\n",
       "                ('topics', TopicsTransFormer()), ('std', StandardScaler()),\n",
       "                ('clf',\n",
       "                 XGBClassifier(base_score=0.5, booster='gbtree',\n",
       "                               colsample_bylevel=1, colsample_bynode=1,\n",
       "                               colsample_bytree=1, enable_categorical=False,\n",
       "                               eval_metric='error', gamma=0, gpu_id=-1,\n",
       "                               importance_type=None, interaction_constraints='',\n",
       "                               learning_rate=0.300000012, max_delta_step=0,\n",
       "                               max_depth=6, min_child_weight=1, missing=nan,\n",
       "                               monotone_constraints='()', n_estimators=100,\n",
       "                               n_jobs=16, num_parallel_tree=1, predictor='auto',\n",
       "                               random_state=42, reg_alpha=0, reg_lambda=1,\n",
       "                               scale_pos_weight=1, subsample=1,\n",
       "                               tree_method='exact', validate_parameters=1,\n",
       "                               verbosity=None))])"
      ]
     },
     "execution_count": 299,
     "metadata": {},
     "output_type": "execute_result"
    }
   ],
   "source": [
    "pipe1.fit(X_train, y_train)"
   ]
  },
  {
   "cell_type": "code",
   "execution_count": 300,
   "id": "0c74bbce",
   "metadata": {},
   "outputs": [],
   "source": [
    "from sklearn.metrics import roc_auc_score\n",
    "score = roc_auc_score(y_val, pipe1.predict_proba(X_val)[:,1])"
   ]
  },
  {
   "cell_type": "code",
   "execution_count": 301,
   "id": "17385c4d",
   "metadata": {},
   "outputs": [
    {
     "name": "stdout",
     "output_type": "stream",
     "text": [
      "0.5210024267502322\n"
     ]
    }
   ],
   "source": [
    "print(score)"
   ]
  },
  {
   "cell_type": "code",
   "execution_count": null,
   "id": "a88fca10",
   "metadata": {},
   "outputs": [],
   "source": []
  }
 ],
 "metadata": {
  "kernelspec": {
   "display_name": "Python 3",
   "language": "python",
   "name": "python3"
  },
  "language_info": {
   "codemirror_mode": {
    "name": "ipython",
    "version": 3
   },
   "file_extension": ".py",
   "mimetype": "text/x-python",
   "name": "python",
   "nbconvert_exporter": "python",
   "pygments_lexer": "ipython3",
   "version": "3.6.8"
  }
 },
 "nbformat": 4,
 "nbformat_minor": 5
}
